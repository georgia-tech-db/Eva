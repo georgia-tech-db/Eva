{
 "cells": [
  {
   "cell_type": "code",
   "execution_count": 1,
   "metadata": {},
   "outputs": [
    {
     "name": "stdout",
     "output_type": "stream",
     "text": [
      "Populating the interactive namespace from numpy and matplotlib\n"
     ]
    },
    {
     "name": "stderr",
     "output_type": "stream",
     "text": [
      "Using TensorFlow backend.\n"
     ]
    }
   ],
   "source": [
    "%pylab inline\n",
    "import os\n",
    "import keras\n",
    "import numpy as np\n",
    "import pandas as pd\n",
    "import keras.backend as K\n",
    "import tensorflow as tf\n",
    "import sklearn.metrics as metrics\n",
    "\n",
    "import time\n",
    "\n",
    "from keras import callbacks\n",
    "from keras.models import Model\n",
    "from keras.optimizers import SGD\n",
    "from keras.layers import Dense, Input\n",
    "from keras.initializers import VarianceScaling\n",
    "from keras.engine.topology import Layer, InputSpec\n",
    "\n",
    "#from scipy.misc import imread\n",
    "from sklearn.cluster import KMeans\n",
    "from sklearn.metrics import accuracy_score, normalized_mutual_info_score\n"
   ]
  },
  {
   "cell_type": "code",
   "execution_count": 2,
   "metadata": {},
   "outputs": [],
   "source": [
    "# To stop potential randomness\n",
    "seed = 128\n",
    "rng = np.random.RandomState(seed)"
   ]
  },
  {
   "cell_type": "code",
   "execution_count": 3,
   "metadata": {},
   "outputs": [
    {
     "name": "stdout",
     "output_type": "stream",
     "text": [
      "/home/jbang36/eva/others/jupyter\n",
      "/home/jbang36/eva/others\n",
      "/home/jbang36/eva/others/data/mnist\n"
     ]
    }
   ],
   "source": [
    "print(os.getcwd())\n",
    "root_dir = os.path.abspath('../')\n",
    "data_dir = os.path.join(root_dir, 'data', 'mnist')\n",
    "print(root_dir)\n",
    "print(data_dir)"
   ]
  },
  {
   "cell_type": "code",
   "execution_count": 4,
   "metadata": {},
   "outputs": [],
   "source": [
    "(train_x, train_y), (test_x, test_y) = tf.keras.datasets.mnist.load_data()"
   ]
  },
  {
   "cell_type": "code",
   "execution_count": 5,
   "metadata": {},
   "outputs": [
    {
     "name": "stdout",
     "output_type": "stream",
     "text": [
      "8\n"
     ]
    },
    {
     "data": {
      "text/plain": [
       "<matplotlib.image.AxesImage at 0x7f00d4552240>"
      ]
     },
     "execution_count": 5,
     "metadata": {},
     "output_type": "execute_result"
    },
    {
     "data": {
      "image/png": "[encoded data removed]",
      "text/plain": [
       "<Figure size 432x288 with 1 Axes>"
      ]
     },
     "metadata": {
      "needs_background": "light"
     },
     "output_type": "display_data"
    }
   ],
   "source": [
    "import matplotlib.pyplot as plt\n",
    "image_index = 7777 # You may select anything up to 60,000\n",
    "print(train_y[image_index]) # The label is 8\n",
    "plt.imshow(train_x[image_index], cmap='Greys')"
   ]
  },
  {
   "cell_type": "code",
   "execution_count": 6,
   "metadata": {},
   "outputs": [],
   "source": [
    "train_x = train_x.reshape(-1, 784).astype('float32')\n",
    "test_x = test_x.reshape(-1, 784).astype('float32')\n",
    "train_x /= 255.0\n",
    "test_x /= 255.0"
   ]
  },
  {
   "cell_type": "code",
   "execution_count": 7,
   "metadata": {},
   "outputs": [
    {
     "name": "stdout",
     "output_type": "stream",
     "text": [
      "_________________________________________________________________\n",
      "Layer (type)                 Output Shape              Param #   \n",
      "=================================================================\n",
      "input_1 (InputLayer)         (None, 784)               0         \n",
      "_________________________________________________________________\n",
      "dense_1 (Dense)              (None, 500)               392500    \n",
      "_________________________________________________________________\n",
      "dense_2 (Dense)              (None, 500)               250500    \n",
      "_________________________________________________________________\n",
      "dense_3 (Dense)              (None, 2000)              1002000   \n",
      "_________________________________________________________________\n",
      "dense_4 (Dense)              (None, 10)                20010     \n",
      "_________________________________________________________________\n",
      "dense_5 (Dense)              (None, 2000)              22000     \n",
      "_________________________________________________________________\n",
      "dense_6 (Dense)              (None, 500)               1000500   \n",
      "_________________________________________________________________\n",
      "dense_7 (Dense)              (None, 500)               250500    \n",
      "_________________________________________________________________\n",
      "dense_8 (Dense)              (None, 784)               392784    \n",
      "=================================================================\n",
      "Total params: 3,330,794\n",
      "Trainable params: 3,330,794\n",
      "Non-trainable params: 0\n",
      "_________________________________________________________________\n"
     ]
    }
   ],
   "source": [
    "#Autoencoder network\n",
    "# this is our input placeholder\n",
    "input_img = Input(shape=(784,))\n",
    "\n",
    "# \"encoded\" is the encoded representation of the input\n",
    "encoded = Dense(500, activation='relu')(input_img)\n",
    "encoded = Dense(500, activation='relu')(encoded)\n",
    "encoded = Dense(2000, activation='relu')(encoded)\n",
    "\n",
    "#Value I want to play around with is thisi signmoid\n",
    "encoded = Dense(10, activation='sigmoid')(encoded)\n",
    "\n",
    "# \"decoded\" is the lossy reconstruction of the input\n",
    "decoded = Dense(2000, activation='relu')(encoded)\n",
    "decoded = Dense(500, activation='relu')(decoded)\n",
    "decoded = Dense(500, activation='relu')(decoded)\n",
    "decoded = Dense(784)(decoded)\n",
    "\n",
    "# this model maps an input to its reconstruction\n",
    "autoencoder = Model(input_img, decoded)\n",
    "autoencoder.summary()\n",
    "encoder = Model(input_img, encoded)\n",
    "autoencoder.compile(optimizer='adam', loss='mse')"
   ]
  },
  {
   "cell_type": "code",
   "execution_count": 8,
   "metadata": {},
   "outputs": [
    {
     "name": "stdout",
     "output_type": "stream",
     "text": [
      "Train on 60000 samples, validate on 10000 samples\n",
      "Epoch 1/200\n",
      "60000/60000 [==============================] - 4s 60us/step - loss: 0.0738 - val_loss: 0.0647\n",
      "Epoch 2/200\n",
      "60000/60000 [==============================] - 1s 11us/step - loss: 0.0639 - val_loss: 0.0635\n",
      "Epoch 3/200\n",
      "60000/60000 [==============================] - 1s 11us/step - loss: 0.0630 - val_loss: 0.0605\n",
      "Epoch 4/200\n",
      "60000/60000 [==============================] - 1s 11us/step - loss: 0.0556 - val_loss: 0.0506\n",
      "Epoch 5/200\n",
      "60000/60000 [==============================] - 1s 11us/step - loss: 0.0467 - val_loss: 0.0424\n",
      "Epoch 6/200\n",
      "60000/60000 [==============================] - 1s 11us/step - loss: 0.0394 - val_loss: 0.0365\n",
      "Epoch 7/200\n",
      "60000/60000 [==============================] - 1s 11us/step - loss: 0.0346 - val_loss: 0.0326\n",
      "Epoch 8/200\n",
      "60000/60000 [==============================] - 1s 11us/step - loss: 0.0315 - val_loss: 0.0295\n",
      "Epoch 9/200\n",
      "60000/60000 [==============================] - 1s 11us/step - loss: 0.0291 - val_loss: 0.0277\n",
      "Epoch 10/200\n",
      "60000/60000 [==============================] - 1s 11us/step - loss: 0.0274 - val_loss: 0.0264\n",
      "Epoch 11/200\n",
      "60000/60000 [==============================] - 1s 11us/step - loss: 0.0259 - val_loss: 0.0249\n",
      "Epoch 12/200\n",
      "60000/60000 [==============================] - 1s 11us/step - loss: 0.0250 - val_loss: 0.0241\n",
      "Epoch 13/200\n",
      "60000/60000 [==============================] - 1s 11us/step - loss: 0.0239 - val_loss: 0.0233\n",
      "Epoch 14/200\n",
      "60000/60000 [==============================] - 1s 12us/step - loss: 0.0231 - val_loss: 0.0225\n",
      "Epoch 15/200\n",
      "60000/60000 [==============================] - 1s 11us/step - loss: 0.0225 - val_loss: 0.0222\n",
      "Epoch 16/200\n",
      "60000/60000 [==============================] - 1s 11us/step - loss: 0.0219 - val_loss: 0.0215\n",
      "Epoch 17/200\n",
      "60000/60000 [==============================] - 1s 12us/step - loss: 0.0216 - val_loss: 0.0213\n",
      "Epoch 18/200\n",
      "60000/60000 [==============================] - 1s 11us/step - loss: 0.0210 - val_loss: 0.0206\n",
      "Epoch 19/200\n",
      "60000/60000 [==============================] - 1s 11us/step - loss: 0.0207 - val_loss: 0.0204\n",
      "Epoch 20/200\n",
      "60000/60000 [==============================] - 1s 11us/step - loss: 0.0202 - val_loss: 0.0200\n",
      "Epoch 21/200\n",
      "60000/60000 [==============================] - 1s 11us/step - loss: 0.0202 - val_loss: 0.0199\n",
      "Epoch 22/200\n",
      "60000/60000 [==============================] - 1s 11us/step - loss: 0.0197 - val_loss: 0.0195\n",
      "Epoch 23/200\n",
      "60000/60000 [==============================] - 1s 11us/step - loss: 0.0196 - val_loss: 0.0195\n",
      "Epoch 24/200\n",
      "60000/60000 [==============================] - 1s 11us/step - loss: 0.0193 - val_loss: 0.0191\n",
      "Epoch 25/200\n",
      "60000/60000 [==============================] - 1s 12us/step - loss: 0.0191 - val_loss: 0.0191\n",
      "Epoch 26/200\n",
      "60000/60000 [==============================] - 1s 11us/step - loss: 0.0188 - val_loss: 0.0187\n",
      "Epoch 27/200\n",
      "60000/60000 [==============================] - 1s 11us/step - loss: 0.0187 - val_loss: 0.0186\n",
      "Epoch 28/200\n",
      "60000/60000 [==============================] - 1s 11us/step - loss: 0.0184 - val_loss: 0.0187\n",
      "Epoch 29/200\n",
      "60000/60000 [==============================] - 1s 11us/step - loss: 0.0183 - val_loss: 0.0184\n",
      "Epoch 30/200\n",
      "60000/60000 [==============================] - 1s 10us/step - loss: 0.0181 - val_loss: 0.0183\n",
      "Epoch 31/200\n",
      "60000/60000 [==============================] - 1s 10us/step - loss: 0.0180 - val_loss: 0.0179\n",
      "Epoch 32/200\n",
      "60000/60000 [==============================] - 1s 12us/step - loss: 0.0179 - val_loss: 0.0179\n",
      "Epoch 33/200\n",
      "60000/60000 [==============================] - 1s 12us/step - loss: 0.0177 - val_loss: 0.0178\n",
      "Epoch 34/200\n",
      "60000/60000 [==============================] - 1s 11us/step - loss: 0.0176 - val_loss: 0.0178\n",
      "Epoch 35/200\n",
      "60000/60000 [==============================] - 1s 11us/step - loss: 0.0174 - val_loss: 0.0176\n",
      "Epoch 36/200\n",
      "60000/60000 [==============================] - 1s 10us/step - loss: 0.0173 - val_loss: 0.0175\n",
      "Epoch 37/200\n",
      "60000/60000 [==============================] - 1s 12us/step - loss: 0.0172 - val_loss: 0.0173\n",
      "Epoch 38/200\n",
      "60000/60000 [==============================] - 1s 11us/step - loss: 0.0171 - val_loss: 0.0173\n",
      "Epoch 39/200\n",
      "60000/60000 [==============================] - 1s 12us/step - loss: 0.0170 - val_loss: 0.0172\n",
      "Epoch 40/200\n",
      "60000/60000 [==============================] - 1s 13us/step - loss: 0.0169 - val_loss: 0.0171\n",
      "Epoch 41/200\n",
      "60000/60000 [==============================] - 1s 11us/step - loss: 0.0168 - val_loss: 0.0170\n",
      "Epoch 42/200\n",
      "60000/60000 [==============================] - 1s 11us/step - loss: 0.0168 - val_loss: 0.0171\n",
      "Epoch 43/200\n",
      "60000/60000 [==============================] - 1s 11us/step - loss: 0.0166 - val_loss: 0.0170\n",
      "Epoch 44/200\n",
      "60000/60000 [==============================] - 1s 10us/step - loss: 0.0165 - val_loss: 0.0167\n",
      "Epoch 45/200\n",
      "60000/60000 [==============================] - 1s 10us/step - loss: 0.0165 - val_loss: 0.0167\n",
      "Epoch 46/200\n",
      "60000/60000 [==============================] - 1s 9us/step - loss: 0.0163 - val_loss: 0.0166\n",
      "Epoch 47/200\n",
      "60000/60000 [==============================] - 1s 10us/step - loss: 0.0163 - val_loss: 0.0166\n",
      "Epoch 48/200\n",
      "60000/60000 [==============================] - 1s 11us/step - loss: 0.0162 - val_loss: 0.0165\n",
      "Epoch 49/200\n",
      "60000/60000 [==============================] - 1s 11us/step - loss: 0.0161 - val_loss: 0.0164\n",
      "Epoch 50/200\n",
      "60000/60000 [==============================] - 1s 11us/step - loss: 0.0160 - val_loss: 0.0165\n",
      "Epoch 51/200\n",
      "60000/60000 [==============================] - 1s 12us/step - loss: 0.0160 - val_loss: 0.0163\n",
      "Epoch 52/200\n",
      "60000/60000 [==============================] - 1s 11us/step - loss: 0.0158 - val_loss: 0.0162\n",
      "Epoch 53/200\n",
      "60000/60000 [==============================] - 1s 11us/step - loss: 0.0158 - val_loss: 0.0161\n",
      "Epoch 54/200\n",
      "60000/60000 [==============================] - 1s 11us/step - loss: 0.0156 - val_loss: 0.0161\n",
      "Epoch 55/200\n",
      "60000/60000 [==============================] - 1s 10us/step - loss: 0.0157 - val_loss: 0.0160\n",
      "Epoch 56/200\n",
      "60000/60000 [==============================] - 1s 10us/step - loss: 0.0156 - val_loss: 0.0163\n",
      "Epoch 57/200\n",
      "60000/60000 [==============================] - 1s 11us/step - loss: 0.0155 - val_loss: 0.0160\n",
      "Epoch 58/200\n",
      "60000/60000 [==============================] - 1s 11us/step - loss: 0.0155 - val_loss: 0.0160\n",
      "Epoch 59/200\n",
      "60000/60000 [==============================] - 1s 11us/step - loss: 0.0154 - val_loss: 0.0158\n",
      "Epoch 60/200\n",
      "60000/60000 [==============================] - 1s 11us/step - loss: 0.0154 - val_loss: 0.0158\n",
      "Epoch 61/200\n",
      "60000/60000 [==============================] - 1s 11us/step - loss: 0.0152 - val_loss: 0.0158\n",
      "Epoch 62/200\n",
      "60000/60000 [==============================] - 1s 13us/step - loss: 0.0153 - val_loss: 0.0158\n",
      "Epoch 63/200\n",
      "60000/60000 [==============================] - 1s 12us/step - loss: 0.0151 - val_loss: 0.0157\n",
      "Epoch 64/200\n",
      "60000/60000 [==============================] - 1s 11us/step - loss: 0.0151 - val_loss: 0.0156\n",
      "Epoch 65/200\n",
      "60000/60000 [==============================] - 1s 11us/step - loss: 0.0150 - val_loss: 0.0157\n",
      "Epoch 66/200\n",
      "60000/60000 [==============================] - 1s 11us/step - loss: 0.0149 - val_loss: 0.0155\n",
      "Epoch 67/200\n",
      "60000/60000 [==============================] - 1s 12us/step - loss: 0.0150 - val_loss: 0.0154\n",
      "Epoch 68/200\n",
      "60000/60000 [==============================] - 1s 11us/step - loss: 0.0149 - val_loss: 0.0154\n",
      "Epoch 69/200\n",
      "60000/60000 [==============================] - 1s 11us/step - loss: 0.0148 - val_loss: 0.0154\n",
      "Epoch 70/200\n",
      "60000/60000 [==============================] - 1s 11us/step - loss: 0.0147 - val_loss: 0.0155\n",
      "Epoch 71/200\n",
      "60000/60000 [==============================] - 1s 11us/step - loss: 0.0147 - val_loss: 0.0153\n",
      "Epoch 72/200\n",
      "60000/60000 [==============================] - 1s 11us/step - loss: 0.0146 - val_loss: 0.0152\n",
      "Epoch 73/200\n",
      "60000/60000 [==============================] - 1s 11us/step - loss: 0.0146 - val_loss: 0.0152\n",
      "Epoch 74/200\n",
      "60000/60000 [==============================] - 1s 10us/step - loss: 0.0145 - val_loss: 0.0153\n",
      "Epoch 75/200\n",
      "60000/60000 [==============================] - 1s 11us/step - loss: 0.0146 - val_loss: 0.0151\n",
      "Epoch 76/200\n",
      "60000/60000 [==============================] - 1s 11us/step - loss: 0.0144 - val_loss: 0.0156\n",
      "Epoch 77/200\n"
     ]
    },
    {
     "name": "stdout",
     "output_type": "stream",
     "text": [
      "60000/60000 [==============================] - 1s 13us/step - loss: 0.0145 - val_loss: 0.0151\n",
      "Epoch 78/200\n",
      "60000/60000 [==============================] - 1s 11us/step - loss: 0.0144 - val_loss: 0.0151\n",
      "Epoch 79/200\n",
      "60000/60000 [==============================] - 1s 10us/step - loss: 0.0143 - val_loss: 0.0150\n",
      "Epoch 80/200\n",
      "60000/60000 [==============================] - 1s 10us/step - loss: 0.0143 - val_loss: 0.0151\n",
      "Epoch 81/200\n",
      "60000/60000 [==============================] - 1s 10us/step - loss: 0.0142 - val_loss: 0.0149\n",
      "Epoch 82/200\n",
      "60000/60000 [==============================] - 1s 11us/step - loss: 0.0143 - val_loss: 0.0149\n",
      "Epoch 83/200\n",
      "60000/60000 [==============================] - 1s 10us/step - loss: 0.0141 - val_loss: 0.0149\n",
      "Epoch 84/200\n",
      "60000/60000 [==============================] - 1s 10us/step - loss: 0.0141 - val_loss: 0.0149\n",
      "Epoch 85/200\n",
      "60000/60000 [==============================] - 1s 10us/step - loss: 0.0140 - val_loss: 0.0149\n",
      "Epoch 86/200\n",
      "60000/60000 [==============================] - 1s 10us/step - loss: 0.0140 - val_loss: 0.0151\n",
      "Epoch 87/200\n",
      "60000/60000 [==============================] - 1s 11us/step - loss: 0.0140 - val_loss: 0.0148\n",
      "Epoch 88/200\n",
      "60000/60000 [==============================] - 1s 11us/step - loss: 0.0139 - val_loss: 0.0147\n",
      "Epoch 89/200\n",
      "60000/60000 [==============================] - 1s 11us/step - loss: 0.0139 - val_loss: 0.0147\n",
      "Epoch 90/200\n",
      "60000/60000 [==============================] - 1s 11us/step - loss: 0.0139 - val_loss: 0.0148\n",
      "Epoch 91/200\n",
      "60000/60000 [==============================] - 1s 11us/step - loss: 0.0139 - val_loss: 0.0147\n",
      "Epoch 92/200\n",
      "60000/60000 [==============================] - 1s 11us/step - loss: 0.0138 - val_loss: 0.0148\n",
      "Epoch 93/200\n",
      "60000/60000 [==============================] - 1s 10us/step - loss: 0.0137 - val_loss: 0.0146\n",
      "Epoch 94/200\n",
      "60000/60000 [==============================] - 1s 10us/step - loss: 0.0137 - val_loss: 0.0148\n",
      "Epoch 95/200\n",
      "60000/60000 [==============================] - 1s 10us/step - loss: 0.0138 - val_loss: 0.0145\n",
      "Epoch 96/200\n",
      "60000/60000 [==============================] - 1s 12us/step - loss: 0.0136 - val_loss: 0.0146\n",
      "Epoch 97/200\n",
      "60000/60000 [==============================] - 1s 12us/step - loss: 0.0137 - val_loss: 0.0148\n",
      "Epoch 98/200\n",
      "60000/60000 [==============================] - 1s 11us/step - loss: 0.0136 - val_loss: 0.0146\n",
      "Epoch 99/200\n",
      "60000/60000 [==============================] - 1s 11us/step - loss: 0.0135 - val_loss: 0.0145\n",
      "Epoch 100/200\n",
      "60000/60000 [==============================] - 1s 11us/step - loss: 0.0135 - val_loss: 0.0145\n",
      "Epoch 101/200\n",
      "60000/60000 [==============================] - 1s 11us/step - loss: 0.0135 - val_loss: 0.0144\n",
      "Epoch 102/200\n",
      "60000/60000 [==============================] - 1s 10us/step - loss: 0.0135 - val_loss: 0.0144\n",
      "Epoch 103/200\n",
      "60000/60000 [==============================] - 1s 10us/step - loss: 0.0134 - val_loss: 0.0144\n",
      "Epoch 104/200\n",
      "60000/60000 [==============================] - 1s 10us/step - loss: 0.0134 - val_loss: 0.0144\n",
      "Epoch 105/200\n",
      "60000/60000 [==============================] - 1s 10us/step - loss: 0.0134 - val_loss: 0.0143\n",
      "Epoch 106/200\n",
      "60000/60000 [==============================] - 1s 10us/step - loss: 0.0134 - val_loss: 0.0144\n",
      "Epoch 107/200\n",
      "60000/60000 [==============================] - 1s 10us/step - loss: 0.0133 - val_loss: 0.0142\n",
      "Epoch 108/200\n",
      "60000/60000 [==============================] - 1s 11us/step - loss: 0.0132 - val_loss: 0.0143\n",
      "Epoch 109/200\n",
      "60000/60000 [==============================] - 1s 11us/step - loss: 0.0132 - val_loss: 0.0142\n",
      "Epoch 110/200\n",
      "60000/60000 [==============================] - 1s 11us/step - loss: 0.0132 - val_loss: 0.0142\n",
      "Epoch 111/200\n",
      "60000/60000 [==============================] - 1s 11us/step - loss: 0.0132 - val_loss: 0.0142\n",
      "Epoch 112/200\n",
      "60000/60000 [==============================] - 1s 11us/step - loss: 0.0132 - val_loss: 0.0142\n",
      "Epoch 113/200\n",
      "60000/60000 [==============================] - 1s 10us/step - loss: 0.0131 - val_loss: 0.0142\n",
      "Epoch 114/200\n",
      "60000/60000 [==============================] - 1s 11us/step - loss: 0.0132 - val_loss: 0.0142\n",
      "Epoch 115/200\n",
      "60000/60000 [==============================] - 1s 11us/step - loss: 0.0131 - val_loss: 0.0141\n",
      "Epoch 116/200\n",
      "60000/60000 [==============================] - 1s 11us/step - loss: 0.0130 - val_loss: 0.0142\n",
      "Epoch 117/200\n",
      "60000/60000 [==============================] - 1s 11us/step - loss: 0.0131 - val_loss: 0.0141\n",
      "Epoch 118/200\n",
      "60000/60000 [==============================] - 1s 13us/step - loss: 0.0129 - val_loss: 0.0141\n",
      "Epoch 119/200\n",
      "60000/60000 [==============================] - 1s 11us/step - loss: 0.0129 - val_loss: 0.0141\n",
      "Epoch 120/200\n",
      "60000/60000 [==============================] - 1s 11us/step - loss: 0.0129 - val_loss: 0.0141\n",
      "Epoch 121/200\n",
      "60000/60000 [==============================] - 1s 11us/step - loss: 0.0129 - val_loss: 0.0141\n",
      "Epoch 122/200\n",
      "60000/60000 [==============================] - 1s 11us/step - loss: 0.0129 - val_loss: 0.0140\n",
      "Epoch 123/200\n",
      "60000/60000 [==============================] - 1s 11us/step - loss: 0.0129 - val_loss: 0.0139\n",
      "Epoch 124/200\n",
      "60000/60000 [==============================] - 1s 11us/step - loss: 0.0128 - val_loss: 0.0140\n",
      "Epoch 125/200\n",
      "60000/60000 [==============================] - 1s 11us/step - loss: 0.0128 - val_loss: 0.0140\n",
      "Epoch 126/200\n",
      "60000/60000 [==============================] - 1s 11us/step - loss: 0.0127 - val_loss: 0.0141\n",
      "Epoch 127/200\n",
      "60000/60000 [==============================] - 1s 11us/step - loss: 0.0128 - val_loss: 0.0140\n",
      "Epoch 128/200\n",
      "60000/60000 [==============================] - 1s 11us/step - loss: 0.0128 - val_loss: 0.0140\n",
      "Epoch 129/200\n",
      "60000/60000 [==============================] - 1s 11us/step - loss: 0.0127 - val_loss: 0.0140\n",
      "Epoch 130/200\n",
      "60000/60000 [==============================] - 1s 11us/step - loss: 0.0127 - val_loss: 0.0139\n",
      "Epoch 131/200\n",
      "60000/60000 [==============================] - 1s 13us/step - loss: 0.0127 - val_loss: 0.0139\n",
      "Epoch 132/200\n",
      "60000/60000 [==============================] - 1s 11us/step - loss: 0.0126 - val_loss: 0.0140\n",
      "Epoch 133/200\n",
      "60000/60000 [==============================] - 1s 11us/step - loss: 0.0126 - val_loss: 0.0139\n",
      "Epoch 134/200\n",
      "60000/60000 [==============================] - 1s 11us/step - loss: 0.0126 - val_loss: 0.0140\n",
      "Epoch 135/200\n",
      "60000/60000 [==============================] - 1s 11us/step - loss: 0.0125 - val_loss: 0.0139\n",
      "Epoch 136/200\n",
      "60000/60000 [==============================] - 1s 11us/step - loss: 0.0125 - val_loss: 0.0138\n",
      "Epoch 137/200\n",
      "60000/60000 [==============================] - 1s 11us/step - loss: 0.0125 - val_loss: 0.0137\n",
      "Epoch 138/200\n",
      "60000/60000 [==============================] - 1s 11us/step - loss: 0.0125 - val_loss: 0.0138\n",
      "Epoch 139/200\n",
      "60000/60000 [==============================] - 1s 11us/step - loss: 0.0125 - val_loss: 0.0138\n",
      "Epoch 140/200\n",
      "60000/60000 [==============================] - 1s 11us/step - loss: 0.0125 - val_loss: 0.0138\n",
      "Epoch 141/200\n",
      "60000/60000 [==============================] - 1s 11us/step - loss: 0.0124 - val_loss: 0.0137\n",
      "Epoch 142/200\n",
      "60000/60000 [==============================] - 1s 11us/step - loss: 0.0124 - val_loss: 0.0137\n",
      "Epoch 143/200\n",
      "60000/60000 [==============================] - 1s 11us/step - loss: 0.0123 - val_loss: 0.0137\n",
      "Epoch 144/200\n",
      "60000/60000 [==============================] - 1s 11us/step - loss: 0.0125 - val_loss: 0.0138\n",
      "Epoch 145/200\n",
      "60000/60000 [==============================] - 1s 12us/step - loss: 0.0123 - val_loss: 0.0137\n",
      "Epoch 146/200\n",
      "60000/60000 [==============================] - 1s 10us/step - loss: 0.0124 - val_loss: 0.0136\n",
      "Epoch 147/200\n",
      "60000/60000 [==============================] - 1s 9us/step - loss: 0.0123 - val_loss: 0.0136\n",
      "Epoch 148/200\n",
      "60000/60000 [==============================] - 1s 9us/step - loss: 0.0124 - val_loss: 0.0137\n",
      "Epoch 149/200\n",
      "60000/60000 [==============================] - 1s 9us/step - loss: 0.0122 - val_loss: 0.0136\n",
      "Epoch 150/200\n",
      "60000/60000 [==============================] - 1s 10us/step - loss: 0.0122 - val_loss: 0.0136\n",
      "Epoch 151/200\n",
      "60000/60000 [==============================] - 1s 11us/step - loss: 0.0122 - val_loss: 0.0136\n",
      "Epoch 152/200\n",
      "60000/60000 [==============================] - 1s 11us/step - loss: 0.0121 - val_loss: 0.0136\n",
      "Epoch 153/200\n"
     ]
    },
    {
     "name": "stdout",
     "output_type": "stream",
     "text": [
      "60000/60000 [==============================] - 1s 12us/step - loss: 0.0123 - val_loss: 0.0137\n",
      "Epoch 154/200\n",
      "60000/60000 [==============================] - 1s 11us/step - loss: 0.0121 - val_loss: 0.0135\n",
      "Epoch 155/200\n",
      "60000/60000 [==============================] - 1s 11us/step - loss: 0.0121 - val_loss: 0.0135\n",
      "Epoch 156/200\n",
      "60000/60000 [==============================] - 1s 11us/step - loss: 0.0121 - val_loss: 0.0137\n",
      "Epoch 157/200\n",
      "60000/60000 [==============================] - 1s 11us/step - loss: 0.0121 - val_loss: 0.0135\n",
      "Epoch 158/200\n",
      "60000/60000 [==============================] - 1s 11us/step - loss: 0.0121 - val_loss: 0.0135\n",
      "Epoch 159/200\n",
      "60000/60000 [==============================] - 1s 11us/step - loss: 0.0121 - val_loss: 0.0135\n",
      "Epoch 160/200\n",
      "60000/60000 [==============================] - 1s 11us/step - loss: 0.0121 - val_loss: 0.0135\n",
      "Epoch 161/200\n",
      "60000/60000 [==============================] - 1s 11us/step - loss: 0.0120 - val_loss: 0.0135\n",
      "Epoch 162/200\n",
      "60000/60000 [==============================] - 1s 11us/step - loss: 0.0120 - val_loss: 0.0136\n",
      "Epoch 163/200\n",
      "60000/60000 [==============================] - 1s 11us/step - loss: 0.0120 - val_loss: 0.0134\n",
      "Epoch 164/200\n",
      "60000/60000 [==============================] - 1s 10us/step - loss: 0.0120 - val_loss: 0.0134\n",
      "Epoch 165/200\n",
      "60000/60000 [==============================] - 1s 10us/step - loss: 0.0120 - val_loss: 0.0135\n",
      "Epoch 166/200\n",
      "60000/60000 [==============================] - 1s 11us/step - loss: 0.0119 - val_loss: 0.0134\n",
      "Epoch 167/200\n",
      "60000/60000 [==============================] - 1s 11us/step - loss: 0.0119 - val_loss: 0.0135\n",
      "Epoch 168/200\n",
      "60000/60000 [==============================] - 1s 11us/step - loss: 0.0119 - val_loss: 0.0134\n",
      "Epoch 169/200\n",
      "60000/60000 [==============================] - 1s 11us/step - loss: 0.0119 - val_loss: 0.0134\n",
      "Epoch 170/200\n",
      "60000/60000 [==============================] - 1s 10us/step - loss: 0.0119 - val_loss: 0.0135\n",
      "Epoch 171/200\n",
      "60000/60000 [==============================] - 1s 11us/step - loss: 0.0119 - val_loss: 0.0133\n",
      "Epoch 172/200\n",
      "60000/60000 [==============================] - 1s 11us/step - loss: 0.0118 - val_loss: 0.0134\n",
      "Epoch 173/200\n",
      "60000/60000 [==============================] - 1s 10us/step - loss: 0.0119 - val_loss: 0.0133\n",
      "Epoch 174/200\n",
      "60000/60000 [==============================] - 1s 10us/step - loss: 0.0118 - val_loss: 0.0133\n",
      "Epoch 175/200\n",
      "60000/60000 [==============================] - 1s 10us/step - loss: 0.0118 - val_loss: 0.0135\n",
      "Epoch 176/200\n",
      "60000/60000 [==============================] - 1s 10us/step - loss: 0.0118 - val_loss: 0.0133\n",
      "Epoch 177/200\n",
      "60000/60000 [==============================] - 1s 11us/step - loss: 0.0118 - val_loss: 0.0134\n",
      "Epoch 178/200\n",
      "60000/60000 [==============================] - 1s 11us/step - loss: 0.0118 - val_loss: 0.0134\n",
      "Epoch 179/200\n",
      "60000/60000 [==============================] - 1s 11us/step - loss: 0.0118 - val_loss: 0.0134\n",
      "Epoch 180/200\n",
      "60000/60000 [==============================] - 1s 11us/step - loss: 0.0117 - val_loss: 0.0134\n",
      "Epoch 181/200\n",
      "60000/60000 [==============================] - 1s 11us/step - loss: 0.0117 - val_loss: 0.0133\n",
      "Epoch 182/200\n",
      "60000/60000 [==============================] - 1s 13us/step - loss: 0.0116 - val_loss: 0.0133\n",
      "Epoch 183/200\n",
      "60000/60000 [==============================] - 1s 11us/step - loss: 0.0117 - val_loss: 0.0134\n",
      "Epoch 184/200\n",
      "60000/60000 [==============================] - 1s 11us/step - loss: 0.0117 - val_loss: 0.0133\n",
      "Epoch 185/200\n",
      "60000/60000 [==============================] - 1s 11us/step - loss: 0.0116 - val_loss: 0.0133\n",
      "Epoch 186/200\n",
      "60000/60000 [==============================] - 1s 11us/step - loss: 0.0117 - val_loss: 0.0133\n",
      "Epoch 187/200\n",
      "60000/60000 [==============================] - 1s 11us/step - loss: 0.0116 - val_loss: 0.0133\n",
      "Epoch 188/200\n",
      "60000/60000 [==============================] - 1s 11us/step - loss: 0.0116 - val_loss: 0.0133\n",
      "Epoch 189/200\n",
      "60000/60000 [==============================] - 1s 11us/step - loss: 0.0116 - val_loss: 0.0133\n",
      "Epoch 190/200\n",
      "60000/60000 [==============================] - 1s 11us/step - loss: 0.0116 - val_loss: 0.0134\n",
      "Epoch 191/200\n",
      "60000/60000 [==============================] - 1s 11us/step - loss: 0.0116 - val_loss: 0.0133\n",
      "Epoch 192/200\n",
      "60000/60000 [==============================] - 1s 11us/step - loss: 0.0116 - val_loss: 0.0133\n",
      "Epoch 193/200\n",
      "60000/60000 [==============================] - 1s 11us/step - loss: 0.0116 - val_loss: 0.0132\n",
      "Epoch 194/200\n",
      "60000/60000 [==============================] - 1s 11us/step - loss: 0.0115 - val_loss: 0.0132\n",
      "Epoch 195/200\n",
      "60000/60000 [==============================] - 1s 11us/step - loss: 0.0116 - val_loss: 0.0133\n",
      "Epoch 196/200\n",
      "60000/60000 [==============================] - 1s 11us/step - loss: 0.0115 - val_loss: 0.0134\n",
      "Epoch 197/200\n",
      "60000/60000 [==============================] - 1s 11us/step - loss: 0.0116 - val_loss: 0.0132\n",
      "Epoch 198/200\n",
      "60000/60000 [==============================] - 1s 11us/step - loss: 0.0114 - val_loss: 0.0131\n",
      "Epoch 199/200\n",
      "60000/60000 [==============================] - 1s 11us/step - loss: 0.0115 - val_loss: 0.0132\n",
      "Epoch 200/200\n",
      "60000/60000 [==============================] - 1s 11us/step - loss: 0.0114 - val_loss: 0.0132\n"
     ]
    }
   ],
   "source": [
    "train_history = autoencoder.fit(train_x, train_x, epochs=200, batch_size=2048, validation_data=(test_x, test_x))\n"
   ]
  },
  {
   "cell_type": "code",
   "execution_count": 9,
   "metadata": {},
   "outputs": [],
   "source": [
    "pred_auto_train = encoder.predict(train_x)\n",
    "pred_auto = encoder.predict(test_x)"
   ]
  },
  {
   "cell_type": "code",
   "execution_count": 10,
   "metadata": {},
   "outputs": [
    {
     "name": "stdout",
     "output_type": "stream",
     "text": [
      "[0.80977505 0.12959942 0.3405935  0.6722396  0.41602293 0.71425617\n",
      " 0.813507   0.6283709  0.14332438 0.22720961]\n",
      "[0.17451365 0.3762826  0.52468884 0.74122053 0.45649487 0.6522731\n",
      " 0.58688444 0.4142691  0.6644179  0.49010903]\n",
      "4.62 µs ± 666 ns per loop (mean ± std. dev. of 7 runs, 100000 loops each)\n"
     ]
    }
   ],
   "source": [
    "print(pred_auto_train[0])\n",
    "print(pred_auto_train[1])\n",
    "%timeit np.linalg.norm(pred_auto_train[0] - pred_auto_train[0])"
   ]
  },
  {
   "cell_type": "code",
   "execution_count": 11,
   "metadata": {},
   "outputs": [
    {
     "name": "stdout",
     "output_type": "stream",
     "text": [
      "[5 0 4 1 9 2 1 3 1 4 3 5 3 6 1 7 2 8 6 9 4 0 9 1 1 2 4 3 2 7 3 8 6 9 0 5 6\n",
      " 0 7 6 1 8 7 9 3 9 8 5 9 3 3 0 7 4 9 8 0 9 4 1 4 4 6 0 4 5 6 1 0 0 1 7 1 6\n",
      " 3 0 2 1 1 7 9 0 2 6 7 8 3 9 0 4 6 7 4 6 8 0 7 8 3 1]\n"
     ]
    }
   ],
   "source": [
    "# Compute the L2 distance matrix\n",
    "\n",
    "print(train_y[:100])\n",
    "\n",
    "n_train = len(pred_auto_train)\n",
    "n_train = 1000\n",
    "dist_m = np.ndarray(shape = (n_train, n_train))"
   ]
  },
  {
   "cell_type": "code",
   "execution_count": 12,
   "metadata": {},
   "outputs": [],
   "source": [
    "for i in range(n_train):\n",
    "    for j in range(n_train):\n",
    "        if j <= i:\n",
    "            # Make dist with itself and repeating distances irrelevant\n",
    "            dist_m[i][j] = -1\n",
    "        else:\n",
    "            dist_m[i][j] = np.linalg.norm(pred_auto_train[i] - pred_auto_train[j])"
   ]
  },
  {
   "cell_type": "code",
   "execution_count": 14,
   "metadata": {},
   "outputs": [],
   "source": [
    "dist_flattened = np.reshape(dist_m, (1, -1))\n",
    "dist_done = dist_flattened[dist_flattened != -1]\n",
    "\n"
   ]
  },
  {
   "cell_type": "code",
   "execution_count": null,
   "metadata": {},
   "outputs": [],
   "source": [
    "\"\"\"\n",
    "buckets = np.linspace(0,1000,10000)\n",
    "buckets_count = np.zeros(10000)\n",
    "\n",
    "points_not_categorized = 0\n",
    "for i in range(len(dist_flattened)):\n",
    "    if dist_flattened[i] != -1:\n",
    "        # we have granularity of 0.1 \n",
    "        index_conversion = int(dist_flattened * 10)\n",
    "        if index_conversion > len(buckets_count): \n",
    "            points_not_categorized += 1\n",
    "        else:    \n",
    "            buckets_count[index_conversion] += 1\n",
    "\"\"\"\n"
   ]
  },
  {
   "cell_type": "code",
   "execution_count": 16,
   "metadata": {},
   "outputs": [
    {
     "data": {
      "text/plain": [
       "(array([1., 0., 0., ..., 0., 0., 1.]),\n",
       " array([0.04013323, 0.04030069, 0.04046814, ..., 1.71435685, 1.7145243 ,\n",
       "        1.71469176]),\n",
       " <a list of 10000 Patch objects>)"
      ]
     },
     "execution_count": 16,
     "metadata": {},
     "output_type": "execute_result"
    },
    {
     "name": "stderr",
     "output_type": "stream",
     "text": [
      "/nethome/jbang36/anaconda3/envs/jb_py35/lib/python3.5/site-packages/matplotlib/figure.py:2369: UserWarning: This figure includes Axes that are not compatible with tight_layout, so results might be incorrect.\n",
      "  warnings.warn(\"This figure includes Axes that are not compatible \"\n"
     ]
    },
    {
     "data": {
      "image/png": "[encoded data removed]",
      "text/plain": [
       "<Figure size 432x288 with 1 Axes>"
      ]
     },
     "metadata": {
      "needs_background": "light"
     },
     "output_type": "display_data"
    }
   ],
   "source": [
    "# draw the buckets as a histogram\n",
    "import matplotlib.pyplot as plt\n",
    "fig, axs = plt.subplots(1, 1, sharey=True, tight_layout=True)\n",
    "axs.hist(dist_done, bins=10000)\n",
    "plt.xlabel(\"Distance\")\n",
    "plt.ylabel(\"Number of datapoints\")\n"
   ]
  },
  {
   "cell_type": "code",
   "execution_count": 18,
   "metadata": {},
   "outputs": [],
   "source": [
    "# Since the above graph is not meaningful, I want to see there is any difference in terms of L2 distance\n",
    "# for points that are within a category and those that are not\n",
    "\n",
    "# 1. Distance between members of its own group\n",
    "\n",
    "n_train = 500\n",
    "dist_hetero = np.ndarray(shape = (n_train, n_train))\n",
    "dist_homo = np.ndarray(shape = (n_train, n_train))\n",
    "\n",
    "for i in range(n_train):\n",
    "    for j in range(n_train):\n",
    "        if j <= i:\n",
    "            # Make dist with itself and repeating distances irrelevant\n",
    "            dist_hetero[i][j] = -1\n",
    "            dist_homo[i][j] = -1\n",
    "        elif train_y[i] == train_y[j]: #the points are within the same category\n",
    "            dist_hetero[i][j] = -1\n",
    "            dist_homo[i][j] = np.linalg.norm(pred_auto_train[i] - pred_auto_train[j])\n",
    "        else: #the points are in different categories\n",
    "            dist_hetero[i][j] = np.linalg.norm(pred_auto_train[i] - pred_auto_train[j])\n",
    "            dist_homo[i][j] = -1\n"
   ]
  },
  {
   "cell_type": "code",
   "execution_count": 19,
   "metadata": {},
   "outputs": [],
   "source": [
    "dist_hetero_flattened = np.reshape(dist_hetero, (1, -1))\n",
    "dist_homo_flattened = np.reshape(dist_homo, (1, -1))\n",
    "\n",
    "dist_hetero_done = dist_hetero_flattened[dist_hetero_flattened != -1]\n",
    "dist_homo_done = dist_homo_flattened[dist_homo_flattened != -1]\n",
    "\n"
   ]
  },
  {
   "cell_type": "code",
   "execution_count": 22,
   "metadata": {},
   "outputs": [
    {
     "data": {
      "text/plain": [
       "Text(0, 0.5, 'Number of datapoints')"
      ]
     },
     "execution_count": 22,
     "metadata": {},
     "output_type": "execute_result"
    },
    {
     "name": "stderr",
     "output_type": "stream",
     "text": [
      "/nethome/jbang36/anaconda3/envs/jb_py35/lib/python3.5/site-packages/matplotlib/figure.py:2369: UserWarning: This figure includes Axes that are not compatible with tight_layout, so results might be incorrect.\n",
      "  warnings.warn(\"This figure includes Axes that are not compatible \"\n"
     ]
    },
    {
     "data": {
      "image/png": "[encoded data removed]",
      "text/plain": [
       "<Figure size 432x288 with 2 Axes>"
      ]
     },
     "metadata": {
      "needs_background": "light"
     },
     "output_type": "display_data"
    }
   ],
   "source": [
    "# redraw histogram\n",
    "import matplotlib.pyplot as plt\n",
    "fig, axs = plt.subplots(1, 2, sharey=True, tight_layout=True)\n",
    "axs[0].hist(dist_hetero_done, bins=5000)\n",
    "axs[0].set_title(\"Heterogeneous groups\")\n",
    "axs[0].set_xlabel(\"Distance\")\n",
    "axs[0].set_ylabel(\"Number of datapoints\")\n",
    "axs[1].hist(dist_homo_done, bins = 5000)\n",
    "axs[1].set_title(\"Homogeneous groups\")\n",
    "axs[1].set_xlabel(\"Distance between points\")\n",
    "axs[1].set_ylabel(\"Number of datapoints\")"
   ]
  },
  {
   "cell_type": "code",
   "execution_count": null,
   "metadata": {},
   "outputs": [],
   "source": []
  }
 ],
 "metadata": {
  "kernelspec": {
   "display_name": "Python 3",
   "language": "python",
   "name": "python3"
  },
  "language_info": {
   "codemirror_mode": {
    "name": "ipython",
    "version": 3
   },
   "file_extension": ".py",
   "mimetype": "text/x-python",
   "name": "python",
   "nbconvert_exporter": "python",
   "pygments_lexer": "ipython3",
   "version": "3.5.6"
  }
 },
 "nbformat": 4,
 "nbformat_minor": 2
}
