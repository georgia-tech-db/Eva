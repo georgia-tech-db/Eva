{
 "cells": [
  {
   "cell_type": "code",
   "execution_count": 2,
   "metadata": {},
   "outputs": [
    {
     "name": "stdout",
     "output_type": "stream",
     "text": [
      "Populating the interactive namespace from numpy and matplotlib\n"
     ]
    },
    {
     "name": "stderr",
     "output_type": "stream",
     "text": [
      "Using TensorFlow backend.\n"
     ]
    }
   ],
   "source": [
    "\"\"\"\n",
    "Apply on UA-DETRAC Dataset\n",
    "\n",
    "\"\"\"\n",
    "%pylab inline\n",
    "import os\n",
    "import keras\n",
    "import cv2\n",
    "import time\n",
    "import numpy as np\n",
    "import pandas as pd\n",
    "import keras.backend as K\n",
    "import tensorflow as tf\n",
    "\n",
    "import sklearn.metrics as metrics\n",
    "\n",
    "from keras import callbacks\n",
    "from keras.models import Model\n",
    "from keras.optimizers import SGD\n",
    "from keras.initializers import VarianceScaling\n",
    "from keras.engine.topology import Layer, InputSpec\n",
    "from keras.layers import Input, Dense, Conv2D, MaxPooling2D, Conv2DTranspose, Flatten,Reshape, UpSampling2D, Cropping2D\n",
    "from keras.callbacks import ModelCheckpoint, EarlyStopping\n",
    "import h5py\n",
    "\n",
    "import sys\n",
    "\n",
    "\n",
    "from sklearn.cluster import KMeans\n",
    "\n",
    "\n",
    "os.environ[\"CUDA_VISIBLE_DEVICES\"]=\"0\""
   ]
  },
  {
   "cell_type": "code",
   "execution_count": 3,
   "metadata": {},
   "outputs": [
    {
     "data": {
      "text/plain": [
       "'/Users/azwreith/Documents/Eva/data/ua_detrac/train_images'"
      ]
     },
     "execution_count": 3,
     "metadata": {},
     "output_type": "execute_result"
    }
   ],
   "source": [
    "os.getcwd()\n",
    "home_dir = os.path.abspath('../../')\n",
    "data_dir = os.path.join(home_dir, 'data', 'ua_detrac', 'train_images')\n",
    "data_dir"
   ]
  },
  {
   "cell_type": "code",
   "execution_count": 4,
   "metadata": {},
   "outputs": [
    {
     "name": "stdout",
     "output_type": "stream",
     "text": [
      "/Users/azwreith/Documents/Eva/data/ua_detrac/train_images\n",
      "Length of file_names 6021\n",
      "/Users/azwreith/Documents/Eva/data/ua_detrac/train_images/MVI_20011/img00001.jpg\n"
     ]
    }
   ],
   "source": [
    "def load_images_nn(image_dir, downsize_rate = 1):\n",
    "    \"\"\"\n",
    "    Loading images in a non normalized form\n",
    "    :param image_dir:\n",
    "    :param downsize_rate:\n",
    "    :param grayscale:\n",
    "    :return:\n",
    "    \"\"\"\n",
    "    image_height = 540\n",
    "    image_width = 960\n",
    "    file_names = []\n",
    "    print(image_dir)\n",
    "    #tmp = '/nethome/jbang36/eva/data/ua_detrac'\n",
    "    mvi_dir = os.listdir(image_dir)\n",
    "    mvi_dir.sort()\n",
    "    \n",
    "    for mvi in mvi_dir:\n",
    "        if mvi == \"README.md\" or mvi == \"download.sh\" or mvi == \"unzip.sh\":\n",
    "            continue\n",
    "        image_files = os.listdir(os.path.join(image_dir, mvi))\n",
    "        image_files.sort()\n",
    "        for image_file in image_files:\n",
    "            file_names.append(os.path.join(image_dir, mvi, image_file))\n",
    "        \n",
    "    print(\"Length of file_names\", len(file_names))\n",
    "    print(file_names[0])\n",
    "\n",
    "    \n",
    "    img_table = np.ndarray(shape=(len(file_names), int(image_height / downsize_rate), int(image_width / downsize_rate)))\n",
    "    \n",
    "    for i in range(len(file_names)):\n",
    "        file_name = file_names[i]\n",
    "        img = cv2.imread(file_name,0)\n",
    "        img = cv2.resize(img, (image_width // downsize_rate, image_height // downsize_rate))\n",
    "        img_table[i] = img\n",
    "\n",
    "    return img_table\n",
    "\n",
    "image_table = load_images_nn(data_dir, downsize_rate = 12)"
   ]
  },
  {
   "cell_type": "code",
   "execution_count": 5,
   "metadata": {},
   "outputs": [],
   "source": [
    "# split the training and test data\n",
    "image_table = image_table[:,:,:,np.newaxis]\n",
    "\n",
    "n_samples = image_table.shape[0]\n",
    "train_x = image_table[:int(n_samples * 0.8)]\n",
    "test_x = image_table[int(n_samples * 0.8):]"
   ]
  },
  {
   "cell_type": "code",
   "execution_count": 6,
   "metadata": {},
   "outputs": [
    {
     "data": {
      "text/plain": [
       "(6021, 45, 80, 1)"
      ]
     },
     "execution_count": 6,
     "metadata": {},
     "output_type": "execute_result"
    }
   ],
   "source": [
    "image_table.shape"
   ]
  },
  {
   "cell_type": "code",
   "execution_count": 7,
   "metadata": {},
   "outputs": [
    {
     "name": "stdout",
     "output_type": "stream",
     "text": [
      "(45, 80, 1)\n",
      "(45, 80)\n",
      "(45, 80)\n"
     ]
    },
    {
     "data": {
      "text/plain": [
       "<matplotlib.image.AxesImage at 0x1a49a61b00>"
      ]
     },
     "execution_count": 7,
     "metadata": {},
     "output_type": "execute_result"
    },
    {
     "data": {
      "image/png": "[encoded data removed]",
      "text/plain": [
       "<Figure size 432x288 with 1 Axes>"
      ]
     },
     "metadata": {
      "needs_background": "light"
     },
     "output_type": "display_data"
    }
   ],
   "source": [
    "import matplotlib.pyplot as plt\n",
    "import random\n",
    "image_index = random.randint(0,100) # You may select anything up to 60,000\n",
    "print(train_x[image_index].shape)\n",
    "\n",
    "example = train_x[image_index]\n",
    "width, height, channels = example.shape\n",
    "example = np.squeeze(example)\n",
    "print(np.squeeze(example).shape)\n",
    "print(example.shape)\n",
    "\n",
    "plt.imshow(example, cmap='Greys')"
   ]
  },
  {
   "cell_type": "code",
   "execution_count": 8,
   "metadata": {},
   "outputs": [],
   "source": [
    "# Must perform normalization for the autoencoder to perform well\n",
    "train_x /= 255.0\n",
    "test_x /= 255.0 "
   ]
  },
  {
   "cell_type": "code",
   "execution_count": 9,
   "metadata": {},
   "outputs": [],
   "source": [
    "keras.backend.clear_session()"
   ]
  },
  {
   "cell_type": "code",
   "execution_count": null,
   "metadata": {},
   "outputs": [
    {
     "name": "stdout",
     "output_type": "stream",
     "text": [
      "WARNING:tensorflow:From /Users/azwreith/anaconda3/envs/eva-storage/lib/python3.6/site-packages/tensorflow/python/framework/op_def_library.py:263: colocate_with (from tensorflow.python.framework.ops) is deprecated and will be removed in a future version.\n",
      "Instructions for updating:\n",
      "Colocations handled automatically by placer.\n",
      "_________________________________________________________________\n",
      "Layer (type)                 Output Shape              Param #   \n",
      "=================================================================\n",
      "input_1 (InputLayer)         (None, 45, 80, 1)         0         \n",
      "_________________________________________________________________\n",
      "conv2d_1 (Conv2D)            (None, 45, 80, 8)         80        \n",
      "_________________________________________________________________\n",
      "conv2d_2 (Conv2D)            (None, 45, 80, 8)         584       \n",
      "_________________________________________________________________\n",
      "max_pooling2d_1 (MaxPooling2 (None, 23, 40, 8)         0         \n",
      "_________________________________________________________________\n",
      "conv2d_3 (Conv2D)            (None, 23, 40, 16)        1168      \n",
      "_________________________________________________________________\n",
      "conv2d_4 (Conv2D)            (None, 23, 40, 16)        2320      \n",
      "_________________________________________________________________\n",
      "encoder_backup (MaxPooling2D (None, 12, 20, 16)        0         \n",
      "_________________________________________________________________\n",
      "flatten_1 (Flatten)          (None, 3840)              0         \n",
      "_________________________________________________________________\n",
      "encoder (Dense)              (None, 256)               983296    \n",
      "_________________________________________________________________\n",
      "dense_1 (Dense)              (None, 3840)              986880    \n",
      "_________________________________________________________________\n",
      "reshape_1 (Reshape)          (None, 12, 20, 16)        0         \n",
      "_________________________________________________________________\n",
      "up_sampling2d_1 (UpSampling2 (None, 24, 40, 16)        0         \n",
      "_________________________________________________________________\n",
      "conv2d_5 (Conv2D)            (None, 24, 40, 16)        2320      \n",
      "_________________________________________________________________\n",
      "conv2d_6 (Conv2D)            (None, 24, 40, 16)        2320      \n",
      "_________________________________________________________________\n",
      "up_sampling2d_2 (UpSampling2 (None, 48, 80, 16)        0         \n",
      "_________________________________________________________________\n",
      "conv2d_7 (Conv2D)            (None, 48, 80, 8)         1160      \n",
      "_________________________________________________________________\n",
      "conv2d_8 (Conv2D)            (None, 48, 80, 1)         73        \n",
      "_________________________________________________________________\n",
      "cropping2d_1 (Cropping2D)    (None, 45, 80, 1)         0         \n",
      "=================================================================\n",
      "Total params: 1,980,201\n",
      "Trainable params: 1,980,201\n",
      "Non-trainable params: 0\n",
      "_________________________________________________________________\n"
     ]
    }
   ],
   "source": [
    "# Combined network with both FC and CNN layers\n",
    "\n",
    "n_samples, width, height, channels = train_x.shape\n",
    "# Input\n",
    "input_img = Input(shape=(width, height, 1))\n",
    "# Encoder\n",
    "x = Conv2D(8,(3,3),\n",
    "           activation='relu',\n",
    "           padding='same')(input_img)\n",
    "x = Conv2D(8,(3,3),\n",
    "           activation='relu',\n",
    "           padding='same')(x)\n",
    "x = MaxPooling2D((2,2),\n",
    "                 padding='same')(x) \n",
    "x = Conv2D(16,(3,3),\n",
    "           activation='relu',\n",
    "           padding='same')(x)\n",
    "x = Conv2D(16,(3,3),\n",
    "           activation='relu',\n",
    "           padding='same')(x)\n",
    "x = MaxPooling2D((2,2),\n",
    "                 padding='same', name='encoder_backup')(x) # Size \n",
    "x = Flatten()(x)\n",
    "encoded = Dense(256, name='encoder')(x)\n",
    "# Decoder\n",
    "x = Dense(3840)(encoded)\n",
    "x = Reshape((12, 20, 16))(x)\n",
    "x = UpSampling2D((2, 2))(x) # 24, 40, 16\n",
    "x = Conv2D(16, (3, 3),\n",
    "           activation='relu',\n",
    "           padding='same')(x)\n",
    "x = Conv2D(16, (3, 3),\n",
    "           activation='relu',\n",
    "           padding='same')(x)\n",
    "x = UpSampling2D((2, 2))(x)  # Size 48, 80, 16\n",
    "x = Conv2D(8, (3, 3),\n",
    "           activation='relu',\n",
    "           padding='same')(x)\n",
    "x = Conv2D(1, (3, 3),\n",
    "           activation='relu',\n",
    "           padding='same')(x)\n",
    "\n",
    "decoded = Cropping2D(cropping=((2,1),(0,0)),\n",
    "               data_format='channels_last')(x) # size 45, 80, 16\n",
    "\n",
    "\n",
    "autoencoder = Model(input_img, decoded)\n",
    "\n",
    "autoencoder.compile(optimizer='adam', loss='mse')\n",
    "\n",
    "autoencoder.summary()"
   ]
  },
  {
   "cell_type": "code",
   "execution_count": null,
   "metadata": {},
   "outputs": [
    {
     "name": "stdout",
     "output_type": "stream",
     "text": [
      "WARNING:tensorflow:From /Users/azwreith/anaconda3/envs/eva-storage/lib/python3.6/site-packages/tensorflow/python/ops/math_ops.py:3066: to_int32 (from tensorflow.python.ops.math_ops) is deprecated and will be removed in a future version.\n",
      "Instructions for updating:\n",
      "Use tf.cast instead.\n",
      "Train on 4816 samples, validate on 1205 samples\n",
      "Epoch 1/200\n"
     ]
    }
   ],
   "source": [
    "start_time = time.time()\n",
    "train_history = autoencoder.fit(train_x, train_x, epochs=200, batch_size=2048, validation_data=(test_x, test_x))\n",
    "print(\"Total time it took to train autoencoder is \", time.time() - start_time, \" seconds\")"
   ]
  },
  {
   "cell_type": "code",
   "execution_count": null,
   "metadata": {},
   "outputs": [],
   "source": [
    "# save the trained model\n",
    "autoencoder.save('indexing_detrac_autoencoder.h5')"
   ]
  }
 ],
 "metadata": {
  "kernelspec": {
   "display_name": "Python 3",
   "language": "python",
   "name": "python3"
  },
  "language_info": {
   "codemirror_mode": {
    "name": "ipython",
    "version": 3
   },
   "file_extension": ".py",
   "mimetype": "text/x-python",
   "name": "python",
   "nbconvert_exporter": "python",
   "pygments_lexer": "ipython3",
   "version": "3.6.8"
  }
 },
 "nbformat": 4,
 "nbformat_minor": 2
}
