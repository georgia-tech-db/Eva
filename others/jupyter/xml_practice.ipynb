{
 "cells": [
  {
   "cell_type": "code",
   "execution_count": 2,
   "metadata": {},
   "outputs": [
    {
     "name": "stdout",
     "output_type": "stream",
     "text": [
      "b'<top><!--Generated for PyMOTW--><child>This child contains text.</child><child_with_tail>This child has regular text.</child_with_tail>And \"tail\" text.<child_with_entity_ref>This &amp; that</child_with_entity_ref></top>'\n"
     ]
    }
   ],
   "source": [
    "from xml.etree.ElementTree import Element, SubElement, Comment, tostring\n",
    "\n",
    "top = Element('top')\n",
    "\n",
    "comment = Comment('Generated for PyMOTW')\n",
    "top.append(comment)\n",
    "\n",
    "child = SubElement(top, 'child')\n",
    "child.text = 'This child contains text.'\n",
    "\n",
    "child_with_tail = SubElement(top, 'child_with_tail')\n",
    "child_with_tail.text = 'This child has regular text.'\n",
    "child_with_tail.tail = 'And \"tail\" text.'\n",
    "\n",
    "child_with_entity_ref = SubElement(top, 'child_with_entity_ref')\n",
    "child_with_entity_ref.text = 'This & that'\n",
    "\n",
    "print(tostring(top))\n"
   ]
  },
  {
   "cell_type": "code",
   "execution_count": 3,
   "metadata": {},
   "outputs": [
    {
     "name": "stdout",
     "output_type": "stream",
     "text": [
      "<?xml version=\"1.0\" ?>\n",
      "<top>\n",
      "  <!--Generated for PyMOTW-->\n",
      "  <child>This child contains text.</child>\n",
      "  <child_with_tail>This child has regular text.</child_with_tail>\n",
      "  And &quot;tail&quot; text.\n",
      "  <child_with_entity_ref>This &amp; that</child_with_entity_ref>\n",
      "</top>\n",
      "\n"
     ]
    }
   ],
   "source": [
    "from xml.etree import ElementTree\n",
    "from xml.dom import minidom\n",
    "\n",
    "def prettify(elem):\n",
    "    \"\"\"Return a pretty-printed XML string for the Element.\n",
    "    \"\"\"\n",
    "    rough_string = ElementTree.tostring(elem, 'utf-8')\n",
    "    reparsed = minidom.parseString(rough_string)\n",
    "    return reparsed.toprettyxml(indent=\"  \")\n",
    "\n",
    "print(prettify(top))"
   ]
  },
  {
   "cell_type": "code",
   "execution_count": 8,
   "metadata": {},
   "outputs": [
    {
     "name": "stdout",
     "output_type": "stream",
     "text": [
      "A:\n",
      "<?xml version=\"1.0\" ?>\n",
      "<top>\n",
      "  <parent color=\"blue\" id=\"A\" num=\"3\">\n",
      "    <child id=\"140361344811960\" num=\"0\"/>\n",
      "    <child id=\"140361344811800\" num=\"1\"/>\n",
      "    <child id=\"140361344812360\" num=\"2\"/>\n",
      "  </parent>\n",
      "  <parent color=\"red\" id=\"B\" num=\"4\"/>\n",
      "</top>\n",
      "\n",
      "B:\n",
      "<?xml version=\"1.0\" ?>\n",
      "<top>\n",
      "  <parent color=\"blue\" id=\"A\" num=\"3\">\n",
      "    <child id=\"140361344811960\" num=\"0\"/>\n",
      "    <child id=\"140361344811800\" num=\"1\"/>\n",
      "    <child id=\"140361344812360\" num=\"2\"/>\n",
      "  </parent>\n",
      "  <parent color=\"red\" id=\"B\" num=\"4\">\n",
      "    <child id=\"140361344811960\" num=\"0\"/>\n",
      "    <child id=\"140361344811800\" num=\"1\"/>\n",
      "    <child id=\"140361344812360\" num=\"2\"/>\n",
      "  </parent>\n",
      "</top>\n",
      "\n"
     ]
    }
   ],
   "source": [
    "from xml.etree.ElementTree import Element, SubElement, tostring, XML\n",
    "\n",
    "top = Element('top')\n",
    "\n",
    "parent_a = SubElement(top, 'parent', id='A', num=\"3\", color=\"blue\")\n",
    "parent_b = SubElement(top, 'parent', id='B', num=\"4\", color=\"red\")\n",
    "\n",
    "# Create children\n",
    "children = XML('''<root><child num=\"0\" /><child num=\"1\" /><child num=\"2\" /></root> ''')\n",
    "\n",
    "# Set the id to the Python object id of the node to make duplicates\n",
    "# easier to spot.\n",
    "for c in children:\n",
    "    c.set('id', str(id(c)))\n",
    "\n",
    "# Add to first parent\n",
    "parent_a.extend(children)\n",
    "\n",
    "print('A:')\n",
    "print(prettify(top))\n",
    "\n",
    "# Copy nodes to second parent\n",
    "parent_b.extend(children)\n",
    "\n",
    "print('B:')\n",
    "print(prettify(top))\n"
   ]
  },
  {
   "cell_type": "code",
   "execution_count": 19,
   "metadata": {},
   "outputs": [
    {
     "name": "stdout",
     "output_type": "stream",
     "text": [
      "<?xml version=\"1.0\" ?>\n",
      "<top>\n",
      "  <parent color=\"blue\" id=\"A\" num=\"3\">\n",
      "    <child id=\"140361344811960\" num=\"0\"/>\n",
      "    <child id=\"140361344811800\" num=\"1\"/>\n",
      "    <child id=\"140361344812360\" num=\"2\"/>\n",
      "  </parent>\n",
      "  <parent color=\"red\" id=\"B\" num=\"4\">\n",
      "    <child id=\"140361344811960\" num=\"0\"/>\n",
      "    <child id=\"140361344811800\" num=\"1\"/>\n",
      "    <child id=\"140361344812360\" num=\"2\"/>\n",
      "  </parent>\n",
      "</top>\n",
      "\n",
      "<top><parent color=\"blue\" id=\"A\" num=\"3\"><child id=\"140361344811960\" num=\"0\" /><child id=\"140361344811800\" num=\"1\" /><child id=\"140361344812360\" num=\"2\" /></parent><parent color=\"red\" id=\"B\" num=\"4\"><child id=\"140361344811960\" num=\"0\" /><child id=\"140361344811800\" num=\"1\" /><child id=\"140361344812360\" num=\"2\" /></parent></top>\n"
     ]
    }
   ],
   "source": [
    "import xml.etree.ElementTree as ET\n",
    "mydata_byte = ET.tostring(top)\n",
    "mydata_str = mydata_byte.decode(\"utf-8\")\n",
    "print(prettify(top))\n",
    "print(mydata_str)\n",
    "myfile = open(\"practice.xml\", \"w\")  \n",
    "myfile.write(mydata_str)\n",
    "myfile.close()"
   ]
  },
  {
   "cell_type": "code",
   "execution_count": 12,
   "metadata": {},
   "outputs": [
    {
     "data": {
      "text/plain": [
       "['output_11_2.png',\n",
       " 'xml_practice.ipynb',\n",
       " 'cluster prototype.ipynb',\n",
       " 'full.hdf5',\n",
       " 'readme.md',\n",
       " 'cluster_analysis_uadetrac.ipynb',\n",
       " 'cluster_eval_w_modules.ipynb',\n",
       " 'indexing_mnist.ipynb',\n",
       " 'AE_detrac.ipynb',\n",
       " 'color_detection.ipynb',\n",
       " 'eva_storage_module_tests****.ipynb',\n",
       " 'distance_graph.ipynb',\n",
       " 'cluster_evaluations_colorVSbw****.ipynb',\n",
       " 'DBSCAN.ipynb',\n",
       " 'output_5_2.png',\n",
       " 'autoencoder_dec_analysis.ipynb',\n",
       " 'output_14_1.png',\n",
       " 'py35_practice.ipynb',\n",
       " 'indexing_features_detrac.ipynb',\n",
       " 'py36_practice.ipynb',\n",
       " 'detrac_actual_code.ipynb',\n",
       " 'cluster_evaluations_input_size_change_only****.ipynb',\n",
       " 'detrac_filter_tests.ipynb',\n",
       " 'cluster_evaluations_input_network_change****.ipynb',\n",
       " 'cluster_eval_whole_dataset****.ipynb',\n",
       " 'indexing_detrac.ipynb',\n",
       " '.ipynb_checkpoints',\n",
       " 'practice.xml',\n",
       " 'CAE_detrac****.ipynb',\n",
       " 'cluster_evaluations****.ipynb']"
      ]
     },
     "execution_count": 12,
     "metadata": {},
     "output_type": "execute_result"
    }
   ],
   "source": [
    "import os\n",
    "os.listdir()"
   ]
  },
  {
   "cell_type": "code",
   "execution_count": 20,
   "metadata": {},
   "outputs": [
    {
     "name": "stdout",
     "output_type": "stream",
     "text": [
      "<?xml version=\"1.0\" ?>\n",
      "<top>\n",
      "  <parent color=\"blue\" id=\"A\" num=\"3\">\n",
      "    <child id=\"140361344811960\" num=\"0\"/>\n",
      "    <child id=\"140361344811800\" num=\"1\"/>\n",
      "    <child id=\"140361344812360\" num=\"2\"/>\n",
      "  </parent>\n",
      "  <parent color=\"red\" id=\"B\" num=\"4\">\n",
      "    <child id=\"140361344811960\" num=\"0\"/>\n",
      "    <child id=\"140361344811800\" num=\"1\"/>\n",
      "    <child id=\"140361344812360\" num=\"2\"/>\n",
      "  </parent>\n",
      "</top>\n",
      "\n"
     ]
    }
   ],
   "source": [
    "tree = ET.parse('practice.xml')\n",
    "\n",
    "root = tree.getroot()\n",
    "print(prettify(root))"
   ]
  },
  {
   "cell_type": "code",
   "execution_count": null,
   "metadata": {},
   "outputs": [],
   "source": [
    "\"\"\"\n",
    "Structure for my xml\n",
    "<root>\n",
    "<image_name = \"\", frameid = \"\">\n",
    "  <box id = \"\", left=\"\", right=\"\", top=\"\", bottom=\"\"/>\n",
    "    <vehicle_type = \"\"/>\n",
    "    <color = \"\"/>\n",
    "    <keypoint = \"\"/>\n",
    "    <speed = \"\"/>\n",
    "  </box>\n",
    "  <box id=\"\",....\n",
    "   ...\n",
    "   \n",
    "  </box>\n",
    "<image_name = \"\">\n",
    "....\n",
    "\n",
    "</root>\n",
    "\"\"\"\n",
    "\n",
    "#Assume we have bounding boxes array as array within array\n",
    "#Assume we have frameid array as array within array\n",
    "\n",
    "from xml.etree.ElementTree import Element, SubElement, Comment, tostring\n",
    "\n",
    "def create_xml(filename, image_names, frameids, boxes, vehicle_types, colors, keypoints, speeds):\n",
    "    #create root\n",
    "    root = Element('root')\n",
    "    for idx,frameid in enumerate(frameids):\n",
    "        image_anno = SubElement(root, 'image_anno', image_name=image_names[idx], frame_id=frameid)\n",
    "        boxes_per_frame = boxes[idx]\n",
    "        for iidx, box in boxes_per_frame:\n",
    "            box = SubElement(image_anno, 'box', id = str(iidx), \n",
    "                             left=str(box[0]), top=str(box[1]), right=str(box[2]), bottom=str(box[3]),\n",
    "                             vehicle_type=vehicle_types[idx][iidx],\n",
    "                             color=colors[idx][iidx],\n",
    "                             keypoint=keypoints[idx][iidx],\n",
    "                             speed=speeds[idx][iidx])\n",
    "    \n",
    "    mydata_byte = tostring(top)\n",
    "    mydata_str = mydata_byte.decode(\"utf-8\")\n",
    "    #print(prettify(top))\n",
    "    #print(mydata_str)\n",
    "    myfile = open(filename, \"w\")  \n",
    "    myfile.write(mydata_str)\n",
    "    myfile.close()\n",
    "    return\n",
    "\n",
    "def parse_xml(filename):\n",
    "    tree = ET.parse(filename)\n",
    "    root = tree.getroot()\n",
    "    \n",
    "    boxes = []\n",
    "    vehicle_types = []\n",
    "    colors = []\n",
    "    keypoints = []\n",
    "    speeds = []\n",
    "    \n",
    "    for image_anno in root:\n",
    "        boxes_pf = []\n",
    "        vehicle_types_pf = []\n",
    "        colors_pf = []\n",
    "        keypoints_pf = []\n",
    "        speeds_pf = []\n",
    "        for box in image_anno:\n",
    "            boxes_pf.append((box.attrib('left'), box.attrib('top'), box.attrib('right'), box.attrib('bottom')))\n",
    "            vehicle_types_pf.append(box.attrib('vehicle_type'))\n",
    "            colors_pf.append(box.attrib('color'))\n",
    "            keypoints_pf.append(box.attrib('keypoint'))\n",
    "            speeds_pf.append(box.attrib('speed'))\n",
    "        boxes.append(boxes_pf)\n",
    "        vehicle_types.append(vehicle_types_pf)\n",
    "        colors.append(colors_pf)\n",
    "        keypoints.append(keypoints_pf)\n",
    "        speeds.append(speeds_pf)\n",
    "    \n",
    "    return boxes, vehicle_types, colors, keypoints, speeds\n"
   ]
  }
 ],
 "metadata": {
  "kernelspec": {
   "display_name": "Python 3",
   "language": "python",
   "name": "python3"
  },
  "language_info": {
   "codemirror_mode": {
    "name": "ipython",
    "version": 3
   },
   "file_extension": ".py",
   "mimetype": "text/x-python",
   "name": "python",
   "nbconvert_exporter": "python",
   "pygments_lexer": "ipython3",
   "version": "3.6.8"
  }
 },
 "nbformat": 4,
 "nbformat_minor": 2
}
