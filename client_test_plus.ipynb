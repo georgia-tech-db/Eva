{
 "cells": [
  {
   "cell_type": "markdown",
   "id": "59e94e48",
   "metadata": {},
   "source": [
    "# Before running the following client side program: \n",
    "\n",
    "- first run \"eva_server\" in terminal with you python venv(i.e. test_eva_db you just created). \n",
    "\n",
    "- run this ipynb under the same python venv as that of server"
   ]
  },
  {
   "cell_type": "code",
   "execution_count": null,
   "id": "cf167789",
   "metadata": {},
   "outputs": [],
   "source": [
    "!wget -nc \"https://raw.githubusercontent.com/sashiko-345/eva/master/dog.jpg\"\n",
    "!wget -nc https://www.dropbox.com/s/k00wge9exwkfxz6/ua_detrac.mp4\n",
    "!wget \"https://raw.githubusercontent.com/sashiko-345/eva/master/eva/udfs/camera_trap_animal_detector.py\" \n",
    "!mv 'camera_trap_animal_detector.py' 'downloaded_camera_trap_animal_detector.py'\n",
    "\n",
    "!pip install timm\n"
   ]
  },
  {
   "cell_type": "code",
   "execution_count": 1,
   "id": "d5fc72bf",
   "metadata": {},
   "outputs": [],
   "source": [
    "# first run \"eva_server\" in terminal with you python venv(i.e. test_eva_db you just created)\n",
    "\n",
    "# run this ipynb under the same python venv as that of server\n",
    "\n",
    "# connect to server\n",
    "from eva.server.db_api import connect\n",
    "import nest_asyncio\n",
    "nest_asyncio.apply()\n",
    "connection = connect(host = '127.0.0.1', port = 5435)\n",
    "cursor = connection.cursor()"
   ]
  },
  {
   "cell_type": "code",
   "execution_count": 8,
   "id": "76e91852",
   "metadata": {},
   "outputs": [
    {
     "name": "stdout",
     "output_type": "stream",
     "text": [
      "@status: -1\n",
      "@batch: None\n",
      "@error: Failed to find a video file at location: dog.jpg\n"
     ]
    }
   ],
   "source": [
    "# load\n",
    "cursor.execute('LOAD FILE \"dog.jpg\" INTO singlePic;')\n",
    "response = cursor.fetch_all()\n",
    "print(response)"
   ]
  },
  {
   "cell_type": "code",
   "execution_count": 11,
   "id": "20e5f32a",
   "metadata": {},
   "outputs": [
    {
     "name": "stdout",
     "output_type": "stream",
     "text": [
      "@status: 0\n",
      "@batch: Batch Object:\n",
      "@dataframe:                                                    0\n",
      "0  Video successfully added at location: /Users/d...\n",
      "@batch_size: 1\n",
      "@identifier_column: None\n",
      "@query_time: 0.02857986599974538\n"
     ]
    }
   ],
   "source": [
    "# load\n",
    "cursor.execute('LOAD FILE \"/Users/dawndawn/CS6422/trap-cls/eva/ua_detrac.mp4\" INTO singleVid;')\n",
    "response = cursor.fetch_all()\n",
    "print(response)"
   ]
  },
  {
   "cell_type": "code",
   "execution_count": 5,
   "id": "cc0303d5",
   "metadata": {},
   "outputs": [
    {
     "name": "stdout",
     "output_type": "stream",
     "text": [
      "@status: 0\n",
      "@batch: Batch Object:\n",
      "@dataframe:                                              0\n",
      "0  UDF AnimalDetectorPlus successfully dropped\n",
      "@batch_size: 1\n",
      "@identifier_column: None\n",
      "@query_time: 0.06859839700000236\n"
     ]
    }
   ],
   "source": [
    "drop_udf_query = \"\"\"DROP UDF AnimalDetectorPlus;\n",
    "        \"\"\"\n",
    "cursor.execute(drop_udf_query)\n",
    "response = cursor.fetch_all()\n",
    "print(response)"
   ]
  },
  {
   "cell_type": "code",
   "execution_count": 6,
   "id": "5327eceb",
   "metadata": {},
   "outputs": [
    {
     "name": "stdout",
     "output_type": "stream",
     "text": [
      "@status: 0\n",
      "@batch: Batch Object:\n",
      "@dataframe:                                                    0\n",
      "0  UDF AnimalDetectorPlus successfully added to t...\n",
      "@batch_size: 1\n",
      "@identifier_column: None\n",
      "@query_time: 1.0238103379999899\n"
     ]
    }
   ],
   "source": [
    "import os\n",
    "# udf_path = os.getcwd()\n",
    "udf_path = '/Users/dawndawn/CS6422/trap-cls/eva/eva/udfs/camera_trap_animal_detector.py'\n",
    "create_udf_query = f\"\"\"CREATE UDF IF NOT EXISTS AnimalDetectorPlus\n",
    "                  INPUT  (frame NDARRAY UINT8(3, ANYDIM, ANYDIM))\n",
    "                  OUTPUT (labels NDARRAY STR(ANYDIM),\n",
    "                          scores NDARRAY FLOAT32(ANYDIM))\n",
    "                  TYPE  Classification\n",
    "                  IMPL  '{udf_path}';\n",
    "        \"\"\"\n",
    "# load\n",
    "cursor.execute(create_udf_query)\n",
    "response = cursor.fetch_all()\n",
    "print(response)"
   ]
  },
  {
   "cell_type": "code",
   "execution_count": 7,
   "id": "5683941c",
   "metadata": {},
   "outputs": [
    {
     "name": "stdout",
     "output_type": "stream",
     "text": [
      "@status: 0\n",
      "@batch: Batch Object:\n",
      "@dataframe:    singlevid.id animaldetectorplus.labels animaldetectorplus.scores\n",
      "0             0                   [blank]            [0.7507480383]\n",
      "@batch_size: 1\n",
      "@identifier_column: None\n",
      "@query_time: 9.597760284000003\n"
     ]
    }
   ],
   "source": [
    "# query dog with animal detector\n",
    "cursor.execute('''SELECT id, AnimalDetectorPlus(data) FROM singleVid WHERE id < 1''')\n",
    "response = cursor.fetch_all()\n",
    "print(response)\n",
    "# where id does not work for uploaded picture, only work for videos"
   ]
  },
  {
   "cell_type": "code",
   "execution_count": 32,
   "id": "d50df717",
   "metadata": {},
   "outputs": [],
   "source": [
    "from eva.udfs.camera_trap_animal_detector import AnimalDetectorPlus\n",
    "from PIL import Image\n",
    "img = Image.open('/Users/dawndawn/Desktop/cat.jpg')"
   ]
  },
  {
   "cell_type": "code",
   "execution_count": 33,
   "id": "98f0dbd6",
   "metadata": {},
   "outputs": [],
   "source": [
    "detector = AnimalDetectorPlus()"
   ]
  },
  {
   "cell_type": "code",
   "execution_count": 35,
   "id": "78c91e3f",
   "metadata": {},
   "outputs": [],
   "source": [
    "from torchvision import transforms\n",
    "\n",
    "composed = transforms.Compose([transforms.ToTensor()])\n",
    "tensor = composed(img)"
   ]
  },
  {
   "cell_type": "code",
   "execution_count": 38,
   "id": "ef31b131",
   "metadata": {},
   "outputs": [
    {
     "name": "stderr",
     "output_type": "stream",
     "text": [
      "/Users/dawndawn/CS6422/trap-cls/eva/eva/udfs/camera_trap_animal_detector.py:343: FutureWarning: The frame.append method is deprecated and will be removed from pandas in a future version. Use pandas.concat instead.\n",
      "  outcome = outcome.append({'labels': self.labels, 'scores': frame_output}, ignore_index=True,)\n"
     ]
    },
    {
     "data": {
      "text/html": [
       "<div>\n",
       "<style scoped>\n",
       "    .dataframe tbody tr th:only-of-type {\n",
       "        vertical-align: middle;\n",
       "    }\n",
       "\n",
       "    .dataframe tbody tr th {\n",
       "        vertical-align: top;\n",
       "    }\n",
       "\n",
       "    .dataframe thead th {\n",
       "        text-align: right;\n",
       "    }\n",
       "</style>\n",
       "<table border=\"1\" class=\"dataframe\">\n",
       "  <thead>\n",
       "    <tr style=\"text-align: right;\">\n",
       "      <th></th>\n",
       "      <th>labels</th>\n",
       "      <th>scores</th>\n",
       "    </tr>\n",
       "  </thead>\n",
       "  <tbody>\n",
       "    <tr>\n",
       "      <th>0</th>\n",
       "      <td>[monkey_prosimian, rodent, human, mongoose, le...</td>\n",
       "      <td>[0.99999976, 0.19434793, 2.5042219e-08, 2.2078...</td>\n",
       "    </tr>\n",
       "  </tbody>\n",
       "</table>\n",
       "</div>"
      ],
      "text/plain": [
       "                                              labels  \\\n",
       "0  [monkey_prosimian, rodent, human, mongoose, le...   \n",
       "\n",
       "                                              scores  \n",
       "0  [0.99999976, 0.19434793, 2.5042219e-08, 2.2078...  "
      ]
     },
     "execution_count": 38,
     "metadata": {},
     "output_type": "execute_result"
    }
   ],
   "source": [
    "detector.forward(tensor)"
   ]
  }
 ],
 "metadata": {
  "kernelspec": {
   "display_name": "Python 3.9.13 ('trapcls')",
   "language": "python",
   "name": "python3"
  },
  "language_info": {
   "codemirror_mode": {
    "name": "ipython",
    "version": 3
   },
   "file_extension": ".py",
   "mimetype": "text/x-python",
   "name": "python",
   "nbconvert_exporter": "python",
   "pygments_lexer": "ipython3",
   "version": "3.9.13"
  },
  "vscode": {
   "interpreter": {
    "hash": "405c22b8a4853426ea67783fda6139101f1d32aabf0d812321b308f2aa80d6ea"
   }
  }
 },
 "nbformat": 4,
 "nbformat_minor": 5
}
