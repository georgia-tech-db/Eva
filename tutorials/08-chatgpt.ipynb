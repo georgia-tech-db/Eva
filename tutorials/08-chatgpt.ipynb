{
 "cells": [
  {
   "attachments": {},
   "cell_type": "markdown",
   "metadata": {},
   "source": [
    "# ChatGPT Tutorial"
   ]
  },
  {
   "attachments": {},
   "cell_type": "markdown",
   "metadata": {},
   "source": [
    "<table align=\"left\">\n",
    "  <td>\n",
    "    <a target=\"_blank\" href=\"https://colab.research.google.com/github/georgia-tech-db/eva/blob/master/tutorials/08-chatgpt.ipynb\"><img src=\"https://www.tensorflow.org/images/colab_logo_32px.png\" /> Run on Google Colab</a>\n",
    "  </td>\n",
    "  <td>\n",
    "    <a target=\"_blank\" href=\"https://github.com/georgia-tech-db/eva/blob/master/tutorials/08-chatgpt.ipynb\"><img src=\"https://www.tensorflow.org/images/GitHub-Mark-32px.png\" /> View source on GitHub</a>\n",
    "  </td>\n",
    "  <td>\n",
    "    <a target=\"_blank\" href=\"https://github.com/georgia-tech-db/eva/raw/master/tutorials/08-chatgpt.ipynb\"><img src=\"https://www.tensorflow.org/images/download_logo_32px.png\" /> Download notebook</a>\n",
    "  </td>\n",
    "</table><br><br>"
   ]
  },
  {
   "attachments": {},
   "cell_type": "markdown",
   "metadata": {},
   "source": [
    "### Connect to EvaDB"
   ]
  },
  {
   "cell_type": "code",
   "execution_count": 1,
   "metadata": {
    "execution": {
     "iopub.execute_input": "2023-06-24T15:54:02.528961Z",
     "iopub.status.busy": "2023-06-24T15:54:02.528438Z",
     "iopub.status.idle": "2023-06-24T15:54:10.286788Z",
     "shell.execute_reply": "2023-06-24T15:54:10.285797Z"
    }
   },
   "outputs": [
    {
     "name": "stdout",
     "output_type": "stream",
     "text": [
      "\u001b[31mERROR: pip's dependency resolver does not currently take into account all the packages that are installed. This behaviour is the source of the following dependency conflicts.\r\n",
      "grpcio-tools 1.56.0 requires protobuf<5.0dev,>=4.21.6, but you have protobuf 3.20.1 which is incompatible.\r\n",
      "ray 2.4.0 requires grpcio<=1.51.3,>=1.42.0; python_version >= \"3.10\" and sys_platform != \"darwin\", but you have grpcio 1.56.0 which is incompatible.\u001b[0m\u001b[31m\r\n",
      "\u001b[0m"
     ]
    },
    {
     "name": "stdout",
     "output_type": "stream",
     "text": [
      "Note: you may need to restart the kernel to use updated packages.\n"
     ]
    }
   ],
   "source": [
    "%pip install --quiet \"evadb[document,notebook]\"\n",
    "import evadb\n",
    "cursor = evadb.connect().cursor()"
   ]
  },
  {
   "attachments": {},
   "cell_type": "markdown",
   "metadata": {},
   "source": [
    "## Download News Video and ChatGPT UDF "
   ]
  },
  {
   "cell_type": "code",
   "execution_count": 2,
   "metadata": {
    "execution": {
     "iopub.execute_input": "2023-06-24T15:54:10.291800Z",
     "iopub.status.busy": "2023-06-24T15:54:10.291544Z",
     "iopub.status.idle": "2023-06-24T15:54:11.702477Z",
     "shell.execute_reply": "2023-06-24T15:54:11.700539Z"
    }
   },
   "outputs": [
    {
     "name": "stdout",
     "output_type": "stream",
     "text": [
      "File ‘russia_ukraine.mp4’ already there; not retrieving.\r\n"
     ]
    },
    {
     "name": "stdout",
     "output_type": "stream",
     "text": [
      "File ‘chatgpt.py’ already there; not retrieving.\r\n"
     ]
    }
   ],
   "source": [
    "# Download News Video\n",
    "!wget -nc \"https://www.dropbox.com/s/rfm1kds2mv77pca/russia_ukraine.mp4?dl=0\" -O russia_ukraine.mp4\n",
    "\n",
    "# Download ChatGPT UDF if needed\n",
    "!wget -nc https://raw.githubusercontent.com/georgia-tech-db/eva/master/evadb/udfs/chatgpt.py -O chatgpt.py"
   ]
  },
  {
   "attachments": {},
   "cell_type": "markdown",
   "metadata": {},
   "source": [
    "## Set your OpenAI API key here"
   ]
  },
  {
   "cell_type": "code",
   "execution_count": 3,
   "metadata": {
    "execution": {
     "iopub.execute_input": "2023-06-24T15:54:11.708217Z",
     "iopub.status.busy": "2023-06-24T15:54:11.707861Z",
     "iopub.status.idle": "2023-06-24T15:54:11.713829Z",
     "shell.execute_reply": "2023-06-24T15:54:11.712777Z"
    }
   },
   "outputs": [],
   "source": [
    "# Set your OpenAI key as an environment variable\n",
    "import os\n",
    "#os.environ['OPENAI_KEY'] = 'sk-....................'\n",
    "open_ai_key = os.environ.get('OPENAI_KEY')"
   ]
  },
  {
   "cell_type": "code",
   "execution_count": 4,
   "metadata": {
    "execution": {
     "iopub.execute_input": "2023-06-24T15:54:11.717373Z",
     "iopub.status.busy": "2023-06-24T15:54:11.717075Z",
     "iopub.status.idle": "2023-06-24T15:54:11.920458Z",
     "shell.execute_reply": "2023-06-24T15:54:11.919635Z"
    }
   },
   "outputs": [
    {
     "data": {
      "text/html": [
       "<div>\n",
       "<style scoped>\n",
       "    .dataframe tbody tr th:only-of-type {\n",
       "        vertical-align: middle;\n",
       "    }\n",
       "\n",
       "    .dataframe tbody tr th {\n",
       "        vertical-align: top;\n",
       "    }\n",
       "\n",
       "    .dataframe thead th {\n",
       "        text-align: right;\n",
       "    }\n",
       "</style>\n",
       "<table border=\"1\" class=\"dataframe\">\n",
       "  <thead>\n",
       "    <tr style=\"text-align: right;\">\n",
       "      <th></th>\n",
       "      <th>0</th>\n",
       "    </tr>\n",
       "  </thead>\n",
       "  <tbody>\n",
       "    <tr>\n",
       "      <th>0</th>\n",
       "      <td>UDF ChatGPT successfully added to the database.</td>\n",
       "    </tr>\n",
       "  </tbody>\n",
       "</table>\n",
       "</div>"
      ],
      "text/plain": [
       "                                                 0\n",
       "0  UDF ChatGPT successfully added to the database."
      ]
     },
     "execution_count": 4,
     "metadata": {},
     "output_type": "execute_result"
    }
   ],
   "source": [
    "# Drop the UDF if it already exists\n",
    "cursor.query(\"DROP UDF IF EXISTS ChatGPT;\").df()\n",
    "\n",
    "# Register the ChatGPT UDF in EvaDB\n",
    "create_udf_query = f\"\"\"CREATE UDF ChatGPT\n",
    "                       IMPL 'chatgpt.py' \"\"\"\n",
    "cursor.query(create_udf_query).df()\n"
   ]
  },
  {
   "attachments": {},
   "cell_type": "markdown",
   "metadata": {},
   "source": [
    "## Run the ChatGPT UDF"
   ]
  },
  {
   "attachments": {},
   "cell_type": "markdown",
   "metadata": {},
   "source": [
    "![OPENAI UDF](chatgpt.png)"
   ]
  },
  {
   "cell_type": "code",
   "execution_count": 5,
   "metadata": {
    "execution": {
     "iopub.execute_input": "2023-06-24T15:54:11.924586Z",
     "iopub.status.busy": "2023-06-24T15:54:11.924330Z",
     "iopub.status.idle": "2023-06-24T15:54:12.249303Z",
     "shell.execute_reply": "2023-06-24T15:54:12.248505Z"
    }
   },
   "outputs": [
    {
     "data": {
      "text/html": [
       "<div>\n",
       "<style scoped>\n",
       "    .dataframe tbody tr th:only-of-type {\n",
       "        vertical-align: middle;\n",
       "    }\n",
       "\n",
       "    .dataframe tbody tr th {\n",
       "        vertical-align: top;\n",
       "    }\n",
       "\n",
       "    .dataframe thead th {\n",
       "        text-align: right;\n",
       "    }\n",
       "</style>\n",
       "<table border=\"1\" class=\"dataframe\">\n",
       "  <thead>\n",
       "    <tr style=\"text-align: right;\">\n",
       "      <th></th>\n",
       "      <th>0</th>\n",
       "    </tr>\n",
       "  </thead>\n",
       "  <tbody>\n",
       "    <tr>\n",
       "      <th>0</th>\n",
       "      <td>Number of loaded VIDEO: 1</td>\n",
       "    </tr>\n",
       "  </tbody>\n",
       "</table>\n",
       "</div>"
      ],
      "text/plain": [
       "                           0\n",
       "0  Number of loaded VIDEO: 1"
      ]
     },
     "execution_count": 5,
     "metadata": {},
     "output_type": "execute_result"
    }
   ],
   "source": [
    "#load the video\n",
    "cursor.drop_table(\"VIDEOS\", if_exists=True).df()\n",
    "cursor.query(\"LOAD VIDEO 'russia_ukraine.mp4' INTO VIDEOS;\").df()"
   ]
  },
  {
   "cell_type": "code",
   "execution_count": 6,
   "metadata": {
    "execution": {
     "iopub.execute_input": "2023-06-24T15:54:12.253607Z",
     "iopub.status.busy": "2023-06-24T15:54:12.253376Z",
     "iopub.status.idle": "2023-06-24T15:54:15.415556Z",
     "shell.execute_reply": "2023-06-24T15:54:15.414673Z"
    }
   },
   "outputs": [
    {
     "name": "stderr",
     "output_type": "stream",
     "text": [
      "06-24-2023 11:54:12 WARNING[drop_object_executor:drop_object_executor.py:_handle_drop_udf:0081] UDF SpeechRecognizer does not exist, therefore cannot be dropped.\n"
     ]
    },
    {
     "name": "stderr",
     "output_type": "stream",
     "text": [
      "/home/jarulraj3/eva/test_evadb/lib/python3.10/site-packages/transformers/generation/utils.py:1353: UserWarning: Using `max_length`'s default (448) to control the generation length. This behaviour is deprecated and will be removed from the config in v5 of Transformers -- we recommend using `max_new_tokens` to control the maximum length of the generation.\n",
      "  warnings.warn(\n"
     ]
    },
    {
     "data": {
      "text/html": [
       "<div>\n",
       "<style scoped>\n",
       "    .dataframe tbody tr th:only-of-type {\n",
       "        vertical-align: middle;\n",
       "    }\n",
       "\n",
       "    .dataframe tbody tr th {\n",
       "        vertical-align: top;\n",
       "    }\n",
       "\n",
       "    .dataframe thead th {\n",
       "        text-align: right;\n",
       "    }\n",
       "</style>\n",
       "<table border=\"1\" class=\"dataframe\">\n",
       "  <thead>\n",
       "    <tr style=\"text-align: right;\">\n",
       "      <th></th>\n",
       "      <th>0</th>\n",
       "    </tr>\n",
       "  </thead>\n",
       "  <tbody>\n",
       "    <tr>\n",
       "      <th>0</th>\n",
       "      <td>UDF SpeechRecognizer successfully added to the...</td>\n",
       "    </tr>\n",
       "  </tbody>\n",
       "</table>\n",
       "</div>"
      ],
      "text/plain": [
       "                                                   0\n",
       "0  UDF SpeechRecognizer successfully added to the..."
      ]
     },
     "execution_count": 6,
     "metadata": {},
     "output_type": "execute_result"
    }
   ],
   "source": [
    "# Drop the Text Summarization UDF if needed\n",
    "cursor.query(\"DROP UDF IF EXISTS SpeechRecognizer;\").df()\n",
    "\n",
    "# Create a Text Summarization UDF using Hugging Face\n",
    "text_summarizer_udf_creation = \"\"\"\n",
    "        CREATE UDF SpeechRecognizer \n",
    "        TYPE HuggingFace \n",
    "        'task' 'automatic-speech-recognition' \n",
    "        'model' 'openai/whisper-base';\n",
    "        \"\"\"\n",
    "cursor.query(text_summarizer_udf_creation).df()"
   ]
  },
  {
   "cell_type": "code",
   "execution_count": 7,
   "metadata": {
    "execution": {
     "iopub.execute_input": "2023-06-24T15:54:15.420395Z",
     "iopub.status.busy": "2023-06-24T15:54:15.419978Z",
     "iopub.status.idle": "2023-06-24T15:54:25.464805Z",
     "shell.execute_reply": "2023-06-24T15:54:25.463931Z"
    }
   },
   "outputs": [
    {
     "name": "stderr",
     "output_type": "stream",
     "text": [
      "/home/jarulraj3/eva/test_evadb/lib/python3.10/site-packages/transformers/generation/utils.py:1353: UserWarning: Using `max_length`'s default (448) to control the generation length. This behaviour is deprecated and will be removed from the config in v5 of Transformers -- we recommend using `max_new_tokens` to control the maximum length of the generation.\n",
      "  warnings.warn(\n"
     ]
    },
    {
     "data": {
      "text/html": [
       "<div>\n",
       "<style scoped>\n",
       "    .dataframe tbody tr th:only-of-type {\n",
       "        vertical-align: middle;\n",
       "    }\n",
       "\n",
       "    .dataframe tbody tr th {\n",
       "        vertical-align: top;\n",
       "    }\n",
       "\n",
       "    .dataframe thead th {\n",
       "        text-align: right;\n",
       "    }\n",
       "</style>\n",
       "<table border=\"1\" class=\"dataframe\">\n",
       "  <thead>\n",
       "    <tr style=\"text-align: right;\">\n",
       "      <th></th>\n",
       "    </tr>\n",
       "  </thead>\n",
       "  <tbody>\n",
       "  </tbody>\n",
       "</table>\n",
       "</div>"
      ],
      "text/plain": [
       "Empty DataFrame\n",
       "Columns: []\n",
       "Index: []"
      ]
     },
     "execution_count": 7,
     "metadata": {},
     "output_type": "execute_result"
    }
   ],
   "source": [
    "# Drop the table if needed\n",
    "cursor.query(\"DROP TABLE IF EXISTS TEXT_SUMMARY;\").df()\n",
    "\n",
    "\n",
    "# Create a materialized view of the text summarization output\n",
    "text_summarization_query = \"\"\"\n",
    "    CREATE MATERIALIZED VIEW \n",
    "    TEXT_SUMMARY(text) AS \n",
    "    SELECT SpeechRecognizer(audio) FROM VIDEOS; \n",
    "    \"\"\"\n",
    "cursor.query(text_summarization_query).df()"
   ]
  },
  {
   "cell_type": "code",
   "execution_count": 8,
   "metadata": {
    "execution": {
     "iopub.execute_input": "2023-06-24T15:54:25.469808Z",
     "iopub.status.busy": "2023-06-24T15:54:25.469513Z",
     "iopub.status.idle": "2023-06-24T15:54:26.872718Z",
     "shell.execute_reply": "2023-06-24T15:54:26.871665Z"
    }
   },
   "outputs": [
    {
     "data": {
      "text/html": [
       "<div>\n",
       "<style scoped>\n",
       "    .dataframe tbody tr th:only-of-type {\n",
       "        vertical-align: middle;\n",
       "    }\n",
       "\n",
       "    .dataframe tbody tr th {\n",
       "        vertical-align: top;\n",
       "    }\n",
       "\n",
       "    .dataframe thead th {\n",
       "        text-align: right;\n",
       "    }\n",
       "</style>\n",
       "<table border=\"1\" class=\"dataframe\">\n",
       "  <thead>\n",
       "    <tr style=\"text-align: right;\">\n",
       "      <th></th>\n",
       "      <th>chatgpt.response</th>\n",
       "    </tr>\n",
       "  </thead>\n",
       "  <tbody>\n",
       "    <tr>\n",
       "      <th>0</th>\n",
       "      <td>Yes, the video summary is related to the Ukrai...</td>\n",
       "    </tr>\n",
       "  </tbody>\n",
       "</table>\n",
       "</div>"
      ],
      "text/plain": [
       "                                    chatgpt.response\n",
       "0  Yes, the video summary is related to the Ukrai..."
      ]
     },
     "execution_count": 8,
     "metadata": {},
     "output_type": "execute_result"
    }
   ],
   "source": [
    "# Run ChatGPT over the Text Summary extracted by Whisper\n",
    "chatgpt_udf = \"\"\"\n",
    "      SELECT ChatGPT('Is this video summary related to Ukraine russia war',text) \n",
    "      FROM TEXT_SUMMARY;\n",
    "      \"\"\"\n",
    "cursor.query(chatgpt_udf).df()"
   ]
  },
  {
   "attachments": {},
   "cell_type": "markdown",
   "metadata": {},
   "source": [
    "## Check if it works on an SNL Video"
   ]
  },
  {
   "cell_type": "code",
   "execution_count": 9,
   "metadata": {
    "execution": {
     "iopub.execute_input": "2023-06-24T15:54:26.877444Z",
     "iopub.status.busy": "2023-06-24T15:54:26.877161Z",
     "iopub.status.idle": "2023-06-24T15:54:27.865422Z",
     "shell.execute_reply": "2023-06-24T15:54:27.864278Z"
    }
   },
   "outputs": [
    {
     "name": "stdout",
     "output_type": "stream",
     "text": [
      "File ‘snl.mp4’ already there; not retrieving.\r\n"
     ]
    },
    {
     "data": {
      "text/html": [
       "<div>\n",
       "<style scoped>\n",
       "    .dataframe tbody tr th:only-of-type {\n",
       "        vertical-align: middle;\n",
       "    }\n",
       "\n",
       "    .dataframe tbody tr th {\n",
       "        vertical-align: top;\n",
       "    }\n",
       "\n",
       "    .dataframe thead th {\n",
       "        text-align: right;\n",
       "    }\n",
       "</style>\n",
       "<table border=\"1\" class=\"dataframe\">\n",
       "  <thead>\n",
       "    <tr style=\"text-align: right;\">\n",
       "      <th></th>\n",
       "      <th>0</th>\n",
       "    </tr>\n",
       "  </thead>\n",
       "  <tbody>\n",
       "    <tr>\n",
       "      <th>0</th>\n",
       "      <td>Number of loaded VIDEO: 1</td>\n",
       "    </tr>\n",
       "  </tbody>\n",
       "</table>\n",
       "</div>"
      ],
      "text/plain": [
       "                           0\n",
       "0  Number of loaded VIDEO: 1"
      ]
     },
     "execution_count": 9,
     "metadata": {},
     "output_type": "execute_result"
    }
   ],
   "source": [
    "# Download Entertainment Video\n",
    "!wget -nc \"https://www.dropbox.com/s/u66im8jw2s1dmuw/snl.mp4?dl=0\" -O snl.mp4\n",
    "\n",
    "cursor.query(\"DROP TABLE IF EXISTS SNL_VIDEO;\").df()\n",
    "\n",
    "cursor.query(\"LOAD VIDEO 'snl.mp4' INTO SNL_VIDEO;\").df()"
   ]
  },
  {
   "cell_type": "code",
   "execution_count": 10,
   "metadata": {
    "execution": {
     "iopub.execute_input": "2023-06-24T15:54:27.870530Z",
     "iopub.status.busy": "2023-06-24T15:54:27.870145Z",
     "iopub.status.idle": "2023-06-24T15:54:46.869765Z",
     "shell.execute_reply": "2023-06-24T15:54:46.868904Z"
    }
   },
   "outputs": [
    {
     "name": "stderr",
     "output_type": "stream",
     "text": [
      "/home/jarulraj3/eva/test_evadb/lib/python3.10/site-packages/transformers/generation/utils.py:1353: UserWarning: Using `max_length`'s default (448) to control the generation length. This behaviour is deprecated and will be removed from the config in v5 of Transformers -- we recommend using `max_new_tokens` to control the maximum length of the generation.\n",
      "  warnings.warn(\n"
     ]
    },
    {
     "data": {
      "text/html": [
       "<div>\n",
       "<style scoped>\n",
       "    .dataframe tbody tr th:only-of-type {\n",
       "        vertical-align: middle;\n",
       "    }\n",
       "\n",
       "    .dataframe tbody tr th {\n",
       "        vertical-align: top;\n",
       "    }\n",
       "\n",
       "    .dataframe thead th {\n",
       "        text-align: right;\n",
       "    }\n",
       "</style>\n",
       "<table border=\"1\" class=\"dataframe\">\n",
       "  <thead>\n",
       "    <tr style=\"text-align: right;\">\n",
       "      <th></th>\n",
       "    </tr>\n",
       "  </thead>\n",
       "  <tbody>\n",
       "  </tbody>\n",
       "</table>\n",
       "</div>"
      ],
      "text/plain": [
       "Empty DataFrame\n",
       "Columns: []\n",
       "Index: []"
      ]
     },
     "execution_count": 10,
     "metadata": {},
     "output_type": "execute_result"
    }
   ],
   "source": [
    "# Drop the table if needed\n",
    "cursor.query(\"DROP TABLE IF EXISTS SNL_TEXT_SUMMARY;\").df()\n",
    "\n",
    "\n",
    "# Create a materialized view of the text summarization output\n",
    "text_summarization_query = \"\"\"\n",
    "    CREATE MATERIALIZED VIEW \n",
    "    SNL_TEXT_SUMMARY(text) AS \n",
    "    SELECT SpeechRecognizer(audio) FROM SNL_VIDEO;\n",
    "    \"\"\"\n",
    "cursor.query(text_summarization_query).df()"
   ]
  },
  {
   "attachments": {},
   "cell_type": "markdown",
   "metadata": {},
   "source": [
    "### ChatGPT: Is this video summary related to Ukraine War?"
   ]
  },
  {
   "cell_type": "code",
   "execution_count": 11,
   "metadata": {
    "execution": {
     "iopub.execute_input": "2023-06-24T15:54:46.874457Z",
     "iopub.status.busy": "2023-06-24T15:54:46.874205Z",
     "iopub.status.idle": "2023-06-24T15:54:48.484113Z",
     "shell.execute_reply": "2023-06-24T15:54:48.482744Z"
    }
   },
   "outputs": [
    {
     "data": {
      "text/html": [
       "<div>\n",
       "<style scoped>\n",
       "    .dataframe tbody tr th:only-of-type {\n",
       "        vertical-align: middle;\n",
       "    }\n",
       "\n",
       "    .dataframe tbody tr th {\n",
       "        vertical-align: top;\n",
       "    }\n",
       "\n",
       "    .dataframe thead th {\n",
       "        text-align: right;\n",
       "    }\n",
       "</style>\n",
       "<table border=\"1\" class=\"dataframe\">\n",
       "  <thead>\n",
       "    <tr style=\"text-align: right;\">\n",
       "      <th></th>\n",
       "      <th>chatgpt.response</th>\n",
       "    </tr>\n",
       "  </thead>\n",
       "  <tbody>\n",
       "    <tr>\n",
       "      <th>0</th>\n",
       "      <td>No, this video summary is not related to the U...</td>\n",
       "    </tr>\n",
       "  </tbody>\n",
       "</table>\n",
       "</div>"
      ],
      "text/plain": [
       "                                    chatgpt.response\n",
       "0  No, this video summary is not related to the U..."
      ]
     },
     "execution_count": 11,
     "metadata": {},
     "output_type": "execute_result"
    }
   ],
   "source": [
    "# Run ChatGPT over the Text Summary extracted by Whisper\n",
    "chatgpt_udf = \"\"\"\n",
    "      SELECT ChatGPT('Is this video summary related to Ukraine russia war',text) \n",
    "      FROM SNL_TEXT_SUMMARY;\n",
    "      \"\"\"\n",
    "cursor.query(chatgpt_udf).df()"
   ]
  },
  {
   "attachments": {},
   "cell_type": "markdown",
   "metadata": {},
   "source": [
    "### ChatGPT: Is this video summary related to a hospital?"
   ]
  },
  {
   "cell_type": "code",
   "execution_count": 12,
   "metadata": {
    "execution": {
     "iopub.execute_input": "2023-06-24T15:54:48.489335Z",
     "iopub.status.busy": "2023-06-24T15:54:48.489036Z",
     "iopub.status.idle": "2023-06-24T15:54:50.036219Z",
     "shell.execute_reply": "2023-06-24T15:54:50.035125Z"
    }
   },
   "outputs": [
    {
     "data": {
      "text/html": [
       "<div>\n",
       "<style scoped>\n",
       "    .dataframe tbody tr th:only-of-type {\n",
       "        vertical-align: middle;\n",
       "    }\n",
       "\n",
       "    .dataframe tbody tr th {\n",
       "        vertical-align: top;\n",
       "    }\n",
       "\n",
       "    .dataframe thead th {\n",
       "        text-align: right;\n",
       "    }\n",
       "</style>\n",
       "<table border=\"1\" class=\"dataframe\">\n",
       "  <thead>\n",
       "    <tr style=\"text-align: right;\">\n",
       "      <th></th>\n",
       "      <th>chatgpt.response</th>\n",
       "    </tr>\n",
       "  </thead>\n",
       "  <tbody>\n",
       "    <tr>\n",
       "      <th>0</th>\n",
       "      <td>Yes, the video summary is related to a hospita...</td>\n",
       "    </tr>\n",
       "  </tbody>\n",
       "</table>\n",
       "</div>"
      ],
      "text/plain": [
       "                                    chatgpt.response\n",
       "0  Yes, the video summary is related to a hospita..."
      ]
     },
     "execution_count": 12,
     "metadata": {},
     "output_type": "execute_result"
    }
   ],
   "source": [
    "# Run ChatGPT over the Text Summary extracted by Whisper\n",
    "chatgpt_udf = \"\"\"\n",
    "      SELECT ChatGPT('Is this video summary related to a hospital',text) \n",
    "      FROM SNL_TEXT_SUMMARY;\n",
    "      \"\"\"\n",
    "cursor.query(chatgpt_udf).df()"
   ]
  }
 ],
 "metadata": {
  "kernelspec": {
   "display_name": "env_ish_py3.8",
   "language": "python",
   "name": "python3"
  },
  "language_info": {
   "codemirror_mode": {
    "name": "ipython",
    "version": 3
   },
   "file_extension": ".py",
   "mimetype": "text/x-python",
   "name": "python",
   "nbconvert_exporter": "python",
   "pygments_lexer": "ipython3",
   "version": "3.10.11"
  }
 },
 "nbformat": 4,
 "nbformat_minor": 2
}
