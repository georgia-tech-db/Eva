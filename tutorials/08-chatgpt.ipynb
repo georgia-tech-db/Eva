{
 "cells": [
  {
   "attachments": {},
   "cell_type": "markdown",
   "metadata": {},
   "source": [
    "# ChatGPT Tutorial"
   ]
  },
  {
   "attachments": {},
   "cell_type": "markdown",
   "metadata": {},
   "source": [
    "<table align=\"left\">\n",
    "  <td>\n",
    "    <a target=\"_blank\" href=\"https://colab.research.google.com/github/georgia-tech-db/eva/blob/master/tutorials/08-chatgpt.ipynb\"><img src=\"https://www.tensorflow.org/images/colab_logo_32px.png\" /> Run on Google Colab</a>\n",
    "  </td>\n",
    "  <td>\n",
    "    <a target=\"_blank\" href=\"https://github.com/georgia-tech-db/eva/blob/master/tutorials/08-chatgpt.ipynb\"><img src=\"https://www.tensorflow.org/images/GitHub-Mark-32px.png\" /> View source on GitHub</a>\n",
    "  </td>\n",
    "  <td>\n",
    "    <a target=\"_blank\" href=\"https://github.com/georgia-tech-db/eva/raw/master/tutorials/08-chatgpt.ipynb\"><img src=\"https://www.tensorflow.org/images/download_logo_32px.png\" /> Download notebook</a>\n",
    "  </td>\n",
    "</table><br><br>"
   ]
  },
  {
   "attachments": {},
   "cell_type": "markdown",
   "metadata": {},
   "source": [
    "### Connect to EvaDB"
   ]
  },
  {
   "cell_type": "code",
   "execution_count": 1,
   "metadata": {
    "execution": {
     "iopub.execute_input": "2023-06-25T09:46:45.832821Z",
     "iopub.status.busy": "2023-06-25T09:46:45.832317Z",
     "iopub.status.idle": "2023-06-25T09:46:52.754908Z",
     "shell.execute_reply": "2023-06-25T09:46:52.753814Z"
    }
   },
   "outputs": [
    {
     "name": "stdout",
     "output_type": "stream",
     "text": [
      "Note: you may need to restart the kernel to use updated packages.\n"
     ]
    }
   ],
   "source": [
    "%pip install --quiet \"evadb[document,notebook]\"\n",
    "import evadb\n",
    "cursor = evadb.connect().cursor()"
   ]
  },
  {
   "attachments": {},
   "cell_type": "markdown",
   "metadata": {},
   "source": [
    "## Download News Video and ChatGPT UDF "
   ]
  },
  {
   "cell_type": "code",
   "execution_count": 2,
   "metadata": {
    "execution": {
     "iopub.execute_input": "2023-06-25T09:46:52.760274Z",
     "iopub.status.busy": "2023-06-25T09:46:52.759902Z",
     "iopub.status.idle": "2023-06-25T09:46:53.017867Z",
     "shell.execute_reply": "2023-06-25T09:46:53.016009Z"
    }
   },
   "outputs": [
    {
     "name": "stdout",
     "output_type": "stream",
     "text": [
      "File ‘russia_ukraine.mp4’ already there; not retrieving.\r\n"
     ]
    },
    {
     "name": "stdout",
     "output_type": "stream",
     "text": [
      "File ‘chatgpt.py’ already there; not retrieving.\r\n"
     ]
    }
   ],
   "source": [
    "# Download News Video\n",
    "!wget -nc \"https://www.dropbox.com/s/rfm1kds2mv77pca/russia_ukraine.mp4?dl=0\" -O russia_ukraine.mp4\n",
    "\n",
    "# Download ChatGPT UDF if needed\n",
    "!wget -nc https://raw.githubusercontent.com/georgia-tech-db/eva/master/evadb/udfs/chatgpt.py -O chatgpt.py"
   ]
  },
  {
   "attachments": {},
   "cell_type": "markdown",
   "metadata": {},
   "source": [
    "## Set your OpenAI API key here"
   ]
  },
  {
   "cell_type": "code",
   "execution_count": 3,
   "metadata": {
    "execution": {
     "iopub.execute_input": "2023-06-25T09:46:53.023780Z",
     "iopub.status.busy": "2023-06-25T09:46:53.023335Z",
     "iopub.status.idle": "2023-06-25T09:46:53.029339Z",
     "shell.execute_reply": "2023-06-25T09:46:53.028463Z"
    }
   },
   "outputs": [],
   "source": [
    "# Set your OpenAI key as an environment variable\n",
    "import os\n",
    "#os.environ['OPENAI_KEY'] = 'sk-....................'\n",
    "open_ai_key = os.environ.get('OPENAI_KEY')"
   ]
  },
  {
   "cell_type": "code",
   "execution_count": 4,
   "metadata": {
    "execution": {
     "iopub.execute_input": "2023-06-25T09:46:53.033318Z",
     "iopub.status.busy": "2023-06-25T09:46:53.032999Z",
     "iopub.status.idle": "2023-06-25T09:46:53.102878Z",
     "shell.execute_reply": "2023-06-25T09:46:53.102195Z"
    }
   },
   "outputs": [
    {
     "data": {
      "text/html": [
       "<div>\n",
       "<style scoped>\n",
       "    .dataframe tbody tr th:only-of-type {\n",
       "        vertical-align: middle;\n",
       "    }\n",
       "\n",
       "    .dataframe tbody tr th {\n",
       "        vertical-align: top;\n",
       "    }\n",
       "\n",
       "    .dataframe thead th {\n",
       "        text-align: right;\n",
       "    }\n",
       "</style>\n",
       "<table border=\"1\" class=\"dataframe\">\n",
       "  <thead>\n",
       "    <tr style=\"text-align: right;\">\n",
       "      <th></th>\n",
       "      <th>0</th>\n",
       "    </tr>\n",
       "  </thead>\n",
       "  <tbody>\n",
       "    <tr>\n",
       "      <th>0</th>\n",
       "      <td>UDF ChatGPT successfully added to the database.</td>\n",
       "    </tr>\n",
       "  </tbody>\n",
       "</table>\n",
       "</div>"
      ],
      "text/plain": [
       "                                                 0\n",
       "0  UDF ChatGPT successfully added to the database."
      ]
     },
     "execution_count": 4,
     "metadata": {},
     "output_type": "execute_result"
    }
   ],
   "source": [
    "# Drop the UDF if it already exists\n",
    "cursor.query(\"DROP UDF IF EXISTS ChatGPT;\").df()\n",
    "\n",
    "# Register the ChatGPT UDF in EvaDB\n",
    "create_udf_query = f\"\"\"CREATE UDF ChatGPT\n",
    "                       IMPL 'chatgpt.py' \"\"\"\n",
    "cursor.query(create_udf_query).df()\n"
   ]
  },
  {
   "attachments": {},
   "cell_type": "markdown",
   "metadata": {},
   "source": [
    "## Run the ChatGPT UDF"
   ]
  },
  {
   "attachments": {},
   "cell_type": "markdown",
   "metadata": {},
   "source": [
    "![OPENAI UDF](chatgpt.png)"
   ]
  },
  {
   "cell_type": "code",
   "execution_count": 5,
   "metadata": {
    "execution": {
     "iopub.execute_input": "2023-06-25T09:46:53.106463Z",
     "iopub.status.busy": "2023-06-25T09:46:53.106209Z",
     "iopub.status.idle": "2023-06-25T09:46:53.286102Z",
     "shell.execute_reply": "2023-06-25T09:46:53.285290Z"
    }
   },
   "outputs": [
    {
     "data": {
      "text/html": [
       "<div>\n",
       "<style scoped>\n",
       "    .dataframe tbody tr th:only-of-type {\n",
       "        vertical-align: middle;\n",
       "    }\n",
       "\n",
       "    .dataframe tbody tr th {\n",
       "        vertical-align: top;\n",
       "    }\n",
       "\n",
       "    .dataframe thead th {\n",
       "        text-align: right;\n",
       "    }\n",
       "</style>\n",
       "<table border=\"1\" class=\"dataframe\">\n",
       "  <thead>\n",
       "    <tr style=\"text-align: right;\">\n",
       "      <th></th>\n",
       "      <th>0</th>\n",
       "    </tr>\n",
       "  </thead>\n",
       "  <tbody>\n",
       "    <tr>\n",
       "      <th>0</th>\n",
       "      <td>Number of loaded VIDEO: 1</td>\n",
       "    </tr>\n",
       "  </tbody>\n",
       "</table>\n",
       "</div>"
      ],
      "text/plain": [
       "                           0\n",
       "0  Number of loaded VIDEO: 1"
      ]
     },
     "execution_count": 5,
     "metadata": {},
     "output_type": "execute_result"
    }
   ],
   "source": [
    "#load the video\n",
    "cursor.drop_table(\"VIDEOS\", if_exists=True).df()\n",
    "cursor.query(\"LOAD VIDEO 'russia_ukraine.mp4' INTO VIDEOS;\").df()"
   ]
  },
  {
   "cell_type": "code",
   "execution_count": 6,
   "metadata": {
    "execution": {
     "iopub.execute_input": "2023-06-25T09:46:53.290317Z",
     "iopub.status.busy": "2023-06-25T09:46:53.290102Z",
     "iopub.status.idle": "2023-06-25T09:46:56.178645Z",
     "shell.execute_reply": "2023-06-25T09:46:56.177893Z"
    }
   },
   "outputs": [
    {
     "name": "stderr",
     "output_type": "stream",
     "text": [
      "/home/zxu330/eva/test_evadb/lib/python3.10/site-packages/transformers/generation/utils.py:1353: UserWarning: Using `max_length`'s default (448) to control the generation length. This behaviour is deprecated and will be removed from the config in v5 of Transformers -- we recommend using `max_new_tokens` to control the maximum length of the generation.\n",
      "  warnings.warn(\n"
     ]
    },
    {
     "data": {
      "text/html": [
       "<div>\n",
       "<style scoped>\n",
       "    .dataframe tbody tr th:only-of-type {\n",
       "        vertical-align: middle;\n",
       "    }\n",
       "\n",
       "    .dataframe tbody tr th {\n",
       "        vertical-align: top;\n",
       "    }\n",
       "\n",
       "    .dataframe thead th {\n",
       "        text-align: right;\n",
       "    }\n",
       "</style>\n",
       "<table border=\"1\" class=\"dataframe\">\n",
       "  <thead>\n",
       "    <tr style=\"text-align: right;\">\n",
       "      <th></th>\n",
       "      <th>0</th>\n",
       "    </tr>\n",
       "  </thead>\n",
       "  <tbody>\n",
       "    <tr>\n",
       "      <th>0</th>\n",
       "      <td>UDF SpeechRecognizer successfully added to the...</td>\n",
       "    </tr>\n",
       "  </tbody>\n",
       "</table>\n",
       "</div>"
      ],
      "text/plain": [
       "                                                   0\n",
       "0  UDF SpeechRecognizer successfully added to the..."
      ]
     },
     "execution_count": 6,
     "metadata": {},
     "output_type": "execute_result"
    }
   ],
   "source": [
    "# Drop the Text Summarization UDF if needed\n",
    "cursor.query(\"DROP UDF IF EXISTS SpeechRecognizer;\").df()\n",
    "\n",
    "# Create a Text Summarization UDF using Hugging Face\n",
    "text_summarizer_udf_creation = \"\"\"\n",
    "        CREATE UDF SpeechRecognizer \n",
    "        TYPE HuggingFace \n",
    "        'task' 'automatic-speech-recognition' \n",
    "        'model' 'openai/whisper-base';\n",
    "        \"\"\"\n",
    "cursor.query(text_summarizer_udf_creation).df()"
   ]
  },
  {
   "cell_type": "code",
   "execution_count": 7,
   "metadata": {
    "execution": {
     "iopub.execute_input": "2023-06-25T09:46:56.181681Z",
     "iopub.status.busy": "2023-06-25T09:46:56.181277Z",
     "iopub.status.idle": "2023-06-25T09:47:05.889826Z",
     "shell.execute_reply": "2023-06-25T09:47:05.888925Z"
    }
   },
   "outputs": [
    {
     "name": "stderr",
     "output_type": "stream",
     "text": [
      "/home/zxu330/eva/test_evadb/lib/python3.10/site-packages/transformers/generation/utils.py:1353: UserWarning: Using `max_length`'s default (448) to control the generation length. This behaviour is deprecated and will be removed from the config in v5 of Transformers -- we recommend using `max_new_tokens` to control the maximum length of the generation.\n",
      "  warnings.warn(\n"
     ]
    },
    {
     "data": {
      "text/html": [
       "<div>\n",
       "<style scoped>\n",
       "    .dataframe tbody tr th:only-of-type {\n",
       "        vertical-align: middle;\n",
       "    }\n",
       "\n",
       "    .dataframe tbody tr th {\n",
       "        vertical-align: top;\n",
       "    }\n",
       "\n",
       "    .dataframe thead th {\n",
       "        text-align: right;\n",
       "    }\n",
       "</style>\n",
       "<table border=\"1\" class=\"dataframe\">\n",
       "  <thead>\n",
       "    <tr style=\"text-align: right;\">\n",
       "      <th></th>\n",
       "    </tr>\n",
       "  </thead>\n",
       "  <tbody>\n",
       "  </tbody>\n",
       "</table>\n",
       "</div>"
      ],
      "text/plain": [
       "Empty DataFrame\n",
       "Columns: []\n",
       "Index: []"
      ]
     },
     "execution_count": 7,
     "metadata": {},
     "output_type": "execute_result"
    }
   ],
   "source": [
    "# Drop the table if needed\n",
    "cursor.query(\"DROP TABLE IF EXISTS TEXT_SUMMARY;\").df()\n",
    "\n",
    "\n",
    "# Create a materialized view of the text summarization output\n",
    "text_summarization_query = \"\"\"\n",
    "    CREATE TABLE\n",
    "    TEXT_SUMMARY AS \n",
    "    SELECT SpeechRecognizer(audio) FROM VIDEOS; \n",
    "    \"\"\"\n",
    "cursor.query(text_summarization_query).df()"
   ]
  },
  {
   "cell_type": "code",
   "execution_count": 8,
   "metadata": {
    "execution": {
     "iopub.execute_input": "2023-06-25T09:47:05.894495Z",
     "iopub.status.busy": "2023-06-25T09:47:05.894224Z",
     "iopub.status.idle": "2023-06-25T09:47:06.744165Z",
     "shell.execute_reply": "2023-06-25T09:47:06.742985Z"
    }
   },
   "outputs": [
    {
     "name": "stderr",
     "output_type": "stream",
     "text": [
      "06-25-2023 05:47:06 ERROR [plan_executor:plan_executor.py:execute_plan:0169] Please set your OpenAI API key in evadb.yml file (third_party, open_api_key) or environment variable (OPENAI_KEY)\n",
      "Traceback (most recent call last):\n",
      "  File \"/home/zxu330/eva/evadb/executor/plan_executor.py\", line 165, in execute_plan\n",
      "    yield from output\n",
      "  File \"/home/zxu330/eva/evadb/executor/project_executor.py\", line 34, in exec\n",
      "    batch = apply_project(batch, self.target_list, self.catalog())\n",
      "  File \"/home/zxu330/eva/evadb/executor/executor_utils.py\", line 42, in apply_project\n",
      "    batches = [expr.evaluate(batch) for expr in project_list]\n",
      "  File \"/home/zxu330/eva/evadb/executor/executor_utils.py\", line 42, in <listcomp>\n",
      "    batches = [expr.evaluate(batch) for expr in project_list]\n",
      "  File \"/home/zxu330/eva/evadb/expression/function_expression.py\", line 129, in evaluate\n",
      "    outcomes = self._apply_function_expression(func, batch, **kwargs)\n",
      "  File \"/home/zxu330/eva/evadb/expression/function_expression.py\", line 188, in _apply_function_expression\n",
      "    return func_args.apply_function_expression(func)\n",
      "  File \"/home/zxu330/eva/evadb/models/storage/batch.py\", line 172, in apply_function_expression\n",
      "    return Batch(expr(self._frames))\n",
      "  File \"/home/zxu330/eva/evadb/udfs/abstract/abstract_udf.py\", line 36, in __call__\n",
      "    return self.forward(args[0])\n",
      "  File \"/home/zxu330/eva/evadb/udfs/decorators/decorators.py\", line 58, in wrapper\n",
      "    return arg_fn(*args)\n",
      "  File \"/home/zxu330/eva/tutorials/chatgpt.py\", line 89, in forward\n",
      "    len(openai.api_key) != 0\n",
      "AssertionError: Please set your OpenAI API key in evadb.yml file (third_party, open_api_key) or environment variable (OPENAI_KEY)\n"
     ]
    },
    {
     "ename": "ExecutorError",
     "evalue": "Please set your OpenAI API key in evadb.yml file (third_party, open_api_key) or environment variable (OPENAI_KEY)",
     "output_type": "error",
     "traceback": [
      "\u001b[0;31m---------------------------------------------------------------------------\u001b[0m",
      "\u001b[0;31mAssertionError\u001b[0m                            Traceback (most recent call last)",
      "File \u001b[0;32m/home/zxu330/eva/evadb/executor/plan_executor.py:165\u001b[0m, in \u001b[0;36mPlanExecutor.execute_plan\u001b[0;34m(self, do_not_raise_exceptions, do_not_print_exceptions)\u001b[0m\n\u001b[1;32m    164\u001b[0m     \u001b[38;5;28;01mif\u001b[39;00m output \u001b[38;5;129;01mis\u001b[39;00m \u001b[38;5;129;01mnot\u001b[39;00m \u001b[38;5;28;01mNone\u001b[39;00m:\n\u001b[0;32m--> 165\u001b[0m         \u001b[38;5;28;01myield from\u001b[39;00m output\n\u001b[1;32m    166\u001b[0m \u001b[38;5;28;01mexcept\u001b[39;00m \u001b[38;5;167;01mException\u001b[39;00m \u001b[38;5;28;01mas\u001b[39;00m e:\n",
      "File \u001b[0;32m/home/zxu330/eva/evadb/executor/project_executor.py:34\u001b[0m, in \u001b[0;36mProjectExecutor.exec\u001b[0;34m(self, *args, **kwargs)\u001b[0m\n\u001b[1;32m     33\u001b[0m \u001b[38;5;28;01mfor\u001b[39;00m batch \u001b[38;5;129;01min\u001b[39;00m child_executor\u001b[38;5;241m.\u001b[39mexec(\u001b[38;5;241m*\u001b[39m\u001b[38;5;241m*\u001b[39mkwargs):\n\u001b[0;32m---> 34\u001b[0m     batch \u001b[38;5;241m=\u001b[39m \u001b[43mapply_project\u001b[49m\u001b[43m(\u001b[49m\u001b[43mbatch\u001b[49m\u001b[43m,\u001b[49m\u001b[43m \u001b[49m\u001b[38;5;28;43mself\u001b[39;49m\u001b[38;5;241;43m.\u001b[39;49m\u001b[43mtarget_list\u001b[49m\u001b[43m,\u001b[49m\u001b[43m \u001b[49m\u001b[38;5;28;43mself\u001b[39;49m\u001b[38;5;241;43m.\u001b[39;49m\u001b[43mcatalog\u001b[49m\u001b[43m(\u001b[49m\u001b[43m)\u001b[49m\u001b[43m)\u001b[49m\n\u001b[1;32m     36\u001b[0m     \u001b[38;5;28;01mif\u001b[39;00m \u001b[38;5;129;01mnot\u001b[39;00m batch\u001b[38;5;241m.\u001b[39mempty():\n",
      "File \u001b[0;32m/home/zxu330/eva/evadb/executor/executor_utils.py:42\u001b[0m, in \u001b[0;36mapply_project\u001b[0;34m(batch, project_list, catalog)\u001b[0m\n\u001b[1;32m     41\u001b[0m \u001b[38;5;28;01mif\u001b[39;00m \u001b[38;5;129;01mnot\u001b[39;00m batch\u001b[38;5;241m.\u001b[39mempty() \u001b[38;5;129;01mand\u001b[39;00m project_list:\n\u001b[0;32m---> 42\u001b[0m     batches \u001b[38;5;241m=\u001b[39m [expr\u001b[38;5;241m.\u001b[39mevaluate(batch) \u001b[38;5;28;01mfor\u001b[39;00m expr \u001b[38;5;129;01min\u001b[39;00m project_list]\n\u001b[1;32m     43\u001b[0m     batch \u001b[38;5;241m=\u001b[39m Batch\u001b[38;5;241m.\u001b[39mmerge_column_wise(batches)\n",
      "File \u001b[0;32m/home/zxu330/eva/evadb/executor/executor_utils.py:42\u001b[0m, in \u001b[0;36m<listcomp>\u001b[0;34m(.0)\u001b[0m\n\u001b[1;32m     41\u001b[0m \u001b[38;5;28;01mif\u001b[39;00m \u001b[38;5;129;01mnot\u001b[39;00m batch\u001b[38;5;241m.\u001b[39mempty() \u001b[38;5;129;01mand\u001b[39;00m project_list:\n\u001b[0;32m---> 42\u001b[0m     batches \u001b[38;5;241m=\u001b[39m [\u001b[43mexpr\u001b[49m\u001b[38;5;241;43m.\u001b[39;49m\u001b[43mevaluate\u001b[49m\u001b[43m(\u001b[49m\u001b[43mbatch\u001b[49m\u001b[43m)\u001b[49m \u001b[38;5;28;01mfor\u001b[39;00m expr \u001b[38;5;129;01min\u001b[39;00m project_list]\n\u001b[1;32m     43\u001b[0m     batch \u001b[38;5;241m=\u001b[39m Batch\u001b[38;5;241m.\u001b[39mmerge_column_wise(batches)\n",
      "File \u001b[0;32m/home/zxu330/eva/evadb/expression/function_expression.py:129\u001b[0m, in \u001b[0;36mFunctionExpression.evaluate\u001b[0;34m(self, batch, **kwargs)\u001b[0m\n\u001b[1;32m    127\u001b[0m \u001b[38;5;28;01mwith\u001b[39;00m \u001b[38;5;28mself\u001b[39m\u001b[38;5;241m.\u001b[39m_stats\u001b[38;5;241m.\u001b[39mtimer:\n\u001b[1;32m    128\u001b[0m     \u001b[38;5;66;03m# apply the function and project the required columns\u001b[39;00m\n\u001b[0;32m--> 129\u001b[0m     outcomes \u001b[38;5;241m=\u001b[39m \u001b[38;5;28;43mself\u001b[39;49m\u001b[38;5;241;43m.\u001b[39;49m\u001b[43m_apply_function_expression\u001b[49m\u001b[43m(\u001b[49m\u001b[43mfunc\u001b[49m\u001b[43m,\u001b[49m\u001b[43m \u001b[49m\u001b[43mbatch\u001b[49m\u001b[43m,\u001b[49m\u001b[43m \u001b[49m\u001b[38;5;241;43m*\u001b[39;49m\u001b[38;5;241;43m*\u001b[39;49m\u001b[43mkwargs\u001b[49m\u001b[43m)\u001b[49m\n\u001b[1;32m    131\u001b[0m     \u001b[38;5;66;03m# process outcomes only if output is not empty\u001b[39;00m\n",
      "File \u001b[0;32m/home/zxu330/eva/evadb/expression/function_expression.py:188\u001b[0m, in \u001b[0;36mFunctionExpression._apply_function_expression\u001b[0;34m(self, func, batch, **kwargs)\u001b[0m\n\u001b[1;32m    187\u001b[0m \u001b[38;5;28;01mif\u001b[39;00m \u001b[38;5;129;01mnot\u001b[39;00m \u001b[38;5;28mself\u001b[39m\u001b[38;5;241m.\u001b[39m_cache:\n\u001b[0;32m--> 188\u001b[0m     \u001b[38;5;28;01mreturn\u001b[39;00m \u001b[43mfunc_args\u001b[49m\u001b[38;5;241;43m.\u001b[39;49m\u001b[43mapply_function_expression\u001b[49m\u001b[43m(\u001b[49m\u001b[43mfunc\u001b[49m\u001b[43m)\u001b[49m\n\u001b[1;32m    190\u001b[0m output_cols \u001b[38;5;241m=\u001b[39m [obj\u001b[38;5;241m.\u001b[39mname \u001b[38;5;28;01mfor\u001b[39;00m obj \u001b[38;5;129;01min\u001b[39;00m \u001b[38;5;28mself\u001b[39m\u001b[38;5;241m.\u001b[39mudf_obj\u001b[38;5;241m.\u001b[39moutputs]\n",
      "File \u001b[0;32m/home/zxu330/eva/evadb/models/storage/batch.py:172\u001b[0m, in \u001b[0;36mBatch.apply_function_expression\u001b[0;34m(self, expr)\u001b[0m\n\u001b[1;32m    169\u001b[0m \u001b[38;5;250m\u001b[39m\u001b[38;5;124;03m\"\"\"\u001b[39;00m\n\u001b[1;32m    170\u001b[0m \u001b[38;5;124;03mExecute function expression on frames.\u001b[39;00m\n\u001b[1;32m    171\u001b[0m \u001b[38;5;124;03m\"\"\"\u001b[39;00m\n\u001b[0;32m--> 172\u001b[0m \u001b[38;5;28;01mreturn\u001b[39;00m Batch(\u001b[43mexpr\u001b[49m\u001b[43m(\u001b[49m\u001b[38;5;28;43mself\u001b[39;49m\u001b[38;5;241;43m.\u001b[39;49m\u001b[43m_frames\u001b[49m\u001b[43m)\u001b[49m)\n",
      "File \u001b[0;32m/home/zxu330/eva/evadb/udfs/abstract/abstract_udf.py:36\u001b[0m, in \u001b[0;36mAbstractUDF.__call__\u001b[0;34m(self, *args, **kwargs)\u001b[0m\n\u001b[1;32m     35\u001b[0m \u001b[38;5;28;01mdef\u001b[39;00m \u001b[38;5;21m__call__\u001b[39m(\u001b[38;5;28mself\u001b[39m, \u001b[38;5;241m*\u001b[39margs, \u001b[38;5;241m*\u001b[39m\u001b[38;5;241m*\u001b[39mkwargs):\n\u001b[0;32m---> 36\u001b[0m     \u001b[38;5;28;01mreturn\u001b[39;00m \u001b[38;5;28;43mself\u001b[39;49m\u001b[38;5;241;43m.\u001b[39;49m\u001b[43mforward\u001b[49m\u001b[43m(\u001b[49m\u001b[43margs\u001b[49m\u001b[43m[\u001b[49m\u001b[38;5;241;43m0\u001b[39;49m\u001b[43m]\u001b[49m\u001b[43m)\u001b[49m\n",
      "File \u001b[0;32m/home/zxu330/eva/evadb/udfs/decorators/decorators.py:58\u001b[0m, in \u001b[0;36mforward.<locals>.inner_fn.<locals>.wrapper\u001b[0;34m(*args)\u001b[0m\n\u001b[1;32m     56\u001b[0m \u001b[38;5;28;01mdef\u001b[39;00m \u001b[38;5;21mwrapper\u001b[39m(\u001b[38;5;241m*\u001b[39margs):\n\u001b[1;32m     57\u001b[0m     \u001b[38;5;66;03m# calling the forward function defined by the user inside the udf implementation\u001b[39;00m\n\u001b[0;32m---> 58\u001b[0m     \u001b[38;5;28;01mreturn\u001b[39;00m \u001b[43marg_fn\u001b[49m\u001b[43m(\u001b[49m\u001b[38;5;241;43m*\u001b[39;49m\u001b[43margs\u001b[49m\u001b[43m)\u001b[49m\n",
      "File \u001b[0;32m/home/zxu330/eva/tutorials/chatgpt.py:89\u001b[0m, in \u001b[0;36mChatGPT.forward\u001b[0;34m(self, text_df)\u001b[0m\n\u001b[1;32m     87\u001b[0m     openai\u001b[38;5;241m.\u001b[39mapi_key \u001b[38;5;241m=\u001b[39m os\u001b[38;5;241m.\u001b[39menviron\u001b[38;5;241m.\u001b[39mget(\u001b[38;5;124m\"\u001b[39m\u001b[38;5;124mOPENAI_KEY\u001b[39m\u001b[38;5;124m\"\u001b[39m, \u001b[38;5;124m\"\u001b[39m\u001b[38;5;124m\"\u001b[39m)\n\u001b[1;32m     88\u001b[0m \u001b[38;5;28;01massert\u001b[39;00m (\n\u001b[0;32m---> 89\u001b[0m     \u001b[38;5;28mlen\u001b[39m(openai\u001b[38;5;241m.\u001b[39mapi_key) \u001b[38;5;241m!=\u001b[39m \u001b[38;5;241m0\u001b[39m\n\u001b[1;32m     90\u001b[0m ), \u001b[38;5;124m\"\u001b[39m\u001b[38;5;124mPlease set your OpenAI API key in evadb.yml file (third_party, open_api_key) or environment variable (OPENAI_KEY)\u001b[39m\u001b[38;5;124m\"\u001b[39m\n\u001b[1;32m     92\u001b[0m prompts \u001b[38;5;241m=\u001b[39m text_df[text_df\u001b[38;5;241m.\u001b[39mcolumns[\u001b[38;5;241m0\u001b[39m]]\n",
      "\u001b[0;31mAssertionError\u001b[0m: Please set your OpenAI API key in evadb.yml file (third_party, open_api_key) or environment variable (OPENAI_KEY)",
      "\nDuring handling of the above exception, another exception occurred:\n",
      "\u001b[0;31mExecutorError\u001b[0m                             Traceback (most recent call last)",
      "Cell \u001b[0;32mIn[8], line 6\u001b[0m\n\u001b[1;32m      1\u001b[0m \u001b[38;5;66;03m# Run ChatGPT over the Text Summary extracted by Whisper\u001b[39;00m\n\u001b[1;32m      2\u001b[0m chatgpt_udf \u001b[38;5;241m=\u001b[39m \u001b[38;5;124m\"\"\"\u001b[39m\n\u001b[1;32m      3\u001b[0m \u001b[38;5;124m      SELECT ChatGPT(\u001b[39m\u001b[38;5;124m'\u001b[39m\u001b[38;5;124mIs this video summary related to Ukraine russia war\u001b[39m\u001b[38;5;124m'\u001b[39m\u001b[38;5;124m,text) \u001b[39m\n\u001b[1;32m      4\u001b[0m \u001b[38;5;124m      FROM TEXT_SUMMARY;\u001b[39m\n\u001b[1;32m      5\u001b[0m \u001b[38;5;124m      \u001b[39m\u001b[38;5;124m\"\"\"\u001b[39m\n\u001b[0;32m----> 6\u001b[0m \u001b[43mcursor\u001b[49m\u001b[38;5;241;43m.\u001b[39;49m\u001b[43mquery\u001b[49m\u001b[43m(\u001b[49m\u001b[43mchatgpt_udf\u001b[49m\u001b[43m)\u001b[49m\u001b[38;5;241;43m.\u001b[39;49m\u001b[43mdf\u001b[49m\u001b[43m(\u001b[49m\u001b[43m)\u001b[49m\n",
      "File \u001b[0;32m/home/zxu330/eva/evadb/interfaces/relational/relation.py:110\u001b[0m, in \u001b[0;36mEvaDBQuery.df\u001b[0;34m(self)\u001b[0m\n\u001b[1;32m    104\u001b[0m \u001b[38;5;28;01mdef\u001b[39;00m \u001b[38;5;21mdf\u001b[39m(\u001b[38;5;28mself\u001b[39m) \u001b[38;5;241m-\u001b[39m\u001b[38;5;241m>\u001b[39m pandas\u001b[38;5;241m.\u001b[39mDataFrame:\n\u001b[1;32m    105\u001b[0m \u001b[38;5;250m    \u001b[39m\u001b[38;5;124;03m\"\"\"Execute and fetch all rows as a pandas DataFrame\u001b[39;00m\n\u001b[1;32m    106\u001b[0m \n\u001b[1;32m    107\u001b[0m \u001b[38;5;124;03m    Returns:\u001b[39;00m\n\u001b[1;32m    108\u001b[0m \u001b[38;5;124;03m        pandas.DataFrame:\u001b[39;00m\n\u001b[1;32m    109\u001b[0m \u001b[38;5;124;03m    \"\"\"\u001b[39;00m\n\u001b[0;32m--> 110\u001b[0m     batch \u001b[38;5;241m=\u001b[39m \u001b[38;5;28;43mself\u001b[39;49m\u001b[38;5;241;43m.\u001b[39;49m\u001b[43mexecute\u001b[49m\u001b[43m(\u001b[49m\u001b[43m)\u001b[49m\n\u001b[1;32m    111\u001b[0m     \u001b[38;5;28;01massert\u001b[39;00m batch \u001b[38;5;129;01mis\u001b[39;00m \u001b[38;5;129;01mnot\u001b[39;00m \u001b[38;5;28;01mNone\u001b[39;00m, \u001b[38;5;124m\"\u001b[39m\u001b[38;5;124mrelation execute failed\u001b[39m\u001b[38;5;124m\"\u001b[39m\n\u001b[1;32m    112\u001b[0m     \u001b[38;5;28;01mreturn\u001b[39;00m batch\u001b[38;5;241m.\u001b[39mframes\n",
      "File \u001b[0;32m/home/zxu330/eva/evadb/interfaces/relational/relation.py:120\u001b[0m, in \u001b[0;36mEvaDBQuery.execute\u001b[0;34m(self)\u001b[0m\n\u001b[1;32m    114\u001b[0m \u001b[38;5;28;01mdef\u001b[39;00m \u001b[38;5;21mexecute\u001b[39m(\u001b[38;5;28mself\u001b[39m) \u001b[38;5;241m-\u001b[39m\u001b[38;5;241m>\u001b[39m Batch:\n\u001b[1;32m    115\u001b[0m \u001b[38;5;250m    \u001b[39m\u001b[38;5;124;03m\"\"\"Transform the relation into a result set\u001b[39;00m\n\u001b[1;32m    116\u001b[0m \n\u001b[1;32m    117\u001b[0m \u001b[38;5;124;03m    Returns:\u001b[39;00m\n\u001b[1;32m    118\u001b[0m \u001b[38;5;124;03m        Batch: result as evadb Batch\u001b[39;00m\n\u001b[1;32m    119\u001b[0m \u001b[38;5;124;03m    \"\"\"\u001b[39;00m\n\u001b[0;32m--> 120\u001b[0m     result \u001b[38;5;241m=\u001b[39m \u001b[43mexecute_statement\u001b[49m\u001b[43m(\u001b[49m\u001b[38;5;28;43mself\u001b[39;49m\u001b[38;5;241;43m.\u001b[39;49m\u001b[43m_evadb\u001b[49m\u001b[43m,\u001b[49m\u001b[43m \u001b[49m\u001b[38;5;28;43mself\u001b[39;49m\u001b[38;5;241;43m.\u001b[39;49m\u001b[43m_query_node\u001b[49m\u001b[38;5;241;43m.\u001b[39;49m\u001b[43mcopy\u001b[49m\u001b[43m(\u001b[49m\u001b[43m)\u001b[49m\u001b[43m)\u001b[49m\n\u001b[1;32m    121\u001b[0m     \u001b[38;5;28;01massert\u001b[39;00m result\u001b[38;5;241m.\u001b[39mframes \u001b[38;5;129;01mis\u001b[39;00m \u001b[38;5;129;01mnot\u001b[39;00m \u001b[38;5;28;01mNone\u001b[39;00m\n\u001b[1;32m    122\u001b[0m     \u001b[38;5;28;01mreturn\u001b[39;00m result\n",
      "File \u001b[0;32m/home/zxu330/eva/evadb/interfaces/relational/utils.py:60\u001b[0m, in \u001b[0;36mexecute_statement\u001b[0;34m(evadb, statement)\u001b[0m\n\u001b[1;32m     58\u001b[0m output \u001b[38;5;241m=\u001b[39m PlanExecutor(evadb, p_plan)\u001b[38;5;241m.\u001b[39mexecute_plan()\n\u001b[1;32m     59\u001b[0m \u001b[38;5;28;01mif\u001b[39;00m output:\n\u001b[0;32m---> 60\u001b[0m     batch_list \u001b[38;5;241m=\u001b[39m \u001b[38;5;28;43mlist\u001b[39;49m\u001b[43m(\u001b[49m\u001b[43moutput\u001b[49m\u001b[43m)\u001b[49m\n\u001b[1;32m     61\u001b[0m     \u001b[38;5;28;01mreturn\u001b[39;00m Batch\u001b[38;5;241m.\u001b[39mconcat(batch_list, copy\u001b[38;5;241m=\u001b[39m\u001b[38;5;28;01mFalse\u001b[39;00m)\n",
      "File \u001b[0;32m/home/zxu330/eva/evadb/executor/plan_executor.py:170\u001b[0m, in \u001b[0;36mPlanExecutor.execute_plan\u001b[0;34m(self, do_not_raise_exceptions, do_not_print_exceptions)\u001b[0m\n\u001b[1;32m    168\u001b[0m \u001b[38;5;28;01mif\u001b[39;00m do_not_print_exceptions \u001b[38;5;129;01mis\u001b[39;00m \u001b[38;5;28;01mFalse\u001b[39;00m:\n\u001b[1;32m    169\u001b[0m     logger\u001b[38;5;241m.\u001b[39mexception(\u001b[38;5;28mstr\u001b[39m(e))\n\u001b[0;32m--> 170\u001b[0m \u001b[38;5;28;01mraise\u001b[39;00m ExecutorError(e)\n",
      "\u001b[0;31mExecutorError\u001b[0m: Please set your OpenAI API key in evadb.yml file (third_party, open_api_key) or environment variable (OPENAI_KEY)"
     ]
    }
   ],
   "source": [
    "# Run ChatGPT over the Text Summary extracted by Whisper\n",
    "chatgpt_udf = \"\"\"\n",
    "      SELECT ChatGPT('Is this video summary related to Ukraine russia war',text) \n",
    "      FROM TEXT_SUMMARY;\n",
    "      \"\"\"\n",
    "cursor.query(chatgpt_udf).df()"
   ]
  },
  {
   "attachments": {},
   "cell_type": "markdown",
   "metadata": {},
   "source": [
    "## Check if it works on an SNL Video"
   ]
  },
  {
   "cell_type": "code",
   "execution_count": 9,
   "metadata": {
    "execution": {
     "iopub.execute_input": "2023-06-24T15:54:26.877444Z",
     "iopub.status.busy": "2023-06-24T15:54:26.877161Z",
     "iopub.status.idle": "2023-06-24T15:54:27.865422Z",
     "shell.execute_reply": "2023-06-24T15:54:27.864278Z"
    }
   },
   "outputs": [],
   "source": [
    "# Download Entertainment Video\n",
    "!wget -nc \"https://www.dropbox.com/s/u66im8jw2s1dmuw/snl.mp4?dl=0\" -O snl.mp4\n",
    "\n",
    "cursor.query(\"DROP TABLE IF EXISTS SNL_VIDEO;\").df()\n",
    "\n",
    "cursor.query(\"LOAD VIDEO 'snl.mp4' INTO SNL_VIDEO;\").df()"
   ]
  },
  {
   "cell_type": "code",
   "execution_count": 10,
   "metadata": {
    "execution": {
     "iopub.execute_input": "2023-06-24T15:54:27.870530Z",
     "iopub.status.busy": "2023-06-24T15:54:27.870145Z",
     "iopub.status.idle": "2023-06-24T15:54:46.869765Z",
     "shell.execute_reply": "2023-06-24T15:54:46.868904Z"
    }
   },
   "outputs": [],
   "source": [
    "# Drop the table if needed\n",
    "cursor.query(\"DROP TABLE IF EXISTS SNL_TEXT_SUMMARY;\").df()\n",
    "\n",
    "\n",
    "# Create a materialized view of the text summarization output\n",
    "text_summarization_query = \"\"\"\n",
    "    CREATE TABLE\n",
    "    SNL_TEXT_SUMMARY AS \n",
    "    SELECT SpeechRecognizer(audio) FROM SNL_VIDEO;\n",
    "    \"\"\"\n",
    "cursor.query(text_summarization_query).df()"
   ]
  },
  {
   "attachments": {},
   "cell_type": "markdown",
   "metadata": {},
   "source": [
    "### ChatGPT: Is this video summary related to Ukraine War?"
   ]
  },
  {
   "cell_type": "code",
   "execution_count": 11,
   "metadata": {
    "execution": {
     "iopub.execute_input": "2023-06-24T15:54:46.874457Z",
     "iopub.status.busy": "2023-06-24T15:54:46.874205Z",
     "iopub.status.idle": "2023-06-24T15:54:48.484113Z",
     "shell.execute_reply": "2023-06-24T15:54:48.482744Z"
    }
   },
   "outputs": [],
   "source": [
    "# Run ChatGPT over the Text Summary extracted by Whisper\n",
    "chatgpt_udf = \"\"\"\n",
    "      SELECT ChatGPT('Is this video summary related to Ukraine russia war',text) \n",
    "      FROM SNL_TEXT_SUMMARY;\n",
    "      \"\"\"\n",
    "cursor.query(chatgpt_udf).df()"
   ]
  },
  {
   "attachments": {},
   "cell_type": "markdown",
   "metadata": {},
   "source": [
    "### ChatGPT: Is this video summary related to a hospital?"
   ]
  },
  {
   "cell_type": "code",
   "execution_count": 12,
   "metadata": {
    "execution": {
     "iopub.execute_input": "2023-06-24T15:54:48.489335Z",
     "iopub.status.busy": "2023-06-24T15:54:48.489036Z",
     "iopub.status.idle": "2023-06-24T15:54:50.036219Z",
     "shell.execute_reply": "2023-06-24T15:54:50.035125Z"
    }
   },
   "outputs": [],
   "source": [
    "# Run ChatGPT over the Text Summary extracted by Whisper\n",
    "chatgpt_udf = \"\"\"\n",
    "      SELECT ChatGPT('Is this video summary related to a hospital',text) \n",
    "      FROM SNL_TEXT_SUMMARY;\n",
    "      \"\"\"\n",
    "cursor.query(chatgpt_udf).df()"
   ]
  }
 ],
 "metadata": {
  "kernelspec": {
   "display_name": "env_ish_py3.8",
   "language": "python",
   "name": "python3"
  },
  "language_info": {
   "codemirror_mode": {
    "name": "ipython",
    "version": 3
   },
   "file_extension": ".py",
   "mimetype": "text/x-python",
   "name": "python",
   "nbconvert_exporter": "python",
   "pygments_lexer": "ipython3",
   "version": "3.10.11"
  }
 },
 "nbformat": 4,
 "nbformat_minor": 2
}
