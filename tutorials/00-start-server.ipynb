{
 "cells": [
  {
   "cell_type": "markdown",
   "metadata": {},
   "source": [
    "# Launch EVA Server"
   ]
  },
  {
   "cell_type": "code",
   "execution_count": 5,
   "metadata": {},
   "outputs": [
    {
     "name": "stdout",
     "output_type": "stream",
     "text": [
      "Requirement already satisfied: evadb[dev] in /home/jarulraj3/eva/test_evadb/lib/python3.8/site-packages (0.0.9)\n",
      "Requirement already satisfied: sqlalchemy==1.3.20 in /home/jarulraj3/eva/test_evadb/lib/python3.8/site-packages (from evadb[dev]) (1.3.20)\n",
      "Requirement already satisfied: sqlalchemy-utils==0.36.6 in /home/jarulraj3/eva/test_evadb/lib/python3.8/site-packages (from evadb[dev]) (0.36.6)\n",
      "Requirement already satisfied: antlr4-python3-runtime==4.10 in /home/jarulraj3/eva/test_evadb/lib/python3.8/site-packages (from evadb[dev]) (4.10)\n",
      "Requirement already satisfied: isort==5.10.1 in /home/jarulraj3/eva/test_evadb/lib/python3.8/site-packages (from evadb[dev]) (5.10.1)\n",
      "Requirement already satisfied: opencv-python==4.5.1.48 in /home/jarulraj3/eva/test_evadb/lib/python3.8/site-packages (from evadb[dev]) (4.5.1.48)\n",
      "Requirement already satisfied: Pillow==9.0.1 in /home/jarulraj3/eva/test_evadb/lib/python3.8/site-packages (from evadb[dev]) (9.0.1)\n",
      "Requirement already satisfied: petastorm==0.11.5 in /home/jarulraj3/eva/test_evadb/lib/python3.8/site-packages (from evadb[dev]) (0.11.5)\n",
      "Requirement already satisfied: pyspark==3.0.2 in /home/jarulraj3/eva/test_evadb/lib/python3.8/site-packages (from evadb[dev]) (3.0.2)\n",
      "Requirement already satisfied: pandas==1.3.5 in /home/jarulraj3/eva/test_evadb/lib/python3.8/site-packages (from evadb[dev]) (1.3.5)\n",
      "Requirement already satisfied: pyyaml==5.1 in /home/jarulraj3/eva/test_evadb/lib/python3.8/site-packages (from evadb[dev]) (5.1)\n",
      "Requirement already satisfied: black==22.6.0 in /home/jarulraj3/eva/test_evadb/lib/python3.8/site-packages (from evadb[dev]) (22.6.0)\n",
      "Requirement already satisfied: numpy==1.21.6 in /home/jarulraj3/eva/test_evadb/lib/python3.8/site-packages (from evadb[dev]) (1.21.6)\n",
      "Requirement already satisfied: pymysql==0.10.1; extra == \"dev\" in /home/jarulraj3/eva/test_evadb/lib/python3.8/site-packages (from evadb[dev]) (0.10.1)\n",
      "Requirement already satisfied: facenet-pytorch==2.5.2; extra == \"dev\" in /home/jarulraj3/eva/test_evadb/lib/python3.8/site-packages (from evadb[dev]) (2.5.2)\n",
      "Requirement already satisfied: coveralls==3.0.1; extra == \"dev\" in /home/jarulraj3/eva/test_evadb/lib/python3.8/site-packages (from evadb[dev]) (3.0.1)\n",
      "Requirement already satisfied: mock==4.0.3; extra == \"dev\" in /home/jarulraj3/eva/test_evadb/lib/python3.8/site-packages (from evadb[dev]) (4.0.3)\n",
      "Requirement already satisfied: torchvision==0.11.3; extra == \"dev\" in /home/jarulraj3/eva/test_evadb/lib/python3.8/site-packages (from evadb[dev]) (0.11.3)\n",
      "Requirement already satisfied: torch==1.10.2; extra == \"dev\" in /home/jarulraj3/eva/test_evadb/lib/python3.8/site-packages (from evadb[dev]) (1.10.2)\n",
      "Requirement already satisfied: easyocr==1.5.0; extra == \"dev\" in /home/jarulraj3/eva/test_evadb/lib/python3.8/site-packages (from evadb[dev]) (1.5.0)\n",
      "Requirement already satisfied: pytest-virtualenv; extra == \"dev\" in /home/jarulraj3/eva/test_evadb/lib/python3.8/site-packages (from evadb[dev]) (1.7.0)\n",
      "Requirement already satisfied: scriv==0.16.0; extra == \"dev\" in /home/jarulraj3/eva/test_evadb/lib/python3.8/site-packages (from evadb[dev]) (0.16.0)\n",
      "Requirement already satisfied: flake8==3.9.1; extra == \"dev\" in /home/jarulraj3/eva/test_evadb/lib/python3.8/site-packages (from evadb[dev]) (3.9.1)\n",
      "Requirement already satisfied: pytest==6.1.2; extra == \"dev\" in /home/jarulraj3/eva/test_evadb/lib/python3.8/site-packages (from evadb[dev]) (6.1.2)\n",
      "Requirement already satisfied: pytest-cov==2.11.1; extra == \"dev\" in /home/jarulraj3/eva/test_evadb/lib/python3.8/site-packages (from evadb[dev]) (2.11.1)\n",
      "Requirement already satisfied: wheel==0.37.1; extra == \"dev\" in /home/jarulraj3/eva/test_evadb/lib/python3.8/site-packages (from evadb[dev]) (0.37.1)\n",
      "Requirement already satisfied: six in /home/jarulraj3/eva/test_evadb/lib/python3.8/site-packages (from sqlalchemy-utils==0.36.6->evadb[dev]) (1.16.0)\n",
      "Requirement already satisfied: future>=0.10.2 in /home/jarulraj3/eva/test_evadb/lib/python3.8/site-packages (from petastorm==0.11.5->evadb[dev]) (0.18.2)\n",
      "Requirement already satisfied: pyzmq>=14.0.0 in /home/jarulraj3/eva/test_evadb/lib/python3.8/site-packages (from petastorm==0.11.5->evadb[dev]) (23.2.0)\n",
      "Requirement already satisfied: fsspec in /home/jarulraj3/eva/test_evadb/lib/python3.8/site-packages (from petastorm==0.11.5->evadb[dev]) (2022.7.1)\n",
      "Requirement already satisfied: pyarrow>=0.17.1 in /home/jarulraj3/eva/test_evadb/lib/python3.8/site-packages (from petastorm==0.11.5->evadb[dev]) (9.0.0)\n",
      "Requirement already satisfied: diskcache>=3.0.0 in /home/jarulraj3/eva/test_evadb/lib/python3.8/site-packages (from petastorm==0.11.5->evadb[dev]) (5.4.0)\n",
      "Requirement already satisfied: packaging>=15.0 in /home/jarulraj3/eva/test_evadb/lib/python3.8/site-packages (from petastorm==0.11.5->evadb[dev]) (21.3)\n",
      "Requirement already satisfied: dill>=0.2.1 in /home/jarulraj3/eva/test_evadb/lib/python3.8/site-packages (from petastorm==0.11.5->evadb[dev]) (0.3.5.1)\n",
      "Requirement already satisfied: psutil>=4.0.0 in /home/jarulraj3/eva/test_evadb/lib/python3.8/site-packages (from petastorm==0.11.5->evadb[dev]) (5.9.1)\n",
      "Requirement already satisfied: py4j==0.10.9 in /home/jarulraj3/eva/test_evadb/lib/python3.8/site-packages (from pyspark==3.0.2->evadb[dev]) (0.10.9)\n",
      "Requirement already satisfied: python-dateutil>=2.7.3 in /home/jarulraj3/eva/test_evadb/lib/python3.8/site-packages (from pandas==1.3.5->evadb[dev]) (2.8.2)\n",
      "Requirement already satisfied: pytz>=2017.3 in /home/jarulraj3/eva/test_evadb/lib/python3.8/site-packages (from pandas==1.3.5->evadb[dev]) (2022.1)\n",
      "Requirement already satisfied: typing-extensions>=3.10.0.0; python_version < \"3.10\" in /home/jarulraj3/eva/test_evadb/lib/python3.8/site-packages (from black==22.6.0->evadb[dev]) (4.3.0)\n",
      "Requirement already satisfied: platformdirs>=2 in /home/jarulraj3/eva/test_evadb/lib/python3.8/site-packages (from black==22.6.0->evadb[dev]) (2.5.2)\n",
      "Requirement already satisfied: mypy-extensions>=0.4.3 in /home/jarulraj3/eva/test_evadb/lib/python3.8/site-packages (from black==22.6.0->evadb[dev]) (0.4.3)\n",
      "Requirement already satisfied: tomli>=1.1.0; python_full_version < \"3.11.0a7\" in /home/jarulraj3/eva/test_evadb/lib/python3.8/site-packages (from black==22.6.0->evadb[dev]) (2.0.1)\n",
      "Requirement already satisfied: pathspec>=0.9.0 in /home/jarulraj3/eva/test_evadb/lib/python3.8/site-packages (from black==22.6.0->evadb[dev]) (0.9.0)\n",
      "Requirement already satisfied: click>=8.0.0 in /home/jarulraj3/eva/test_evadb/lib/python3.8/site-packages (from black==22.6.0->evadb[dev]) (8.1.3)\n",
      "Requirement already satisfied: requests in /home/jarulraj3/eva/test_evadb/lib/python3.8/site-packages (from facenet-pytorch==2.5.2; extra == \"dev\"->evadb[dev]) (2.28.1)\n",
      "Requirement already satisfied: docopt>=0.6.1 in /home/jarulraj3/eva/test_evadb/lib/python3.8/site-packages (from coveralls==3.0.1; extra == \"dev\"->evadb[dev]) (0.6.2)\n",
      "Requirement already satisfied: coverage<6.0,>=4.1 in /home/jarulraj3/eva/test_evadb/lib/python3.8/site-packages (from coveralls==3.0.1; extra == \"dev\"->evadb[dev]) (5.5)\n",
      "Requirement already satisfied: opencv-python-headless<=4.5.4.60 in /home/jarulraj3/eva/test_evadb/lib/python3.8/site-packages (from easyocr==1.5.0; extra == \"dev\"->evadb[dev]) (4.5.4.60)\n",
      "Requirement already satisfied: scipy in /home/jarulraj3/eva/test_evadb/lib/python3.8/site-packages (from easyocr==1.5.0; extra == \"dev\"->evadb[dev]) (1.9.0)\n",
      "Requirement already satisfied: python-bidi in /home/jarulraj3/eva/test_evadb/lib/python3.8/site-packages (from easyocr==1.5.0; extra == \"dev\"->evadb[dev]) (0.4.2)\n",
      "Requirement already satisfied: scikit-image in /home/jarulraj3/eva/test_evadb/lib/python3.8/site-packages (from easyocr==1.5.0; extra == \"dev\"->evadb[dev]) (0.19.3)\n",
      "Requirement already satisfied: pytest-fixture-config in /home/jarulraj3/eva/test_evadb/lib/python3.8/site-packages (from pytest-virtualenv; extra == \"dev\"->evadb[dev]) (1.7.0)\n",
      "Requirement already satisfied: pytest-shutil in /home/jarulraj3/eva/test_evadb/lib/python3.8/site-packages (from pytest-virtualenv; extra == \"dev\"->evadb[dev]) (1.7.0)\n",
      "Requirement already satisfied: virtualenv in /home/jarulraj3/eva/test_evadb/lib/python3.8/site-packages (from pytest-virtualenv; extra == \"dev\"->evadb[dev]) (20.16.3)\n",
      "Requirement already satisfied: click-log in /home/jarulraj3/eva/test_evadb/lib/python3.8/site-packages (from scriv==0.16.0; extra == \"dev\"->evadb[dev]) (0.4.0)\n",
      "Requirement already satisfied: jinja2 in /home/jarulraj3/eva/test_evadb/lib/python3.8/site-packages (from scriv==0.16.0; extra == \"dev\"->evadb[dev]) (3.1.2)\n",
      "Requirement already satisfied: attrs in /home/jarulraj3/eva/test_evadb/lib/python3.8/site-packages (from scriv==0.16.0; extra == \"dev\"->evadb[dev]) (22.1.0)\n",
      "Requirement already satisfied: mccabe<0.7.0,>=0.6.0 in /home/jarulraj3/eva/test_evadb/lib/python3.8/site-packages (from flake8==3.9.1; extra == \"dev\"->evadb[dev]) (0.6.1)\n",
      "Requirement already satisfied: pycodestyle<2.8.0,>=2.7.0 in /home/jarulraj3/eva/test_evadb/lib/python3.8/site-packages (from flake8==3.9.1; extra == \"dev\"->evadb[dev]) (2.7.0)\n",
      "Requirement already satisfied: pyflakes<2.4.0,>=2.3.0 in /home/jarulraj3/eva/test_evadb/lib/python3.8/site-packages (from flake8==3.9.1; extra == \"dev\"->evadb[dev]) (2.3.1)\n",
      "Requirement already satisfied: toml in /home/jarulraj3/eva/test_evadb/lib/python3.8/site-packages (from pytest==6.1.2; extra == \"dev\"->evadb[dev]) (0.10.2)\n",
      "Requirement already satisfied: pluggy<1.0,>=0.12 in /home/jarulraj3/eva/test_evadb/lib/python3.8/site-packages (from pytest==6.1.2; extra == \"dev\"->evadb[dev]) (0.13.1)\n",
      "Requirement already satisfied: iniconfig in /home/jarulraj3/eva/test_evadb/lib/python3.8/site-packages (from pytest==6.1.2; extra == \"dev\"->evadb[dev]) (1.1.1)\n",
      "Requirement already satisfied: py>=1.8.2 in /home/jarulraj3/eva/test_evadb/lib/python3.8/site-packages (from pytest==6.1.2; extra == \"dev\"->evadb[dev]) (1.11.0)\n",
      "Requirement already satisfied: pyparsing!=3.0.5,>=2.0.2 in /home/jarulraj3/eva/test_evadb/lib/python3.8/site-packages (from packaging>=15.0->petastorm==0.11.5->evadb[dev]) (3.0.9)\n",
      "Requirement already satisfied: certifi>=2017.4.17 in /home/jarulraj3/eva/test_evadb/lib/python3.8/site-packages (from requests->facenet-pytorch==2.5.2; extra == \"dev\"->evadb[dev]) (2022.6.15)\n",
      "Requirement already satisfied: charset-normalizer<3,>=2 in /home/jarulraj3/eva/test_evadb/lib/python3.8/site-packages (from requests->facenet-pytorch==2.5.2; extra == \"dev\"->evadb[dev]) (2.1.0)\n",
      "Requirement already satisfied: urllib3<1.27,>=1.21.1 in /home/jarulraj3/eva/test_evadb/lib/python3.8/site-packages (from requests->facenet-pytorch==2.5.2; extra == \"dev\"->evadb[dev]) (1.26.11)\n",
      "Requirement already satisfied: idna<4,>=2.5 in /home/jarulraj3/eva/test_evadb/lib/python3.8/site-packages (from requests->facenet-pytorch==2.5.2; extra == \"dev\"->evadb[dev]) (3.3)\n",
      "Requirement already satisfied: imageio>=2.4.1 in /home/jarulraj3/eva/test_evadb/lib/python3.8/site-packages (from scikit-image->easyocr==1.5.0; extra == \"dev\"->evadb[dev]) (2.21.1)\n",
      "Requirement already satisfied: PyWavelets>=1.1.1 in /home/jarulraj3/eva/test_evadb/lib/python3.8/site-packages (from scikit-image->easyocr==1.5.0; extra == \"dev\"->evadb[dev]) (1.3.0)\n",
      "Requirement already satisfied: networkx>=2.2 in /home/jarulraj3/eva/test_evadb/lib/python3.8/site-packages (from scikit-image->easyocr==1.5.0; extra == \"dev\"->evadb[dev]) (2.8.5)\n",
      "Requirement already satisfied: tifffile>=2019.7.26 in /home/jarulraj3/eva/test_evadb/lib/python3.8/site-packages (from scikit-image->easyocr==1.5.0; extra == \"dev\"->evadb[dev]) (2022.8.8)\n",
      "Requirement already satisfied: termcolor in /home/jarulraj3/eva/test_evadb/lib/python3.8/site-packages (from pytest-shutil->pytest-virtualenv; extra == \"dev\"->evadb[dev]) (1.1.0)\n",
      "Requirement already satisfied: execnet in /home/jarulraj3/eva/test_evadb/lib/python3.8/site-packages (from pytest-shutil->pytest-virtualenv; extra == \"dev\"->evadb[dev]) (1.9.0)\n",
      "Requirement already satisfied: contextlib2 in /home/jarulraj3/eva/test_evadb/lib/python3.8/site-packages (from pytest-shutil->pytest-virtualenv; extra == \"dev\"->evadb[dev]) (21.6.0)\n",
      "Requirement already satisfied: path.py in /home/jarulraj3/eva/test_evadb/lib/python3.8/site-packages (from pytest-shutil->pytest-virtualenv; extra == \"dev\"->evadb[dev]) (12.5.0)\n",
      "Requirement already satisfied: filelock<4,>=3.4.1 in /home/jarulraj3/eva/test_evadb/lib/python3.8/site-packages (from virtualenv->pytest-virtualenv; extra == \"dev\"->evadb[dev]) (3.7.1)\n",
      "Requirement already satisfied: distlib<1,>=0.3.5 in /home/jarulraj3/eva/test_evadb/lib/python3.8/site-packages (from virtualenv->pytest-virtualenv; extra == \"dev\"->evadb[dev]) (0.3.5)\n",
      "Requirement already satisfied: MarkupSafe>=2.0 in /home/jarulraj3/eva/test_evadb/lib/python3.8/site-packages (from jinja2->scriv==0.16.0; extra == \"dev\"->evadb[dev]) (2.1.1)\n",
      "Requirement already satisfied: path in /home/jarulraj3/eva/test_evadb/lib/python3.8/site-packages (from path.py->pytest-shutil->pytest-virtualenv; extra == \"dev\"->evadb[dev]) (16.4.0)\n"
     ]
    }
   ],
   "source": [
    "## Install EVA package if needed\n",
    "!pip install \"evadb[dev]\"\n",
    "\n",
    "def launch_eva_server():\n",
    "    ## Start EVA server\n",
    "    import os\n",
    "    import time\n",
    "\n",
    "    os.environ['GPU_DEVICES'] = '0'\n",
    "    !rm nohup.out\n",
    "\n",
    "    os.system('python ../eva/eva_server.py &')\n",
    "    !cat nohup.out\n",
    "\n",
    "    # Wait for server to start\n",
    "    time.sleep(10)\n",
    "\n",
    "    from eva.server.db_api import connect\n",
    "    import nest_asyncio\n",
    "    nest_asyncio.apply()\n",
    "    # hostname, port where the EVA server will run\n",
    "    connection = connect(host = '127.0.0.1', port = 5432) \n",
    "    cursor = connection.cursor()\n",
    "\n",
    "    return cursor"
   ]
  }
 ],
 "metadata": {
  "kernelspec": {
   "display_name": "Python 3.8.10 ('test_evadb': venv)",
   "language": "python",
   "name": "python3"
  },
  "language_info": {
   "codemirror_mode": {
    "name": "ipython",
    "version": 3
   },
   "file_extension": ".py",
   "mimetype": "text/x-python",
   "name": "python",
   "nbconvert_exporter": "python",
   "pygments_lexer": "ipython3",
   "version": "3.8.10"
  },
  "orig_nbformat": 4,
  "vscode": {
   "interpreter": {
    "hash": "292337e8e9747092192f4a1ef18b0951099c869b0f06eb7241460e1768f24923"
   }
  }
 },
 "nbformat": 4,
 "nbformat_minor": 2
}
