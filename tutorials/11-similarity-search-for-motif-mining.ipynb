{
 "cells": [
  {
   "attachments": {},
   "cell_type": "markdown",
   "id": "3a4df227",
   "metadata": {},
   "source": [
    "# Similarity search for motif mining"
   ]
  },
  {
   "attachments": {},
   "cell_type": "markdown",
   "id": "5d29b79c",
   "metadata": {},
   "source": [
    "In this tutorial, we demonstrate how to utilize the similarity functionality to discover images with similar motifs from a collection of Reddit images. We employ the classic `SIFT` feature to identify images with a strikingly similar appearance (image-level pipeline).\n",
    "\n",
    "Additionally, we extend the pipeline by incorporating an object detection model, `YOLO`, in combination with the SIFT feature. This enables us to identify objects within the images that exhibit a similar appearance (object-level similarity).\n",
    "\n",
    "To illustrate the seamless integration of different vector stores, we leverage the power of multiple vector stores, namely `FAISS` and `QDRANT`, within evadb. This demonstrates the ease with which you can utilize diverse vector stores to construct indexes, enhancing your similarity search experience."
   ]
  },
  {
   "attachments": {},
   "cell_type": "markdown",
   "id": "e6df3057",
   "metadata": {},
   "source": [
    "<table align=\"left\">\n",
    "  <td>\n",
    "    <a target=\"_blank\" href=\"https://colab.research.google.com/github/georgia-tech-db/eva/blob/master/tutorials/11-similarity-search-for-motif-mining.ipynb\"><img src=\"https://www.tensorflow.org/images/colab_logo_32px.png\" /> Run on Google Colab</a>\n",
    "  </td>\n",
    "  <td>\n",
    "    <a target=\"_blank\" href=\"https://github.com/georgia-tech-db/eva/blob/master/tutorials/11-similarity-search-for-motif-mining.ipynb\"><img src=\"https://www.tensorflow.org/images/GitHub-Mark-32px.png\" /> View source on GitHub</a>\n",
    "  </td>\n",
    "  <td>\n",
    "    <a target=\"_blank\" href=\"https://github.com/georgia-tech-db/eva/raw/master/tutorials/11-similarity-search-for-motif-mining.ipynb\"><img src=\"https://www.tensorflow.org/images/download_logo_32px.png\" /> Download notebook</a>\n",
    "  </td>\n",
    "</table><br><br>"
   ]
  },
  {
   "attachments": {},
   "cell_type": "markdown",
   "id": "50b1674e",
   "metadata": {},
   "source": [
    "### Connect to EvaDB\n"
   ]
  },
  {
   "cell_type": "code",
   "execution_count": 1,
   "id": "aa5181dc",
   "metadata": {
    "execution": {
     "iopub.execute_input": "2023-06-24T16:05:55.813721Z",
     "iopub.status.busy": "2023-06-24T16:05:55.813153Z",
     "iopub.status.idle": "2023-06-24T16:06:11.843065Z",
     "shell.execute_reply": "2023-06-24T16:06:11.841891Z"
    }
   },
   "outputs": [
    {
     "name": "stdout",
     "output_type": "stream",
     "text": [
      "\u001b[31mERROR: pip's dependency resolver does not currently take into account all the packages that are installed. This behaviour is the source of the following dependency conflicts.\n",
      "grpcio-tools 1.56.0 requires protobuf<5.0dev,>=4.21.6, but you have protobuf 3.20.1 which is incompatible.\n",
      "ray 2.4.0 requires grpcio<=1.51.3,>=1.42.0; python_version >= \"3.10\" and sys_platform != \"darwin\", but you have grpcio 1.56.0 which is incompatible.\u001b[0m\u001b[31m\n",
      "\u001b[0mNote: you may need to restart the kernel to use updated packages.\n",
      "\u001b[31mERROR: pip's dependency resolver does not currently take into account all the packages that are installed. This behaviour is the source of the following dependency conflicts.\n",
      "ray 2.4.0 requires grpcio<=1.51.3,>=1.42.0; python_version >= \"3.10\" and sys_platform != \"darwin\", but you have grpcio 1.56.0 which is incompatible.\u001b[0m\u001b[31m\n",
      "\u001b[0mNote: you may need to restart the kernel to use updated packages.\n"
     ]
    }
   ],
   "source": [
    "%pip install --quiet \"evadb[vision,document,notebook]\"\n",
    "%pip install --quiet kornia qdrant_client\n",
    "import evadb\n",
    "cursor = evadb.connect().cursor()"
   ]
  },
  {
   "attachments": {},
   "cell_type": "markdown",
   "id": "cc9f4144",
   "metadata": {},
   "source": [
    "### Download reddit dataset"
   ]
  },
  {
   "cell_type": "code",
   "execution_count": null,
   "id": "527ec1b6",
   "metadata": {
    "execution": {
     "iopub.execute_input": "2023-06-24T16:06:11.847293Z",
     "iopub.status.busy": "2023-06-24T16:06:11.847009Z",
     "iopub.status.idle": "2023-06-24T16:06:15.024772Z",
     "shell.execute_reply": "2023-06-24T16:06:15.023102Z"
    }
   },
   "outputs": [
    {
     "name": "stdout",
     "output_type": "stream",
     "text": [
      "--2023-06-24 12:06:12--  https://www.dropbox.com/scl/fo/fcj6ojmii0gw92zg3jb2s/h?dl=1&rlkey=j3kj1ox4yn5fhonw06v0pn7r9\r\n",
      "Resolving www.dropbox.com (www.dropbox.com)... "
     ]
    },
    {
     "name": "stdout",
     "output_type": "stream",
     "text": [
      "162.125.9.18, 2620:100:601f:18::a27d:912\r\n",
      "Connecting to www.dropbox.com (www.dropbox.com)|162.125.9.18|:443... connected.\r\n",
      "HTTP request sent, awaiting response... "
     ]
    },
    {
     "name": "stdout",
     "output_type": "stream",
     "text": [
      "302 Found\r\n",
      "Location: https://ucb5dd5994d9c04177dc93396946.dl.dropboxusercontent.com/zip_download_get/Bh_JNE-Dsk_vODTmqnhrF1AqyGJHJ1bhZHjFi6Og26OcQcltrTbYIxqAx1YZ5Y5nX9vVRVkPfsGmFhEOwnMd1DoSlPTim70W35c7Dn4OV6UDFw# [following]\r\n",
      "--2023-06-24 12:06:13--  https://ucb5dd5994d9c04177dc93396946.dl.dropboxusercontent.com/zip_download_get/Bh_JNE-Dsk_vODTmqnhrF1AqyGJHJ1bhZHjFi6Og26OcQcltrTbYIxqAx1YZ5Y5nX9vVRVkPfsGmFhEOwnMd1DoSlPTim70W35c7Dn4OV6UDFw\r\n",
      "Resolving ucb5dd5994d9c04177dc93396946.dl.dropboxusercontent.com (ucb5dd5994d9c04177dc93396946.dl.dropboxusercontent.com)... "
     ]
    },
    {
     "name": "stdout",
     "output_type": "stream",
     "text": [
      "162.125.9.15, 2620:100:601f:15::a27d:90f\r\n",
      "Connecting to ucb5dd5994d9c04177dc93396946.dl.dropboxusercontent.com (ucb5dd5994d9c04177dc93396946.dl.dropboxusercontent.com)|162.125.9.15|:443... connected.\r\n",
      "HTTP request sent, awaiting response... "
     ]
    },
    {
     "name": "stdout",
     "output_type": "stream",
     "text": [
      "200 OK\r\n",
      "Length: 4397651 (4.2M) [application/zip]\r\n",
      "Saving to: ‘reddit-images.zip’\r\n",
      "\r\n",
      "\r\n",
      "reddit-images.zip     0%[                    ]       0  --.-KB/s               "
     ]
    },
    {
     "name": "stdout",
     "output_type": "stream",
     "text": [
      "\r\n",
      "reddit-images.zip    73%[=============>      ]   3.07M  8.20MB/s               \r\n",
      "reddit-images.zip   100%[===================>]   4.19M  10.9MB/s    in 0.4s    \r\n",
      "\r\n",
      "2023-06-24 12:06:14 (10.9 MB/s) - ‘reddit-images.zip’ saved [4397651/4397651]\r\n",
      "\r\n"
     ]
    },
    {
     "name": "stdout",
     "output_type": "stream",
     "text": [
      "Archive:  reddit-images.zip\r\n",
      "warning:  stripped absolute path spec from /\r\n",
      "mapname:  conversion of  failed\r\n",
      " extracting: reddit-images/g348_d7jgzgf.jpg  \r\n",
      " extracting: reddit-images/g348_d7jphyc.jpg  \r\n",
      " extracting: reddit-images/g348_d7ju7dq.jpg  \r\n",
      " extracting: reddit-images/g348_d7jhhs3.jpg  \r\n",
      " extracting: reddit-images/g1074_d4n1lmn.jpg  \r\n",
      " extracting: reddit-images/g1074_d4mxztt.jpg  \r\n",
      " extracting: reddit-images/g1074_d4n60oy.jpg  \r\n",
      " extracting: reddit-images/g1074_d4n6fgs.jpg  \r\n",
      " extracting: reddit-images/g1190_cln9xzr.jpg  \r\n",
      " extracting: reddit-images/g1190_cln97xm.jpg  \r\n",
      " extracting: reddit-images/g1190_clna260.jpg  \r\n",
      " extracting: reddit-images/g1190_clna2x2.jpg  \r\n",
      " extracting: reddit-images/g1190_clna91w.jpg  \r\n",
      " extracting: reddit-images/g1190_clnad42.jpg  \r\n",
      " extracting: reddit-images/g1190_clnajd7.jpg  \r\n",
      " extracting: reddit-images/g1190_clnapoy.jpg  \r\n",
      " extracting: reddit-images/g1190_clnarjl.jpg  \r\n",
      " extracting: reddit-images/g1190_clnavnu.jpg  \r\n",
      " extracting: reddit-images/g1190_clnbalu.jpg  \r\n",
      " extracting: reddit-images/g1190_clnbf07.jpg  \r\n",
      " extracting: reddit-images/g1190_clnc4uy.jpg  \r\n",
      " extracting: reddit-images/g1190_clncot0.jpg  \r\n",
      " extracting: reddit-images/g1190_clndsnu.jpg  \r\n",
      " extracting: reddit-images/g1190_clnce4b.jpg  \r\n",
      " extracting: reddit-images/g1209_ct65pvl.jpg  \r\n",
      " extracting: reddit-images/g1209_ct66erw.jpg  \r\n",
      " extracting: reddit-images/g1209_ct67oqk.jpg  \r\n",
      " extracting: reddit-images/g1209_ct6a0g5.jpg  \r\n",
      " extracting: reddit-images/g1209_ct6bf1n.jpg  \r\n",
      " extracting: reddit-images/g1418_cj3o1h6.jpg  \r\n",
      " extracting: reddit-images/g1418_cj3om3h.jpg  \r\n",
      " extracting: reddit-images/g1418_cj3qysz.jpg  \r\n",
      " extracting: reddit-images/g1418_cj3r4gw.jpg  \r\n",
      " extracting: reddit-images/g1418_cj3z7jw.jpg  \r\n"
     ]
    }
   ],
   "source": [
    "\n",
    "!wget -nc https://www.dropbox.com/scl/fo/fcj6ojmii0gw92zg3jb2s/h\\?dl\\=1\\&rlkey\\=j3kj1ox4yn5fhonw06v0pn7r9 -O reddit-images.zip\n",
    "!unzip -o reddit-images.zip -d reddit-images"
   ]
  },
  {
   "attachments": {},
   "cell_type": "markdown",
   "id": "0d8c9917",
   "metadata": {},
   "source": [
    "### Load all images into evadb"
   ]
  },
  {
   "cell_type": "code",
   "execution_count": null,
   "id": "3b9bca7b",
   "metadata": {
    "execution": {
     "iopub.execute_input": "2023-06-24T16:06:15.030612Z",
     "iopub.status.busy": "2023-06-24T16:06:15.030134Z",
     "iopub.status.idle": "2023-06-24T16:06:15.622928Z",
     "shell.execute_reply": "2023-06-24T16:06:15.622008Z"
    }
   },
   "outputs": [
    {
     "data": {
      "text/html": [
       "<div>\n",
       "<style scoped>\n",
       "    .dataframe tbody tr th:only-of-type {\n",
       "        vertical-align: middle;\n",
       "    }\n",
       "\n",
       "    .dataframe tbody tr th {\n",
       "        vertical-align: top;\n",
       "    }\n",
       "\n",
       "    .dataframe thead th {\n",
       "        text-align: right;\n",
       "    }\n",
       "</style>\n",
       "<table border=\"1\" class=\"dataframe\">\n",
       "  <thead>\n",
       "    <tr style=\"text-align: right;\">\n",
       "      <th></th>\n",
       "      <th>0</th>\n",
       "    </tr>\n",
       "  </thead>\n",
       "  <tbody>\n",
       "    <tr>\n",
       "      <th>0</th>\n",
       "      <td>Number of loaded IMAGE: 34</td>\n",
       "    </tr>\n",
       "  </tbody>\n",
       "</table>\n",
       "</div>"
      ],
      "text/plain": [
       "                            0\n",
       "0  Number of loaded IMAGE: 34"
      ]
     },
     "execution_count": 3,
     "metadata": {},
     "output_type": "execute_result"
    }
   ],
   "source": [
    "response = cursor.query(\"DROP TABLE IF EXISTS reddit_dataset;\").df()\n",
    "cursor.query(\n",
    "    \"LOAD IMAGE 'reddit-images/*.jpg' INTO reddit_dataset;\"\n",
    ").df()\n"
   ]
  },
  {
   "attachments": {},
   "cell_type": "markdown",
   "id": "6743684c",
   "metadata": {},
   "source": [
    "### Register a SIFT FeatureExtractor \n",
    "It uses `kornia` library to extract sift features for each image"
   ]
  },
  {
   "cell_type": "code",
   "execution_count": null,
   "id": "49496e97",
   "metadata": {
    "execution": {
     "iopub.execute_input": "2023-06-24T16:06:15.626897Z",
     "iopub.status.busy": "2023-06-24T16:06:15.626515Z",
     "iopub.status.idle": "2023-06-24T16:06:15.991080Z",
     "shell.execute_reply": "2023-06-24T16:06:15.990254Z"
    }
   },
   "outputs": [
    {
     "data": {
      "text/html": [
       "<div>\n",
       "<style scoped>\n",
       "    .dataframe tbody tr th:only-of-type {\n",
       "        vertical-align: middle;\n",
       "    }\n",
       "\n",
       "    .dataframe tbody tr th {\n",
       "        vertical-align: top;\n",
       "    }\n",
       "\n",
       "    .dataframe thead th {\n",
       "        text-align: right;\n",
       "    }\n",
       "</style>\n",
       "<table border=\"1\" class=\"dataframe\">\n",
       "  <thead>\n",
       "    <tr style=\"text-align: right;\">\n",
       "      <th></th>\n",
       "      <th>0</th>\n",
       "    </tr>\n",
       "  </thead>\n",
       "  <tbody>\n",
       "    <tr>\n",
       "      <th>0</th>\n",
       "      <td>UDF SiftFeatureExtractor successfully added to...</td>\n",
       "    </tr>\n",
       "  </tbody>\n",
       "</table>\n",
       "</div>"
      ],
      "text/plain": [
       "                                                   0\n",
       "0  UDF SiftFeatureExtractor successfully added to..."
      ]
     },
     "execution_count": 4,
     "metadata": {},
     "output_type": "execute_result"
    }
   ],
   "source": [
    "cursor.query(\"DROP UDF IF EXISTS SiftFeatureExtractor;\").df()\n",
    "cursor.query(\"\"\"CREATE UDF IF NOT EXISTS SiftFeatureExtractor\n",
    "                    IMPL  '../evadb/udfs/sift_feature_extractor.py'\"\"\").df()"
   ]
  },
  {
   "cell_type": "code",
   "execution_count": null,
   "id": "1101ec76",
   "metadata": {
    "execution": {
     "iopub.execute_input": "2023-06-24T16:06:15.995966Z",
     "iopub.status.busy": "2023-06-24T16:06:15.995680Z",
     "iopub.status.idle": "2023-06-24T16:06:16.000191Z",
     "shell.execute_reply": "2023-06-24T16:06:15.999351Z"
    }
   },
   "outputs": [],
   "source": [
    "# Keep track of which image gets the most votes\n",
    "from collections import Counter\n",
    "vote = Counter()"
   ]
  },
  {
   "attachments": {},
   "cell_type": "markdown",
   "id": "cc5a1e73",
   "metadata": {
    "execution": {
     "iopub.execute_input": "2023-05-10T04:14:02.011536Z",
     "iopub.status.busy": "2023-05-10T04:14:02.011425Z",
     "iopub.status.idle": "2023-05-10T04:14:02.015115Z",
     "shell.execute_reply": "2023-05-10T04:14:02.014808Z"
    }
   },
   "source": [
    "## Image-level similarity search pipeline. \n",
    "This pipeline creates one vector per image. Next, we should breakdown steps how we build the index and search similar vectors using the index."
   ]
  },
  {
   "cell_type": "code",
   "execution_count": null,
   "id": "d85e3fa4",
   "metadata": {
    "execution": {
     "iopub.execute_input": "2023-06-24T16:06:16.003359Z",
     "iopub.status.busy": "2023-06-24T16:06:16.003070Z",
     "iopub.status.idle": "2023-06-24T16:06:18.741179Z",
     "shell.execute_reply": "2023-06-24T16:06:18.740320Z"
    }
   },
   "outputs": [
    {
     "name": "stderr",
     "output_type": "stream",
     "text": [
      "06-24-2023 12:06:16 WARNING[drop_object_executor:drop_object_executor.py:_handle_drop_index:0106] Index reddit_sift_image_index does not exist, therefore cannot be dropped.\n"
     ]
    },
    {
     "data": {
      "text/html": [
       "<div>\n",
       "<style scoped>\n",
       "    .dataframe tbody tr th:only-of-type {\n",
       "        vertical-align: middle;\n",
       "    }\n",
       "\n",
       "    .dataframe tbody tr th {\n",
       "        vertical-align: top;\n",
       "    }\n",
       "\n",
       "    .dataframe thead th {\n",
       "        text-align: right;\n",
       "    }\n",
       "</style>\n",
       "<table border=\"1\" class=\"dataframe\">\n",
       "  <thead>\n",
       "    <tr style=\"text-align: right;\">\n",
       "      <th></th>\n",
       "      <th>0</th>\n",
       "    </tr>\n",
       "  </thead>\n",
       "  <tbody>\n",
       "    <tr>\n",
       "      <th>0</th>\n",
       "      <td>Index reddit_sift_image_index successfully add...</td>\n",
       "    </tr>\n",
       "  </tbody>\n",
       "</table>\n",
       "</div>"
      ],
      "text/plain": [
       "                                                   0\n",
       "0  Index reddit_sift_image_index successfully add..."
      ]
     },
     "execution_count": 6,
     "metadata": {},
     "output_type": "execute_result"
    }
   ],
   "source": [
    "#1. Create index for the entire image\n",
    "cursor.query(\"\"\"DROP INDEX IF EXISTS reddit_sift_image_index\"\"\").df()\n",
    "cursor.query(\"\"\"CREATE INDEX reddit_sift_image_index \n",
    "                    ON reddit_dataset (SiftFeatureExtractor(data)) \n",
    "                    USING FAISS\"\"\").df()"
   ]
  },
  {
   "cell_type": "code",
   "execution_count": null,
   "id": "f54cfe6b",
   "metadata": {
    "execution": {
     "iopub.execute_input": "2023-06-24T16:06:18.745470Z",
     "iopub.status.busy": "2023-06-24T16:06:18.745031Z",
     "iopub.status.idle": "2023-06-24T16:06:19.529307Z",
     "shell.execute_reply": "2023-06-24T16:06:19.527984Z"
    }
   },
   "outputs": [],
   "source": [
    "#2. Search similar vectors\n",
    "response = cursor.query(\"\"\"SELECT name FROM reddit_dataset ORDER BY\n",
    "                    Similarity(\n",
    "                      SiftFeatureExtractor(Open('reddit-images/g1190_clna260.jpg')),\n",
    "                      SiftFeatureExtractor(data)\n",
    "                    )\n",
    "                    LIMIT 5\"\"\").df()"
   ]
  },
  {
   "cell_type": "code",
   "execution_count": null,
   "id": "68734588",
   "metadata": {
    "execution": {
     "iopub.execute_input": "2023-06-24T16:06:19.535703Z",
     "iopub.status.busy": "2023-06-24T16:06:19.535121Z",
     "iopub.status.idle": "2023-06-24T16:06:19.540269Z",
     "shell.execute_reply": "2023-06-24T16:06:19.539686Z"
    }
   },
   "outputs": [
    {
     "name": "stdout",
     "output_type": "stream",
     "text": [
      "Counter({'reddit-images/g1190_clna260.jpg': 1, 'reddit-images/g1190_clndsnu.jpg': 1, 'reddit-images/g1190_clna91w.jpg': 1, 'reddit-images/g1190_clnc4uy.jpg': 1, 'reddit-images/g1190_cln97xm.jpg': 1})\n"
     ]
    }
   ],
   "source": [
    "#3. Update votes\n",
    "for i in range(len(response)):\n",
    "    vote[response[\"reddit_dataset.name\"][i]] += 1\n",
    "print(vote)"
   ]
  },
  {
   "attachments": {},
   "cell_type": "markdown",
   "id": "a19a5d51",
   "metadata": {
    "execution": {
     "iopub.execute_input": "2023-05-10T04:14:02.901910Z",
     "iopub.status.busy": "2023-05-10T04:14:02.901809Z",
     "iopub.status.idle": "2023-05-10T04:14:02.903869Z",
     "shell.execute_reply": "2023-05-10T04:14:02.903634Z"
    }
   },
   "source": [
    "## Object-level similarity search pipeline. \n",
    "This pipeline detects objects within images and generates vectors exclusively from the cropped objects. The index is then constructed using these vectors. To showcase the versatility of `evadb`, we leverage `Qdrant` vector store specifically for building this index. This demonstrates how seamlessly you can leverage different vector stores within evadb."
   ]
  },
  {
   "attachments": {},
   "cell_type": "markdown",
   "id": "bce1b7fe",
   "metadata": {},
   "source": [
    "### 1. Extract all the object using `Yolo` from the images"
   ]
  },
  {
   "cell_type": "code",
   "execution_count": null,
   "id": "cefc8b80",
   "metadata": {
    "execution": {
     "iopub.execute_input": "2023-06-24T16:06:19.542796Z",
     "iopub.status.busy": "2023-06-24T16:06:19.542528Z",
     "iopub.status.idle": "2023-06-24T16:06:29.268119Z",
     "shell.execute_reply": "2023-06-24T16:06:29.266719Z"
    }
   },
   "outputs": [
    {
     "name": "stderr",
     "output_type": "stream",
     "text": [
      "06-24-2023 12:06:28 ERROR [base_model:base_model.py:_commit:0097] Database commit failed : (sqlite3.OperationalError) database is locked\n",
      "(Background on this error at: https://sqlalche.me/e/14/e3q8)\n"
     ]
    },
    {
     "name": "stderr",
     "output_type": "stream",
     "text": [
      "06-24-2023 12:06:28 ERROR [base_model:base_model.py:save:0058] Database save failed : (sqlite3.OperationalError) database is locked\n",
      "(Background on this error at: https://sqlalche.me/e/14/e3q8)\n"
     ]
    },
    {
     "name": "stderr",
     "output_type": "stream",
     "text": [
      "06-24-2023 12:06:28 ERROR [plan_executor:plan_executor.py:execute_plan:0172] Error while upserting entry to UdfCostCatalog: Error while inserting entry to UdfCostCatalog: (sqlite3.OperationalError) database is locked\n",
      "(Background on this error at: https://sqlalche.me/e/14/e3q8)\n",
      "Traceback (most recent call last):\n",
      "  File \"/home/jarulraj3/eva/test_evadb/lib/python3.10/site-packages/sqlalchemy/engine/base.py\", line 1094, in _commit_impl\n",
      "    self.engine.dialect.do_commit(self.connection)\n",
      "  File \"/home/jarulraj3/eva/test_evadb/lib/python3.10/site-packages/sqlalchemy/engine/default.py\", line 686, in do_commit\n",
      "    dbapi_connection.commit()\n",
      "sqlite3.OperationalError: database is locked\n",
      "\n",
      "The above exception was the direct cause of the following exception:\n",
      "\n",
      "Traceback (most recent call last):\n",
      "  File \"/home/jarulraj3/eva/test_evadb/lib/python3.10/site-packages/evadb/catalog/services/udf_cost_catalog_service.py\", line 41, in insert_entry\n",
      "    udf_obj.save(self.session)\n",
      "  File \"/home/jarulraj3/eva/test_evadb/lib/python3.10/site-packages/evadb/catalog/models/base_model.py\", line 59, in save\n",
      "    raise e\n",
      "  File \"/home/jarulraj3/eva/test_evadb/lib/python3.10/site-packages/evadb/catalog/models/base_model.py\", line 55, in save\n",
      "    self._commit(db_session)\n",
      "  File \"/home/jarulraj3/eva/test_evadb/lib/python3.10/site-packages/evadb/catalog/models/base_model.py\", line 98, in _commit\n",
      "    raise e\n",
      "  File \"/home/jarulraj3/eva/test_evadb/lib/python3.10/site-packages/evadb/catalog/models/base_model.py\", line 94, in _commit\n",
      "    db_session.commit()\n",
      "  File \"<string>\", line 2, in commit\n",
      "  File \"/home/jarulraj3/eva/test_evadb/lib/python3.10/site-packages/sqlalchemy/orm/session.py\", line 1454, in commit\n",
      "    self._transaction.commit(_to_root=self.future)\n",
      "  File \"/home/jarulraj3/eva/test_evadb/lib/python3.10/site-packages/sqlalchemy/orm/session.py\", line 839, in commit\n",
      "    trans.commit()\n",
      "  File \"/home/jarulraj3/eva/test_evadb/lib/python3.10/site-packages/sqlalchemy/engine/base.py\", line 2464, in commit\n",
      "    self._do_commit()\n",
      "  File \"/home/jarulraj3/eva/test_evadb/lib/python3.10/site-packages/sqlalchemy/engine/base.py\", line 2654, in _do_commit\n",
      "    self._connection_commit_impl()\n",
      "  File \"/home/jarulraj3/eva/test_evadb/lib/python3.10/site-packages/sqlalchemy/engine/base.py\", line 2625, in _connection_commit_impl\n",
      "    self.connection._commit_impl()\n",
      "  File \"/home/jarulraj3/eva/test_evadb/lib/python3.10/site-packages/sqlalchemy/engine/base.py\", line 1096, in _commit_impl\n",
      "    self._handle_dbapi_exception(e, None, None, None, None)\n",
      "  File \"/home/jarulraj3/eva/test_evadb/lib/python3.10/site-packages/sqlalchemy/engine/base.py\", line 2129, in _handle_dbapi_exception\n",
      "    util.raise_(\n",
      "  File \"/home/jarulraj3/eva/test_evadb/lib/python3.10/site-packages/sqlalchemy/util/compat.py\", line 211, in raise_\n",
      "    raise exception\n",
      "  File \"/home/jarulraj3/eva/test_evadb/lib/python3.10/site-packages/sqlalchemy/engine/base.py\", line 1094, in _commit_impl\n",
      "    self.engine.dialect.do_commit(self.connection)\n",
      "  File \"/home/jarulraj3/eva/test_evadb/lib/python3.10/site-packages/sqlalchemy/engine/default.py\", line 686, in do_commit\n",
      "    dbapi_connection.commit()\n",
      "sqlalchemy.exc.OperationalError: (sqlite3.OperationalError) database is locked\n",
      "(Background on this error at: https://sqlalche.me/e/14/e3q8)\n",
      "\n",
      "During handling of the above exception, another exception occurred:\n",
      "\n",
      "Traceback (most recent call last):\n",
      "  File \"/home/jarulraj3/eva/test_evadb/lib/python3.10/site-packages/evadb/catalog/services/udf_cost_catalog_service.py\", line 62, in upsert_entry\n",
      "    self.insert_entry(udf_id, name, new_cost)\n",
      "  File \"/home/jarulraj3/eva/test_evadb/lib/python3.10/site-packages/evadb/catalog/services/udf_cost_catalog_service.py\", line 43, in insert_entry\n",
      "    raise CatalogError(\n",
      "evadb.utils.errors.CatalogError: Error while inserting entry to UdfCostCatalog: (sqlite3.OperationalError) database is locked\n",
      "(Background on this error at: https://sqlalche.me/e/14/e3q8)\n",
      "\n",
      "During handling of the above exception, another exception occurred:\n",
      "\n",
      "Traceback (most recent call last):\n",
      "  File \"/home/jarulraj3/eva/test_evadb/lib/python3.10/site-packages/evadb/executor/plan_executor.py\", line 166, in execute_plan\n",
      "    output = execution_tree.exec()\n",
      "  File \"/home/jarulraj3/eva/test_evadb/lib/python3.10/site-packages/evadb/executor/create_mat_view_executor.py\", line 45, in exec\n",
      "    for batch in child.exec():\n",
      "  File \"/home/jarulraj3/eva/test_evadb/lib/python3.10/site-packages/evadb/executor/project_executor.py\", line 33, in exec\n",
      "    for batch in child_executor.exec(**kwargs):\n",
      "  File \"/home/jarulraj3/eva/test_evadb/lib/python3.10/site-packages/evadb/executor/apply_and_merge_executor.py\", line 48, in exec\n",
      "    self.catalog().upsert_udf_cost_catalog_entry(\n",
      "  File \"/home/jarulraj3/eva/test_evadb/lib/python3.10/site-packages/evadb/catalog/catalog_manager.py\", line 303, in upsert_udf_cost_catalog_entry\n",
      "    self._udf_cost_catalog_service.upsert_entry(udf_id, name, cost)\n",
      "  File \"/home/jarulraj3/eva/test_evadb/lib/python3.10/site-packages/evadb/catalog/services/udf_cost_catalog_service.py\", line 64, in upsert_entry\n",
      "    raise CatalogError(\n",
      "evadb.utils.errors.CatalogError: Error while upserting entry to UdfCostCatalog: Error while inserting entry to UdfCostCatalog: (sqlite3.OperationalError) database is locked\n",
      "(Background on this error at: https://sqlalche.me/e/14/e3q8)\n"
     ]
    },
    {
     "ename": "ExecutorError",
     "evalue": "Error while upserting entry to UdfCostCatalog: Error while inserting entry to UdfCostCatalog: (sqlite3.OperationalError) database is locked\n(Background on this error at: https://sqlalche.me/e/14/e3q8)",
     "output_type": "error",
     "traceback": [
      "\u001b[0;31m---------------------------------------------------------------------------\u001b[0m",
      "\u001b[0;31mOperationalError\u001b[0m                          Traceback (most recent call last)",
      "File \u001b[0;32m/home/jarulraj3/eva/test_evadb/lib/python3.10/site-packages/sqlalchemy/engine/base.py:1094\u001b[0m, in \u001b[0;36mConnection._commit_impl\u001b[0;34m(self, autocommit)\u001b[0m\n\u001b[1;32m   1093\u001b[0m \u001b[38;5;28;01mtry\u001b[39;00m:\n\u001b[0;32m-> 1094\u001b[0m     \u001b[38;5;28;43mself\u001b[39;49m\u001b[38;5;241;43m.\u001b[39;49m\u001b[43mengine\u001b[49m\u001b[38;5;241;43m.\u001b[39;49m\u001b[43mdialect\u001b[49m\u001b[38;5;241;43m.\u001b[39;49m\u001b[43mdo_commit\u001b[49m\u001b[43m(\u001b[49m\u001b[38;5;28;43mself\u001b[39;49m\u001b[38;5;241;43m.\u001b[39;49m\u001b[43mconnection\u001b[49m\u001b[43m)\u001b[49m\n\u001b[1;32m   1095\u001b[0m \u001b[38;5;28;01mexcept\u001b[39;00m \u001b[38;5;167;01mBaseException\u001b[39;00m \u001b[38;5;28;01mas\u001b[39;00m e:\n",
      "File \u001b[0;32m/home/jarulraj3/eva/test_evadb/lib/python3.10/site-packages/sqlalchemy/engine/default.py:686\u001b[0m, in \u001b[0;36mDefaultDialect.do_commit\u001b[0;34m(self, dbapi_connection)\u001b[0m\n\u001b[1;32m    685\u001b[0m \u001b[38;5;28;01mdef\u001b[39;00m \u001b[38;5;21mdo_commit\u001b[39m(\u001b[38;5;28mself\u001b[39m, dbapi_connection):\n\u001b[0;32m--> 686\u001b[0m     \u001b[43mdbapi_connection\u001b[49m\u001b[38;5;241;43m.\u001b[39;49m\u001b[43mcommit\u001b[49m\u001b[43m(\u001b[49m\u001b[43m)\u001b[49m\n",
      "\u001b[0;31mOperationalError\u001b[0m: database is locked",
      "\nThe above exception was the direct cause of the following exception:\n",
      "\u001b[0;31mOperationalError\u001b[0m                          Traceback (most recent call last)",
      "File \u001b[0;32m/home/jarulraj3/eva/test_evadb/lib/python3.10/site-packages/evadb/catalog/services/udf_cost_catalog_service.py:41\u001b[0m, in \u001b[0;36mUdfCostCatalogService.insert_entry\u001b[0;34m(self, udf_id, name, cost)\u001b[0m\n\u001b[1;32m     40\u001b[0m     udf_obj \u001b[38;5;241m=\u001b[39m \u001b[38;5;28mself\u001b[39m\u001b[38;5;241m.\u001b[39mmodel(udf_id, name, cost)\n\u001b[0;32m---> 41\u001b[0m     \u001b[43mudf_obj\u001b[49m\u001b[38;5;241;43m.\u001b[39;49m\u001b[43msave\u001b[49m\u001b[43m(\u001b[49m\u001b[38;5;28;43mself\u001b[39;49m\u001b[38;5;241;43m.\u001b[39;49m\u001b[43msession\u001b[49m\u001b[43m)\u001b[49m\n\u001b[1;32m     42\u001b[0m \u001b[38;5;28;01mexcept\u001b[39;00m \u001b[38;5;167;01mException\u001b[39;00m \u001b[38;5;28;01mas\u001b[39;00m e:\n",
      "File \u001b[0;32m/home/jarulraj3/eva/test_evadb/lib/python3.10/site-packages/evadb/catalog/models/base_model.py:59\u001b[0m, in \u001b[0;36mCustomModel.save\u001b[0;34m(self, db_session)\u001b[0m\n\u001b[1;32m     58\u001b[0m     logger\u001b[38;5;241m.\u001b[39merror(\u001b[38;5;124mf\u001b[39m\u001b[38;5;124m\"\u001b[39m\u001b[38;5;124mDatabase save failed : \u001b[39m\u001b[38;5;132;01m{\u001b[39;00m\u001b[38;5;28mstr\u001b[39m(e)\u001b[38;5;132;01m}\u001b[39;00m\u001b[38;5;124m\"\u001b[39m)\n\u001b[0;32m---> 59\u001b[0m     \u001b[38;5;28;01mraise\u001b[39;00m e\n\u001b[1;32m     60\u001b[0m \u001b[38;5;28;01mreturn\u001b[39;00m \u001b[38;5;28mself\u001b[39m\n",
      "File \u001b[0;32m/home/jarulraj3/eva/test_evadb/lib/python3.10/site-packages/evadb/catalog/models/base_model.py:55\u001b[0m, in \u001b[0;36mCustomModel.save\u001b[0;34m(self, db_session)\u001b[0m\n\u001b[1;32m     54\u001b[0m     db_session\u001b[38;5;241m.\u001b[39madd(\u001b[38;5;28mself\u001b[39m)\n\u001b[0;32m---> 55\u001b[0m     \u001b[38;5;28;43mself\u001b[39;49m\u001b[38;5;241;43m.\u001b[39;49m\u001b[43m_commit\u001b[49m\u001b[43m(\u001b[49m\u001b[43mdb_session\u001b[49m\u001b[43m)\u001b[49m\n\u001b[1;32m     56\u001b[0m \u001b[38;5;28;01mexcept\u001b[39;00m \u001b[38;5;167;01mException\u001b[39;00m \u001b[38;5;28;01mas\u001b[39;00m e:\n",
      "File \u001b[0;32m/home/jarulraj3/eva/test_evadb/lib/python3.10/site-packages/evadb/catalog/models/base_model.py:98\u001b[0m, in \u001b[0;36mCustomModel._commit\u001b[0;34m(self, db_session)\u001b[0m\n\u001b[1;32m     97\u001b[0m logger\u001b[38;5;241m.\u001b[39merror(\u001b[38;5;124mf\u001b[39m\u001b[38;5;124m\"\u001b[39m\u001b[38;5;124mDatabase commit failed : \u001b[39m\u001b[38;5;132;01m{\u001b[39;00m\u001b[38;5;28mstr\u001b[39m(e)\u001b[38;5;132;01m}\u001b[39;00m\u001b[38;5;124m\"\u001b[39m)\n\u001b[0;32m---> 98\u001b[0m \u001b[38;5;28;01mraise\u001b[39;00m e\n",
      "File \u001b[0;32m/home/jarulraj3/eva/test_evadb/lib/python3.10/site-packages/evadb/catalog/models/base_model.py:94\u001b[0m, in \u001b[0;36mCustomModel._commit\u001b[0;34m(self, db_session)\u001b[0m\n\u001b[1;32m     93\u001b[0m \u001b[38;5;28;01mtry\u001b[39;00m:\n\u001b[0;32m---> 94\u001b[0m     \u001b[43mdb_session\u001b[49m\u001b[38;5;241;43m.\u001b[39;49m\u001b[43mcommit\u001b[49m\u001b[43m(\u001b[49m\u001b[43m)\u001b[49m\n\u001b[1;32m     95\u001b[0m \u001b[38;5;28;01mexcept\u001b[39;00m SQLAlchemyError \u001b[38;5;28;01mas\u001b[39;00m e:\n",
      "File \u001b[0;32m<string>:2\u001b[0m, in \u001b[0;36mcommit\u001b[0;34m(self)\u001b[0m\n",
      "File \u001b[0;32m/home/jarulraj3/eva/test_evadb/lib/python3.10/site-packages/sqlalchemy/orm/session.py:1454\u001b[0m, in \u001b[0;36mSession.commit\u001b[0;34m(self)\u001b[0m\n\u001b[1;32m   1452\u001b[0m         \u001b[38;5;28;01mraise\u001b[39;00m sa_exc\u001b[38;5;241m.\u001b[39mInvalidRequestError(\u001b[38;5;124m\"\u001b[39m\u001b[38;5;124mNo transaction is begun.\u001b[39m\u001b[38;5;124m\"\u001b[39m)\n\u001b[0;32m-> 1454\u001b[0m \u001b[38;5;28;43mself\u001b[39;49m\u001b[38;5;241;43m.\u001b[39;49m\u001b[43m_transaction\u001b[49m\u001b[38;5;241;43m.\u001b[39;49m\u001b[43mcommit\u001b[49m\u001b[43m(\u001b[49m\u001b[43m_to_root\u001b[49m\u001b[38;5;241;43m=\u001b[39;49m\u001b[38;5;28;43mself\u001b[39;49m\u001b[38;5;241;43m.\u001b[39;49m\u001b[43mfuture\u001b[49m\u001b[43m)\u001b[49m\n",
      "File \u001b[0;32m/home/jarulraj3/eva/test_evadb/lib/python3.10/site-packages/sqlalchemy/orm/session.py:839\u001b[0m, in \u001b[0;36mSessionTransaction.commit\u001b[0;34m(self, _to_root)\u001b[0m\n\u001b[1;32m    838\u001b[0m     \u001b[38;5;28;01mif\u001b[39;00m should_commit:\n\u001b[0;32m--> 839\u001b[0m         \u001b[43mtrans\u001b[49m\u001b[38;5;241;43m.\u001b[39;49m\u001b[43mcommit\u001b[49m\u001b[43m(\u001b[49m\u001b[43m)\u001b[49m\n\u001b[1;32m    841\u001b[0m \u001b[38;5;28mself\u001b[39m\u001b[38;5;241m.\u001b[39m_state \u001b[38;5;241m=\u001b[39m COMMITTED\n",
      "File \u001b[0;32m/home/jarulraj3/eva/test_evadb/lib/python3.10/site-packages/sqlalchemy/engine/base.py:2464\u001b[0m, in \u001b[0;36mTransaction.commit\u001b[0;34m(self)\u001b[0m\n\u001b[1;32m   2463\u001b[0m \u001b[38;5;28;01mtry\u001b[39;00m:\n\u001b[0;32m-> 2464\u001b[0m     \u001b[38;5;28;43mself\u001b[39;49m\u001b[38;5;241;43m.\u001b[39;49m\u001b[43m_do_commit\u001b[49m\u001b[43m(\u001b[49m\u001b[43m)\u001b[49m\n\u001b[1;32m   2465\u001b[0m \u001b[38;5;28;01mfinally\u001b[39;00m:\n",
      "File \u001b[0;32m/home/jarulraj3/eva/test_evadb/lib/python3.10/site-packages/sqlalchemy/engine/base.py:2654\u001b[0m, in \u001b[0;36mRootTransaction._do_commit\u001b[0;34m(self)\u001b[0m\n\u001b[1;32m   2653\u001b[0m \u001b[38;5;28;01mtry\u001b[39;00m:\n\u001b[0;32m-> 2654\u001b[0m     \u001b[38;5;28;43mself\u001b[39;49m\u001b[38;5;241;43m.\u001b[39;49m\u001b[43m_connection_commit_impl\u001b[49m\u001b[43m(\u001b[49m\u001b[43m)\u001b[49m\n\u001b[1;32m   2655\u001b[0m \u001b[38;5;28;01mfinally\u001b[39;00m:\n\u001b[1;32m   2656\u001b[0m     \u001b[38;5;66;03m# whether or not commit succeeds, cancel any\u001b[39;00m\n\u001b[1;32m   2657\u001b[0m     \u001b[38;5;66;03m# nested transactions, make this transaction \"inactive\"\u001b[39;00m\n\u001b[1;32m   2658\u001b[0m     \u001b[38;5;66;03m# and remove it as a reset agent\u001b[39;00m\n",
      "File \u001b[0;32m/home/jarulraj3/eva/test_evadb/lib/python3.10/site-packages/sqlalchemy/engine/base.py:2625\u001b[0m, in \u001b[0;36mRootTransaction._connection_commit_impl\u001b[0;34m(self)\u001b[0m\n\u001b[1;32m   2624\u001b[0m \u001b[38;5;28;01mdef\u001b[39;00m \u001b[38;5;21m_connection_commit_impl\u001b[39m(\u001b[38;5;28mself\u001b[39m):\n\u001b[0;32m-> 2625\u001b[0m     \u001b[38;5;28;43mself\u001b[39;49m\u001b[38;5;241;43m.\u001b[39;49m\u001b[43mconnection\u001b[49m\u001b[38;5;241;43m.\u001b[39;49m\u001b[43m_commit_impl\u001b[49m\u001b[43m(\u001b[49m\u001b[43m)\u001b[49m\n",
      "File \u001b[0;32m/home/jarulraj3/eva/test_evadb/lib/python3.10/site-packages/sqlalchemy/engine/base.py:1096\u001b[0m, in \u001b[0;36mConnection._commit_impl\u001b[0;34m(self, autocommit)\u001b[0m\n\u001b[1;32m   1095\u001b[0m \u001b[38;5;28;01mexcept\u001b[39;00m \u001b[38;5;167;01mBaseException\u001b[39;00m \u001b[38;5;28;01mas\u001b[39;00m e:\n\u001b[0;32m-> 1096\u001b[0m     \u001b[38;5;28;43mself\u001b[39;49m\u001b[38;5;241;43m.\u001b[39;49m\u001b[43m_handle_dbapi_exception\u001b[49m\u001b[43m(\u001b[49m\u001b[43me\u001b[49m\u001b[43m,\u001b[49m\u001b[43m \u001b[49m\u001b[38;5;28;43;01mNone\u001b[39;49;00m\u001b[43m,\u001b[49m\u001b[43m \u001b[49m\u001b[38;5;28;43;01mNone\u001b[39;49;00m\u001b[43m,\u001b[49m\u001b[43m \u001b[49m\u001b[38;5;28;43;01mNone\u001b[39;49;00m\u001b[43m,\u001b[49m\u001b[43m \u001b[49m\u001b[38;5;28;43;01mNone\u001b[39;49;00m\u001b[43m)\u001b[49m\n",
      "File \u001b[0;32m/home/jarulraj3/eva/test_evadb/lib/python3.10/site-packages/sqlalchemy/engine/base.py:2129\u001b[0m, in \u001b[0;36mConnection._handle_dbapi_exception\u001b[0;34m(self, e, statement, parameters, cursor, context)\u001b[0m\n\u001b[1;32m   2128\u001b[0m \u001b[38;5;28;01melif\u001b[39;00m should_wrap:\n\u001b[0;32m-> 2129\u001b[0m     \u001b[43mutil\u001b[49m\u001b[38;5;241;43m.\u001b[39;49m\u001b[43mraise_\u001b[49m\u001b[43m(\u001b[49m\n\u001b[1;32m   2130\u001b[0m \u001b[43m        \u001b[49m\u001b[43msqlalchemy_exception\u001b[49m\u001b[43m,\u001b[49m\u001b[43m \u001b[49m\u001b[43mwith_traceback\u001b[49m\u001b[38;5;241;43m=\u001b[39;49m\u001b[43mexc_info\u001b[49m\u001b[43m[\u001b[49m\u001b[38;5;241;43m2\u001b[39;49m\u001b[43m]\u001b[49m\u001b[43m,\u001b[49m\u001b[43m \u001b[49m\u001b[43mfrom_\u001b[49m\u001b[38;5;241;43m=\u001b[39;49m\u001b[43me\u001b[49m\n\u001b[1;32m   2131\u001b[0m \u001b[43m    \u001b[49m\u001b[43m)\u001b[49m\n\u001b[1;32m   2132\u001b[0m \u001b[38;5;28;01melse\u001b[39;00m:\n",
      "File \u001b[0;32m/home/jarulraj3/eva/test_evadb/lib/python3.10/site-packages/sqlalchemy/util/compat.py:211\u001b[0m, in \u001b[0;36mraise_\u001b[0;34m(***failed resolving arguments***)\u001b[0m\n\u001b[1;32m    210\u001b[0m \u001b[38;5;28;01mtry\u001b[39;00m:\n\u001b[0;32m--> 211\u001b[0m     \u001b[38;5;28;01mraise\u001b[39;00m exception\n\u001b[1;32m    212\u001b[0m \u001b[38;5;28;01mfinally\u001b[39;00m:\n\u001b[1;32m    213\u001b[0m     \u001b[38;5;66;03m# credit to\u001b[39;00m\n\u001b[1;32m    214\u001b[0m     \u001b[38;5;66;03m# https://cosmicpercolator.com/2016/01/13/exception-leaks-in-python-2-and-3/\u001b[39;00m\n\u001b[1;32m    215\u001b[0m     \u001b[38;5;66;03m# as the __traceback__ object creates a cycle\u001b[39;00m\n",
      "File \u001b[0;32m/home/jarulraj3/eva/test_evadb/lib/python3.10/site-packages/sqlalchemy/engine/base.py:1094\u001b[0m, in \u001b[0;36mConnection._commit_impl\u001b[0;34m(self, autocommit)\u001b[0m\n\u001b[1;32m   1093\u001b[0m \u001b[38;5;28;01mtry\u001b[39;00m:\n\u001b[0;32m-> 1094\u001b[0m     \u001b[38;5;28;43mself\u001b[39;49m\u001b[38;5;241;43m.\u001b[39;49m\u001b[43mengine\u001b[49m\u001b[38;5;241;43m.\u001b[39;49m\u001b[43mdialect\u001b[49m\u001b[38;5;241;43m.\u001b[39;49m\u001b[43mdo_commit\u001b[49m\u001b[43m(\u001b[49m\u001b[38;5;28;43mself\u001b[39;49m\u001b[38;5;241;43m.\u001b[39;49m\u001b[43mconnection\u001b[49m\u001b[43m)\u001b[49m\n\u001b[1;32m   1095\u001b[0m \u001b[38;5;28;01mexcept\u001b[39;00m \u001b[38;5;167;01mBaseException\u001b[39;00m \u001b[38;5;28;01mas\u001b[39;00m e:\n",
      "File \u001b[0;32m/home/jarulraj3/eva/test_evadb/lib/python3.10/site-packages/sqlalchemy/engine/default.py:686\u001b[0m, in \u001b[0;36mDefaultDialect.do_commit\u001b[0;34m(self, dbapi_connection)\u001b[0m\n\u001b[1;32m    685\u001b[0m \u001b[38;5;28;01mdef\u001b[39;00m \u001b[38;5;21mdo_commit\u001b[39m(\u001b[38;5;28mself\u001b[39m, dbapi_connection):\n\u001b[0;32m--> 686\u001b[0m     \u001b[43mdbapi_connection\u001b[49m\u001b[38;5;241;43m.\u001b[39;49m\u001b[43mcommit\u001b[49m\u001b[43m(\u001b[49m\u001b[43m)\u001b[49m\n",
      "\u001b[0;31mOperationalError\u001b[0m: (sqlite3.OperationalError) database is locked\n(Background on this error at: https://sqlalche.me/e/14/e3q8)",
      "\nDuring handling of the above exception, another exception occurred:\n",
      "\u001b[0;31mCatalogError\u001b[0m                              Traceback (most recent call last)",
      "File \u001b[0;32m/home/jarulraj3/eva/test_evadb/lib/python3.10/site-packages/evadb/catalog/services/udf_cost_catalog_service.py:62\u001b[0m, in \u001b[0;36mUdfCostCatalogService.upsert_entry\u001b[0;34m(self, udf_id, name, new_cost)\u001b[0m\n\u001b[1;32m     61\u001b[0m     \u001b[38;5;28;01melse\u001b[39;00m:\n\u001b[0;32m---> 62\u001b[0m         \u001b[38;5;28;43mself\u001b[39;49m\u001b[38;5;241;43m.\u001b[39;49m\u001b[43minsert_entry\u001b[49m\u001b[43m(\u001b[49m\u001b[43mudf_id\u001b[49m\u001b[43m,\u001b[49m\u001b[43m \u001b[49m\u001b[43mname\u001b[49m\u001b[43m,\u001b[49m\u001b[43m \u001b[49m\u001b[43mnew_cost\u001b[49m\u001b[43m)\u001b[49m\n\u001b[1;32m     63\u001b[0m \u001b[38;5;28;01mexcept\u001b[39;00m \u001b[38;5;167;01mException\u001b[39;00m \u001b[38;5;28;01mas\u001b[39;00m e:\n",
      "File \u001b[0;32m/home/jarulraj3/eva/test_evadb/lib/python3.10/site-packages/evadb/catalog/services/udf_cost_catalog_service.py:43\u001b[0m, in \u001b[0;36mUdfCostCatalogService.insert_entry\u001b[0;34m(self, udf_id, name, cost)\u001b[0m\n\u001b[1;32m     42\u001b[0m \u001b[38;5;28;01mexcept\u001b[39;00m \u001b[38;5;167;01mException\u001b[39;00m \u001b[38;5;28;01mas\u001b[39;00m e:\n\u001b[0;32m---> 43\u001b[0m     \u001b[38;5;28;01mraise\u001b[39;00m CatalogError(\n\u001b[1;32m     44\u001b[0m         \u001b[38;5;124mf\u001b[39m\u001b[38;5;124m\"\u001b[39m\u001b[38;5;124mError while inserting entry to UdfCostCatalog: \u001b[39m\u001b[38;5;132;01m{\u001b[39;00m\u001b[38;5;28mstr\u001b[39m(e)\u001b[38;5;132;01m}\u001b[39;00m\u001b[38;5;124m\"\u001b[39m\n\u001b[1;32m     45\u001b[0m     )\n",
      "\u001b[0;31mCatalogError\u001b[0m: Error while inserting entry to UdfCostCatalog: (sqlite3.OperationalError) database is locked\n(Background on this error at: https://sqlalche.me/e/14/e3q8)",
      "\nDuring handling of the above exception, another exception occurred:\n",
      "\u001b[0;31mCatalogError\u001b[0m                              Traceback (most recent call last)",
      "File \u001b[0;32m/home/jarulraj3/eva/test_evadb/lib/python3.10/site-packages/evadb/executor/plan_executor.py:166\u001b[0m, in \u001b[0;36mPlanExecutor.execute_plan\u001b[0;34m(self, do_not_raise_exceptions, do_not_print_exceptions)\u001b[0m\n\u001b[1;32m    165\u001b[0m execution_tree \u001b[38;5;241m=\u001b[39m \u001b[38;5;28mself\u001b[39m\u001b[38;5;241m.\u001b[39m_build_execution_tree(\u001b[38;5;28mself\u001b[39m\u001b[38;5;241m.\u001b[39m_plan)\n\u001b[0;32m--> 166\u001b[0m output \u001b[38;5;241m=\u001b[39m \u001b[43mexecution_tree\u001b[49m\u001b[38;5;241;43m.\u001b[39;49m\u001b[43mexec\u001b[49m\u001b[43m(\u001b[49m\u001b[43m)\u001b[49m\n\u001b[1;32m    167\u001b[0m \u001b[38;5;28;01mif\u001b[39;00m output \u001b[38;5;129;01mis\u001b[39;00m \u001b[38;5;129;01mnot\u001b[39;00m \u001b[38;5;28;01mNone\u001b[39;00m:\n",
      "File \u001b[0;32m/home/jarulraj3/eva/test_evadb/lib/python3.10/site-packages/evadb/executor/create_mat_view_executor.py:45\u001b[0m, in \u001b[0;36mCreateMaterializedViewExecutor.exec\u001b[0;34m(self, *args, **kwargs)\u001b[0m\n\u001b[1;32m     44\u001b[0m \u001b[38;5;66;03m# Populate the view\u001b[39;00m\n\u001b[0;32m---> 45\u001b[0m \u001b[38;5;28;01mfor\u001b[39;00m batch \u001b[38;5;129;01min\u001b[39;00m child\u001b[38;5;241m.\u001b[39mexec():\n\u001b[1;32m     46\u001b[0m     batch\u001b[38;5;241m.\u001b[39mdrop_column_alias()\n",
      "File \u001b[0;32m/home/jarulraj3/eva/test_evadb/lib/python3.10/site-packages/evadb/executor/project_executor.py:33\u001b[0m, in \u001b[0;36mProjectExecutor.exec\u001b[0;34m(self, *args, **kwargs)\u001b[0m\n\u001b[1;32m     32\u001b[0m child_executor \u001b[38;5;241m=\u001b[39m \u001b[38;5;28mself\u001b[39m\u001b[38;5;241m.\u001b[39mchildren[\u001b[38;5;241m0\u001b[39m]\n\u001b[0;32m---> 33\u001b[0m \u001b[38;5;28;01mfor\u001b[39;00m batch \u001b[38;5;129;01min\u001b[39;00m child_executor\u001b[38;5;241m.\u001b[39mexec(\u001b[38;5;241m*\u001b[39m\u001b[38;5;241m*\u001b[39mkwargs):\n\u001b[1;32m     34\u001b[0m     batch \u001b[38;5;241m=\u001b[39m apply_project(batch, \u001b[38;5;28mself\u001b[39m\u001b[38;5;241m.\u001b[39mtarget_list, \u001b[38;5;28mself\u001b[39m\u001b[38;5;241m.\u001b[39mcatalog())\n",
      "File \u001b[0;32m/home/jarulraj3/eva/test_evadb/lib/python3.10/site-packages/evadb/executor/apply_and_merge_executor.py:48\u001b[0m, in \u001b[0;36mApplyAndMergeExecutor.exec\u001b[0;34m(self, *args, **kwargs)\u001b[0m\n\u001b[1;32m     47\u001b[0m     udf_id \u001b[38;5;241m=\u001b[39m \u001b[38;5;28mself\u001b[39m\u001b[38;5;241m.\u001b[39mfunc_expr\u001b[38;5;241m.\u001b[39mudf_obj\u001b[38;5;241m.\u001b[39mrow_id\n\u001b[0;32m---> 48\u001b[0m     \u001b[38;5;28;43mself\u001b[39;49m\u001b[38;5;241;43m.\u001b[39;49m\u001b[43mcatalog\u001b[49m\u001b[43m(\u001b[49m\u001b[43m)\u001b[49m\u001b[38;5;241;43m.\u001b[39;49m\u001b[43mupsert_udf_cost_catalog_entry\u001b[49m\u001b[43m(\u001b[49m\n\u001b[1;32m     49\u001b[0m \u001b[43m        \u001b[49m\u001b[43mudf_id\u001b[49m\u001b[43m,\u001b[49m\u001b[43m \u001b[49m\u001b[38;5;28;43mself\u001b[39;49m\u001b[38;5;241;43m.\u001b[39;49m\u001b[43mfunc_expr\u001b[49m\u001b[38;5;241;43m.\u001b[39;49m\u001b[43mudf_obj\u001b[49m\u001b[38;5;241;43m.\u001b[39;49m\u001b[43mname\u001b[49m\u001b[43m,\u001b[49m\u001b[43m \u001b[49m\u001b[38;5;28;43mself\u001b[39;49m\u001b[38;5;241;43m.\u001b[39;49m\u001b[43mfunc_expr\u001b[49m\u001b[38;5;241;43m.\u001b[39;49m\u001b[43m_stats\u001b[49m\u001b[38;5;241;43m.\u001b[39;49m\u001b[43mprev_cost\u001b[49m\n\u001b[1;32m     50\u001b[0m \u001b[43m    \u001b[49m\u001b[43m)\u001b[49m\n\u001b[1;32m     52\u001b[0m output \u001b[38;5;241m=\u001b[39m Batch\u001b[38;5;241m.\u001b[39mmerge_column_wise([batch, func_result])\n",
      "File \u001b[0;32m/home/jarulraj3/eva/test_evadb/lib/python3.10/site-packages/evadb/catalog/catalog_manager.py:303\u001b[0m, in \u001b[0;36mCatalogManager.upsert_udf_cost_catalog_entry\u001b[0;34m(self, udf_id, name, cost)\u001b[0m\n\u001b[1;32m    292\u001b[0m \u001b[38;5;250m\u001b[39m\u001b[38;5;124;03m\"\"\"Upserts UDF cost catalog entry.\u001b[39;00m\n\u001b[1;32m    293\u001b[0m \n\u001b[1;32m    294\u001b[0m \u001b[38;5;124;03mArguments:\u001b[39;00m\n\u001b[0;32m   (...)\u001b[0m\n\u001b[1;32m    300\u001b[0m \u001b[38;5;124;03m    The persisted UdfCostCatalogEntry object.\u001b[39;00m\n\u001b[1;32m    301\u001b[0m \u001b[38;5;124;03m\"\"\"\u001b[39;00m\n\u001b[0;32m--> 303\u001b[0m \u001b[38;5;28;43mself\u001b[39;49m\u001b[38;5;241;43m.\u001b[39;49m\u001b[43m_udf_cost_catalog_service\u001b[49m\u001b[38;5;241;43m.\u001b[39;49m\u001b[43mupsert_entry\u001b[49m\u001b[43m(\u001b[49m\u001b[43mudf_id\u001b[49m\u001b[43m,\u001b[49m\u001b[43m \u001b[49m\u001b[43mname\u001b[49m\u001b[43m,\u001b[49m\u001b[43m \u001b[49m\u001b[43mcost\u001b[49m\u001b[43m)\u001b[49m\n",
      "File \u001b[0;32m/home/jarulraj3/eva/test_evadb/lib/python3.10/site-packages/evadb/catalog/services/udf_cost_catalog_service.py:64\u001b[0m, in \u001b[0;36mUdfCostCatalogService.upsert_entry\u001b[0;34m(self, udf_id, name, new_cost)\u001b[0m\n\u001b[1;32m     63\u001b[0m \u001b[38;5;28;01mexcept\u001b[39;00m \u001b[38;5;167;01mException\u001b[39;00m \u001b[38;5;28;01mas\u001b[39;00m e:\n\u001b[0;32m---> 64\u001b[0m     \u001b[38;5;28;01mraise\u001b[39;00m CatalogError(\n\u001b[1;32m     65\u001b[0m         \u001b[38;5;124mf\u001b[39m\u001b[38;5;124m\"\u001b[39m\u001b[38;5;124mError while upserting entry to UdfCostCatalog: \u001b[39m\u001b[38;5;132;01m{\u001b[39;00m\u001b[38;5;28mstr\u001b[39m(e)\u001b[38;5;132;01m}\u001b[39;00m\u001b[38;5;124m\"\u001b[39m\n\u001b[1;32m     66\u001b[0m     )\n",
      "\u001b[0;31mCatalogError\u001b[0m: Error while upserting entry to UdfCostCatalog: Error while inserting entry to UdfCostCatalog: (sqlite3.OperationalError) database is locked\n(Background on this error at: https://sqlalche.me/e/14/e3q8)",
      "\nDuring handling of the above exception, another exception occurred:\n",
      "\u001b[0;31mExecutorError\u001b[0m                             Traceback (most recent call last)",
      "Cell \u001b[0;32mIn[9], line 6\u001b[0m\n\u001b[1;32m      1\u001b[0m create_index_query \u001b[38;5;241m=\u001b[39m \u001b[38;5;124m\"\"\"\u001b[39m\n\u001b[1;32m      2\u001b[0m \u001b[38;5;124m    CREATE MATERIALIZED VIEW IF NOT EXISTS \u001b[39m\n\u001b[1;32m      3\u001b[0m \u001b[38;5;124m      reddit_object_table (name, data, bboxes,labels)\u001b[39m\n\u001b[1;32m      4\u001b[0m \u001b[38;5;124m      AS SELECT name, data, bboxes, labels FROM reddit_dataset\u001b[39m\n\u001b[1;32m      5\u001b[0m \u001b[38;5;124m      JOIN LATERAL UNNEST(Yolo(data)) AS Obj(labels, bboxes, scores)\u001b[39m\u001b[38;5;124m\"\"\"\u001b[39m\n\u001b[0;32m----> 6\u001b[0m \u001b[43mcursor\u001b[49m\u001b[38;5;241;43m.\u001b[39;49m\u001b[43mquery\u001b[49m\u001b[43m(\u001b[49m\u001b[43mcreate_index_query\u001b[49m\u001b[43m)\u001b[49m\u001b[38;5;241;43m.\u001b[39;49m\u001b[43mdf\u001b[49m\u001b[43m(\u001b[49m\u001b[43m)\u001b[49m\n",
      "File \u001b[0;32m/home/jarulraj3/eva/test_evadb/lib/python3.10/site-packages/evadb/interfaces/relational/relation.py:110\u001b[0m, in \u001b[0;36mEvaDBQuery.df\u001b[0;34m(self)\u001b[0m\n\u001b[1;32m    104\u001b[0m \u001b[38;5;28;01mdef\u001b[39;00m \u001b[38;5;21mdf\u001b[39m(\u001b[38;5;28mself\u001b[39m) \u001b[38;5;241m-\u001b[39m\u001b[38;5;241m>\u001b[39m pandas\u001b[38;5;241m.\u001b[39mDataFrame:\n\u001b[1;32m    105\u001b[0m \u001b[38;5;250m    \u001b[39m\u001b[38;5;124;03m\"\"\"Execute and fetch all rows as a pandas DataFrame\u001b[39;00m\n\u001b[1;32m    106\u001b[0m \n\u001b[1;32m    107\u001b[0m \u001b[38;5;124;03m    Returns:\u001b[39;00m\n\u001b[1;32m    108\u001b[0m \u001b[38;5;124;03m        pandas.DataFrame:\u001b[39;00m\n\u001b[1;32m    109\u001b[0m \u001b[38;5;124;03m    \"\"\"\u001b[39;00m\n\u001b[0;32m--> 110\u001b[0m     batch \u001b[38;5;241m=\u001b[39m \u001b[38;5;28;43mself\u001b[39;49m\u001b[38;5;241;43m.\u001b[39;49m\u001b[43mexecute\u001b[49m\u001b[43m(\u001b[49m\u001b[43m)\u001b[49m\n\u001b[1;32m    111\u001b[0m     \u001b[38;5;28;01massert\u001b[39;00m batch \u001b[38;5;129;01mis\u001b[39;00m \u001b[38;5;129;01mnot\u001b[39;00m \u001b[38;5;28;01mNone\u001b[39;00m, \u001b[38;5;124m\"\u001b[39m\u001b[38;5;124mrelation execute failed\u001b[39m\u001b[38;5;124m\"\u001b[39m\n\u001b[1;32m    112\u001b[0m     \u001b[38;5;28;01mreturn\u001b[39;00m batch\u001b[38;5;241m.\u001b[39mframes\n",
      "File \u001b[0;32m/home/jarulraj3/eva/test_evadb/lib/python3.10/site-packages/evadb/interfaces/relational/relation.py:120\u001b[0m, in \u001b[0;36mEvaDBQuery.execute\u001b[0;34m(self)\u001b[0m\n\u001b[1;32m    114\u001b[0m \u001b[38;5;28;01mdef\u001b[39;00m \u001b[38;5;21mexecute\u001b[39m(\u001b[38;5;28mself\u001b[39m) \u001b[38;5;241m-\u001b[39m\u001b[38;5;241m>\u001b[39m Batch:\n\u001b[1;32m    115\u001b[0m \u001b[38;5;250m    \u001b[39m\u001b[38;5;124;03m\"\"\"Transform the relation into a result set\u001b[39;00m\n\u001b[1;32m    116\u001b[0m \n\u001b[1;32m    117\u001b[0m \u001b[38;5;124;03m    Returns:\u001b[39;00m\n\u001b[1;32m    118\u001b[0m \u001b[38;5;124;03m        Batch: result as evadb Batch\u001b[39;00m\n\u001b[1;32m    119\u001b[0m \u001b[38;5;124;03m    \"\"\"\u001b[39;00m\n\u001b[0;32m--> 120\u001b[0m     result \u001b[38;5;241m=\u001b[39m \u001b[43mexecute_statement\u001b[49m\u001b[43m(\u001b[49m\u001b[38;5;28;43mself\u001b[39;49m\u001b[38;5;241;43m.\u001b[39;49m\u001b[43m_evadb\u001b[49m\u001b[43m,\u001b[49m\u001b[43m \u001b[49m\u001b[38;5;28;43mself\u001b[39;49m\u001b[38;5;241;43m.\u001b[39;49m\u001b[43m_query_node\u001b[49m\u001b[38;5;241;43m.\u001b[39;49m\u001b[43mcopy\u001b[49m\u001b[43m(\u001b[49m\u001b[43m)\u001b[49m\u001b[43m)\u001b[49m\n\u001b[1;32m    121\u001b[0m     \u001b[38;5;28;01massert\u001b[39;00m result\u001b[38;5;241m.\u001b[39mframes \u001b[38;5;129;01mis\u001b[39;00m \u001b[38;5;129;01mnot\u001b[39;00m \u001b[38;5;28;01mNone\u001b[39;00m\n\u001b[1;32m    122\u001b[0m     \u001b[38;5;28;01mreturn\u001b[39;00m result\n",
      "File \u001b[0;32m/home/jarulraj3/eva/test_evadb/lib/python3.10/site-packages/evadb/interfaces/relational/utils.py:60\u001b[0m, in \u001b[0;36mexecute_statement\u001b[0;34m(evadb, statement)\u001b[0m\n\u001b[1;32m     58\u001b[0m output \u001b[38;5;241m=\u001b[39m PlanExecutor(evadb, p_plan)\u001b[38;5;241m.\u001b[39mexecute_plan()\n\u001b[1;32m     59\u001b[0m \u001b[38;5;28;01mif\u001b[39;00m output:\n\u001b[0;32m---> 60\u001b[0m     batch_list \u001b[38;5;241m=\u001b[39m \u001b[38;5;28;43mlist\u001b[39;49m\u001b[43m(\u001b[49m\u001b[43moutput\u001b[49m\u001b[43m)\u001b[49m\n\u001b[1;32m     61\u001b[0m     \u001b[38;5;28;01mreturn\u001b[39;00m Batch\u001b[38;5;241m.\u001b[39mconcat(batch_list, copy\u001b[38;5;241m=\u001b[39m\u001b[38;5;28;01mFalse\u001b[39;00m)\n",
      "File \u001b[0;32m/home/jarulraj3/eva/test_evadb/lib/python3.10/site-packages/evadb/executor/plan_executor.py:173\u001b[0m, in \u001b[0;36mPlanExecutor.execute_plan\u001b[0;34m(self, do_not_raise_exceptions, do_not_print_exceptions)\u001b[0m\n\u001b[1;32m    171\u001b[0m \u001b[38;5;28;01mif\u001b[39;00m do_not_print_exceptions \u001b[38;5;129;01mis\u001b[39;00m \u001b[38;5;28;01mFalse\u001b[39;00m:\n\u001b[1;32m    172\u001b[0m     logger\u001b[38;5;241m.\u001b[39mexception(\u001b[38;5;28mstr\u001b[39m(e))\n\u001b[0;32m--> 173\u001b[0m \u001b[38;5;28;01mraise\u001b[39;00m ExecutorError(e)\n",
      "\u001b[0;31mExecutorError\u001b[0m: Error while upserting entry to UdfCostCatalog: Error while inserting entry to UdfCostCatalog: (sqlite3.OperationalError) database is locked\n(Background on this error at: https://sqlalche.me/e/14/e3q8)"
     ]
    }
   ],
   "source": [
    "create_index_query = \"\"\"\n",
    "    CREATE MATERIALIZED VIEW IF NOT EXISTS \n",
    "      reddit_object_table (name, data, bboxes,labels)\n",
    "      AS SELECT name, data, bboxes, labels FROM reddit_dataset\n",
    "      JOIN LATERAL UNNEST(Yolo(data)) AS Obj(labels, bboxes, scores)\"\"\"\n",
    "cursor.query(create_index_query).df()"
   ]
  },
  {
   "attachments": {},
   "cell_type": "markdown",
   "id": "b356c435",
   "metadata": {},
   "source": [
    "### 2. Build an index on the feature vectors of the extracted objects"
   ]
  },
  {
   "cell_type": "code",
   "execution_count": null,
   "id": "bc0341be",
   "metadata": {
    "execution": {
     "iopub.execute_input": "2023-06-24T15:56:30.253496Z",
     "iopub.status.busy": "2023-06-24T15:56:30.253249Z",
     "iopub.status.idle": "2023-06-24T15:56:30.900294Z",
     "shell.execute_reply": "2023-06-24T15:56:30.899186Z"
    }
   },
   "outputs": [],
   "source": [
    "cursor.query(\"\"\"CREATE INDEX reddit_sift_object_index\n",
    "                    ON reddit_object_table (SiftFeatureExtractor(Crop(data, bboxes)))\n",
    "                    USING QDRANT\"\"\").df()"
   ]
  },
  {
   "cell_type": "code",
   "execution_count": null,
   "id": "17bfafc6",
   "metadata": {
    "execution": {
     "iopub.execute_input": "2023-06-17T04:37:42.255062Z",
     "iopub.status.busy": "2023-06-17T04:37:42.254545Z",
     "iopub.status.idle": "2023-06-17T04:37:49.652077Z",
     "shell.execute_reply": "2023-06-17T04:37:49.651176Z"
    }
   },
   "outputs": [],
   "source": [
    "# Create a cropped images (We are actively working on features to allow\n",
    "# us to not do this outside SQL)\n",
    "response = (\n",
    "    cursor.query(\n",
    "        \"LOAD IMAGE 'reddit-images/g1190_clna260.jpg' INTO reddit_search_image_dataset\"\n",
    "    )\n",
    "    .df()\n",
    ")\n",
    "print(response)\n",
    "response = (\n",
    "    cursor.query(\"SELECT Yolo(data).bboxes FROM reddit_search_image_dataset;\")\n",
    "    .df()\n",
    ")\n",
    "print(response)\n",
    "\n",
    "\n",
    "import cv2\n",
    "import pathlib\n",
    "\n",
    "bboxes = response[\"yolo.bboxes\"][0]\n",
    "\n",
    "img = cv2.imread(\"reddit-images/g1190_clna260.jpg\")\n",
    "pathlib.Path(\"reddit-images/search-object/\").mkdir(parents=True, exist_ok=True)\n",
    "for i, bbox in enumerate(bboxes):\n",
    "    xmin, ymin, xmax, ymax = bbox\n",
    "    xmin, ymin, xmax, ymax = int(xmin), int(ymin), int(xmax), int(ymax)\n",
    "    cropped_img = img[ymin:ymax, xmin:xmax]\n",
    "    cv2.imwrite(f\"reddit-images/search-object/search-{i}.jpg\", cropped_img)\n"
   ]
  },
  {
   "attachments": {},
   "cell_type": "markdown",
   "id": "40e563b2",
   "metadata": {},
   "source": [
    "### 3. Retrieve using object-level similarity search"
   ]
  },
  {
   "cell_type": "code",
   "execution_count": null,
   "id": "f9f29c9c",
   "metadata": {
    "execution": {
     "iopub.execute_input": "2023-06-17T04:37:49.656765Z",
     "iopub.status.busy": "2023-06-17T04:37:49.656481Z",
     "iopub.status.idle": "2023-06-17T04:38:00.000438Z",
     "shell.execute_reply": "2023-06-17T04:37:59.999252Z"
    }
   },
   "outputs": [],
   "source": [
    "#4. \n",
    "import os\n",
    "\n",
    "for path in os.listdir(\"reddit-images/search-object/\"):\n",
    "    path = \"reddit-images/search-object/\" + path\n",
    "    query = f\"\"\"SELECT name FROM reddit_object_table ORDER BY\n",
    "                        Similarity(\n",
    "                          SiftFeatureExtractor(Open('{path}')),\n",
    "                          SiftFeatureExtractor(data)\n",
    "                        )\n",
    "                        LIMIT 1\"\"\"\n",
    "    response = cursor.query(query).df()\n",
    "    for i in range(len(response)):\n",
    "        vote[response[\"reddit_object_table.name\"][i]] += 0.5\n",
    "\n",
    "    print(response)"
   ]
  },
  {
   "attachments": {},
   "cell_type": "markdown",
   "id": "096d4970",
   "metadata": {},
   "source": [
    "## Combine the scores from image level and object level similarity to show similar images"
   ]
  },
  {
   "cell_type": "code",
   "execution_count": null,
   "id": "1cc67393",
   "metadata": {
    "execution": {
     "iopub.execute_input": "2023-06-17T04:38:00.005290Z",
     "iopub.status.busy": "2023-06-17T04:38:00.005031Z",
     "iopub.status.idle": "2023-06-17T04:38:01.633443Z",
     "shell.execute_reply": "2023-06-17T04:38:01.632387Z"
    }
   },
   "outputs": [],
   "source": [
    "# !pip install matplotlib\n",
    "import matplotlib.pyplot as plt\n",
    "\n",
    "# Display top images\n",
    "vote_list = list(reversed(sorted([(path, count) for path, count in vote.items()], key=lambda x: x[1])))\n",
    "img_list = [path for path, _ in vote_list]\n",
    "\n",
    "fig, ax = plt.subplots(nrows=1, ncols=6, figsize=[18,10])\n",
    "ax[0].imshow(cv2.imread(\"reddit-images/g1190_clna260.jpg\"))\n",
    "ax[0].set_title(\"Search\")\n",
    "\n",
    "for i in range(5):\n",
    "    axi = ax[i + 1]\n",
    "    img = cv2.imread(img_list[i])\n",
    "    axi.imshow(img)\n",
    "    axi.set_title(f\"Top-{i + 1}\")\n",
    "\n",
    "plt.show()"
   ]
  }
 ],
 "metadata": {
  "kernelspec": {
   "display_name": "Python 3 (ipykernel)",
   "language": "python",
   "name": "python3"
  },
  "language_info": {
   "codemirror_mode": {
    "name": "ipython",
    "version": 3
   },
   "file_extension": ".py",
   "mimetype": "text/x-python",
   "name": "python",
   "nbconvert_exporter": "python",
   "pygments_lexer": "ipython3",
   "version": "3.10.11"
  }
 },
 "nbformat": 4,
 "nbformat_minor": 5
}
