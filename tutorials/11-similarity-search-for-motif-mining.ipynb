{
 "cells": [
  {
   "attachments": {},
   "cell_type": "markdown",
   "id": "3a4df227",
   "metadata": {},
   "source": [
    "# Similarity search for motif mining"
   ]
  },
  {
   "attachments": {},
   "cell_type": "markdown",
   "id": "5d29b79c",
   "metadata": {},
   "source": [
    "In this tutorial, we demonstrate how to utilize the similarity functionality to discover images with similar motifs from a collection of Reddit images. We employ the classic `SIFT` feature to identify images with a strikingly similar appearance (image-level pipeline).\n",
    "\n",
    "Additionally, we extend the pipeline by incorporating an object detection model, `YOLO`, in combination with the SIFT feature. This enables us to identify objects within the images that exhibit a similar appearance (object-level similarity).\n",
    "\n",
    "To illustrate the seamless integration of different vector stores, we leverage the power of multiple vector stores, namely `FAISS` and `QDRANT`, within evadb. This demonstrates the ease with which you can utilize diverse vector stores to construct indexes, enhancing your similarity search experience."
   ]
  },
  {
   "attachments": {},
   "cell_type": "markdown",
   "id": "e6df3057",
   "metadata": {},
   "source": [
    "<table align=\"left\">\n",
    "  <td>\n",
    "    <a target=\"_blank\" href=\"https://colab.research.google.com/github/georgia-tech-db/eva/blob/master/tutorials/11-similarity-search-for-motif-mining.ipynb\"><img src=\"https://www.tensorflow.org/images/colab_logo_32px.png\" /> Run on Google Colab</a>\n",
    "  </td>\n",
    "  <td>\n",
    "    <a target=\"_blank\" href=\"https://github.com/georgia-tech-db/eva/blob/master/tutorials/11-similarity-search-for-motif-mining.ipynb\"><img src=\"https://www.tensorflow.org/images/GitHub-Mark-32px.png\" /> View source on GitHub</a>\n",
    "  </td>\n",
    "  <td>\n",
    "    <a target=\"_blank\" href=\"https://github.com/georgia-tech-db/eva/raw/master/tutorials/11-similarity-search-for-motif-mining.ipynb\"><img src=\"https://www.tensorflow.org/images/download_logo_32px.png\" /> Download notebook</a>\n",
    "  </td>\n",
    "</table><br><br>"
   ]
  },
  {
   "attachments": {},
   "cell_type": "markdown",
   "id": "50b1674e",
   "metadata": {},
   "source": [
    "### Connect to EvaDB\n"
   ]
  },
  {
   "cell_type": "code",
   "execution_count": 1,
   "id": "aa5181dc",
   "metadata": {
    "execution": {
     "iopub.execute_input": "2023-06-26T15:09:07.448224Z",
     "iopub.status.busy": "2023-06-26T15:09:07.447714Z",
     "iopub.status.idle": "2023-06-26T15:09:19.177165Z",
     "shell.execute_reply": "2023-06-26T15:09:19.175812Z"
    }
   },
   "outputs": [
    {
     "name": "stdout",
     "output_type": "stream",
     "text": [
      "Requirement already satisfied: evadb[document,notebook,vision] in /home/jarulraj3/eva/test_evadb/lib/python3.10/site-packages (0.2.14+dev)\r\n"
     ]
    },
    {
     "name": "stdout",
     "output_type": "stream",
     "text": [
      "Requirement already satisfied: numpy>=1.19.5 in /home/jarulraj3/eva/test_evadb/lib/python3.10/site-packages (from evadb[document,notebook,vision]) (1.25.0)\r\n",
      "Requirement already satisfied: pandas>=1.1.5 in /home/jarulraj3/eva/test_evadb/lib/python3.10/site-packages (from evadb[document,notebook,vision]) (2.0.2)\r\n",
      "Requirement already satisfied: sqlalchemy<2.0.0,>=1.4.0 in /home/jarulraj3/eva/test_evadb/lib/python3.10/site-packages (from evadb[document,notebook,vision]) (1.4.48)\r\n",
      "Requirement already satisfied: sqlalchemy-utils>=0.36.6 in /home/jarulraj3/eva/test_evadb/lib/python3.10/site-packages (from evadb[document,notebook,vision]) (0.41.1)\r\n",
      "Requirement already satisfied: lark>=1.0.0 in /home/jarulraj3/eva/test_evadb/lib/python3.10/site-packages (from evadb[document,notebook,vision]) (1.1.5)\r\n",
      "Requirement already satisfied: pyyaml>=5.1 in /home/jarulraj3/eva/test_evadb/lib/python3.10/site-packages (from evadb[document,notebook,vision]) (6.0)\r\n",
      "Requirement already satisfied: aenum>=2.2.0 in /home/jarulraj3/eva/test_evadb/lib/python3.10/site-packages (from evadb[document,notebook,vision]) (3.1.14)\r\n",
      "Requirement already satisfied: diskcache>=5.4.0 in /home/jarulraj3/eva/test_evadb/lib/python3.10/site-packages (from evadb[document,notebook,vision]) (5.6.1)\r\n",
      "Requirement already satisfied: retry>=0.9.2 in /home/jarulraj3/eva/test_evadb/lib/python3.10/site-packages (from evadb[document,notebook,vision]) (0.9.2)\r\n",
      "Requirement already satisfied: psutil in /home/jarulraj3/eva/test_evadb/lib/python3.10/site-packages (from evadb[document,notebook,vision]) (5.9.5)\r\n",
      "Requirement already satisfied: transformers<4.30.2,>=4.27.4 in /home/jarulraj3/eva/test_evadb/lib/python3.10/site-packages (from evadb[document,notebook,vision]) (4.30.1)\r\n",
      "Requirement already satisfied: langchain in /home/jarulraj3/eva/test_evadb/lib/python3.10/site-packages (from evadb[document,notebook,vision]) (0.0.215)\r\n",
      "Requirement already satisfied: faiss-cpu in /home/jarulraj3/eva/test_evadb/lib/python3.10/site-packages (from evadb[document,notebook,vision]) (1.7.4)\r\n",
      "Requirement already satisfied: pymupdf in /home/jarulraj3/eva/test_evadb/lib/python3.10/site-packages (from evadb[document,notebook,vision]) (1.22.5)\r\n",
      "Requirement already satisfied: pdfminer.six in /home/jarulraj3/eva/test_evadb/lib/python3.10/site-packages (from evadb[document,notebook,vision]) (20221105)\r\n",
      "Requirement already satisfied: sentence-transformers in /home/jarulraj3/eva/test_evadb/lib/python3.10/site-packages (from evadb[document,notebook,vision]) (2.2.2)\r\n"
     ]
    },
    {
     "name": "stdout",
     "output_type": "stream",
     "text": [
      "Collecting protobuf<=3.20.1 (from evadb[document,notebook,vision])\r\n",
      "  Using cached protobuf-3.20.1-cp310-cp310-manylinux_2_12_x86_64.manylinux2010_x86_64.whl (1.1 MB)\r\n",
      "Requirement already satisfied: bs4 in /home/jarulraj3/eva/test_evadb/lib/python3.10/site-packages (from evadb[document,notebook,vision]) (0.0.1)\r\n",
      "Requirement already satisfied: openai>=0.27.4 in /home/jarulraj3/eva/test_evadb/lib/python3.10/site-packages (from evadb[document,notebook,vision]) (0.27.8)\r\n",
      "Requirement already satisfied: gpt4all in /home/jarulraj3/eva/test_evadb/lib/python3.10/site-packages (from evadb[document,notebook,vision]) (0.3.5)\r\n",
      "Requirement already satisfied: sentencepiece in /home/jarulraj3/eva/test_evadb/lib/python3.10/site-packages (from evadb[document,notebook,vision]) (0.1.99)\r\n",
      "Requirement already satisfied: torch>=1.10.0 in /home/jarulraj3/eva/test_evadb/lib/python3.10/site-packages (from evadb[document,notebook,vision]) (2.0.1)\r\n",
      "Requirement already satisfied: torchvision>=0.11.1 in /home/jarulraj3/eva/test_evadb/lib/python3.10/site-packages (from evadb[document,notebook,vision]) (0.15.2)\r\n",
      "Requirement already satisfied: opencv-python-headless>=4.6.0.66 in /home/jarulraj3/eva/test_evadb/lib/python3.10/site-packages (from evadb[document,notebook,vision]) (4.7.0.72)\r\n",
      "Requirement already satisfied: Pillow>=8.4.0 in /home/jarulraj3/eva/test_evadb/lib/python3.10/site-packages (from evadb[document,notebook,vision]) (9.5.0)\r\n",
      "Requirement already satisfied: eva-decord>=0.6.1 in /home/jarulraj3/eva/test_evadb/lib/python3.10/site-packages (from evadb[document,notebook,vision]) (0.6.1)\r\n",
      "Requirement already satisfied: ultralytics>=8.0.93 in /home/jarulraj3/eva/test_evadb/lib/python3.10/site-packages (from evadb[document,notebook,vision]) (8.0.123)\r\n",
      "Requirement already satisfied: timm>=0.6.13 in /home/jarulraj3/eva/test_evadb/lib/python3.10/site-packages (from evadb[document,notebook,vision]) (0.9.2)\r\n",
      "Requirement already satisfied: ipython<8.13.0 in /home/jarulraj3/eva/test_evadb/lib/python3.10/site-packages (from evadb[document,notebook,vision]) (8.12.2)\r\n",
      "Requirement already satisfied: ipywidgets>=7.7.2 in /home/jarulraj3/eva/test_evadb/lib/python3.10/site-packages (from evadb[document,notebook,vision]) (8.0.6)\r\n",
      "Requirement already satisfied: matplotlib>=3.3.4 in /home/jarulraj3/eva/test_evadb/lib/python3.10/site-packages (from evadb[document,notebook,vision]) (3.7.1)\r\n",
      "Requirement already satisfied: nbmake>=1.2.1 in /home/jarulraj3/eva/test_evadb/lib/python3.10/site-packages (from evadb[document,notebook,vision]) (1.4.1)\r\n",
      "Requirement already satisfied: nest-asyncio>=1.5.6 in /home/jarulraj3/eva/test_evadb/lib/python3.10/site-packages (from evadb[document,notebook,vision]) (1.5.6)\r\n"
     ]
    },
    {
     "name": "stdout",
     "output_type": "stream",
     "text": [
      "Requirement already satisfied: backcall in /home/jarulraj3/eva/test_evadb/lib/python3.10/site-packages (from ipython<8.13.0->evadb[document,notebook,vision]) (0.2.0)\r\n",
      "Requirement already satisfied: decorator in /home/jarulraj3/eva/test_evadb/lib/python3.10/site-packages (from ipython<8.13.0->evadb[document,notebook,vision]) (5.1.1)\r\n",
      "Requirement already satisfied: jedi>=0.16 in /home/jarulraj3/eva/test_evadb/lib/python3.10/site-packages (from ipython<8.13.0->evadb[document,notebook,vision]) (0.18.2)\r\n",
      "Requirement already satisfied: matplotlib-inline in /home/jarulraj3/eva/test_evadb/lib/python3.10/site-packages (from ipython<8.13.0->evadb[document,notebook,vision]) (0.1.6)\r\n",
      "Requirement already satisfied: pickleshare in /home/jarulraj3/eva/test_evadb/lib/python3.10/site-packages (from ipython<8.13.0->evadb[document,notebook,vision]) (0.7.5)\r\n",
      "Requirement already satisfied: prompt-toolkit!=3.0.37,<3.1.0,>=3.0.30 in /home/jarulraj3/eva/test_evadb/lib/python3.10/site-packages (from ipython<8.13.0->evadb[document,notebook,vision]) (3.0.38)\r\n",
      "Requirement already satisfied: pygments>=2.4.0 in /home/jarulraj3/eva/test_evadb/lib/python3.10/site-packages (from ipython<8.13.0->evadb[document,notebook,vision]) (2.15.1)\r\n",
      "Requirement already satisfied: stack-data in /home/jarulraj3/eva/test_evadb/lib/python3.10/site-packages (from ipython<8.13.0->evadb[document,notebook,vision]) (0.6.2)\r\n",
      "Requirement already satisfied: traitlets>=5 in /home/jarulraj3/eva/test_evadb/lib/python3.10/site-packages (from ipython<8.13.0->evadb[document,notebook,vision]) (5.9.0)\r\n",
      "Requirement already satisfied: pexpect>4.3 in /home/jarulraj3/eva/test_evadb/lib/python3.10/site-packages (from ipython<8.13.0->evadb[document,notebook,vision]) (4.8.0)\r\n",
      "Requirement already satisfied: ipykernel>=4.5.1 in /home/jarulraj3/eva/test_evadb/lib/python3.10/site-packages (from ipywidgets>=7.7.2->evadb[document,notebook,vision]) (6.23.3)\r\n",
      "Requirement already satisfied: widgetsnbextension~=4.0.7 in /home/jarulraj3/eva/test_evadb/lib/python3.10/site-packages (from ipywidgets>=7.7.2->evadb[document,notebook,vision]) (4.0.7)\r\n",
      "Requirement already satisfied: jupyterlab-widgets~=3.0.7 in /home/jarulraj3/eva/test_evadb/lib/python3.10/site-packages (from ipywidgets>=7.7.2->evadb[document,notebook,vision]) (3.0.7)\r\n",
      "Requirement already satisfied: contourpy>=1.0.1 in /home/jarulraj3/eva/test_evadb/lib/python3.10/site-packages (from matplotlib>=3.3.4->evadb[document,notebook,vision]) (1.1.0)\r\n",
      "Requirement already satisfied: cycler>=0.10 in /home/jarulraj3/eva/test_evadb/lib/python3.10/site-packages (from matplotlib>=3.3.4->evadb[document,notebook,vision]) (0.11.0)\r\n",
      "Requirement already satisfied: fonttools>=4.22.0 in /home/jarulraj3/eva/test_evadb/lib/python3.10/site-packages (from matplotlib>=3.3.4->evadb[document,notebook,vision]) (4.40.0)\r\n",
      "Requirement already satisfied: kiwisolver>=1.0.1 in /home/jarulraj3/eva/test_evadb/lib/python3.10/site-packages (from matplotlib>=3.3.4->evadb[document,notebook,vision]) (1.4.4)\r\n",
      "Requirement already satisfied: packaging>=20.0 in /home/jarulraj3/eva/test_evadb/lib/python3.10/site-packages (from matplotlib>=3.3.4->evadb[document,notebook,vision]) (23.1)\r\n",
      "Requirement already satisfied: pyparsing>=2.3.1 in /home/jarulraj3/eva/test_evadb/lib/python3.10/site-packages (from matplotlib>=3.3.4->evadb[document,notebook,vision]) (3.1.0)\r\n",
      "Requirement already satisfied: python-dateutil>=2.7 in /home/jarulraj3/eva/test_evadb/lib/python3.10/site-packages (from matplotlib>=3.3.4->evadb[document,notebook,vision]) (2.8.2)\r\n",
      "Requirement already satisfied: nbclient<0.7.0,>=0.6.6 in /home/jarulraj3/eva/test_evadb/lib/python3.10/site-packages (from nbmake>=1.2.1->evadb[document,notebook,vision]) (0.6.8)\r\n"
     ]
    },
    {
     "name": "stdout",
     "output_type": "stream",
     "text": [
      "Requirement already satisfied: nbformat<6.0.0,>=5.0.8 in /home/jarulraj3/eva/test_evadb/lib/python3.10/site-packages (from nbmake>=1.2.1->evadb[document,notebook,vision]) (5.9.0)\r\n",
      "Requirement already satisfied: pydantic<2.0.0,>=1.7.2 in /home/jarulraj3/eva/test_evadb/lib/python3.10/site-packages (from nbmake>=1.2.1->evadb[document,notebook,vision]) (1.10.9)\r\n",
      "Requirement already satisfied: pytest>=6.1.0 in /home/jarulraj3/eva/test_evadb/lib/python3.10/site-packages (from nbmake>=1.2.1->evadb[document,notebook,vision]) (7.4.0)\r\n",
      "Requirement already satisfied: requests>=2.20 in /home/jarulraj3/eva/test_evadb/lib/python3.10/site-packages (from openai>=0.27.4->evadb[document,notebook,vision]) (2.31.0)\r\n",
      "Requirement already satisfied: tqdm in /home/jarulraj3/eva/test_evadb/lib/python3.10/site-packages (from openai>=0.27.4->evadb[document,notebook,vision]) (4.65.0)\r\n",
      "Requirement already satisfied: aiohttp in /home/jarulraj3/eva/test_evadb/lib/python3.10/site-packages (from openai>=0.27.4->evadb[document,notebook,vision]) (3.8.4)\r\n"
     ]
    },
    {
     "name": "stdout",
     "output_type": "stream",
     "text": [
      "Requirement already satisfied: pytz>=2020.1 in /home/jarulraj3/eva/test_evadb/lib/python3.10/site-packages (from pandas>=1.1.5->evadb[document,notebook,vision]) (2023.3)\r\n",
      "Requirement already satisfied: tzdata>=2022.1 in /home/jarulraj3/eva/test_evadb/lib/python3.10/site-packages (from pandas>=1.1.5->evadb[document,notebook,vision]) (2023.3)\r\n",
      "Requirement already satisfied: py<2.0.0,>=1.4.26 in /home/jarulraj3/eva/test_evadb/lib/python3.10/site-packages (from retry>=0.9.2->evadb[document,notebook,vision]) (1.11.0)\r\n"
     ]
    },
    {
     "name": "stdout",
     "output_type": "stream",
     "text": [
      "Requirement already satisfied: greenlet!=0.4.17 in /home/jarulraj3/eva/test_evadb/lib/python3.10/site-packages (from sqlalchemy<2.0.0,>=1.4.0->evadb[document,notebook,vision]) (2.0.2)\r\n"
     ]
    },
    {
     "name": "stdout",
     "output_type": "stream",
     "text": [
      "Requirement already satisfied: huggingface-hub in /home/jarulraj3/eva/test_evadb/lib/python3.10/site-packages (from timm>=0.6.13->evadb[document,notebook,vision]) (0.15.1)\r\n",
      "Requirement already satisfied: safetensors in /home/jarulraj3/eva/test_evadb/lib/python3.10/site-packages (from timm>=0.6.13->evadb[document,notebook,vision]) (0.3.1)\r\n",
      "Requirement already satisfied: filelock in /home/jarulraj3/eva/test_evadb/lib/python3.10/site-packages (from torch>=1.10.0->evadb[document,notebook,vision]) (3.12.2)\r\n",
      "Requirement already satisfied: typing-extensions in /home/jarulraj3/eva/test_evadb/lib/python3.10/site-packages (from torch>=1.10.0->evadb[document,notebook,vision]) (4.5.0)\r\n",
      "Requirement already satisfied: sympy in /home/jarulraj3/eva/test_evadb/lib/python3.10/site-packages (from torch>=1.10.0->evadb[document,notebook,vision]) (1.12)\r\n",
      "Requirement already satisfied: networkx in /home/jarulraj3/eva/test_evadb/lib/python3.10/site-packages (from torch>=1.10.0->evadb[document,notebook,vision]) (3.1)\r\n",
      "Requirement already satisfied: jinja2 in /home/jarulraj3/eva/test_evadb/lib/python3.10/site-packages (from torch>=1.10.0->evadb[document,notebook,vision]) (3.1.2)\r\n",
      "Requirement already satisfied: nvidia-cuda-nvrtc-cu11==11.7.99 in /home/jarulraj3/eva/test_evadb/lib/python3.10/site-packages (from torch>=1.10.0->evadb[document,notebook,vision]) (11.7.99)\r\n",
      "Requirement already satisfied: nvidia-cuda-runtime-cu11==11.7.99 in /home/jarulraj3/eva/test_evadb/lib/python3.10/site-packages (from torch>=1.10.0->evadb[document,notebook,vision]) (11.7.99)\r\n",
      "Requirement already satisfied: nvidia-cuda-cupti-cu11==11.7.101 in /home/jarulraj3/eva/test_evadb/lib/python3.10/site-packages (from torch>=1.10.0->evadb[document,notebook,vision]) (11.7.101)\r\n",
      "Requirement already satisfied: nvidia-cudnn-cu11==8.5.0.96 in /home/jarulraj3/eva/test_evadb/lib/python3.10/site-packages (from torch>=1.10.0->evadb[document,notebook,vision]) (8.5.0.96)\r\n",
      "Requirement already satisfied: nvidia-cublas-cu11==11.10.3.66 in /home/jarulraj3/eva/test_evadb/lib/python3.10/site-packages (from torch>=1.10.0->evadb[document,notebook,vision]) (11.10.3.66)\r\n",
      "Requirement already satisfied: nvidia-cufft-cu11==10.9.0.58 in /home/jarulraj3/eva/test_evadb/lib/python3.10/site-packages (from torch>=1.10.0->evadb[document,notebook,vision]) (10.9.0.58)\r\n",
      "Requirement already satisfied: nvidia-curand-cu11==10.2.10.91 in /home/jarulraj3/eva/test_evadb/lib/python3.10/site-packages (from torch>=1.10.0->evadb[document,notebook,vision]) (10.2.10.91)\r\n"
     ]
    },
    {
     "name": "stdout",
     "output_type": "stream",
     "text": [
      "Requirement already satisfied: nvidia-cusolver-cu11==11.4.0.1 in /home/jarulraj3/eva/test_evadb/lib/python3.10/site-packages (from torch>=1.10.0->evadb[document,notebook,vision]) (11.4.0.1)\r\n",
      "Requirement already satisfied: nvidia-cusparse-cu11==11.7.4.91 in /home/jarulraj3/eva/test_evadb/lib/python3.10/site-packages (from torch>=1.10.0->evadb[document,notebook,vision]) (11.7.4.91)\r\n",
      "Requirement already satisfied: nvidia-nccl-cu11==2.14.3 in /home/jarulraj3/eva/test_evadb/lib/python3.10/site-packages (from torch>=1.10.0->evadb[document,notebook,vision]) (2.14.3)\r\n",
      "Requirement already satisfied: nvidia-nvtx-cu11==11.7.91 in /home/jarulraj3/eva/test_evadb/lib/python3.10/site-packages (from torch>=1.10.0->evadb[document,notebook,vision]) (11.7.91)\r\n",
      "Requirement already satisfied: triton==2.0.0 in /home/jarulraj3/eva/test_evadb/lib/python3.10/site-packages (from torch>=1.10.0->evadb[document,notebook,vision]) (2.0.0)\r\n",
      "Requirement already satisfied: setuptools in /home/jarulraj3/eva/test_evadb/lib/python3.10/site-packages (from nvidia-cublas-cu11==11.10.3.66->torch>=1.10.0->evadb[document,notebook,vision]) (65.5.0)\r\n",
      "Requirement already satisfied: wheel in /home/jarulraj3/eva/test_evadb/lib/python3.10/site-packages (from nvidia-cublas-cu11==11.10.3.66->torch>=1.10.0->evadb[document,notebook,vision]) (0.40.0)\r\n"
     ]
    },
    {
     "name": "stdout",
     "output_type": "stream",
     "text": [
      "Requirement already satisfied: cmake in /home/jarulraj3/eva/test_evadb/lib/python3.10/site-packages (from triton==2.0.0->torch>=1.10.0->evadb[document,notebook,vision]) (3.26.4)\r\n",
      "Requirement already satisfied: lit in /home/jarulraj3/eva/test_evadb/lib/python3.10/site-packages (from triton==2.0.0->torch>=1.10.0->evadb[document,notebook,vision]) (16.0.6)\r\n"
     ]
    },
    {
     "name": "stdout",
     "output_type": "stream",
     "text": [
      "Requirement already satisfied: regex!=2019.12.17 in /home/jarulraj3/eva/test_evadb/lib/python3.10/site-packages (from transformers<4.30.2,>=4.27.4->evadb[document,notebook,vision]) (2023.6.3)\r\n",
      "Requirement already satisfied: tokenizers!=0.11.3,<0.14,>=0.11.1 in /home/jarulraj3/eva/test_evadb/lib/python3.10/site-packages (from transformers<4.30.2,>=4.27.4->evadb[document,notebook,vision]) (0.13.3)\r\n"
     ]
    },
    {
     "name": "stdout",
     "output_type": "stream",
     "text": [
      "Requirement already satisfied: opencv-python>=4.6.0 in /home/jarulraj3/eva/test_evadb/lib/python3.10/site-packages (from ultralytics>=8.0.93->evadb[document,notebook,vision]) (4.7.0.72)\r\n",
      "Requirement already satisfied: scipy>=1.4.1 in /home/jarulraj3/eva/test_evadb/lib/python3.10/site-packages (from ultralytics>=8.0.93->evadb[document,notebook,vision]) (1.11.0)\r\n",
      "Requirement already satisfied: seaborn>=0.11.0 in /home/jarulraj3/eva/test_evadb/lib/python3.10/site-packages (from ultralytics>=8.0.93->evadb[document,notebook,vision]) (0.12.2)\r\n",
      "Requirement already satisfied: beautifulsoup4 in /home/jarulraj3/eva/test_evadb/lib/python3.10/site-packages (from bs4->evadb[document,notebook,vision]) (4.12.2)\r\n"
     ]
    },
    {
     "name": "stdout",
     "output_type": "stream",
     "text": [
      "Requirement already satisfied: async-timeout<5.0.0,>=4.0.0 in /home/jarulraj3/eva/test_evadb/lib/python3.10/site-packages (from langchain->evadb[document,notebook,vision]) (4.0.2)\r\n",
      "Requirement already satisfied: dataclasses-json<0.6.0,>=0.5.7 in /home/jarulraj3/eva/test_evadb/lib/python3.10/site-packages (from langchain->evadb[document,notebook,vision]) (0.5.8)\r\n",
      "Requirement already satisfied: langchainplus-sdk>=0.0.17 in /home/jarulraj3/eva/test_evadb/lib/python3.10/site-packages (from langchain->evadb[document,notebook,vision]) (0.0.17)\r\n",
      "Requirement already satisfied: numexpr<3.0.0,>=2.8.4 in /home/jarulraj3/eva/test_evadb/lib/python3.10/site-packages (from langchain->evadb[document,notebook,vision]) (2.8.4)\r\n",
      "Requirement already satisfied: openapi-schema-pydantic<2.0,>=1.2 in /home/jarulraj3/eva/test_evadb/lib/python3.10/site-packages (from langchain->evadb[document,notebook,vision]) (1.2.4)\r\n",
      "Requirement already satisfied: tenacity<9.0.0,>=8.1.0 in /home/jarulraj3/eva/test_evadb/lib/python3.10/site-packages (from langchain->evadb[document,notebook,vision]) (8.2.2)\r\n",
      "Requirement already satisfied: charset-normalizer>=2.0.0 in /home/jarulraj3/eva/test_evadb/lib/python3.10/site-packages (from pdfminer.six->evadb[document,notebook,vision]) (3.1.0)\r\n",
      "Requirement already satisfied: cryptography>=36.0.0 in /home/jarulraj3/eva/test_evadb/lib/python3.10/site-packages (from pdfminer.six->evadb[document,notebook,vision]) (41.0.1)\r\n"
     ]
    },
    {
     "name": "stdout",
     "output_type": "stream",
     "text": [
      "Requirement already satisfied: scikit-learn in /home/jarulraj3/eva/test_evadb/lib/python3.10/site-packages (from sentence-transformers->evadb[document,notebook,vision]) (1.2.2)\r\n",
      "Requirement already satisfied: nltk in /home/jarulraj3/eva/test_evadb/lib/python3.10/site-packages (from sentence-transformers->evadb[document,notebook,vision]) (3.8.1)\r\n",
      "Requirement already satisfied: attrs>=17.3.0 in /home/jarulraj3/eva/test_evadb/lib/python3.10/site-packages (from aiohttp->openai>=0.27.4->evadb[document,notebook,vision]) (23.1.0)\r\n",
      "Requirement already satisfied: multidict<7.0,>=4.5 in /home/jarulraj3/eva/test_evadb/lib/python3.10/site-packages (from aiohttp->openai>=0.27.4->evadb[document,notebook,vision]) (6.0.4)\r\n",
      "Requirement already satisfied: yarl<2.0,>=1.0 in /home/jarulraj3/eva/test_evadb/lib/python3.10/site-packages (from aiohttp->openai>=0.27.4->evadb[document,notebook,vision]) (1.9.2)\r\n",
      "Requirement already satisfied: frozenlist>=1.1.1 in /home/jarulraj3/eva/test_evadb/lib/python3.10/site-packages (from aiohttp->openai>=0.27.4->evadb[document,notebook,vision]) (1.3.3)\r\n",
      "Requirement already satisfied: aiosignal>=1.1.2 in /home/jarulraj3/eva/test_evadb/lib/python3.10/site-packages (from aiohttp->openai>=0.27.4->evadb[document,notebook,vision]) (1.3.1)\r\n"
     ]
    },
    {
     "name": "stdout",
     "output_type": "stream",
     "text": [
      "Requirement already satisfied: cffi>=1.12 in /home/jarulraj3/eva/test_evadb/lib/python3.10/site-packages (from cryptography>=36.0.0->pdfminer.six->evadb[document,notebook,vision]) (1.15.1)\r\n"
     ]
    },
    {
     "name": "stdout",
     "output_type": "stream",
     "text": [
      "Requirement already satisfied: marshmallow<4.0.0,>=3.3.0 in /home/jarulraj3/eva/test_evadb/lib/python3.10/site-packages (from dataclasses-json<0.6.0,>=0.5.7->langchain->evadb[document,notebook,vision]) (3.19.0)\r\n",
      "Requirement already satisfied: marshmallow-enum<2.0.0,>=1.5.1 in /home/jarulraj3/eva/test_evadb/lib/python3.10/site-packages (from dataclasses-json<0.6.0,>=0.5.7->langchain->evadb[document,notebook,vision]) (1.5.1)\r\n",
      "Requirement already satisfied: typing-inspect>=0.4.0 in /home/jarulraj3/eva/test_evadb/lib/python3.10/site-packages (from dataclasses-json<0.6.0,>=0.5.7->langchain->evadb[document,notebook,vision]) (0.9.0)\r\n"
     ]
    },
    {
     "name": "stdout",
     "output_type": "stream",
     "text": [
      "Requirement already satisfied: fsspec in /home/jarulraj3/eva/test_evadb/lib/python3.10/site-packages (from huggingface-hub->timm>=0.6.13->evadb[document,notebook,vision]) (2023.6.0)\r\n"
     ]
    },
    {
     "name": "stdout",
     "output_type": "stream",
     "text": [
      "Requirement already satisfied: comm>=0.1.1 in /home/jarulraj3/eva/test_evadb/lib/python3.10/site-packages (from ipykernel>=4.5.1->ipywidgets>=7.7.2->evadb[document,notebook,vision]) (0.1.3)\r\n",
      "Requirement already satisfied: debugpy>=1.6.5 in /home/jarulraj3/eva/test_evadb/lib/python3.10/site-packages (from ipykernel>=4.5.1->ipywidgets>=7.7.2->evadb[document,notebook,vision]) (1.6.7)\r\n",
      "Requirement already satisfied: jupyter-client>=6.1.12 in /home/jarulraj3/eva/test_evadb/lib/python3.10/site-packages (from ipykernel>=4.5.1->ipywidgets>=7.7.2->evadb[document,notebook,vision]) (8.3.0)\r\n",
      "Requirement already satisfied: jupyter-core!=5.0.*,>=4.12 in /home/jarulraj3/eva/test_evadb/lib/python3.10/site-packages (from ipykernel>=4.5.1->ipywidgets>=7.7.2->evadb[document,notebook,vision]) (5.3.1)\r\n",
      "Requirement already satisfied: pyzmq>=20 in /home/jarulraj3/eva/test_evadb/lib/python3.10/site-packages (from ipykernel>=4.5.1->ipywidgets>=7.7.2->evadb[document,notebook,vision]) (25.1.0)\r\n",
      "Requirement already satisfied: tornado>=6.1 in /home/jarulraj3/eva/test_evadb/lib/python3.10/site-packages (from ipykernel>=4.5.1->ipywidgets>=7.7.2->evadb[document,notebook,vision]) (6.3.2)\r\n",
      "Requirement already satisfied: parso<0.9.0,>=0.8.0 in /home/jarulraj3/eva/test_evadb/lib/python3.10/site-packages (from jedi>=0.16->ipython<8.13.0->evadb[document,notebook,vision]) (0.8.3)\r\n"
     ]
    },
    {
     "name": "stdout",
     "output_type": "stream",
     "text": [
      "Requirement already satisfied: fastjsonschema in /home/jarulraj3/eva/test_evadb/lib/python3.10/site-packages (from nbformat<6.0.0,>=5.0.8->nbmake>=1.2.1->evadb[document,notebook,vision]) (2.17.1)\r\n",
      "Requirement already satisfied: jsonschema>=2.6 in /home/jarulraj3/eva/test_evadb/lib/python3.10/site-packages (from nbformat<6.0.0,>=5.0.8->nbmake>=1.2.1->evadb[document,notebook,vision]) (4.17.3)\r\n"
     ]
    },
    {
     "name": "stdout",
     "output_type": "stream",
     "text": [
      "Requirement already satisfied: ptyprocess>=0.5 in /home/jarulraj3/eva/test_evadb/lib/python3.10/site-packages (from pexpect>4.3->ipython<8.13.0->evadb[document,notebook,vision]) (0.7.0)\r\n",
      "Requirement already satisfied: wcwidth in /home/jarulraj3/eva/test_evadb/lib/python3.10/site-packages (from prompt-toolkit!=3.0.37,<3.1.0,>=3.0.30->ipython<8.13.0->evadb[document,notebook,vision]) (0.2.6)\r\n"
     ]
    },
    {
     "name": "stdout",
     "output_type": "stream",
     "text": [
      "Requirement already satisfied: iniconfig in /home/jarulraj3/eva/test_evadb/lib/python3.10/site-packages (from pytest>=6.1.0->nbmake>=1.2.1->evadb[document,notebook,vision]) (2.0.0)\r\n",
      "Requirement already satisfied: pluggy<2.0,>=0.12 in /home/jarulraj3/eva/test_evadb/lib/python3.10/site-packages (from pytest>=6.1.0->nbmake>=1.2.1->evadb[document,notebook,vision]) (1.2.0)\r\n",
      "Requirement already satisfied: exceptiongroup>=1.0.0rc8 in /home/jarulraj3/eva/test_evadb/lib/python3.10/site-packages (from pytest>=6.1.0->nbmake>=1.2.1->evadb[document,notebook,vision]) (1.1.1)\r\n",
      "Requirement already satisfied: tomli>=1.0.0 in /home/jarulraj3/eva/test_evadb/lib/python3.10/site-packages (from pytest>=6.1.0->nbmake>=1.2.1->evadb[document,notebook,vision]) (2.0.1)\r\n"
     ]
    },
    {
     "name": "stdout",
     "output_type": "stream",
     "text": [
      "Requirement already satisfied: six>=1.5 in /home/jarulraj3/eva/test_evadb/lib/python3.10/site-packages (from python-dateutil>=2.7->matplotlib>=3.3.4->evadb[document,notebook,vision]) (1.16.0)\r\n",
      "Requirement already satisfied: idna<4,>=2.5 in /home/jarulraj3/eva/test_evadb/lib/python3.10/site-packages (from requests>=2.20->openai>=0.27.4->evadb[document,notebook,vision]) (3.4)\r\n",
      "Requirement already satisfied: urllib3<3,>=1.21.1 in /home/jarulraj3/eva/test_evadb/lib/python3.10/site-packages (from requests>=2.20->openai>=0.27.4->evadb[document,notebook,vision]) (1.26.16)\r\n",
      "Requirement already satisfied: certifi>=2017.4.17 in /home/jarulraj3/eva/test_evadb/lib/python3.10/site-packages (from requests>=2.20->openai>=0.27.4->evadb[document,notebook,vision]) (2023.5.7)\r\n"
     ]
    },
    {
     "name": "stdout",
     "output_type": "stream",
     "text": [
      "Requirement already satisfied: soupsieve>1.2 in /home/jarulraj3/eva/test_evadb/lib/python3.10/site-packages (from beautifulsoup4->bs4->evadb[document,notebook,vision]) (2.4.1)\r\n",
      "Requirement already satisfied: MarkupSafe>=2.0 in /home/jarulraj3/eva/test_evadb/lib/python3.10/site-packages (from jinja2->torch>=1.10.0->evadb[document,notebook,vision]) (2.1.3)\r\n"
     ]
    },
    {
     "name": "stdout",
     "output_type": "stream",
     "text": [
      "Requirement already satisfied: click in /home/jarulraj3/eva/test_evadb/lib/python3.10/site-packages (from nltk->sentence-transformers->evadb[document,notebook,vision]) (8.1.3)\r\n",
      "Requirement already satisfied: joblib in /home/jarulraj3/eva/test_evadb/lib/python3.10/site-packages (from nltk->sentence-transformers->evadb[document,notebook,vision]) (1.2.0)\r\n"
     ]
    },
    {
     "name": "stdout",
     "output_type": "stream",
     "text": [
      "Requirement already satisfied: threadpoolctl>=2.0.0 in /home/jarulraj3/eva/test_evadb/lib/python3.10/site-packages (from scikit-learn->sentence-transformers->evadb[document,notebook,vision]) (3.1.0)\r\n",
      "Requirement already satisfied: executing>=1.2.0 in /home/jarulraj3/eva/test_evadb/lib/python3.10/site-packages (from stack-data->ipython<8.13.0->evadb[document,notebook,vision]) (1.2.0)\r\n",
      "Requirement already satisfied: asttokens>=2.1.0 in /home/jarulraj3/eva/test_evadb/lib/python3.10/site-packages (from stack-data->ipython<8.13.0->evadb[document,notebook,vision]) (2.2.1)\r\n",
      "Requirement already satisfied: pure-eval in /home/jarulraj3/eva/test_evadb/lib/python3.10/site-packages (from stack-data->ipython<8.13.0->evadb[document,notebook,vision]) (0.2.2)\r\n",
      "Requirement already satisfied: mpmath>=0.19 in /home/jarulraj3/eva/test_evadb/lib/python3.10/site-packages (from sympy->torch>=1.10.0->evadb[document,notebook,vision]) (1.3.0)\r\n"
     ]
    },
    {
     "name": "stdout",
     "output_type": "stream",
     "text": [
      "Requirement already satisfied: pycparser in /home/jarulraj3/eva/test_evadb/lib/python3.10/site-packages (from cffi>=1.12->cryptography>=36.0.0->pdfminer.six->evadb[document,notebook,vision]) (2.21)\r\n"
     ]
    },
    {
     "name": "stdout",
     "output_type": "stream",
     "text": [
      "Requirement already satisfied: pyrsistent!=0.17.0,!=0.17.1,!=0.17.2,>=0.14.0 in /home/jarulraj3/eva/test_evadb/lib/python3.10/site-packages (from jsonschema>=2.6->nbformat<6.0.0,>=5.0.8->nbmake>=1.2.1->evadb[document,notebook,vision]) (0.19.3)\r\n"
     ]
    },
    {
     "name": "stdout",
     "output_type": "stream",
     "text": [
      "Requirement already satisfied: platformdirs>=2.5 in /home/jarulraj3/eva/test_evadb/lib/python3.10/site-packages (from jupyter-core!=5.0.*,>=4.12->ipykernel>=4.5.1->ipywidgets>=7.7.2->evadb[document,notebook,vision]) (3.8.0)\r\n"
     ]
    },
    {
     "name": "stdout",
     "output_type": "stream",
     "text": [
      "Requirement already satisfied: mypy-extensions>=0.3.0 in /home/jarulraj3/eva/test_evadb/lib/python3.10/site-packages (from typing-inspect>=0.4.0->dataclasses-json<0.6.0,>=0.5.7->langchain->evadb[document,notebook,vision]) (1.0.0)\r\n"
     ]
    },
    {
     "name": "stdout",
     "output_type": "stream",
     "text": [
      "Installing collected packages: protobuf\r\n",
      "  Attempting uninstall: protobuf\r\n",
      "    Found existing installation: protobuf 4.23.3\r\n",
      "    Uninstalling protobuf-4.23.3:\r\n",
      "      Successfully uninstalled protobuf-4.23.3\r\n"
     ]
    },
    {
     "name": "stdout",
     "output_type": "stream",
     "text": [
      "\u001b[31mERROR: pip's dependency resolver does not currently take into account all the packages that are installed. This behaviour is the source of the following dependency conflicts.\r\n",
      "grpcio-tools 1.56.0 requires protobuf<5.0dev,>=4.21.6, but you have protobuf 3.20.1 which is incompatible.\u001b[0m\u001b[31m\r\n",
      "\u001b[0mSuccessfully installed protobuf-3.20.1\r\n"
     ]
    },
    {
     "name": "stdout",
     "output_type": "stream",
     "text": [
      "Note: you may need to restart the kernel to use updated packages.\n"
     ]
    },
    {
     "name": "stdout",
     "output_type": "stream",
     "text": [
      "Requirement already satisfied: kornia in /home/jarulraj3/eva/test_evadb/lib/python3.10/site-packages (0.6.12)\r\n",
      "Requirement already satisfied: qdrant_client in /home/jarulraj3/eva/test_evadb/lib/python3.10/site-packages (1.3.1)\r\n",
      "Requirement already satisfied: packaging in /home/jarulraj3/eva/test_evadb/lib/python3.10/site-packages (from kornia) (23.1)\r\n",
      "Requirement already satisfied: torch>=1.9.1 in /home/jarulraj3/eva/test_evadb/lib/python3.10/site-packages (from kornia) (2.0.1)\r\n",
      "Requirement already satisfied: grpcio>=1.41.0 in /home/jarulraj3/eva/test_evadb/lib/python3.10/site-packages (from qdrant_client) (1.56.0)\r\n",
      "Requirement already satisfied: grpcio-tools>=1.41.0 in /home/jarulraj3/eva/test_evadb/lib/python3.10/site-packages (from qdrant_client) (1.56.0)\r\n",
      "Requirement already satisfied: httpx[http2]>=0.14.0 in /home/jarulraj3/eva/test_evadb/lib/python3.10/site-packages (from qdrant_client) (0.24.1)\r\n",
      "Requirement already satisfied: numpy>=1.21 in /home/jarulraj3/eva/test_evadb/lib/python3.10/site-packages (from qdrant_client) (1.25.0)\r\n",
      "Requirement already satisfied: portalocker<3.0.0,>=2.7.0 in /home/jarulraj3/eva/test_evadb/lib/python3.10/site-packages (from qdrant_client) (2.7.0)\r\n",
      "Requirement already satisfied: pydantic<2.0,>=1.8 in /home/jarulraj3/eva/test_evadb/lib/python3.10/site-packages (from qdrant_client) (1.10.9)\r\n"
     ]
    },
    {
     "name": "stdout",
     "output_type": "stream",
     "text": [
      "Requirement already satisfied: typing-extensions<4.6.0,>=4.0.0 in /home/jarulraj3/eva/test_evadb/lib/python3.10/site-packages (from qdrant_client) (4.5.0)\r\n",
      "Requirement already satisfied: urllib3<2.0.0,>=1.26.14 in /home/jarulraj3/eva/test_evadb/lib/python3.10/site-packages (from qdrant_client) (1.26.16)\r\n"
     ]
    },
    {
     "name": "stdout",
     "output_type": "stream",
     "text": [
      "Collecting protobuf<5.0dev,>=4.21.6 (from grpcio-tools>=1.41.0->qdrant_client)\r\n",
      "  Using cached protobuf-4.23.3-cp37-abi3-manylinux2014_x86_64.whl (304 kB)\r\n",
      "Requirement already satisfied: setuptools in /home/jarulraj3/eva/test_evadb/lib/python3.10/site-packages (from grpcio-tools>=1.41.0->qdrant_client) (65.5.0)\r\n",
      "Requirement already satisfied: certifi in /home/jarulraj3/eva/test_evadb/lib/python3.10/site-packages (from httpx[http2]>=0.14.0->qdrant_client) (2023.5.7)\r\n",
      "Requirement already satisfied: httpcore<0.18.0,>=0.15.0 in /home/jarulraj3/eva/test_evadb/lib/python3.10/site-packages (from httpx[http2]>=0.14.0->qdrant_client) (0.17.2)\r\n",
      "Requirement already satisfied: idna in /home/jarulraj3/eva/test_evadb/lib/python3.10/site-packages (from httpx[http2]>=0.14.0->qdrant_client) (3.4)\r\n",
      "Requirement already satisfied: sniffio in /home/jarulraj3/eva/test_evadb/lib/python3.10/site-packages (from httpx[http2]>=0.14.0->qdrant_client) (1.3.0)\r\n",
      "Requirement already satisfied: h2<5,>=3 in /home/jarulraj3/eva/test_evadb/lib/python3.10/site-packages (from httpx[http2]>=0.14.0->qdrant_client) (4.1.0)\r\n"
     ]
    },
    {
     "name": "stdout",
     "output_type": "stream",
     "text": [
      "Requirement already satisfied: filelock in /home/jarulraj3/eva/test_evadb/lib/python3.10/site-packages (from torch>=1.9.1->kornia) (3.12.2)\r\n",
      "Requirement already satisfied: sympy in /home/jarulraj3/eva/test_evadb/lib/python3.10/site-packages (from torch>=1.9.1->kornia) (1.12)\r\n",
      "Requirement already satisfied: networkx in /home/jarulraj3/eva/test_evadb/lib/python3.10/site-packages (from torch>=1.9.1->kornia) (3.1)\r\n",
      "Requirement already satisfied: jinja2 in /home/jarulraj3/eva/test_evadb/lib/python3.10/site-packages (from torch>=1.9.1->kornia) (3.1.2)\r\n",
      "Requirement already satisfied: nvidia-cuda-nvrtc-cu11==11.7.99 in /home/jarulraj3/eva/test_evadb/lib/python3.10/site-packages (from torch>=1.9.1->kornia) (11.7.99)\r\n",
      "Requirement already satisfied: nvidia-cuda-runtime-cu11==11.7.99 in /home/jarulraj3/eva/test_evadb/lib/python3.10/site-packages (from torch>=1.9.1->kornia) (11.7.99)\r\n",
      "Requirement already satisfied: nvidia-cuda-cupti-cu11==11.7.101 in /home/jarulraj3/eva/test_evadb/lib/python3.10/site-packages (from torch>=1.9.1->kornia) (11.7.101)\r\n",
      "Requirement already satisfied: nvidia-cudnn-cu11==8.5.0.96 in /home/jarulraj3/eva/test_evadb/lib/python3.10/site-packages (from torch>=1.9.1->kornia) (8.5.0.96)\r\n",
      "Requirement already satisfied: nvidia-cublas-cu11==11.10.3.66 in /home/jarulraj3/eva/test_evadb/lib/python3.10/site-packages (from torch>=1.9.1->kornia) (11.10.3.66)\r\n"
     ]
    },
    {
     "name": "stdout",
     "output_type": "stream",
     "text": [
      "Requirement already satisfied: nvidia-cufft-cu11==10.9.0.58 in /home/jarulraj3/eva/test_evadb/lib/python3.10/site-packages (from torch>=1.9.1->kornia) (10.9.0.58)\r\n",
      "Requirement already satisfied: nvidia-curand-cu11==10.2.10.91 in /home/jarulraj3/eva/test_evadb/lib/python3.10/site-packages (from torch>=1.9.1->kornia) (10.2.10.91)\r\n",
      "Requirement already satisfied: nvidia-cusolver-cu11==11.4.0.1 in /home/jarulraj3/eva/test_evadb/lib/python3.10/site-packages (from torch>=1.9.1->kornia) (11.4.0.1)\r\n",
      "Requirement already satisfied: nvidia-cusparse-cu11==11.7.4.91 in /home/jarulraj3/eva/test_evadb/lib/python3.10/site-packages (from torch>=1.9.1->kornia) (11.7.4.91)\r\n",
      "Requirement already satisfied: nvidia-nccl-cu11==2.14.3 in /home/jarulraj3/eva/test_evadb/lib/python3.10/site-packages (from torch>=1.9.1->kornia) (2.14.3)\r\n",
      "Requirement already satisfied: nvidia-nvtx-cu11==11.7.91 in /home/jarulraj3/eva/test_evadb/lib/python3.10/site-packages (from torch>=1.9.1->kornia) (11.7.91)\r\n",
      "Requirement already satisfied: triton==2.0.0 in /home/jarulraj3/eva/test_evadb/lib/python3.10/site-packages (from torch>=1.9.1->kornia) (2.0.0)\r\n",
      "Requirement already satisfied: wheel in /home/jarulraj3/eva/test_evadb/lib/python3.10/site-packages (from nvidia-cublas-cu11==11.10.3.66->torch>=1.9.1->kornia) (0.40.0)\r\n",
      "Requirement already satisfied: cmake in /home/jarulraj3/eva/test_evadb/lib/python3.10/site-packages (from triton==2.0.0->torch>=1.9.1->kornia) (3.26.4)\r\n",
      "Requirement already satisfied: lit in /home/jarulraj3/eva/test_evadb/lib/python3.10/site-packages (from triton==2.0.0->torch>=1.9.1->kornia) (16.0.6)\r\n"
     ]
    },
    {
     "name": "stdout",
     "output_type": "stream",
     "text": [
      "Requirement already satisfied: hyperframe<7,>=6.0 in /home/jarulraj3/eva/test_evadb/lib/python3.10/site-packages (from h2<5,>=3->httpx[http2]>=0.14.0->qdrant_client) (6.0.1)\r\n",
      "Requirement already satisfied: hpack<5,>=4.0 in /home/jarulraj3/eva/test_evadb/lib/python3.10/site-packages (from h2<5,>=3->httpx[http2]>=0.14.0->qdrant_client) (4.0.0)\r\n",
      "Requirement already satisfied: h11<0.15,>=0.13 in /home/jarulraj3/eva/test_evadb/lib/python3.10/site-packages (from httpcore<0.18.0,>=0.15.0->httpx[http2]>=0.14.0->qdrant_client) (0.14.0)\r\n",
      "Requirement already satisfied: anyio<5.0,>=3.0 in /home/jarulraj3/eva/test_evadb/lib/python3.10/site-packages (from httpcore<0.18.0,>=0.15.0->httpx[http2]>=0.14.0->qdrant_client) (3.7.0)\r\n"
     ]
    },
    {
     "name": "stdout",
     "output_type": "stream",
     "text": [
      "Requirement already satisfied: MarkupSafe>=2.0 in /home/jarulraj3/eva/test_evadb/lib/python3.10/site-packages (from jinja2->torch>=1.9.1->kornia) (2.1.3)\r\n"
     ]
    },
    {
     "name": "stdout",
     "output_type": "stream",
     "text": [
      "Requirement already satisfied: mpmath>=0.19 in /home/jarulraj3/eva/test_evadb/lib/python3.10/site-packages (from sympy->torch>=1.9.1->kornia) (1.3.0)\r\n"
     ]
    },
    {
     "name": "stdout",
     "output_type": "stream",
     "text": [
      "Requirement already satisfied: exceptiongroup in /home/jarulraj3/eva/test_evadb/lib/python3.10/site-packages (from anyio<5.0,>=3.0->httpcore<0.18.0,>=0.15.0->httpx[http2]>=0.14.0->qdrant_client) (1.1.1)\r\n"
     ]
    },
    {
     "name": "stdout",
     "output_type": "stream",
     "text": [
      "Installing collected packages: protobuf\r\n",
      "  Attempting uninstall: protobuf\r\n",
      "    Found existing installation: protobuf 3.20.1\r\n"
     ]
    },
    {
     "name": "stdout",
     "output_type": "stream",
     "text": [
      "    Uninstalling protobuf-3.20.1:\r\n"
     ]
    },
    {
     "name": "stdout",
     "output_type": "stream",
     "text": [
      "      Successfully uninstalled protobuf-3.20.1\r\n"
     ]
    },
    {
     "name": "stdout",
     "output_type": "stream",
     "text": [
      "Successfully installed protobuf-4.23.3\r\n"
     ]
    },
    {
     "name": "stdout",
     "output_type": "stream",
     "text": [
      "Note: you may need to restart the kernel to use updated packages.\n"
     ]
    }
   ],
   "source": [
    "%pip install \"evadb[vision,document,notebook]\"\n",
    "%pip install kornia qdrant_client\n",
    "import evadb\n",
    "cursor = evadb.connect().cursor()"
   ]
  },
  {
   "attachments": {},
   "cell_type": "markdown",
   "id": "cc9f4144",
   "metadata": {},
   "source": [
    "### Download reddit dataset"
   ]
  },
  {
   "cell_type": "code",
   "execution_count": 2,
   "id": "527ec1b6",
   "metadata": {
    "execution": {
     "iopub.execute_input": "2023-06-26T15:09:19.183037Z",
     "iopub.status.busy": "2023-06-26T15:09:19.182761Z",
     "iopub.status.idle": "2023-06-26T15:09:20.627628Z",
     "shell.execute_reply": "2023-06-26T15:09:20.625677Z"
    }
   },
   "outputs": [
    {
     "name": "stdout",
     "output_type": "stream",
     "text": [
      "File ‘reddit-images.zip’ already there; not retrieving.\r\n"
     ]
    },
    {
     "name": "stdout",
     "output_type": "stream",
     "text": [
      "Archive:  reddit-images.zip\r\n",
      "warning:  stripped absolute path spec from /\r\n",
      "mapname:  conversion of  failed\r\n",
      " extracting: reddit-images/g348_d7jgzgf.jpg  \r\n",
      " extracting: reddit-images/g348_d7jphyc.jpg  \r\n",
      " extracting: reddit-images/g348_d7ju7dq.jpg  \r\n",
      " extracting: reddit-images/g348_d7jhhs3.jpg  \r\n",
      " extracting: reddit-images/g1074_d4n1lmn.jpg  \r\n",
      " extracting: reddit-images/g1074_d4mxztt.jpg  \r\n",
      " extracting: reddit-images/g1074_d4n60oy.jpg  \r\n",
      " extracting: reddit-images/g1074_d4n6fgs.jpg  \r\n",
      " extracting: reddit-images/g1190_cln9xzr.jpg  \r\n",
      " extracting: reddit-images/g1190_cln97xm.jpg  \r\n",
      " extracting: reddit-images/g1190_clna260.jpg  \r\n",
      " extracting: reddit-images/g1190_clna2x2.jpg  \r\n",
      " extracting: reddit-images/g1190_clna91w.jpg  \r\n",
      " extracting: reddit-images/g1190_clnad42.jpg  \r\n",
      " extracting: reddit-images/g1190_clnajd7.jpg  \r\n",
      " extracting: reddit-images/g1190_clnapoy.jpg  \r\n",
      " extracting: reddit-images/g1190_clnarjl.jpg  \r\n",
      " extracting: reddit-images/g1190_clnavnu.jpg  \r\n",
      " extracting: reddit-images/g1190_clnbalu.jpg  \r\n",
      " extracting: reddit-images/g1190_clnbf07.jpg  \r\n",
      " extracting: reddit-images/g1190_clnc4uy.jpg  \r\n",
      " extracting: reddit-images/g1190_clncot0.jpg  \r\n",
      " extracting: reddit-images/g1190_clndsnu.jpg  \r\n",
      " extracting: reddit-images/g1190_clnce4b.jpg  \r\n",
      " extracting: reddit-images/g1209_ct65pvl.jpg  \r\n",
      " extracting: reddit-images/g1209_ct66erw.jpg  \r\n",
      " extracting: reddit-images/g1209_ct67oqk.jpg  \r\n",
      " extracting: reddit-images/g1209_ct6a0g5.jpg  \r\n",
      " extracting: reddit-images/g1209_ct6bf1n.jpg  \r\n",
      " extracting: reddit-images/g1418_cj3o1h6.jpg  \r\n",
      " extracting: reddit-images/g1418_cj3om3h.jpg  \r\n",
      " extracting: reddit-images/g1418_cj3qysz.jpg  \r\n",
      " extracting: reddit-images/g1418_cj3r4gw.jpg  \r\n",
      " extracting: reddit-images/g1418_cj3z7jw.jpg  \r\n"
     ]
    }
   ],
   "source": [
    "\n",
    "!wget -nc https://www.dropbox.com/scl/fo/fcj6ojmii0gw92zg3jb2s/h\\?dl\\=1\\&rlkey\\=j3kj1ox4yn5fhonw06v0pn7r9 -O reddit-images.zip\n",
    "!unzip -o reddit-images.zip -d reddit-images"
   ]
  },
  {
   "attachments": {},
   "cell_type": "markdown",
   "id": "0d8c9917",
   "metadata": {},
   "source": [
    "### Load all images into evadb"
   ]
  },
  {
   "cell_type": "code",
   "execution_count": 3,
   "id": "3b9bca7b",
   "metadata": {
    "execution": {
     "iopub.execute_input": "2023-06-26T15:09:20.633122Z",
     "iopub.status.busy": "2023-06-26T15:09:20.632781Z",
     "iopub.status.idle": "2023-06-26T15:09:21.113159Z",
     "shell.execute_reply": "2023-06-26T15:09:21.112068Z"
    }
   },
   "outputs": [
    {
     "data": {
      "text/html": [
       "<div>\n",
       "<style scoped>\n",
       "    .dataframe tbody tr th:only-of-type {\n",
       "        vertical-align: middle;\n",
       "    }\n",
       "\n",
       "    .dataframe tbody tr th {\n",
       "        vertical-align: top;\n",
       "    }\n",
       "\n",
       "    .dataframe thead th {\n",
       "        text-align: right;\n",
       "    }\n",
       "</style>\n",
       "<table border=\"1\" class=\"dataframe\">\n",
       "  <thead>\n",
       "    <tr style=\"text-align: right;\">\n",
       "      <th></th>\n",
       "      <th>0</th>\n",
       "    </tr>\n",
       "  </thead>\n",
       "  <tbody>\n",
       "    <tr>\n",
       "      <th>0</th>\n",
       "      <td>Number of loaded IMAGE: 34</td>\n",
       "    </tr>\n",
       "  </tbody>\n",
       "</table>\n",
       "</div>"
      ],
      "text/plain": [
       "                            0\n",
       "0  Number of loaded IMAGE: 34"
      ]
     },
     "execution_count": 3,
     "metadata": {},
     "output_type": "execute_result"
    }
   ],
   "source": [
    "response = cursor.query(\"DROP TABLE IF EXISTS reddit_dataset;\").df()\n",
    "cursor.query(\n",
    "    \"LOAD IMAGE 'reddit-images/*.jpg' INTO reddit_dataset;\"\n",
    ").df()\n"
   ]
  },
  {
   "attachments": {},
   "cell_type": "markdown",
   "id": "6743684c",
   "metadata": {},
   "source": [
    "### Register a SIFT FeatureExtractor \n",
    "It uses `kornia` library to extract sift features for each image"
   ]
  },
  {
   "cell_type": "code",
   "execution_count": 4,
   "id": "49496e97",
   "metadata": {
    "execution": {
     "iopub.execute_input": "2023-06-26T15:09:21.117978Z",
     "iopub.status.busy": "2023-06-26T15:09:21.117770Z",
     "iopub.status.idle": "2023-06-26T15:09:21.277220Z",
     "shell.execute_reply": "2023-06-26T15:09:21.276412Z"
    }
   },
   "outputs": [
    {
     "data": {
      "text/html": [
       "<div>\n",
       "<style scoped>\n",
       "    .dataframe tbody tr th:only-of-type {\n",
       "        vertical-align: middle;\n",
       "    }\n",
       "\n",
       "    .dataframe tbody tr th {\n",
       "        vertical-align: top;\n",
       "    }\n",
       "\n",
       "    .dataframe thead th {\n",
       "        text-align: right;\n",
       "    }\n",
       "</style>\n",
       "<table border=\"1\" class=\"dataframe\">\n",
       "  <thead>\n",
       "    <tr style=\"text-align: right;\">\n",
       "      <th></th>\n",
       "      <th>0</th>\n",
       "    </tr>\n",
       "  </thead>\n",
       "  <tbody>\n",
       "    <tr>\n",
       "      <th>0</th>\n",
       "      <td>UDF SiftFeatureExtractor successfully added to...</td>\n",
       "    </tr>\n",
       "  </tbody>\n",
       "</table>\n",
       "</div>"
      ],
      "text/plain": [
       "                                                   0\n",
       "0  UDF SiftFeatureExtractor successfully added to..."
      ]
     },
     "execution_count": 4,
     "metadata": {},
     "output_type": "execute_result"
    }
   ],
   "source": [
    "cursor.query(\"DROP UDF IF EXISTS SiftFeatureExtractor;\").df()\n",
    "cursor.query(\"\"\"CREATE UDF IF NOT EXISTS SiftFeatureExtractor\n",
    "                    IMPL  '../evadb/udfs/sift_feature_extractor.py'\"\"\").df()"
   ]
  },
  {
   "cell_type": "code",
   "execution_count": 5,
   "id": "1101ec76",
   "metadata": {
    "execution": {
     "iopub.execute_input": "2023-06-26T15:09:21.281518Z",
     "iopub.status.busy": "2023-06-26T15:09:21.281252Z",
     "iopub.status.idle": "2023-06-26T15:09:21.285425Z",
     "shell.execute_reply": "2023-06-26T15:09:21.284565Z"
    }
   },
   "outputs": [],
   "source": [
    "# Keep track of which image gets the most votes\n",
    "from collections import Counter\n",
    "vote = Counter()"
   ]
  },
  {
   "attachments": {},
   "cell_type": "markdown",
   "id": "cc5a1e73",
   "metadata": {
    "execution": {
     "iopub.execute_input": "2023-05-10T04:14:02.011536Z",
     "iopub.status.busy": "2023-05-10T04:14:02.011425Z",
     "iopub.status.idle": "2023-05-10T04:14:02.015115Z",
     "shell.execute_reply": "2023-05-10T04:14:02.014808Z"
    }
   },
   "source": [
    "## Image-level similarity search pipeline. \n",
    "This pipeline creates one vector per image. Next, we should breakdown steps how we build the index and search similar vectors using the index."
   ]
  },
  {
   "cell_type": "code",
   "execution_count": 6,
   "id": "d85e3fa4",
   "metadata": {
    "execution": {
     "iopub.execute_input": "2023-06-26T15:09:21.288569Z",
     "iopub.status.busy": "2023-06-26T15:09:21.288246Z",
     "iopub.status.idle": "2023-06-26T15:09:24.090281Z",
     "shell.execute_reply": "2023-06-26T15:09:24.089097Z"
    }
   },
   "outputs": [
    {
     "name": "stderr",
     "output_type": "stream",
     "text": [
      "06-26-2023 11:09:21 WARNING[drop_object_executor:drop_object_executor.py:_handle_drop_index:0106] Index reddit_sift_image_index does not exist, therefore cannot be dropped.\n"
     ]
    },
    {
     "data": {
      "text/html": [
       "<div>\n",
       "<style scoped>\n",
       "    .dataframe tbody tr th:only-of-type {\n",
       "        vertical-align: middle;\n",
       "    }\n",
       "\n",
       "    .dataframe tbody tr th {\n",
       "        vertical-align: top;\n",
       "    }\n",
       "\n",
       "    .dataframe thead th {\n",
       "        text-align: right;\n",
       "    }\n",
       "</style>\n",
       "<table border=\"1\" class=\"dataframe\">\n",
       "  <thead>\n",
       "    <tr style=\"text-align: right;\">\n",
       "      <th></th>\n",
       "      <th>0</th>\n",
       "    </tr>\n",
       "  </thead>\n",
       "  <tbody>\n",
       "    <tr>\n",
       "      <th>0</th>\n",
       "      <td>Index reddit_sift_image_index successfully add...</td>\n",
       "    </tr>\n",
       "  </tbody>\n",
       "</table>\n",
       "</div>"
      ],
      "text/plain": [
       "                                                   0\n",
       "0  Index reddit_sift_image_index successfully add..."
      ]
     },
     "execution_count": 6,
     "metadata": {},
     "output_type": "execute_result"
    }
   ],
   "source": [
    "#1. Create index for the entire image\n",
    "cursor.query(\"\"\"DROP INDEX IF EXISTS reddit_sift_image_index\"\"\").df()\n",
    "cursor.query(\"\"\"CREATE INDEX reddit_sift_image_index \n",
    "                    ON reddit_dataset (SiftFeatureExtractor(data)) \n",
    "                    USING FAISS\"\"\").df()"
   ]
  },
  {
   "cell_type": "code",
   "execution_count": 7,
   "id": "f54cfe6b",
   "metadata": {
    "execution": {
     "iopub.execute_input": "2023-06-26T15:09:24.093938Z",
     "iopub.status.busy": "2023-06-26T15:09:24.093530Z",
     "iopub.status.idle": "2023-06-26T15:09:24.940879Z",
     "shell.execute_reply": "2023-06-26T15:09:24.939601Z"
    }
   },
   "outputs": [],
   "source": [
    "#2. Search similar vectors\n",
    "response = cursor.query(\"\"\"SELECT name FROM reddit_dataset ORDER BY\n",
    "                    Similarity(\n",
    "                      SiftFeatureExtractor(Open('reddit-images/g1074_d4mxztt.jpg')),\n",
    "                      SiftFeatureExtractor(data)\n",
    "                    )\n",
    "                    LIMIT 5\"\"\").df()"
   ]
  },
  {
   "cell_type": "code",
   "execution_count": 8,
   "id": "68734588",
   "metadata": {
    "execution": {
     "iopub.execute_input": "2023-06-26T15:09:24.948142Z",
     "iopub.status.busy": "2023-06-26T15:09:24.946750Z",
     "iopub.status.idle": "2023-06-26T15:09:24.952921Z",
     "shell.execute_reply": "2023-06-26T15:09:24.952365Z"
    }
   },
   "outputs": [
    {
     "name": "stdout",
     "output_type": "stream",
     "text": [
      "Counter({'reddit-images/g1074_d4mxztt.jpg': 1, 'reddit-images/g348_d7ju7dq.jpg': 1, 'reddit-images/g1209_ct6bf1n.jpg': 1, 'reddit-images/g1190_cln9xzr.jpg': 1, 'reddit-images/g1190_clna2x2.jpg': 1})\n"
     ]
    }
   ],
   "source": [
    "#3. Update votes\n",
    "for i in range(len(response)):\n",
    "    vote[response[\"reddit_dataset.name\"][i]] += 1\n",
    "print(vote)"
   ]
  },
  {
   "attachments": {},
   "cell_type": "markdown",
   "id": "a19a5d51",
   "metadata": {
    "execution": {
     "iopub.execute_input": "2023-05-10T04:14:02.901910Z",
     "iopub.status.busy": "2023-05-10T04:14:02.901809Z",
     "iopub.status.idle": "2023-05-10T04:14:02.903869Z",
     "shell.execute_reply": "2023-05-10T04:14:02.903634Z"
    }
   },
   "source": [
    "## Object-level similarity search pipeline. \n",
    "This pipeline detects objects within images and generates vectors exclusively from the cropped objects. The index is then constructed using these vectors. To showcase the versatility of `evadb`, we leverage `Qdrant` vector store specifically for building this index. This demonstrates how seamlessly you can leverage different vector stores within evadb."
   ]
  },
  {
   "attachments": {},
   "cell_type": "markdown",
   "id": "bce1b7fe",
   "metadata": {},
   "source": [
    "### 1. Extract all the object using `Yolo` from the images"
   ]
  },
  {
   "cell_type": "code",
   "execution_count": 9,
   "id": "cefc8b80",
   "metadata": {
    "execution": {
     "iopub.execute_input": "2023-06-26T15:09:24.955419Z",
     "iopub.status.busy": "2023-06-26T15:09:24.955181Z"
    }
   },
   "outputs": [],
   "source": [
    "cursor.drop_table(\"reddit_object_table\").df()\n",
    "create_index_query = \"\"\"\n",
    "    CREATE TABLE IF NOT EXISTS \n",
    "      reddit_object_table \n",
    "      AS SELECT name, data, bboxes, labels FROM reddit_dataset\n",
    "      JOIN LATERAL UNNEST(Yolo(data)) AS Obj(labels, bboxes, scores)\"\"\"\n",
    "cursor.query(create_index_query).df()"
   ]
  },
  {
   "attachments": {},
   "cell_type": "markdown",
   "id": "b356c435",
   "metadata": {},
   "source": [
    "### 2. Build an index on the feature vectors of the extracted objects"
   ]
  },
  {
   "cell_type": "code",
   "execution_count": null,
   "id": "bc0341be",
   "metadata": {
    "execution": {
     "iopub.execute_input": "2023-06-24T18:28:55.123940Z",
     "iopub.status.busy": "2023-06-24T18:28:55.123696Z",
     "iopub.status.idle": "2023-06-24T18:28:55.868128Z",
     "shell.execute_reply": "2023-06-24T18:28:55.866812Z"
    }
   },
   "outputs": [],
   "source": [
    "cursor.query(\"\"\"CREATE INDEX reddit_sift_object_index\n",
    "                    ON reddit_object_table (SiftFeatureExtractor(Crop(data, bboxes)))\n",
    "                    USING QDRANT\"\"\").df()"
   ]
  },
  {
   "cell_type": "code",
   "execution_count": null,
   "id": "17bfafc6",
   "metadata": {
    "execution": {
     "iopub.execute_input": "2023-06-17T04:37:42.255062Z",
     "iopub.status.busy": "2023-06-17T04:37:42.254545Z",
     "iopub.status.idle": "2023-06-17T04:37:49.652077Z",
     "shell.execute_reply": "2023-06-17T04:37:49.651176Z"
    }
   },
   "outputs": [],
   "source": [
    "# Create a cropped images (We are actively working on features to allow\n",
    "# us to not do this outside SQL)\n",
    "response = (\n",
    "    cursor.query(\n",
    "        \"LOAD IMAGE 'reddit-images/g1190_clna260.jpg' INTO reddit_search_image_dataset\"\n",
    "    )\n",
    "    .df()\n",
    ")\n",
    "print(response)\n",
    "response = (\n",
    "    cursor.query(\"SELECT Yolo(data).bboxes FROM reddit_search_image_dataset;\")\n",
    "    .df()\n",
    ")\n",
    "print(response)\n",
    "\n",
    "\n",
    "import cv2\n",
    "import pathlib\n",
    "\n",
    "bboxes = response[\"yolo.bboxes\"][0]\n",
    "\n",
    "img = cv2.imread(\"reddit-images/g1190_clna260.jpg\")\n",
    "pathlib.Path(\"reddit-images/search-object/\").mkdir(parents=True, exist_ok=True)\n",
    "for i, bbox in enumerate(bboxes):\n",
    "    xmin, ymin, xmax, ymax = bbox\n",
    "    xmin, ymin, xmax, ymax = int(xmin), int(ymin), int(xmax), int(ymax)\n",
    "    cropped_img = img[ymin:ymax, xmin:xmax]\n",
    "    cv2.imwrite(f\"reddit-images/search-object/search-{i}.jpg\", cropped_img)\n"
   ]
  },
  {
   "attachments": {},
   "cell_type": "markdown",
   "id": "40e563b2",
   "metadata": {},
   "source": [
    "### 3. Retrieve using object-level similarity search"
   ]
  },
  {
   "cell_type": "code",
   "execution_count": null,
   "id": "f9f29c9c",
   "metadata": {
    "execution": {
     "iopub.execute_input": "2023-06-17T04:37:49.656765Z",
     "iopub.status.busy": "2023-06-17T04:37:49.656481Z",
     "iopub.status.idle": "2023-06-17T04:38:00.000438Z",
     "shell.execute_reply": "2023-06-17T04:37:59.999252Z"
    }
   },
   "outputs": [],
   "source": [
    "#4. \n",
    "import os\n",
    "\n",
    "for path in os.listdir(\"reddit-images/search-object/\"):\n",
    "    path = \"reddit-images/search-object/\" + path\n",
    "    query = f\"\"\"SELECT name FROM reddit_object_table ORDER BY\n",
    "                        Similarity(\n",
    "                          SiftFeatureExtractor(Open('{path}')),\n",
    "                          SiftFeatureExtractor(data)\n",
    "                        )\n",
    "                        LIMIT 1\"\"\"\n",
    "    response = cursor.query(query).df()\n",
    "    for i in range(len(response)):\n",
    "        vote[response[\"reddit_object_table.name\"][i]] += 0.5\n",
    "\n",
    "    print(response)"
   ]
  },
  {
   "attachments": {},
   "cell_type": "markdown",
   "id": "096d4970",
   "metadata": {},
   "source": [
    "## Combine the scores from image level and object level similarity to show similar images"
   ]
  },
  {
   "cell_type": "code",
   "execution_count": null,
   "id": "1cc67393",
   "metadata": {
    "execution": {
     "iopub.execute_input": "2023-06-17T04:38:00.005290Z",
     "iopub.status.busy": "2023-06-17T04:38:00.005031Z",
     "iopub.status.idle": "2023-06-17T04:38:01.633443Z",
     "shell.execute_reply": "2023-06-17T04:38:01.632387Z"
    }
   },
   "outputs": [],
   "source": [
    "# !pip install matplotlib\n",
    "import matplotlib.pyplot as plt\n",
    "\n",
    "# Display top images\n",
    "vote_list = list(reversed(sorted([(path, count) for path, count in vote.items()], key=lambda x: x[1])))\n",
    "img_list = [path for path, _ in vote_list]\n",
    "\n",
    "fig, ax = plt.subplots(nrows=1, ncols=6, figsize=[18,10])\n",
    "ax[0].imshow(cv2.imread(\"reddit-images/g1190_clna260.jpg\"))\n",
    "ax[0].set_title(\"Search\")\n",
    "\n",
    "for i in range(5):\n",
    "    axi = ax[i + 1]\n",
    "    img = cv2.imread(img_list[i])\n",
    "    axi.imshow(img)\n",
    "    axi.set_title(f\"Top-{i + 1}\")\n",
    "\n",
    "plt.show()"
   ]
  }
 ],
 "metadata": {
  "kernelspec": {
   "display_name": "Python 3 (ipykernel)",
   "language": "python",
   "name": "python3"
  },
  "language_info": {
   "codemirror_mode": {
    "name": "ipython",
    "version": 3
   },
   "file_extension": ".py",
   "mimetype": "text/x-python",
   "name": "python",
   "nbconvert_exporter": "python",
   "pygments_lexer": "ipython3",
   "version": "3.10.11"
  }
 },
 "nbformat": 4,
 "nbformat_minor": 5
}
