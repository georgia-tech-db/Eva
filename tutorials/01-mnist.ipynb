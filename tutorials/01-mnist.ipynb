{
 "cells": [
  {
   "attachments": {},
   "cell_type": "markdown",
   "id": "258b9f89",
   "metadata": {},
   "source": [
    "# MNIST TUTORIAL"
   ]
  },
  {
   "attachments": {},
   "cell_type": "markdown",
   "id": "420f41ca",
   "metadata": {},
   "source": [
    "<table align=\"left\">\n",
    "  <td>\n",
    "    <a target=\"_blank\" href=\"https://colab.research.google.com/github/georgia-tech-db/eva/blob/master/tutorials/01-mnist.ipynb\"><img src=\"https://www.tensorflow.org/images/colab_logo_32px.png\" /> Run on Google Colab</a>\n",
    "  </td>\n",
    "  <td>\n",
    "    <a target=\"_blank\" href=\"https://github.com/georgia-tech-db/eva/blob/master/tutorials/01-mnist.ipynb\"><img src=\"https://www.tensorflow.org/images/GitHub-Mark-32px.png\" /> View source on GitHub</a>\n",
    "  </td>\n",
    "  <td>\n",
    "    <a target=\"_blank\" href=\"https://raw.githubusercontent.com/georgia-tech-db/eva/master/tutorials/01-mnist.ipynb\"><img src=\"https://www.tensorflow.org/images/download_logo_32px.png\" /> Download notebook</a>\n",
    "  </td>\n",
    "</table><br><br>"
   ]
  },
  {
   "attachments": {},
   "cell_type": "markdown",
   "id": "a0dcaceb",
   "metadata": {},
   "source": [
    "### Connect to EvaDB"
   ]
  },
  {
   "cell_type": "code",
   "execution_count": 1,
   "id": "b6b7f61d",
   "metadata": {
    "execution": {
     "iopub.execute_input": "2023-06-24T18:09:44.463511Z",
     "iopub.status.busy": "2023-06-24T18:09:44.463097Z",
     "iopub.status.idle": "2023-06-24T18:09:54.867623Z",
     "shell.execute_reply": "2023-06-24T18:09:54.866800Z"
    }
   },
   "outputs": [
    {
     "name": "stdout",
     "output_type": "stream",
     "text": [
      "Note: you may need to restart the kernel to use updated packages.\n"
     ]
    }
   ],
   "source": [
    "%pip install --quiet \"evadb[vision,notebook]\"\n",
    "import evadb\n",
    "cursor = evadb.connect().cursor()"
   ]
  },
  {
   "attachments": {},
   "cell_type": "markdown",
   "id": "fd554c08",
   "metadata": {},
   "source": [
    "### Download the video and load it into EvaDB"
   ]
  },
  {
   "cell_type": "code",
   "execution_count": 2,
   "id": "c2fc6c0f",
   "metadata": {
    "execution": {
     "iopub.execute_input": "2023-06-24T18:09:54.872100Z",
     "iopub.status.busy": "2023-06-24T18:09:54.871795Z",
     "iopub.status.idle": "2023-06-24T18:09:55.721359Z",
     "shell.execute_reply": "2023-06-24T18:09:55.720631Z"
    }
   },
   "outputs": [
    {
     "name": "stdout",
     "output_type": "stream",
     "text": [
      "File ‘mnist.mp4’ already there; not retrieving.\r\n",
      "\r\n"
     ]
    },
    {
     "data": {
      "text/html": [
       "<div>\n",
       "<style scoped>\n",
       "    .dataframe tbody tr th:only-of-type {\n",
       "        vertical-align: middle;\n",
       "    }\n",
       "\n",
       "    .dataframe tbody tr th {\n",
       "        vertical-align: top;\n",
       "    }\n",
       "\n",
       "    .dataframe thead th {\n",
       "        text-align: right;\n",
       "    }\n",
       "</style>\n",
       "<table border=\"1\" class=\"dataframe\">\n",
       "  <thead>\n",
       "    <tr style=\"text-align: right;\">\n",
       "      <th></th>\n",
       "      <th>0</th>\n",
       "    </tr>\n",
       "  </thead>\n",
       "  <tbody>\n",
       "    <tr>\n",
       "      <th>0</th>\n",
       "      <td>Number of loaded VIDEO: 1</td>\n",
       "    </tr>\n",
       "  </tbody>\n",
       "</table>\n",
       "</div>"
      ],
      "text/plain": [
       "                           0\n",
       "0  Number of loaded VIDEO: 1"
      ]
     },
     "execution_count": 2,
     "metadata": {},
     "output_type": "execute_result"
    }
   ],
   "source": [
    "# Getting MNIST as a video\n",
    "!wget -nc https://www.dropbox.com/s/yxljxz6zxoqu54v/mnist.mp4\n",
    "\n",
    "# Load the video into EvaDB\n",
    "cursor.query(\"DROP TABLE IF EXISTS MNISTVid\").df()\n",
    "cursor.load(\"mnist.mp4\", \"MNISTVid\", format=\"video\").df()"
   ]
  },
  {
   "attachments": {},
   "cell_type": "markdown",
   "id": "7bbd789e",
   "metadata": {},
   "source": [
    "### Run the Image Classification Function over the video"
   ]
  },
  {
   "cell_type": "code",
   "execution_count": 3,
   "id": "91bdcaca",
   "metadata": {
    "execution": {
     "iopub.execute_input": "2023-06-24T18:09:55.726133Z",
     "iopub.status.busy": "2023-06-24T18:09:55.725903Z",
     "iopub.status.idle": "2023-06-24T18:09:57.774678Z",
     "shell.execute_reply": "2023-06-24T18:09:57.773742Z"
    }
   },
   "outputs": [],
   "source": [
    "# Connecting to the table with the loaded video\n",
    "query = cursor.table(\"MNISTVid\")\n",
    "\n",
    "# Here, id refers to the frame id\n",
    "# Each frame in the loaded MNIST video contains a digit\n",
    "query = query.filter(\"id = 30 OR id = 50 OR id = 70 OR id = 0 OR id = 140\")\n",
    "\n",
    "# We are retrieving the frame \"data\" and \n",
    "# the output of the Image Classification function on the data \n",
    "# (\"MnistImageClassifier(data).label\")\n",
    "query = query.select(\"data, MnistImageClassifier(data).label\")\n",
    "\n",
    "response = query.df()"
   ]
  },
  {
   "attachments": {},
   "cell_type": "markdown",
   "id": "d81ed233",
   "metadata": {},
   "source": [
    "### Visualize output of query on the video"
   ]
  },
  {
   "cell_type": "code",
   "execution_count": 4,
   "id": "d8f4f65d",
   "metadata": {
    "execution": {
     "iopub.execute_input": "2023-06-24T18:09:57.779609Z",
     "iopub.status.busy": "2023-06-24T18:09:57.779339Z",
     "iopub.status.idle": "2023-06-24T18:09:58.361687Z",
     "shell.execute_reply": "2023-06-24T18:09:58.360764Z"
    }
   },
   "outputs": [
    {
     "data": {
      "image/png": "[encoded data removed]",
      "text/plain": [
       "<Figure size 600x800 with 5 Axes>"
      ]
     },
     "metadata": {},
     "output_type": "display_data"
    }
   ],
   "source": [
    "# !pip install matplotlib\n",
    "import matplotlib.pyplot as plt\n",
    "import numpy as np\n",
    "\n",
    "# create figure (fig), and array of axes (ax)\n",
    "fig, ax = plt.subplots(nrows=1, ncols=5, figsize=[6,8])\n",
    "\n",
    "for axi in ax.flat:\n",
    "    idx = np.random.randint(len(response))\n",
    "    img = response['mnistvid.data'].iloc[idx]\n",
    "    label = response['mnistimageclassifier.label'].iloc[idx]\n",
    "    axi.imshow(img)\n",
    "    \n",
    "    axi.set_title(f'label: {label}')\n",
    "\n",
    "plt.show()"
   ]
  },
  {
   "attachments": {},
   "cell_type": "markdown",
   "id": "405b1730",
   "metadata": {},
   "source": [
    "### Drop the function if needed"
   ]
  },
  {
   "cell_type": "code",
   "execution_count": 5,
   "id": "829ed2da",
   "metadata": {
    "execution": {
     "iopub.execute_input": "2023-06-24T18:09:58.366175Z",
     "iopub.status.busy": "2023-06-24T18:09:58.365933Z",
     "iopub.status.idle": "2023-06-24T18:09:58.399594Z",
     "shell.execute_reply": "2023-06-24T18:09:58.398999Z"
    }
   },
   "outputs": [
    {
     "data": {
      "text/html": [
       "<div>\n",
       "<style scoped>\n",
       "    .dataframe tbody tr th:only-of-type {\n",
       "        vertical-align: middle;\n",
       "    }\n",
       "\n",
       "    .dataframe tbody tr th {\n",
       "        vertical-align: top;\n",
       "    }\n",
       "\n",
       "    .dataframe thead th {\n",
       "        text-align: right;\n",
       "    }\n",
       "</style>\n",
       "<table border=\"1\" class=\"dataframe\">\n",
       "  <thead>\n",
       "    <tr style=\"text-align: right;\">\n",
       "      <th></th>\n",
       "      <th>0</th>\n",
       "    </tr>\n",
       "  </thead>\n",
       "  <tbody>\n",
       "    <tr>\n",
       "      <th>0</th>\n",
       "      <td>UDF MnistImageClassifier successfully dropped</td>\n",
       "    </tr>\n",
       "  </tbody>\n",
       "</table>\n",
       "</div>"
      ],
      "text/plain": [
       "                                               0\n",
       "0  UDF MnistImageClassifier successfully dropped"
      ]
     },
     "execution_count": 5,
     "metadata": {},
     "output_type": "execute_result"
    }
   ],
   "source": [
    "cursor.drop_udf(\"MnistImageClassifier\").df()"
   ]
  }
 ],
 "metadata": {
  "kernelspec": {
   "display_name": "Python 3 (ipykernel)",
   "language": "python",
   "name": "python3"
  },
  "language_info": {
   "codemirror_mode": {
    "name": "ipython",
    "version": 3
   },
   "file_extension": ".py",
   "mimetype": "text/x-python",
   "name": "python",
   "nbconvert_exporter": "python",
   "pygments_lexer": "ipython3",
   "version": "3.10.11"
  },
  "varInspector": {
   "cols": {
    "lenName": 16,
    "lenType": 16,
    "lenVar": 40
   },
   "kernels_config": {
    "python": {
     "delete_cmd_postfix": "",
     "delete_cmd_prefix": "del ",
     "library": "var_list.py",
     "varRefreshCmd": "print(var_dic_list())"
    },
    "r": {
     "delete_cmd_postfix": ") ",
     "delete_cmd_prefix": "rm(",
     "library": "var_list.r",
     "varRefreshCmd": "cat(var_dic_list()) "
    }
   },
   "types_to_exclude": [
    "module",
    "function",
    "builtin_function_or_method",
    "instance",
    "_Feature"
   ],
   "window_display": false
  },
  "vscode": {
   "interpreter": {
    "hash": "292337e8e9747092192f4a1ef18b0951099c869b0f06eb7241460e1768f24923"
   }
  }
 },
 "nbformat": 4,
 "nbformat_minor": 5
}
