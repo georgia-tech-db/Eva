{
 "cells": [
  {
   "attachments": {},
   "cell_type": "markdown",
   "id": "9aa3c1b1-1587-45de-baaf-e0ccec1ddd8f",
   "metadata": {},
   "source": [
    "# LOADING META-DATA IN CSV FILE"
   ]
  },
  {
   "attachments": {},
   "cell_type": "markdown",
   "id": "573bbbff-e4e9-4a5e-a43f-8feb51d3124f",
   "metadata": {},
   "source": [
    "<table align=\"left\">\n",
    "  <td>\n",
    "    <a target=\"_blank\" href=\"https://colab.research.google.com/github/georgia-tech-db/eva/blob/master/tutorials/05-loading-structured-data.ipynb\"><img src=\"https://www.tensorflow.org/images/colab_logo_32px.png\" /> Run on Google Colab</a>\n",
    "  </td>\n",
    "  <td>\n",
    "    <a target=\"_blank\" href=\"https://github.com/georgia-tech-db/eva/blob/master/tutorials/05-loading-structured-data.ipynb\"><img src=\"https://www.tensorflow.org/images/GitHub-Mark-32px.png\" /> View source on GitHub</a>\n",
    "  </td>\n",
    "  <td>\n",
    "    <a target=\"_blank\" href=\"https://raw.githubusercontent.com/georgia-tech-db/eva/master/tutorials/05-loading-structured-data.ipynb\"><img src=\"https://www.tensorflow.org/images/download_logo_32px.png\" /> Download notebook</a>\n",
    "  </td>\n",
    "</table>"
   ]
  },
  {
   "cell_type": "markdown",
   "id": "27d7ebfa-c0b6-4a15-bd17-59a4e1cb7c77",
   "metadata": {},
   "source": [
    "### Start EVA Server\n",
    "We are reusing the start server notebook for launching the EVA server"
   ]
  },
  {
   "cell_type": "code",
   "execution_count": 1,
   "id": "c758b60b-e75e-4128-805d-46a210638daf",
   "metadata": {
    "execution": {
     "iopub.execute_input": "2023-04-30T14:33:40.921842Z",
     "iopub.status.busy": "2023-04-30T14:33:40.921211Z",
     "iopub.status.idle": "2023-04-30T14:33:58.107594Z",
     "shell.execute_reply": "2023-04-30T14:33:58.106179Z"
    }
   },
   "outputs": [
    {
     "name": "stdout",
     "output_type": "stream",
     "text": [
      "File '00-start-eva-server.ipynb' already there; not retrieving.\r\n",
      "\r\n"
     ]
    },
    {
     "name": "stdout",
     "output_type": "stream",
     "text": [
      "Note: you may need to restart the kernel to use updated packages.\n"
     ]
    },
    {
     "name": "stdout",
     "output_type": "stream",
     "text": [
      "nohup eva_server > eva.log 2>&1 &\n"
     ]
    },
    {
     "name": "stdout",
     "output_type": "stream",
     "text": [
      "Note: you may need to restart the kernel to use updated packages.\n"
     ]
    }
   ],
   "source": [
    "!wget -nc \"https://raw.githubusercontent.com/georgia-tech-db/eva/master/tutorials/00-start-eva-server.ipynb\"\n",
    "%run 00-start-eva-server.ipynb\n",
    "cursor = connect_to_server()"
   ]
  },
  {
   "cell_type": "code",
   "execution_count": 2,
   "id": "c2c02070-1635-4b09-9916-c7ae828eeda2",
   "metadata": {
    "execution": {
     "iopub.execute_input": "2023-04-30T14:33:58.112864Z",
     "iopub.status.busy": "2023-04-30T14:33:58.112328Z",
     "iopub.status.idle": "2023-04-30T14:33:58.119423Z",
     "shell.execute_reply": "2023-04-30T14:33:58.118288Z"
    }
   },
   "outputs": [],
   "source": [
    "import sys\n",
    "sys.path.insert(0,'..')\n",
    "from eva.server.db_api import connect\n",
    "\n",
    "import nest_asyncio\n",
    "nest_asyncio.apply()\n",
    "connection = connect(host = '0.0.0.0', port = 5432) # hostname, port of the server where EVADB is running\n",
    "\n",
    "cursor = connection.cursor()"
   ]
  },
  {
   "attachments": {},
   "cell_type": "markdown",
   "id": "ca54c9e5-6ec9-4aea-b421-ad1fa3ddcdd1",
   "metadata": {},
   "source": [
    "### Video Files\n",
    " - Download a subset of the Berkeley Deepdrive dataset from Dropbox"
   ]
  },
  {
   "cell_type": "code",
   "execution_count": 3,
   "id": "62def7ce-3f83-4fa0-b9fd-2e553b3919ba",
   "metadata": {
    "execution": {
     "iopub.execute_input": "2023-04-30T14:33:58.123166Z",
     "iopub.status.busy": "2023-04-30T14:33:58.122778Z",
     "iopub.status.idle": "2023-04-30T14:34:02.654647Z",
     "shell.execute_reply": "2023-04-30T14:34:02.652705Z"
    }
   },
   "outputs": [
    {
     "name": "stdout",
     "output_type": "stream",
     "text": [
      "--2023-04-30 10:33:58--  https://www.dropbox.com/s/kg1q69ijbhjfecw/bddtest.zip\r\n",
      "Resolving www.dropbox.com (www.dropbox.com)... 162.125.9.18, 2620:100:601f:18::a27d:912\r\n",
      "Connecting to www.dropbox.com (www.dropbox.com)|162.125.9.18|:443... connected.\r\n",
      "HTTP request sent, awaiting response... "
     ]
    },
    {
     "name": "stdout",
     "output_type": "stream",
     "text": [
      "302 Found\r\n",
      "Location: /s/raw/kg1q69ijbhjfecw/bddtest.zip [following]\r\n",
      "--2023-04-30 10:33:58--  https://www.dropbox.com/s/raw/kg1q69ijbhjfecw/bddtest.zip\r\n",
      "Reusing existing connection to www.dropbox.com:443.\r\n",
      "HTTP request sent, awaiting response... "
     ]
    },
    {
     "name": "stdout",
     "output_type": "stream",
     "text": [
      "302 Found\r\n",
      "Location: https://uc213815cfc2a467ae01520df8cb.dl.dropboxusercontent.com/cd/0/inline/B7KW8Cq6sQzqt4VZVA28HKdIlXBPclZNRVabe3OYTLHesBrbdwE_jxFaz3HoN71BdXXvRsxwq0I_34m0W-qq5ssQ_KtjgOsUX7QhOXUrPYuCWFXbqjR83OZcwUH7u9S8eMpkV4hHCDJfityElvUVX-wnCG_v9vaAONZA30h24nKj1w/file# [following]\r\n",
      "--2023-04-30 10:33:59--  https://uc213815cfc2a467ae01520df8cb.dl.dropboxusercontent.com/cd/0/inline/B7KW8Cq6sQzqt4VZVA28HKdIlXBPclZNRVabe3OYTLHesBrbdwE_jxFaz3HoN71BdXXvRsxwq0I_34m0W-qq5ssQ_KtjgOsUX7QhOXUrPYuCWFXbqjR83OZcwUH7u9S8eMpkV4hHCDJfityElvUVX-wnCG_v9vaAONZA30h24nKj1w/file\r\n",
      "Resolving uc213815cfc2a467ae01520df8cb.dl.dropboxusercontent.com (uc213815cfc2a467ae01520df8cb.dl.dropboxusercontent.com)... "
     ]
    },
    {
     "name": "stdout",
     "output_type": "stream",
     "text": [
      "162.125.9.15, 2620:100:601f:15::a27d:90f\r\n",
      "Connecting to uc213815cfc2a467ae01520df8cb.dl.dropboxusercontent.com (uc213815cfc2a467ae01520df8cb.dl.dropboxusercontent.com)|162.125.9.15|:443... connected.\r\n",
      "HTTP request sent, awaiting response... "
     ]
    },
    {
     "name": "stdout",
     "output_type": "stream",
     "text": [
      "302 Found\r\n",
      "Location: /cd/0/inline2/B7KHEXpaGoXeUzEg6e_onyJvMMrer5smSFKol1LDx9O4eJSQBFnpwjYBeCv95HjxPoT-G_pDOE-A7QMUEXXxfjSRmGMWuNeT6mAtvzGQhU4iTknLtatUODWO50xtRpVU84_I5neGv1CuKcc4BugDSvT7-tmXUkLyh0BLlTr9MMqDYQH7yPj8dioq9hCHMXmu6LLWr9p07bJEqjAqEmWez2FX1Jq32e-lVsMLkxGv7E4ig_ZTH8P7a2bBW5_BE4JD6K0JFjz1GCRsbGlvLg8P4jsFX1uxM2o8UKyEvXHDoCf7Vis3I1j-WrzMcHdV-nByTzm3kVNPMkebcMTbYKcfD-F1k8Fteg_eeq0luM9ysdmp5TUtWEX2BU0UQGml7KEdDgOUWxn0qbJnPVlLscWvOhnxGWLy6NxNw-cYJY8I3xbaPw/file [following]\r\n",
      "--2023-04-30 10:34:00--  https://uc213815cfc2a467ae01520df8cb.dl.dropboxusercontent.com/cd/0/inline2/B7KHEXpaGoXeUzEg6e_onyJvMMrer5smSFKol1LDx9O4eJSQBFnpwjYBeCv95HjxPoT-G_pDOE-A7QMUEXXxfjSRmGMWuNeT6mAtvzGQhU4iTknLtatUODWO50xtRpVU84_I5neGv1CuKcc4BugDSvT7-tmXUkLyh0BLlTr9MMqDYQH7yPj8dioq9hCHMXmu6LLWr9p07bJEqjAqEmWez2FX1Jq32e-lVsMLkxGv7E4ig_ZTH8P7a2bBW5_BE4JD6K0JFjz1GCRsbGlvLg8P4jsFX1uxM2o8UKyEvXHDoCf7Vis3I1j-WrzMcHdV-nByTzm3kVNPMkebcMTbYKcfD-F1k8Fteg_eeq0luM9ysdmp5TUtWEX2BU0UQGml7KEdDgOUWxn0qbJnPVlLscWvOhnxGWLy6NxNw-cYJY8I3xbaPw/file\r\n",
      "Reusing existing connection to uc213815cfc2a467ae01520df8cb.dl.dropboxusercontent.com:443.\r\n",
      "HTTP request sent, awaiting response... "
     ]
    },
    {
     "name": "stdout",
     "output_type": "stream",
     "text": [
      "200 OK\r\n",
      "Length: 165016842 (157M) [application/zip]\r\n",
      "Saving to: 'bddtest.zip'\r\n",
      "\r\n",
      "\r",
      "bddtest.zip           0%[                    ]       0  --.-KB/s               "
     ]
    },
    {
     "name": "stdout",
     "output_type": "stream",
     "text": [
      "\r",
      "bddtest.zip          15%[==>                 ]  23.88M  75.1MB/s               "
     ]
    },
    {
     "name": "stdout",
     "output_type": "stream",
     "text": [
      "\r",
      "bddtest.zip          41%[=======>            ]  66.01M   127MB/s               "
     ]
    },
    {
     "name": "stdout",
     "output_type": "stream",
     "text": [
      "\r",
      "bddtest.zip          61%[===========>        ]  96.84M   135MB/s               "
     ]
    },
    {
     "name": "stdout",
     "output_type": "stream",
     "text": [
      "\r",
      "bddtest.zip          88%[================>   ] 139.51M   152MB/s               "
     ]
    },
    {
     "name": "stdout",
     "output_type": "stream",
     "text": [
      "\r",
      "bddtest.zip         100%[===================>] 157.37M   153MB/s    in 1.0s    \r\n",
      "\r\n",
      "2023-04-30 10:34:01 (153 MB/s) - 'bddtest.zip' saved [165016842/165016842]\r\n",
      "\r\n"
     ]
    },
    {
     "name": "stdout",
     "output_type": "stream",
     "text": [
      "Archive:  bddtest.zip\r\n",
      "   creating: bddtest/\r\n",
      "   creating: bddtest/videos/\r\n",
      "  inflating: bddtest/videos/bddtest_00a2e3ca62992459.mp4  "
     ]
    },
    {
     "name": "stdout",
     "output_type": "stream",
     "text": [
      "\r\n",
      "  inflating: bddtest/videos/bddtest_00a0f008a315437f.mp4  "
     ]
    },
    {
     "name": "stdout",
     "output_type": "stream",
     "text": [
      "\r\n",
      "  inflating: bddtest/videos/bddtest_00a2e3ca5c856cde.mp4  "
     ]
    },
    {
     "name": "stdout",
     "output_type": "stream",
     "text": [
      "\r\n",
      "  inflating: bddtest/videos/bddtest_00a04f65af2ab984.mp4  "
     ]
    },
    {
     "name": "stdout",
     "output_type": "stream",
     "text": [
      "\r\n",
      "  inflating: bddtest/videos/bddtest_00a9cd6bb39be004.mp4  "
     ]
    },
    {
     "name": "stdout",
     "output_type": "stream",
     "text": [
      "\r\n",
      "  inflating: bddtest/videos/bddtest_00a0f0083c67908e.mp4  "
     ]
    },
    {
     "name": "stdout",
     "output_type": "stream",
     "text": [
      "\r\n",
      "  inflating: bddtest/videos/bddtest_00a2f5b6d4217a96.mp4  "
     ]
    },
    {
     "name": "stdout",
     "output_type": "stream",
     "text": [
      "\r\n",
      "  inflating: bddtest/videos/bddtest_00a04f658c891f94.mp4  "
     ]
    },
    {
     "name": "stdout",
     "output_type": "stream",
     "text": [
      "\r\n",
      "  inflating: bddtest/videos/bddtest_00a820ef2b98dcf5.mp4  "
     ]
    },
    {
     "name": "stdout",
     "output_type": "stream",
     "text": [
      "\r\n",
      "  inflating: bddtest/videos/bddtest_00a395fed60c0b47.mp4  "
     ]
    },
    {
     "name": "stdout",
     "output_type": "stream",
     "text": [
      "\r\n",
      "   creating: bddtest/info/\r\n",
      "  inflating: bddtest/info/bddtest_00a04f65af2ab984.csv  \r\n",
      "  inflating: bddtest/info/bddtest_00a9cd6bb39be004.csv  \r\n",
      "  inflating: bddtest/info/bddtest_00a2e3ca5c856cde.csv  \r\n",
      "  inflating: bddtest/info/bddtest_00a04f658c891f94.csv  \r\n",
      "  inflating: bddtest/info/bddtest_00a2e3ca62992459.csv  \r\n",
      "  inflating: bddtest/info/bddtest_00a0f008a315437f.csv  "
     ]
    },
    {
     "name": "stdout",
     "output_type": "stream",
     "text": [
      "\r\n",
      "  inflating: bddtest/info/bddtest_00a0f0083c67908e.csv  \r\n",
      "  inflating: bddtest/info/bddtest_00a820ef2b98dcf5.csv  \r\n",
      "  inflating: bddtest/info/bddtest_00a2f5b6d4217a96.csv  \r\n",
      "  inflating: bddtest/info/bddtest_00a395fed60c0b47.csv  \r\n"
     ]
    }
   ],
   "source": [
    "# sample dataset of 2 videos\n",
    "!wget -nc https://www.dropbox.com/s/kg1q69ijbhjfecw/bddtest.zip\n",
    "\n",
    "# unzip\n",
    "!unzip -n bddtest.zip"
   ]
  },
  {
   "attachments": {},
   "cell_type": "markdown",
   "id": "463ce1f8-8333-4e11-ab0a-dda6d9bb067b",
   "metadata": {},
   "source": [
    "## Load 2 BDD videos"
   ]
  },
  {
   "cell_type": "code",
   "execution_count": 4,
   "id": "95b1e0a4-d9f5-40f2-830f-69c8c9f21172",
   "metadata": {
    "execution": {
     "iopub.execute_input": "2023-04-30T14:34:02.660624Z",
     "iopub.status.busy": "2023-04-30T14:34:02.660282Z",
     "iopub.status.idle": "2023-04-30T14:34:02.866408Z",
     "shell.execute_reply": "2023-04-30T14:34:02.864715Z"
    },
    "tags": []
   },
   "outputs": [
    {
     "name": "stdout",
     "output_type": "stream",
     "text": [
      "@status: ResponseStatus.SUCCESS\n",
      "@batch: \n",
      "                            0\n",
      "0  Number of loaded VIDEO: 1\n",
      "@query_time: 0.10894125513732433\n",
      "@status: ResponseStatus.SUCCESS\n",
      "@batch: \n",
      "                            0\n",
      "0  Number of loaded VIDEO: 1\n",
      "@query_time: 0.08081590756773949\n"
     ]
    }
   ],
   "source": [
    "cursor.execute('LOAD VIDEO \"./bddtest/videos/bddtest_00a2e3ca5c856cde.mp4\" INTO bddtest_1;')\n",
    "response = cursor.fetch_all()\n",
    "print(response)\n",
    "\n",
    "cursor.execute('LOAD VIDEO \"./bddtest/videos/bddtest_00a395fed60c0b47.mp4\" INTO bddtest_2;')\n",
    "response = cursor.fetch_all()\n",
    "print(response)"
   ]
  },
  {
   "attachments": {},
   "cell_type": "markdown",
   "id": "d7b7c9d5-2eae-4d57-a3f1-78792fca0b83",
   "metadata": {
    "tags": []
   },
   "source": [
    "## Create a BDD Meta-data Table"
   ]
  },
  {
   "cell_type": "code",
   "execution_count": 5,
   "id": "8897b9bb-0993-4eb0-959d-6484a651a90f",
   "metadata": {
    "execution": {
     "iopub.execute_input": "2023-04-30T14:34:02.872075Z",
     "iopub.status.busy": "2023-04-30T14:34:02.871583Z",
     "iopub.status.idle": "2023-04-30T14:34:02.942418Z",
     "shell.execute_reply": "2023-04-30T14:34:02.940993Z"
    },
    "tags": []
   },
   "outputs": [
    {
     "name": "stdout",
     "output_type": "stream",
     "text": [
      "@status: ResponseStatus.SUCCESS\n",
      "@batch: \n",
      " Empty DataFrame\n",
      "Columns: []\n",
      "Index: []\n",
      "@query_time: 0.061140066012740135\n"
     ]
    }
   ],
   "source": [
    "create_table_query = f\"\"\" \n",
    "\n",
    "    CREATE TABLE IF NOT EXISTS bddtestmeta(\n",
    "        id INTEGER UNIQUE,\n",
    "        frame_id INTEGER,\n",
    "        video_id INTEGER,\n",
    "        dataset_name TEXT(30),\n",
    "        label TEXT(30),\n",
    "        bbox NDARRAY FLOAT32(4),\n",
    "        object_id INTEGER\n",
    "    );\n",
    "    \n",
    "    \"\"\"\n",
    "\n",
    "cursor.execute(create_table_query)\n",
    "response = cursor.fetch_all()\n",
    "print(response)"
   ]
  },
  {
   "attachments": {},
   "cell_type": "markdown",
   "id": "574f8c04-c934-4654-8558-576e34e8735d",
   "metadata": {},
   "source": [
    "## Load the 2 corresponding CSV files associated with the 2 previously loaded videos"
   ]
  },
  {
   "cell_type": "code",
   "execution_count": 6,
   "id": "cf8415ac-f9e0-4bee-b2aa-b4e104b10a4b",
   "metadata": {
    "execution": {
     "iopub.execute_input": "2023-04-30T14:34:02.946734Z",
     "iopub.status.busy": "2023-04-30T14:34:02.946449Z",
     "iopub.status.idle": "2023-04-30T14:34:03.967233Z",
     "shell.execute_reply": "2023-04-30T14:34:03.965806Z"
    }
   },
   "outputs": [
    {
     "name": "stdout",
     "output_type": "stream",
     "text": [
      "@status: ResponseStatus.SUCCESS\n",
      "@batch: \n",
      "                                          CSV  Number of loaded frames\n",
      "0  bddtest/info/bddtest_00a2e3ca5c856cde.csv                     3401\n",
      "@query_time: 0.48897757567465305\n"
     ]
    },
    {
     "name": "stdout",
     "output_type": "stream",
     "text": [
      "@status: ResponseStatus.SUCCESS\n",
      "@batch: \n",
      "                                          CSV  Number of loaded frames\n",
      "0  bddtest/info/bddtest_00a395fed60c0b47.csv                     4355\n",
      "@query_time: 0.5176386311650276\n"
     ]
    }
   ],
   "source": [
    "cursor.execute(\"LOAD CSV 'bddtest/info/bddtest_00a2e3ca5c856cde.csv' INTO bddtestmeta;\")\n",
    "response = cursor.fetch_all()\n",
    "print(response)\n",
    "\n",
    "cursor.execute(\"LOAD CSV 'bddtest/info/bddtest_00a395fed60c0b47.csv' INTO bddtestmeta;\")\n",
    "response = cursor.fetch_all()\n",
    "print(response)"
   ]
  },
  {
   "attachments": {},
   "cell_type": "markdown",
   "id": "8ace1640-fb0c-4e70-a595-f7e9befdf757",
   "metadata": {},
   "source": [
    "## Run a Query over the Video dataset\n"
   ]
  },
  {
   "cell_type": "code",
   "execution_count": 7,
   "id": "69e378d4-4d30-47cf-84c8-8fe56afe517e",
   "metadata": {
    "execution": {
     "iopub.execute_input": "2023-04-30T14:34:03.971839Z",
     "iopub.status.busy": "2023-04-30T14:34:03.971574Z",
     "iopub.status.idle": "2023-04-30T14:34:07.615586Z",
     "shell.execute_reply": "2023-04-30T14:34:07.614373Z"
    }
   },
   "outputs": [
    {
     "name": "stdout",
     "output_type": "stream",
     "text": [
      "@status: ResponseStatus.SUCCESS\n",
      "@batch: \n",
      "    bddtest_1.id   \n",
      "0             0  \\\n",
      "1             1   \n",
      "2             2   \n",
      "\n",
      "                                                                         fastrcnnobjectdetector.labels   \n",
      "0  [stop sign, car, stop sign, car, car, car, car, car, car, car, car, stop sign, car, car, car, ca...  \\\n",
      "1  [stop sign, car, car, stop sign, car, car, car, car, car, car, car, car, stop sign, stop sign, c...   \n",
      "2   [stop sign, car, car, stop sign, car, car, car, car, car, car, car, stop sign, car, car, car, car]   \n",
      "\n",
      "                                                                         fastrcnnobjectdetector.bboxes   \n",
      "0  [[343.09747 195.47418 405.7211  258.95984], [675.4714  326.11798 751.1334  368.09262], [ 954.581...  \\\n",
      "1  [[334.63928 191.12814 398.79654 254.96082], [484.48923 332.7234  717.053   516.7328 ], [673.2345...   \n",
      "2  [[327.6995  189.36577 392.4098  253.57695], [670.9204  324.10666 750.4485  367.99106], [482.2456...   \n",
      "\n",
      "                                                                         fastrcnnobjectdetector.scores  \n",
      "0  [0.99814737, 0.9964282, 0.9947148, 0.9944522, 0.99054736, 0.9884171, 0.98538464, 0.97336644, 0.9...  \n",
      "1  [0.9978867, 0.99533, 0.9949798, 0.9941269, 0.99107295, 0.9894526, 0.98743826, 0.979026, 0.975391...  \n",
      "2  [0.99903834, 0.9947266, 0.9944389, 0.9922162, 0.9919292, 0.99097097, 0.9814633, 0.9667282, 0.962...  \n",
      "@query_time: 3.623796734958887\n"
     ]
    }
   ],
   "source": [
    "cursor.execute(\"\"\"SELECT id, FastRCNNObjectDetector(data) \n",
    "                  FROM bddtest_1 \n",
    "                  WHERE id < 3;\"\"\")\n",
    "response = cursor.fetch_all()\n",
    "print(response)"
   ]
  },
  {
   "attachments": {},
   "cell_type": "markdown",
   "id": "55551f98-6e3f-4088-a02f-6852b56dfc63",
   "metadata": {},
   "source": [
    "## Run a query over the Meta-data Table"
   ]
  },
  {
   "cell_type": "code",
   "execution_count": 8,
   "id": "2990038a-00ec-4d36-aae2-82a789f2389a",
   "metadata": {
    "execution": {
     "iopub.execute_input": "2023-04-30T14:34:07.618737Z",
     "iopub.status.busy": "2023-04-30T14:34:07.618395Z",
     "iopub.status.idle": "2023-04-30T14:34:07.845238Z",
     "shell.execute_reply": "2023-04-30T14:34:07.844009Z"
    }
   },
   "outputs": [
    {
     "name": "stdout",
     "output_type": "stream",
     "text": [
      "@status: ResponseStatus.SUCCESS\n",
      "@batch: \n",
      "       bddtestmeta._row_id  bddtestmeta.id  bddtestmeta.frame_id   \n",
      "0                       1            8185                     0  \\\n",
      "1                       2            8186                     0   \n",
      "2                       3            8187                     0   \n",
      "3                       4            8188                     0   \n",
      "4                       5            8189                     0   \n",
      "...                   ...             ...                   ...   \n",
      "3396                 3397           11581                  1197   \n",
      "3397                 3398           11582                  1197   \n",
      "3398                 3399           11583                  1197   \n",
      "3399                 3400           11584                  1197   \n",
      "3400                 3401           11585                  1197   \n",
      "\n",
      "      bddtestmeta.video_id bddtestmeta.dataset_name bddtestmeta.label   \n",
      "0                        4                  bddtest               car  \\\n",
      "1                        4                  bddtest               car   \n",
      "2                        4                  bddtest               car   \n",
      "3                        4                  bddtest               car   \n",
      "4                        4                  bddtest               car   \n",
      "...                    ...                      ...               ...   \n",
      "3396                     4                  bddtest               car   \n",
      "3397                     4                  bddtest               car   \n",
      "3398                     4                  bddtest               car   \n",
      "3399                     4                  bddtest               car   \n",
      "3400                     4                  bddtest               car   \n",
      "\n",
      "                                  bddtestmeta.bbox  bddtestmeta.object_id  \n",
      "0         [491.7783, 320.9238, 717.0901, 512.1478]                    512  \n",
      "1      [928.2679, 298.47574, 1279.5381, 571.17786]                    513  \n",
      "2       [816.0277, 347.52887, 1029.6998, 474.7344]                    514  \n",
      "3       [811.87067, 325.91223, 948.2217, 408.2217]                    515  \n",
      "4      [673.0254, 325.08084, 751.17786, 367.48267]                    516  \n",
      "...                                            ...                    ...  \n",
      "3396     [554.96533, 335.88916, 588.2217, 378.291]                    643  \n",
      "3397     [693.8106, 350.0231, 734.5497, 395.75058]                    644  \n",
      "3398  [683.83374, 345.03464, 733.71826, 389.93073]                    642  \n",
      "3399     [676.351, 346.69745, 699.6305, 384.11084]                    641  \n",
      "3400      [662.2171, 351.6859, 681.3395, 377.4596]                    638  \n",
      "\n",
      "[3401 rows x 8 columns]\n",
      "@query_time: 0.18601090647280216\n"
     ]
    }
   ],
   "source": [
    "cursor.execute(\"\"\"SELECT *\n",
    "                  FROM bddtestmeta\n",
    "                  WHERE bddtestmeta.video_id = 4;\"\"\")\n",
    "response = cursor.fetch_all()\n",
    "print(response)"
   ]
  }
 ],
 "metadata": {
  "kernelspec": {
   "display_name": "Python 3 (ipykernel)",
   "language": "python",
   "name": "python3"
  },
  "language_info": {
   "codemirror_mode": {
    "name": "ipython",
    "version": 3
   },
   "file_extension": ".py",
   "mimetype": "text/x-python",
   "name": "python",
   "nbconvert_exporter": "python",
   "pygments_lexer": "ipython3",
   "version": "3.8.10"
  }
 },
 "nbformat": 4,
 "nbformat_minor": 5
}
