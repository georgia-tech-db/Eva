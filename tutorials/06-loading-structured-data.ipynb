{
 "cells": [
  {
   "attachments": {},
   "cell_type": "markdown",
   "id": "9aa3c1b1-1587-45de-baaf-e0ccec1ddd8f",
   "metadata": {},
   "source": [
    "# LOADING META-DATA IN CSV FILE"
   ]
  },
  {
   "cell_type": "markdown",
   "id": "573bbbff-e4e9-4a5e-a43f-8feb51d3124f",
   "metadata": {},
   "source": [
    "<table align=\"left\">\n",
    "  <td>\n",
    "    <a target=\"_blank\" href=\"https://colab.research.google.com/github/georgia-tech-db/eva/blob/master/tutorials/05-loading-data.ipynb\"><img src=\"https://www.tensorflow.org/images/colab_logo_32px.png\" /> Run on Google Colab</a>\n",
    "  </td>\n",
    "  <td>\n",
    "    <a target=\"_blank\" href=\"https://github.com/georgia-tech-db/eva/blob/master/tutorials/05-loading-data.ipynb\"><img src=\"https://www.tensorflow.org/images/GitHub-Mark-32px.png\" /> View source on GitHub</a>\n",
    "  </td>\n",
    "  <td>\n",
    "    <a target=\"_blank\" href=\"https://raw.githubusercontent.com/georgia-tech-db/eva/master/tutorials/05-loading-data.ipynb\"><img src=\"https://www.tensorflow.org/images/download_logo_32px.png\" /> Download notebook</a>\n",
    "  </td>\n",
    "</table>"
   ]
  },
  {
   "cell_type": "markdown",
   "id": "27d7ebfa-c0b6-4a15-bd17-59a4e1cb7c77",
   "metadata": {},
   "source": [
    "### Start EVA Server\n",
    "We are reusing the start server notebook for launching the EVA server"
   ]
  },
  {
   "cell_type": "code",
   "execution_count": 1,
   "id": "c758b60b-e75e-4128-805d-46a210638daf",
   "metadata": {
    "execution": {
     "iopub.execute_input": "2023-04-12T03:04:47.809844Z",
     "iopub.status.busy": "2023-04-12T03:04:47.809553Z",
     "iopub.status.idle": "2023-04-12T03:05:02.290852Z",
     "shell.execute_reply": "2023-04-12T03:05:02.289772Z"
    }
   },
   "outputs": [
    {
     "name": "stdout",
     "output_type": "stream",
     "text": [
      "File ‘00-start-eva-server.ipynb’ already there; not retrieving.\r\n",
      "\r\n"
     ]
    },
    {
     "name": "stdout",
     "output_type": "stream",
     "text": [
      "nohup eva_server >> eva.log 2>&1 &\n",
      "('YOLOv5 🚀 2023-4-12 Python-3.9.2 torch-2.0.0+cu117 CPU\\n', '\\n', 'Downloading https://github.com/ultralytics/yolov5/releases/download/v7.0/yolov5s.pt to yolov5s.pt...\\n')\n",
      "('\\n', '  0%|          | 0.00/14.1M [00:00<?, ?B/s]\\n', ' 10%|█         | 1.48M/14.1M [00:00<00:00, 15.5MB/s]\\n')\n",
      "(' 62%|██████▏   | 8.70M/14.1M [00:00<00:00, 50.8MB/s]\\n', '100%|██████████| 14.1M/14.1M [00:00<00:00, 55.6MB/s]\\n', '\\n')\n",
      "('Fusing layers... \\n', 'YOLOv5s summary: 213 layers, 7225885 parameters, 0 gradients\\n', 'Adding AutoShape... \\n')\n",
      "('04-12-2023 03:02:25 WARNING[create_udf_executor:create_udf_executor.py:exec:0101] UDF FastRCNNObjectDetector already exists, nothing added.\\n', '04-12-2023 03:02:25 WARNING[create_udf_executor:create_udf_executor.py:exec:0101] UDF ArrayCount already exists, nothing added.\\n', '04-12-2023 03:02:25 WARNING[create_udf_executor:create_udf_executor.py:exec:0101] UDF Crop already exists, nothing added.\\n')\n",
      "('04-12-2023 03:02:25 WARNING[create_udf_executor:create_udf_executor.py:exec:0101] UDF Open already exists, nothing added.\\n', '04-12-2023 03:02:25 WARNING[create_udf_executor:create_udf_executor.py:exec:0101] UDF Similarity already exists, nothing added.\\n', '04-12-2023 03:02:25 WARNING[create_udf_executor:create_udf_executor.py:exec:0101] UDF YoloV5 already exists, nothing added.\\n')\n",
      "('04-12-2023 03:02:38 ERROR [drop_executor:drop_executor.py:exec:0049] Table: MNISTVid does not exist\\n', 'NoneType: None\\n', '04-12-2023 03:02:38 ERROR [plan_executor:plan_executor.py:execute_plan:0175] Table: MNISTVid does not exist\\n')\n",
      "('04-12-2023 03:02:38 WARNING[command_handler:command_handler.py:handle_request:0075] Table: MNISTVid does not exist\\n', 'Downloading: \"http://ml.cs.tsinghua.edu.cn/~chenxi/pytorch-models/mnist-b07bb66b.pth\" to /home/admin/.cache/torch/hub/checkpoints/mnist-b07bb66b.pth\\n', '\\n')\n",
      "('  0%|          | 0.00/1.03M [00:00<?, ?B/s]\\n', '  2%|▏         | 16.0k/1.03M [00:00<00:14, 70.9kB/s]\\n', '  4%|▍         | 40.0k/1.03M [00:00<00:08, 124kB/s] \\n')\n",
      "('  5%|▌         | 56.0k/1.03M [00:00<00:07, 136kB/s]\\n', '  8%|▊         | 88.0k/1.03M [00:00<00:05, 183kB/s]\\n', ' 11%|█         | 112k/1.03M [00:00<00:05, 178kB/s] \\n')\n",
      "(' 14%|█▎        | 144k/1.03M [00:00<00:04, 212kB/s]\\n', ' 17%|█▋        | 176k/1.03M [00:00<00:03, 237kB/s]\\n', ' 24%|██▍       | 256k/1.03M [00:01<00:02, 379kB/s]\\n')\n",
      "(' 32%|███▏      | 336k/1.03M [00:01<00:01, 477kB/s]\\n', ' 43%|████▎     | 448k/1.03M [00:01<00:00, 650kB/s]\\n', ' 55%|█████▍    | 576k/1.03M [00:01<00:00, 831kB/s]\\n')\n",
      "(' 74%|███████▍  | 784k/1.03M [00:01<00:00, 1.19MB/s]\\n', '100%|██████████| 1.03M/1.03M [00:01<00:00, 678kB/s]\\n', '04-12-2023 03:02:49 WARNING[create_udf_executor:create_udf_executor.py:exec:0101] UDF FastRCNNObjectDetector already exists, nothing added.\\n')\n",
      "('04-12-2023 03:02:49 WARNING[create_udf_executor:create_udf_executor.py:exec:0101] UDF ArrayCount already exists, nothing added.\\n', '04-12-2023 03:02:49 WARNING[create_udf_executor:create_udf_executor.py:exec:0101] UDF Crop already exists, nothing added.\\n', '04-12-2023 03:02:49 WARNING[create_udf_executor:create_udf_executor.py:exec:0101] UDF Open already exists, nothing added.\\n')\n",
      "('04-12-2023 03:02:49 WARNING[create_udf_executor:create_udf_executor.py:exec:0101] UDF Similarity already exists, nothing added.\\n', '04-12-2023 03:02:49 WARNING[create_udf_executor:create_udf_executor.py:exec:0101] UDF YoloV5 already exists, nothing added.\\n', '04-12-2023 03:03:02 ERROR [drop_executor:drop_executor.py:exec:0049] Table: ObjectDetectionVideos does not exist\\n')\n",
      "('NoneType: None\\n', '04-12-2023 03:03:02 ERROR [plan_executor:plan_executor.py:execute_plan:0175] Table: ObjectDetectionVideos does not exist\\n', '04-12-2023 03:03:02 WARNING[command_handler:command_handler.py:handle_request:0075] Table: ObjectDetectionVideos does not exist\\n')\n",
      "('04-12-2023 03:03:02 WARNING[create_udf_executor:create_udf_executor.py:exec:0101] UDF YoloV5 already exists, nothing added.\\n', 'YOLOv5 🚀 2023-4-12 Python-3.9.2 torch-2.0.0+cu117 CPU\\n', '\\n')\n",
      "('Fusing layers... \\n', 'YOLOv5s summary: 213 layers, 7225885 parameters, 0 gradients\\n', 'Adding AutoShape... \\n')\n",
      "('04-12-2023 03:03:14 WARNING[create_udf_executor:create_udf_executor.py:exec:0101] UDF FastRCNNObjectDetector already exists, nothing added.\\n', '04-12-2023 03:03:14 WARNING[create_udf_executor:create_udf_executor.py:exec:0101] UDF ArrayCount already exists, nothing added.\\n', '04-12-2023 03:03:14 WARNING[create_udf_executor:create_udf_executor.py:exec:0101] UDF Crop already exists, nothing added.\\n')\n",
      "('04-12-2023 03:03:14 WARNING[create_udf_executor:create_udf_executor.py:exec:0101] UDF Open already exists, nothing added.\\n', '04-12-2023 03:03:14 WARNING[create_udf_executor:create_udf_executor.py:exec:0101] UDF Similarity already exists, nothing added.\\n', 'YOLOv5 🚀 2023-4-12 Python-3.9.2 torch-2.0.0+cu117 CPU\\n')\n",
      "('\\n', 'Fusing layers... \\n', 'YOLOv5s summary: 213 layers, 7225885 parameters, 0 gradients\\n')\n",
      "('Adding AutoShape... \\n', '04-12-2023 03:03:28 ERROR [drop_executor:drop_executor.py:exec:0049] Table: HAPPY does not exist\\n', 'NoneType: None\\n')\n",
      "('04-12-2023 03:03:28 ERROR [plan_executor:plan_executor.py:execute_plan:0175] Table: HAPPY does not exist\\n', '04-12-2023 03:03:28 WARNING[command_handler:command_handler.py:handle_request:0075] Table: HAPPY does not exist\\n', '\\n')\n",
      "('  0%|          | 0.00/76.5M [00:00<?, ?B/s]\\n', '  0%|          | 104k/76.5M [00:00<01:16, 1.05MB/s]\\n', '  1%|          | 424k/76.5M [00:00<00:34, 2.34MB/s]\\n')\n",
      "('  3%|▎         | 2.41M/76.5M [00:00<00:07, 10.8MB/s]\\n', '  8%|▊         | 6.46M/76.5M [00:00<00:03, 23.1MB/s]\\n', ' 14%|█▍        | 10.6M/76.5M [00:00<00:02, 30.2MB/s]\\n')\n",
      "(' 19%|█▊        | 14.2M/76.5M [00:00<00:01, 33.0MB/s]\\n', ' 24%|██▎       | 18.0M/76.5M [00:00<00:01, 35.0MB/s]\\n', ' 29%|██▉       | 22.0M/76.5M [00:00<00:01, 37.3MB/s]\\n')\n",
      "(' 34%|███▍      | 25.8M/76.5M [00:00<00:01, 38.1MB/s]\\n', ' 39%|███▊      | 29.5M/76.5M [00:01<00:01, 38.3MB/s]\\n', ' 44%|████▍     | 33.8M/76.5M [00:01<00:01, 40.3MB/s]\\n')\n",
      "(' 49%|████▉     | 37.6M/76.5M [00:01<00:01, 39.7MB/s]\\n', ' 54%|█████▍    | 41.4M/76.5M [00:01<00:00, 39.4MB/s]\\n', ' 59%|█████▉    | 45.5M/76.5M [00:01<00:00, 39.9MB/s]\\n')\n",
      "(' 65%|██████▍   | 49.5M/76.5M [00:01<00:00, 40.6MB/s]\\n', ' 70%|██████▉   | 53.4M/76.5M [00:01<00:00, 39.9MB/s]\\n', ' 75%|███████▍  | 57.2M/76.5M [00:01<00:00, 39.4MB/s]\\n')\n",
      "(' 80%|████████  | 61.3M/76.5M [00:01<00:00, 40.4MB/s]\\n', ' 85%|████████▌ | 65.1M/76.5M [00:01<00:00, 40.0MB/s]\\n', ' 90%|█████████ | 69.0M/76.5M [00:02<00:00, 40.0MB/s]\\n')\n",
      "(' 95%|█████████▌| 72.9M/76.5M [00:02<00:00, 40.2MB/s]\\n', '100%|██████████| 76.5M/76.5M [00:02<00:00, 36.1MB/s]\\n', '04-12-2023 03:03:48 WARNING[create_udf_executor:create_udf_executor.py:exec:0101] UDF FastRCNNObjectDetector already exists, nothing added.\\n')\n",
      "('04-12-2023 03:03:48 WARNING[create_udf_executor:create_udf_executor.py:exec:0101] UDF ArrayCount already exists, nothing added.\\n', '04-12-2023 03:03:48 WARNING[create_udf_executor:create_udf_executor.py:exec:0101] UDF Crop already exists, nothing added.\\n', '04-12-2023 03:03:48 WARNING[create_udf_executor:create_udf_executor.py:exec:0101] UDF Open already exists, nothing added.\\n')\n",
      "('04-12-2023 03:03:48 WARNING[create_udf_executor:create_udf_executor.py:exec:0101] UDF Similarity already exists, nothing added.\\n', '04-12-2023 03:03:48 WARNING[create_udf_executor:create_udf_executor.py:exec:0101] UDF YoloV5 already exists, nothing added.\\n', '04-12-2023 03:04:08 ERROR [drop_executor:drop_executor.py:exec:0049] Table: TIKTOK does not exist\\n')\n",
      "('NoneType: None\\n', '04-12-2023 03:04:08 ERROR [plan_executor:plan_executor.py:execute_plan:0175] Table: TIKTOK does not exist\\n', '04-12-2023 03:04:08 WARNING[command_handler:command_handler.py:handle_request:0075] Table: TIKTOK does not exist\\n')\n",
      "('04-12-2023 03:04:08 ERROR [drop_udf_executor:drop_udf_executor.py:exec:0042] UDF GenderCNN does not exist, therefore cannot be dropped.\\n', 'NoneType: None\\n', '04-12-2023 03:04:08 ERROR [plan_executor:plan_executor.py:execute_plan:0175] UDF GenderCNN does not exist, therefore cannot be dropped.\\n')\n",
      "('04-12-2023 03:04:08 WARNING[command_handler:command_handler.py:handle_request:0075] UDF GenderCNN does not exist, therefore cannot be dropped.\\n', \"/home/admin/eva/test_eva_db/lib/python3.9/site-packages/torchvision/models/_utils.py:208: UserWarning: The parameter 'pretrained' is deprecated since 0.13 and may be removed in the future, please use 'weights' instead.\\n\", '  warnings.warn(\\n')\n",
      "(\"/home/admin/eva/test_eva_db/lib/python3.9/site-packages/torchvision/models/_utils.py:223: UserWarning: Arguments other than a weight enum or `None` for 'weights' are deprecated since 0.13 and may be removed in the future. The current behavior is equivalent to passing `weights=ResNet18_Weights.IMAGENET1K_V1`. You can also use `weights=ResNet18_Weights.DEFAULT` to get the most up-to-date weights.\\n\", '  warnings.warn(msg)\\n', 'Downloading: \"https://download.pytorch.org/models/resnet18-f37072fd.pth\" to /home/admin/.cache/torch/hub/checkpoints/resnet18-f37072fd.pth\\n')\n",
      "('\\n', '  0%|          | 0.00/44.7M [00:00<?, ?B/s]\\n', ' 24%|██▎       | 10.6M/44.7M [00:00<00:00, 111MB/s]\\n')\n",
      "(' 47%|████▋     | 21.2M/44.7M [00:00<00:00, 98.1MB/s]\\n', ' 69%|██████▊   | 30.6M/44.7M [00:00<00:00, 90.7MB/s]\\n', ' 93%|█████████▎| 41.4M/44.7M [00:00<00:00, 98.5MB/s]\\n')\n",
      "('100%|██████████| 44.7M/44.7M [00:00<00:00, 96.3MB/s]\\n', '04-12-2023 03:04:09 WARNING[create_udf_executor:create_udf_executor.py:exec:0101] UDF FaceDetector already exists, nothing added.\\n', \"/home/admin/eva/test_eva_db/lib/python3.9/site-packages/torchvision/models/_utils.py:208: UserWarning: The parameter 'pretrained' is deprecated since 0.13 and may be removed in the future, please use 'weights' instead.\\n\")\n",
      "('  warnings.warn(\\n', \"/home/admin/eva/test_eva_db/lib/python3.9/site-packages/torchvision/models/_utils.py:223: UserWarning: Arguments other than a weight enum or `None` for 'weights' are deprecated since 0.13 and may be removed in the future. The current behavior is equivalent to passing `weights=ResNet18_Weights.IMAGENET1K_V1`. You can also use `weights=ResNet18_Weights.DEFAULT` to get the most up-to-date weights.\\n\", '  warnings.warn(msg)\\n')\n",
      "('04-12-2023 03:04:27 WARNING[create_udf_executor:create_udf_executor.py:exec:0101] UDF FastRCNNObjectDetector already exists, nothing added.\\n', '04-12-2023 03:04:27 WARNING[create_udf_executor:create_udf_executor.py:exec:0101] UDF ArrayCount already exists, nothing added.\\n', '04-12-2023 03:04:27 WARNING[create_udf_executor:create_udf_executor.py:exec:0101] UDF Crop already exists, nothing added.\\n')\n",
      "('04-12-2023 03:04:27 WARNING[create_udf_executor:create_udf_executor.py:exec:0101] UDF Open already exists, nothing added.\\n', '04-12-2023 03:04:27 WARNING[create_udf_executor:create_udf_executor.py:exec:0101] UDF Similarity already exists, nothing added.\\n', '04-12-2023 03:04:27 WARNING[create_udf_executor:create_udf_executor.py:exec:0101] UDF YoloV5 already exists, nothing added.\\n')\n",
      "('04-12-2023 03:04:41 ERROR [drop_executor:drop_executor.py:exec:0049] Table: ASL_ACTIONS does not exist\\n', 'NoneType: None\\n', '04-12-2023 03:04:41 ERROR [plan_executor:plan_executor.py:execute_plan:0175] Table: ASL_ACTIONS does not exist\\n')\n",
      "('04-12-2023 03:04:41 WARNING[command_handler:command_handler.py:handle_request:0075] Table: ASL_ACTIONS does not exist\\n', '04-12-2023 03:04:41 ERROR [drop_udf_executor:drop_udf_executor.py:exec:0042] UDF ASLActionRecognition does not exist, therefore cannot be dropped.\\n', 'NoneType: None\\n')\n",
      "('04-12-2023 03:04:41 ERROR [plan_executor:plan_executor.py:execute_plan:0175] UDF ASLActionRecognition does not exist, therefore cannot be dropped.\\n', '04-12-2023 03:04:41 WARNING[command_handler:command_handler.py:handle_request:0075] UDF ASLActionRecognition does not exist, therefore cannot be dropped.\\n', None)\n"
     ]
    },
    {
     "name": "stdout",
     "output_type": "stream",
     "text": [
      "Note: you may need to restart the kernel to use updated packages.\n"
     ]
    }
   ],
   "source": [
    "!wget -nc \"https://raw.githubusercontent.com/georgia-tech-db/eva/master/tutorials/00-start-eva-server.ipynb\"\n",
    "%run 00-start-eva-server.ipynb\n",
    "cursor = connect_to_server()"
   ]
  },
  {
   "cell_type": "code",
   "execution_count": 2,
   "id": "c2c02070-1635-4b09-9916-c7ae828eeda2",
   "metadata": {
    "execution": {
     "iopub.execute_input": "2023-04-12T03:05:02.294847Z",
     "iopub.status.busy": "2023-04-12T03:05:02.294312Z",
     "iopub.status.idle": "2023-04-12T03:05:02.300968Z",
     "shell.execute_reply": "2023-04-12T03:05:02.300106Z"
    }
   },
   "outputs": [],
   "source": [
    "import sys\n",
    "sys.path.insert(0,'..')\n",
    "from eva.server.db_api import connect\n",
    "\n",
    "import nest_asyncio\n",
    "nest_asyncio.apply()\n",
    "connection = connect(host = '0.0.0.0', port = 5432) # hostname, port of the server where EVADB is running\n",
    "\n",
    "cursor = connection.cursor()"
   ]
  },
  {
   "attachments": {},
   "cell_type": "markdown",
   "id": "ca54c9e5-6ec9-4aea-b421-ad1fa3ddcdd1",
   "metadata": {},
   "source": [
    "### Video Files\n",
    " - Download a subset of the Berkeley Deepdrive dataset from Dropbox"
   ]
  },
  {
   "cell_type": "code",
   "execution_count": 3,
   "id": "62def7ce-3f83-4fa0-b9fd-2e553b3919ba",
   "metadata": {
    "execution": {
     "iopub.execute_input": "2023-04-12T03:05:02.304042Z",
     "iopub.status.busy": "2023-04-12T03:05:02.303757Z",
     "iopub.status.idle": "2023-04-12T03:05:11.225376Z",
     "shell.execute_reply": "2023-04-12T03:05:11.224343Z"
    }
   },
   "outputs": [
    {
     "name": "stdout",
     "output_type": "stream",
     "text": [
      "--2023-04-12 03:05:02--  https://www.dropbox.com/s/kg1q69ijbhjfecw/bddtest.zip\r\n",
      "Resolving www.dropbox.com (www.dropbox.com)... 162.125.3.18, 2620:100:601c:18::a27d:612\r\n",
      "Connecting to www.dropbox.com (www.dropbox.com)|162.125.3.18|:443... "
     ]
    },
    {
     "name": "stdout",
     "output_type": "stream",
     "text": [
      "connected.\r\n"
     ]
    },
    {
     "name": "stdout",
     "output_type": "stream",
     "text": [
      "HTTP request sent, awaiting response... "
     ]
    },
    {
     "name": "stdout",
     "output_type": "stream",
     "text": [
      "302 Found\r\n",
      "Location: /s/raw/kg1q69ijbhjfecw/bddtest.zip [following]\r\n",
      "--2023-04-12 03:05:03--  https://www.dropbox.com/s/raw/kg1q69ijbhjfecw/bddtest.zip\r\n",
      "Reusing existing connection to www.dropbox.com:443.\r\n",
      "HTTP request sent, awaiting response... "
     ]
    },
    {
     "name": "stdout",
     "output_type": "stream",
     "text": [
      "302 Found\r\n",
      "Location: https://ucbbf1a0aa64c6eaafec306b3b75.dl.dropboxusercontent.com/cd/0/inline/B6AbG7jYTfdwgJRvc4mj3cnoh583_LPIcYHVi1QF3M1aHAftxBG9yUKaJj90mJl95XNCcU4fedwxINs0Rq7Aqt1Sj4cf3MBb3Y67snM-Szik1RJOVbpuSDmA_e0A-3_Fyuds4_pyQB18Wl69spceSWSMlVe5DgYoMxDPV3tlF7fpoA/file# [following]\r\n",
      "--2023-04-12 03:05:03--  https://ucbbf1a0aa64c6eaafec306b3b75.dl.dropboxusercontent.com/cd/0/inline/B6AbG7jYTfdwgJRvc4mj3cnoh583_LPIcYHVi1QF3M1aHAftxBG9yUKaJj90mJl95XNCcU4fedwxINs0Rq7Aqt1Sj4cf3MBb3Y67snM-Szik1RJOVbpuSDmA_e0A-3_Fyuds4_pyQB18Wl69spceSWSMlVe5DgYoMxDPV3tlF7fpoA/file\r\n",
      "Resolving ucbbf1a0aa64c6eaafec306b3b75.dl.dropboxusercontent.com (ucbbf1a0aa64c6eaafec306b3b75.dl.dropboxusercontent.com)... 162.125.3.15, 2620:100:601c:15::a27d:60f\r\n",
      "Connecting to ucbbf1a0aa64c6eaafec306b3b75.dl.dropboxusercontent.com (ucbbf1a0aa64c6eaafec306b3b75.dl.dropboxusercontent.com)|162.125.3.15|:443... connected.\r\n"
     ]
    },
    {
     "name": "stdout",
     "output_type": "stream",
     "text": [
      "HTTP request sent, awaiting response... "
     ]
    },
    {
     "name": "stdout",
     "output_type": "stream",
     "text": [
      "302 Found\r\n",
      "Location: /cd/0/inline2/B6C9DKfrX8j2Dp5EiD7rky5SEuXthsC8MXjT0h_IFHUiWNA_6OBm9csn6McY-O2BIwO0f0s-LnZEg4jC8CQ1cnGp88DqFtBA94h7VnvqeE3X4xTPfl50JfAXNxltFsFwyys0TWNQK12EZXqTxBsu7_B1b0Rb2lUa14zn5vN8QtLV_vbP7ia8b4ySaiGkJZW0tks-mRLoIZfwsjsbcKHHe7h4xN4ApjyDwEzaPfijJq_smlw5pi1pa7l0fHk85EMus8PmetYjZqD191FjuzK1A3ousXW-6MJbUKS9cjxT6_h7rbPwIWnObAFIob0KcWN-ayCkcNKk0qLK2zjhIofTiew2p9imNuCXW8LOVmxcjNHlRCNJVobipZ1tM4J2c1U73cnBBydzF0rJGU_VEug3i7Q0qTZKqDNrve56hs_0XYfz6A/file [following]\r\n",
      "--2023-04-12 03:05:05--  https://ucbbf1a0aa64c6eaafec306b3b75.dl.dropboxusercontent.com/cd/0/inline2/B6C9DKfrX8j2Dp5EiD7rky5SEuXthsC8MXjT0h_IFHUiWNA_6OBm9csn6McY-O2BIwO0f0s-LnZEg4jC8CQ1cnGp88DqFtBA94h7VnvqeE3X4xTPfl50JfAXNxltFsFwyys0TWNQK12EZXqTxBsu7_B1b0Rb2lUa14zn5vN8QtLV_vbP7ia8b4ySaiGkJZW0tks-mRLoIZfwsjsbcKHHe7h4xN4ApjyDwEzaPfijJq_smlw5pi1pa7l0fHk85EMus8PmetYjZqD191FjuzK1A3ousXW-6MJbUKS9cjxT6_h7rbPwIWnObAFIob0KcWN-ayCkcNKk0qLK2zjhIofTiew2p9imNuCXW8LOVmxcjNHlRCNJVobipZ1tM4J2c1U73cnBBydzF0rJGU_VEug3i7Q0qTZKqDNrve56hs_0XYfz6A/file\r\n",
      "Reusing existing connection to ucbbf1a0aa64c6eaafec306b3b75.dl.dropboxusercontent.com:443.\r\n",
      "HTTP request sent, awaiting response... "
     ]
    },
    {
     "name": "stdout",
     "output_type": "stream",
     "text": [
      "200 OK\r\n",
      "Length: 165016842 (157M) [application/zip]\r\n",
      "Saving to: ‘bddtest.zip’\r\n",
      "\r\n",
      "\r",
      "bddtest.zip           0%[                    ]       0  --.-KB/s               "
     ]
    },
    {
     "name": "stdout",
     "output_type": "stream",
     "text": [
      "\r",
      "bddtest.zip           0%[                    ] 424.00K  2.06MB/s               "
     ]
    },
    {
     "name": "stdout",
     "output_type": "stream",
     "text": [
      "\r",
      "bddtest.zip           1%[                    ]   2.35M  5.86MB/s               "
     ]
    },
    {
     "name": "stdout",
     "output_type": "stream",
     "text": [
      "\r",
      "bddtest.zip           2%[                    ]   4.63M  7.70MB/s               "
     ]
    },
    {
     "name": "stdout",
     "output_type": "stream",
     "text": [
      "\r",
      "bddtest.zip           7%[>                   ]  12.01M  14.7MB/s               "
     ]
    },
    {
     "name": "stdout",
     "output_type": "stream",
     "text": [
      "\r",
      "bddtest.zip          12%[=>                  ]  19.48M  19.2MB/s               "
     ]
    },
    {
     "name": "stdout",
     "output_type": "stream",
     "text": [
      "\r",
      "bddtest.zip          17%[==>                 ]  27.01M  22.2MB/s               "
     ]
    },
    {
     "name": "stdout",
     "output_type": "stream",
     "text": [
      "\r",
      "bddtest.zip          22%[===>                ]  34.65M  24.4MB/s               "
     ]
    },
    {
     "name": "stdout",
     "output_type": "stream",
     "text": [
      "\r",
      "bddtest.zip          26%[====>               ]  42.13M  26.0MB/s               "
     ]
    },
    {
     "name": "stdout",
     "output_type": "stream",
     "text": [
      "\r",
      "bddtest.zip          31%[=====>              ]  49.84M  27.4MB/s               "
     ]
    },
    {
     "name": "stdout",
     "output_type": "stream",
     "text": [
      "\r",
      "bddtest.zip          36%[======>             ]  57.54M  28.5MB/s               "
     ]
    },
    {
     "name": "stdout",
     "output_type": "stream",
     "text": [
      "\r",
      "bddtest.zip          41%[=======>            ]  65.29M  29.4MB/s               "
     ]
    },
    {
     "name": "stdout",
     "output_type": "stream",
     "text": [
      "\r",
      "bddtest.zip          46%[========>           ]  72.88M  30.1MB/s               "
     ]
    },
    {
     "name": "stdout",
     "output_type": "stream",
     "text": [
      "\r",
      "bddtest.zip          50%[=========>          ]  80.01M  26.7MB/s               "
     ]
    },
    {
     "name": "stdout",
     "output_type": "stream",
     "text": [
      "\r",
      "bddtest.zip          55%[==========>         ]  86.90M  27.2MB/s    eta 3s     "
     ]
    },
    {
     "name": "stdout",
     "output_type": "stream",
     "text": [
      "\r",
      "bddtest.zip          60%[===========>        ]  94.49M  27.8MB/s    eta 3s     "
     ]
    },
    {
     "name": "stdout",
     "output_type": "stream",
     "text": [
      "\r",
      "bddtest.zip          64%[===========>        ] 101.99M  28.3MB/s    eta 3s     "
     ]
    },
    {
     "name": "stdout",
     "output_type": "stream",
     "text": [
      "\r",
      "bddtest.zip          69%[============>       ] 109.51M  30.9MB/s    eta 3s     "
     ]
    },
    {
     "name": "stdout",
     "output_type": "stream",
     "text": [
      "\r",
      "bddtest.zip          74%[=============>      ] 117.32M  33.1MB/s    eta 3s     "
     ]
    },
    {
     "name": "stdout",
     "output_type": "stream",
     "text": [
      "\r",
      "bddtest.zip          79%[==============>     ] 124.79M  33.1MB/s    eta 1s     "
     ]
    },
    {
     "name": "stdout",
     "output_type": "stream",
     "text": [
      "\r",
      "bddtest.zip          84%[===============>    ] 132.44M  33.3MB/s    eta 1s     "
     ]
    },
    {
     "name": "stdout",
     "output_type": "stream",
     "text": [
      "\r",
      "bddtest.zip          89%[================>   ] 140.19M  33.4MB/s    eta 1s     "
     ]
    },
    {
     "name": "stdout",
     "output_type": "stream",
     "text": [
      "\r",
      "bddtest.zip          94%[=================>  ] 148.01M  33.6MB/s    eta 1s     "
     ]
    },
    {
     "name": "stdout",
     "output_type": "stream",
     "text": [
      "\r",
      "bddtest.zip          98%[==================> ] 155.37M  33.3MB/s    eta 1s     "
     ]
    },
    {
     "name": "stdout",
     "output_type": "stream",
     "text": [
      "\r",
      "bddtest.zip         100%[===================>] 157.37M  33.4MB/s    in 5.1s    \r\n",
      "\r\n",
      "2023-04-12 03:05:10 (31.1 MB/s) - ‘bddtest.zip’ saved [165016842/165016842]\r\n",
      "\r\n"
     ]
    },
    {
     "name": "stdout",
     "output_type": "stream",
     "text": [
      "/bin/bash: line 1: unzip: command not found\r\n"
     ]
    }
   ],
   "source": [
    "# sample dataset of 2 videos\n",
    "!wget -nc https://www.dropbox.com/s/kg1q69ijbhjfecw/bddtest.zip\n",
    "\n",
    "# unzip\n",
    "!unzip -n bddtest.zip"
   ]
  },
  {
   "attachments": {},
   "cell_type": "markdown",
   "id": "463ce1f8-8333-4e11-ab0a-dda6d9bb067b",
   "metadata": {},
   "source": [
    "## Load 2 BDD videos"
   ]
  },
  {
   "cell_type": "code",
   "execution_count": 4,
   "id": "95b1e0a4-d9f5-40f2-830f-69c8c9f21172",
   "metadata": {
    "execution": {
     "iopub.execute_input": "2023-04-12T03:05:11.229057Z",
     "iopub.status.busy": "2023-04-12T03:05:11.228750Z",
     "iopub.status.idle": "2023-04-12T03:05:11.251080Z",
     "shell.execute_reply": "2023-04-12T03:05:11.250242Z"
    },
    "tags": []
   },
   "outputs": [
    {
     "name": "stdout",
     "output_type": "stream",
     "text": [
      "@status: ResponseStatus.FAIL\n",
      "@batch: \n",
      " None\n",
      "@error: Load VIDEO failed: encountered unexpected error Load VIDEO failed due to no valid files found on path bddtest/videos/bddtest_00a2e3ca5c856cde.mp4\n",
      "@status: ResponseStatus.FAIL\n",
      "@batch: \n",
      " None\n",
      "@error: Load VIDEO failed: encountered unexpected error Load VIDEO failed due to no valid files found on path bddtest/videos/bddtest_00a395fed60c0b47.mp4\n"
     ]
    }
   ],
   "source": [
    "cursor.execute('LOAD VIDEO \"./bddtest/videos/bddtest_00a2e3ca5c856cde.mp4\" INTO bddtest_1;')\n",
    "response = cursor.fetch_all()\n",
    "print(response)\n",
    "\n",
    "cursor.execute('LOAD VIDEO \"./bddtest/videos/bddtest_00a395fed60c0b47.mp4\" INTO bddtest_2;')\n",
    "response = cursor.fetch_all()\n",
    "print(response)"
   ]
  },
  {
   "attachments": {},
   "cell_type": "markdown",
   "id": "d7b7c9d5-2eae-4d57-a3f1-78792fca0b83",
   "metadata": {
    "tags": []
   },
   "source": [
    "## Create a BDD Meta-data Table"
   ]
  },
  {
   "cell_type": "code",
   "execution_count": 5,
   "id": "8897b9bb-0993-4eb0-959d-6484a651a90f",
   "metadata": {
    "execution": {
     "iopub.execute_input": "2023-04-12T03:05:11.254135Z",
     "iopub.status.busy": "2023-04-12T03:05:11.253868Z",
     "iopub.status.idle": "2023-04-12T03:05:11.374490Z",
     "shell.execute_reply": "2023-04-12T03:05:11.373578Z"
    },
    "tags": []
   },
   "outputs": [
    {
     "name": "stdout",
     "output_type": "stream",
     "text": [
      "@status: ResponseStatus.SUCCESS\n",
      "@batch: \n",
      " Empty DataFrame\n",
      "Columns: []\n",
      "Index: []\n",
      "@query_time: 0.1129953239999395\n"
     ]
    }
   ],
   "source": [
    "create_table_query = f\"\"\" \n",
    "\n",
    "    CREATE TABLE IF NOT EXISTS bddtestmeta(\n",
    "        id INTEGER UNIQUE,\n",
    "        frame_id INTEGER,\n",
    "        video_id INTEGER,\n",
    "        dataset_name TEXT(30),\n",
    "        label TEXT(30),\n",
    "        bbox NDARRAY FLOAT32(4),\n",
    "        object_id INTEGER\n",
    "    );\n",
    "    \n",
    "    \"\"\"\n",
    "\n",
    "cursor.execute(create_table_query)\n",
    "response = cursor.fetch_all()\n",
    "print(response)"
   ]
  },
  {
   "attachments": {},
   "cell_type": "markdown",
   "id": "574f8c04-c934-4654-8558-576e34e8735d",
   "metadata": {},
   "source": [
    "## Load the 2 corresponding CSV files associated with the 2 previously loaded videos"
   ]
  },
  {
   "cell_type": "code",
   "execution_count": 6,
   "id": "cf8415ac-f9e0-4bee-b2aa-b4e104b10a4b",
   "metadata": {
    "execution": {
     "iopub.execute_input": "2023-04-12T03:05:11.377566Z",
     "iopub.status.busy": "2023-04-12T03:05:11.377300Z",
     "iopub.status.idle": "2023-04-12T03:05:11.398517Z",
     "shell.execute_reply": "2023-04-12T03:05:11.397721Z"
    }
   },
   "outputs": [
    {
     "name": "stdout",
     "output_type": "stream",
     "text": [
      "@status: ResponseStatus.FAIL\n",
      "@batch: \n",
      " None\n",
      "@error: The dataset file could not be found. Please verify that the file exists in the specified path.\n",
      "@status: ResponseStatus.FAIL\n",
      "@batch: \n",
      " None\n",
      "@error: The dataset file could not be found. Please verify that the file exists in the specified path.\n"
     ]
    }
   ],
   "source": [
    "cursor.execute(\"LOAD CSV 'bddtest/info/bddtest_00a2e3ca5c856cde.csv' INTO bddtestmeta;\")\n",
    "response = cursor.fetch_all()\n",
    "print(response)\n",
    "\n",
    "cursor.execute(\"LOAD CSV 'bddtest/info/bddtest_00a395fed60c0b47.csv' INTO bddtestmeta;\")\n",
    "response = cursor.fetch_all()\n",
    "print(response)"
   ]
  },
  {
   "attachments": {},
   "cell_type": "markdown",
   "id": "8ace1640-fb0c-4e70-a595-f7e9befdf757",
   "metadata": {},
   "source": [
    "## Run a Query over the Video dataset\n"
   ]
  },
  {
   "cell_type": "code",
   "execution_count": 7,
   "id": "69e378d4-4d30-47cf-84c8-8fe56afe517e",
   "metadata": {
    "execution": {
     "iopub.execute_input": "2023-04-12T03:05:11.401504Z",
     "iopub.status.busy": "2023-04-12T03:05:11.401228Z",
     "iopub.status.idle": "2023-04-12T03:05:11.421043Z",
     "shell.execute_reply": "2023-04-12T03:05:11.420249Z"
    }
   },
   "outputs": [
    {
     "name": "stdout",
     "output_type": "stream",
     "text": [
      "@status: ResponseStatus.FAIL\n",
      "@batch: \n",
      " None\n",
      "@error: bddtest_1 does not exist. Create the table using CREATE TABLE.\n"
     ]
    }
   ],
   "source": [
    "cursor.execute(\"\"\"SELECT id, FastRCNNObjectDetector(data) \n",
    "                  FROM bddtest_1 \n",
    "                  WHERE id < 20;\"\"\")\n",
    "response = cursor.fetch_all()\n",
    "print(response)"
   ]
  },
  {
   "attachments": {},
   "cell_type": "markdown",
   "id": "55551f98-6e3f-4088-a02f-6852b56dfc63",
   "metadata": {},
   "source": [
    "## Run a query over the Meta-data Table"
   ]
  },
  {
   "cell_type": "code",
   "execution_count": 8,
   "id": "2990038a-00ec-4d36-aae2-82a789f2389a",
   "metadata": {
    "execution": {
     "iopub.execute_input": "2023-04-12T03:05:11.423934Z",
     "iopub.status.busy": "2023-04-12T03:05:11.423666Z",
     "iopub.status.idle": "2023-04-12T03:05:11.448895Z",
     "shell.execute_reply": "2023-04-12T03:05:11.448086Z"
    }
   },
   "outputs": [
    {
     "name": "stdout",
     "output_type": "stream",
     "text": [
      "@status: ResponseStatus.SUCCESS\n",
      "@batch: \n",
      " Empty DataFrame\n",
      "Columns: []\n",
      "Index: []\n",
      "@query_time: 0.020194305999893913\n"
     ]
    }
   ],
   "source": [
    "cursor.execute(\"\"\"SELECT *\n",
    "                  FROM bddtestmeta\n",
    "                  WHERE bddtestmeta.video_id = 4;\"\"\")\n",
    "response = cursor.fetch_all()\n",
    "print(response)"
   ]
  }
 ],
 "metadata": {
  "kernelspec": {
   "display_name": "Python 3 (ipykernel)",
   "language": "python",
   "name": "python3"
  },
  "language_info": {
   "codemirror_mode": {
    "name": "ipython",
    "version": 3
   },
   "file_extension": ".py",
   "mimetype": "text/x-python",
   "name": "python",
   "nbconvert_exporter": "python",
   "pygments_lexer": "ipython3",
   "version": "3.9.2"
  }
 },
 "nbformat": 4,
 "nbformat_minor": 5
}
