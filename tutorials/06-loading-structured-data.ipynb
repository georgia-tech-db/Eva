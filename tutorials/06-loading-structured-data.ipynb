{
 "cells": [
  {
   "attachments": {},
   "cell_type": "markdown",
   "id": "9aa3c1b1-1587-45de-baaf-e0ccec1ddd8f",
   "metadata": {},
   "source": [
    "# LOADING META-DATA IN CSV FILE"
   ]
  },
  {
   "cell_type": "markdown",
   "id": "573bbbff-e4e9-4a5e-a43f-8feb51d3124f",
   "metadata": {},
   "source": [
    "<table align=\"left\">\n",
    "  <td>\n",
    "    <a target=\"_blank\" href=\"https://colab.research.google.com/github/georgia-tech-db/eva/blob/master/tutorials/05-loading-data.ipynb\"><img src=\"https://www.tensorflow.org/images/colab_logo_32px.png\" /> Run on Google Colab</a>\n",
    "  </td>\n",
    "  <td>\n",
    "    <a target=\"_blank\" href=\"https://github.com/georgia-tech-db/eva/blob/master/tutorials/05-loading-data.ipynb\"><img src=\"https://www.tensorflow.org/images/GitHub-Mark-32px.png\" /> View source on GitHub</a>\n",
    "  </td>\n",
    "  <td>\n",
    "    <a target=\"_blank\" href=\"https://raw.githubusercontent.com/georgia-tech-db/eva/master/tutorials/05-loading-data.ipynb\"><img src=\"https://www.tensorflow.org/images/download_logo_32px.png\" /> Download notebook</a>\n",
    "  </td>\n",
    "</table>"
   ]
  },
  {
   "cell_type": "markdown",
   "id": "27d7ebfa-c0b6-4a15-bd17-59a4e1cb7c77",
   "metadata": {},
   "source": [
    "### Start EVA Server\n",
    "We are reusing the start server notebook for launching the EVA server"
   ]
  },
  {
   "cell_type": "code",
   "execution_count": 1,
   "id": "c758b60b-e75e-4128-805d-46a210638daf",
   "metadata": {
    "execution": {
     "iopub.execute_input": "2023-04-12T20:55:31.070733Z",
     "iopub.status.busy": "2023-04-12T20:55:31.070438Z",
     "iopub.status.idle": "2023-04-12T20:55:45.563473Z",
     "shell.execute_reply": "2023-04-12T20:55:45.562289Z"
    }
   },
   "outputs": [
    {
     "name": "stdout",
     "output_type": "stream",
     "text": [
      "File ‘00-start-eva-server.ipynb’ already there; not retrieving.\r\n",
      "\r\n"
     ]
    },
    {
     "name": "stdout",
     "output_type": "stream",
     "text": [
      "nohup eva_server >> eva.log 2>&1 &\n",
      "('YOLOv5 🚀 2023-4-12 Python-3.9.2 torch-2.0.0+cu117 CPU\\n', '\\n', 'Downloading https://github.com/ultralytics/yolov5/releases/download/v7.0/yolov5s.pt to yolov5s.pt...\\n')\n",
      "('\\n', '  0%|          | 0.00/14.1M [00:00<?, ?B/s]\\n', ' 10%|█         | 1.48M/14.1M [00:00<00:00, 15.5MB/s]\\n')\n",
      "(' 62%|██████▏   | 8.70M/14.1M [00:00<00:00, 50.8MB/s]\\n', '100%|██████████| 14.1M/14.1M [00:00<00:00, 55.6MB/s]\\n', '\\n')\n",
      "('Fusing layers... \\n', 'YOLOv5s summary: 213 layers, 7225885 parameters, 0 gradients\\n', 'Adding AutoShape... \\n')\n",
      "('04-12-2023 03:02:25 WARNING[create_udf_executor:create_udf_executor.py:exec:0101] UDF FastRCNNObjectDetector already exists, nothing added.\\n', '04-12-2023 03:02:25 WARNING[create_udf_executor:create_udf_executor.py:exec:0101] UDF ArrayCount already exists, nothing added.\\n', '04-12-2023 03:02:25 WARNING[create_udf_executor:create_udf_executor.py:exec:0101] UDF Crop already exists, nothing added.\\n')\n",
      "('04-12-2023 03:02:25 WARNING[create_udf_executor:create_udf_executor.py:exec:0101] UDF Open already exists, nothing added.\\n', '04-12-2023 03:02:25 WARNING[create_udf_executor:create_udf_executor.py:exec:0101] UDF Similarity already exists, nothing added.\\n', '04-12-2023 03:02:25 WARNING[create_udf_executor:create_udf_executor.py:exec:0101] UDF YoloV5 already exists, nothing added.\\n')\n",
      "('04-12-2023 03:02:38 ERROR [drop_executor:drop_executor.py:exec:0049] Table: MNISTVid does not exist\\n', 'NoneType: None\\n', '04-12-2023 03:02:38 ERROR [plan_executor:plan_executor.py:execute_plan:0175] Table: MNISTVid does not exist\\n')\n",
      "('04-12-2023 03:02:38 WARNING[command_handler:command_handler.py:handle_request:0075] Table: MNISTVid does not exist\\n', 'Downloading: \"http://ml.cs.tsinghua.edu.cn/~chenxi/pytorch-models/mnist-b07bb66b.pth\" to /home/admin/.cache/torch/hub/checkpoints/mnist-b07bb66b.pth\\n', '\\n')\n",
      "('  0%|          | 0.00/1.03M [00:00<?, ?B/s]\\n', '  2%|▏         | 16.0k/1.03M [00:00<00:14, 70.9kB/s]\\n', '  4%|▍         | 40.0k/1.03M [00:00<00:08, 124kB/s] \\n')\n",
      "('  5%|▌         | 56.0k/1.03M [00:00<00:07, 136kB/s]\\n', '  8%|▊         | 88.0k/1.03M [00:00<00:05, 183kB/s]\\n', ' 11%|█         | 112k/1.03M [00:00<00:05, 178kB/s] \\n')\n",
      "(' 14%|█▎        | 144k/1.03M [00:00<00:04, 212kB/s]\\n', ' 17%|█▋        | 176k/1.03M [00:00<00:03, 237kB/s]\\n', ' 24%|██▍       | 256k/1.03M [00:01<00:02, 379kB/s]\\n')\n",
      "(' 32%|███▏      | 336k/1.03M [00:01<00:01, 477kB/s]\\n', ' 43%|████▎     | 448k/1.03M [00:01<00:00, 650kB/s]\\n', ' 55%|█████▍    | 576k/1.03M [00:01<00:00, 831kB/s]\\n')\n",
      "(' 74%|███████▍  | 784k/1.03M [00:01<00:00, 1.19MB/s]\\n', '100%|██████████| 1.03M/1.03M [00:01<00:00, 678kB/s]\\n', '04-12-2023 03:02:49 WARNING[create_udf_executor:create_udf_executor.py:exec:0101] UDF FastRCNNObjectDetector already exists, nothing added.\\n')\n",
      "('04-12-2023 03:02:49 WARNING[create_udf_executor:create_udf_executor.py:exec:0101] UDF ArrayCount already exists, nothing added.\\n', '04-12-2023 03:02:49 WARNING[create_udf_executor:create_udf_executor.py:exec:0101] UDF Crop already exists, nothing added.\\n', '04-12-2023 03:02:49 WARNING[create_udf_executor:create_udf_executor.py:exec:0101] UDF Open already exists, nothing added.\\n')\n",
      "('04-12-2023 03:02:49 WARNING[create_udf_executor:create_udf_executor.py:exec:0101] UDF Similarity already exists, nothing added.\\n', '04-12-2023 03:02:49 WARNING[create_udf_executor:create_udf_executor.py:exec:0101] UDF YoloV5 already exists, nothing added.\\n', '04-12-2023 03:03:02 ERROR [drop_executor:drop_executor.py:exec:0049] Table: ObjectDetectionVideos does not exist\\n')\n",
      "('NoneType: None\\n', '04-12-2023 03:03:02 ERROR [plan_executor:plan_executor.py:execute_plan:0175] Table: ObjectDetectionVideos does not exist\\n', '04-12-2023 03:03:02 WARNING[command_handler:command_handler.py:handle_request:0075] Table: ObjectDetectionVideos does not exist\\n')\n",
      "('04-12-2023 03:03:02 WARNING[create_udf_executor:create_udf_executor.py:exec:0101] UDF YoloV5 already exists, nothing added.\\n', 'YOLOv5 🚀 2023-4-12 Python-3.9.2 torch-2.0.0+cu117 CPU\\n', '\\n')\n",
      "('Fusing layers... \\n', 'YOLOv5s summary: 213 layers, 7225885 parameters, 0 gradients\\n', 'Adding AutoShape... \\n')\n",
      "('04-12-2023 03:03:14 WARNING[create_udf_executor:create_udf_executor.py:exec:0101] UDF FastRCNNObjectDetector already exists, nothing added.\\n', '04-12-2023 03:03:14 WARNING[create_udf_executor:create_udf_executor.py:exec:0101] UDF ArrayCount already exists, nothing added.\\n', '04-12-2023 03:03:14 WARNING[create_udf_executor:create_udf_executor.py:exec:0101] UDF Crop already exists, nothing added.\\n')\n",
      "('04-12-2023 03:03:14 WARNING[create_udf_executor:create_udf_executor.py:exec:0101] UDF Open already exists, nothing added.\\n', '04-12-2023 03:03:14 WARNING[create_udf_executor:create_udf_executor.py:exec:0101] UDF Similarity already exists, nothing added.\\n', 'YOLOv5 🚀 2023-4-12 Python-3.9.2 torch-2.0.0+cu117 CPU\\n')\n",
      "('\\n', 'Fusing layers... \\n', 'YOLOv5s summary: 213 layers, 7225885 parameters, 0 gradients\\n')\n",
      "('Adding AutoShape... \\n', '04-12-2023 03:03:28 ERROR [drop_executor:drop_executor.py:exec:0049] Table: HAPPY does not exist\\n', 'NoneType: None\\n')\n",
      "('04-12-2023 03:03:28 ERROR [plan_executor:plan_executor.py:execute_plan:0175] Table: HAPPY does not exist\\n', '04-12-2023 03:03:28 WARNING[command_handler:command_handler.py:handle_request:0075] Table: HAPPY does not exist\\n', '\\n')\n",
      "('  0%|          | 0.00/76.5M [00:00<?, ?B/s]\\n', '  0%|          | 104k/76.5M [00:00<01:16, 1.05MB/s]\\n', '  1%|          | 424k/76.5M [00:00<00:34, 2.34MB/s]\\n')\n",
      "('  3%|▎         | 2.41M/76.5M [00:00<00:07, 10.8MB/s]\\n', '  8%|▊         | 6.46M/76.5M [00:00<00:03, 23.1MB/s]\\n', ' 14%|█▍        | 10.6M/76.5M [00:00<00:02, 30.2MB/s]\\n')\n",
      "(' 19%|█▊        | 14.2M/76.5M [00:00<00:01, 33.0MB/s]\\n', ' 24%|██▎       | 18.0M/76.5M [00:00<00:01, 35.0MB/s]\\n', ' 29%|██▉       | 22.0M/76.5M [00:00<00:01, 37.3MB/s]\\n')\n",
      "(' 34%|███▍      | 25.8M/76.5M [00:00<00:01, 38.1MB/s]\\n', ' 39%|███▊      | 29.5M/76.5M [00:01<00:01, 38.3MB/s]\\n', ' 44%|████▍     | 33.8M/76.5M [00:01<00:01, 40.3MB/s]\\n')\n",
      "(' 49%|████▉     | 37.6M/76.5M [00:01<00:01, 39.7MB/s]\\n', ' 54%|█████▍    | 41.4M/76.5M [00:01<00:00, 39.4MB/s]\\n', ' 59%|█████▉    | 45.5M/76.5M [00:01<00:00, 39.9MB/s]\\n')\n",
      "(' 65%|██████▍   | 49.5M/76.5M [00:01<00:00, 40.6MB/s]\\n', ' 70%|██████▉   | 53.4M/76.5M [00:01<00:00, 39.9MB/s]\\n', ' 75%|███████▍  | 57.2M/76.5M [00:01<00:00, 39.4MB/s]\\n')\n",
      "(' 80%|████████  | 61.3M/76.5M [00:01<00:00, 40.4MB/s]\\n', ' 85%|████████▌ | 65.1M/76.5M [00:01<00:00, 40.0MB/s]\\n', ' 90%|█████████ | 69.0M/76.5M [00:02<00:00, 40.0MB/s]\\n')\n",
      "(' 95%|█████████▌| 72.9M/76.5M [00:02<00:00, 40.2MB/s]\\n', '100%|██████████| 76.5M/76.5M [00:02<00:00, 36.1MB/s]\\n', '04-12-2023 03:03:48 WARNING[create_udf_executor:create_udf_executor.py:exec:0101] UDF FastRCNNObjectDetector already exists, nothing added.\\n')\n",
      "('04-12-2023 03:03:48 WARNING[create_udf_executor:create_udf_executor.py:exec:0101] UDF ArrayCount already exists, nothing added.\\n', '04-12-2023 03:03:48 WARNING[create_udf_executor:create_udf_executor.py:exec:0101] UDF Crop already exists, nothing added.\\n', '04-12-2023 03:03:48 WARNING[create_udf_executor:create_udf_executor.py:exec:0101] UDF Open already exists, nothing added.\\n')\n",
      "('04-12-2023 03:03:48 WARNING[create_udf_executor:create_udf_executor.py:exec:0101] UDF Similarity already exists, nothing added.\\n', '04-12-2023 03:03:48 WARNING[create_udf_executor:create_udf_executor.py:exec:0101] UDF YoloV5 already exists, nothing added.\\n', '04-12-2023 03:04:08 ERROR [drop_executor:drop_executor.py:exec:0049] Table: TIKTOK does not exist\\n')\n",
      "('NoneType: None\\n', '04-12-2023 03:04:08 ERROR [plan_executor:plan_executor.py:execute_plan:0175] Table: TIKTOK does not exist\\n', '04-12-2023 03:04:08 WARNING[command_handler:command_handler.py:handle_request:0075] Table: TIKTOK does not exist\\n')\n",
      "('04-12-2023 03:04:08 ERROR [drop_udf_executor:drop_udf_executor.py:exec:0042] UDF GenderCNN does not exist, therefore cannot be dropped.\\n', 'NoneType: None\\n', '04-12-2023 03:04:08 ERROR [plan_executor:plan_executor.py:execute_plan:0175] UDF GenderCNN does not exist, therefore cannot be dropped.\\n')\n",
      "('04-12-2023 03:04:08 WARNING[command_handler:command_handler.py:handle_request:0075] UDF GenderCNN does not exist, therefore cannot be dropped.\\n', \"/home/admin/eva/test_eva_db/lib/python3.9/site-packages/torchvision/models/_utils.py:208: UserWarning: The parameter 'pretrained' is deprecated since 0.13 and may be removed in the future, please use 'weights' instead.\\n\", '  warnings.warn(\\n')\n",
      "(\"/home/admin/eva/test_eva_db/lib/python3.9/site-packages/torchvision/models/_utils.py:223: UserWarning: Arguments other than a weight enum or `None` for 'weights' are deprecated since 0.13 and may be removed in the future. The current behavior is equivalent to passing `weights=ResNet18_Weights.IMAGENET1K_V1`. You can also use `weights=ResNet18_Weights.DEFAULT` to get the most up-to-date weights.\\n\", '  warnings.warn(msg)\\n', 'Downloading: \"https://download.pytorch.org/models/resnet18-f37072fd.pth\" to /home/admin/.cache/torch/hub/checkpoints/resnet18-f37072fd.pth\\n')\n",
      "('\\n', '  0%|          | 0.00/44.7M [00:00<?, ?B/s]\\n', ' 24%|██▎       | 10.6M/44.7M [00:00<00:00, 111MB/s]\\n')\n",
      "(' 47%|████▋     | 21.2M/44.7M [00:00<00:00, 98.1MB/s]\\n', ' 69%|██████▊   | 30.6M/44.7M [00:00<00:00, 90.7MB/s]\\n', ' 93%|█████████▎| 41.4M/44.7M [00:00<00:00, 98.5MB/s]\\n')\n",
      "('100%|██████████| 44.7M/44.7M [00:00<00:00, 96.3MB/s]\\n', '04-12-2023 03:04:09 WARNING[create_udf_executor:create_udf_executor.py:exec:0101] UDF FaceDetector already exists, nothing added.\\n', \"/home/admin/eva/test_eva_db/lib/python3.9/site-packages/torchvision/models/_utils.py:208: UserWarning: The parameter 'pretrained' is deprecated since 0.13 and may be removed in the future, please use 'weights' instead.\\n\")\n",
      "('  warnings.warn(\\n', \"/home/admin/eva/test_eva_db/lib/python3.9/site-packages/torchvision/models/_utils.py:223: UserWarning: Arguments other than a weight enum or `None` for 'weights' are deprecated since 0.13 and may be removed in the future. The current behavior is equivalent to passing `weights=ResNet18_Weights.IMAGENET1K_V1`. You can also use `weights=ResNet18_Weights.DEFAULT` to get the most up-to-date weights.\\n\", '  warnings.warn(msg)\\n')\n",
      "('04-12-2023 03:04:27 WARNING[create_udf_executor:create_udf_executor.py:exec:0101] UDF FastRCNNObjectDetector already exists, nothing added.\\n', '04-12-2023 03:04:27 WARNING[create_udf_executor:create_udf_executor.py:exec:0101] UDF ArrayCount already exists, nothing added.\\n', '04-12-2023 03:04:27 WARNING[create_udf_executor:create_udf_executor.py:exec:0101] UDF Crop already exists, nothing added.\\n')\n",
      "('04-12-2023 03:04:27 WARNING[create_udf_executor:create_udf_executor.py:exec:0101] UDF Open already exists, nothing added.\\n', '04-12-2023 03:04:27 WARNING[create_udf_executor:create_udf_executor.py:exec:0101] UDF Similarity already exists, nothing added.\\n', '04-12-2023 03:04:27 WARNING[create_udf_executor:create_udf_executor.py:exec:0101] UDF YoloV5 already exists, nothing added.\\n')\n",
      "('04-12-2023 03:04:41 ERROR [drop_executor:drop_executor.py:exec:0049] Table: ASL_ACTIONS does not exist\\n', 'NoneType: None\\n', '04-12-2023 03:04:41 ERROR [plan_executor:plan_executor.py:execute_plan:0175] Table: ASL_ACTIONS does not exist\\n')\n",
      "('04-12-2023 03:04:41 WARNING[command_handler:command_handler.py:handle_request:0075] Table: ASL_ACTIONS does not exist\\n', '04-12-2023 03:04:41 ERROR [drop_udf_executor:drop_udf_executor.py:exec:0042] UDF ASLActionRecognition does not exist, therefore cannot be dropped.\\n', 'NoneType: None\\n')\n",
      "('04-12-2023 03:04:41 ERROR [plan_executor:plan_executor.py:execute_plan:0175] UDF ASLActionRecognition does not exist, therefore cannot be dropped.\\n', '04-12-2023 03:04:41 WARNING[command_handler:command_handler.py:handle_request:0075] UDF ASLActionRecognition does not exist, therefore cannot be dropped.\\n', '04-12-2023 03:04:52 WARNING[create_udf_executor:create_udf_executor.py:exec:0101] UDF FastRCNNObjectDetector already exists, nothing added.\\n')\n",
      "('04-12-2023 03:04:52 WARNING[create_udf_executor:create_udf_executor.py:exec:0101] UDF ArrayCount already exists, nothing added.\\n', '04-12-2023 03:04:52 WARNING[create_udf_executor:create_udf_executor.py:exec:0101] UDF Crop already exists, nothing added.\\n', '04-12-2023 03:04:52 WARNING[create_udf_executor:create_udf_executor.py:exec:0101] UDF Open already exists, nothing added.\\n')\n",
      "('04-12-2023 03:04:52 WARNING[create_udf_executor:create_udf_executor.py:exec:0101] UDF Similarity already exists, nothing added.\\n', '04-12-2023 03:04:52 WARNING[create_udf_executor:create_udf_executor.py:exec:0101] UDF YoloV5 already exists, nothing added.\\n', '04-12-2023 03:05:11 ERROR [load_multimedia_executor:load_multimedia_executor.py:exec:0106] Load VIDEO failed: encountered unexpected error Load VIDEO failed due to no valid files found on path bddtest/videos/bddtest_00a2e3ca5c856cde.mp4\\n')\n",
      "('04-12-2023 03:05:11 ERROR [plan_executor:plan_executor.py:execute_plan:0175] Load VIDEO failed: encountered unexpected error Load VIDEO failed due to no valid files found on path bddtest/videos/bddtest_00a2e3ca5c856cde.mp4\\n', '04-12-2023 03:05:11 WARNING[command_handler:command_handler.py:handle_request:0075] Load VIDEO failed: encountered unexpected error Load VIDEO failed due to no valid files found on path bddtest/videos/bddtest_00a2e3ca5c856cde.mp4\\n', '04-12-2023 03:05:11 ERROR [load_multimedia_executor:load_multimedia_executor.py:exec:0106] Load VIDEO failed: encountered unexpected error Load VIDEO failed due to no valid files found on path bddtest/videos/bddtest_00a395fed60c0b47.mp4\\n')\n",
      "('04-12-2023 03:05:11 ERROR [plan_executor:plan_executor.py:execute_plan:0175] Load VIDEO failed: encountered unexpected error Load VIDEO failed due to no valid files found on path bddtest/videos/bddtest_00a395fed60c0b47.mp4\\n', '04-12-2023 03:05:11 WARNING[command_handler:command_handler.py:handle_request:0075] Load VIDEO failed: encountered unexpected error Load VIDEO failed due to no valid files found on path bddtest/videos/bddtest_00a395fed60c0b47.mp4\\n', '04-12-2023 03:05:11 ERROR [plan_executor:plan_executor.py:execute_plan:0175] The dataset file could not be found. Please verify that the file exists in the specified path.\\n')\n",
      "('04-12-2023 03:05:11 WARNING[command_handler:command_handler.py:handle_request:0075] The dataset file could not be found. Please verify that the file exists in the specified path.\\n', '04-12-2023 03:05:11 ERROR [plan_executor:plan_executor.py:execute_plan:0175] The dataset file could not be found. Please verify that the file exists in the specified path.\\n', '04-12-2023 03:05:11 WARNING[command_handler:command_handler.py:handle_request:0075] The dataset file could not be found. Please verify that the file exists in the specified path.\\n')\n",
      "('04-12-2023 03:05:11 ERROR [binder_utils:binder_utils.py:bind_table_info:0075] bddtest_1 does not exist. Create the table using CREATE TABLE.\\n', '04-12-2023 03:05:11 WARNING[command_handler:command_handler.py:handle_request:0075] bddtest_1 does not exist. Create the table using CREATE TABLE.\\n', 'YOLOv5 🚀 2023-4-12 Python-3.9.2 torch-2.0.0+cu117 CPU\\n')\n",
      "('\\n', 'Fusing layers... \\n', 'YOLOv5s summary: 213 layers, 7225885 parameters, 0 gradients\\n')\n",
      "('Adding AutoShape... \\n', '04-12-2023 20:53:29 WARNING[create_udf_executor:create_udf_executor.py:exec:0101] UDF FastRCNNObjectDetector already exists, nothing added.\\n', '04-12-2023 20:53:29 WARNING[create_udf_executor:create_udf_executor.py:exec:0101] UDF ArrayCount already exists, nothing added.\\n')\n",
      "('04-12-2023 20:53:29 WARNING[create_udf_executor:create_udf_executor.py:exec:0101] UDF Crop already exists, nothing added.\\n', '04-12-2023 20:53:29 WARNING[create_udf_executor:create_udf_executor.py:exec:0101] UDF Open already exists, nothing added.\\n', '04-12-2023 20:53:29 WARNING[create_udf_executor:create_udf_executor.py:exec:0101] UDF Similarity already exists, nothing added.\\n')\n",
      "('04-12-2023 20:53:29 WARNING[create_udf_executor:create_udf_executor.py:exec:0101] UDF YoloV5 already exists, nothing added.\\n', '04-12-2023 20:53:40 ERROR [drop_executor:drop_executor.py:exec:0049] Table: MNISTVid does not exist\\n', 'NoneType: None\\n')\n",
      "('04-12-2023 20:53:40 ERROR [plan_executor:plan_executor.py:execute_plan:0175] Table: MNISTVid does not exist\\n', '04-12-2023 20:53:40 WARNING[command_handler:command_handler.py:handle_request:0075] Table: MNISTVid does not exist\\n', '04-12-2023 20:53:48 WARNING[create_udf_executor:create_udf_executor.py:exec:0101] UDF FastRCNNObjectDetector already exists, nothing added.\\n')\n",
      "('04-12-2023 20:53:48 WARNING[create_udf_executor:create_udf_executor.py:exec:0101] UDF ArrayCount already exists, nothing added.\\n', '04-12-2023 20:53:48 WARNING[create_udf_executor:create_udf_executor.py:exec:0101] UDF Crop already exists, nothing added.\\n', '04-12-2023 20:53:48 WARNING[create_udf_executor:create_udf_executor.py:exec:0101] UDF Open already exists, nothing added.\\n')\n",
      "('04-12-2023 20:53:48 WARNING[create_udf_executor:create_udf_executor.py:exec:0101] UDF Similarity already exists, nothing added.\\n', '04-12-2023 20:53:48 WARNING[create_udf_executor:create_udf_executor.py:exec:0101] UDF YoloV5 already exists, nothing added.\\n', '04-12-2023 20:53:59 ERROR [drop_executor:drop_executor.py:exec:0049] Table: ObjectDetectionVideos does not exist\\n')\n",
      "('NoneType: None\\n', '04-12-2023 20:53:59 ERROR [plan_executor:plan_executor.py:execute_plan:0175] Table: ObjectDetectionVideos does not exist\\n', '04-12-2023 20:53:59 WARNING[command_handler:command_handler.py:handle_request:0075] Table: ObjectDetectionVideos does not exist\\n')\n",
      "('04-12-2023 20:53:59 WARNING[create_udf_executor:create_udf_executor.py:exec:0101] UDF YoloV5 already exists, nothing added.\\n', 'YOLOv5 🚀 2023-4-12 Python-3.9.2 torch-2.0.0+cu117 CPU\\n', '\\n')\n",
      "('Fusing layers... \\n', 'YOLOv5s summary: 213 layers, 7225885 parameters, 0 gradients\\n', 'Adding AutoShape... \\n')\n",
      "('04-12-2023 20:54:12 WARNING[create_udf_executor:create_udf_executor.py:exec:0101] UDF FastRCNNObjectDetector already exists, nothing added.\\n', '04-12-2023 20:54:12 WARNING[create_udf_executor:create_udf_executor.py:exec:0101] UDF ArrayCount already exists, nothing added.\\n', '04-12-2023 20:54:12 WARNING[create_udf_executor:create_udf_executor.py:exec:0101] UDF Crop already exists, nothing added.\\n')\n",
      "('04-12-2023 20:54:12 WARNING[create_udf_executor:create_udf_executor.py:exec:0101] UDF Open already exists, nothing added.\\n', '04-12-2023 20:54:12 WARNING[create_udf_executor:create_udf_executor.py:exec:0101] UDF Similarity already exists, nothing added.\\n', 'YOLOv5 🚀 2023-4-12 Python-3.9.2 torch-2.0.0+cu117 CPU\\n')\n",
      "('\\n', 'Fusing layers... \\n', 'YOLOv5s summary: 213 layers, 7225885 parameters, 0 gradients\\n')\n",
      "('Adding AutoShape... \\n', '04-12-2023 20:54:24 ERROR [drop_executor:drop_executor.py:exec:0049] Table: HAPPY does not exist\\n', 'NoneType: None\\n')\n",
      "('04-12-2023 20:54:24 ERROR [plan_executor:plan_executor.py:execute_plan:0175] Table: HAPPY does not exist\\n', '04-12-2023 20:54:24 WARNING[command_handler:command_handler.py:handle_request:0075] Table: HAPPY does not exist\\n', '04-12-2023 20:54:40 WARNING[create_udf_executor:create_udf_executor.py:exec:0101] UDF FastRCNNObjectDetector already exists, nothing added.\\n')\n",
      "('04-12-2023 20:54:40 WARNING[create_udf_executor:create_udf_executor.py:exec:0101] UDF ArrayCount already exists, nothing added.\\n', '04-12-2023 20:54:40 WARNING[create_udf_executor:create_udf_executor.py:exec:0101] UDF Crop already exists, nothing added.\\n', '04-12-2023 20:54:40 WARNING[create_udf_executor:create_udf_executor.py:exec:0101] UDF Open already exists, nothing added.\\n')\n",
      "('04-12-2023 20:54:40 WARNING[create_udf_executor:create_udf_executor.py:exec:0101] UDF Similarity already exists, nothing added.\\n', '04-12-2023 20:54:40 WARNING[create_udf_executor:create_udf_executor.py:exec:0101] UDF YoloV5 already exists, nothing added.\\n', '04-12-2023 20:54:53 ERROR [drop_executor:drop_executor.py:exec:0049] Table: TIKTOK does not exist\\n')\n",
      "('NoneType: None\\n', '04-12-2023 20:54:53 ERROR [plan_executor:plan_executor.py:execute_plan:0175] Table: TIKTOK does not exist\\n', '04-12-2023 20:54:53 WARNING[command_handler:command_handler.py:handle_request:0075] Table: TIKTOK does not exist\\n')\n",
      "('04-12-2023 20:54:53 ERROR [drop_udf_executor:drop_udf_executor.py:exec:0042] UDF GenderCNN does not exist, therefore cannot be dropped.\\n', 'NoneType: None\\n', '04-12-2023 20:54:53 ERROR [plan_executor:plan_executor.py:execute_plan:0175] UDF GenderCNN does not exist, therefore cannot be dropped.\\n')\n",
      "('04-12-2023 20:54:53 WARNING[command_handler:command_handler.py:handle_request:0075] UDF GenderCNN does not exist, therefore cannot be dropped.\\n', \"/home/admin/eva/test_eva_db/lib/python3.9/site-packages/torchvision/models/_utils.py:208: UserWarning: The parameter 'pretrained' is deprecated since 0.13 and may be removed in the future, please use 'weights' instead.\\n\", '  warnings.warn(\\n')\n",
      "(\"/home/admin/eva/test_eva_db/lib/python3.9/site-packages/torchvision/models/_utils.py:223: UserWarning: Arguments other than a weight enum or `None` for 'weights' are deprecated since 0.13 and may be removed in the future. The current behavior is equivalent to passing `weights=ResNet18_Weights.IMAGENET1K_V1`. You can also use `weights=ResNet18_Weights.DEFAULT` to get the most up-to-date weights.\\n\", '  warnings.warn(msg)\\n', '04-12-2023 20:54:54 WARNING[create_udf_executor:create_udf_executor.py:exec:0101] UDF FaceDetector already exists, nothing added.\\n')\n",
      "(\"/home/admin/eva/test_eva_db/lib/python3.9/site-packages/torchvision/models/_utils.py:208: UserWarning: The parameter 'pretrained' is deprecated since 0.13 and may be removed in the future, please use 'weights' instead.\\n\", '  warnings.warn(\\n', \"/home/admin/eva/test_eva_db/lib/python3.9/site-packages/torchvision/models/_utils.py:223: UserWarning: Arguments other than a weight enum or `None` for 'weights' are deprecated since 0.13 and may be removed in the future. The current behavior is equivalent to passing `weights=ResNet18_Weights.IMAGENET1K_V1`. You can also use `weights=ResNet18_Weights.DEFAULT` to get the most up-to-date weights.\\n\")\n",
      "('  warnings.warn(msg)\\n', '04-12-2023 20:55:12 WARNING[create_udf_executor:create_udf_executor.py:exec:0101] UDF FastRCNNObjectDetector already exists, nothing added.\\n', '04-12-2023 20:55:12 WARNING[create_udf_executor:create_udf_executor.py:exec:0101] UDF ArrayCount already exists, nothing added.\\n')\n",
      "('04-12-2023 20:55:12 WARNING[create_udf_executor:create_udf_executor.py:exec:0101] UDF Crop already exists, nothing added.\\n', '04-12-2023 20:55:12 WARNING[create_udf_executor:create_udf_executor.py:exec:0101] UDF Open already exists, nothing added.\\n', '04-12-2023 20:55:12 WARNING[create_udf_executor:create_udf_executor.py:exec:0101] UDF Similarity already exists, nothing added.\\n')\n",
      "('04-12-2023 20:55:12 WARNING[create_udf_executor:create_udf_executor.py:exec:0101] UDF YoloV5 already exists, nothing added.\\n', '04-12-2023 20:55:24 ERROR [drop_executor:drop_executor.py:exec:0049] Table: ASL_ACTIONS does not exist\\n', 'NoneType: None\\n')\n",
      "('04-12-2023 20:55:24 ERROR [plan_executor:plan_executor.py:execute_plan:0175] Table: ASL_ACTIONS does not exist\\n', '04-12-2023 20:55:24 WARNING[command_handler:command_handler.py:handle_request:0075] Table: ASL_ACTIONS does not exist\\n', '04-12-2023 20:55:24 ERROR [drop_udf_executor:drop_udf_executor.py:exec:0042] UDF ASLActionRecognition does not exist, therefore cannot be dropped.\\n')\n",
      "('NoneType: None\\n', '04-12-2023 20:55:24 ERROR [plan_executor:plan_executor.py:execute_plan:0175] UDF ASLActionRecognition does not exist, therefore cannot be dropped.\\n', '04-12-2023 20:55:24 WARNING[command_handler:command_handler.py:handle_request:0075] UDF ASLActionRecognition does not exist, therefore cannot be dropped.\\n')\n"
     ]
    },
    {
     "name": "stdout",
     "output_type": "stream",
     "text": [
      "Note: you may need to restart the kernel to use updated packages.\n"
     ]
    }
   ],
   "source": [
    "!wget -nc \"https://raw.githubusercontent.com/georgia-tech-db/eva/master/tutorials/00-start-eva-server.ipynb\"\n",
    "%run 00-start-eva-server.ipynb\n",
    "cursor = connect_to_server()"
   ]
  },
  {
   "cell_type": "code",
   "execution_count": 2,
   "id": "c2c02070-1635-4b09-9916-c7ae828eeda2",
   "metadata": {
    "execution": {
     "iopub.execute_input": "2023-04-12T20:55:45.567470Z",
     "iopub.status.busy": "2023-04-12T20:55:45.566917Z",
     "iopub.status.idle": "2023-04-12T20:55:45.573896Z",
     "shell.execute_reply": "2023-04-12T20:55:45.572959Z"
    }
   },
   "outputs": [],
   "source": [
    "import sys\n",
    "sys.path.insert(0,'..')\n",
    "from eva.server.db_api import connect\n",
    "\n",
    "import nest_asyncio\n",
    "nest_asyncio.apply()\n",
    "connection = connect(host = '0.0.0.0', port = 5432) # hostname, port of the server where EVADB is running\n",
    "\n",
    "cursor = connection.cursor()"
   ]
  },
  {
   "attachments": {},
   "cell_type": "markdown",
   "id": "ca54c9e5-6ec9-4aea-b421-ad1fa3ddcdd1",
   "metadata": {},
   "source": [
    "### Video Files\n",
    " - Download a subset of the Berkeley Deepdrive dataset from Dropbox"
   ]
  },
  {
   "cell_type": "code",
   "execution_count": 3,
   "id": "62def7ce-3f83-4fa0-b9fd-2e553b3919ba",
   "metadata": {
    "execution": {
     "iopub.execute_input": "2023-04-12T20:55:45.577632Z",
     "iopub.status.busy": "2023-04-12T20:55:45.576980Z",
     "iopub.status.idle": "2023-04-12T20:55:46.897753Z",
     "shell.execute_reply": "2023-04-12T20:55:46.896703Z"
    }
   },
   "outputs": [
    {
     "name": "stdout",
     "output_type": "stream",
     "text": [
      "File ‘bddtest.zip’ already there; not retrieving.\r\n",
      "\r\n"
     ]
    },
    {
     "name": "stdout",
     "output_type": "stream",
     "text": [
      "/bin/bash: line 1: unzip: command not found\r\n"
     ]
    }
   ],
   "source": [
    "# sample dataset of 2 videos\n",
    "!wget -nc https://www.dropbox.com/s/kg1q69ijbhjfecw/bddtest.zip\n",
    "\n",
    "# unzip\n",
    "!unzip -n bddtest.zip"
   ]
  },
  {
   "attachments": {},
   "cell_type": "markdown",
   "id": "463ce1f8-8333-4e11-ab0a-dda6d9bb067b",
   "metadata": {},
   "source": [
    "## Load 2 BDD videos"
   ]
  },
  {
   "cell_type": "code",
   "execution_count": 4,
   "id": "95b1e0a4-d9f5-40f2-830f-69c8c9f21172",
   "metadata": {
    "execution": {
     "iopub.execute_input": "2023-04-12T20:55:46.901662Z",
     "iopub.status.busy": "2023-04-12T20:55:46.901353Z",
     "iopub.status.idle": "2023-04-12T20:55:46.922753Z",
     "shell.execute_reply": "2023-04-12T20:55:46.921936Z"
    },
    "tags": []
   },
   "outputs": [
    {
     "name": "stdout",
     "output_type": "stream",
     "text": [
      "@status: ResponseStatus.FAIL\n",
      "@batch: \n",
      " None\n",
      "@error: Load VIDEO failed: encountered unexpected error Load VIDEO failed due to no valid files found on path bddtest/videos/bddtest_00a2e3ca5c856cde.mp4\n",
      "@status: ResponseStatus.FAIL\n",
      "@batch: \n",
      " None\n",
      "@error: Load VIDEO failed: encountered unexpected error Load VIDEO failed due to no valid files found on path bddtest/videos/bddtest_00a395fed60c0b47.mp4\n"
     ]
    }
   ],
   "source": [
    "cursor.execute('LOAD VIDEO \"./bddtest/videos/bddtest_00a2e3ca5c856cde.mp4\" INTO bddtest_1;')\n",
    "response = cursor.fetch_all()\n",
    "print(response)\n",
    "\n",
    "cursor.execute('LOAD VIDEO \"./bddtest/videos/bddtest_00a395fed60c0b47.mp4\" INTO bddtest_2;')\n",
    "response = cursor.fetch_all()\n",
    "print(response)"
   ]
  },
  {
   "attachments": {},
   "cell_type": "markdown",
   "id": "d7b7c9d5-2eae-4d57-a3f1-78792fca0b83",
   "metadata": {
    "tags": []
   },
   "source": [
    "## Create a BDD Meta-data Table"
   ]
  },
  {
   "cell_type": "code",
   "execution_count": 5,
   "id": "8897b9bb-0993-4eb0-959d-6484a651a90f",
   "metadata": {
    "execution": {
     "iopub.execute_input": "2023-04-12T20:55:46.926358Z",
     "iopub.status.busy": "2023-04-12T20:55:46.925690Z",
     "iopub.status.idle": "2023-04-12T20:55:47.041783Z",
     "shell.execute_reply": "2023-04-12T20:55:47.040843Z"
    },
    "tags": []
   },
   "outputs": [
    {
     "name": "stdout",
     "output_type": "stream",
     "text": [
      "@status: ResponseStatus.SUCCESS\n",
      "@batch: \n",
      " Empty DataFrame\n",
      "Columns: []\n",
      "Index: []\n",
      "@query_time: 0.10775238299993362\n"
     ]
    }
   ],
   "source": [
    "create_table_query = f\"\"\" \n",
    "\n",
    "    CREATE TABLE IF NOT EXISTS bddtestmeta(\n",
    "        id INTEGER UNIQUE,\n",
    "        frame_id INTEGER,\n",
    "        video_id INTEGER,\n",
    "        dataset_name TEXT(30),\n",
    "        label TEXT(30),\n",
    "        bbox NDARRAY FLOAT32(4),\n",
    "        object_id INTEGER\n",
    "    );\n",
    "    \n",
    "    \"\"\"\n",
    "\n",
    "cursor.execute(create_table_query)\n",
    "response = cursor.fetch_all()\n",
    "print(response)"
   ]
  },
  {
   "attachments": {},
   "cell_type": "markdown",
   "id": "574f8c04-c934-4654-8558-576e34e8735d",
   "metadata": {},
   "source": [
    "## Load the 2 corresponding CSV files associated with the 2 previously loaded videos"
   ]
  },
  {
   "cell_type": "code",
   "execution_count": 6,
   "id": "cf8415ac-f9e0-4bee-b2aa-b4e104b10a4b",
   "metadata": {
    "execution": {
     "iopub.execute_input": "2023-04-12T20:55:47.045199Z",
     "iopub.status.busy": "2023-04-12T20:55:47.044914Z",
     "iopub.status.idle": "2023-04-12T20:55:47.067068Z",
     "shell.execute_reply": "2023-04-12T20:55:47.066186Z"
    }
   },
   "outputs": [
    {
     "name": "stdout",
     "output_type": "stream",
     "text": [
      "@status: ResponseStatus.FAIL\n",
      "@batch: \n",
      " None\n",
      "@error: The dataset file could not be found. Please verify that the file exists in the specified path.\n",
      "@status: ResponseStatus.FAIL\n",
      "@batch: \n",
      " None\n",
      "@error: The dataset file could not be found. Please verify that the file exists in the specified path.\n"
     ]
    }
   ],
   "source": [
    "cursor.execute(\"LOAD CSV 'bddtest/info/bddtest_00a2e3ca5c856cde.csv' INTO bddtestmeta;\")\n",
    "response = cursor.fetch_all()\n",
    "print(response)\n",
    "\n",
    "cursor.execute(\"LOAD CSV 'bddtest/info/bddtest_00a395fed60c0b47.csv' INTO bddtestmeta;\")\n",
    "response = cursor.fetch_all()\n",
    "print(response)"
   ]
  },
  {
   "attachments": {},
   "cell_type": "markdown",
   "id": "8ace1640-fb0c-4e70-a595-f7e9befdf757",
   "metadata": {},
   "source": [
    "## Run a Query over the Video dataset\n"
   ]
  },
  {
   "cell_type": "code",
   "execution_count": 7,
   "id": "69e378d4-4d30-47cf-84c8-8fe56afe517e",
   "metadata": {
    "execution": {
     "iopub.execute_input": "2023-04-12T20:55:47.070441Z",
     "iopub.status.busy": "2023-04-12T20:55:47.069865Z",
     "iopub.status.idle": "2023-04-12T20:55:47.090443Z",
     "shell.execute_reply": "2023-04-12T20:55:47.089584Z"
    }
   },
   "outputs": [
    {
     "name": "stdout",
     "output_type": "stream",
     "text": [
      "@status: ResponseStatus.FAIL\n",
      "@batch: \n",
      " None\n",
      "@error: bddtest_1 does not exist. Create the table using CREATE TABLE.\n"
     ]
    }
   ],
   "source": [
    "cursor.execute(\"\"\"SELECT id, FastRCNNObjectDetector(data) \n",
    "                  FROM bddtest_1 \n",
    "                  WHERE id < 20;\"\"\")\n",
    "response = cursor.fetch_all()\n",
    "print(response)"
   ]
  },
  {
   "attachments": {},
   "cell_type": "markdown",
   "id": "55551f98-6e3f-4088-a02f-6852b56dfc63",
   "metadata": {},
   "source": [
    "## Run a query over the Meta-data Table"
   ]
  },
  {
   "cell_type": "code",
   "execution_count": 8,
   "id": "2990038a-00ec-4d36-aae2-82a789f2389a",
   "metadata": {
    "execution": {
     "iopub.execute_input": "2023-04-12T20:55:47.093541Z",
     "iopub.status.busy": "2023-04-12T20:55:47.093279Z",
     "iopub.status.idle": "2023-04-12T20:55:47.119843Z",
     "shell.execute_reply": "2023-04-12T20:55:47.118948Z"
    }
   },
   "outputs": [
    {
     "name": "stdout",
     "output_type": "stream",
     "text": [
      "@status: ResponseStatus.SUCCESS\n",
      "@batch: \n",
      " Empty DataFrame\n",
      "Columns: []\n",
      "Index: []\n",
      "@query_time: 0.02111088599986033\n"
     ]
    }
   ],
   "source": [
    "cursor.execute(\"\"\"SELECT *\n",
    "                  FROM bddtestmeta\n",
    "                  WHERE bddtestmeta.video_id = 4;\"\"\")\n",
    "response = cursor.fetch_all()\n",
    "print(response)"
   ]
  }
 ],
 "metadata": {
  "kernelspec": {
   "display_name": "Python 3 (ipykernel)",
   "language": "python",
   "name": "python3"
  },
  "language_info": {
   "codemirror_mode": {
    "name": "ipython",
    "version": 3
   },
   "file_extension": ".py",
   "mimetype": "text/x-python",
   "name": "python",
   "nbconvert_exporter": "python",
   "pygments_lexer": "ipython3",
   "version": "3.9.2"
  }
 },
 "nbformat": 4,
 "nbformat_minor": 5
}
