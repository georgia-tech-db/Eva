{
 "cells": [
  {
   "attachments": {},
   "cell_type": "markdown",
   "id": "6fdba594",
   "metadata": {},
   "source": [
    "# Similarity PDF Query Tutorial"
   ]
  },
  {
   "attachments": {},
   "cell_type": "markdown",
   "id": "05999c63",
   "metadata": {},
   "source": [
    "In this tutorial, we demonstrate how to load a PDF and query it."
   ]
  },
  {
   "attachments": {},
   "cell_type": "markdown",
   "id": "40100c9c",
   "metadata": {},
   "source": [
    "<table align=\"left\">\n",
    "  <td>\n",
    "    <a target=\"_blank\" href=\"https://colab.research.google.com/github/georgia-tech-db/eva/blob/master/tutorials/13-privategpt.ipynb\"><img src=\"https://www.tensorflow.org/images/colab_logo_32px.png\" /> Run on Google Colab</a>\n",
    "  </td>\n",
    "  <td>\n",
    "    <a target=\"_blank\" href=\"https://github.com/georgia-tech-db/eva/blob/master/tutorials/13-privategpt.ipynb\"><img src=\"https://www.tensorflow.org/images/GitHub-Mark-32px.png\" /> View source on GitHub</a>\n",
    "  </td>\n",
    "  <td>\n",
    "    <a target=\"_blank\" href=\"https://github.com/georgia-tech-db/eva/raw/master/tutorials/13-privategpt.ipynb\"><img src=\"https://www.tensorflow.org/images/download_logo_32px.png\" /> Download notebook</a>\n",
    "  </td>\n",
    "</table>"
   ]
  },
  {
   "attachments": {},
   "cell_type": "markdown",
   "id": "d53ef889",
   "metadata": {},
   "source": [
    "### Start EvaDB server\n",
    "\n"
   ]
  },
  {
   "cell_type": "code",
   "execution_count": 1,
   "id": "b6b7f61d",
   "metadata": {
    "execution": {
     "iopub.execute_input": "2023-06-08T04:33:00.337218Z",
     "iopub.status.busy": "2023-06-08T04:33:00.336709Z",
     "iopub.status.idle": "2023-06-08T04:33:04.283983Z",
     "shell.execute_reply": "2023-06-08T04:33:04.282882Z"
    }
   },
   "outputs": [],
   "source": [
    "from evadb.interfaces.relational.db import connect\n",
    "conn = connect()\n",
    "cursor = conn.cursor()"
   ]
  },
  {
   "attachments": {},
   "cell_type": "markdown",
   "id": "cfda671a",
   "metadata": {},
   "source": [
    "### Download PDFs"
   ]
  },
  {
   "cell_type": "code",
   "execution_count": 2,
   "id": "1ee8b17b",
   "metadata": {
    "execution": {
     "iopub.execute_input": "2023-06-08T04:33:04.289355Z",
     "iopub.status.busy": "2023-06-08T04:33:04.288916Z",
     "iopub.status.idle": "2023-06-08T04:33:08.066053Z",
     "shell.execute_reply": "2023-06-08T04:33:08.064317Z"
    }
   },
   "outputs": [
    {
     "name": "stdout",
     "output_type": "stream",
     "text": [
      "--2023-06-08 00:33:04--  https://www.dropbox.com/s/6jdcn33xizdtl9k/layout-parser-paper.pdf\r\n",
      "Resolving www.dropbox.com (www.dropbox.com)... "
     ]
    },
    {
     "name": "stdout",
     "output_type": "stream",
     "text": [
      "162.125.9.18, 2620:100:601f:18::a27d:912\r\n",
      "Connecting to www.dropbox.com (www.dropbox.com)|162.125.9.18|:443... connected.\r\n",
      "HTTP request sent, awaiting response... "
     ]
    },
    {
     "name": "stdout",
     "output_type": "stream",
     "text": [
      "302 Found\r\n",
      "Location: /s/raw/6jdcn33xizdtl9k/layout-parser-paper.pdf [following]\r\n",
      "--2023-06-08 00:33:05--  https://www.dropbox.com/s/raw/6jdcn33xizdtl9k/layout-parser-paper.pdf\r\n",
      "Reusing existing connection to www.dropbox.com:443.\r\n",
      "HTTP request sent, awaiting response... "
     ]
    },
    {
     "name": "stdout",
     "output_type": "stream",
     "text": [
      "302 Found\r\n",
      "Location: https://ucad57ff684b5dec838c0ffe9c84.dl.dropboxusercontent.com/cd/0/inline/B9ljG1NyIoayykdR-h689dkxr1xua5xJCK7aT6X0uVJc50H6cvf1z04-uy7rOZc_BsEETTG7ZUI1AudyeQabjEUHTF6knI39ScuEQZqDbTnrqzscJ_rCn1a2qvGH_fADzTvMukgb4NEzNlFKiPGkPr_6z6aYT8Y4tbrr0j8u412h1g/file# [following]\r\n",
      "--2023-06-08 00:33:05--  https://ucad57ff684b5dec838c0ffe9c84.dl.dropboxusercontent.com/cd/0/inline/B9ljG1NyIoayykdR-h689dkxr1xua5xJCK7aT6X0uVJc50H6cvf1z04-uy7rOZc_BsEETTG7ZUI1AudyeQabjEUHTF6knI39ScuEQZqDbTnrqzscJ_rCn1a2qvGH_fADzTvMukgb4NEzNlFKiPGkPr_6z6aYT8Y4tbrr0j8u412h1g/file\r\n",
      "Resolving ucad57ff684b5dec838c0ffe9c84.dl.dropboxusercontent.com (ucad57ff684b5dec838c0ffe9c84.dl.dropboxusercontent.com)... "
     ]
    },
    {
     "name": "stdout",
     "output_type": "stream",
     "text": [
      "162.125.9.15, 2620:100:601f:15::a27d:90f\r\n",
      "Connecting to ucad57ff684b5dec838c0ffe9c84.dl.dropboxusercontent.com (ucad57ff684b5dec838c0ffe9c84.dl.dropboxusercontent.com)|162.125.9.15|:443... "
     ]
    },
    {
     "name": "stdout",
     "output_type": "stream",
     "text": [
      "connected.\r\n",
      "HTTP request sent, awaiting response... "
     ]
    },
    {
     "name": "stdout",
     "output_type": "stream",
     "text": [
      "302 Found\r\n",
      "Location: /cd/0/inline2/B9kXVe0kIGx8DBFYJThIo3FSLCdlMJBiqpdnFNKAajQ5v7iB6DF_e-eAOe7Xh-zDdHMuzTDRPteatXy_SODu68F_ogtXiTZdmSzJjIzGi8N-bbT1DgqHBDEZ81dQv2IkxMe91GgIr7p963Ifb19FDdoEIsDbSsd8thFdJ1OJxdZwNLYBml-y7Lb3Bxa16WfrMdw2mNsCPVdRt8loHzJEfnZKg3f5-en8PeQ32FiGFUy2fIba3VJgUJSt5kgWMKjA0i9SKTFZ_rvAPTT11-SI2vPIRoXVMJtCeyfSQ_xLs6tN6O1L0qkdXKh0u-8nW874d2z6HeFm1T74pkYTyPo3w64rdrBvr5N6bSFswALcnbnInrJwwm17FeVnSIl1iANPH1bxnaDJUI9waNUpFmuYVdWGVNbidQmbovKlnkdKKkNtqQ/file [following]\r\n",
      "--2023-06-08 00:33:06--  https://ucad57ff684b5dec838c0ffe9c84.dl.dropboxusercontent.com/cd/0/inline2/B9kXVe0kIGx8DBFYJThIo3FSLCdlMJBiqpdnFNKAajQ5v7iB6DF_e-eAOe7Xh-zDdHMuzTDRPteatXy_SODu68F_ogtXiTZdmSzJjIzGi8N-bbT1DgqHBDEZ81dQv2IkxMe91GgIr7p963Ifb19FDdoEIsDbSsd8thFdJ1OJxdZwNLYBml-y7Lb3Bxa16WfrMdw2mNsCPVdRt8loHzJEfnZKg3f5-en8PeQ32FiGFUy2fIba3VJgUJSt5kgWMKjA0i9SKTFZ_rvAPTT11-SI2vPIRoXVMJtCeyfSQ_xLs6tN6O1L0qkdXKh0u-8nW874d2z6HeFm1T74pkYTyPo3w64rdrBvr5N6bSFswALcnbnInrJwwm17FeVnSIl1iANPH1bxnaDJUI9waNUpFmuYVdWGVNbidQmbovKlnkdKKkNtqQ/file\r\n",
      "Reusing existing connection to ucad57ff684b5dec838c0ffe9c84.dl.dropboxusercontent.com:443.\r\n",
      "HTTP request sent, awaiting response... "
     ]
    },
    {
     "name": "stdout",
     "output_type": "stream",
     "text": [
      "200 OK\r\n",
      "Length: 4686220 (4.5M) [application/pdf]\r\n",
      "Saving to: ‘layout-parser-paper.pdf’\r\n",
      "\r\n",
      "\r",
      "layout-parser-paper   0%[                    ]       0  --.-KB/s               \r",
      "layout-parser-paper 100%[===================>]   4.47M  --.-KB/s    in 0.02s   \r\n",
      "\r\n",
      "2023-06-08 00:33:06 (205 MB/s) - ‘layout-parser-paper.pdf’ saved [4686220/4686220]\r\n",
      "\r\n"
     ]
    },
    {
     "name": "stdout",
     "output_type": "stream",
     "text": [
      "--2023-06-08 00:33:06--  https://www.dropbox.com/s/4q3bvne3m2vsu5g/state_of_the_union.pdf\r\n",
      "Resolving www.dropbox.com (www.dropbox.com)... 162.125.9.18, 2620:100:601f:18::a27d:912\r\n",
      "Connecting to www.dropbox.com (www.dropbox.com)|162.125.9.18|:443... connected.\r\n",
      "HTTP request sent, awaiting response... "
     ]
    },
    {
     "name": "stdout",
     "output_type": "stream",
     "text": [
      "302 Found\r\n",
      "Location: /s/raw/4q3bvne3m2vsu5g/state_of_the_union.pdf [following]\r\n",
      "--2023-06-08 00:33:07--  https://www.dropbox.com/s/raw/4q3bvne3m2vsu5g/state_of_the_union.pdf\r\n",
      "Reusing existing connection to www.dropbox.com:443.\r\n",
      "HTTP request sent, awaiting response... "
     ]
    },
    {
     "name": "stdout",
     "output_type": "stream",
     "text": [
      "302 Found\r\n",
      "Location: https://uc5501ef9872334ef2de339fb925.dl.dropboxusercontent.com/cd/0/inline/B9kzLFZ_XndQE2e22FXXF6uNTdJcaMLCoRgfQ6Ryb3nDDLGomfgliN373FjtjjZu0Ds8_RtmkKbv_-LtPwJXFADku_3-Du-ppOo6FdmMdG_RAeXEdUHhk3fHi4ncMURPqmSsfGalNbubsxdZgR_S2NLlpJDCfLRxjIMlLSVa33H85w/file# [following]\r\n",
      "--2023-06-08 00:33:07--  https://uc5501ef9872334ef2de339fb925.dl.dropboxusercontent.com/cd/0/inline/B9kzLFZ_XndQE2e22FXXF6uNTdJcaMLCoRgfQ6Ryb3nDDLGomfgliN373FjtjjZu0Ds8_RtmkKbv_-LtPwJXFADku_3-Du-ppOo6FdmMdG_RAeXEdUHhk3fHi4ncMURPqmSsfGalNbubsxdZgR_S2NLlpJDCfLRxjIMlLSVa33H85w/file\r\n",
      "Resolving uc5501ef9872334ef2de339fb925.dl.dropboxusercontent.com (uc5501ef9872334ef2de339fb925.dl.dropboxusercontent.com)... "
     ]
    },
    {
     "name": "stdout",
     "output_type": "stream",
     "text": [
      "162.125.9.15, 2620:100:601f:15::a27d:90f\r\n",
      "Connecting to uc5501ef9872334ef2de339fb925.dl.dropboxusercontent.com (uc5501ef9872334ef2de339fb925.dl.dropboxusercontent.com)|162.125.9.15|:443... connected.\r\n"
     ]
    },
    {
     "name": "stdout",
     "output_type": "stream",
     "text": [
      "HTTP request sent, awaiting response... "
     ]
    },
    {
     "name": "stdout",
     "output_type": "stream",
     "text": [
      "302 Found\r\n",
      "Location: /cd/0/inline2/B9mcXWfidf_fGkv6M2zJhe23Q1EOdy2V66j0LncLjqXOEp-_ivoDBBCIjcM9aCzfZRGzLoclDRfqKwKtMpgzklZhWBnBSkeJ_-tzlIxMl_vzVF0ndBpYex1saFa6sv0koEYQ-dncISKy0S20vQZjyfiSeNWZbVdQRo7G-tDUUzhHXPO-zclC5sF9-TDrmigTt5Ak_mCY1h1dB060qe0NWB99Wjn6c6TGbmPrx6SySxhCKqShm2tJuGHpMF-b6mEOXdwtiBsmS-UPpc92C8KCmBzC4g5_w7A9T-_JqM6s_UqhcFwnE0rZG8GgciIxO-VWa552y9dTMQpNiVkyQ3Fmy5l4Ev6967rFtmqcwRTPKfFoiCyriNi_WddZhYzjyewNPcHyXvr9BDwKkRiR_gaqgB3tbl2GNsDEynERJTsTZtq8Ig/file [following]\r\n",
      "--2023-06-08 00:33:07--  https://uc5501ef9872334ef2de339fb925.dl.dropboxusercontent.com/cd/0/inline2/B9mcXWfidf_fGkv6M2zJhe23Q1EOdy2V66j0LncLjqXOEp-_ivoDBBCIjcM9aCzfZRGzLoclDRfqKwKtMpgzklZhWBnBSkeJ_-tzlIxMl_vzVF0ndBpYex1saFa6sv0koEYQ-dncISKy0S20vQZjyfiSeNWZbVdQRo7G-tDUUzhHXPO-zclC5sF9-TDrmigTt5Ak_mCY1h1dB060qe0NWB99Wjn6c6TGbmPrx6SySxhCKqShm2tJuGHpMF-b6mEOXdwtiBsmS-UPpc92C8KCmBzC4g5_w7A9T-_JqM6s_UqhcFwnE0rZG8GgciIxO-VWa552y9dTMQpNiVkyQ3Fmy5l4Ev6967rFtmqcwRTPKfFoiCyriNi_WddZhYzjyewNPcHyXvr9BDwKkRiR_gaqgB3tbl2GNsDEynERJTsTZtq8Ig/file\r\n",
      "Reusing existing connection to uc5501ef9872334ef2de339fb925.dl.dropboxusercontent.com:443.\r\n",
      "HTTP request sent, awaiting response... "
     ]
    },
    {
     "name": "stdout",
     "output_type": "stream",
     "text": [
      "200 OK\r\n",
      "Length: 48847 (48K) [application/pdf]\r\n",
      "Saving to: ‘state_of_the_union.pdf’\r\n",
      "\r\n",
      "\r",
      "state_of_the_union.   0%[                    ]       0  --.-KB/s               \r",
      "state_of_the_union. 100%[===================>]  47.70K  --.-KB/s    in 0s      \r\n",
      "\r\n",
      "2023-06-08 00:33:07 (119 MB/s) - ‘state_of_the_union.pdf’ saved [48847/48847]\r\n",
      "\r\n"
     ]
    }
   ],
   "source": [
    "!wget -nc \"https://www.dropbox.com/s/6jdcn33xizdtl9k/layout-parser-paper.pdf\"\n",
    "!wget -nc \"https://www.dropbox.com/s/4q3bvne3m2vsu5g/state_of_the_union.pdf\""
   ]
  },
  {
   "attachments": {},
   "cell_type": "markdown",
   "id": "1d9c44d4",
   "metadata": {},
   "source": [
    "### Load PDFs"
   ]
  },
  {
   "cell_type": "code",
   "execution_count": 3,
   "id": "56913976",
   "metadata": {
    "execution": {
     "iopub.execute_input": "2023-06-08T04:33:08.071332Z",
     "iopub.status.busy": "2023-06-08T04:33:08.071051Z",
     "iopub.status.idle": "2023-06-08T04:33:08.247486Z",
     "shell.execute_reply": "2023-06-08T04:33:08.246536Z"
    }
   },
   "outputs": [],
   "source": [
    "drop_pdf = cursor.query(\"DROP TABLE IF  EXISTS MyPDFs\").execute()\n",
    "load_pdf1 = cursor.load(file_regex=\"layout-parser-paper.pdf\", format=\"PDF\", table_name=\"MyPDFs\").execute()\n",
    "load_pdf1 = cursor.load(file_regex=\"state_of_the_union.pdf\", format=\"PDF\", table_name=\"MyPDFs\").execute()"
   ]
  },
  {
   "attachments": {},
   "cell_type": "markdown",
   "id": "972e2b21",
   "metadata": {},
   "source": [
    "### Retrieve Text from Loaded PDFs"
   ]
  },
  {
   "cell_type": "code",
   "execution_count": 4,
   "id": "f2674110",
   "metadata": {
    "execution": {
     "iopub.execute_input": "2023-06-08T04:33:08.252586Z",
     "iopub.status.busy": "2023-06-08T04:33:08.252261Z",
     "iopub.status.idle": "2023-06-08T04:33:12.450660Z",
     "shell.execute_reply": "2023-06-08T04:33:12.449101Z"
    }
   },
   "outputs": [
    {
     "data": {
      "text/html": [
       "<div>\n",
       "<style scoped>\n",
       "    .dataframe tbody tr th:only-of-type {\n",
       "        vertical-align: middle;\n",
       "    }\n",
       "\n",
       "    .dataframe tbody tr th {\n",
       "        vertical-align: top;\n",
       "    }\n",
       "\n",
       "    .dataframe thead th {\n",
       "        text-align: right;\n",
       "    }\n",
       "</style>\n",
       "<table border=\"1\" class=\"dataframe\">\n",
       "  <thead>\n",
       "    <tr style=\"text-align: right;\">\n",
       "      <th></th>\n",
       "      <th>mypdfs._row_id</th>\n",
       "      <th>mypdfs.name</th>\n",
       "      <th>mypdfs.page</th>\n",
       "      <th>mypdfs.paragraph</th>\n",
       "      <th>mypdfs.data</th>\n",
       "    </tr>\n",
       "  </thead>\n",
       "  <tbody>\n",
       "    <tr>\n",
       "      <th>0</th>\n",
       "      <td>1</td>\n",
       "      <td>layout-parser-paper.pdf</td>\n",
       "      <td>1</td>\n",
       "      <td>1</td>\n",
       "      <td>LayoutParser: A Uniﬁed Toolkit for DeepLearnin...</td>\n",
       "    </tr>\n",
       "    <tr>\n",
       "      <th>1</th>\n",
       "      <td>1</td>\n",
       "      <td>layout-parser-paper.pdf</td>\n",
       "      <td>1</td>\n",
       "      <td>2</td>\n",
       "      <td>Zejiang Shen1(�), Ruochen Zhang2, Melissa Dell...</td>\n",
       "    </tr>\n",
       "    <tr>\n",
       "      <th>2</th>\n",
       "      <td>1</td>\n",
       "      <td>layout-parser-paper.pdf</td>\n",
       "      <td>1</td>\n",
       "      <td>3</td>\n",
       "      <td>1 Allen Institute for AIshannons@allenai.org2 ...</td>\n",
       "    </tr>\n",
       "    <tr>\n",
       "      <th>3</th>\n",
       "      <td>1</td>\n",
       "      <td>layout-parser-paper.pdf</td>\n",
       "      <td>1</td>\n",
       "      <td>4</td>\n",
       "      <td>Abstract. Recent advances in document image an...</td>\n",
       "    </tr>\n",
       "    <tr>\n",
       "      <th>4</th>\n",
       "      <td>1</td>\n",
       "      <td>layout-parser-paper.pdf</td>\n",
       "      <td>1</td>\n",
       "      <td>5</td>\n",
       "      <td>Keywords: Document Image Analysis · Deep Learn...</td>\n",
       "    </tr>\n",
       "    <tr>\n",
       "      <th>...</th>\n",
       "      <td>...</td>\n",
       "      <td>...</td>\n",
       "      <td>...</td>\n",
       "      <td>...</td>\n",
       "      <td>...</td>\n",
       "    </tr>\n",
       "    <tr>\n",
       "      <th>512</th>\n",
       "      <td>2</td>\n",
       "      <td>state_of_the_union.pdf</td>\n",
       "      <td>17</td>\n",
       "      <td>19</td>\n",
       "      <td>Now is our moment to meet and overcome the cha...</td>\n",
       "    </tr>\n",
       "    <tr>\n",
       "      <th>513</th>\n",
       "      <td>2</td>\n",
       "      <td>state_of_the_union.pdf</td>\n",
       "      <td>17</td>\n",
       "      <td>20</td>\n",
       "      <td>And we will, as one people.</td>\n",
       "    </tr>\n",
       "    <tr>\n",
       "      <th>514</th>\n",
       "      <td>2</td>\n",
       "      <td>state_of_the_union.pdf</td>\n",
       "      <td>17</td>\n",
       "      <td>21</td>\n",
       "      <td>One America.</td>\n",
       "    </tr>\n",
       "    <tr>\n",
       "      <th>515</th>\n",
       "      <td>2</td>\n",
       "      <td>state_of_the_union.pdf</td>\n",
       "      <td>17</td>\n",
       "      <td>22</td>\n",
       "      <td>The United States of America.</td>\n",
       "    </tr>\n",
       "    <tr>\n",
       "      <th>516</th>\n",
       "      <td>2</td>\n",
       "      <td>state_of_the_union.pdf</td>\n",
       "      <td>17</td>\n",
       "      <td>23</td>\n",
       "      <td>May God bless you all. May God protect our tro...</td>\n",
       "    </tr>\n",
       "  </tbody>\n",
       "</table>\n",
       "<p>517 rows × 5 columns</p>\n",
       "</div>"
      ],
      "text/plain": [
       "     mypdfs._row_id              mypdfs.name  mypdfs.page  mypdfs.paragraph  \\\n",
       "0                 1  layout-parser-paper.pdf            1                 1   \n",
       "1                 1  layout-parser-paper.pdf            1                 2   \n",
       "2                 1  layout-parser-paper.pdf            1                 3   \n",
       "3                 1  layout-parser-paper.pdf            1                 4   \n",
       "4                 1  layout-parser-paper.pdf            1                 5   \n",
       "..              ...                      ...          ...               ...   \n",
       "512               2   state_of_the_union.pdf           17                19   \n",
       "513               2   state_of_the_union.pdf           17                20   \n",
       "514               2   state_of_the_union.pdf           17                21   \n",
       "515               2   state_of_the_union.pdf           17                22   \n",
       "516               2   state_of_the_union.pdf           17                23   \n",
       "\n",
       "                                           mypdfs.data  \n",
       "0    LayoutParser: A Uniﬁed Toolkit for DeepLearnin...  \n",
       "1    Zejiang Shen1(�), Ruochen Zhang2, Melissa Dell...  \n",
       "2    1 Allen Institute for AIshannons@allenai.org2 ...  \n",
       "3    Abstract. Recent advances in document image an...  \n",
       "4    Keywords: Document Image Analysis · Deep Learn...  \n",
       "..                                                 ...  \n",
       "512  Now is our moment to meet and overcome the cha...  \n",
       "513                       And we will, as one people.   \n",
       "514                                      One America.   \n",
       "515                     The United States of America.   \n",
       "516  May God bless you all. May God protect our tro...  \n",
       "\n",
       "[517 rows x 5 columns]"
      ]
     },
     "execution_count": 4,
     "metadata": {},
     "output_type": "execute_result"
    }
   ],
   "source": [
    "cursor.table(\"MyPDFs\").df()"
   ]
  },
  {
   "attachments": {},
   "cell_type": "markdown",
   "id": "fe2f4b4a",
   "metadata": {},
   "source": [
    "### Create Sentence Transformer Feature Extractor UDF"
   ]
  },
  {
   "cell_type": "code",
   "execution_count": 5,
   "id": "bc57b1ff",
   "metadata": {
    "execution": {
     "iopub.execute_input": "2023-06-08T04:33:12.454512Z",
     "iopub.status.busy": "2023-06-08T04:33:12.454060Z",
     "iopub.status.idle": "2023-06-08T04:33:13.156050Z",
     "shell.execute_reply": "2023-06-08T04:33:13.155183Z"
    }
   },
   "outputs": [
    {
     "name": "stderr",
     "output_type": "stream",
     "text": [
      "06-08-2023 00:33:12 WARNING[drop_object_executor:drop_object_executor.py:_handle_drop_udf:0082] UDF SentenceTransformerFeatureExtractor does not exist, therefore cannot be dropped.\n"
     ]
    },
    {
     "data": {
      "text/plain": [
       "<evadb.models.storage.batch.Batch at 0x7fd1ace80ca0>"
      ]
     },
     "execution_count": 5,
     "metadata": {},
     "output_type": "execute_result"
    }
   ],
   "source": [
    "udf_check = cursor.query(\n",
    "            \"DROP UDF IF  EXISTS SentenceTransformerFeatureExtractor\"\n",
    "        )\n",
    "udf_check.execute()\n",
    "udf = cursor.create_udf(\n",
    "    \"SentenceTransformerFeatureExtractor\",\n",
    "    True,\n",
    "    \"../evadb/udfs/sentence_transformer_feature_extractor.py\",\n",
    ")\n",
    "udf.execute()"
   ]
  },
  {
   "attachments": {},
   "cell_type": "markdown",
   "id": "f502eddb",
   "metadata": {},
   "source": [
    "### Create vector index for paragraphs of pdf"
   ]
  },
  {
   "cell_type": "code",
   "execution_count": 6,
   "id": "d8b1abe7",
   "metadata": {
    "execution": {
     "iopub.execute_input": "2023-06-08T04:33:13.160606Z",
     "iopub.status.busy": "2023-06-08T04:33:13.160295Z",
     "iopub.status.idle": "2023-06-08T04:33:23.149638Z",
     "shell.execute_reply": "2023-06-08T04:33:23.148231Z"
    }
   },
   "outputs": [
    {
     "data": {
      "text/html": [
       "<div>\n",
       "<style scoped>\n",
       "    .dataframe tbody tr th:only-of-type {\n",
       "        vertical-align: middle;\n",
       "    }\n",
       "\n",
       "    .dataframe tbody tr th {\n",
       "        vertical-align: top;\n",
       "    }\n",
       "\n",
       "    .dataframe thead th {\n",
       "        text-align: right;\n",
       "    }\n",
       "</style>\n",
       "<table border=\"1\" class=\"dataframe\">\n",
       "  <thead>\n",
       "    <tr style=\"text-align: right;\">\n",
       "      <th></th>\n",
       "      <th>0</th>\n",
       "    </tr>\n",
       "  </thead>\n",
       "  <tbody>\n",
       "    <tr>\n",
       "      <th>0</th>\n",
       "      <td>Index faiss_indexs successfully added to the d...</td>\n",
       "    </tr>\n",
       "  </tbody>\n",
       "</table>\n",
       "</div>"
      ],
      "text/plain": [
       "                                                   0\n",
       "0  Index faiss_indexs successfully added to the d..."
      ]
     },
     "execution_count": 6,
     "metadata": {},
     "output_type": "execute_result"
    }
   ],
   "source": [
    "cursor.create_vector_index(\n",
    "            \"faiss_indexs\",\n",
    "            table_name=\"MyPDFs\",\n",
    "            expr=\"SentenceTransformerFeatureExtractor(data)\",\n",
    "            using=\"QDRANT\",\n",
    "        ).df()"
   ]
  },
  {
   "cell_type": "code",
   "execution_count": 7,
   "id": "66b0bd42",
   "metadata": {
    "execution": {
     "iopub.execute_input": "2023-06-08T04:33:23.155090Z",
     "iopub.status.busy": "2023-06-08T04:33:23.154776Z",
     "iopub.status.idle": "2023-06-08T04:33:25.766795Z",
     "shell.execute_reply": "2023-06-08T04:33:25.766052Z"
    }
   },
   "outputs": [
    {
     "data": {
      "text/html": [
       "<div>\n",
       "<style scoped>\n",
       "    .dataframe tbody tr th:only-of-type {\n",
       "        vertical-align: middle;\n",
       "    }\n",
       "\n",
       "    .dataframe tbody tr th {\n",
       "        vertical-align: top;\n",
       "    }\n",
       "\n",
       "    .dataframe thead th {\n",
       "        text-align: right;\n",
       "    }\n",
       "</style>\n",
       "<table border=\"1\" class=\"dataframe\">\n",
       "  <thead>\n",
       "    <tr style=\"text-align: right;\">\n",
       "      <th></th>\n",
       "      <th>mypdfs.data</th>\n",
       "    </tr>\n",
       "  </thead>\n",
       "  <tbody>\n",
       "    <tr>\n",
       "      <th>0</th>\n",
       "      <td>[38] Zhong, X., Tang, J., Yepes, A.J.: Publayn...</td>\n",
       "    </tr>\n",
       "  </tbody>\n",
       "</table>\n",
       "</div>"
      ],
      "text/plain": [
       "                                         mypdfs.data\n",
       "0  [38] Zhong, X., Tang, J., Yepes, A.J.: Publayn..."
      ]
     },
     "execution_count": 7,
     "metadata": {},
     "output_type": "execute_result"
    }
   ],
   "source": [
    "query = (\n",
    "            cursor.table(\"MyPDFs\")\n",
    "            .order(\n",
    "                \"\"\"Similarity(\n",
    "                    SentenceTransformerFeatureExtractor('When was the NATO created?'), SentenceTransformerFeatureExtractor(data)\n",
    "                )\"\"\"\n",
    "            )\n",
    "            .limit(1)\n",
    "            .select(\"data\")\n",
    "        ).df()\n",
    "query"
   ]
  }
 ],
 "metadata": {
  "kernelspec": {
   "display_name": "Python 3 (ipykernel)",
   "language": "python",
   "name": "python3"
  },
  "language_info": {
   "codemirror_mode": {
    "name": "ipython",
    "version": 3
   },
   "file_extension": ".py",
   "mimetype": "text/x-python",
   "name": "python",
   "nbconvert_exporter": "python",
   "pygments_lexer": "ipython3",
   "version": "3.10.11"
  },
  "varInspector": {
   "cols": {
    "lenName": 16,
    "lenType": 16,
    "lenVar": 40
   },
   "kernels_config": {
    "python": {
     "delete_cmd_postfix": "",
     "delete_cmd_prefix": "del ",
     "library": "var_list.py",
     "varRefreshCmd": "print(var_dic_list())"
    },
    "r": {
     "delete_cmd_postfix": ") ",
     "delete_cmd_prefix": "rm(",
     "library": "var_list.r",
     "varRefreshCmd": "cat(var_dic_list()) "
    }
   },
   "types_to_exclude": [
    "module",
    "function",
    "builtin_function_or_method",
    "instance",
    "_Feature"
   ],
   "window_display": false
  },
  "vscode": {
   "interpreter": {
    "hash": "292337e8e9747092192f4a1ef18b0951099c869b0f06eb7241460e1768f24923"
   }
  }
 },
 "nbformat": 4,
 "nbformat_minor": 5
}
