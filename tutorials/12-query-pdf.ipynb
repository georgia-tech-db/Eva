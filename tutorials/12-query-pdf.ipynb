{
 "cells": [
  {
   "attachments": {},
   "cell_type": "markdown",
   "id": "6fdba594",
   "metadata": {},
   "source": [
    "# Query PDF Tutorial"
   ]
  },
  {
   "attachments": {},
   "cell_type": "markdown",
   "id": "05999c63",
   "metadata": {},
   "source": [
    "In this tutorial, we demonstrate how to load a PDF and query it."
   ]
  },
  {
   "attachments": {},
   "cell_type": "markdown",
   "id": "40100c9c",
   "metadata": {},
   "source": [
    "<table align=\"left\">\n",
    "  <td>\n",
    "    <a target=\"_blank\" href=\"https://colab.research.google.com/github/georgia-tech-db/eva/blob/master/tutorials/12-query-pdf.ipynb\"><img src=\"https://www.tensorflow.org/images/colab_logo_32px.png\" /> Run on Google Colab</a>\n",
    "  </td>\n",
    "  <td>\n",
    "    <a target=\"_blank\" href=\"https://github.com/georgia-tech-db/eva/blob/master/tutorials/12-query-pdf.ipynb\"><img src=\"https://www.tensorflow.org/images/GitHub-Mark-32px.png\" /> View source on GitHub</a>\n",
    "  </td>\n",
    "  <td>\n",
    "    <a target=\"_blank\" href=\"https://github.com/georgia-tech-db/eva/raw/master/tutorials/12-query-pdf.ipynb\"><img src=\"https://www.tensorflow.org/images/download_logo_32px.png\" /> Download notebook</a>\n",
    "  </td>\n",
    "</table><br><br>"
   ]
  },
  {
   "attachments": {},
   "cell_type": "markdown",
   "id": "d53ef889",
   "metadata": {},
   "source": [
    "### Connect to EvaDB\n"
   ]
  },
  {
   "cell_type": "code",
   "execution_count": 1,
   "id": "cc1741d4",
   "metadata": {
    "execution": {
     "iopub.execute_input": "2023-09-05T18:45:18.153910Z",
     "iopub.status.busy": "2023-09-05T18:45:18.153491Z",
     "iopub.status.idle": "2023-09-05T18:45:22.093752Z",
     "shell.execute_reply": "2023-09-05T18:45:22.093380Z"
    }
   },
   "outputs": [
    {
     "name": "stdout",
     "output_type": "stream",
     "text": [
      "Note: you may need to restart the kernel to use updated packages.\n"
     ]
    }
   ],
   "source": [
    "%pip install --quiet \"evadb[document,notebook]\"\n",
    "import evadb\n",
    "cursor = evadb.connect().cursor()"
   ]
  },
  {
   "attachments": {},
   "cell_type": "markdown",
   "id": "cfda671a",
   "metadata": {},
   "source": [
    "### Download PDFs"
   ]
  },
  {
   "cell_type": "code",
   "execution_count": 2,
   "id": "1ee8b17b",
   "metadata": {
    "execution": {
     "iopub.execute_input": "2023-09-05T18:45:22.095356Z",
     "iopub.status.busy": "2023-09-05T18:45:22.095247Z",
     "iopub.status.idle": "2023-09-05T18:45:22.217558Z",
     "shell.execute_reply": "2023-09-05T18:45:22.216996Z"
    }
   },
   "outputs": [
    {
     "name": "stdout",
     "output_type": "stream",
     "text": [
      "File ‘pdf_sample1.pdf’ already there; not retrieving.\r\n",
      "\r\n"
     ]
    }
   ],
   "source": [
    "!wget -nc \"https://www.dropbox.com/s/fv6pqdneth3l6fz/pdf_sample1.pdf\""
   ]
  },
  {
   "attachments": {},
   "cell_type": "markdown",
   "id": "1d9c44d4",
   "metadata": {},
   "source": [
    "### Load PDFs"
   ]
  },
  {
   "cell_type": "code",
   "execution_count": 3,
   "id": "98061621",
   "metadata": {
    "execution": {
     "iopub.execute_input": "2023-09-05T18:45:22.219980Z",
     "iopub.status.busy": "2023-09-05T18:45:22.219786Z",
     "iopub.status.idle": "2023-09-05T18:45:22.295639Z",
     "shell.execute_reply": "2023-09-05T18:45:22.295354Z"
    }
   },
   "outputs": [
    {
     "data": {
      "text/html": [
       "<div>\n",
       "<style scoped>\n",
       "    .dataframe tbody tr th:only-of-type {\n",
       "        vertical-align: middle;\n",
       "    }\n",
       "\n",
       "    .dataframe tbody tr th {\n",
       "        vertical-align: top;\n",
       "    }\n",
       "\n",
       "    .dataframe thead th {\n",
       "        text-align: right;\n",
       "    }\n",
       "</style>\n",
       "<table border=\"1\" class=\"dataframe\">\n",
       "  <thead>\n",
       "    <tr style=\"text-align: right;\">\n",
       "      <th></th>\n",
       "      <th>0</th>\n",
       "    </tr>\n",
       "  </thead>\n",
       "  <tbody>\n",
       "    <tr>\n",
       "      <th>0</th>\n",
       "      <td>Number of loaded PDF: 1</td>\n",
       "    </tr>\n",
       "  </tbody>\n",
       "</table>\n",
       "</div>"
      ],
      "text/plain": [
       "                         0\n",
       "0  Number of loaded PDF: 1"
      ]
     },
     "execution_count": 3,
     "metadata": {},
     "output_type": "execute_result"
    }
   ],
   "source": [
    "cursor.query(\"DROP TABLE IF EXISTS MyPDFs\").df()\n",
    "cursor.query(\"LOAD PDF 'pdf_sample1.pdf' INTO MyPDFs\").df()"
   ]
  },
  {
   "attachments": {},
   "cell_type": "markdown",
   "id": "972e2b21",
   "metadata": {},
   "source": [
    "### Retrieve Text from Loaded PDFs"
   ]
  },
  {
   "cell_type": "code",
   "execution_count": 4,
   "id": "f2674110",
   "metadata": {
    "execution": {
     "iopub.execute_input": "2023-09-05T18:45:22.296939Z",
     "iopub.status.busy": "2023-09-05T18:45:22.296851Z",
     "iopub.status.idle": "2023-09-05T18:45:22.298907Z",
     "shell.execute_reply": "2023-09-05T18:45:22.298551Z"
    }
   },
   "outputs": [
    {
     "ename": "SyntaxError",
     "evalue": "unterminated string literal (detected at line 1) (4090552935.py, line 1)",
     "output_type": "error",
     "traceback": [
      "\u001b[0;36m  Cell \u001b[0;32mIn[4], line 1\u001b[0;36m\u001b[0m\n\u001b[0;31m    cursor.query(\"SELECT * FROM My.df()\u001b[0m\n\u001b[0m                 ^\u001b[0m\n\u001b[0;31mSyntaxError\u001b[0m\u001b[0;31m:\u001b[0m unterminated string literal (detected at line 1)\n"
     ]
    }
   ],
   "source": [
    "cursor.query(\"SELECT * FROM My.df()"
   ]
  },
  {
   "cell_type": "code",
   "execution_count": 3,
   "id": "b476274d",
   "metadata": {},
   "outputs": [],
   "source": [
    "cursor.query(\"\"\"\n",
    "    SELECT *\n",
    "    FROM MyPDFs\n",
    "    WHERE page = 1 AND paragraph = 3\n",
    "\"\"\").df()"
   ]
  },
  {
   "attachments": {},
   "cell_type": "markdown",
   "id": "f502eddb",
   "metadata": {},
   "source": [
    "### Create UDFs for Text Classification and Text Summarization"
   ]
  },
  {
   "cell_type": "code",
   "execution_count": 6,
   "id": "d2c46f7e",
   "metadata": {},
   "outputs": [],
   "source": [
    "cursor.query(\"\"\"\n",
    "    CREATE FUNCTION IF NOT EXISTS TextClassifier\n",
    "    TYPE HuggingFace\n",
    "    TASK 'text-classification'\n",
    "    MODEL 'distilbert-base-uncased-finetuned-sst-2-english'\n",
    "\"\"\").df()"
   ]
  },
  {
   "cell_type": "code",
   "execution_count": 7,
   "id": "fd75bf79",
   "metadata": {
    "execution": {
     "iopub.execute_input": "2023-06-27T00:13:03.950296Z",
     "iopub.status.busy": "2023-06-27T00:13:03.949914Z",
     "iopub.status.idle": "2023-06-27T00:13:15.956337Z",
     "shell.execute_reply": "2023-06-27T00:13:15.955406Z"
    }
   },
   "outputs": [],
   "source": [
    "cursor.query(\"\"\"\n",
    "    CREATE FUNCTION IF NOT EXISTS TextSummarizer\n",
    "    TYPE HuggingFace\n",
    "    TASK 'summarization'\n",
    "    MODEL 'facebook/bart-large-cnn'\n",
    "\"\"\").df()"
   ]
  },
  {
   "attachments": {},
   "cell_type": "markdown",
   "id": "33b97175",
   "metadata": {},
   "source": [
    "### Get Summaries of a Subset of Paragraphs with Negative Sentiment"
   ]
  },
  {
   "cell_type": "code",
   "execution_count": 8,
   "id": "42ddaccb",
   "metadata": {
    "execution": {
     "iopub.execute_input": "2023-06-27T00:13:15.960747Z",
     "iopub.status.busy": "2023-06-27T00:13:15.960462Z",
     "iopub.status.idle": "2023-06-27T00:13:35.299616Z",
     "shell.execute_reply": "2023-06-27T00:13:35.298724Z"
    }
   },
   "outputs": [],
   "source": [
    "cursor.query(\"\"\"\n",
    "    SELECT data, TextSummarizer(data)\n",
    "    FROM MyPDFs\n",
    "    WHERE page = 1 AND paragraph >= 1 AND paragraph <= 3 AND TextClassifier(data).label = 'NEGATIVE'\n",
    "\"\"\").df()"
   ]
  }
 ],
 "metadata": {
  "kernelspec": {
   "display_name": "Python 3 (ipykernel)",
   "language": "python",
   "name": "python3"
  },
  "language_info": {
   "codemirror_mode": {
    "name": "ipython",
    "version": 3
   },
   "file_extension": ".py",
   "mimetype": "text/x-python",
   "name": "python",
   "nbconvert_exporter": "python",
   "pygments_lexer": "ipython3",
   "version": "3.11.5"
  },
  "varInspector": {
   "cols": {
    "lenName": 16,
    "lenType": 16,
    "lenVar": 40
   },
   "kernels_config": {
    "python": {
     "delete_cmd_postfix": "",
     "delete_cmd_prefix": "del ",
     "library": "var_list.py",
     "varRefreshCmd": "print(var_dic_list())"
    },
    "r": {
     "delete_cmd_postfix": ") ",
     "delete_cmd_prefix": "rm(",
     "library": "var_list.r",
     "varRefreshCmd": "cat(var_dic_list()) "
    }
   },
   "types_to_exclude": [
    "module",
    "function",
    "builtin_function_or_method",
    "instance",
    "_Feature"
   ],
   "window_display": false
  },
  "vscode": {
   "interpreter": {
    "hash": "292337e8e9747092192f4a1ef18b0951099c869b0f06eb7241460e1768f24923"
   }
  }
 },
 "nbformat": 4,
 "nbformat_minor": 5
}
