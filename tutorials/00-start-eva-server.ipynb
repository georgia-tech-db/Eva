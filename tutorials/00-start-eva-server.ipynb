{
 "cells": [
  {
   "cell_type": "markdown",
   "metadata": {},
   "source": [
    "# Start EVA Server"
   ]
  },
  {
   "cell_type": "markdown",
   "metadata": {},
   "source": [
    "<table align=\"left\">\n",
    "  <td>\n",
    "    <a target=\"_blank\" href=\"https://colab.research.google.com/github/georgia-tech-db/eva/blob/master/tutorials/00-start-eva-server.ipynb\"><img src=\"https://www.tensorflow.org/images/colab_logo_32px.png\" /> Run on Google Colab</a>\n",
    "  </td>\n",
    "  <td>\n",
    "    <a target=\"_blank\" href=\"https://github.com/georgia-tech-db/eva/blob/master/tutorials/00-start-eva-server.ipynb\"><img src=\"https://www.tensorflow.org/images/GitHub-Mark-32px.png\" /> View source on GitHub</a>\n",
    "  </td>\n",
    "  <td>\n",
    "    <a target=\"_blank\" href=\"https://raw.githubusercontent.com/georgia-tech-db/eva/master/tutorials/00-start-eva-server.ipynb\"><img src=\"https://www.tensorflow.org/images/download_logo_32px.png\" /> Download notebook</a>\n",
    "  </td>\n",
    "</table>"
   ]
  },
  {
   "cell_type": "code",
   "execution_count": 2,
   "metadata": {},
   "outputs": [],
   "source": [
    "## Install EVA package if needed\n",
    "%pip install \"evadb[udf]\" --quiet\n",
    "\n",
    "import os\n",
    "import time\n",
    "\n",
    "def stop_eva_server():\n",
    "    # Kill any process listening on EVA's standard port\n",
    "    os.system('kill -9 $(lsof -ti:5432)')\n",
    "\n",
    "def launch_eva_server():\n",
    "\n",
    "    # Stop EVA server if it is running\n",
    "    stop_eva_server()\n",
    "\n",
    "    os.environ['GPU_DEVICES'] = '0'\n",
    "    os.system(\"rm nohup.out\")\n",
    "\n",
    "    # Start EVA server\n",
    "    os.system(\"nohup eva_server &\")\n",
    "    os.system(\"cat nohup.out\")\n",
    "\n",
    "    # Wait for server to start\n",
    "    time.sleep(10)\n",
    "\n",
    "def connect_to_server():\n",
    "\n",
    "    from eva.server.db_api import connect\n",
    "    %pip install nest_asyncio --quiet\n",
    "    import nest_asyncio\n",
    "    nest_asyncio.apply()\n",
    "\n",
    "    # Connect client with server\n",
    "    connection = connect(host = '127.0.0.1', port = 5432) \n",
    "    cursor = connection.cursor()\n",
    "\n",
    "    return cursor\n",
    "\n",
    "# Launch server\n",
    "launch_eva_server()"
   ]
  }
 ],
 "metadata": {
  "kernelspec": {
   "display_name": "Python 3.8.8 ('base')",
   "language": "python",
   "name": "python3"
  },
  "language_info": {
   "codemirror_mode": {
    "name": "ipython",
    "version": 3
   },
   "file_extension": ".py",
   "mimetype": "text/x-python",
   "name": "python",
   "nbconvert_exporter": "python",
   "pygments_lexer": "ipython3",
   "version": "3.8.8"
  },
  "orig_nbformat": 4,
  "vscode": {
   "interpreter": {
    "hash": "764b73009c9cda3d4cd7da46f5ee20f33a3f625348e6906836fe752c0f3f2bd0"
   }
  }
 },
 "nbformat": 4,
 "nbformat_minor": 2
}
