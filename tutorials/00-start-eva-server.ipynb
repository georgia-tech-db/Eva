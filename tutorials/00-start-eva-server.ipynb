{
 "cells": [
  {
   "cell_type": "markdown",
   "metadata": {},
   "source": [
    "# Start EVA Server"
   ]
  },
  {
   "cell_type": "markdown",
   "metadata": {},
   "source": [
    "<table align=\"left\">\n",
    "  <td>\n",
    "    <a target=\"_blank\" href=\"https://colab.research.google.com/github/georgia-tech-db/eva/blob/master/tutorials/00-start-eva-server.ipynb\"><img src=\"https://www.tensorflow.org/images/colab_logo_32px.png\" /> Run on Google Colab</a>\n",
    "  </td>\n",
    "  <td>\n",
    "    <a target=\"_blank\" href=\"https://github.com/georgia-tech-db/eva/blob/master/tutorials/00-start-eva-server.ipynb\"><img src=\"https://www.tensorflow.org/images/GitHub-Mark-32px.png\" /> View source on GitHub</a>\n",
    "  </td>\n",
    "  <td>\n",
    "    <a target=\"_blank\" href=\"https://raw.githubusercontent.com/georgia-tech-db/eva/master/tutorials/00-start-eva-server.ipynb\"><img src=\"https://www.tensorflow.org/images/download_logo_32px.png\" /> Download notebook</a>\n",
    "  </td>\n",
    "</table>"
   ]
  },
  {
   "cell_type": "markdown",
   "metadata": {},
   "source": [
    "### Launch EVA server\n",
    "\n",
    "We use this notebook for launching the EVA server."
   ]
  },
  {
   "cell_type": "code",
   "execution_count": 1,
   "metadata": {
    "execution": {
     "iopub.execute_input": "2023-04-12T20:53:13.666968Z",
     "iopub.status.busy": "2023-04-12T20:53:13.666690Z",
     "iopub.status.idle": "2023-04-12T20:53:23.701068Z",
     "shell.execute_reply": "2023-04-12T20:53:23.700160Z"
    }
   },
   "outputs": [
    {
     "name": "stdout",
     "output_type": "stream",
     "text": [
      "nohup eva_server >> eva.log 2>&1 &\n",
      "('YOLOv5 🚀 2023-4-12 Python-3.9.2 torch-2.0.0+cu117 CPU\\n', '\\n', 'Downloading https://github.com/ultralytics/yolov5/releases/download/v7.0/yolov5s.pt to yolov5s.pt...\\n')\n",
      "('\\n', '  0%|          | 0.00/14.1M [00:00<?, ?B/s]\\n', ' 10%|█         | 1.48M/14.1M [00:00<00:00, 15.5MB/s]\\n')\n",
      "(' 62%|██████▏   | 8.70M/14.1M [00:00<00:00, 50.8MB/s]\\n', '100%|██████████| 14.1M/14.1M [00:00<00:00, 55.6MB/s]\\n', '\\n')\n",
      "('Fusing layers... \\n', 'YOLOv5s summary: 213 layers, 7225885 parameters, 0 gradients\\n', 'Adding AutoShape... \\n')\n",
      "('04-12-2023 03:02:25 WARNING[create_udf_executor:create_udf_executor.py:exec:0101] UDF FastRCNNObjectDetector already exists, nothing added.\\n', '04-12-2023 03:02:25 WARNING[create_udf_executor:create_udf_executor.py:exec:0101] UDF ArrayCount already exists, nothing added.\\n', '04-12-2023 03:02:25 WARNING[create_udf_executor:create_udf_executor.py:exec:0101] UDF Crop already exists, nothing added.\\n')\n",
      "('04-12-2023 03:02:25 WARNING[create_udf_executor:create_udf_executor.py:exec:0101] UDF Open already exists, nothing added.\\n', '04-12-2023 03:02:25 WARNING[create_udf_executor:create_udf_executor.py:exec:0101] UDF Similarity already exists, nothing added.\\n', '04-12-2023 03:02:25 WARNING[create_udf_executor:create_udf_executor.py:exec:0101] UDF YoloV5 already exists, nothing added.\\n')\n",
      "('04-12-2023 03:02:38 ERROR [drop_executor:drop_executor.py:exec:0049] Table: MNISTVid does not exist\\n', 'NoneType: None\\n', '04-12-2023 03:02:38 ERROR [plan_executor:plan_executor.py:execute_plan:0175] Table: MNISTVid does not exist\\n')\n",
      "('04-12-2023 03:02:38 WARNING[command_handler:command_handler.py:handle_request:0075] Table: MNISTVid does not exist\\n', 'Downloading: \"http://ml.cs.tsinghua.edu.cn/~chenxi/pytorch-models/mnist-b07bb66b.pth\" to /home/admin/.cache/torch/hub/checkpoints/mnist-b07bb66b.pth\\n', '\\n')\n",
      "('  0%|          | 0.00/1.03M [00:00<?, ?B/s]\\n', '  2%|▏         | 16.0k/1.03M [00:00<00:14, 70.9kB/s]\\n', '  4%|▍         | 40.0k/1.03M [00:00<00:08, 124kB/s] \\n')\n",
      "('  5%|▌         | 56.0k/1.03M [00:00<00:07, 136kB/s]\\n', '  8%|▊         | 88.0k/1.03M [00:00<00:05, 183kB/s]\\n', ' 11%|█         | 112k/1.03M [00:00<00:05, 178kB/s] \\n')\n",
      "(' 14%|█▎        | 144k/1.03M [00:00<00:04, 212kB/s]\\n', ' 17%|█▋        | 176k/1.03M [00:00<00:03, 237kB/s]\\n', ' 24%|██▍       | 256k/1.03M [00:01<00:02, 379kB/s]\\n')\n",
      "(' 32%|███▏      | 336k/1.03M [00:01<00:01, 477kB/s]\\n', ' 43%|████▎     | 448k/1.03M [00:01<00:00, 650kB/s]\\n', ' 55%|█████▍    | 576k/1.03M [00:01<00:00, 831kB/s]\\n')\n",
      "(' 74%|███████▍  | 784k/1.03M [00:01<00:00, 1.19MB/s]\\n', '100%|██████████| 1.03M/1.03M [00:01<00:00, 678kB/s]\\n', '04-12-2023 03:02:49 WARNING[create_udf_executor:create_udf_executor.py:exec:0101] UDF FastRCNNObjectDetector already exists, nothing added.\\n')\n",
      "('04-12-2023 03:02:49 WARNING[create_udf_executor:create_udf_executor.py:exec:0101] UDF ArrayCount already exists, nothing added.\\n', '04-12-2023 03:02:49 WARNING[create_udf_executor:create_udf_executor.py:exec:0101] UDF Crop already exists, nothing added.\\n', '04-12-2023 03:02:49 WARNING[create_udf_executor:create_udf_executor.py:exec:0101] UDF Open already exists, nothing added.\\n')\n",
      "('04-12-2023 03:02:49 WARNING[create_udf_executor:create_udf_executor.py:exec:0101] UDF Similarity already exists, nothing added.\\n', '04-12-2023 03:02:49 WARNING[create_udf_executor:create_udf_executor.py:exec:0101] UDF YoloV5 already exists, nothing added.\\n', '04-12-2023 03:03:02 ERROR [drop_executor:drop_executor.py:exec:0049] Table: ObjectDetectionVideos does not exist\\n')\n",
      "('NoneType: None\\n', '04-12-2023 03:03:02 ERROR [plan_executor:plan_executor.py:execute_plan:0175] Table: ObjectDetectionVideos does not exist\\n', '04-12-2023 03:03:02 WARNING[command_handler:command_handler.py:handle_request:0075] Table: ObjectDetectionVideos does not exist\\n')\n",
      "('04-12-2023 03:03:02 WARNING[create_udf_executor:create_udf_executor.py:exec:0101] UDF YoloV5 already exists, nothing added.\\n', 'YOLOv5 🚀 2023-4-12 Python-3.9.2 torch-2.0.0+cu117 CPU\\n', '\\n')\n",
      "('Fusing layers... \\n', 'YOLOv5s summary: 213 layers, 7225885 parameters, 0 gradients\\n', 'Adding AutoShape... \\n')\n",
      "('04-12-2023 03:03:14 WARNING[create_udf_executor:create_udf_executor.py:exec:0101] UDF FastRCNNObjectDetector already exists, nothing added.\\n', '04-12-2023 03:03:14 WARNING[create_udf_executor:create_udf_executor.py:exec:0101] UDF ArrayCount already exists, nothing added.\\n', '04-12-2023 03:03:14 WARNING[create_udf_executor:create_udf_executor.py:exec:0101] UDF Crop already exists, nothing added.\\n')\n",
      "('04-12-2023 03:03:14 WARNING[create_udf_executor:create_udf_executor.py:exec:0101] UDF Open already exists, nothing added.\\n', '04-12-2023 03:03:14 WARNING[create_udf_executor:create_udf_executor.py:exec:0101] UDF Similarity already exists, nothing added.\\n', 'YOLOv5 🚀 2023-4-12 Python-3.9.2 torch-2.0.0+cu117 CPU\\n')\n",
      "('\\n', 'Fusing layers... \\n', 'YOLOv5s summary: 213 layers, 7225885 parameters, 0 gradients\\n')\n",
      "('Adding AutoShape... \\n', '04-12-2023 03:03:28 ERROR [drop_executor:drop_executor.py:exec:0049] Table: HAPPY does not exist\\n', 'NoneType: None\\n')\n",
      "('04-12-2023 03:03:28 ERROR [plan_executor:plan_executor.py:execute_plan:0175] Table: HAPPY does not exist\\n', '04-12-2023 03:03:28 WARNING[command_handler:command_handler.py:handle_request:0075] Table: HAPPY does not exist\\n', '\\n')\n",
      "('  0%|          | 0.00/76.5M [00:00<?, ?B/s]\\n', '  0%|          | 104k/76.5M [00:00<01:16, 1.05MB/s]\\n', '  1%|          | 424k/76.5M [00:00<00:34, 2.34MB/s]\\n')\n",
      "('  3%|▎         | 2.41M/76.5M [00:00<00:07, 10.8MB/s]\\n', '  8%|▊         | 6.46M/76.5M [00:00<00:03, 23.1MB/s]\\n', ' 14%|█▍        | 10.6M/76.5M [00:00<00:02, 30.2MB/s]\\n')\n",
      "(' 19%|█▊        | 14.2M/76.5M [00:00<00:01, 33.0MB/s]\\n', ' 24%|██▎       | 18.0M/76.5M [00:00<00:01, 35.0MB/s]\\n', ' 29%|██▉       | 22.0M/76.5M [00:00<00:01, 37.3MB/s]\\n')\n",
      "(' 34%|███▍      | 25.8M/76.5M [00:00<00:01, 38.1MB/s]\\n', ' 39%|███▊      | 29.5M/76.5M [00:01<00:01, 38.3MB/s]\\n', ' 44%|████▍     | 33.8M/76.5M [00:01<00:01, 40.3MB/s]\\n')\n",
      "(' 49%|████▉     | 37.6M/76.5M [00:01<00:01, 39.7MB/s]\\n', ' 54%|█████▍    | 41.4M/76.5M [00:01<00:00, 39.4MB/s]\\n', ' 59%|█████▉    | 45.5M/76.5M [00:01<00:00, 39.9MB/s]\\n')\n",
      "(' 65%|██████▍   | 49.5M/76.5M [00:01<00:00, 40.6MB/s]\\n', ' 70%|██████▉   | 53.4M/76.5M [00:01<00:00, 39.9MB/s]\\n', ' 75%|███████▍  | 57.2M/76.5M [00:01<00:00, 39.4MB/s]\\n')\n",
      "(' 80%|████████  | 61.3M/76.5M [00:01<00:00, 40.4MB/s]\\n', ' 85%|████████▌ | 65.1M/76.5M [00:01<00:00, 40.0MB/s]\\n', ' 90%|█████████ | 69.0M/76.5M [00:02<00:00, 40.0MB/s]\\n')\n",
      "(' 95%|█████████▌| 72.9M/76.5M [00:02<00:00, 40.2MB/s]\\n', '100%|██████████| 76.5M/76.5M [00:02<00:00, 36.1MB/s]\\n', '04-12-2023 03:03:48 WARNING[create_udf_executor:create_udf_executor.py:exec:0101] UDF FastRCNNObjectDetector already exists, nothing added.\\n')\n",
      "('04-12-2023 03:03:48 WARNING[create_udf_executor:create_udf_executor.py:exec:0101] UDF ArrayCount already exists, nothing added.\\n', '04-12-2023 03:03:48 WARNING[create_udf_executor:create_udf_executor.py:exec:0101] UDF Crop already exists, nothing added.\\n', '04-12-2023 03:03:48 WARNING[create_udf_executor:create_udf_executor.py:exec:0101] UDF Open already exists, nothing added.\\n')\n",
      "('04-12-2023 03:03:48 WARNING[create_udf_executor:create_udf_executor.py:exec:0101] UDF Similarity already exists, nothing added.\\n', '04-12-2023 03:03:48 WARNING[create_udf_executor:create_udf_executor.py:exec:0101] UDF YoloV5 already exists, nothing added.\\n', '04-12-2023 03:04:08 ERROR [drop_executor:drop_executor.py:exec:0049] Table: TIKTOK does not exist\\n')\n",
      "('NoneType: None\\n', '04-12-2023 03:04:08 ERROR [plan_executor:plan_executor.py:execute_plan:0175] Table: TIKTOK does not exist\\n', '04-12-2023 03:04:08 WARNING[command_handler:command_handler.py:handle_request:0075] Table: TIKTOK does not exist\\n')\n",
      "('04-12-2023 03:04:08 ERROR [drop_udf_executor:drop_udf_executor.py:exec:0042] UDF GenderCNN does not exist, therefore cannot be dropped.\\n', 'NoneType: None\\n', '04-12-2023 03:04:08 ERROR [plan_executor:plan_executor.py:execute_plan:0175] UDF GenderCNN does not exist, therefore cannot be dropped.\\n')\n",
      "('04-12-2023 03:04:08 WARNING[command_handler:command_handler.py:handle_request:0075] UDF GenderCNN does not exist, therefore cannot be dropped.\\n', \"/home/admin/eva/test_eva_db/lib/python3.9/site-packages/torchvision/models/_utils.py:208: UserWarning: The parameter 'pretrained' is deprecated since 0.13 and may be removed in the future, please use 'weights' instead.\\n\", '  warnings.warn(\\n')\n",
      "(\"/home/admin/eva/test_eva_db/lib/python3.9/site-packages/torchvision/models/_utils.py:223: UserWarning: Arguments other than a weight enum or `None` for 'weights' are deprecated since 0.13 and may be removed in the future. The current behavior is equivalent to passing `weights=ResNet18_Weights.IMAGENET1K_V1`. You can also use `weights=ResNet18_Weights.DEFAULT` to get the most up-to-date weights.\\n\", '  warnings.warn(msg)\\n', 'Downloading: \"https://download.pytorch.org/models/resnet18-f37072fd.pth\" to /home/admin/.cache/torch/hub/checkpoints/resnet18-f37072fd.pth\\n')\n",
      "('\\n', '  0%|          | 0.00/44.7M [00:00<?, ?B/s]\\n', ' 24%|██▎       | 10.6M/44.7M [00:00<00:00, 111MB/s]\\n')\n",
      "(' 47%|████▋     | 21.2M/44.7M [00:00<00:00, 98.1MB/s]\\n', ' 69%|██████▊   | 30.6M/44.7M [00:00<00:00, 90.7MB/s]\\n', ' 93%|█████████▎| 41.4M/44.7M [00:00<00:00, 98.5MB/s]\\n')\n",
      "('100%|██████████| 44.7M/44.7M [00:00<00:00, 96.3MB/s]\\n', '04-12-2023 03:04:09 WARNING[create_udf_executor:create_udf_executor.py:exec:0101] UDF FaceDetector already exists, nothing added.\\n', \"/home/admin/eva/test_eva_db/lib/python3.9/site-packages/torchvision/models/_utils.py:208: UserWarning: The parameter 'pretrained' is deprecated since 0.13 and may be removed in the future, please use 'weights' instead.\\n\")\n",
      "('  warnings.warn(\\n', \"/home/admin/eva/test_eva_db/lib/python3.9/site-packages/torchvision/models/_utils.py:223: UserWarning: Arguments other than a weight enum or `None` for 'weights' are deprecated since 0.13 and may be removed in the future. The current behavior is equivalent to passing `weights=ResNet18_Weights.IMAGENET1K_V1`. You can also use `weights=ResNet18_Weights.DEFAULT` to get the most up-to-date weights.\\n\", '  warnings.warn(msg)\\n')\n",
      "('04-12-2023 03:04:27 WARNING[create_udf_executor:create_udf_executor.py:exec:0101] UDF FastRCNNObjectDetector already exists, nothing added.\\n', '04-12-2023 03:04:27 WARNING[create_udf_executor:create_udf_executor.py:exec:0101] UDF ArrayCount already exists, nothing added.\\n', '04-12-2023 03:04:27 WARNING[create_udf_executor:create_udf_executor.py:exec:0101] UDF Crop already exists, nothing added.\\n')\n",
      "('04-12-2023 03:04:27 WARNING[create_udf_executor:create_udf_executor.py:exec:0101] UDF Open already exists, nothing added.\\n', '04-12-2023 03:04:27 WARNING[create_udf_executor:create_udf_executor.py:exec:0101] UDF Similarity already exists, nothing added.\\n', '04-12-2023 03:04:27 WARNING[create_udf_executor:create_udf_executor.py:exec:0101] UDF YoloV5 already exists, nothing added.\\n')\n",
      "('04-12-2023 03:04:41 ERROR [drop_executor:drop_executor.py:exec:0049] Table: ASL_ACTIONS does not exist\\n', 'NoneType: None\\n', '04-12-2023 03:04:41 ERROR [plan_executor:plan_executor.py:execute_plan:0175] Table: ASL_ACTIONS does not exist\\n')\n",
      "('04-12-2023 03:04:41 WARNING[command_handler:command_handler.py:handle_request:0075] Table: ASL_ACTIONS does not exist\\n', '04-12-2023 03:04:41 ERROR [drop_udf_executor:drop_udf_executor.py:exec:0042] UDF ASLActionRecognition does not exist, therefore cannot be dropped.\\n', 'NoneType: None\\n')\n",
      "('04-12-2023 03:04:41 ERROR [plan_executor:plan_executor.py:execute_plan:0175] UDF ASLActionRecognition does not exist, therefore cannot be dropped.\\n', '04-12-2023 03:04:41 WARNING[command_handler:command_handler.py:handle_request:0075] UDF ASLActionRecognition does not exist, therefore cannot be dropped.\\n', '04-12-2023 03:04:52 WARNING[create_udf_executor:create_udf_executor.py:exec:0101] UDF FastRCNNObjectDetector already exists, nothing added.\\n')\n",
      "('04-12-2023 03:04:52 WARNING[create_udf_executor:create_udf_executor.py:exec:0101] UDF ArrayCount already exists, nothing added.\\n', '04-12-2023 03:04:52 WARNING[create_udf_executor:create_udf_executor.py:exec:0101] UDF Crop already exists, nothing added.\\n', '04-12-2023 03:04:52 WARNING[create_udf_executor:create_udf_executor.py:exec:0101] UDF Open already exists, nothing added.\\n')\n",
      "('04-12-2023 03:04:52 WARNING[create_udf_executor:create_udf_executor.py:exec:0101] UDF Similarity already exists, nothing added.\\n', '04-12-2023 03:04:52 WARNING[create_udf_executor:create_udf_executor.py:exec:0101] UDF YoloV5 already exists, nothing added.\\n', '04-12-2023 03:05:11 ERROR [load_multimedia_executor:load_multimedia_executor.py:exec:0106] Load VIDEO failed: encountered unexpected error Load VIDEO failed due to no valid files found on path bddtest/videos/bddtest_00a2e3ca5c856cde.mp4\\n')\n",
      "('04-12-2023 03:05:11 ERROR [plan_executor:plan_executor.py:execute_plan:0175] Load VIDEO failed: encountered unexpected error Load VIDEO failed due to no valid files found on path bddtest/videos/bddtest_00a2e3ca5c856cde.mp4\\n', '04-12-2023 03:05:11 WARNING[command_handler:command_handler.py:handle_request:0075] Load VIDEO failed: encountered unexpected error Load VIDEO failed due to no valid files found on path bddtest/videos/bddtest_00a2e3ca5c856cde.mp4\\n', '04-12-2023 03:05:11 ERROR [load_multimedia_executor:load_multimedia_executor.py:exec:0106] Load VIDEO failed: encountered unexpected error Load VIDEO failed due to no valid files found on path bddtest/videos/bddtest_00a395fed60c0b47.mp4\\n')\n",
      "('04-12-2023 03:05:11 ERROR [plan_executor:plan_executor.py:execute_plan:0175] Load VIDEO failed: encountered unexpected error Load VIDEO failed due to no valid files found on path bddtest/videos/bddtest_00a395fed60c0b47.mp4\\n', '04-12-2023 03:05:11 WARNING[command_handler:command_handler.py:handle_request:0075] Load VIDEO failed: encountered unexpected error Load VIDEO failed due to no valid files found on path bddtest/videos/bddtest_00a395fed60c0b47.mp4\\n', '04-12-2023 03:05:11 ERROR [plan_executor:plan_executor.py:execute_plan:0175] The dataset file could not be found. Please verify that the file exists in the specified path.\\n')\n",
      "('04-12-2023 03:05:11 WARNING[command_handler:command_handler.py:handle_request:0075] The dataset file could not be found. Please verify that the file exists in the specified path.\\n', '04-12-2023 03:05:11 ERROR [plan_executor:plan_executor.py:execute_plan:0175] The dataset file could not be found. Please verify that the file exists in the specified path.\\n', '04-12-2023 03:05:11 WARNING[command_handler:command_handler.py:handle_request:0075] The dataset file could not be found. Please verify that the file exists in the specified path.\\n')\n",
      "('04-12-2023 03:05:11 ERROR [binder_utils:binder_utils.py:bind_table_info:0075] bddtest_1 does not exist. Create the table using CREATE TABLE.\\n', '04-12-2023 03:05:11 WARNING[command_handler:command_handler.py:handle_request:0075] bddtest_1 does not exist. Create the table using CREATE TABLE.\\n', None)\n"
     ]
    }
   ],
   "source": [
    "## Install EVA package if needed\n",
    "# %pip install \"evadb[dev]\" --quiet\n",
    "\n",
    "import os\n",
    "import time\n",
    "from psutil import process_iter\n",
    "from signal import SIGTERM\n",
    "import re\n",
    "import itertools\n",
    "\n",
    "def shell(command):\n",
    "    print(command)\n",
    "    os.system(command)\n",
    "\n",
    "def stop_eva_server():\n",
    "    for proc in process_iter():\n",
    "        if proc.name() == \"eva_server\":\n",
    "            proc.send_signal(SIGTERM)\n",
    "\n",
    "def launch_eva_server():\n",
    "    # Stop EVA server if it is running\n",
    "    stop_eva_server()\n",
    "\n",
    "    os.environ['GPU_DEVICES'] = '0'\n",
    "\n",
    "    # Start EVA server\n",
    "    shell(\"nohup eva_server >> eva.log 2>&1 &\")\n",
    "\n",
    "    last_few_lines_count = 3\n",
    "    try:\n",
    "        with open('eva.log', 'r') as f:\n",
    "            for lines in itertools.zip_longest(*[f]*last_few_lines_count):\n",
    "                print(lines)\n",
    "    except FileNotFoundError:\n",
    "        pass\n",
    "\n",
    "    # Wait for server to start\n",
    "    time.sleep(10)\n",
    "\n",
    "def connect_to_server():\n",
    "    from eva.server.db_api import connect\n",
    "    %pip install nest_asyncio --quiet\n",
    "    import nest_asyncio\n",
    "    nest_asyncio.apply()\n",
    "\n",
    "    # Connect client with server\n",
    "    connection = connect(host = '127.0.0.1', port = 5432) \n",
    "    cursor = connection.cursor()\n",
    "\n",
    "    return cursor\n",
    "\n",
    "# Launch server\n",
    "launch_eva_server()"
   ]
  }
 ],
 "metadata": {
  "kernelspec": {
   "display_name": "Python 3.8.10 ('test_evadb': venv)",
   "language": "python",
   "name": "python3"
  },
  "language_info": {
   "codemirror_mode": {
    "name": "ipython",
    "version": 3
   },
   "file_extension": ".py",
   "mimetype": "text/x-python",
   "name": "python",
   "nbconvert_exporter": "python",
   "pygments_lexer": "ipython3",
   "version": "3.9.2"
  },
  "vscode": {
   "interpreter": {
    "hash": "292337e8e9747092192f4a1ef18b0951099c869b0f06eb7241460e1768f24923"
   }
  }
 },
 "nbformat": 4,
 "nbformat_minor": 2
}
