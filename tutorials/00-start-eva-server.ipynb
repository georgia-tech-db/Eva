{
 "cells": [
  {
   "cell_type": "markdown",
   "metadata": {},
   "source": [
    "# Start EVA Server"
   ]
  },
  {
   "cell_type": "markdown",
   "metadata": {},
   "source": [
    "<table align=\"left\">\n",
    "  <td>\n",
    "    <a target=\"_blank\" href=\"https://colab.research.google.com/github/georgia-tech-db/eva/blob/master/tutorials/00-start-eva-server.ipynb\"><img src=\"https://www.tensorflow.org/images/colab_logo_32px.png\" /> Run on Google Colab</a>\n",
    "  </td>\n",
    "  <td>\n",
    "    <a target=\"_blank\" href=\"https://github.com/georgia-tech-db/eva/blob/master/tutorials/00-start-eva-server.ipynb\"><img src=\"https://www.tensorflow.org/images/GitHub-Mark-32px.png\" /> View source on GitHub</a>\n",
    "  </td>\n",
    "  <td>\n",
    "    <a target=\"_blank\" href=\"https://raw.githubusercontent.com/georgia-tech-db/eva/master/tutorials/00-start-eva-server.ipynb\"><img src=\"https://www.tensorflow.org/images/download_logo_32px.png\" /> Download notebook</a>\n",
    "  </td>\n",
    "</table>"
   ]
  },
  {
   "cell_type": "code",
   "execution_count": 2,
   "metadata": {},
   "outputs": [],
   "source": [
    "## Install EVA package if needed\n",
    "%pip install \"evadb[udf]\" --quiet\n",
    "\n",
    "import os\n",
    "import time\n",
    "import subprocess\n",
    "\n",
    "\n",
    "def shell(command):\n",
    "    try:\n",
    "        result = subprocess.run(command, capture_output=False, text=True)\n",
    "        message = result.stdout\n",
    "        message += result.stderr\n",
    "        print(message)\n",
    "    except Exception as e:\n",
    "        message = \"exception\"\n",
    "        print(message)\n",
    "\n",
    "def stop_eva_server():\n",
    "    # Kill any process listening on EVA's standard port\n",
    "    shell('pgrep eva')\n",
    "    shell('kill -9 $(lsof -ti:5432)')\n",
    "\n",
    "def launch_eva_server():\n",
    "\n",
    "    # Stop EVA server if it is running\n",
    "    stop_eva_server()\n",
    "\n",
    "    os.environ['GPU_DEVICES'] = '0'\n",
    "    shell(\"rm nohup.out\")\n",
    "\n",
    "    # Start EVA server\n",
    "    shell(\"nohup eva_server &\")\n",
    "    shell(\"cat nohup.out\")\n",
    "\n",
    "    # Wait for server to start\n",
    "    time.sleep(10)\n",
    "\n",
    "def connect_to_server():\n",
    "\n",
    "    from eva.server.db_api import connect\n",
    "    %pip install nest_asyncio --quiet\n",
    "    import nest_asyncio\n",
    "    nest_asyncio.apply()\n",
    "\n",
    "    # Connect client with server\n",
    "    connection = connect(host = '127.0.0.1', port = 5432) \n",
    "    cursor = connection.cursor()\n",
    "\n",
    "    return cursor\n",
    "\n",
    "# Launch server\n",
    "launch_eva_server()"
   ]
  }
 ],
 "metadata": {
  "kernelspec": {
   "display_name": "Python 3.8.10 ('test_evadb': venv)",
   "language": "python",
   "name": "python3"
  },
  "language_info": {
   "codemirror_mode": {
    "name": "ipython",
    "version": 3
   },
   "file_extension": ".py",
   "mimetype": "text/x-python",
   "name": "python",
   "nbconvert_exporter": "python",
   "pygments_lexer": "ipython3",
   "version": "3.8.10"
  },
  "orig_nbformat": 4,
  "vscode": {
   "interpreter": {
    "hash": "292337e8e9747092192f4a1ef18b0951099c869b0f06eb7241460e1768f24923"
   }
  }
 },
 "nbformat": 4,
 "nbformat_minor": 2
}
