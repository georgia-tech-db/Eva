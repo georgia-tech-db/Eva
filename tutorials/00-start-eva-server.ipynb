{
 "cells": [
  {
   "cell_type": "markdown",
   "metadata": {},
   "source": [
    "# Start EVA Server"
   ]
  },
  {
   "cell_type": "markdown",
   "metadata": {},
   "source": [
    "<table align=\"left\">\n",
    "  <td>\n",
    "    <a target=\"_blank\" href=\"https://colab.research.google.com/github/georgia-tech-db/eva/blob/master/tutorials/00-start-eva-server.ipynb\"><img src=\"https://www.tensorflow.org/images/colab_logo_32px.png\" /> Run on Google Colab</a>\n",
    "  </td>\n",
    "  <td>\n",
    "    <a target=\"_blank\" href=\"https://github.com/georgia-tech-db/eva/blob/master/tutorials/00-start-eva-server.ipynb\"><img src=\"https://www.tensorflow.org/images/GitHub-Mark-32px.png\" /> View source on GitHub</a>\n",
    "  </td>\n",
    "  <td>\n",
    "    <a target=\"_blank\" href=\"https://raw.githubusercontent.com/georgia-tech-db/eva/master/tutorials/00-start-eva-server.ipynb\"><img src=\"https://www.tensorflow.org/images/download_logo_32px.png\" /> Download notebook</a>\n",
    "  </td>\n",
    "</table>"
   ]
  },
  {
   "cell_type": "markdown",
   "metadata": {},
   "source": [
    "### Launch EVA server\n",
    "\n",
    "We use this notebook for launching the EVA server."
   ]
  },
  {
   "cell_type": "code",
   "execution_count": 1,
   "metadata": {
    "execution": {
     "iopub.execute_input": "2023-01-02T05:53:55.867758Z",
     "iopub.status.busy": "2023-01-02T05:53:55.867476Z",
     "iopub.status.idle": "2023-01-02T05:54:05.910935Z",
     "shell.execute_reply": "2023-01-02T05:54:05.908932Z"
    }
   },
   "outputs": [
    {
     "name": "stdout",
     "output_type": "stream",
     "text": [
      "nohup eva_server > eva.log 2>&1 &\n",
      "01-01-2023 23:08:30 INFO  [catalog_manager:catalog_manager.py:_bootstrap_catalog:0073] Bootstrapping catalog\n",
      "01-01-2023 23:08:30 INFO  [base_model:base_model.py:init_db:0103] Creating tables\n",
      "01-01-2023 23:08:30 INFO  [timer:timer.py:log_elapsed_time:0045] Query Compile Time: 0.2593 sec\n",
      "01-01-2023 23:08:30 WARNING[create_udf_executor:create_udf_executor.py:exec:0042] UDF FastRCNNObjectDetector already exists, nothing added.\n",
      "01-01-2023 23:08:30 INFO  [timer:timer.py:log_elapsed_time:0045] Query Compile Time: 0.0009 sec\n",
      "01-01-2023 23:08:30 WARNING[create_udf_executor:create_udf_executor.py:exec:0042] UDF Array_Count already exists, nothing added.\n",
      "01-01-2023 23:08:30 INFO  [timer:timer.py:log_elapsed_time:0045] Query Compile Time: 0.0007 sec\n",
      "01-01-2023 23:08:30 WARNING[create_udf_executor:create_udf_executor.py:exec:0042] UDF Crop already exists, nothing added.\n",
      "01-01-2023 23:08:30 INFO  [timer:timer.py:log_elapsed_time:0045] Query Compile Time: 0.0005 sec\n",
      "01-01-2023 23:08:30 WARNING[create_udf_executor:create_udf_executor.py:exec:0042] UDF Open already exists, nothing added.\n",
      "01-01-2023 23:08:30 INFO  [timer:timer.py:log_elapsed_time:0045] Query Compile Time: 0.0006 sec\n",
      "01-01-2023 23:08:30 WARNING[create_udf_executor:create_udf_executor.py:exec:0042] UDF YoloV5 already exists, nothing added.\n",
      "01-01-2023 23:08:30 INFO  [timer:timer.py:log_elapsed_time:0045] Query Compile Time: 0.0010 sec\n",
      "01-01-2023 23:08:30 WARNING[create_udf_executor:create_udf_executor.py:exec:0042] UDF Similarity already exists, nothing added.\n",
      "01-01-2023 23:08:30 INFO  [timer:timer.py:log_elapsed_time:0045] Query Compile Time: 0.0005 sec\n",
      "01-01-2023 23:08:30 WARNING[create_udf_executor:create_udf_executor.py:exec:0042] UDF DummyObjectDetector already exists, nothing added.\n",
      "01-01-2023 23:08:30 INFO  [timer:timer.py:log_elapsed_time:0045] Query Compile Time: 0.0005 sec\n",
      "01-01-2023 23:08:30 WARNING[create_udf_executor:create_udf_executor.py:exec:0042] UDF DummyMultiObjectDetector already exists, nothing added.\n",
      "01-01-2023 23:08:30 INFO  [timer:timer.py:log_elapsed_time:0045] Query Compile Time: 0.0005 sec\n",
      "01-01-2023 23:08:30 WARNING[create_udf_executor:create_udf_executor.py:exec:0042] UDF DummyFeatureExtractor already exists, nothing added.\n",
      "01-01-2023 23:08:30 INFO  [server:server.py:start_server:0096] Start Server\n",
      "01-01-2023 23:08:30 INFO  [server:server.py:start_server:0115] PID(78894) serving on ('0.0.0.0', 5432)\n",
      "\n"
     ]
    }
   ],
   "source": [
    "## Install EVA package if needed\n",
    "# %pip install \"evadb[dev]\" --quiet\n",
    "\n",
    "import os\n",
    "import time\n",
    "from psutil import process_iter\n",
    "from signal import SIGTERM\n",
    "import re\n",
    "\n",
    "def shell(command):\n",
    "    print(command)\n",
    "    os.system(command)\n",
    "\n",
    "def kill_server_with_pid(pid):\n",
    "    for proc in process_iter():\n",
    "        if proc.pid == pid:\n",
    "            proc.send_signal(SIGTERM)\n",
    "\n",
    "def stop_eva_server():\n",
    "    # FIND eva PID\n",
    "    pid = None\n",
    "    try:\n",
    "        with open('eva.log', 'r') as f:\n",
    "            for line in f:\n",
    "                if 'PID' in line:\n",
    "                    pid = re.findall(r'\\(\\d+\\)', line)[0]\n",
    "                    pid = pid[1:-1]\n",
    "    except FileNotFoundError:\n",
    "        pass\n",
    "\n",
    "    if pid is not None:\n",
    "        kill_server_with_pid(pid)\n",
    "\n",
    "def launch_eva_server():\n",
    "    # Stop EVA server if it is running\n",
    "    stop_eva_server()\n",
    "\n",
    "    os.environ['GPU_DEVICES'] = '0'\n",
    "\n",
    "    # Start EVA server\n",
    "    shell(\"nohup eva_server > eva.log 2>&1 &\")\n",
    "\n",
    "    try:\n",
    "        with open('eva.log', 'r') as f:\n",
    "            print(f.read())\n",
    "    except FileNotFoundError:\n",
    "        pass\n",
    "\n",
    "    # Wait for server to start\n",
    "    time.sleep(10)\n",
    "\n",
    "def connect_to_server():\n",
    "    from eva.server.db_api import connect\n",
    "    %pip install nest_asyncio --quiet\n",
    "    import nest_asyncio\n",
    "    nest_asyncio.apply()\n",
    "\n",
    "    # Connect client with server\n",
    "    connection = connect(host = '127.0.0.1', port = 5432) \n",
    "    cursor = connection.cursor()\n",
    "\n",
    "    return cursor\n",
    "\n",
    "# Launch server\n",
    "launch_eva_server()"
   ]
  }
 ],
 "metadata": {
  "kernelspec": {
   "display_name": "Python 3.8.10 ('test_evadb': venv)",
   "language": "python",
   "name": "python3"
  },
  "language_info": {
   "codemirror_mode": {
    "name": "ipython",
    "version": 3
   },
   "file_extension": ".py",
   "mimetype": "text/x-python",
   "name": "python",
   "nbconvert_exporter": "python",
   "pygments_lexer": "ipython3",
   "version": "3.10.9"
  },
  "vscode": {
   "interpreter": {
    "hash": "292337e8e9747092192f4a1ef18b0951099c869b0f06eb7241460e1768f24923"
   }
  }
 },
 "nbformat": 4,
 "nbformat_minor": 2
}
