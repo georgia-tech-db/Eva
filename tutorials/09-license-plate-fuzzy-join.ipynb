{
 "cells": [
  {
   "attachments": {},
   "cell_type": "markdown",
   "id": "899e81c0",
   "metadata": {},
   "source": [
    "## License Plate Detection using Fuzzy Join "
   ]
  },
  {
   "attachments": {},
   "cell_type": "markdown",
   "id": "04b5bc12",
   "metadata": {},
   "source": [
    "<table align=\"left\">\n",
    "  <td>\n",
    "    <a target=\"_blank\" href=\"https://colab.research.google.com/github/georgia-tech-db/eva/blob/master/tutorials/09-license-plate-fuzzy-join.ipynb\"><img src=\"https://www.tensorflow.org/images/colab_logo_32px.png\" /> Run on Google Colab</a>\n",
    "  </td>\n",
    "  <td>\n",
    "    <a target=\"_blank\" href=\"https://github.com/georgia-tech-db/eva/blob/master/tutorials/09-license-plate-fuzzy-join.ipynb\"><img src=\"https://www.tensorflow.org/images/GitHub-Mark-32px.png\" /> View source on GitHub</a>\n",
    "  </td>\n",
    "  <td>\n",
    "    <a target=\"_blank\" href=\"https://github.com/georgia-tech-db/eva/raw/master/tutorials/09-license-plate-fuzzy-join.ipynb\"><img src=\"https://www.tensorflow.org/images/download_logo_32px.png\" /> Download notebook</a>\n",
    "  </td>\n",
    "</table>"
   ]
  },
  {
   "attachments": {},
   "cell_type": "markdown",
   "id": "c870b8d3",
   "metadata": {},
   "source": [
    "### Start EVA server\n",
    "\n",
    "We are reusing the start server notebook for launching the EVA server."
   ]
  },
  {
   "cell_type": "code",
   "execution_count": 1,
   "id": "15379759",
   "metadata": {
    "execution": {
     "iopub.execute_input": "2023-05-12T12:46:40.758239Z",
     "iopub.status.busy": "2023-05-12T12:46:40.757676Z",
     "iopub.status.idle": "2023-05-12T12:46:59.474806Z",
     "shell.execute_reply": "2023-05-12T12:46:59.473435Z"
    }
   },
   "outputs": [
    {
     "name": "stdout",
     "output_type": "stream",
     "text": [
      "File ‘00-start-eva-server.ipynb’ already there; not retrieving.\r\n",
      "\r\n"
     ]
    },
    {
     "name": "stdout",
     "output_type": "stream",
     "text": [
      "Note: you may need to restart the kernel to use updated packages.\n",
      "nohup eva_server > eva.log 2>&1 &\n"
     ]
    },
    {
     "name": "stdout",
     "output_type": "stream",
     "text": [
      "Note: you may need to restart the kernel to use updated packages.\n"
     ]
    }
   ],
   "source": [
    "!wget -nc \"https://raw.githubusercontent.com/georgia-tech-db/eva/master/tutorials/00-start-eva-server.ipynb\"\n",
    "%run 00-start-eva-server.ipynb\n",
    "cursor = connect_to_server()"
   ]
  },
  {
   "attachments": {},
   "cell_type": "markdown",
   "id": "93e60a0f",
   "metadata": {},
   "source": [
    "### Adding the images to EVADB for analysis"
   ]
  },
  {
   "cell_type": "code",
   "execution_count": 2,
   "id": "e2f7e482",
   "metadata": {
    "execution": {
     "iopub.execute_input": "2023-05-12T12:46:59.480676Z",
     "iopub.status.busy": "2023-05-12T12:46:59.480101Z",
     "iopub.status.idle": "2023-05-12T12:47:02.604684Z",
     "shell.execute_reply": "2023-05-12T12:47:02.603849Z"
    }
   },
   "outputs": [
    {
     "name": "stdout",
     "output_type": "stream",
     "text": [
      "--2023-05-12 08:47:00--  https://www.dropbox.com/s/770stddqfl0psog/license.zip\r\n",
      "Resolving www.dropbox.com (www.dropbox.com)... 162.125.9.18, 2620:100:601f:18::a27d:912\r\n",
      "Connecting to www.dropbox.com (www.dropbox.com)|162.125.9.18|:443... connected.\r\n",
      "HTTP request sent, awaiting response... "
     ]
    },
    {
     "name": "stdout",
     "output_type": "stream",
     "text": [
      "302 Found\r\n",
      "Location: /s/raw/770stddqfl0psog/license.zip [following]\r\n",
      "--2023-05-12 08:47:00--  https://www.dropbox.com/s/raw/770stddqfl0psog/license.zip\r\n",
      "Reusing existing connection to www.dropbox.com:443.\r\n",
      "HTTP request sent, awaiting response... "
     ]
    },
    {
     "name": "stdout",
     "output_type": "stream",
     "text": [
      "302 Found\r\n",
      "Location: https://uccf55cc8e98be0ee5f099f88caa.dl.dropboxusercontent.com/cd/0/inline/B75m3rE6SYUznra7NClRKkdsBlodZyJABLDnMfiEL1WAa4fuNMTQRFzyg7HkW2vnsB03cwwRAdiFy_tf1nqgKCgQXbcOF9QUSRQqlh92oVNayDN87Vx63D64Y_1QFNuVEUC4AyEJ7Hvx6hpLt2x6R8t3JDYVFPyXkFnj-Y-FuJKhpg/file# [following]\r\n",
      "--2023-05-12 08:47:00--  https://uccf55cc8e98be0ee5f099f88caa.dl.dropboxusercontent.com/cd/0/inline/B75m3rE6SYUznra7NClRKkdsBlodZyJABLDnMfiEL1WAa4fuNMTQRFzyg7HkW2vnsB03cwwRAdiFy_tf1nqgKCgQXbcOF9QUSRQqlh92oVNayDN87Vx63D64Y_1QFNuVEUC4AyEJ7Hvx6hpLt2x6R8t3JDYVFPyXkFnj-Y-FuJKhpg/file\r\n",
      "Resolving uccf55cc8e98be0ee5f099f88caa.dl.dropboxusercontent.com (uccf55cc8e98be0ee5f099f88caa.dl.dropboxusercontent.com)... "
     ]
    },
    {
     "name": "stdout",
     "output_type": "stream",
     "text": [
      "162.125.9.15, 2620:100:601f:15::a27d:90f\r\n",
      "Connecting to uccf55cc8e98be0ee5f099f88caa.dl.dropboxusercontent.com (uccf55cc8e98be0ee5f099f88caa.dl.dropboxusercontent.com)|162.125.9.15|:443... connected.\r\n",
      "HTTP request sent, awaiting response... "
     ]
    },
    {
     "name": "stdout",
     "output_type": "stream",
     "text": [
      "302 Found\r\n",
      "Location: /cd/0/inline2/B77D-WK4QsCOSPgdNDGLI9nwf_EqyJUwAHGpDuBQUgQRx7mQ5u_9o-ug4x7SbPzHqi22r47ga11JXv-NL7Vm_UjSiSRTJTTNPD0cJtc4u1uL3kMJZtiTtekIUw4sFC8OPm5RwBTsXR0W_6qqzVqd_bK8XaRj8vgnv-jAbybOEhOk000d5SbCoKtAGxcD9HEICD1C63OV6xh9mOqqfAh0tLOx5EV1pcMC2gjpMv5G2DuxjKgB9ORn3csvDiUuHwUzuDdOo9CM6c2h1Vl2N1oxgO4FbyeOTc6ji7D-vE1LUCT4ZyfYVjco4MB-PYw6j3t7CnDRTfi6Y2l_r52O-3N1pedpT1UrlnqaJs2qYgtkp7QMpp6WW8TynsDhv3Acnpc-pZlxuSX9ktezok0qGhF_9lOy2DyYZD4XDiKeONsF5iQk2A/file [following]\r\n",
      "--2023-05-12 08:47:00--  https://uccf55cc8e98be0ee5f099f88caa.dl.dropboxusercontent.com/cd/0/inline2/B77D-WK4QsCOSPgdNDGLI9nwf_EqyJUwAHGpDuBQUgQRx7mQ5u_9o-ug4x7SbPzHqi22r47ga11JXv-NL7Vm_UjSiSRTJTTNPD0cJtc4u1uL3kMJZtiTtekIUw4sFC8OPm5RwBTsXR0W_6qqzVqd_bK8XaRj8vgnv-jAbybOEhOk000d5SbCoKtAGxcD9HEICD1C63OV6xh9mOqqfAh0tLOx5EV1pcMC2gjpMv5G2DuxjKgB9ORn3csvDiUuHwUzuDdOo9CM6c2h1Vl2N1oxgO4FbyeOTc6ji7D-vE1LUCT4ZyfYVjco4MB-PYw6j3t7CnDRTfi6Y2l_r52O-3N1pedpT1UrlnqaJs2qYgtkp7QMpp6WW8TynsDhv3Acnpc-pZlxuSX9ktezok0qGhF_9lOy2DyYZD4XDiKeONsF5iQk2A/file\r\n",
      "Reusing existing connection to uccf55cc8e98be0ee5f099f88caa.dl.dropboxusercontent.com:443.\r\n",
      "HTTP request sent, awaiting response... "
     ]
    },
    {
     "name": "stdout",
     "output_type": "stream",
     "text": [
      "200 OK\r\n",
      "Length: 3281767 (3.1M) [application/zip]\r\n",
      "Saving to: ‘license.zip’\r\n",
      "\r\n",
      "\r",
      "license.zip           0%[                    ]       0  --.-KB/s               \r",
      "license.zip         100%[===================>]   3.13M  --.-KB/s    in 0.02s   \r\n",
      "\r\n",
      "2023-05-12 08:47:01 (162 MB/s) - ‘license.zip’ saved [3281767/3281767]\r\n",
      "\r\n"
     ]
    },
    {
     "name": "stdout",
     "output_type": "stream",
     "text": [
      "Archive:  license.zip\r\n",
      "   creating: license/\r\n",
      "  inflating: license/Cars3.png       \r\n",
      "  inflating: __MACOSX/license/._Cars3.png  \r\n",
      "  inflating: license/Cars2.png       \r\n",
      "  inflating: __MACOSX/license/._Cars2.png  \r\n",
      "  inflating: license/Cars0.png       \r\n",
      "  inflating: __MACOSX/license/._Cars0.png  \r\n",
      "  inflating: license/Cars1.png       \r\n",
      "  inflating: __MACOSX/license/._Cars1.png  \r\n",
      "  inflating: license/Cars5.png       \r\n",
      "  inflating: __MACOSX/license/._Cars5.png  \r\n",
      "  inflating: license/Cars4.png       \r\n",
      "  inflating: __MACOSX/license/._Cars4.png  \r\n",
      "  inflating: license/Cars6.png       \r\n",
      "  inflating: __MACOSX/license/._Cars6.png  \r\n"
     ]
    },
    {
     "data": {
      "text/html": [
       "<div>\n",
       "<style scoped>\n",
       "    .dataframe tbody tr th:only-of-type {\n",
       "        vertical-align: middle;\n",
       "    }\n",
       "\n",
       "    .dataframe tbody tr th {\n",
       "        vertical-align: top;\n",
       "    }\n",
       "\n",
       "    .dataframe thead th {\n",
       "        text-align: right;\n",
       "    }\n",
       "</style>\n",
       "<table border=\"1\" class=\"dataframe\">\n",
       "  <thead>\n",
       "    <tr style=\"text-align: right;\">\n",
       "      <th></th>\n",
       "      <th>0</th>\n",
       "    </tr>\n",
       "  </thead>\n",
       "  <tbody>\n",
       "    <tr>\n",
       "      <th>0</th>\n",
       "      <td>Number of loaded IMAGE: 1</td>\n",
       "    </tr>\n",
       "  </tbody>\n",
       "</table>\n",
       "</div>"
      ],
      "text/plain": [
       "                           0\n",
       "0  Number of loaded IMAGE: 1"
      ]
     },
     "execution_count": 2,
     "metadata": {},
     "output_type": "execute_result"
    }
   ],
   "source": [
    "cursor.execute('DROP TABLE IF EXISTS MyImages;')\n",
    "response = cursor.fetch_all()\n",
    "response.as_df()\n",
    "\n",
    "# Download images\n",
    "!wget -nc \"https://www.dropbox.com/s/770stddqfl0psog/license.zip\"\n",
    "\n",
    "!unzip -n license.zip\n",
    "\n",
    "cursor.execute('LOAD IMAGE \"license/Cars0.png\" INTO MyImages;')\n",
    "response = cursor.fetch_all()\n",
    "response.as_df()\n",
    "\n",
    "cursor.execute('LOAD IMAGE \"license/Cars1.png\" INTO MyImages;')\n",
    "response = cursor.fetch_all()\n",
    "response.as_df()\n",
    "\n",
    "cursor.execute('LOAD IMAGE \"license/Cars2.png\" INTO MyImages;')\n",
    "response = cursor.fetch_all()\n",
    "response.as_df()\n",
    "\n",
    "cursor.execute('LOAD IMAGE \"license/Cars3.png\" INTO MyImages;')\n",
    "response = cursor.fetch_all()\n",
    "response.as_df()\n",
    "\n",
    "cursor.execute('LOAD IMAGE \"license/Cars4.png\" INTO MyImages;')\n",
    "response = cursor.fetch_all()\n",
    "response.as_df()\n",
    "\n",
    "cursor.execute('LOAD IMAGE \"license/Cars5.png\" INTO MyImages;')\n",
    "response = cursor.fetch_all()\n",
    "response.as_df()\n",
    "\n",
    "cursor.execute('LOAD IMAGE \"license/Cars6.png\" INTO MyImages;')\n",
    "response = cursor.fetch_all()\n",
    "response.as_df()"
   ]
  },
  {
   "attachments": {},
   "cell_type": "markdown",
   "id": "322c0ab2",
   "metadata": {},
   "source": [
    "### License Plate Recognition"
   ]
  },
  {
   "cell_type": "code",
   "execution_count": 3,
   "id": "dced71f6",
   "metadata": {
    "execution": {
     "iopub.execute_input": "2023-05-12T12:47:02.609739Z",
     "iopub.status.busy": "2023-05-12T12:47:02.609477Z",
     "iopub.status.idle": "2023-05-12T12:47:06.694927Z",
     "shell.execute_reply": "2023-05-12T12:47:06.693653Z"
    }
   },
   "outputs": [
    {
     "name": "stdout",
     "output_type": "stream",
     "text": [
      "--2023-05-12 08:47:03--  https://raw.githubusercontent.com/georgia-tech-db/eva/master/eva/udfs/ndarray/fuzzy_join.py\r\n",
      "Resolving raw.githubusercontent.com (raw.githubusercontent.com)... 185.199.109.133, 185.199.108.133, 185.199.110.133, ...\r\n",
      "Connecting to raw.githubusercontent.com (raw.githubusercontent.com)|185.199.109.133|:443... connected.\r\n",
      "HTTP request sent, awaiting response... "
     ]
    },
    {
     "name": "stdout",
     "output_type": "stream",
     "text": [
      "200 OK\r\n",
      "Length: 1179 (1.2K) [text/plain]\r\n",
      "Saving to: ‘fuzzy_join.py’\r\n",
      "\r\n",
      "\r",
      "fuzzy_join.py         0%[                    ]       0  --.-KB/s               \r",
      "fuzzy_join.py       100%[===================>]   1.15K  --.-KB/s    in 0s      \r\n",
      "\r\n",
      "2023-05-12 08:47:03 (33.0 MB/s) - ‘fuzzy_join.py’ saved [1179/1179]\r\n",
      "\r\n"
     ]
    },
    {
     "name": "stdout",
     "output_type": "stream",
     "text": [
      "--2023-05-12 08:47:03--  https://raw.githubusercontent.com/georgia-tech-db/eva/master/eva/udfs/ocr_extractor.py\r\n",
      "Resolving raw.githubusercontent.com (raw.githubusercontent.com)... 185.199.111.133, 185.199.110.133, 185.199.108.133, ...\r\n",
      "Connecting to raw.githubusercontent.com (raw.githubusercontent.com)|185.199.111.133|:443... connected.\r\n"
     ]
    },
    {
     "name": "stdout",
     "output_type": "stream",
     "text": [
      "HTTP request sent, awaiting response... "
     ]
    },
    {
     "name": "stdout",
     "output_type": "stream",
     "text": [
      "200 OK\r\n",
      "Length: 2750 (2.7K) [text/plain]\r\n",
      "Saving to: ‘ocr_extractor.py’\r\n",
      "\r\n",
      "\r",
      "ocr_extractor.py      0%[                    ]       0  --.-KB/s               \r",
      "ocr_extractor.py    100%[===================>]   2.69K  --.-KB/s    in 0s      \r\n",
      "\r\n",
      "2023-05-12 08:47:04 (26.0 MB/s) - ‘ocr_extractor.py’ saved [2750/2750]\r\n",
      "\r\n"
     ]
    },
    {
     "data": {
      "text/html": [
       "<div>\n",
       "<style scoped>\n",
       "    .dataframe tbody tr th:only-of-type {\n",
       "        vertical-align: middle;\n",
       "    }\n",
       "\n",
       "    .dataframe tbody tr th {\n",
       "        vertical-align: top;\n",
       "    }\n",
       "\n",
       "    .dataframe thead th {\n",
       "        text-align: right;\n",
       "    }\n",
       "</style>\n",
       "<table border=\"1\" class=\"dataframe\">\n",
       "  <thead>\n",
       "    <tr style=\"text-align: right;\">\n",
       "      <th></th>\n",
       "      <th>0</th>\n",
       "    </tr>\n",
       "  </thead>\n",
       "  <tbody>\n",
       "    <tr>\n",
       "      <th>0</th>\n",
       "      <td>UDF FuzzDistance successfully added to the dat...</td>\n",
       "    </tr>\n",
       "  </tbody>\n",
       "</table>\n",
       "</div>"
      ],
      "text/plain": [
       "                                                   0\n",
       "0  UDF FuzzDistance successfully added to the dat..."
      ]
     },
     "execution_count": 3,
     "metadata": {},
     "output_type": "execute_result"
    }
   ],
   "source": [
    "# Download UDFS\n",
    "\n",
    "!wget -nc https://raw.githubusercontent.com/georgia-tech-db/eva/master/eva/udfs/ndarray/fuzzy_join.py\n",
    "\n",
    "!wget -nc https://raw.githubusercontent.com/georgia-tech-db/eva/master/eva/udfs/ocr_extractor.py\n",
    "\n",
    "cursor.execute(\"\"\"DROP UDF IF EXISTS OCRExtractor;\"\"\")\n",
    "response = cursor.fetch_all()\n",
    "response.as_df()\n",
    "\n",
    "cursor.execute(\"\"\"DROP UDF IF EXISTS FuzzDistance;\"\"\")\n",
    "response = cursor.fetch_all()\n",
    "response.as_df()\n",
    "\n",
    "cursor.execute(\"\"\"CREATE UDF IF NOT EXISTS OCRExtractor\n",
    "                  INPUT  (frame NDARRAY UINT8(3, ANYDIM, ANYDIM))\n",
    "                  OUTPUT (labels NDARRAY STR(10),\n",
    "                          bboxes NDARRAY FLOAT32(ANYDIM, 4),\n",
    "                          scores NDARRAY FLOAT32(ANYDIM))\n",
    "                  TYPE  OCRExtraction\n",
    "                  IMPL  'ocr_extractor.py' ;\n",
    "      \"\"\")\n",
    "response = cursor.fetch_all()\n",
    "response.as_df()\n",
    "\n",
    "cursor.execute(\"\"\"CREATE UDF IF NOT EXISTS FuzzDistance\n",
    "                    INPUT (Input_Array1 NDARRAY ANYTYPE, Input_Array2 NDARRAY ANYTYPE)\n",
    "                    OUTPUT (distance FLOAT(32, 7))\n",
    "                    TYPE NdarrayUDF\n",
    "                    IMPL \"fuzzy_join.py\";\n",
    "                    \"\"\")\n",
    "response = cursor.fetch_all()\n",
    "response.as_df()"
   ]
  },
  {
   "cell_type": "code",
   "execution_count": 4,
   "id": "d3d921b0",
   "metadata": {
    "execution": {
     "iopub.execute_input": "2023-05-12T12:47:06.699395Z",
     "iopub.status.busy": "2023-05-12T12:47:06.699130Z",
     "iopub.status.idle": "2023-05-12T12:47:06.721670Z",
     "shell.execute_reply": "2023-05-12T12:47:06.720938Z"
    }
   },
   "outputs": [
    {
     "data": {
      "text/html": [
       "<div>\n",
       "<style scoped>\n",
       "    .dataframe tbody tr th:only-of-type {\n",
       "        vertical-align: middle;\n",
       "    }\n",
       "\n",
       "    .dataframe tbody tr th {\n",
       "        vertical-align: top;\n",
       "    }\n",
       "\n",
       "    .dataframe thead th {\n",
       "        text-align: right;\n",
       "    }\n",
       "</style>\n",
       "<table border=\"1\" class=\"dataframe\">\n",
       "  <thead>\n",
       "    <tr style=\"text-align: right;\">\n",
       "      <th></th>\n",
       "    </tr>\n",
       "  </thead>\n",
       "  <tbody>\n",
       "  </tbody>\n",
       "</table>\n",
       "</div>"
      ],
      "text/plain": [
       "Empty DataFrame\n",
       "Columns: []\n",
       "Index: []"
      ]
     },
     "execution_count": 4,
     "metadata": {},
     "output_type": "execute_result"
    }
   ],
   "source": [
    "cursor.execute(\"CREATE TABLE IF NOT EXISTS LicensePlateCSV(id INTEGER UNIQUE, label TEXT(30));\")\n",
    "response = cursor.fetch_all()\n",
    "response.as_df()"
   ]
  },
  {
   "cell_type": "code",
   "execution_count": 5,
   "id": "03187c26",
   "metadata": {
    "execution": {
     "iopub.execute_input": "2023-05-12T12:47:06.724995Z",
     "iopub.status.busy": "2023-05-12T12:47:06.724747Z",
     "iopub.status.idle": "2023-05-12T12:47:06.751306Z",
     "shell.execute_reply": "2023-05-12T12:47:06.750446Z"
    }
   },
   "outputs": [
    {
     "data": {
      "text/html": [
       "<div>\n",
       "<style scoped>\n",
       "    .dataframe tbody tr th:only-of-type {\n",
       "        vertical-align: middle;\n",
       "    }\n",
       "\n",
       "    .dataframe tbody tr th {\n",
       "        vertical-align: top;\n",
       "    }\n",
       "\n",
       "    .dataframe thead th {\n",
       "        text-align: right;\n",
       "    }\n",
       "</style>\n",
       "<table border=\"1\" class=\"dataframe\">\n",
       "  <thead>\n",
       "    <tr style=\"text-align: right;\">\n",
       "      <th></th>\n",
       "      <th>CSV</th>\n",
       "      <th>Number of loaded frames</th>\n",
       "    </tr>\n",
       "  </thead>\n",
       "  <tbody>\n",
       "    <tr>\n",
       "      <th>0</th>\n",
       "      <td>data.csv</td>\n",
       "      <td>5</td>\n",
       "    </tr>\n",
       "  </tbody>\n",
       "</table>\n",
       "</div>"
      ],
      "text/plain": [
       "        CSV  Number of loaded frames\n",
       "0  data.csv                        5"
      ]
     },
     "execution_count": 5,
     "metadata": {},
     "output_type": "execute_result"
    }
   ],
   "source": [
    "cursor.execute(\"LOAD CSV 'data.csv' INTO LicensePlateCSV;\")\n",
    "response = cursor.fetch_all()\n",
    "response.as_df()\n"
   ]
  },
  {
   "cell_type": "code",
   "execution_count": 6,
   "id": "a0eb6fb0",
   "metadata": {
    "execution": {
     "iopub.execute_input": "2023-05-12T12:47:06.755748Z",
     "iopub.status.busy": "2023-05-12T12:47:06.755353Z",
     "iopub.status.idle": "2023-05-12T12:47:11.831542Z",
     "shell.execute_reply": "2023-05-12T12:47:11.830762Z"
    }
   },
   "outputs": [
    {
     "data": {
      "text/html": [
       "<div>\n",
       "<style scoped>\n",
       "    .dataframe tbody tr th:only-of-type {\n",
       "        vertical-align: middle;\n",
       "    }\n",
       "\n",
       "    .dataframe tbody tr th {\n",
       "        vertical-align: top;\n",
       "    }\n",
       "\n",
       "    .dataframe thead th {\n",
       "        text-align: right;\n",
       "    }\n",
       "</style>\n",
       "<table border=\"1\" class=\"dataframe\">\n",
       "  <thead>\n",
       "    <tr style=\"text-align: right;\">\n",
       "      <th></th>\n",
       "      <th>ocrextractor.labels</th>\n",
       "      <th>ocrextractor.bboxes</th>\n",
       "      <th>ocrextractor.scores</th>\n",
       "    </tr>\n",
       "  </thead>\n",
       "  <tbody>\n",
       "    <tr>\n",
       "      <th>0</th>\n",
       "      <td>[KLo1CN2555]</td>\n",
       "      <td>[[[240, 115], [425, 115], [425, 178], [240, 17...</td>\n",
       "      <td>[0.20029704378116528]</td>\n",
       "    </tr>\n",
       "    <tr>\n",
       "      <th>1</th>\n",
       "      <td>[Coi, ZZm, PGoNMN112]</td>\n",
       "      <td>[[[320, 96], [342, 96], [342, 104], [320, 104]...</td>\n",
       "      <td>[0.2585151841538518, 0.009615490492723363, 0.1...</td>\n",
       "    </tr>\n",
       "    <tr>\n",
       "      <th>2</th>\n",
       "      <td>[PReINLR]</td>\n",
       "      <td>[[[227, 173], [269, 173], [269, 193], [227, 19...</td>\n",
       "      <td>[0.12317288475094909]</td>\n",
       "    </tr>\n",
       "    <tr>\n",
       "      <th>3</th>\n",
       "      <td>[DZI7 YXR]</td>\n",
       "      <td>[[[150, 126], [250, 126], [250, 158], [150, 15...</td>\n",
       "      <td>[0.6978633091234704]</td>\n",
       "    </tr>\n",
       "    <tr>\n",
       "      <th>4</th>\n",
       "      <td>[pPuie, BES]</td>\n",
       "      <td>[[[175.83355283634924, 85.05243648347647], [38...</td>\n",
       "      <td>[0.19272780155017014, 0.9999165839414489]</td>\n",
       "    </tr>\n",
       "    <tr>\n",
       "      <th>5</th>\n",
       "      <td>[Wet, alamy stock photo]</td>\n",
       "      <td>[[[362, 274], [384, 274], [384, 280], [362, 28...</td>\n",
       "      <td>[0.002928912305910474, 0.9390591079980826]</td>\n",
       "    </tr>\n",
       "    <tr>\n",
       "      <th>6</th>\n",
       "      <td>[802.LIN, MMay, VIRGINIA, 07]</td>\n",
       "      <td>[[[157, 141], [370, 141], [370, 219], [157, 21...</td>\n",
       "      <td>[0.8629838375738593, 0.3385108709335327, 0.999...</td>\n",
       "    </tr>\n",
       "  </tbody>\n",
       "</table>\n",
       "</div>"
      ],
      "text/plain": [
       "             ocrextractor.labels  \\\n",
       "0                   [KLo1CN2555]   \n",
       "1          [Coi, ZZm, PGoNMN112]   \n",
       "2                      [PReINLR]   \n",
       "3                     [DZI7 YXR]   \n",
       "4                   [pPuie, BES]   \n",
       "5       [Wet, alamy stock photo]   \n",
       "6  [802.LIN, MMay, VIRGINIA, 07]   \n",
       "\n",
       "                                 ocrextractor.bboxes  \\\n",
       "0  [[[240, 115], [425, 115], [425, 178], [240, 17...   \n",
       "1  [[[320, 96], [342, 96], [342, 104], [320, 104]...   \n",
       "2  [[[227, 173], [269, 173], [269, 193], [227, 19...   \n",
       "3  [[[150, 126], [250, 126], [250, 158], [150, 15...   \n",
       "4  [[[175.83355283634924, 85.05243648347647], [38...   \n",
       "5  [[[362, 274], [384, 274], [384, 280], [362, 28...   \n",
       "6  [[[157, 141], [370, 141], [370, 219], [157, 21...   \n",
       "\n",
       "                                 ocrextractor.scores  \n",
       "0                              [0.20029704378116528]  \n",
       "1  [0.2585151841538518, 0.009615490492723363, 0.1...  \n",
       "2                              [0.12317288475094909]  \n",
       "3                               [0.6978633091234704]  \n",
       "4          [0.19272780155017014, 0.9999165839414489]  \n",
       "5         [0.002928912305910474, 0.9390591079980826]  \n",
       "6  [0.8629838375738593, 0.3385108709335327, 0.999...  "
      ]
     },
     "execution_count": 6,
     "metadata": {},
     "output_type": "execute_result"
    }
   ],
   "source": [
    "cursor.execute('SELECT OCRExtractor(data) FROM MyImages;')\n",
    "response = cursor.fetch_all()\n",
    "response.as_df()"
   ]
  },
  {
   "cell_type": "code",
   "execution_count": 7,
   "id": "e93233e9",
   "metadata": {
    "execution": {
     "iopub.execute_input": "2023-05-12T12:47:11.836526Z",
     "iopub.status.busy": "2023-05-12T12:47:11.836264Z",
     "iopub.status.idle": "2023-05-12T12:47:16.576930Z",
     "shell.execute_reply": "2023-05-12T12:47:16.575899Z"
    }
   },
   "outputs": [
    {
     "data": {
      "text/html": [
       "<div>\n",
       "<style scoped>\n",
       "    .dataframe tbody tr th:only-of-type {\n",
       "        vertical-align: middle;\n",
       "    }\n",
       "\n",
       "    .dataframe tbody tr th {\n",
       "        vertical-align: top;\n",
       "    }\n",
       "\n",
       "    .dataframe thead th {\n",
       "        text-align: right;\n",
       "    }\n",
       "</style>\n",
       "<table border=\"1\" class=\"dataframe\">\n",
       "  <thead>\n",
       "    <tr style=\"text-align: right;\">\n",
       "      <th></th>\n",
       "      <th>licenseplatecsv._row_id</th>\n",
       "      <th>licenseplatecsv.id</th>\n",
       "      <th>licenseplatecsv.label</th>\n",
       "    </tr>\n",
       "  </thead>\n",
       "  <tbody>\n",
       "    <tr>\n",
       "      <th>0</th>\n",
       "      <td>1</td>\n",
       "      <td>1</td>\n",
       "      <td>KLG1CA2555</td>\n",
       "    </tr>\n",
       "    <tr>\n",
       "      <th>1</th>\n",
       "      <td>2</td>\n",
       "      <td>2</td>\n",
       "      <td>PGMN112</td>\n",
       "    </tr>\n",
       "    <tr>\n",
       "      <th>2</th>\n",
       "      <td>3</td>\n",
       "      <td>3</td>\n",
       "      <td>PRENUP</td>\n",
       "    </tr>\n",
       "    <tr>\n",
       "      <th>3</th>\n",
       "      <td>4</td>\n",
       "      <td>4</td>\n",
       "      <td>DZ17YXR</td>\n",
       "    </tr>\n",
       "    <tr>\n",
       "      <th>4</th>\n",
       "      <td>5</td>\n",
       "      <td>5</td>\n",
       "      <td>PUI8BES</td>\n",
       "    </tr>\n",
       "    <tr>\n",
       "      <th>5</th>\n",
       "      <td>6</td>\n",
       "      <td>1</td>\n",
       "      <td>KLG1CA2555</td>\n",
       "    </tr>\n",
       "    <tr>\n",
       "      <th>6</th>\n",
       "      <td>7</td>\n",
       "      <td>2</td>\n",
       "      <td>PGMN112</td>\n",
       "    </tr>\n",
       "    <tr>\n",
       "      <th>7</th>\n",
       "      <td>8</td>\n",
       "      <td>3</td>\n",
       "      <td>PRENUP</td>\n",
       "    </tr>\n",
       "    <tr>\n",
       "      <th>8</th>\n",
       "      <td>9</td>\n",
       "      <td>4</td>\n",
       "      <td>DZ17YXR</td>\n",
       "    </tr>\n",
       "    <tr>\n",
       "      <th>9</th>\n",
       "      <td>10</td>\n",
       "      <td>5</td>\n",
       "      <td>PUI8BES</td>\n",
       "    </tr>\n",
       "  </tbody>\n",
       "</table>\n",
       "</div>"
      ],
      "text/plain": [
       "   licenseplatecsv._row_id  licenseplatecsv.id licenseplatecsv.label\n",
       "0                        1                   1            KLG1CA2555\n",
       "1                        2                   2               PGMN112\n",
       "2                        3                   3                PRENUP\n",
       "3                        4                   4               DZ17YXR\n",
       "4                        5                   5               PUI8BES\n",
       "5                        6                   1            KLG1CA2555\n",
       "6                        7                   2               PGMN112\n",
       "7                        8                   3                PRENUP\n",
       "8                        9                   4               DZ17YXR\n",
       "9                       10                   5               PUI8BES"
      ]
     },
     "execution_count": 7,
     "metadata": {},
     "output_type": "execute_result"
    }
   ],
   "source": [
    "cursor.execute('SELECT OCRExtractor(data) FROM MyImages;')\n",
    "response = cursor.fetch_all()\n",
    "response.as_df()\n",
    "\n",
    "cursor.execute('SELECT * FROM LicensePlateCSV;')\n",
    "response = cursor.fetch_all()\n",
    "response.as_df()"
   ]
  },
  {
   "attachments": {},
   "cell_type": "markdown",
   "id": "4b41f136",
   "metadata": {},
   "source": [
    "### Run Fuzzy Join to match Detected License Plate against Local License Plate Database (csv)"
   ]
  },
  {
   "cell_type": "code",
   "execution_count": 8,
   "id": "9431e221",
   "metadata": {
    "execution": {
     "iopub.execute_input": "2023-05-12T12:47:16.581764Z",
     "iopub.status.busy": "2023-05-12T12:47:16.581419Z",
     "iopub.status.idle": "2023-05-12T12:47:23.332309Z",
     "shell.execute_reply": "2023-05-12T12:47:23.331374Z"
    }
   },
   "outputs": [
    {
     "data": {
      "text/html": [
       "<div>\n",
       "<style scoped>\n",
       "    .dataframe tbody tr th:only-of-type {\n",
       "        vertical-align: middle;\n",
       "    }\n",
       "\n",
       "    .dataframe tbody tr th {\n",
       "        vertical-align: top;\n",
       "    }\n",
       "\n",
       "    .dataframe thead th {\n",
       "        text-align: right;\n",
       "    }\n",
       "</style>\n",
       "<table border=\"1\" class=\"dataframe\">\n",
       "  <thead>\n",
       "    <tr style=\"text-align: right;\">\n",
       "      <th></th>\n",
       "      <th>myimages._row_id</th>\n",
       "      <th>myimages.name</th>\n",
       "      <th>myimages.data</th>\n",
       "      <th>B._row_id</th>\n",
       "      <th>B.id</th>\n",
       "      <th>B.label</th>\n",
       "      <th>T.a</th>\n",
       "      <th>T.b</th>\n",
       "      <th>T.c</th>\n",
       "    </tr>\n",
       "  </thead>\n",
       "  <tbody>\n",
       "    <tr>\n",
       "      <th>0</th>\n",
       "      <td>1</td>\n",
       "      <td>license/Cars0.png</td>\n",
       "      <td>[[[25, 75, 100], [73, 130, 159], [52, 127, 158...</td>\n",
       "      <td>1</td>\n",
       "      <td>1</td>\n",
       "      <td>KLG1CA2555</td>\n",
       "      <td>[KLo1CN2555]</td>\n",
       "      <td>[[[240, 115], [425, 115], [425, 178], [240, 17...</td>\n",
       "      <td>[0.20029704378116528]</td>\n",
       "    </tr>\n",
       "  </tbody>\n",
       "</table>\n",
       "</div>"
      ],
      "text/plain": [
       "   myimages._row_id      myimages.name  \\\n",
       "0                 1  license/Cars0.png   \n",
       "\n",
       "                                       myimages.data  B._row_id  B.id  \\\n",
       "0  [[[25, 75, 100], [73, 130, 159], [52, 127, 158...          1     1   \n",
       "\n",
       "      B.label           T.a  \\\n",
       "0  KLG1CA2555  [KLo1CN2555]   \n",
       "\n",
       "                                                 T.b                    T.c  \n",
       "0  [[[240, 115], [425, 115], [425, 178], [240, 17...  [0.20029704378116528]  "
      ]
     },
     "execution_count": 8,
     "metadata": {},
     "output_type": "execute_result"
    }
   ],
   "source": [
    "cursor.execute(\"\"\"\n",
    "   SELECT * FROM MyImages \n",
    "       JOIN LATERAL OCRExtractor(data) AS T(a,b,c) \n",
    "       JOIN LicensePlateCSV B \n",
    "       ON FuzzDistance(T.a, B.label) > 50;\n",
    "       \"\"\")\n",
    "response = cursor.fetch_all()\n",
    "response.as_df()"
   ]
  }
 ],
 "metadata": {
  "kernelspec": {
   "display_name": "Python 3 (ipykernel)",
   "language": "python",
   "name": "python3"
  },
  "language_info": {
   "codemirror_mode": {
    "name": "ipython",
    "version": 3
   },
   "file_extension": ".py",
   "mimetype": "text/x-python",
   "name": "python",
   "nbconvert_exporter": "python",
   "pygments_lexer": "ipython3",
   "version": "3.8.10"
  },
  "varInspector": {
   "cols": {
    "lenName": 16,
    "lenType": 16,
    "lenVar": 40
   },
   "kernels_config": {
    "python": {
     "delete_cmd_postfix": "",
     "delete_cmd_prefix": "del ",
     "library": "var_list.py",
     "varRefreshCmd": "print(var_dic_list())"
    },
    "r": {
     "delete_cmd_postfix": ") ",
     "delete_cmd_prefix": "rm(",
     "library": "var_list.r",
     "varRefreshCmd": "cat(var_dic_list()) "
    }
   },
   "types_to_exclude": [
    "module",
    "function",
    "builtin_function_or_method",
    "instance",
    "_Feature"
   ],
   "window_display": false
  }
 },
 "nbformat": 4,
 "nbformat_minor": 5
}
