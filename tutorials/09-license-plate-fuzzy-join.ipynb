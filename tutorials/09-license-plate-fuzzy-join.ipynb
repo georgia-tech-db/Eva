{
 "cells": [
  {
   "attachments": {},
   "cell_type": "markdown",
   "id": "899e81c0",
   "metadata": {},
   "source": [
    "## License Plate Detection using Fuzzy Join "
   ]
  },
  {
   "attachments": {},
   "cell_type": "markdown",
   "id": "04b5bc12",
   "metadata": {},
   "source": [
    "<table align=\"left\">\n",
    "  <td>\n",
    "    <a target=\"_blank\" href=\"https://colab.research.google.com/github/georgia-tech-db/eva/blob/master/tutorials/09-license-plate-fuzzy-join.ipynb\"><img src=\"https://www.tensorflow.org/images/colab_logo_32px.png\" /> Run on Google Colab</a>\n",
    "  </td>\n",
    "  <td>\n",
    "    <a target=\"_blank\" href=\"https://github.com/georgia-tech-db/eva/blob/master/tutorials/09-license-plate-fuzzy-join.ipynb\"><img src=\"https://www.tensorflow.org/images/GitHub-Mark-32px.png\" /> View source on GitHub</a>\n",
    "  </td>\n",
    "  <td>\n",
    "    <a target=\"_blank\" href=\"https://github.com/georgia-tech-db/eva/raw/master/tutorials/09-license-plate-fuzzy-join.ipynb\"><img src=\"https://www.tensorflow.org/images/download_logo_32px.png\" /> Download notebook</a>\n",
    "  </td>\n",
    "</table><br><br>"
   ]
  },
  {
   "attachments": {},
   "cell_type": "markdown",
   "id": "c870b8d3",
   "metadata": {},
   "source": [
    "### Connect to EvaDB"
   ]
  },
  {
   "cell_type": "code",
   "execution_count": 1,
   "id": "08c79d84",
   "metadata": {
    "execution": {
     "iopub.execute_input": "2023-06-24T16:26:04.253205Z",
     "iopub.status.busy": "2023-06-24T16:26:04.252766Z",
     "iopub.status.idle": "2023-06-24T16:26:07.518456Z",
     "shell.execute_reply": "2023-06-24T16:26:07.517187Z"
    }
   },
   "outputs": [
    {
     "name": "stdout",
     "output_type": "stream",
     "text": [
      "Requirement already satisfied: evadb[notebook,vision] in /home/jarulraj3/eva/test_evadb/lib/python3.10/site-packages (0.2.14+dev)\n",
      "Requirement already satisfied: numpy>=1.19.5 in /home/jarulraj3/eva/test_evadb/lib/python3.10/site-packages (from evadb[notebook,vision]) (1.25.0)\n",
      "Requirement already satisfied: pandas>=1.1.5 in /home/jarulraj3/eva/test_evadb/lib/python3.10/site-packages (from evadb[notebook,vision]) (2.0.2)\n",
      "Requirement already satisfied: sqlalchemy<2.0.0,>=1.4.0 in /home/jarulraj3/eva/test_evadb/lib/python3.10/site-packages (from evadb[notebook,vision]) (1.4.48)\n",
      "Requirement already satisfied: sqlalchemy-utils>=0.36.6 in /home/jarulraj3/eva/test_evadb/lib/python3.10/site-packages (from evadb[notebook,vision]) (0.41.1)\n",
      "Requirement already satisfied: lark>=1.0.0 in /home/jarulraj3/eva/test_evadb/lib/python3.10/site-packages (from evadb[notebook,vision]) (1.1.5)\n",
      "Requirement already satisfied: pyyaml>=5.1 in /home/jarulraj3/eva/test_evadb/lib/python3.10/site-packages (from evadb[notebook,vision]) (6.0)\n",
      "Requirement already satisfied: aenum>=2.2.0 in /home/jarulraj3/eva/test_evadb/lib/python3.10/site-packages (from evadb[notebook,vision]) (3.1.14)\n",
      "Requirement already satisfied: diskcache>=5.4.0 in /home/jarulraj3/eva/test_evadb/lib/python3.10/site-packages (from evadb[notebook,vision]) (5.6.1)\n",
      "Requirement already satisfied: retry>=0.9.2 in /home/jarulraj3/eva/test_evadb/lib/python3.10/site-packages (from evadb[notebook,vision]) (0.9.2)\n",
      "Requirement already satisfied: psutil in /home/jarulraj3/eva/test_evadb/lib/python3.10/site-packages (from evadb[notebook,vision]) (5.9.5)\n",
      "Requirement already satisfied: torch>=1.10.0 in /home/jarulraj3/eva/test_evadb/lib/python3.10/site-packages (from evadb[notebook,vision]) (2.0.1)\n",
      "Requirement already satisfied: torchvision>=0.11.1 in /home/jarulraj3/eva/test_evadb/lib/python3.10/site-packages (from evadb[notebook,vision]) (0.15.2)\n",
      "Requirement already satisfied: transformers<4.30.2,>=4.27.4 in /home/jarulraj3/eva/test_evadb/lib/python3.10/site-packages (from evadb[notebook,vision]) (4.30.1)\n",
      "Requirement already satisfied: faiss-cpu in /home/jarulraj3/eva/test_evadb/lib/python3.10/site-packages (from evadb[notebook,vision]) (1.7.4)\n",
      "Requirement already satisfied: opencv-python-headless>=4.6.0.66 in /home/jarulraj3/eva/test_evadb/lib/python3.10/site-packages (from evadb[notebook,vision]) (4.7.0.72)\n",
      "Requirement already satisfied: Pillow>=8.4.0 in /home/jarulraj3/eva/test_evadb/lib/python3.10/site-packages (from evadb[notebook,vision]) (9.5.0)\n",
      "Requirement already satisfied: eva-decord>=0.6.1 in /home/jarulraj3/eva/test_evadb/lib/python3.10/site-packages (from evadb[notebook,vision]) (0.6.1)\n",
      "Requirement already satisfied: ultralytics>=8.0.93 in /home/jarulraj3/eva/test_evadb/lib/python3.10/site-packages (from evadb[notebook,vision]) (8.0.121)\n",
      "Requirement already satisfied: timm>=0.6.13 in /home/jarulraj3/eva/test_evadb/lib/python3.10/site-packages (from evadb[notebook,vision]) (0.9.2)\n",
      "Requirement already satisfied: sentencepiece in /home/jarulraj3/eva/test_evadb/lib/python3.10/site-packages (from evadb[notebook,vision]) (0.1.99)\n",
      "Requirement already satisfied: ipython<8.13.0 in /home/jarulraj3/eva/test_evadb/lib/python3.10/site-packages (from evadb[notebook,vision]) (8.12.2)\n",
      "Requirement already satisfied: ipywidgets>=7.7.2 in /home/jarulraj3/eva/test_evadb/lib/python3.10/site-packages (from evadb[notebook,vision]) (8.0.6)\n",
      "Requirement already satisfied: matplotlib>=3.3.4 in /home/jarulraj3/eva/test_evadb/lib/python3.10/site-packages (from evadb[notebook,vision]) (3.7.1)\n",
      "Requirement already satisfied: nbmake>=1.2.1 in /home/jarulraj3/eva/test_evadb/lib/python3.10/site-packages (from evadb[notebook,vision]) (1.4.1)\n",
      "Requirement already satisfied: nest-asyncio>=1.5.6 in /home/jarulraj3/eva/test_evadb/lib/python3.10/site-packages (from evadb[notebook,vision]) (1.5.6)\n",
      "Requirement already satisfied: backcall in /home/jarulraj3/eva/test_evadb/lib/python3.10/site-packages (from ipython<8.13.0->evadb[notebook,vision]) (0.2.0)\n",
      "Requirement already satisfied: decorator in /home/jarulraj3/eva/test_evadb/lib/python3.10/site-packages (from ipython<8.13.0->evadb[notebook,vision]) (5.1.1)\n",
      "Requirement already satisfied: jedi>=0.16 in /home/jarulraj3/eva/test_evadb/lib/python3.10/site-packages (from ipython<8.13.0->evadb[notebook,vision]) (0.18.2)\n",
      "Requirement already satisfied: matplotlib-inline in /home/jarulraj3/eva/test_evadb/lib/python3.10/site-packages (from ipython<8.13.0->evadb[notebook,vision]) (0.1.6)\n",
      "Requirement already satisfied: pickleshare in /home/jarulraj3/eva/test_evadb/lib/python3.10/site-packages (from ipython<8.13.0->evadb[notebook,vision]) (0.7.5)\n",
      "Requirement already satisfied: prompt-toolkit!=3.0.37,<3.1.0,>=3.0.30 in /home/jarulraj3/eva/test_evadb/lib/python3.10/site-packages (from ipython<8.13.0->evadb[notebook,vision]) (3.0.38)\n",
      "Requirement already satisfied: pygments>=2.4.0 in /home/jarulraj3/eva/test_evadb/lib/python3.10/site-packages (from ipython<8.13.0->evadb[notebook,vision]) (2.15.1)\n",
      "Requirement already satisfied: stack-data in /home/jarulraj3/eva/test_evadb/lib/python3.10/site-packages (from ipython<8.13.0->evadb[notebook,vision]) (0.6.2)\n",
      "Requirement already satisfied: traitlets>=5 in /home/jarulraj3/eva/test_evadb/lib/python3.10/site-packages (from ipython<8.13.0->evadb[notebook,vision]) (5.9.0)\n",
      "Requirement already satisfied: pexpect>4.3 in /home/jarulraj3/eva/test_evadb/lib/python3.10/site-packages (from ipython<8.13.0->evadb[notebook,vision]) (4.8.0)\n",
      "Requirement already satisfied: ipykernel>=4.5.1 in /home/jarulraj3/eva/test_evadb/lib/python3.10/site-packages (from ipywidgets>=7.7.2->evadb[notebook,vision]) (6.23.3)\n",
      "Requirement already satisfied: widgetsnbextension~=4.0.7 in /home/jarulraj3/eva/test_evadb/lib/python3.10/site-packages (from ipywidgets>=7.7.2->evadb[notebook,vision]) (4.0.7)\n",
      "Requirement already satisfied: jupyterlab-widgets~=3.0.7 in /home/jarulraj3/eva/test_evadb/lib/python3.10/site-packages (from ipywidgets>=7.7.2->evadb[notebook,vision]) (3.0.7)\n",
      "Requirement already satisfied: contourpy>=1.0.1 in /home/jarulraj3/eva/test_evadb/lib/python3.10/site-packages (from matplotlib>=3.3.4->evadb[notebook,vision]) (1.1.0)\n",
      "Requirement already satisfied: cycler>=0.10 in /home/jarulraj3/eva/test_evadb/lib/python3.10/site-packages (from matplotlib>=3.3.4->evadb[notebook,vision]) (0.11.0)\n",
      "Requirement already satisfied: fonttools>=4.22.0 in /home/jarulraj3/eva/test_evadb/lib/python3.10/site-packages (from matplotlib>=3.3.4->evadb[notebook,vision]) (4.40.0)\n",
      "Requirement already satisfied: kiwisolver>=1.0.1 in /home/jarulraj3/eva/test_evadb/lib/python3.10/site-packages (from matplotlib>=3.3.4->evadb[notebook,vision]) (1.4.4)\n",
      "Requirement already satisfied: packaging>=20.0 in /home/jarulraj3/eva/test_evadb/lib/python3.10/site-packages (from matplotlib>=3.3.4->evadb[notebook,vision]) (23.1)\n",
      "Requirement already satisfied: pyparsing>=2.3.1 in /home/jarulraj3/eva/test_evadb/lib/python3.10/site-packages (from matplotlib>=3.3.4->evadb[notebook,vision]) (3.1.0)\n",
      "Requirement already satisfied: python-dateutil>=2.7 in /home/jarulraj3/eva/test_evadb/lib/python3.10/site-packages (from matplotlib>=3.3.4->evadb[notebook,vision]) (2.8.2)\n",
      "Requirement already satisfied: nbclient<0.7.0,>=0.6.6 in /home/jarulraj3/eva/test_evadb/lib/python3.10/site-packages (from nbmake>=1.2.1->evadb[notebook,vision]) (0.6.8)\n",
      "Requirement already satisfied: nbformat<6.0.0,>=5.0.8 in /home/jarulraj3/eva/test_evadb/lib/python3.10/site-packages (from nbmake>=1.2.1->evadb[notebook,vision]) (5.9.0)\n",
      "Requirement already satisfied: pydantic<2.0.0,>=1.7.2 in /home/jarulraj3/eva/test_evadb/lib/python3.10/site-packages (from nbmake>=1.2.1->evadb[notebook,vision]) (1.10.9)\n",
      "Requirement already satisfied: pytest>=6.1.0 in /home/jarulraj3/eva/test_evadb/lib/python3.10/site-packages (from nbmake>=1.2.1->evadb[notebook,vision]) (7.4.0)\n",
      "Requirement already satisfied: pytz>=2020.1 in /home/jarulraj3/eva/test_evadb/lib/python3.10/site-packages (from pandas>=1.1.5->evadb[notebook,vision]) (2023.3)\n",
      "Requirement already satisfied: tzdata>=2022.1 in /home/jarulraj3/eva/test_evadb/lib/python3.10/site-packages (from pandas>=1.1.5->evadb[notebook,vision]) (2023.3)\n",
      "Requirement already satisfied: py<2.0.0,>=1.4.26 in /home/jarulraj3/eva/test_evadb/lib/python3.10/site-packages (from retry>=0.9.2->evadb[notebook,vision]) (1.11.0)\n",
      "Requirement already satisfied: greenlet!=0.4.17 in /home/jarulraj3/eva/test_evadb/lib/python3.10/site-packages (from sqlalchemy<2.0.0,>=1.4.0->evadb[notebook,vision]) (2.0.2)\n",
      "Requirement already satisfied: huggingface-hub in /home/jarulraj3/eva/test_evadb/lib/python3.10/site-packages (from timm>=0.6.13->evadb[notebook,vision]) (0.15.1)\n",
      "Requirement already satisfied: safetensors in /home/jarulraj3/eva/test_evadb/lib/python3.10/site-packages (from timm>=0.6.13->evadb[notebook,vision]) (0.3.1)\n",
      "Requirement already satisfied: filelock in /home/jarulraj3/eva/test_evadb/lib/python3.10/site-packages (from torch>=1.10.0->evadb[notebook,vision]) (3.12.2)\n",
      "Requirement already satisfied: typing-extensions in /home/jarulraj3/eva/test_evadb/lib/python3.10/site-packages (from torch>=1.10.0->evadb[notebook,vision]) (4.5.0)\n",
      "Requirement already satisfied: sympy in /home/jarulraj3/eva/test_evadb/lib/python3.10/site-packages (from torch>=1.10.0->evadb[notebook,vision]) (1.12)\n",
      "Requirement already satisfied: networkx in /home/jarulraj3/eva/test_evadb/lib/python3.10/site-packages (from torch>=1.10.0->evadb[notebook,vision]) (3.1)\n",
      "Requirement already satisfied: jinja2 in /home/jarulraj3/eva/test_evadb/lib/python3.10/site-packages (from torch>=1.10.0->evadb[notebook,vision]) (3.1.2)\n",
      "Requirement already satisfied: nvidia-cuda-nvrtc-cu11==11.7.99 in /home/jarulraj3/eva/test_evadb/lib/python3.10/site-packages (from torch>=1.10.0->evadb[notebook,vision]) (11.7.99)\n",
      "Requirement already satisfied: nvidia-cuda-runtime-cu11==11.7.99 in /home/jarulraj3/eva/test_evadb/lib/python3.10/site-packages (from torch>=1.10.0->evadb[notebook,vision]) (11.7.99)\n",
      "Requirement already satisfied: nvidia-cuda-cupti-cu11==11.7.101 in /home/jarulraj3/eva/test_evadb/lib/python3.10/site-packages (from torch>=1.10.0->evadb[notebook,vision]) (11.7.101)\n",
      "Requirement already satisfied: nvidia-cudnn-cu11==8.5.0.96 in /home/jarulraj3/eva/test_evadb/lib/python3.10/site-packages (from torch>=1.10.0->evadb[notebook,vision]) (8.5.0.96)\n",
      "Requirement already satisfied: nvidia-cublas-cu11==11.10.3.66 in /home/jarulraj3/eva/test_evadb/lib/python3.10/site-packages (from torch>=1.10.0->evadb[notebook,vision]) (11.10.3.66)\n",
      "Requirement already satisfied: nvidia-cufft-cu11==10.9.0.58 in /home/jarulraj3/eva/test_evadb/lib/python3.10/site-packages (from torch>=1.10.0->evadb[notebook,vision]) (10.9.0.58)\n",
      "Requirement already satisfied: nvidia-curand-cu11==10.2.10.91 in /home/jarulraj3/eva/test_evadb/lib/python3.10/site-packages (from torch>=1.10.0->evadb[notebook,vision]) (10.2.10.91)\n",
      "Requirement already satisfied: nvidia-cusolver-cu11==11.4.0.1 in /home/jarulraj3/eva/test_evadb/lib/python3.10/site-packages (from torch>=1.10.0->evadb[notebook,vision]) (11.4.0.1)\n",
      "Requirement already satisfied: nvidia-cusparse-cu11==11.7.4.91 in /home/jarulraj3/eva/test_evadb/lib/python3.10/site-packages (from torch>=1.10.0->evadb[notebook,vision]) (11.7.4.91)\n",
      "Requirement already satisfied: nvidia-nccl-cu11==2.14.3 in /home/jarulraj3/eva/test_evadb/lib/python3.10/site-packages (from torch>=1.10.0->evadb[notebook,vision]) (2.14.3)\n",
      "Requirement already satisfied: nvidia-nvtx-cu11==11.7.91 in /home/jarulraj3/eva/test_evadb/lib/python3.10/site-packages (from torch>=1.10.0->evadb[notebook,vision]) (11.7.91)\n",
      "Requirement already satisfied: triton==2.0.0 in /home/jarulraj3/eva/test_evadb/lib/python3.10/site-packages (from torch>=1.10.0->evadb[notebook,vision]) (2.0.0)\n",
      "Requirement already satisfied: setuptools in /home/jarulraj3/eva/test_evadb/lib/python3.10/site-packages (from nvidia-cublas-cu11==11.10.3.66->torch>=1.10.0->evadb[notebook,vision]) (65.5.0)\n",
      "Requirement already satisfied: wheel in /home/jarulraj3/eva/test_evadb/lib/python3.10/site-packages (from nvidia-cublas-cu11==11.10.3.66->torch>=1.10.0->evadb[notebook,vision]) (0.40.0)\n",
      "Requirement already satisfied: cmake in /home/jarulraj3/eva/test_evadb/lib/python3.10/site-packages (from triton==2.0.0->torch>=1.10.0->evadb[notebook,vision]) (3.26.4)\n",
      "Requirement already satisfied: lit in /home/jarulraj3/eva/test_evadb/lib/python3.10/site-packages (from triton==2.0.0->torch>=1.10.0->evadb[notebook,vision]) (16.0.6)\n",
      "Requirement already satisfied: requests in /home/jarulraj3/eva/test_evadb/lib/python3.10/site-packages (from torchvision>=0.11.1->evadb[notebook,vision]) (2.31.0)\n",
      "Requirement already satisfied: regex!=2019.12.17 in /home/jarulraj3/eva/test_evadb/lib/python3.10/site-packages (from transformers<4.30.2,>=4.27.4->evadb[notebook,vision]) (2023.6.3)\n",
      "Requirement already satisfied: tokenizers!=0.11.3,<0.14,>=0.11.1 in /home/jarulraj3/eva/test_evadb/lib/python3.10/site-packages (from transformers<4.30.2,>=4.27.4->evadb[notebook,vision]) (0.12.1)\n",
      "Requirement already satisfied: tqdm>=4.27 in /home/jarulraj3/eva/test_evadb/lib/python3.10/site-packages (from transformers<4.30.2,>=4.27.4->evadb[notebook,vision]) (4.65.0)\n",
      "Requirement already satisfied: opencv-python>=4.6.0 in /home/jarulraj3/eva/test_evadb/lib/python3.10/site-packages (from ultralytics>=8.0.93->evadb[notebook,vision]) (4.7.0.72)\n",
      "Requirement already satisfied: scipy>=1.4.1 in /home/jarulraj3/eva/test_evadb/lib/python3.10/site-packages (from ultralytics>=8.0.93->evadb[notebook,vision]) (1.10.1)\n",
      "Requirement already satisfied: seaborn>=0.11.0 in /home/jarulraj3/eva/test_evadb/lib/python3.10/site-packages (from ultralytics>=8.0.93->evadb[notebook,vision]) (0.12.2)\n",
      "Requirement already satisfied: fsspec in /home/jarulraj3/eva/test_evadb/lib/python3.10/site-packages (from huggingface-hub->timm>=0.6.13->evadb[notebook,vision]) (2023.6.0)\n",
      "Requirement already satisfied: comm>=0.1.1 in /home/jarulraj3/eva/test_evadb/lib/python3.10/site-packages (from ipykernel>=4.5.1->ipywidgets>=7.7.2->evadb[notebook,vision]) (0.1.3)\n",
      "Requirement already satisfied: debugpy>=1.6.5 in /home/jarulraj3/eva/test_evadb/lib/python3.10/site-packages (from ipykernel>=4.5.1->ipywidgets>=7.7.2->evadb[notebook,vision]) (1.6.7)\n",
      "Requirement already satisfied: jupyter-client>=6.1.12 in /home/jarulraj3/eva/test_evadb/lib/python3.10/site-packages (from ipykernel>=4.5.1->ipywidgets>=7.7.2->evadb[notebook,vision]) (8.3.0)\n",
      "Requirement already satisfied: jupyter-core!=5.0.*,>=4.12 in /home/jarulraj3/eva/test_evadb/lib/python3.10/site-packages (from ipykernel>=4.5.1->ipywidgets>=7.7.2->evadb[notebook,vision]) (5.3.1)\n",
      "Requirement already satisfied: pyzmq>=20 in /home/jarulraj3/eva/test_evadb/lib/python3.10/site-packages (from ipykernel>=4.5.1->ipywidgets>=7.7.2->evadb[notebook,vision]) (25.1.0)\n",
      "Requirement already satisfied: tornado>=6.1 in /home/jarulraj3/eva/test_evadb/lib/python3.10/site-packages (from ipykernel>=4.5.1->ipywidgets>=7.7.2->evadb[notebook,vision]) (6.3.2)\n",
      "Requirement already satisfied: parso<0.9.0,>=0.8.0 in /home/jarulraj3/eva/test_evadb/lib/python3.10/site-packages (from jedi>=0.16->ipython<8.13.0->evadb[notebook,vision]) (0.8.3)\n",
      "Requirement already satisfied: fastjsonschema in /home/jarulraj3/eva/test_evadb/lib/python3.10/site-packages (from nbformat<6.0.0,>=5.0.8->nbmake>=1.2.1->evadb[notebook,vision]) (2.17.1)\n",
      "Requirement already satisfied: jsonschema>=2.6 in /home/jarulraj3/eva/test_evadb/lib/python3.10/site-packages (from nbformat<6.0.0,>=5.0.8->nbmake>=1.2.1->evadb[notebook,vision]) (4.17.3)\n",
      "Requirement already satisfied: ptyprocess>=0.5 in /home/jarulraj3/eva/test_evadb/lib/python3.10/site-packages (from pexpect>4.3->ipython<8.13.0->evadb[notebook,vision]) (0.7.0)\n",
      "Requirement already satisfied: wcwidth in /home/jarulraj3/eva/test_evadb/lib/python3.10/site-packages (from prompt-toolkit!=3.0.37,<3.1.0,>=3.0.30->ipython<8.13.0->evadb[notebook,vision]) (0.2.6)\n",
      "Requirement already satisfied: iniconfig in /home/jarulraj3/eva/test_evadb/lib/python3.10/site-packages (from pytest>=6.1.0->nbmake>=1.2.1->evadb[notebook,vision]) (2.0.0)\n",
      "Requirement already satisfied: pluggy<2.0,>=0.12 in /home/jarulraj3/eva/test_evadb/lib/python3.10/site-packages (from pytest>=6.1.0->nbmake>=1.2.1->evadb[notebook,vision]) (1.2.0)\n",
      "Requirement already satisfied: exceptiongroup>=1.0.0rc8 in /home/jarulraj3/eva/test_evadb/lib/python3.10/site-packages (from pytest>=6.1.0->nbmake>=1.2.1->evadb[notebook,vision]) (1.1.1)\n",
      "Requirement already satisfied: tomli>=1.0.0 in /home/jarulraj3/eva/test_evadb/lib/python3.10/site-packages (from pytest>=6.1.0->nbmake>=1.2.1->evadb[notebook,vision]) (2.0.1)\n",
      "Requirement already satisfied: six>=1.5 in /home/jarulraj3/eva/test_evadb/lib/python3.10/site-packages (from python-dateutil>=2.7->matplotlib>=3.3.4->evadb[notebook,vision]) (1.16.0)\n",
      "Requirement already satisfied: charset-normalizer<4,>=2 in /home/jarulraj3/eva/test_evadb/lib/python3.10/site-packages (from requests->torchvision>=0.11.1->evadb[notebook,vision]) (3.1.0)\n",
      "Requirement already satisfied: idna<4,>=2.5 in /home/jarulraj3/eva/test_evadb/lib/python3.10/site-packages (from requests->torchvision>=0.11.1->evadb[notebook,vision]) (3.4)\n",
      "Requirement already satisfied: urllib3<3,>=1.21.1 in /home/jarulraj3/eva/test_evadb/lib/python3.10/site-packages (from requests->torchvision>=0.11.1->evadb[notebook,vision]) (1.26.16)\n",
      "Requirement already satisfied: certifi>=2017.4.17 in /home/jarulraj3/eva/test_evadb/lib/python3.10/site-packages (from requests->torchvision>=0.11.1->evadb[notebook,vision]) (2023.5.7)\n",
      "Requirement already satisfied: MarkupSafe>=2.0 in /home/jarulraj3/eva/test_evadb/lib/python3.10/site-packages (from jinja2->torch>=1.10.0->evadb[notebook,vision]) (2.1.3)\n",
      "Requirement already satisfied: executing>=1.2.0 in /home/jarulraj3/eva/test_evadb/lib/python3.10/site-packages (from stack-data->ipython<8.13.0->evadb[notebook,vision]) (1.2.0)\n",
      "Requirement already satisfied: asttokens>=2.1.0 in /home/jarulraj3/eva/test_evadb/lib/python3.10/site-packages (from stack-data->ipython<8.13.0->evadb[notebook,vision]) (2.2.1)\n",
      "Requirement already satisfied: pure-eval in /home/jarulraj3/eva/test_evadb/lib/python3.10/site-packages (from stack-data->ipython<8.13.0->evadb[notebook,vision]) (0.2.2)\n",
      "Requirement already satisfied: mpmath>=0.19 in /home/jarulraj3/eva/test_evadb/lib/python3.10/site-packages (from sympy->torch>=1.10.0->evadb[notebook,vision]) (1.3.0)\n",
      "Requirement already satisfied: attrs>=17.4.0 in /home/jarulraj3/eva/test_evadb/lib/python3.10/site-packages (from jsonschema>=2.6->nbformat<6.0.0,>=5.0.8->nbmake>=1.2.1->evadb[notebook,vision]) (23.1.0)\n",
      "Requirement already satisfied: pyrsistent!=0.17.0,!=0.17.1,!=0.17.2,>=0.14.0 in /home/jarulraj3/eva/test_evadb/lib/python3.10/site-packages (from jsonschema>=2.6->nbformat<6.0.0,>=5.0.8->nbmake>=1.2.1->evadb[notebook,vision]) (0.19.3)\n",
      "Requirement already satisfied: platformdirs>=2.5 in /home/jarulraj3/eva/test_evadb/lib/python3.10/site-packages (from jupyter-core!=5.0.*,>=4.12->ipykernel>=4.5.1->ipywidgets>=7.7.2->evadb[notebook,vision]) (3.8.0)\n",
      "Note: you may need to restart the kernel to use updated packages.\n",
      "Requirement already satisfied: thefuzz in /home/jarulraj3/eva/test_evadb/lib/python3.10/site-packages (0.19.0)\n",
      "Note: you may need to restart the kernel to use updated packages.\n",
      "Collecting protobuf==3.20.1\n",
      "  Using cached protobuf-3.20.1-cp310-cp310-manylinux_2_12_x86_64.manylinux2010_x86_64.whl (1.1 MB)\n",
      "Installing collected packages: protobuf\n",
      "  Attempting uninstall: protobuf\n",
      "    Found existing installation: protobuf 4.23.3\n",
      "    Uninstalling protobuf-4.23.3:\n",
      "      Successfully uninstalled protobuf-4.23.3\n",
      "\u001b[31mERROR: pip's dependency resolver does not currently take into account all the packages that are installed. This behaviour is the source of the following dependency conflicts.\n",
      "grpcio-tools 1.56.0 requires protobuf<5.0dev,>=4.21.6, but you have protobuf 3.20.1 which is incompatible.\n",
      "ray 2.4.0 requires grpcio<=1.51.3,>=1.42.0; python_version >= \"3.10\" and sys_platform != \"darwin\", but you have grpcio 1.56.0 which is incompatible.\u001b[0m\u001b[31m\n",
      "\u001b[0mSuccessfully installed protobuf-3.20.1\n",
      "Note: you may need to restart the kernel to use updated packages.\n"
     ]
    }
   ],
   "source": [
    "%pip install \"evadb[vision,notebook]\"\n",
    "%pip install thefuzz\n",
    "%pip install \"protobuf==3.20.1\"\n",
    "import evadb\n",
    "cursor = evadb.connect().cursor()"
   ]
  },
  {
   "attachments": {},
   "cell_type": "markdown",
   "id": "93e60a0f",
   "metadata": {},
   "source": [
    "### Loading the images to EvaDB for analysis"
   ]
  },
  {
   "cell_type": "code",
   "execution_count": 2,
   "id": "e2f7e482",
   "metadata": {
    "execution": {
     "iopub.execute_input": "2023-06-24T16:05:03.116324Z",
     "iopub.status.busy": "2023-06-24T16:05:03.115991Z",
     "iopub.status.idle": "2023-06-24T16:05:05.657464Z",
     "shell.execute_reply": "2023-06-24T16:05:05.656716Z"
    }
   },
   "outputs": [
    {
     "name": "stdout",
     "output_type": "stream",
     "text": [
      "File 'license.zip' already there; not retrieving.\n",
      "\n",
      "Archive:  license.zip\n"
     ]
    },
    {
     "data": {
      "text/html": [
       "<div>\n",
       "<style scoped>\n",
       "    .dataframe tbody tr th:only-of-type {\n",
       "        vertical-align: middle;\n",
       "    }\n",
       "\n",
       "    .dataframe tbody tr th {\n",
       "        vertical-align: top;\n",
       "    }\n",
       "\n",
       "    .dataframe thead th {\n",
       "        text-align: right;\n",
       "    }\n",
       "</style>\n",
       "<table border=\"1\" class=\"dataframe\">\n",
       "  <thead>\n",
       "    <tr style=\"text-align: right;\">\n",
       "      <th></th>\n",
       "      <th>0</th>\n",
       "    </tr>\n",
       "  </thead>\n",
       "  <tbody>\n",
       "    <tr>\n",
       "      <th>0</th>\n",
       "      <td>Number of loaded IMAGE: 7</td>\n",
       "    </tr>\n",
       "  </tbody>\n",
       "</table>\n",
       "</div>"
      ],
      "text/plain": [
       "                           0\n",
       "0  Number of loaded IMAGE: 7"
      ]
     },
     "execution_count": 2,
     "metadata": {},
     "output_type": "execute_result"
    }
   ],
   "source": [
    "# Download images\n",
    "!wget -nc \"https://www.dropbox.com/s/770stddqfl0psog/license.zip\"\n",
    "!unzip -n license.zip\n",
    "\n",
    "cursor.query('DROP TABLE IF EXISTS MyImages;').df()\n",
    "\n",
    "cursor.load(\"license/Car*.png\", \"MyImages\", format=\"image\").df()"
   ]
  },
  {
   "attachments": {},
   "cell_type": "markdown",
   "id": "322c0ab2",
   "metadata": {},
   "source": [
    "### License Plate Recognition"
   ]
  },
  {
   "cell_type": "code",
   "execution_count": 3,
   "id": "dced71f6",
   "metadata": {
    "execution": {
     "iopub.execute_input": "2023-06-24T16:05:05.661624Z",
     "iopub.status.busy": "2023-06-24T16:05:05.661393Z",
     "iopub.status.idle": "2023-06-24T16:05:11.185754Z",
     "shell.execute_reply": "2023-06-24T16:05:11.184976Z"
    }
   },
   "outputs": [
    {
     "name": "stderr",
     "output_type": "stream",
     "text": [
      "06-24-2023 13:57:42 WARNING[drop_object_executor:drop_object_executor.py:_handle_drop_udf:0081] UDF OCRExtractor does not exist, therefore cannot be dropped.\n",
      "06-24-2023 13:57:42 WARNING[drop_object_executor:drop_object_executor.py:_handle_drop_udf:0081] UDF FuzzDistance does not exist, therefore cannot be dropped.\n",
      "Could not find image processor class in the image processor config or the model config. Loading based on pattern matching with the model's feature extractor configuration.\n",
      "/nethome/jarulraj3/eva/test_evadb/lib/python3.10/site-packages/thefuzz/fuzz.py:11: UserWarning: Using slow pure-python SequenceMatcher. Install python-Levenshtein to remove this warning\n",
      "  warnings.warn('Using slow pure-python SequenceMatcher. Install python-Levenshtein to remove this warning')\n"
     ]
    },
    {
     "data": {
      "text/html": [
       "<div>\n",
       "<style scoped>\n",
       "    .dataframe tbody tr th:only-of-type {\n",
       "        vertical-align: middle;\n",
       "    }\n",
       "\n",
       "    .dataframe tbody tr th {\n",
       "        vertical-align: top;\n",
       "    }\n",
       "\n",
       "    .dataframe thead th {\n",
       "        text-align: right;\n",
       "    }\n",
       "</style>\n",
       "<table border=\"1\" class=\"dataframe\">\n",
       "  <thead>\n",
       "    <tr style=\"text-align: right;\">\n",
       "      <th></th>\n",
       "      <th>0</th>\n",
       "    </tr>\n",
       "  </thead>\n",
       "  <tbody>\n",
       "    <tr>\n",
       "      <th>0</th>\n",
       "      <td>UDF FuzzDistance successfully added to the dat...</td>\n",
       "    </tr>\n",
       "  </tbody>\n",
       "</table>\n",
       "</div>"
      ],
      "text/plain": [
       "                                                   0\n",
       "0  UDF FuzzDistance successfully added to the dat..."
      ]
     },
     "execution_count": 3,
     "metadata": {},
     "output_type": "execute_result"
    }
   ],
   "source": [
    "cursor.query(\"\"\"DROP UDF IF EXISTS OCRExtractor;\"\"\").df()\n",
    "\n",
    "cursor.query(\"\"\"DROP UDF IF EXISTS FuzzDistance;\"\"\").df()\n",
    "\n",
    "cursor.create_udf(\"OCRExtractor\", True, '../evadb/udfs/ocr_extractor.py').df()\n",
    "cursor.create_udf(\"FuzzDistance\", True, '../evadb/udfs/fuzzy_join.py').df()"
   ]
  },
  {
   "cell_type": "code",
   "execution_count": 4,
   "id": "d3d921b0",
   "metadata": {
    "execution": {
     "iopub.execute_input": "2023-06-24T16:05:11.191473Z",
     "iopub.status.busy": "2023-06-24T16:05:11.190843Z",
     "iopub.status.idle": "2023-06-24T16:05:11.228178Z",
     "shell.execute_reply": "2023-06-24T16:05:11.227590Z"
    }
   },
   "outputs": [
    {
     "data": {
      "text/html": [
       "<div>\n",
       "<style scoped>\n",
       "    .dataframe tbody tr th:only-of-type {\n",
       "        vertical-align: middle;\n",
       "    }\n",
       "\n",
       "    .dataframe tbody tr th {\n",
       "        vertical-align: top;\n",
       "    }\n",
       "\n",
       "    .dataframe thead th {\n",
       "        text-align: right;\n",
       "    }\n",
       "</style>\n",
       "<table border=\"1\" class=\"dataframe\">\n",
       "  <thead>\n",
       "    <tr style=\"text-align: right;\">\n",
       "      <th></th>\n",
       "    </tr>\n",
       "  </thead>\n",
       "  <tbody>\n",
       "  </tbody>\n",
       "</table>\n",
       "</div>"
      ],
      "text/plain": [
       "Empty DataFrame\n",
       "Columns: []\n",
       "Index: []"
      ]
     },
     "execution_count": 4,
     "metadata": {},
     "output_type": "execute_result"
    }
   ],
   "source": [
    "cursor.query(\n",
    "    \"CREATE TABLE IF NOT EXISTS LicensePlateCSV(id INTEGER UNIQUE, label TEXT(30));\"\n",
    ").df()"
   ]
  },
  {
   "cell_type": "code",
   "execution_count": 5,
   "id": "03187c26",
   "metadata": {
    "execution": {
     "iopub.execute_input": "2023-06-24T16:05:11.232047Z",
     "iopub.status.busy": "2023-06-24T16:05:11.231788Z",
     "iopub.status.idle": "2023-06-24T16:05:11.498672Z",
     "shell.execute_reply": "2023-06-24T16:05:11.497500Z"
    }
   },
   "outputs": [
    {
     "data": {
      "text/html": [
       "<div>\n",
       "<style scoped>\n",
       "    .dataframe tbody tr th:only-of-type {\n",
       "        vertical-align: middle;\n",
       "    }\n",
       "\n",
       "    .dataframe tbody tr th {\n",
       "        vertical-align: top;\n",
       "    }\n",
       "\n",
       "    .dataframe thead th {\n",
       "        text-align: right;\n",
       "    }\n",
       "</style>\n",
       "<table border=\"1\" class=\"dataframe\">\n",
       "  <thead>\n",
       "    <tr style=\"text-align: right;\">\n",
       "      <th></th>\n",
       "      <th>CSV</th>\n",
       "      <th>Number of loaded frames</th>\n",
       "    </tr>\n",
       "  </thead>\n",
       "  <tbody>\n",
       "    <tr>\n",
       "      <th>0</th>\n",
       "      <td>/home/jarulraj3/eva/tutorials/data.csv</td>\n",
       "      <td>5</td>\n",
       "    </tr>\n",
       "  </tbody>\n",
       "</table>\n",
       "</div>"
      ],
      "text/plain": [
       "                                      CSV  Number of loaded frames\n",
       "0  /home/jarulraj3/eva/tutorials/data.csv                        5"
      ]
     },
     "execution_count": 5,
     "metadata": {},
     "output_type": "execute_result"
    }
   ],
   "source": [
    "cursor.load(\"/home/jarulraj3/eva/tutorials/data.csv\", \"LicensePlateCSV\",format=\"csv\").df()"
   ]
  },
  {
   "cell_type": "code",
   "execution_count": 6,
   "id": "a0eb6fb0",
   "metadata": {
    "execution": {
     "iopub.execute_input": "2023-06-24T16:03:46.535226Z",
     "iopub.status.busy": "2023-06-24T16:03:46.534990Z",
     "iopub.status.idle": "2023-06-24T16:03:59.302279Z",
     "shell.execute_reply": "2023-06-24T16:03:59.301022Z"
    }
   },
   "outputs": [
    {
     "name": "stderr",
     "output_type": "stream",
     "text": [
      "Could not find image processor class in the image processor config or the model config. Loading based on pattern matching with the model's feature extractor configuration.\n"
     ]
    }
   ],
   "source": [
    "query = cursor.table(\"MyImages\")\n",
    "query = query.select(\"OCRExtractor(data)\")\n",
    "query = query.filter(\"_row_id < 3\")\n",
    "print(query.df())"
   ]
  },
  {
   "cell_type": "code",
   "execution_count": null,
   "id": "e93233e9",
   "metadata": {
    "execution": {
     "iopub.execute_input": "2023-05-09T03:42:25.473643Z",
     "iopub.status.busy": "2023-05-09T03:42:25.473385Z",
     "iopub.status.idle": "2023-05-09T03:42:30.989642Z",
     "shell.execute_reply": "2023-05-09T03:42:30.988967Z"
    }
   },
   "outputs": [
    {
     "data": {
      "text/html": [
       "<div>\n",
       "<style scoped>\n",
       "    .dataframe tbody tr th:only-of-type {\n",
       "        vertical-align: middle;\n",
       "    }\n",
       "\n",
       "    .dataframe tbody tr th {\n",
       "        vertical-align: top;\n",
       "    }\n",
       "\n",
       "    .dataframe thead th {\n",
       "        text-align: right;\n",
       "    }\n",
       "</style>\n",
       "<table border=\"1\" class=\"dataframe\">\n",
       "  <thead>\n",
       "    <tr style=\"text-align: right;\">\n",
       "      <th></th>\n",
       "      <th>licenseplatecsv._row_id</th>\n",
       "      <th>licenseplatecsv.id</th>\n",
       "      <th>licenseplatecsv.label</th>\n",
       "    </tr>\n",
       "  </thead>\n",
       "  <tbody>\n",
       "    <tr>\n",
       "      <th>0</th>\n",
       "      <td>1</td>\n",
       "      <td>1</td>\n",
       "      <td>KLG1CA2555</td>\n",
       "    </tr>\n",
       "    <tr>\n",
       "      <th>1</th>\n",
       "      <td>2</td>\n",
       "      <td>2</td>\n",
       "      <td>PGMN112</td>\n",
       "    </tr>\n",
       "    <tr>\n",
       "      <th>2</th>\n",
       "      <td>3</td>\n",
       "      <td>3</td>\n",
       "      <td>PRENUP</td>\n",
       "    </tr>\n",
       "    <tr>\n",
       "      <th>3</th>\n",
       "      <td>4</td>\n",
       "      <td>4</td>\n",
       "      <td>DZ17YXR</td>\n",
       "    </tr>\n",
       "    <tr>\n",
       "      <th>4</th>\n",
       "      <td>5</td>\n",
       "      <td>5</td>\n",
       "      <td>PUI8BES</td>\n",
       "    </tr>\n",
       "  </tbody>\n",
       "</table>\n",
       "</div>"
      ],
      "text/plain": [
       "   licenseplatecsv._row_id  licenseplatecsv.id licenseplatecsv.label\n",
       "0                        1                   1            KLG1CA2555\n",
       "1                        2                   2               PGMN112\n",
       "2                        3                   3                PRENUP\n",
       "3                        4                   4               DZ17YXR\n",
       "4                        5                   5               PUI8BES"
      ]
     },
     "execution_count": 7,
     "metadata": {},
     "output_type": "execute_result"
    }
   ],
   "source": [
    "query = cursor.table(\"LicensePlateCSV\")\n",
    "query = query.select(\"*\")\n",
    "\n",
    "query.df()"
   ]
  },
  {
   "attachments": {},
   "cell_type": "markdown",
   "id": "4b41f136",
   "metadata": {},
   "source": [
    "### Run Fuzzy Join to match Detected License Plate against Local License Plate Database (csv)"
   ]
  },
  {
   "cell_type": "code",
   "execution_count": null,
   "id": "9431e221",
   "metadata": {
    "execution": {
     "iopub.execute_input": "2023-05-09T03:42:30.994206Z",
     "iopub.status.busy": "2023-05-09T03:42:30.993956Z",
     "iopub.status.idle": "2023-05-09T03:42:38.217366Z",
     "shell.execute_reply": "2023-05-09T03:42:38.216338Z"
    }
   },
   "outputs": [
    {
     "name": "stderr",
     "output_type": "stream",
     "text": [
      "Could not find image processor class in the image processor config or the model config. Loading based on pattern matching with the model's feature extractor configuration.\n"
     ]
    }
   ],
   "source": [
    "cursor.query(\"\"\"\n",
    "   SELECT * FROM MyImages \n",
    "       JOIN LATERAL OCRExtractor(data) AS T(a) \n",
    "       JOIN LicensePlateCSV B \n",
    "       ON FuzzDistance(T.a, B.label) > 50\n",
    "       WHERE id < 3;\n",
    "       \"\"\").df()"
   ]
  }
 ],
 "metadata": {
  "kernelspec": {
   "display_name": "Python 3 (ipykernel)",
   "language": "python",
   "name": "python3"
  },
  "language_info": {
   "codemirror_mode": {
    "name": "ipython",
    "version": 3
   },
   "file_extension": ".py",
   "mimetype": "text/x-python",
   "name": "python",
   "nbconvert_exporter": "python",
   "pygments_lexer": "ipython3",
   "version": "3.10.11"
  },
  "varInspector": {
   "cols": {
    "lenName": 16,
    "lenType": 16,
    "lenVar": 40
   },
   "kernels_config": {
    "python": {
     "delete_cmd_postfix": "",
     "delete_cmd_prefix": "del ",
     "library": "var_list.py",
     "varRefreshCmd": "print(var_dic_list())"
    },
    "r": {
     "delete_cmd_postfix": ") ",
     "delete_cmd_prefix": "rm(",
     "library": "var_list.r",
     "varRefreshCmd": "cat(var_dic_list()) "
    }
   },
   "types_to_exclude": [
    "module",
    "function",
    "builtin_function_or_method",
    "instance",
    "_Feature"
   ],
   "window_display": false
  }
 },
 "nbformat": 4,
 "nbformat_minor": 5
}
