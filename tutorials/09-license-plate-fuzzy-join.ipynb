{
 "cells": [
  {
   "attachments": {},
   "cell_type": "markdown",
   "id": "899e81c0",
   "metadata": {},
   "source": [
    "## License Plate Detection using Fuzzy Join "
   ]
  },
  {
   "attachments": {},
   "cell_type": "markdown",
   "id": "c870b8d3",
   "metadata": {},
   "source": [
    "### Start EVA server\n",
    "\n",
    "We are reusing the start server notebook for launching the EVA server."
   ]
  },
  {
   "cell_type": "code",
   "execution_count": 23,
   "id": "15379759",
   "metadata": {
    "execution": {
     "iopub.execute_input": "2023-05-07T22:25:45.408552Z",
     "iopub.status.busy": "2023-05-07T22:25:45.408102Z",
     "iopub.status.idle": "2023-05-07T22:26:04.132266Z",
     "shell.execute_reply": "2023-05-07T22:26:04.130469Z"
    }
   },
   "outputs": [
    {
     "name": "stdout",
     "output_type": "stream",
     "text": [
      "File '00-start-eva-server.ipynb' already there; not retrieving.\n",
      "\n",
      "\n",
      "\u001b[1m[\u001b[0m\u001b[34;49mnotice\u001b[0m\u001b[1;39;49m]\u001b[0m\u001b[39;49m A new release of pip is available: \u001b[0m\u001b[31;49m23.0.1\u001b[0m\u001b[39;49m -> \u001b[0m\u001b[32;49m23.1.2\u001b[0m\n",
      "\u001b[1m[\u001b[0m\u001b[34;49mnotice\u001b[0m\u001b[1;39;49m]\u001b[0m\u001b[39;49m To update, run: \u001b[0m\u001b[32;49mpip install --upgrade pip\u001b[0m\n",
      "Note: you may need to restart the kernel to use updated packages.\n",
      "nohup eva_server > eva.log 2>&1 &\n",
      "\n",
      "\u001b[1m[\u001b[0m\u001b[34;49mnotice\u001b[0m\u001b[1;39;49m]\u001b[0m\u001b[39;49m A new release of pip is available: \u001b[0m\u001b[31;49m23.0.1\u001b[0m\u001b[39;49m -> \u001b[0m\u001b[32;49m23.1.2\u001b[0m\n",
      "\u001b[1m[\u001b[0m\u001b[34;49mnotice\u001b[0m\u001b[1;39;49m]\u001b[0m\u001b[39;49m To update, run: \u001b[0m\u001b[32;49mpip install --upgrade pip\u001b[0m\n",
      "Note: you may need to restart the kernel to use updated packages.\n"
     ]
    }
   ],
   "source": [
    "!wget -nc \"https://raw.githubusercontent.com/georgia-tech-db/eva/master/tutorials/00-start-eva-server.ipynb\"\n",
    "%run 00-start-eva-server.ipynb\n",
    "cursor = connect_to_server()"
   ]
  },
  {
   "attachments": {},
   "cell_type": "markdown",
   "id": "93e60a0f",
   "metadata": {},
   "source": [
    "### Adding the images to EVADB for analysis"
   ]
  },
  {
   "cell_type": "code",
   "execution_count": 24,
   "id": "e2f7e482",
   "metadata": {
    "execution": {
     "iopub.execute_input": "2023-05-07T22:26:04.137819Z",
     "iopub.status.busy": "2023-05-07T22:26:04.137290Z",
     "iopub.status.idle": "2023-05-07T22:26:04.424311Z",
     "shell.execute_reply": "2023-05-07T22:26:04.423023Z"
    }
   },
   "outputs": [
    {
     "name": "stdout",
     "output_type": "stream",
     "text": [
      "@status: ResponseStatus.SUCCESS\n",
      "@batch: \n",
      "                                       0\n",
      "0  Table Successfully dropped: MyImages\n",
      "@query_time: 0.0652491394430399\n",
      "File 'license.zip' already there; not retrieving.\n",
      "\n",
      "Archive:  license.zip\n"
     ]
    },
    {
     "data": {
      "text/html": [
       "<div>\n",
       "<style scoped>\n",
       "    .dataframe tbody tr th:only-of-type {\n",
       "        vertical-align: middle;\n",
       "    }\n",
       "\n",
       "    .dataframe tbody tr th {\n",
       "        vertical-align: top;\n",
       "    }\n",
       "\n",
       "    .dataframe thead th {\n",
       "        text-align: right;\n",
       "    }\n",
       "</style>\n",
       "<table border=\"1\" class=\"dataframe\">\n",
       "  <thead>\n",
       "    <tr style=\"text-align: right;\">\n",
       "      <th></th>\n",
       "      <th>0</th>\n",
       "    </tr>\n",
       "  </thead>\n",
       "  <tbody>\n",
       "    <tr>\n",
       "      <th>0</th>\n",
       "      <td>Number of loaded IMAGE: 1</td>\n",
       "    </tr>\n",
       "  </tbody>\n",
       "</table>\n",
       "</div>"
      ],
      "text/plain": [
       "                           0\n",
       "0  Number of loaded IMAGE: 1"
      ]
     },
     "execution_count": 24,
     "metadata": {},
     "output_type": "execute_result"
    }
   ],
   "source": [
    "cursor.execute('DROP TABLE IF EXISTS MyImages;')\n",
    "response = cursor.fetch_all()\n",
    "print(response)\n",
    "\n",
    "# Download images\n",
    "!wget -nc https://www.dropbox.com/s/770stddqfl0psog/license.zip\n",
    "\n",
    "!unzip -n license.zip\n",
    "\n",
    "cursor.execute('LOAD IMAGE \"license/Cars0.png\" INTO MyImages;')\n",
    "response = cursor.fetch_all()\n",
    "response.as_df()\n",
    "\n",
    "cursor.execute('LOAD IMAGE \"license/Cars1.png\" INTO MyImages;')\n",
    "response = cursor.fetch_all()\n",
    "response.as_df()\n",
    "\n",
    "cursor.execute('LOAD IMAGE \"license/Cars2.png\" INTO MyImages;')\n",
    "response = cursor.fetch_all()\n",
    "response.as_df()\n",
    "\n",
    "cursor.execute('LOAD IMAGE \"license/Cars3.png\" INTO MyImages;')\n",
    "response = cursor.fetch_all()\n",
    "response.as_df()\n",
    "\n",
    "cursor.execute('LOAD IMAGE \"license/Cars4.png\" INTO MyImages;')\n",
    "response = cursor.fetch_all()\n",
    "response.as_df()\n",
    "\n",
    "cursor.execute('LOAD IMAGE \"license/Cars5.png\" INTO MyImages;')\n",
    "response = cursor.fetch_all()\n",
    "response.as_df()\n",
    "\n",
    "cursor.execute('LOAD IMAGE \"license/Cars6.png\" INTO MyImages;')\n",
    "response = cursor.fetch_all()\n",
    "response.as_df()"
   ]
  },
  {
   "attachments": {},
   "cell_type": "markdown",
   "id": "322c0ab2",
   "metadata": {},
   "source": [
    "### License Plate Recognition"
   ]
  },
  {
   "cell_type": "code",
   "execution_count": 25,
   "id": "dced71f6",
   "metadata": {
    "execution": {
     "iopub.execute_input": "2023-05-07T22:26:04.429671Z",
     "iopub.status.busy": "2023-05-07T22:26:04.429205Z",
     "iopub.status.idle": "2023-05-07T22:26:09.465759Z",
     "shell.execute_reply": "2023-05-07T22:26:09.464259Z"
    }
   },
   "outputs": [
    {
     "name": "stdout",
     "output_type": "stream",
     "text": [
      "File 'fuzzy_join.py' already there; not retrieving.\n",
      "\n",
      "File 'ocr_extractor.py' already there; not retrieving.\n",
      "\n"
     ]
    },
    {
     "data": {
      "text/html": [
       "<div>\n",
       "<style scoped>\n",
       "    .dataframe tbody tr th:only-of-type {\n",
       "        vertical-align: middle;\n",
       "    }\n",
       "\n",
       "    .dataframe tbody tr th {\n",
       "        vertical-align: top;\n",
       "    }\n",
       "\n",
       "    .dataframe thead th {\n",
       "        text-align: right;\n",
       "    }\n",
       "</style>\n",
       "<table border=\"1\" class=\"dataframe\">\n",
       "  <thead>\n",
       "    <tr style=\"text-align: right;\">\n",
       "      <th></th>\n",
       "      <th>0</th>\n",
       "    </tr>\n",
       "  </thead>\n",
       "  <tbody>\n",
       "    <tr>\n",
       "      <th>0</th>\n",
       "      <td>UDF FuzzDistance successfully added to the dat...</td>\n",
       "    </tr>\n",
       "  </tbody>\n",
       "</table>\n",
       "</div>"
      ],
      "text/plain": [
       "                                                   0\n",
       "0  UDF FuzzDistance successfully added to the dat..."
      ]
     },
     "execution_count": 25,
     "metadata": {},
     "output_type": "execute_result"
    }
   ],
   "source": [
    "# Download UDFS\n",
    "\n",
    "!wget -nc https://raw.githubusercontent.com/georgia-tech-db/eva/master/eva/udfs/ndarray/fuzzy_join.py\n",
    "\n",
    "!wget -nc https://raw.githubusercontent.com/georgia-tech-db/eva/master/eva/udfs/ocr_extractor.py\n",
    "\n",
    "cursor.execute(\"\"\"DROP UDF OCRExtractor;\"\"\")\n",
    "response = cursor.fetch_all()\n",
    "response.as_df()\n",
    "\n",
    "cursor.execute(\"\"\"DROP UDF FuzzDistance;\"\"\")\n",
    "response = cursor.fetch_all()\n",
    "response.as_df()\n",
    "\n",
    "cursor.execute(\"\"\"CREATE UDF IF NOT EXISTS OCRExtractor\n",
    "                  INPUT  (frame NDARRAY UINT8(3, ANYDIM, ANYDIM))\n",
    "                  OUTPUT (labels NDARRAY STR(10),\n",
    "                          bboxes NDARRAY FLOAT32(ANYDIM, 4),\n",
    "                          scores NDARRAY FLOAT32(ANYDIM))\n",
    "                  TYPE  OCRExtraction\n",
    "                  IMPL  'ocr_extractor.py' ;\n",
    "      \"\"\")\n",
    "response = cursor.fetch_all()\n",
    "response.as_df()\n",
    "\n",
    "cursor.execute(\"\"\"CREATE UDF IF NOT EXISTS FuzzDistance\n",
    "                    INPUT (Input_Array1 NDARRAY ANYTYPE, Input_Array2 NDARRAY ANYTYPE)\n",
    "                    OUTPUT (distance FLOAT(32, 7))\n",
    "                    TYPE NdarrayUDF\n",
    "                    IMPL \"fuzzy_join.py\";\n",
    "                    \"\"\")\n",
    "response = cursor.fetch_all()\n",
    "response.as_df()"
   ]
  },
  {
   "cell_type": "code",
   "execution_count": 26,
   "id": "d3d921b0",
   "metadata": {
    "execution": {
     "iopub.execute_input": "2023-05-07T22:26:09.470814Z",
     "iopub.status.busy": "2023-05-07T22:26:09.470294Z",
     "iopub.status.idle": "2023-05-07T22:26:09.513775Z",
     "shell.execute_reply": "2023-05-07T22:26:09.512942Z"
    }
   },
   "outputs": [
    {
     "data": {
      "text/html": [
       "<div>\n",
       "<style scoped>\n",
       "    .dataframe tbody tr th:only-of-type {\n",
       "        vertical-align: middle;\n",
       "    }\n",
       "\n",
       "    .dataframe tbody tr th {\n",
       "        vertical-align: top;\n",
       "    }\n",
       "\n",
       "    .dataframe thead th {\n",
       "        text-align: right;\n",
       "    }\n",
       "</style>\n",
       "<table border=\"1\" class=\"dataframe\">\n",
       "  <thead>\n",
       "    <tr style=\"text-align: right;\">\n",
       "      <th></th>\n",
       "    </tr>\n",
       "  </thead>\n",
       "  <tbody>\n",
       "  </tbody>\n",
       "</table>\n",
       "</div>"
      ],
      "text/plain": [
       "Empty DataFrame\n",
       "Columns: []\n",
       "Index: []"
      ]
     },
     "execution_count": 26,
     "metadata": {},
     "output_type": "execute_result"
    }
   ],
   "source": [
    "cursor.execute(\"CREATE TABLE IF NOT EXISTS LicensePlateCSV(id INTEGER UNIQUE, label TEXT(30));\")\n",
    "response = cursor.fetch_all()\n",
    "response.as_df()"
   ]
  },
  {
   "cell_type": "code",
   "execution_count": 27,
   "id": "03187c26",
   "metadata": {
    "execution": {
     "iopub.execute_input": "2023-05-07T22:26:09.517927Z",
     "iopub.status.busy": "2023-05-07T22:26:09.517634Z",
     "iopub.status.idle": "2023-05-07T22:26:09.542364Z",
     "shell.execute_reply": "2023-05-07T22:26:09.541610Z"
    }
   },
   "outputs": [
    {
     "data": {
      "text/html": [
       "<div>\n",
       "<style scoped>\n",
       "    .dataframe tbody tr th:only-of-type {\n",
       "        vertical-align: middle;\n",
       "    }\n",
       "\n",
       "    .dataframe tbody tr th {\n",
       "        vertical-align: top;\n",
       "    }\n",
       "\n",
       "    .dataframe thead th {\n",
       "        text-align: right;\n",
       "    }\n",
       "</style>\n",
       "<table border=\"1\" class=\"dataframe\">\n",
       "  <thead>\n",
       "    <tr style=\"text-align: right;\">\n",
       "      <th></th>\n",
       "      <th>CSV</th>\n",
       "      <th>Number of loaded frames</th>\n",
       "    </tr>\n",
       "  </thead>\n",
       "  <tbody>\n",
       "    <tr>\n",
       "      <th>0</th>\n",
       "      <td>data.csv</td>\n",
       "      <td>5</td>\n",
       "    </tr>\n",
       "  </tbody>\n",
       "</table>\n",
       "</div>"
      ],
      "text/plain": [
       "        CSV  Number of loaded frames\n",
       "0  data.csv                        5"
      ]
     },
     "execution_count": 27,
     "metadata": {},
     "output_type": "execute_result"
    }
   ],
   "source": [
    "cursor.execute(\"LOAD CSV 'data.csv' INTO LicensePlateCSV;\")\n",
    "response = cursor.fetch_all()\n",
    "response.as_df()\n"
   ]
  },
  {
   "cell_type": "code",
   "execution_count": 28,
   "id": "a0eb6fb0",
   "metadata": {
    "execution": {
     "iopub.execute_input": "2023-05-07T22:26:09.545380Z",
     "iopub.status.busy": "2023-05-07T22:26:09.545000Z",
     "iopub.status.idle": "2023-05-07T22:26:15.543966Z",
     "shell.execute_reply": "2023-05-07T22:26:15.543207Z"
    }
   },
   "outputs": [
    {
     "data": {
      "text/html": [
       "<div>\n",
       "<style scoped>\n",
       "    .dataframe tbody tr th:only-of-type {\n",
       "        vertical-align: middle;\n",
       "    }\n",
       "\n",
       "    .dataframe tbody tr th {\n",
       "        vertical-align: top;\n",
       "    }\n",
       "\n",
       "    .dataframe thead th {\n",
       "        text-align: right;\n",
       "    }\n",
       "</style>\n",
       "<table border=\"1\" class=\"dataframe\">\n",
       "  <thead>\n",
       "    <tr style=\"text-align: right;\">\n",
       "      <th></th>\n",
       "      <th>ocrextractor.labels</th>\n",
       "      <th>ocrextractor.bboxes</th>\n",
       "      <th>ocrextractor.scores</th>\n",
       "    </tr>\n",
       "  </thead>\n",
       "  <tbody>\n",
       "    <tr>\n",
       "      <th>0</th>\n",
       "      <td>[KLo1CN2555]</td>\n",
       "      <td>[[[240, 115], [425, 115], [425, 178], [240, 17...</td>\n",
       "      <td>[0.20029704378116528]</td>\n",
       "    </tr>\n",
       "    <tr>\n",
       "      <th>1</th>\n",
       "      <td>[Coi, ZZm, PGoNMN112]</td>\n",
       "      <td>[[[320, 96], [342, 96], [342, 104], [320, 104]...</td>\n",
       "      <td>[0.2585151841538518, 0.009615490492723363, 0.1...</td>\n",
       "    </tr>\n",
       "    <tr>\n",
       "      <th>2</th>\n",
       "      <td>[PReINLR]</td>\n",
       "      <td>[[[227, 173], [269, 173], [269, 193], [227, 19...</td>\n",
       "      <td>[0.12317288475094909]</td>\n",
       "    </tr>\n",
       "    <tr>\n",
       "      <th>3</th>\n",
       "      <td>[DZI7 YXR]</td>\n",
       "      <td>[[[150, 126], [250, 126], [250, 158], [150, 15...</td>\n",
       "      <td>[0.6978633091234704]</td>\n",
       "    </tr>\n",
       "    <tr>\n",
       "      <th>4</th>\n",
       "      <td>[pPuie, BES]</td>\n",
       "      <td>[[[175.83355283634924, 85.05243648347647], [38...</td>\n",
       "      <td>[0.19272780155017014, 0.9999165839414489]</td>\n",
       "    </tr>\n",
       "    <tr>\n",
       "      <th>5</th>\n",
       "      <td>[Wet, alamy stock photo]</td>\n",
       "      <td>[[[362, 274], [384, 274], [384, 280], [362, 28...</td>\n",
       "      <td>[0.002928912305910474, 0.9390591079980826]</td>\n",
       "    </tr>\n",
       "    <tr>\n",
       "      <th>6</th>\n",
       "      <td>[802.LIN, MMay, VIRGINIA, 07]</td>\n",
       "      <td>[[[157, 141], [370, 141], [370, 219], [157, 21...</td>\n",
       "      <td>[0.8629838375738593, 0.3385108709335327, 0.999...</td>\n",
       "    </tr>\n",
       "  </tbody>\n",
       "</table>\n",
       "</div>"
      ],
      "text/plain": [
       "             ocrextractor.labels  \\\n",
       "0                   [KLo1CN2555]   \n",
       "1          [Coi, ZZm, PGoNMN112]   \n",
       "2                      [PReINLR]   \n",
       "3                     [DZI7 YXR]   \n",
       "4                   [pPuie, BES]   \n",
       "5       [Wet, alamy stock photo]   \n",
       "6  [802.LIN, MMay, VIRGINIA, 07]   \n",
       "\n",
       "                                 ocrextractor.bboxes  \\\n",
       "0  [[[240, 115], [425, 115], [425, 178], [240, 17...   \n",
       "1  [[[320, 96], [342, 96], [342, 104], [320, 104]...   \n",
       "2  [[[227, 173], [269, 173], [269, 193], [227, 19...   \n",
       "3  [[[150, 126], [250, 126], [250, 158], [150, 15...   \n",
       "4  [[[175.83355283634924, 85.05243648347647], [38...   \n",
       "5  [[[362, 274], [384, 274], [384, 280], [362, 28...   \n",
       "6  [[[157, 141], [370, 141], [370, 219], [157, 21...   \n",
       "\n",
       "                                 ocrextractor.scores  \n",
       "0                              [0.20029704378116528]  \n",
       "1  [0.2585151841538518, 0.009615490492723363, 0.1...  \n",
       "2                              [0.12317288475094909]  \n",
       "3                               [0.6978633091234704]  \n",
       "4          [0.19272780155017014, 0.9999165839414489]  \n",
       "5         [0.002928912305910474, 0.9390591079980826]  \n",
       "6  [0.8629838375738593, 0.3385108709335327, 0.999...  "
      ]
     },
     "execution_count": 28,
     "metadata": {},
     "output_type": "execute_result"
    }
   ],
   "source": [
    "cursor.execute('SELECT OCRExtractor(data) FROM MyImages;')\n",
    "response = cursor.fetch_all()\n",
    "response.as_df()"
   ]
  },
  {
   "cell_type": "code",
   "execution_count": 29,
   "id": "e93233e9",
   "metadata": {
    "execution": {
     "iopub.execute_input": "2023-05-07T22:26:15.546762Z",
     "iopub.status.busy": "2023-05-07T22:26:15.546529Z",
     "iopub.status.idle": "2023-05-07T22:26:20.801285Z",
     "shell.execute_reply": "2023-05-07T22:26:20.800504Z"
    }
   },
   "outputs": [
    {
     "data": {
      "text/html": [
       "<div>\n",
       "<style scoped>\n",
       "    .dataframe tbody tr th:only-of-type {\n",
       "        vertical-align: middle;\n",
       "    }\n",
       "\n",
       "    .dataframe tbody tr th {\n",
       "        vertical-align: top;\n",
       "    }\n",
       "\n",
       "    .dataframe thead th {\n",
       "        text-align: right;\n",
       "    }\n",
       "</style>\n",
       "<table border=\"1\" class=\"dataframe\">\n",
       "  <thead>\n",
       "    <tr style=\"text-align: right;\">\n",
       "      <th></th>\n",
       "      <th>licenseplatecsv._row_id</th>\n",
       "      <th>licenseplatecsv.id</th>\n",
       "      <th>licenseplatecsv.label</th>\n",
       "    </tr>\n",
       "  </thead>\n",
       "  <tbody>\n",
       "    <tr>\n",
       "      <th>0</th>\n",
       "      <td>1</td>\n",
       "      <td>1</td>\n",
       "      <td>KLG1CA2555</td>\n",
       "    </tr>\n",
       "    <tr>\n",
       "      <th>1</th>\n",
       "      <td>2</td>\n",
       "      <td>2</td>\n",
       "      <td>PGMN112</td>\n",
       "    </tr>\n",
       "    <tr>\n",
       "      <th>2</th>\n",
       "      <td>3</td>\n",
       "      <td>3</td>\n",
       "      <td>PRENUP</td>\n",
       "    </tr>\n",
       "    <tr>\n",
       "      <th>3</th>\n",
       "      <td>4</td>\n",
       "      <td>4</td>\n",
       "      <td>DZ17YXR</td>\n",
       "    </tr>\n",
       "    <tr>\n",
       "      <th>4</th>\n",
       "      <td>5</td>\n",
       "      <td>5</td>\n",
       "      <td>PUI8BES</td>\n",
       "    </tr>\n",
       "    <tr>\n",
       "      <th>5</th>\n",
       "      <td>6</td>\n",
       "      <td>1</td>\n",
       "      <td>KLG1CA2555</td>\n",
       "    </tr>\n",
       "    <tr>\n",
       "      <th>6</th>\n",
       "      <td>7</td>\n",
       "      <td>2</td>\n",
       "      <td>PGMN112</td>\n",
       "    </tr>\n",
       "    <tr>\n",
       "      <th>7</th>\n",
       "      <td>8</td>\n",
       "      <td>3</td>\n",
       "      <td>PRENUP</td>\n",
       "    </tr>\n",
       "    <tr>\n",
       "      <th>8</th>\n",
       "      <td>9</td>\n",
       "      <td>4</td>\n",
       "      <td>DZ17YXR</td>\n",
       "    </tr>\n",
       "    <tr>\n",
       "      <th>9</th>\n",
       "      <td>10</td>\n",
       "      <td>5</td>\n",
       "      <td>PUI8BES</td>\n",
       "    </tr>\n",
       "    <tr>\n",
       "      <th>10</th>\n",
       "      <td>11</td>\n",
       "      <td>1</td>\n",
       "      <td>KLG1CA2555</td>\n",
       "    </tr>\n",
       "    <tr>\n",
       "      <th>11</th>\n",
       "      <td>12</td>\n",
       "      <td>2</td>\n",
       "      <td>PGMN112</td>\n",
       "    </tr>\n",
       "    <tr>\n",
       "      <th>12</th>\n",
       "      <td>13</td>\n",
       "      <td>3</td>\n",
       "      <td>PRENUP</td>\n",
       "    </tr>\n",
       "    <tr>\n",
       "      <th>13</th>\n",
       "      <td>14</td>\n",
       "      <td>4</td>\n",
       "      <td>DZ17YXR</td>\n",
       "    </tr>\n",
       "    <tr>\n",
       "      <th>14</th>\n",
       "      <td>15</td>\n",
       "      <td>5</td>\n",
       "      <td>PUI8BES</td>\n",
       "    </tr>\n",
       "    <tr>\n",
       "      <th>15</th>\n",
       "      <td>16</td>\n",
       "      <td>1</td>\n",
       "      <td>KLG1CA2555</td>\n",
       "    </tr>\n",
       "    <tr>\n",
       "      <th>16</th>\n",
       "      <td>17</td>\n",
       "      <td>2</td>\n",
       "      <td>PGMN112</td>\n",
       "    </tr>\n",
       "    <tr>\n",
       "      <th>17</th>\n",
       "      <td>18</td>\n",
       "      <td>3</td>\n",
       "      <td>PRENUP</td>\n",
       "    </tr>\n",
       "    <tr>\n",
       "      <th>18</th>\n",
       "      <td>19</td>\n",
       "      <td>4</td>\n",
       "      <td>DZ17YXR</td>\n",
       "    </tr>\n",
       "    <tr>\n",
       "      <th>19</th>\n",
       "      <td>20</td>\n",
       "      <td>5</td>\n",
       "      <td>PUI8BES</td>\n",
       "    </tr>\n",
       "    <tr>\n",
       "      <th>20</th>\n",
       "      <td>21</td>\n",
       "      <td>1</td>\n",
       "      <td>KLG1CA2555</td>\n",
       "    </tr>\n",
       "    <tr>\n",
       "      <th>21</th>\n",
       "      <td>22</td>\n",
       "      <td>2</td>\n",
       "      <td>PGMN112</td>\n",
       "    </tr>\n",
       "    <tr>\n",
       "      <th>22</th>\n",
       "      <td>23</td>\n",
       "      <td>3</td>\n",
       "      <td>PRENUP</td>\n",
       "    </tr>\n",
       "    <tr>\n",
       "      <th>23</th>\n",
       "      <td>24</td>\n",
       "      <td>4</td>\n",
       "      <td>DZ17YXR</td>\n",
       "    </tr>\n",
       "    <tr>\n",
       "      <th>24</th>\n",
       "      <td>25</td>\n",
       "      <td>5</td>\n",
       "      <td>PUI8BES</td>\n",
       "    </tr>\n",
       "  </tbody>\n",
       "</table>\n",
       "</div>"
      ],
      "text/plain": [
       "    licenseplatecsv._row_id  licenseplatecsv.id licenseplatecsv.label\n",
       "0                         1                   1            KLG1CA2555\n",
       "1                         2                   2               PGMN112\n",
       "2                         3                   3                PRENUP\n",
       "3                         4                   4               DZ17YXR\n",
       "4                         5                   5               PUI8BES\n",
       "5                         6                   1            KLG1CA2555\n",
       "6                         7                   2               PGMN112\n",
       "7                         8                   3                PRENUP\n",
       "8                         9                   4               DZ17YXR\n",
       "9                        10                   5               PUI8BES\n",
       "10                       11                   1            KLG1CA2555\n",
       "11                       12                   2               PGMN112\n",
       "12                       13                   3                PRENUP\n",
       "13                       14                   4               DZ17YXR\n",
       "14                       15                   5               PUI8BES\n",
       "15                       16                   1            KLG1CA2555\n",
       "16                       17                   2               PGMN112\n",
       "17                       18                   3                PRENUP\n",
       "18                       19                   4               DZ17YXR\n",
       "19                       20                   5               PUI8BES\n",
       "20                       21                   1            KLG1CA2555\n",
       "21                       22                   2               PGMN112\n",
       "22                       23                   3                PRENUP\n",
       "23                       24                   4               DZ17YXR\n",
       "24                       25                   5               PUI8BES"
      ]
     },
     "execution_count": 29,
     "metadata": {},
     "output_type": "execute_result"
    }
   ],
   "source": [
    "cursor.execute('SELECT OCRExtractor(data) FROM MyImages;')\n",
    "response = cursor.fetch_all()\n",
    "response.as_df()\n",
    "\n",
    "cursor.execute('SELECT * FROM LicensePlateCSV;')\n",
    "response = cursor.fetch_all()\n",
    "response.as_df()"
   ]
  },
  {
   "attachments": {},
   "cell_type": "markdown",
   "id": "4b41f136",
   "metadata": {},
   "source": [
    "### Run Fuzzy Join to match Detected License Plate against Local License Plate Database (csv)"
   ]
  },
  {
   "cell_type": "code",
   "execution_count": 31,
   "id": "9431e221",
   "metadata": {
    "execution": {
     "iopub.execute_input": "2023-05-07T22:26:20.804170Z",
     "iopub.status.busy": "2023-05-07T22:26:20.803918Z",
     "iopub.status.idle": "2023-05-07T22:26:25.931278Z",
     "shell.execute_reply": "2023-05-07T22:26:25.930439Z"
    }
   },
   "outputs": [
    {
     "data": {
      "text/html": [
       "<div>\n",
       "<style scoped>\n",
       "    .dataframe tbody tr th:only-of-type {\n",
       "        vertical-align: middle;\n",
       "    }\n",
       "\n",
       "    .dataframe tbody tr th {\n",
       "        vertical-align: top;\n",
       "    }\n",
       "\n",
       "    .dataframe thead th {\n",
       "        text-align: right;\n",
       "    }\n",
       "</style>\n",
       "<table border=\"1\" class=\"dataframe\">\n",
       "  <thead>\n",
       "    <tr style=\"text-align: right;\">\n",
       "      <th></th>\n",
       "      <th>myimages._row_id</th>\n",
       "      <th>myimages.name</th>\n",
       "      <th>myimages.data</th>\n",
       "      <th>B._row_id</th>\n",
       "      <th>B.id</th>\n",
       "      <th>B.label</th>\n",
       "      <th>T.a</th>\n",
       "      <th>T.b</th>\n",
       "      <th>T.c</th>\n",
       "    </tr>\n",
       "  </thead>\n",
       "  <tbody>\n",
       "    <tr>\n",
       "      <th>0</th>\n",
       "      <td>1</td>\n",
       "      <td>license/Cars0.png</td>\n",
       "      <td>[[[25, 75, 100], [73, 130, 159], [52, 127, 158...</td>\n",
       "      <td>1</td>\n",
       "      <td>1</td>\n",
       "      <td>KLG1CA2555</td>\n",
       "      <td>[KLo1CN2555]</td>\n",
       "      <td>[[[240, 115], [425, 115], [425, 178], [240, 17...</td>\n",
       "      <td>[0.20029704378116528]</td>\n",
       "    </tr>\n",
       "  </tbody>\n",
       "</table>\n",
       "</div>"
      ],
      "text/plain": [
       "   myimages._row_id      myimages.name  \\\n",
       "0                 1  license/Cars0.png   \n",
       "\n",
       "                                       myimages.data  B._row_id  B.id  \\\n",
       "0  [[[25, 75, 100], [73, 130, 159], [52, 127, 158...          1     1   \n",
       "\n",
       "      B.label           T.a  \\\n",
       "0  KLG1CA2555  [KLo1CN2555]   \n",
       "\n",
       "                                                 T.b                    T.c  \n",
       "0  [[[240, 115], [425, 115], [425, 178], [240, 17...  [0.20029704378116528]  "
      ]
     },
     "execution_count": 31,
     "metadata": {},
     "output_type": "execute_result"
    }
   ],
   "source": [
    "cursor.execute(\"\"\"\n",
    "   SELECT * FROM MyImages \n",
    "       JOIN LATERAL OCRExtractor(data) AS T(a,b,c) \n",
    "       JOIN LicensePlateCSV B \n",
    "       ON FuzzDistance(T.a, B.label) > 50;\n",
    "       \"\"\")\n",
    "response = cursor.fetch_all()\n",
    "response.as_df()"
   ]
  }
 ],
 "metadata": {
  "kernelspec": {
   "display_name": "Python 3 (ipykernel)",
   "language": "python",
   "name": "python3"
  },
  "language_info": {
   "codemirror_mode": {
    "name": "ipython",
    "version": 3
   },
   "file_extension": ".py",
   "mimetype": "text/x-python",
   "name": "python",
   "nbconvert_exporter": "python",
   "pygments_lexer": "ipython3",
   "version": "3.10.8"
  },
  "varInspector": {
   "cols": {
    "lenName": 16,
    "lenType": 16,
    "lenVar": 40
   },
   "kernels_config": {
    "python": {
     "delete_cmd_postfix": "",
     "delete_cmd_prefix": "del ",
     "library": "var_list.py",
     "varRefreshCmd": "print(var_dic_list())"
    },
    "r": {
     "delete_cmd_postfix": ") ",
     "delete_cmd_prefix": "rm(",
     "library": "var_list.r",
     "varRefreshCmd": "cat(var_dic_list()) "
    }
   },
   "types_to_exclude": [
    "module",
    "function",
    "builtin_function_or_method",
    "instance",
    "_Feature"
   ],
   "window_display": false
  }
 },
 "nbformat": 4,
 "nbformat_minor": 5
}
