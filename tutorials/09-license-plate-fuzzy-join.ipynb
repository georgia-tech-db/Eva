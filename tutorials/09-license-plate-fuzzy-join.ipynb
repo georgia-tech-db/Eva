{
 "cells": [
  {
   "attachments": {},
   "cell_type": "markdown",
   "id": "899e81c0",
   "metadata": {},
   "source": [
    "## License Plate Detection using Fuzzy Join "
   ]
  },
  {
   "attachments": {},
   "cell_type": "markdown",
   "id": "04b5bc12",
   "metadata": {},
   "source": [
    "<table align=\"left\">\n",
    "  <td>\n",
    "    <a target=\"_blank\" href=\"https://colab.research.google.com/github/georgia-tech-db/eva/blob/master/tutorials/09-license-plate-fuzzy-join.ipynb\"><img src=\"https://www.tensorflow.org/images/colab_logo_32px.png\" /> Run on Google Colab</a>\n",
    "  </td>\n",
    "  <td>\n",
    "    <a target=\"_blank\" href=\"https://github.com/georgia-tech-db/eva/blob/master/tutorials/09-license-plate-fuzzy-join.ipynb\"><img src=\"https://www.tensorflow.org/images/GitHub-Mark-32px.png\" /> View source on GitHub</a>\n",
    "  </td>\n",
    "  <td>\n",
    "    <a target=\"_blank\" href=\"https://github.com/georgia-tech-db/eva/raw/master/tutorials/09-license-plate-fuzzy-join.ipynb\"><img src=\"https://www.tensorflow.org/images/download_logo_32px.png\" /> Download notebook</a>\n",
    "  </td>\n",
    "</table><br><br>"
   ]
  },
  {
   "attachments": {},
   "cell_type": "markdown",
   "id": "c870b8d3",
   "metadata": {},
   "source": [
    "### Connect to EvaDB"
   ]
  },
  {
   "cell_type": "code",
   "execution_count": 27,
   "id": "08c79d84",
   "metadata": {
    "execution": {
     "iopub.execute_input": "2023-06-24T20:11:35.976833Z",
     "iopub.status.busy": "2023-06-24T20:11:35.976284Z",
     "iopub.status.idle": "2023-06-24T20:11:50.175498Z",
     "shell.execute_reply": "2023-06-24T20:11:50.174340Z"
    }
   },
   "outputs": [
    {
     "name": "stdout",
     "output_type": "stream",
     "text": [
      "huggingface/tokenizers: The current process just got forked, after parallelism has already been used. Disabling parallelism to avoid deadlocks...\n",
      "To disable this warning, you can either:\n",
      "\t- Avoid using `tokenizers` before the fork if possible\n",
      "\t- Explicitly set the environment variable TOKENIZERS_PARALLELISM=(true | false)\n",
      "Requirement already satisfied: evadb[notebook,vision] in /home/jarulraj3/eva/test_evadb/lib/python3.10/site-packages (0.2.14+dev)\n",
      "Requirement already satisfied: numpy>=1.19.5 in /home/jarulraj3/eva/test_evadb/lib/python3.10/site-packages (from evadb[notebook,vision]) (1.25.0)\n",
      "Requirement already satisfied: pandas>=1.1.5 in /home/jarulraj3/eva/test_evadb/lib/python3.10/site-packages (from evadb[notebook,vision]) (2.0.2)\n",
      "Requirement already satisfied: sqlalchemy<2.0.0,>=1.4.0 in /home/jarulraj3/eva/test_evadb/lib/python3.10/site-packages (from evadb[notebook,vision]) (1.4.48)\n",
      "Requirement already satisfied: sqlalchemy-utils>=0.36.6 in /home/jarulraj3/eva/test_evadb/lib/python3.10/site-packages (from evadb[notebook,vision]) (0.41.1)\n",
      "Requirement already satisfied: lark>=1.0.0 in /home/jarulraj3/eva/test_evadb/lib/python3.10/site-packages (from evadb[notebook,vision]) (1.1.5)\n",
      "Requirement already satisfied: pyyaml>=5.1 in /home/jarulraj3/eva/test_evadb/lib/python3.10/site-packages (from evadb[notebook,vision]) (6.0)\n",
      "Requirement already satisfied: aenum>=2.2.0 in /home/jarulraj3/eva/test_evadb/lib/python3.10/site-packages (from evadb[notebook,vision]) (3.1.14)\n",
      "Requirement already satisfied: diskcache>=5.4.0 in /home/jarulraj3/eva/test_evadb/lib/python3.10/site-packages (from evadb[notebook,vision]) (5.6.1)\n",
      "Requirement already satisfied: retry>=0.9.2 in /home/jarulraj3/eva/test_evadb/lib/python3.10/site-packages (from evadb[notebook,vision]) (0.9.2)\n",
      "Requirement already satisfied: psutil in /home/jarulraj3/eva/test_evadb/lib/python3.10/site-packages (from evadb[notebook,vision]) (5.9.5)\n",
      "Requirement already satisfied: ipython<8.13.0 in /home/jarulraj3/eva/test_evadb/lib/python3.10/site-packages (from evadb[notebook,vision]) (8.12.2)\n",
      "Requirement already satisfied: ipywidgets>=7.7.2 in /home/jarulraj3/eva/test_evadb/lib/python3.10/site-packages (from evadb[notebook,vision]) (8.0.6)\n",
      "Requirement already satisfied: matplotlib>=3.3.4 in /home/jarulraj3/eva/test_evadb/lib/python3.10/site-packages (from evadb[notebook,vision]) (3.7.1)\n",
      "Requirement already satisfied: nbmake>=1.2.1 in /home/jarulraj3/eva/test_evadb/lib/python3.10/site-packages (from evadb[notebook,vision]) (1.4.1)\n",
      "Requirement already satisfied: nest-asyncio>=1.5.6 in /home/jarulraj3/eva/test_evadb/lib/python3.10/site-packages (from evadb[notebook,vision]) (1.5.6)\n",
      "Requirement already satisfied: torch>=1.10.0 in /home/jarulraj3/eva/test_evadb/lib/python3.10/site-packages (from evadb[notebook,vision]) (2.0.1)\n",
      "Requirement already satisfied: torchvision>=0.11.1 in /home/jarulraj3/eva/test_evadb/lib/python3.10/site-packages (from evadb[notebook,vision]) (0.15.2)\n",
      "Requirement already satisfied: transformers<4.30.2,>=4.27.4 in /home/jarulraj3/eva/test_evadb/lib/python3.10/site-packages (from evadb[notebook,vision]) (4.30.1)\n",
      "Requirement already satisfied: faiss-cpu in /home/jarulraj3/eva/test_evadb/lib/python3.10/site-packages (from evadb[notebook,vision]) (1.7.4)\n",
      "Requirement already satisfied: opencv-python-headless>=4.6.0.66 in /home/jarulraj3/eva/test_evadb/lib/python3.10/site-packages (from evadb[notebook,vision]) (4.7.0.72)\n",
      "Requirement already satisfied: Pillow>=8.4.0 in /home/jarulraj3/eva/test_evadb/lib/python3.10/site-packages (from evadb[notebook,vision]) (9.5.0)\n",
      "Requirement already satisfied: eva-decord>=0.6.1 in /home/jarulraj3/eva/test_evadb/lib/python3.10/site-packages (from evadb[notebook,vision]) (0.6.1)\n",
      "Requirement already satisfied: ultralytics>=8.0.93 in /home/jarulraj3/eva/test_evadb/lib/python3.10/site-packages (from evadb[notebook,vision]) (8.0.121)\n",
      "Requirement already satisfied: timm>=0.6.13 in /home/jarulraj3/eva/test_evadb/lib/python3.10/site-packages (from evadb[notebook,vision]) (0.9.2)\n",
      "Requirement already satisfied: sentencepiece in /home/jarulraj3/eva/test_evadb/lib/python3.10/site-packages (from evadb[notebook,vision]) (0.1.99)\n",
      "Requirement already satisfied: backcall in /home/jarulraj3/eva/test_evadb/lib/python3.10/site-packages (from ipython<8.13.0->evadb[notebook,vision]) (0.2.0)\n",
      "Requirement already satisfied: decorator in /home/jarulraj3/eva/test_evadb/lib/python3.10/site-packages (from ipython<8.13.0->evadb[notebook,vision]) (5.1.1)\n",
      "Requirement already satisfied: jedi>=0.16 in /home/jarulraj3/eva/test_evadb/lib/python3.10/site-packages (from ipython<8.13.0->evadb[notebook,vision]) (0.18.2)\n",
      "Requirement already satisfied: matplotlib-inline in /home/jarulraj3/eva/test_evadb/lib/python3.10/site-packages (from ipython<8.13.0->evadb[notebook,vision]) (0.1.6)\n",
      "Requirement already satisfied: pickleshare in /home/jarulraj3/eva/test_evadb/lib/python3.10/site-packages (from ipython<8.13.0->evadb[notebook,vision]) (0.7.5)\n",
      "Requirement already satisfied: prompt-toolkit!=3.0.37,<3.1.0,>=3.0.30 in /home/jarulraj3/eva/test_evadb/lib/python3.10/site-packages (from ipython<8.13.0->evadb[notebook,vision]) (3.0.38)\n",
      "Requirement already satisfied: pygments>=2.4.0 in /home/jarulraj3/eva/test_evadb/lib/python3.10/site-packages (from ipython<8.13.0->evadb[notebook,vision]) (2.15.1)\n",
      "Requirement already satisfied: stack-data in /home/jarulraj3/eva/test_evadb/lib/python3.10/site-packages (from ipython<8.13.0->evadb[notebook,vision]) (0.6.2)\n",
      "Requirement already satisfied: traitlets>=5 in /home/jarulraj3/eva/test_evadb/lib/python3.10/site-packages (from ipython<8.13.0->evadb[notebook,vision]) (5.9.0)\n",
      "Requirement already satisfied: pexpect>4.3 in /home/jarulraj3/eva/test_evadb/lib/python3.10/site-packages (from ipython<8.13.0->evadb[notebook,vision]) (4.8.0)\n",
      "Requirement already satisfied: ipykernel>=4.5.1 in /home/jarulraj3/eva/test_evadb/lib/python3.10/site-packages (from ipywidgets>=7.7.2->evadb[notebook,vision]) (6.23.3)\n",
      "Requirement already satisfied: widgetsnbextension~=4.0.7 in /home/jarulraj3/eva/test_evadb/lib/python3.10/site-packages (from ipywidgets>=7.7.2->evadb[notebook,vision]) (4.0.7)\n",
      "Requirement already satisfied: jupyterlab-widgets~=3.0.7 in /home/jarulraj3/eva/test_evadb/lib/python3.10/site-packages (from ipywidgets>=7.7.2->evadb[notebook,vision]) (3.0.7)\n",
      "Requirement already satisfied: contourpy>=1.0.1 in /home/jarulraj3/eva/test_evadb/lib/python3.10/site-packages (from matplotlib>=3.3.4->evadb[notebook,vision]) (1.1.0)\n",
      "Requirement already satisfied: cycler>=0.10 in /home/jarulraj3/eva/test_evadb/lib/python3.10/site-packages (from matplotlib>=3.3.4->evadb[notebook,vision]) (0.11.0)\n",
      "Requirement already satisfied: fonttools>=4.22.0 in /home/jarulraj3/eva/test_evadb/lib/python3.10/site-packages (from matplotlib>=3.3.4->evadb[notebook,vision]) (4.40.0)\n",
      "Requirement already satisfied: kiwisolver>=1.0.1 in /home/jarulraj3/eva/test_evadb/lib/python3.10/site-packages (from matplotlib>=3.3.4->evadb[notebook,vision]) (1.4.4)\n",
      "Requirement already satisfied: packaging>=20.0 in /home/jarulraj3/eva/test_evadb/lib/python3.10/site-packages (from matplotlib>=3.3.4->evadb[notebook,vision]) (23.1)\n",
      "Requirement already satisfied: pyparsing>=2.3.1 in /home/jarulraj3/eva/test_evadb/lib/python3.10/site-packages (from matplotlib>=3.3.4->evadb[notebook,vision]) (3.1.0)\n",
      "Requirement already satisfied: python-dateutil>=2.7 in /home/jarulraj3/eva/test_evadb/lib/python3.10/site-packages (from matplotlib>=3.3.4->evadb[notebook,vision]) (2.8.2)\n",
      "Requirement already satisfied: nbclient<0.7.0,>=0.6.6 in /home/jarulraj3/eva/test_evadb/lib/python3.10/site-packages (from nbmake>=1.2.1->evadb[notebook,vision]) (0.6.8)\n",
      "Requirement already satisfied: nbformat<6.0.0,>=5.0.8 in /home/jarulraj3/eva/test_evadb/lib/python3.10/site-packages (from nbmake>=1.2.1->evadb[notebook,vision]) (5.9.0)\n",
      "Requirement already satisfied: pydantic<2.0.0,>=1.7.2 in /home/jarulraj3/eva/test_evadb/lib/python3.10/site-packages (from nbmake>=1.2.1->evadb[notebook,vision]) (1.10.9)\n",
      "Requirement already satisfied: pytest>=6.1.0 in /home/jarulraj3/eva/test_evadb/lib/python3.10/site-packages (from nbmake>=1.2.1->evadb[notebook,vision]) (7.4.0)\n",
      "Requirement already satisfied: pytz>=2020.1 in /home/jarulraj3/eva/test_evadb/lib/python3.10/site-packages (from pandas>=1.1.5->evadb[notebook,vision]) (2023.3)\n",
      "Requirement already satisfied: tzdata>=2022.1 in /home/jarulraj3/eva/test_evadb/lib/python3.10/site-packages (from pandas>=1.1.5->evadb[notebook,vision]) (2023.3)\n",
      "Requirement already satisfied: py<2.0.0,>=1.4.26 in /home/jarulraj3/eva/test_evadb/lib/python3.10/site-packages (from retry>=0.9.2->evadb[notebook,vision]) (1.11.0)\n",
      "Requirement already satisfied: greenlet!=0.4.17 in /home/jarulraj3/eva/test_evadb/lib/python3.10/site-packages (from sqlalchemy<2.0.0,>=1.4.0->evadb[notebook,vision]) (2.0.2)\n",
      "Requirement already satisfied: huggingface-hub in /home/jarulraj3/eva/test_evadb/lib/python3.10/site-packages (from timm>=0.6.13->evadb[notebook,vision]) (0.15.1)\n",
      "Requirement already satisfied: safetensors in /home/jarulraj3/eva/test_evadb/lib/python3.10/site-packages (from timm>=0.6.13->evadb[notebook,vision]) (0.3.1)\n",
      "Requirement already satisfied: filelock in /home/jarulraj3/eva/test_evadb/lib/python3.10/site-packages (from torch>=1.10.0->evadb[notebook,vision]) (3.12.2)\n",
      "Requirement already satisfied: typing-extensions in /home/jarulraj3/eva/test_evadb/lib/python3.10/site-packages (from torch>=1.10.0->evadb[notebook,vision]) (4.5.0)\n",
      "Requirement already satisfied: sympy in /home/jarulraj3/eva/test_evadb/lib/python3.10/site-packages (from torch>=1.10.0->evadb[notebook,vision]) (1.12)\n",
      "Requirement already satisfied: networkx in /home/jarulraj3/eva/test_evadb/lib/python3.10/site-packages (from torch>=1.10.0->evadb[notebook,vision]) (3.1)\n",
      "Requirement already satisfied: jinja2 in /home/jarulraj3/eva/test_evadb/lib/python3.10/site-packages (from torch>=1.10.0->evadb[notebook,vision]) (3.1.2)\n",
      "Requirement already satisfied: nvidia-cuda-nvrtc-cu11==11.7.99 in /home/jarulraj3/eva/test_evadb/lib/python3.10/site-packages (from torch>=1.10.0->evadb[notebook,vision]) (11.7.99)\n",
      "Requirement already satisfied: nvidia-cuda-runtime-cu11==11.7.99 in /home/jarulraj3/eva/test_evadb/lib/python3.10/site-packages (from torch>=1.10.0->evadb[notebook,vision]) (11.7.99)\n",
      "Requirement already satisfied: nvidia-cuda-cupti-cu11==11.7.101 in /home/jarulraj3/eva/test_evadb/lib/python3.10/site-packages (from torch>=1.10.0->evadb[notebook,vision]) (11.7.101)\n",
      "Requirement already satisfied: nvidia-cudnn-cu11==8.5.0.96 in /home/jarulraj3/eva/test_evadb/lib/python3.10/site-packages (from torch>=1.10.0->evadb[notebook,vision]) (8.5.0.96)\n",
      "Requirement already satisfied: nvidia-cublas-cu11==11.10.3.66 in /home/jarulraj3/eva/test_evadb/lib/python3.10/site-packages (from torch>=1.10.0->evadb[notebook,vision]) (11.10.3.66)\n",
      "Requirement already satisfied: nvidia-cufft-cu11==10.9.0.58 in /home/jarulraj3/eva/test_evadb/lib/python3.10/site-packages (from torch>=1.10.0->evadb[notebook,vision]) (10.9.0.58)\n",
      "Requirement already satisfied: nvidia-curand-cu11==10.2.10.91 in /home/jarulraj3/eva/test_evadb/lib/python3.10/site-packages (from torch>=1.10.0->evadb[notebook,vision]) (10.2.10.91)\n",
      "Requirement already satisfied: nvidia-cusolver-cu11==11.4.0.1 in /home/jarulraj3/eva/test_evadb/lib/python3.10/site-packages (from torch>=1.10.0->evadb[notebook,vision]) (11.4.0.1)\n",
      "Requirement already satisfied: nvidia-cusparse-cu11==11.7.4.91 in /home/jarulraj3/eva/test_evadb/lib/python3.10/site-packages (from torch>=1.10.0->evadb[notebook,vision]) (11.7.4.91)\n",
      "Requirement already satisfied: nvidia-nccl-cu11==2.14.3 in /home/jarulraj3/eva/test_evadb/lib/python3.10/site-packages (from torch>=1.10.0->evadb[notebook,vision]) (2.14.3)\n",
      "Requirement already satisfied: nvidia-nvtx-cu11==11.7.91 in /home/jarulraj3/eva/test_evadb/lib/python3.10/site-packages (from torch>=1.10.0->evadb[notebook,vision]) (11.7.91)\n",
      "Requirement already satisfied: triton==2.0.0 in /home/jarulraj3/eva/test_evadb/lib/python3.10/site-packages (from torch>=1.10.0->evadb[notebook,vision]) (2.0.0)\n",
      "Requirement already satisfied: setuptools in /home/jarulraj3/eva/test_evadb/lib/python3.10/site-packages (from nvidia-cublas-cu11==11.10.3.66->torch>=1.10.0->evadb[notebook,vision]) (65.5.0)\n",
      "Requirement already satisfied: wheel in /home/jarulraj3/eva/test_evadb/lib/python3.10/site-packages (from nvidia-cublas-cu11==11.10.3.66->torch>=1.10.0->evadb[notebook,vision]) (0.40.0)\n",
      "Requirement already satisfied: cmake in /home/jarulraj3/eva/test_evadb/lib/python3.10/site-packages (from triton==2.0.0->torch>=1.10.0->evadb[notebook,vision]) (3.26.4)\n",
      "Requirement already satisfied: lit in /home/jarulraj3/eva/test_evadb/lib/python3.10/site-packages (from triton==2.0.0->torch>=1.10.0->evadb[notebook,vision]) (16.0.6)\n",
      "Requirement already satisfied: requests in /home/jarulraj3/eva/test_evadb/lib/python3.10/site-packages (from torchvision>=0.11.1->evadb[notebook,vision]) (2.31.0)\n",
      "Requirement already satisfied: regex!=2019.12.17 in /home/jarulraj3/eva/test_evadb/lib/python3.10/site-packages (from transformers<4.30.2,>=4.27.4->evadb[notebook,vision]) (2023.6.3)\n",
      "Requirement already satisfied: tokenizers!=0.11.3,<0.14,>=0.11.1 in /home/jarulraj3/eva/test_evadb/lib/python3.10/site-packages (from transformers<4.30.2,>=4.27.4->evadb[notebook,vision]) (0.12.1)\n",
      "Requirement already satisfied: tqdm>=4.27 in /home/jarulraj3/eva/test_evadb/lib/python3.10/site-packages (from transformers<4.30.2,>=4.27.4->evadb[notebook,vision]) (4.65.0)\n",
      "Requirement already satisfied: opencv-python>=4.6.0 in /home/jarulraj3/eva/test_evadb/lib/python3.10/site-packages (from ultralytics>=8.0.93->evadb[notebook,vision]) (4.7.0.72)\n",
      "Requirement already satisfied: scipy>=1.4.1 in /home/jarulraj3/eva/test_evadb/lib/python3.10/site-packages (from ultralytics>=8.0.93->evadb[notebook,vision]) (1.10.1)\n",
      "Requirement already satisfied: seaborn>=0.11.0 in /home/jarulraj3/eva/test_evadb/lib/python3.10/site-packages (from ultralytics>=8.0.93->evadb[notebook,vision]) (0.12.2)\n",
      "Requirement already satisfied: fsspec in /home/jarulraj3/eva/test_evadb/lib/python3.10/site-packages (from huggingface-hub->timm>=0.6.13->evadb[notebook,vision]) (2023.6.0)\n",
      "Requirement already satisfied: comm>=0.1.1 in /home/jarulraj3/eva/test_evadb/lib/python3.10/site-packages (from ipykernel>=4.5.1->ipywidgets>=7.7.2->evadb[notebook,vision]) (0.1.3)\n",
      "Requirement already satisfied: debugpy>=1.6.5 in /home/jarulraj3/eva/test_evadb/lib/python3.10/site-packages (from ipykernel>=4.5.1->ipywidgets>=7.7.2->evadb[notebook,vision]) (1.6.7)\n",
      "Requirement already satisfied: jupyter-client>=6.1.12 in /home/jarulraj3/eva/test_evadb/lib/python3.10/site-packages (from ipykernel>=4.5.1->ipywidgets>=7.7.2->evadb[notebook,vision]) (8.3.0)\n",
      "Requirement already satisfied: jupyter-core!=5.0.*,>=4.12 in /home/jarulraj3/eva/test_evadb/lib/python3.10/site-packages (from ipykernel>=4.5.1->ipywidgets>=7.7.2->evadb[notebook,vision]) (5.3.1)\n",
      "Requirement already satisfied: pyzmq>=20 in /home/jarulraj3/eva/test_evadb/lib/python3.10/site-packages (from ipykernel>=4.5.1->ipywidgets>=7.7.2->evadb[notebook,vision]) (25.1.0)\n",
      "Requirement already satisfied: tornado>=6.1 in /home/jarulraj3/eva/test_evadb/lib/python3.10/site-packages (from ipykernel>=4.5.1->ipywidgets>=7.7.2->evadb[notebook,vision]) (6.3.2)\n",
      "Requirement already satisfied: parso<0.9.0,>=0.8.0 in /home/jarulraj3/eva/test_evadb/lib/python3.10/site-packages (from jedi>=0.16->ipython<8.13.0->evadb[notebook,vision]) (0.8.3)\n",
      "Requirement already satisfied: fastjsonschema in /home/jarulraj3/eva/test_evadb/lib/python3.10/site-packages (from nbformat<6.0.0,>=5.0.8->nbmake>=1.2.1->evadb[notebook,vision]) (2.17.1)\n",
      "Requirement already satisfied: jsonschema>=2.6 in /home/jarulraj3/eva/test_evadb/lib/python3.10/site-packages (from nbformat<6.0.0,>=5.0.8->nbmake>=1.2.1->evadb[notebook,vision]) (4.17.3)\n",
      "Requirement already satisfied: ptyprocess>=0.5 in /home/jarulraj3/eva/test_evadb/lib/python3.10/site-packages (from pexpect>4.3->ipython<8.13.0->evadb[notebook,vision]) (0.7.0)\n",
      "Requirement already satisfied: wcwidth in /home/jarulraj3/eva/test_evadb/lib/python3.10/site-packages (from prompt-toolkit!=3.0.37,<3.1.0,>=3.0.30->ipython<8.13.0->evadb[notebook,vision]) (0.2.6)\n",
      "Requirement already satisfied: iniconfig in /home/jarulraj3/eva/test_evadb/lib/python3.10/site-packages (from pytest>=6.1.0->nbmake>=1.2.1->evadb[notebook,vision]) (2.0.0)\n",
      "Requirement already satisfied: pluggy<2.0,>=0.12 in /home/jarulraj3/eva/test_evadb/lib/python3.10/site-packages (from pytest>=6.1.0->nbmake>=1.2.1->evadb[notebook,vision]) (1.2.0)\n",
      "Requirement already satisfied: exceptiongroup>=1.0.0rc8 in /home/jarulraj3/eva/test_evadb/lib/python3.10/site-packages (from pytest>=6.1.0->nbmake>=1.2.1->evadb[notebook,vision]) (1.1.1)\n",
      "Requirement already satisfied: tomli>=1.0.0 in /home/jarulraj3/eva/test_evadb/lib/python3.10/site-packages (from pytest>=6.1.0->nbmake>=1.2.1->evadb[notebook,vision]) (2.0.1)\n",
      "Requirement already satisfied: six>=1.5 in /home/jarulraj3/eva/test_evadb/lib/python3.10/site-packages (from python-dateutil>=2.7->matplotlib>=3.3.4->evadb[notebook,vision]) (1.16.0)\n",
      "Requirement already satisfied: charset-normalizer<4,>=2 in /home/jarulraj3/eva/test_evadb/lib/python3.10/site-packages (from requests->torchvision>=0.11.1->evadb[notebook,vision]) (3.1.0)\n",
      "Requirement already satisfied: idna<4,>=2.5 in /home/jarulraj3/eva/test_evadb/lib/python3.10/site-packages (from requests->torchvision>=0.11.1->evadb[notebook,vision]) (3.4)\n",
      "Requirement already satisfied: urllib3<3,>=1.21.1 in /home/jarulraj3/eva/test_evadb/lib/python3.10/site-packages (from requests->torchvision>=0.11.1->evadb[notebook,vision]) (1.26.16)\n",
      "Requirement already satisfied: certifi>=2017.4.17 in /home/jarulraj3/eva/test_evadb/lib/python3.10/site-packages (from requests->torchvision>=0.11.1->evadb[notebook,vision]) (2023.5.7)\n",
      "Requirement already satisfied: MarkupSafe>=2.0 in /home/jarulraj3/eva/test_evadb/lib/python3.10/site-packages (from jinja2->torch>=1.10.0->evadb[notebook,vision]) (2.1.3)\n",
      "Requirement already satisfied: executing>=1.2.0 in /home/jarulraj3/eva/test_evadb/lib/python3.10/site-packages (from stack-data->ipython<8.13.0->evadb[notebook,vision]) (1.2.0)\n",
      "Requirement already satisfied: asttokens>=2.1.0 in /home/jarulraj3/eva/test_evadb/lib/python3.10/site-packages (from stack-data->ipython<8.13.0->evadb[notebook,vision]) (2.2.1)\n",
      "Requirement already satisfied: pure-eval in /home/jarulraj3/eva/test_evadb/lib/python3.10/site-packages (from stack-data->ipython<8.13.0->evadb[notebook,vision]) (0.2.2)\n",
      "Requirement already satisfied: mpmath>=0.19 in /home/jarulraj3/eva/test_evadb/lib/python3.10/site-packages (from sympy->torch>=1.10.0->evadb[notebook,vision]) (1.3.0)\n",
      "Requirement already satisfied: attrs>=17.4.0 in /home/jarulraj3/eva/test_evadb/lib/python3.10/site-packages (from jsonschema>=2.6->nbformat<6.0.0,>=5.0.8->nbmake>=1.2.1->evadb[notebook,vision]) (23.1.0)\n",
      "Requirement already satisfied: pyrsistent!=0.17.0,!=0.17.1,!=0.17.2,>=0.14.0 in /home/jarulraj3/eva/test_evadb/lib/python3.10/site-packages (from jsonschema>=2.6->nbformat<6.0.0,>=5.0.8->nbmake>=1.2.1->evadb[notebook,vision]) (0.19.3)\n",
      "Requirement already satisfied: platformdirs>=2.5 in /home/jarulraj3/eva/test_evadb/lib/python3.10/site-packages (from jupyter-core!=5.0.*,>=4.12->ipykernel>=4.5.1->ipywidgets>=7.7.2->evadb[notebook,vision]) (3.8.0)\n",
      "Note: you may need to restart the kernel to use updated packages.\n",
      "huggingface/tokenizers: The current process just got forked, after parallelism has already been used. Disabling parallelism to avoid deadlocks...\n",
      "To disable this warning, you can either:\n",
      "\t- Avoid using `tokenizers` before the fork if possible\n",
      "\t- Explicitly set the environment variable TOKENIZERS_PARALLELISM=(true | false)\n",
      "Requirement already satisfied: thefuzz in /home/jarulraj3/eva/test_evadb/lib/python3.10/site-packages (0.19.0)\n",
      "Note: you may need to restart the kernel to use updated packages.\n",
      "huggingface/tokenizers: The current process just got forked, after parallelism has already been used. Disabling parallelism to avoid deadlocks...\n",
      "To disable this warning, you can either:\n",
      "\t- Avoid using `tokenizers` before the fork if possible\n",
      "\t- Explicitly set the environment variable TOKENIZERS_PARALLELISM=(true | false)\n",
      "Requirement already satisfied: protobuf==3.20.1 in /home/jarulraj3/eva/test_evadb/lib/python3.10/site-packages (3.20.1)\n",
      "Note: you may need to restart the kernel to use updated packages.\n"
     ]
    }
   ],
   "source": [
    "%pip install \"evadb[vision,notebook]\"\n",
    "%pip install thefuzz\n",
    "%pip install \"protobuf==3.20.1\"\n",
    "import evadb\n",
    "cursor = evadb.connect().cursor()"
   ]
  },
  {
   "attachments": {},
   "cell_type": "markdown",
   "id": "93e60a0f",
   "metadata": {},
   "source": [
    "### Loading the images to EvaDB for analysis"
   ]
  },
  {
   "cell_type": "code",
   "execution_count": 28,
   "id": "e2f7e482",
   "metadata": {
    "execution": {
     "iopub.execute_input": "2023-06-24T20:11:50.182492Z",
     "iopub.status.busy": "2023-06-24T20:11:50.182173Z",
     "iopub.status.idle": "2023-06-24T20:11:51.884028Z",
     "shell.execute_reply": "2023-06-24T20:11:51.882964Z"
    }
   },
   "outputs": [
    {
     "name": "stdout",
     "output_type": "stream",
     "text": [
      "huggingface/tokenizers: The current process just got forked, after parallelism has already been used. Disabling parallelism to avoid deadlocks...\n",
      "To disable this warning, you can either:\n",
      "\t- Avoid using `tokenizers` before the fork if possible\n",
      "\t- Explicitly set the environment variable TOKENIZERS_PARALLELISM=(true | false)\n",
      "File 'license.zip' already there; not retrieving.\n",
      "\n",
      "huggingface/tokenizers: The current process just got forked, after parallelism has already been used. Disabling parallelism to avoid deadlocks...\n",
      "To disable this warning, you can either:\n",
      "\t- Avoid using `tokenizers` before the fork if possible\n",
      "\t- Explicitly set the environment variable TOKENIZERS_PARALLELISM=(true | false)\n",
      "Archive:  license.zip\n"
     ]
    },
    {
     "data": {
      "text/html": [
       "<div>\n",
       "<style scoped>\n",
       "    .dataframe tbody tr th:only-of-type {\n",
       "        vertical-align: middle;\n",
       "    }\n",
       "\n",
       "    .dataframe tbody tr th {\n",
       "        vertical-align: top;\n",
       "    }\n",
       "\n",
       "    .dataframe thead th {\n",
       "        text-align: right;\n",
       "    }\n",
       "</style>\n",
       "<table border=\"1\" class=\"dataframe\">\n",
       "  <thead>\n",
       "    <tr style=\"text-align: right;\">\n",
       "      <th></th>\n",
       "      <th>0</th>\n",
       "    </tr>\n",
       "  </thead>\n",
       "  <tbody>\n",
       "    <tr>\n",
       "      <th>0</th>\n",
       "      <td>Number of loaded IMAGE: 7</td>\n",
       "    </tr>\n",
       "  </tbody>\n",
       "</table>\n",
       "</div>"
      ],
      "text/plain": [
       "                           0\n",
       "0  Number of loaded IMAGE: 7"
      ]
     },
     "execution_count": 28,
     "metadata": {},
     "output_type": "execute_result"
    }
   ],
   "source": [
    "# Download images\n",
    "!wget -nc \"https://www.dropbox.com/s/770stddqfl0psog/license.zip\"\n",
    "!unzip -n license.zip\n",
    "\n",
    "cursor.query('DROP TABLE IF EXISTS MyImages;').df()\n",
    "\n",
    "cursor.load(\"license/Car*.png\", \"MyImages\", format=\"image\").df()"
   ]
  },
  {
   "attachments": {},
   "cell_type": "markdown",
   "id": "322c0ab2",
   "metadata": {},
   "source": [
    "### License Plate Recognition"
   ]
  },
  {
   "cell_type": "code",
   "execution_count": 29,
   "id": "dced71f6",
   "metadata": {
    "execution": {
     "iopub.execute_input": "2023-06-24T20:11:51.888642Z",
     "iopub.status.busy": "2023-06-24T20:11:51.888409Z",
     "iopub.status.idle": "2023-06-24T20:11:58.723065Z",
     "shell.execute_reply": "2023-06-24T20:11:58.721598Z"
    }
   },
   "outputs": [
    {
     "name": "stderr",
     "output_type": "stream",
     "text": [
      "Could not find image processor class in the image processor config or the model config. Loading based on pattern matching with the model's feature extractor configuration.\n"
     ]
    },
    {
     "data": {
      "text/html": [
       "<div>\n",
       "<style scoped>\n",
       "    .dataframe tbody tr th:only-of-type {\n",
       "        vertical-align: middle;\n",
       "    }\n",
       "\n",
       "    .dataframe tbody tr th {\n",
       "        vertical-align: top;\n",
       "    }\n",
       "\n",
       "    .dataframe thead th {\n",
       "        text-align: right;\n",
       "    }\n",
       "</style>\n",
       "<table border=\"1\" class=\"dataframe\">\n",
       "  <thead>\n",
       "    <tr style=\"text-align: right;\">\n",
       "      <th></th>\n",
       "      <th>0</th>\n",
       "    </tr>\n",
       "  </thead>\n",
       "  <tbody>\n",
       "    <tr>\n",
       "      <th>0</th>\n",
       "      <td>UDF FuzzDistance successfully added to the dat...</td>\n",
       "    </tr>\n",
       "  </tbody>\n",
       "</table>\n",
       "</div>"
      ],
      "text/plain": [
       "                                                   0\n",
       "0  UDF FuzzDistance successfully added to the dat..."
      ]
     },
     "execution_count": 29,
     "metadata": {},
     "output_type": "execute_result"
    }
   ],
   "source": [
    "cursor.query(\"\"\"DROP UDF IF EXISTS OCRExtractor;\"\"\").df()\n",
    "\n",
    "cursor.query(\"\"\"DROP UDF IF EXISTS FuzzDistance;\"\"\").df()\n",
    "\n",
    "cursor.create_udf(\"OCRExtractor\", True, '../evadb/udfs/ocr_extractor.py').df()\n",
    "cursor.create_udf(\"FuzzDistance\", True, '../evadb/udfs/fuzzy_join.py').df()"
   ]
  },
  {
   "cell_type": "code",
   "execution_count": 30,
   "id": "d3d921b0",
   "metadata": {
    "execution": {
     "iopub.execute_input": "2023-06-24T20:11:58.727852Z",
     "iopub.status.busy": "2023-06-24T20:11:58.727261Z",
     "iopub.status.idle": "2023-06-24T20:11:58.746899Z",
     "shell.execute_reply": "2023-06-24T20:11:58.746016Z"
    }
   },
   "outputs": [
    {
     "name": "stderr",
     "output_type": "stream",
     "text": [
      "06-24-2023 16:24:47 WARNING[executor_utils:executor_utils.py:handle_if_not_exists:0083] Table: LicensePlateCSV already exists\n"
     ]
    },
    {
     "data": {
      "text/html": [
       "<div>\n",
       "<style scoped>\n",
       "    .dataframe tbody tr th:only-of-type {\n",
       "        vertical-align: middle;\n",
       "    }\n",
       "\n",
       "    .dataframe tbody tr th {\n",
       "        vertical-align: top;\n",
       "    }\n",
       "\n",
       "    .dataframe thead th {\n",
       "        text-align: right;\n",
       "    }\n",
       "</style>\n",
       "<table border=\"1\" class=\"dataframe\">\n",
       "  <thead>\n",
       "    <tr style=\"text-align: right;\">\n",
       "      <th></th>\n",
       "    </tr>\n",
       "  </thead>\n",
       "  <tbody>\n",
       "  </tbody>\n",
       "</table>\n",
       "</div>"
      ],
      "text/plain": [
       "Empty DataFrame\n",
       "Columns: []\n",
       "Index: []"
      ]
     },
     "execution_count": 30,
     "metadata": {},
     "output_type": "execute_result"
    }
   ],
   "source": [
    "cursor.query(\n",
    "    \"CREATE TABLE IF NOT EXISTS LicensePlateCSV(id INTEGER UNIQUE, label TEXT(30));\"\n",
    ").df()"
   ]
  },
  {
   "cell_type": "code",
   "execution_count": 31,
   "id": "03187c26",
   "metadata": {
    "execution": {
     "iopub.execute_input": "2023-06-24T20:11:58.751047Z",
     "iopub.status.busy": "2023-06-24T20:11:58.750242Z",
     "iopub.status.idle": "2023-06-24T20:11:58.784644Z",
     "shell.execute_reply": "2023-06-24T20:11:58.783713Z"
    }
   },
   "outputs": [
    {
     "data": {
      "text/html": [
       "<div>\n",
       "<style scoped>\n",
       "    .dataframe tbody tr th:only-of-type {\n",
       "        vertical-align: middle;\n",
       "    }\n",
       "\n",
       "    .dataframe tbody tr th {\n",
       "        vertical-align: top;\n",
       "    }\n",
       "\n",
       "    .dataframe thead th {\n",
       "        text-align: right;\n",
       "    }\n",
       "</style>\n",
       "<table border=\"1\" class=\"dataframe\">\n",
       "  <thead>\n",
       "    <tr style=\"text-align: right;\">\n",
       "      <th></th>\n",
       "      <th>CSV</th>\n",
       "      <th>Number of loaded frames</th>\n",
       "    </tr>\n",
       "  </thead>\n",
       "  <tbody>\n",
       "    <tr>\n",
       "      <th>0</th>\n",
       "      <td>/home/jarulraj3/eva/tutorials/data.csv</td>\n",
       "      <td>5</td>\n",
       "    </tr>\n",
       "  </tbody>\n",
       "</table>\n",
       "</div>"
      ],
      "text/plain": [
       "                                      CSV  Number of loaded frames\n",
       "0  /home/jarulraj3/eva/tutorials/data.csv                        5"
      ]
     },
     "execution_count": 31,
     "metadata": {},
     "output_type": "execute_result"
    }
   ],
   "source": [
    "cursor.load(\"/home/jarulraj3/eva/tutorials/data.csv\", \"LicensePlateCSV\",format=\"csv\").df()"
   ]
  },
  {
   "cell_type": "code",
   "execution_count": 32,
   "id": "a0eb6fb0",
   "metadata": {
    "execution": {
     "iopub.execute_input": "2023-06-24T20:11:58.789473Z",
     "iopub.status.busy": "2023-06-24T20:11:58.788979Z",
     "iopub.status.idle": "2023-06-24T20:12:14.853194Z",
     "shell.execute_reply": "2023-06-24T20:12:14.851884Z"
    }
   },
   "outputs": [
    {
     "name": "stderr",
     "output_type": "stream",
     "text": [
      "Could not find image processor class in the image processor config or the model config. Loading based on pattern matching with the model's feature extractor configuration.\n"
     ]
    },
    {
     "name": "stderr",
     "output_type": "stream",
     "text": [
      "06-24-2023 16:24:58 ERROR [base_model:base_model.py:_commit:0097] Database commit failed : (sqlite3.OperationalError) database is locked\n",
      "(Background on this error at: https://sqlalche.me/e/14/e3q8)\n",
      "06-24-2023 16:24:58 ERROR [base_model:base_model.py:save:0058] Database save failed : (sqlite3.OperationalError) database is locked\n",
      "(Background on this error at: https://sqlalche.me/e/14/e3q8)\n",
      "06-24-2023 16:24:58 ERROR [plan_executor:plan_executor.py:execute_plan:0172] Error while upserting entry to UdfCostCatalog: Error while inserting entry to UdfCostCatalog: (sqlite3.OperationalError) database is locked\n",
      "(Background on this error at: https://sqlalche.me/e/14/e3q8)\n",
      "Traceback (most recent call last):\n",
      "  File \"/nethome/jarulraj3/eva/test_evadb/lib/python3.10/site-packages/sqlalchemy/engine/base.py\", line 1094, in _commit_impl\n",
      "    self.engine.dialect.do_commit(self.connection)\n",
      "  File \"/nethome/jarulraj3/eva/test_evadb/lib/python3.10/site-packages/sqlalchemy/engine/default.py\", line 686, in do_commit\n",
      "    dbapi_connection.commit()\n",
      "sqlite3.OperationalError: database is locked\n",
      "\n",
      "The above exception was the direct cause of the following exception:\n",
      "\n",
      "Traceback (most recent call last):\n",
      "  File \"/nethome/jarulraj3/eva/test_evadb/lib/python3.10/site-packages/evadb/catalog/services/udf_cost_catalog_service.py\", line 41, in insert_entry\n",
      "    udf_obj.save(self.session)\n",
      "  File \"/nethome/jarulraj3/eva/test_evadb/lib/python3.10/site-packages/evadb/catalog/models/base_model.py\", line 59, in save\n",
      "    raise e\n",
      "  File \"/nethome/jarulraj3/eva/test_evadb/lib/python3.10/site-packages/evadb/catalog/models/base_model.py\", line 55, in save\n",
      "    self._commit(db_session)\n",
      "  File \"/nethome/jarulraj3/eva/test_evadb/lib/python3.10/site-packages/evadb/catalog/models/base_model.py\", line 98, in _commit\n",
      "    raise e\n",
      "  File \"/nethome/jarulraj3/eva/test_evadb/lib/python3.10/site-packages/evadb/catalog/models/base_model.py\", line 94, in _commit\n",
      "    db_session.commit()\n",
      "  File \"<string>\", line 2, in commit\n",
      "  File \"/nethome/jarulraj3/eva/test_evadb/lib/python3.10/site-packages/sqlalchemy/orm/session.py\", line 1454, in commit\n",
      "    self._transaction.commit(_to_root=self.future)\n",
      "  File \"/nethome/jarulraj3/eva/test_evadb/lib/python3.10/site-packages/sqlalchemy/orm/session.py\", line 839, in commit\n",
      "    trans.commit()\n",
      "  File \"/nethome/jarulraj3/eva/test_evadb/lib/python3.10/site-packages/sqlalchemy/engine/base.py\", line 2464, in commit\n",
      "    self._do_commit()\n",
      "  File \"/nethome/jarulraj3/eva/test_evadb/lib/python3.10/site-packages/sqlalchemy/engine/base.py\", line 2654, in _do_commit\n",
      "    self._connection_commit_impl()\n",
      "  File \"/nethome/jarulraj3/eva/test_evadb/lib/python3.10/site-packages/sqlalchemy/engine/base.py\", line 2625, in _connection_commit_impl\n",
      "    self.connection._commit_impl()\n",
      "  File \"/nethome/jarulraj3/eva/test_evadb/lib/python3.10/site-packages/sqlalchemy/engine/base.py\", line 1096, in _commit_impl\n",
      "    self._handle_dbapi_exception(e, None, None, None, None)\n",
      "  File \"/nethome/jarulraj3/eva/test_evadb/lib/python3.10/site-packages/sqlalchemy/engine/base.py\", line 2129, in _handle_dbapi_exception\n",
      "    util.raise_(\n",
      "  File \"/nethome/jarulraj3/eva/test_evadb/lib/python3.10/site-packages/sqlalchemy/util/compat.py\", line 211, in raise_\n",
      "    raise exception\n",
      "  File \"/nethome/jarulraj3/eva/test_evadb/lib/python3.10/site-packages/sqlalchemy/engine/base.py\", line 1094, in _commit_impl\n",
      "    self.engine.dialect.do_commit(self.connection)\n",
      "  File \"/nethome/jarulraj3/eva/test_evadb/lib/python3.10/site-packages/sqlalchemy/engine/default.py\", line 686, in do_commit\n",
      "    dbapi_connection.commit()\n",
      "sqlalchemy.exc.OperationalError: (sqlite3.OperationalError) database is locked\n",
      "(Background on this error at: https://sqlalche.me/e/14/e3q8)\n",
      "\n",
      "During handling of the above exception, another exception occurred:\n",
      "\n",
      "Traceback (most recent call last):\n",
      "  File \"/nethome/jarulraj3/eva/test_evadb/lib/python3.10/site-packages/evadb/catalog/services/udf_cost_catalog_service.py\", line 62, in upsert_entry\n",
      "    else:\n",
      "  File \"/nethome/jarulraj3/eva/test_evadb/lib/python3.10/site-packages/evadb/catalog/services/udf_cost_catalog_service.py\", line 43, in insert_entry\n",
      "    raise CatalogError(\n",
      "evadb.utils.errors.CatalogError: Error while inserting entry to UdfCostCatalog: (sqlite3.OperationalError) database is locked\n",
      "(Background on this error at: https://sqlalche.me/e/14/e3q8)\n",
      "\n",
      "During handling of the above exception, another exception occurred:\n",
      "\n",
      "Traceback (most recent call last):\n",
      "  File \"/nethome/jarulraj3/eva/test_evadb/lib/python3.10/site-packages/evadb/executor/plan_executor.py\", line 168, in execute_plan\n",
      "    yield from output\n",
      "  File \"/nethome/jarulraj3/eva/test_evadb/lib/python3.10/site-packages/evadb/executor/project_executor.py\", line 34, in exec\n",
      "    batch = apply_project(batch, self.target_list, self.catalog())\n",
      "  File \"/nethome/jarulraj3/eva/test_evadb/lib/python3.10/site-packages/evadb/executor/executor_utils.py\", line 50, in apply_project\n",
      "    catalog.upsert_udf_cost_catalog_entry(\n",
      "  File \"/nethome/jarulraj3/eva/test_evadb/lib/python3.10/site-packages/evadb/catalog/catalog_manager.py\", line 295, in upsert_udf_cost_catalog_entry\n",
      "    udf_id(int): unique udf id\n",
      "  File \"/nethome/jarulraj3/eva/test_evadb/lib/python3.10/site-packages/evadb/catalog/services/udf_cost_catalog_service.py\", line 64, in upsert_entry\n",
      "    except Exception as e:\n",
      "evadb.utils.errors.CatalogError: Error while upserting entry to UdfCostCatalog: Error while inserting entry to UdfCostCatalog: (sqlite3.OperationalError) database is locked\n",
      "(Background on this error at: https://sqlalche.me/e/14/e3q8)\n"
     ]
    },
    {
     "ename": "ExecutorError",
     "evalue": "Error while upserting entry to UdfCostCatalog: Error while inserting entry to UdfCostCatalog: (sqlite3.OperationalError) database is locked\n(Background on this error at: https://sqlalche.me/e/14/e3q8)",
     "output_type": "error",
     "traceback": [
      "\u001b[0;31m---------------------------------------------------------------------------\u001b[0m",
      "\u001b[0;31mOperationalError\u001b[0m                          Traceback (most recent call last)",
      "File \u001b[0;32m~/eva/test_evadb/lib/python3.10/site-packages/sqlalchemy/engine/base.py:1094\u001b[0m, in \u001b[0;36mConnection._commit_impl\u001b[0;34m(self, autocommit)\u001b[0m\n\u001b[1;32m   1093\u001b[0m \u001b[39mtry\u001b[39;00m:\n\u001b[0;32m-> 1094\u001b[0m     \u001b[39mself\u001b[39;49m\u001b[39m.\u001b[39;49mengine\u001b[39m.\u001b[39;49mdialect\u001b[39m.\u001b[39;49mdo_commit(\u001b[39mself\u001b[39;49m\u001b[39m.\u001b[39;49mconnection)\n\u001b[1;32m   1095\u001b[0m \u001b[39mexcept\u001b[39;00m \u001b[39mBaseException\u001b[39;00m \u001b[39mas\u001b[39;00m e:\n",
      "File \u001b[0;32m~/eva/test_evadb/lib/python3.10/site-packages/sqlalchemy/engine/default.py:686\u001b[0m, in \u001b[0;36mDefaultDialect.do_commit\u001b[0;34m(self, dbapi_connection)\u001b[0m\n\u001b[1;32m    685\u001b[0m \u001b[39mdef\u001b[39;00m \u001b[39mdo_commit\u001b[39m(\u001b[39mself\u001b[39m, dbapi_connection):\n\u001b[0;32m--> 686\u001b[0m     dbapi_connection\u001b[39m.\u001b[39;49mcommit()\n",
      "\u001b[0;31mOperationalError\u001b[0m: database is locked",
      "\nThe above exception was the direct cause of the following exception:\n",
      "\u001b[0;31mOperationalError\u001b[0m                          Traceback (most recent call last)",
      "File \u001b[0;32m~/eva/test_evadb/lib/python3.10/site-packages/evadb/catalog/services/udf_cost_catalog_service.py:41\u001b[0m, in \u001b[0;36mUdfCostCatalogService.insert_entry\u001b[0;34m(self, udf_id, name, cost)\u001b[0m\n\u001b[1;32m     40\u001b[0m     udf_obj \u001b[39m=\u001b[39m \u001b[39mself\u001b[39m\u001b[39m.\u001b[39mmodel(udf_id, name, cost)\n\u001b[0;32m---> 41\u001b[0m     udf_obj\u001b[39m.\u001b[39;49msave(\u001b[39mself\u001b[39;49m\u001b[39m.\u001b[39;49msession)\n\u001b[1;32m     42\u001b[0m \u001b[39mexcept\u001b[39;00m \u001b[39mException\u001b[39;00m \u001b[39mas\u001b[39;00m e:\n",
      "File \u001b[0;32m~/eva/test_evadb/lib/python3.10/site-packages/evadb/catalog/models/base_model.py:59\u001b[0m, in \u001b[0;36mCustomModel.save\u001b[0;34m(self, db_session)\u001b[0m\n\u001b[1;32m     58\u001b[0m     logger\u001b[39m.\u001b[39merror(\u001b[39mf\u001b[39m\u001b[39m\"\u001b[39m\u001b[39mDatabase save failed : \u001b[39m\u001b[39m{\u001b[39;00m\u001b[39mstr\u001b[39m(e)\u001b[39m}\u001b[39;00m\u001b[39m\"\u001b[39m)\n\u001b[0;32m---> 59\u001b[0m     \u001b[39mraise\u001b[39;00m e\n\u001b[1;32m     60\u001b[0m \u001b[39mreturn\u001b[39;00m \u001b[39mself\u001b[39m\n",
      "File \u001b[0;32m~/eva/test_evadb/lib/python3.10/site-packages/evadb/catalog/models/base_model.py:55\u001b[0m, in \u001b[0;36mCustomModel.save\u001b[0;34m(self, db_session)\u001b[0m\n\u001b[1;32m     54\u001b[0m     db_session\u001b[39m.\u001b[39madd(\u001b[39mself\u001b[39m)\n\u001b[0;32m---> 55\u001b[0m     \u001b[39mself\u001b[39;49m\u001b[39m.\u001b[39;49m_commit(db_session)\n\u001b[1;32m     56\u001b[0m \u001b[39mexcept\u001b[39;00m \u001b[39mException\u001b[39;00m \u001b[39mas\u001b[39;00m e:\n",
      "File \u001b[0;32m~/eva/test_evadb/lib/python3.10/site-packages/evadb/catalog/models/base_model.py:98\u001b[0m, in \u001b[0;36mCustomModel._commit\u001b[0;34m(self, db_session)\u001b[0m\n\u001b[1;32m     97\u001b[0m logger\u001b[39m.\u001b[39merror(\u001b[39mf\u001b[39m\u001b[39m\"\u001b[39m\u001b[39mDatabase commit failed : \u001b[39m\u001b[39m{\u001b[39;00m\u001b[39mstr\u001b[39m(e)\u001b[39m}\u001b[39;00m\u001b[39m\"\u001b[39m)\n\u001b[0;32m---> 98\u001b[0m \u001b[39mraise\u001b[39;00m e\n",
      "File \u001b[0;32m~/eva/test_evadb/lib/python3.10/site-packages/evadb/catalog/models/base_model.py:94\u001b[0m, in \u001b[0;36mCustomModel._commit\u001b[0;34m(self, db_session)\u001b[0m\n\u001b[1;32m     93\u001b[0m \u001b[39mtry\u001b[39;00m:\n\u001b[0;32m---> 94\u001b[0m     db_session\u001b[39m.\u001b[39;49mcommit()\n\u001b[1;32m     95\u001b[0m \u001b[39mexcept\u001b[39;00m SQLAlchemyError \u001b[39mas\u001b[39;00m e:\n",
      "File \u001b[0;32m<string>:2\u001b[0m, in \u001b[0;36mcommit\u001b[0;34m(self)\u001b[0m\n",
      "File \u001b[0;32m~/eva/test_evadb/lib/python3.10/site-packages/sqlalchemy/orm/session.py:1454\u001b[0m, in \u001b[0;36mSession.commit\u001b[0;34m(self)\u001b[0m\n\u001b[1;32m   1452\u001b[0m         \u001b[39mraise\u001b[39;00m sa_exc\u001b[39m.\u001b[39mInvalidRequestError(\u001b[39m\"\u001b[39m\u001b[39mNo transaction is begun.\u001b[39m\u001b[39m\"\u001b[39m)\n\u001b[0;32m-> 1454\u001b[0m \u001b[39mself\u001b[39;49m\u001b[39m.\u001b[39;49m_transaction\u001b[39m.\u001b[39;49mcommit(_to_root\u001b[39m=\u001b[39;49m\u001b[39mself\u001b[39;49m\u001b[39m.\u001b[39;49mfuture)\n",
      "File \u001b[0;32m~/eva/test_evadb/lib/python3.10/site-packages/sqlalchemy/orm/session.py:839\u001b[0m, in \u001b[0;36mSessionTransaction.commit\u001b[0;34m(self, _to_root)\u001b[0m\n\u001b[1;32m    838\u001b[0m     \u001b[39mif\u001b[39;00m should_commit:\n\u001b[0;32m--> 839\u001b[0m         trans\u001b[39m.\u001b[39;49mcommit()\n\u001b[1;32m    841\u001b[0m \u001b[39mself\u001b[39m\u001b[39m.\u001b[39m_state \u001b[39m=\u001b[39m COMMITTED\n",
      "File \u001b[0;32m~/eva/test_evadb/lib/python3.10/site-packages/sqlalchemy/engine/base.py:2464\u001b[0m, in \u001b[0;36mTransaction.commit\u001b[0;34m(self)\u001b[0m\n\u001b[1;32m   2463\u001b[0m \u001b[39mtry\u001b[39;00m:\n\u001b[0;32m-> 2464\u001b[0m     \u001b[39mself\u001b[39;49m\u001b[39m.\u001b[39;49m_do_commit()\n\u001b[1;32m   2465\u001b[0m \u001b[39mfinally\u001b[39;00m:\n",
      "File \u001b[0;32m~/eva/test_evadb/lib/python3.10/site-packages/sqlalchemy/engine/base.py:2654\u001b[0m, in \u001b[0;36mRootTransaction._do_commit\u001b[0;34m(self)\u001b[0m\n\u001b[1;32m   2653\u001b[0m \u001b[39mtry\u001b[39;00m:\n\u001b[0;32m-> 2654\u001b[0m     \u001b[39mself\u001b[39;49m\u001b[39m.\u001b[39;49m_connection_commit_impl()\n\u001b[1;32m   2655\u001b[0m \u001b[39mfinally\u001b[39;00m:\n\u001b[1;32m   2656\u001b[0m     \u001b[39m# whether or not commit succeeds, cancel any\u001b[39;00m\n\u001b[1;32m   2657\u001b[0m     \u001b[39m# nested transactions, make this transaction \"inactive\"\u001b[39;00m\n\u001b[1;32m   2658\u001b[0m     \u001b[39m# and remove it as a reset agent\u001b[39;00m\n",
      "File \u001b[0;32m~/eva/test_evadb/lib/python3.10/site-packages/sqlalchemy/engine/base.py:2625\u001b[0m, in \u001b[0;36mRootTransaction._connection_commit_impl\u001b[0;34m(self)\u001b[0m\n\u001b[1;32m   2624\u001b[0m \u001b[39mdef\u001b[39;00m \u001b[39m_connection_commit_impl\u001b[39m(\u001b[39mself\u001b[39m):\n\u001b[0;32m-> 2625\u001b[0m     \u001b[39mself\u001b[39;49m\u001b[39m.\u001b[39;49mconnection\u001b[39m.\u001b[39;49m_commit_impl()\n",
      "File \u001b[0;32m~/eva/test_evadb/lib/python3.10/site-packages/sqlalchemy/engine/base.py:1096\u001b[0m, in \u001b[0;36mConnection._commit_impl\u001b[0;34m(self, autocommit)\u001b[0m\n\u001b[1;32m   1095\u001b[0m \u001b[39mexcept\u001b[39;00m \u001b[39mBaseException\u001b[39;00m \u001b[39mas\u001b[39;00m e:\n\u001b[0;32m-> 1096\u001b[0m     \u001b[39mself\u001b[39;49m\u001b[39m.\u001b[39;49m_handle_dbapi_exception(e, \u001b[39mNone\u001b[39;49;00m, \u001b[39mNone\u001b[39;49;00m, \u001b[39mNone\u001b[39;49;00m, \u001b[39mNone\u001b[39;49;00m)\n",
      "File \u001b[0;32m~/eva/test_evadb/lib/python3.10/site-packages/sqlalchemy/engine/base.py:2129\u001b[0m, in \u001b[0;36mConnection._handle_dbapi_exception\u001b[0;34m(self, e, statement, parameters, cursor, context)\u001b[0m\n\u001b[1;32m   2128\u001b[0m \u001b[39melif\u001b[39;00m should_wrap:\n\u001b[0;32m-> 2129\u001b[0m     util\u001b[39m.\u001b[39;49mraise_(\n\u001b[1;32m   2130\u001b[0m         sqlalchemy_exception, with_traceback\u001b[39m=\u001b[39;49mexc_info[\u001b[39m2\u001b[39;49m], from_\u001b[39m=\u001b[39;49me\n\u001b[1;32m   2131\u001b[0m     )\n\u001b[1;32m   2132\u001b[0m \u001b[39melse\u001b[39;00m:\n",
      "File \u001b[0;32m~/eva/test_evadb/lib/python3.10/site-packages/sqlalchemy/util/compat.py:211\u001b[0m, in \u001b[0;36mraise_\u001b[0;34m(***failed resolving arguments***)\u001b[0m\n\u001b[1;32m    210\u001b[0m \u001b[39mtry\u001b[39;00m:\n\u001b[0;32m--> 211\u001b[0m     \u001b[39mraise\u001b[39;00m exception\n\u001b[1;32m    212\u001b[0m \u001b[39mfinally\u001b[39;00m:\n\u001b[1;32m    213\u001b[0m     \u001b[39m# credit to\u001b[39;00m\n\u001b[1;32m    214\u001b[0m     \u001b[39m# https://cosmicpercolator.com/2016/01/13/exception-leaks-in-python-2-and-3/\u001b[39;00m\n\u001b[1;32m    215\u001b[0m     \u001b[39m# as the __traceback__ object creates a cycle\u001b[39;00m\n",
      "File \u001b[0;32m~/eva/test_evadb/lib/python3.10/site-packages/sqlalchemy/engine/base.py:1094\u001b[0m, in \u001b[0;36mConnection._commit_impl\u001b[0;34m(self, autocommit)\u001b[0m\n\u001b[1;32m   1093\u001b[0m \u001b[39mtry\u001b[39;00m:\n\u001b[0;32m-> 1094\u001b[0m     \u001b[39mself\u001b[39;49m\u001b[39m.\u001b[39;49mengine\u001b[39m.\u001b[39;49mdialect\u001b[39m.\u001b[39;49mdo_commit(\u001b[39mself\u001b[39;49m\u001b[39m.\u001b[39;49mconnection)\n\u001b[1;32m   1095\u001b[0m \u001b[39mexcept\u001b[39;00m \u001b[39mBaseException\u001b[39;00m \u001b[39mas\u001b[39;00m e:\n",
      "File \u001b[0;32m~/eva/test_evadb/lib/python3.10/site-packages/sqlalchemy/engine/default.py:686\u001b[0m, in \u001b[0;36mDefaultDialect.do_commit\u001b[0;34m(self, dbapi_connection)\u001b[0m\n\u001b[1;32m    685\u001b[0m \u001b[39mdef\u001b[39;00m \u001b[39mdo_commit\u001b[39m(\u001b[39mself\u001b[39m, dbapi_connection):\n\u001b[0;32m--> 686\u001b[0m     dbapi_connection\u001b[39m.\u001b[39;49mcommit()\n",
      "\u001b[0;31mOperationalError\u001b[0m: (sqlite3.OperationalError) database is locked\n(Background on this error at: https://sqlalche.me/e/14/e3q8)",
      "\nDuring handling of the above exception, another exception occurred:\n",
      "\u001b[0;31mCatalogError\u001b[0m                              Traceback (most recent call last)",
      "File \u001b[0;32m~/eva/test_evadb/lib/python3.10/site-packages/evadb/catalog/services/udf_cost_catalog_service.py:62\u001b[0m, in \u001b[0;36mUdfCostCatalogService.upsert_entry\u001b[0;34m(self, udf_id, name, new_cost)\u001b[0m\n\u001b[1;32m     61\u001b[0m     \u001b[39melse\u001b[39;00m:\n\u001b[0;32m---> 62\u001b[0m         \u001b[39mself\u001b[39;49m\u001b[39m.\u001b[39;49minsert_entry(udf_id, name, new_cost)\n\u001b[1;32m     63\u001b[0m \u001b[39mexcept\u001b[39;00m \u001b[39mException\u001b[39;00m \u001b[39mas\u001b[39;00m e:\n",
      "File \u001b[0;32m~/eva/test_evadb/lib/python3.10/site-packages/evadb/catalog/services/udf_cost_catalog_service.py:43\u001b[0m, in \u001b[0;36mUdfCostCatalogService.insert_entry\u001b[0;34m(self, udf_id, name, cost)\u001b[0m\n\u001b[1;32m     42\u001b[0m \u001b[39mexcept\u001b[39;00m \u001b[39mException\u001b[39;00m \u001b[39mas\u001b[39;00m e:\n\u001b[0;32m---> 43\u001b[0m     \u001b[39mraise\u001b[39;00m CatalogError(\n\u001b[1;32m     44\u001b[0m         \u001b[39mf\u001b[39m\u001b[39m\"\u001b[39m\u001b[39mError while inserting entry to UdfCostCatalog: \u001b[39m\u001b[39m{\u001b[39;00m\u001b[39mstr\u001b[39m(e)\u001b[39m}\u001b[39;00m\u001b[39m\"\u001b[39m\n\u001b[1;32m     45\u001b[0m     )\n",
      "\u001b[0;31mCatalogError\u001b[0m: Error while inserting entry to UdfCostCatalog: (sqlite3.OperationalError) database is locked\n(Background on this error at: https://sqlalche.me/e/14/e3q8)",
      "\nDuring handling of the above exception, another exception occurred:\n",
      "\u001b[0;31mCatalogError\u001b[0m                              Traceback (most recent call last)",
      "File \u001b[0;32m~/eva/test_evadb/lib/python3.10/site-packages/evadb/executor/plan_executor.py:168\u001b[0m, in \u001b[0;36mPlanExecutor.execute_plan\u001b[0;34m(self, do_not_raise_exceptions, do_not_print_exceptions)\u001b[0m\n\u001b[1;32m    167\u001b[0m     \u001b[39mif\u001b[39;00m output \u001b[39mis\u001b[39;00m \u001b[39mnot\u001b[39;00m \u001b[39mNone\u001b[39;00m:\n\u001b[0;32m--> 168\u001b[0m         \u001b[39myield from\u001b[39;00m output\n\u001b[1;32m    169\u001b[0m \u001b[39mexcept\u001b[39;00m \u001b[39mException\u001b[39;00m \u001b[39mas\u001b[39;00m e:\n",
      "File \u001b[0;32m~/eva/test_evadb/lib/python3.10/site-packages/evadb/executor/project_executor.py:34\u001b[0m, in \u001b[0;36mProjectExecutor.exec\u001b[0;34m(self, *args, **kwargs)\u001b[0m\n\u001b[1;32m     33\u001b[0m \u001b[39mfor\u001b[39;00m batch \u001b[39min\u001b[39;00m child_executor\u001b[39m.\u001b[39mexec(\u001b[39m*\u001b[39m\u001b[39m*\u001b[39mkwargs):\n\u001b[0;32m---> 34\u001b[0m     batch \u001b[39m=\u001b[39m apply_project(batch, \u001b[39mself\u001b[39;49m\u001b[39m.\u001b[39;49mtarget_list, \u001b[39mself\u001b[39;49m\u001b[39m.\u001b[39;49mcatalog())\n\u001b[1;32m     36\u001b[0m     \u001b[39mif\u001b[39;00m \u001b[39mnot\u001b[39;00m batch\u001b[39m.\u001b[39mempty():\n",
      "File \u001b[0;32m~/eva/test_evadb/lib/python3.10/site-packages/evadb/executor/executor_utils.py:50\u001b[0m, in \u001b[0;36mapply_project\u001b[0;34m(batch, project_list, catalog)\u001b[0m\n\u001b[1;32m     49\u001b[0m                 udf_id \u001b[39m=\u001b[39m func_expr\u001b[39m.\u001b[39mudf_obj\u001b[39m.\u001b[39mrow_id\n\u001b[0;32m---> 50\u001b[0m                 catalog\u001b[39m.\u001b[39;49mupsert_udf_cost_catalog_entry(\n\u001b[1;32m     51\u001b[0m                     udf_id, func_expr\u001b[39m.\u001b[39;49mudf_obj\u001b[39m.\u001b[39;49mname, func_expr\u001b[39m.\u001b[39;49m_stats\u001b[39m.\u001b[39;49mprev_cost\n\u001b[1;32m     52\u001b[0m                 )\n\u001b[1;32m     53\u001b[0m \u001b[39mreturn\u001b[39;00m batch\n",
      "File \u001b[0;32m~/eva/test_evadb/lib/python3.10/site-packages/evadb/catalog/catalog_manager.py:295\u001b[0m, in \u001b[0;36mCatalogManager.upsert_udf_cost_catalog_entry\u001b[0;34m(self, udf_id, name, cost)\u001b[0m\n\u001b[1;32m    284\u001b[0m \u001b[39m\u001b[39m\u001b[39m\"\"\"Upserts UDF cost catalog entry.\u001b[39;00m\n\u001b[1;32m    285\u001b[0m \n\u001b[1;32m    286\u001b[0m \u001b[39mArguments:\u001b[39;00m\n\u001b[0;32m   (...)\u001b[0m\n\u001b[1;32m    292\u001b[0m \u001b[39m    The persisted UdfCostCatalogEntry object.\u001b[39;00m\n\u001b[1;32m    293\u001b[0m \u001b[39m\"\"\"\u001b[39;00m\n\u001b[0;32m--> 295\u001b[0m \u001b[39mself\u001b[39;49m\u001b[39m.\u001b[39;49m_udf_cost_catalog_service\u001b[39m.\u001b[39;49mupsert_entry(udf_id, name, cost)\n",
      "File \u001b[0;32m~/eva/test_evadb/lib/python3.10/site-packages/evadb/catalog/services/udf_cost_catalog_service.py:64\u001b[0m, in \u001b[0;36mUdfCostCatalogService.upsert_entry\u001b[0;34m(self, udf_id, name, new_cost)\u001b[0m\n\u001b[1;32m     63\u001b[0m \u001b[39mexcept\u001b[39;00m \u001b[39mException\u001b[39;00m \u001b[39mas\u001b[39;00m e:\n\u001b[0;32m---> 64\u001b[0m     \u001b[39mraise\u001b[39;00m CatalogError(\n\u001b[1;32m     65\u001b[0m         \u001b[39mf\u001b[39m\u001b[39m\"\u001b[39m\u001b[39mError while upserting entry to UdfCostCatalog: \u001b[39m\u001b[39m{\u001b[39;00m\u001b[39mstr\u001b[39m(e)\u001b[39m}\u001b[39;00m\u001b[39m\"\u001b[39m\n\u001b[1;32m     66\u001b[0m     )\n",
      "\u001b[0;31mCatalogError\u001b[0m: Error while upserting entry to UdfCostCatalog: Error while inserting entry to UdfCostCatalog: (sqlite3.OperationalError) database is locked\n(Background on this error at: https://sqlalche.me/e/14/e3q8)",
      "\nDuring handling of the above exception, another exception occurred:\n",
      "\u001b[0;31mExecutorError\u001b[0m                             Traceback (most recent call last)",
      "Cell \u001b[0;32mIn[32], line 5\u001b[0m\n\u001b[1;32m      3\u001b[0m query \u001b[39m=\u001b[39m cursor\u001b[39m.\u001b[39mtable(\u001b[39m\"\u001b[39m\u001b[39mMyImages\u001b[39m\u001b[39m\"\u001b[39m)\n\u001b[1;32m      4\u001b[0m query \u001b[39m=\u001b[39m query\u001b[39m.\u001b[39mselect(\u001b[39m\"\u001b[39m\u001b[39mOCRExtractor(data)\u001b[39m\u001b[39m\"\u001b[39m)\n\u001b[0;32m----> 5\u001b[0m \u001b[39mprint\u001b[39m(query\u001b[39m.\u001b[39;49mdf())\n",
      "File \u001b[0;32m~/eva/test_evadb/lib/python3.10/site-packages/evadb/interfaces/relational/relation.py:110\u001b[0m, in \u001b[0;36mEvaDBQuery.df\u001b[0;34m(self)\u001b[0m\n\u001b[1;32m    104\u001b[0m \u001b[39mdef\u001b[39;00m \u001b[39mdf\u001b[39m(\u001b[39mself\u001b[39m) \u001b[39m-\u001b[39m\u001b[39m>\u001b[39m pandas\u001b[39m.\u001b[39mDataFrame:\n\u001b[1;32m    105\u001b[0m \u001b[39m    \u001b[39m\u001b[39m\"\"\"Execute and fetch all rows as a pandas DataFrame\u001b[39;00m\n\u001b[1;32m    106\u001b[0m \n\u001b[1;32m    107\u001b[0m \u001b[39m    Returns:\u001b[39;00m\n\u001b[1;32m    108\u001b[0m \u001b[39m        pandas.DataFrame:\u001b[39;00m\n\u001b[1;32m    109\u001b[0m \u001b[39m    \"\"\"\u001b[39;00m\n\u001b[0;32m--> 110\u001b[0m     batch \u001b[39m=\u001b[39m \u001b[39mself\u001b[39;49m\u001b[39m.\u001b[39;49mexecute()\n\u001b[1;32m    111\u001b[0m     \u001b[39massert\u001b[39;00m batch \u001b[39mis\u001b[39;00m \u001b[39mnot\u001b[39;00m \u001b[39mNone\u001b[39;00m, \u001b[39m\"\u001b[39m\u001b[39mrelation execute failed\u001b[39m\u001b[39m\"\u001b[39m\n\u001b[1;32m    112\u001b[0m     \u001b[39mreturn\u001b[39;00m batch\u001b[39m.\u001b[39mframes\n",
      "File \u001b[0;32m~/eva/test_evadb/lib/python3.10/site-packages/evadb/interfaces/relational/relation.py:120\u001b[0m, in \u001b[0;36mEvaDBQuery.execute\u001b[0;34m(self)\u001b[0m\n\u001b[1;32m    114\u001b[0m \u001b[39mdef\u001b[39;00m \u001b[39mexecute\u001b[39m(\u001b[39mself\u001b[39m) \u001b[39m-\u001b[39m\u001b[39m>\u001b[39m Batch:\n\u001b[1;32m    115\u001b[0m \u001b[39m    \u001b[39m\u001b[39m\"\"\"Transform the relation into a result set\u001b[39;00m\n\u001b[1;32m    116\u001b[0m \n\u001b[1;32m    117\u001b[0m \u001b[39m    Returns:\u001b[39;00m\n\u001b[1;32m    118\u001b[0m \u001b[39m        Batch: result as evadb Batch\u001b[39;00m\n\u001b[1;32m    119\u001b[0m \u001b[39m    \"\"\"\u001b[39;00m\n\u001b[0;32m--> 120\u001b[0m     result \u001b[39m=\u001b[39m execute_statement(\u001b[39mself\u001b[39;49m\u001b[39m.\u001b[39;49m_evadb, \u001b[39mself\u001b[39;49m\u001b[39m.\u001b[39;49m_query_node\u001b[39m.\u001b[39;49mcopy())\n\u001b[1;32m    121\u001b[0m     \u001b[39massert\u001b[39;00m result\u001b[39m.\u001b[39mframes \u001b[39mis\u001b[39;00m \u001b[39mnot\u001b[39;00m \u001b[39mNone\u001b[39;00m\n\u001b[1;32m    122\u001b[0m     \u001b[39mreturn\u001b[39;00m result\n",
      "File \u001b[0;32m~/eva/test_evadb/lib/python3.10/site-packages/evadb/interfaces/relational/utils.py:60\u001b[0m, in \u001b[0;36mexecute_statement\u001b[0;34m(evadb, statement)\u001b[0m\n\u001b[1;32m     58\u001b[0m output \u001b[39m=\u001b[39m PlanExecutor(evadb, p_plan)\u001b[39m.\u001b[39mexecute_plan()\n\u001b[1;32m     59\u001b[0m \u001b[39mif\u001b[39;00m output:\n\u001b[0;32m---> 60\u001b[0m     batch_list \u001b[39m=\u001b[39m \u001b[39mlist\u001b[39;49m(output)\n\u001b[1;32m     61\u001b[0m     \u001b[39mreturn\u001b[39;00m Batch\u001b[39m.\u001b[39mconcat(batch_list, copy\u001b[39m=\u001b[39m\u001b[39mFalse\u001b[39;00m)\n",
      "File \u001b[0;32m~/eva/test_evadb/lib/python3.10/site-packages/evadb/executor/plan_executor.py:173\u001b[0m, in \u001b[0;36mPlanExecutor.execute_plan\u001b[0;34m(self, do_not_raise_exceptions, do_not_print_exceptions)\u001b[0m\n\u001b[1;32m    171\u001b[0m \u001b[39mif\u001b[39;00m do_not_print_exceptions \u001b[39mis\u001b[39;00m \u001b[39mFalse\u001b[39;00m:\n\u001b[1;32m    172\u001b[0m     logger\u001b[39m.\u001b[39mexception(\u001b[39mstr\u001b[39m(e))\n\u001b[0;32m--> 173\u001b[0m \u001b[39mraise\u001b[39;00m ExecutorError(e)\n",
      "\u001b[0;31mExecutorError\u001b[0m: Error while upserting entry to UdfCostCatalog: Error while inserting entry to UdfCostCatalog: (sqlite3.OperationalError) database is locked\n(Background on this error at: https://sqlalche.me/e/14/e3q8)"
     ]
    }
   ],
   "source": [
    "import logging\n",
    "logging.getLogger('sqlalchemy.engine').setLevel(logging.INFO)\n",
    "query = cursor.table(\"MyImages\")\n",
    "query = query.select(\"OCRExtractor(data)\")\n",
    "print(query.df())"
   ]
  },
  {
   "cell_type": "code",
   "execution_count": null,
   "id": "e93233e9",
   "metadata": {
    "execution": {
     "iopub.execute_input": "2023-05-09T03:42:25.473643Z",
     "iopub.status.busy": "2023-05-09T03:42:25.473385Z",
     "iopub.status.idle": "2023-05-09T03:42:30.989642Z",
     "shell.execute_reply": "2023-05-09T03:42:30.988967Z"
    }
   },
   "outputs": [],
   "source": [
    "query = cursor.table(\"LicensePlateCSV\")\n",
    "query = query.select(\"*\")\n",
    "\n",
    "query.df()"
   ]
  },
  {
   "attachments": {},
   "cell_type": "markdown",
   "id": "4b41f136",
   "metadata": {},
   "source": [
    "### Run Fuzzy Join to match Detected License Plate against Local License Plate Database (csv)"
   ]
  },
  {
   "cell_type": "code",
   "execution_count": null,
   "id": "9431e221",
   "metadata": {
    "execution": {
     "iopub.execute_input": "2023-05-09T03:42:30.994206Z",
     "iopub.status.busy": "2023-05-09T03:42:30.993956Z",
     "iopub.status.idle": "2023-05-09T03:42:38.217366Z",
     "shell.execute_reply": "2023-05-09T03:42:38.216338Z"
    }
   },
   "outputs": [],
   "source": [
    "cursor.query(\"\"\"\n",
    "   SELECT * FROM MyImages \n",
    "       JOIN LATERAL OCRExtractor(data) AS T(a) \n",
    "       JOIN LicensePlateCSV B \n",
    "       ON FuzzDistance(T.a, B.label) > 50\n",
    "       WHERE id < 3;\n",
    "       \"\"\").df()"
   ]
  }
 ],
 "metadata": {
  "kernelspec": {
   "display_name": "Python 3 (ipykernel)",
   "language": "python",
   "name": "python3"
  },
  "language_info": {
   "codemirror_mode": {
    "name": "ipython",
    "version": 3
   },
   "file_extension": ".py",
   "mimetype": "text/x-python",
   "name": "python",
   "nbconvert_exporter": "python",
   "pygments_lexer": "ipython3",
   "version": "3.10.11"
  },
  "varInspector": {
   "cols": {
    "lenName": 16,
    "lenType": 16,
    "lenVar": 40
   },
   "kernels_config": {
    "python": {
     "delete_cmd_postfix": "",
     "delete_cmd_prefix": "del ",
     "library": "var_list.py",
     "varRefreshCmd": "print(var_dic_list())"
    },
    "r": {
     "delete_cmd_postfix": ") ",
     "delete_cmd_prefix": "rm(",
     "library": "var_list.r",
     "varRefreshCmd": "cat(var_dic_list()) "
    }
   },
   "types_to_exclude": [
    "module",
    "function",
    "builtin_function_or_method",
    "instance",
    "_Feature"
   ],
   "window_display": false
  }
 },
 "nbformat": 4,
 "nbformat_minor": 5
}
