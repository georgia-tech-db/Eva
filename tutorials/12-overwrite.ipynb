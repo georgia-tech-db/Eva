{
 "cells": [
  {
   "cell_type": "markdown",
   "id": "9029bc34",
   "metadata": {},
   "source": [
    "## setup"
   ]
  },
  {
   "cell_type": "code",
   "execution_count": 3,
   "id": "235e816d",
   "metadata": {},
   "outputs": [],
   "source": [
    "## Install EVA package if needed\n",
    "# %pip install \"evadb[dev]\" --quiet\n",
    "\n",
    "import os\n",
    "import time\n",
    "from psutil import process_iter\n",
    "from signal import SIGTERM\n",
    "import re\n",
    "import itertools\n",
    "\n",
    "def connect_to_server():\n",
    "    from eva.server.db_api import connect\n",
    "    %pip install nest_asyncio --quiet\n",
    "    import nest_asyncio\n",
    "    nest_asyncio.apply()\n",
    "\n",
    "    # Connect client with server\n",
    "    connection = connect(host = '127.0.0.1', port = 5432) \n",
    "    cursor = connection.cursor()\n",
    "\n",
    "    return cursor"
   ]
  },
  {
   "cell_type": "code",
   "execution_count": 4,
   "id": "199eee03",
   "metadata": {},
   "outputs": [
    {
     "name": "stdout",
     "output_type": "stream",
     "text": [
      "Note: you may need to restart the kernel to use updated packages.\n"
     ]
    }
   ],
   "source": [
    "cursor = connect_to_server()"
   ]
  },
  {
   "cell_type": "code",
   "execution_count": 3,
   "id": "45d9d6fa",
   "metadata": {},
   "outputs": [
    {
     "name": "stdout",
     "output_type": "stream",
     "text": [
      "@status: ResponseStatus.SUCCESS\n",
      "@batch: \n",
      "                                                    0\n",
      "0  Table Successfully dropped: ObjectDetectionVideos\n",
      "@query_time: 0.05822162499999983\n",
      "@status: ResponseStatus.SUCCESS\n",
      "@batch: \n",
      "                            0\n",
      "0  Number of loaded VIDEO: 1\n",
      "@query_time: 0.05276537499999989\n"
     ]
    }
   ],
   "source": [
    "cursor.execute('DROP TABLE ObjectDetectionVideos')\n",
    "response = cursor.fetch_all()\n",
    "print(response)\n",
    "cursor.execute('LOAD VIDEO \"../data/ua_detrac/ua_detrac.mp4\" INTO ObjectDetectionVideos;')\n",
    "response = cursor.fetch_all()\n",
    "print(response)"
   ]
  },
  {
   "cell_type": "code",
   "execution_count": 4,
   "id": "78e6d2a2",
   "metadata": {},
   "outputs": [
    {
     "name": "stdout",
     "output_type": "stream",
     "text": [
      "@status: ResponseStatus.FAIL\n",
      "@batch: \n",
      " None\n",
      "@error: Table: MNIST does not exist\n",
      "@status: ResponseStatus.SUCCESS\n",
      "@batch: \n",
      "                            0\n",
      "0  Number of loaded VIDEO: 1\n",
      "@query_time: 0.06429687499996817\n"
     ]
    }
   ],
   "source": [
    "cursor.execute('DROP TABLE MNIST')\n",
    "response = cursor.fetch_all()\n",
    "print(response)\n",
    "cursor.execute('LOAD VIDEO \"../data/mnist/mnist.mp4\" INTO MNIST;')\n",
    "response = cursor.fetch_all()\n",
    "print(response)"
   ]
  },
  {
   "cell_type": "code",
   "execution_count": 5,
   "id": "f8079bac",
   "metadata": {},
   "outputs": [
    {
     "name": "stdout",
     "output_type": "stream",
     "text": [
      "@status: ResponseStatus.SUCCESS\n",
      "@batch: \n",
      "                                        0\n",
      "0  UDF GaussianBlur successfully dropped\n",
      "@query_time: 0.022498833000000218\n",
      "@status: ResponseStatus.SUCCESS\n",
      "@batch: \n",
      "                                                       0\n",
      "0  UDF GaussianBlur successfully added to the database.\n",
      "@query_time: 0.02127783299999919\n"
     ]
    }
   ],
   "source": [
    "cursor.execute('DROP UDF GaussianBlur')\n",
    "response = cursor.fetch_all()\n",
    "print(response)\n",
    "\n",
    "cursor.execute(\"\"\"CREATE UDF IF NOT EXISTS GaussianBlur\n",
    "    INPUT (frames NDARRAY UINT8(3, ANYDIM, ANYDIM))\n",
    "    OUTPUT (blurred_frame_array NDARRAY UINT8(3, ANYDIM, ANYDIM))\n",
    "    TYPE ndarray\n",
    "    IMPL 'udfs/ndarray/gaussian_blur.py'\n",
    "    \"\"\")\n",
    "\n",
    "response = cursor.fetch_all()\n",
    "print(response)"
   ]
  },
  {
   "cell_type": "markdown",
   "id": "4f4fb878",
   "metadata": {},
   "source": [
    "## applying simple image transformations on videos ##"
   ]
  },
  {
   "cell_type": "code",
   "execution_count": 11,
   "id": "ff78138b",
   "metadata": {},
   "outputs": [
    {
     "name": "stdout",
     "output_type": "stream",
     "text": [
      "@status: ResponseStatus.SUCCESS\n",
      "@batch: \n",
      "                                                  0\n",
      "0  Table successfully overwritten by: GaussianBlur\n",
      "@query_time: 0.2340028750000016\n"
     ]
    }
   ],
   "source": [
    "# overwrites traffic video by applying simple image transformations such as Gaussian Blur\n",
    "\n",
    "cursor.execute('OVERWRITE MNIST BY GaussianBlur(data)')\n",
    "response = cursor.fetch_all()\n",
    "print(response)"
   ]
  },
  {
   "cell_type": "markdown",
   "id": "a1162e45",
   "metadata": {},
   "source": [
    "## annotate frames with detected objects on videos ##"
   ]
  },
  {
   "cell_type": "code",
   "execution_count": null,
   "id": "6370b0ae",
   "metadata": {},
   "outputs": [],
   "source": [
    "# overwrites traffic video by annotating objects detected by YoloV5\n",
    "\n",
    "cursor.execute('OVERWRITE ObjectDetectionVideos BY Annotate(data, YoloV5(data))')\n",
    "response = cursor.fetch_all()\n",
    "print(response)"
   ]
  },
  {
   "cell_type": "code",
   "execution_count": null,
   "id": "446717ca",
   "metadata": {},
   "outputs": [],
   "source": [
    "cursor.execute(\"\"\"SELECT * FROM ObjectDetectionVideos WHERE id < 20\"\"\")\n",
    "response = cursor.fetch_all()\n",
    "response.as_df()"
   ]
  },
  {
   "cell_type": "markdown",
   "id": "7fd0d5b1",
   "metadata": {},
   "source": [
    "## apply simple image transformations on images"
   ]
  },
  {
   "cell_type": "code",
   "execution_count": 6,
   "id": "e3b2ab81",
   "metadata": {},
   "outputs": [
    {
     "name": "stdout",
     "output_type": "stream",
     "text": [
      "@status: ResponseStatus.SUCCESS\n",
      "@batch: \n",
      "                                       0\n",
      "0  Table Successfully dropped: EMOTIONS\n",
      "@query_time: 0.05122599999999977\n",
      "@status: ResponseStatus.SUCCESS\n",
      "@batch: \n",
      "                            0\n",
      "0  Number of loaded IMAGE: 1\n",
      "@query_time: 0.03948762499999958\n",
      "@status: ResponseStatus.SUCCESS\n",
      "@batch: \n",
      "                            0\n",
      "0  Number of loaded IMAGE: 1\n",
      "@query_time: 0.012955124999997736\n"
     ]
    }
   ],
   "source": [
    "cursor.execute('DROP TABLE EMOTIONS')\n",
    "response = cursor.fetch_all()\n",
    "print(response)\n",
    "\n",
    "cursor.execute('LOAD IMAGE \"../data/emotion_detector/happy.jpg\" INTO EMOTIONS;')\n",
    "response = cursor.fetch_all()\n",
    "print(response)\n",
    "\n",
    "cursor.execute('LOAD IMAGE \"../data/emotion_detector/angry.jpg\" INTO EMOTIONS;')\n",
    "response = cursor.fetch_all()\n",
    "print(response)"
   ]
  },
  {
   "cell_type": "code",
   "execution_count": 7,
   "id": "3fc5babd",
   "metadata": {},
   "outputs": [
    {
     "data": {
      "text/html": [
       "<div>\n",
       "<style scoped>\n",
       "    .dataframe tbody tr th:only-of-type {\n",
       "        vertical-align: middle;\n",
       "    }\n",
       "\n",
       "    .dataframe tbody tr th {\n",
       "        vertical-align: top;\n",
       "    }\n",
       "\n",
       "    .dataframe thead th {\n",
       "        text-align: right;\n",
       "    }\n",
       "</style>\n",
       "<table border=\"1\" class=\"dataframe\">\n",
       "  <thead>\n",
       "    <tr style=\"text-align: right;\">\n",
       "      <th></th>\n",
       "      <th>emotions.name</th>\n",
       "      <th>emotions.data</th>\n",
       "    </tr>\n",
       "  </thead>\n",
       "  <tbody>\n",
       "    <tr>\n",
       "      <th>0</th>\n",
       "      <td>../data/emotion_detector/happy.jpg</td>\n",
       "      <td>[[[12, 255, 0], [4, 254, 0], [4, 255, 0], [1, ...</td>\n",
       "    </tr>\n",
       "    <tr>\n",
       "      <th>1</th>\n",
       "      <td>../data/emotion_detector/angry.jpg</td>\n",
       "      <td>[[[145, 161, 173], [145, 161, 173], [145, 161,...</td>\n",
       "    </tr>\n",
       "  </tbody>\n",
       "</table>\n",
       "</div>"
      ],
      "text/plain": [
       "                        emotions.name  \\\n",
       "0  ../data/emotion_detector/happy.jpg   \n",
       "1  ../data/emotion_detector/angry.jpg   \n",
       "\n",
       "                                       emotions.data  \n",
       "0  [[[12, 255, 0], [4, 254, 0], [4, 255, 0], [1, ...  \n",
       "1  [[[145, 161, 173], [145, 161, 173], [145, 161,...  "
      ]
     },
     "execution_count": 7,
     "metadata": {},
     "output_type": "execute_result"
    }
   ],
   "source": [
    "cursor.execute('SELECT * FROM EMOTIONS;')\n",
    "response = cursor.fetch_all()\n",
    "response.as_df()"
   ]
  },
  {
   "cell_type": "code",
   "execution_count": 8,
   "id": "464f403f",
   "metadata": {},
   "outputs": [
    {
     "name": "stdout",
     "output_type": "stream",
     "text": [
      "@status: ResponseStatus.SUCCESS\n",
      "@batch: \n",
      "                                                  0\n",
      "0  Table successfully overwritten by: GaussianBlur\n",
      "@query_time: 0.09478745799999899\n"
     ]
    }
   ],
   "source": [
    "cursor.execute('OVERWRITE EMOTIONS BY GaussianBlur(data);')\n",
    "response = cursor.fetch_all()\n",
    "print(response)"
   ]
  },
  {
   "cell_type": "code",
   "execution_count": 9,
   "id": "e9602d90",
   "metadata": {},
   "outputs": [
    {
     "data": {
      "text/html": [
       "<div>\n",
       "<style scoped>\n",
       "    .dataframe tbody tr th:only-of-type {\n",
       "        vertical-align: middle;\n",
       "    }\n",
       "\n",
       "    .dataframe tbody tr th {\n",
       "        vertical-align: top;\n",
       "    }\n",
       "\n",
       "    .dataframe thead th {\n",
       "        text-align: right;\n",
       "    }\n",
       "</style>\n",
       "<table border=\"1\" class=\"dataframe\">\n",
       "  <thead>\n",
       "    <tr style=\"text-align: right;\">\n",
       "      <th></th>\n",
       "      <th>emotions.name</th>\n",
       "      <th>emotions.data</th>\n",
       "    </tr>\n",
       "  </thead>\n",
       "  <tbody>\n",
       "    <tr>\n",
       "      <th>0</th>\n",
       "      <td>../data/emotion_detector/modified_happy.jpg</td>\n",
       "      <td>[[[0, 255, 0], [0, 251, 0], [9, 245, 13], [24,...</td>\n",
       "    </tr>\n",
       "    <tr>\n",
       "      <th>1</th>\n",
       "      <td>../data/emotion_detector/modified_angry.jpg</td>\n",
       "      <td>[[[147, 162, 171], [147, 162, 171], [147, 162,...</td>\n",
       "    </tr>\n",
       "  </tbody>\n",
       "</table>\n",
       "</div>"
      ],
      "text/plain": [
       "                                 emotions.name  \\\n",
       "0  ../data/emotion_detector/modified_happy.jpg   \n",
       "1  ../data/emotion_detector/modified_angry.jpg   \n",
       "\n",
       "                                       emotions.data  \n",
       "0  [[[0, 255, 0], [0, 251, 0], [9, 245, 13], [24,...  \n",
       "1  [[[147, 162, 171], [147, 162, 171], [147, 162,...  "
      ]
     },
     "execution_count": 9,
     "metadata": {},
     "output_type": "execute_result"
    }
   ],
   "source": [
    "cursor.execute('SELECT * FROM EMOTIONS;')\n",
    "response = cursor.fetch_all()\n",
    "response.as_df()"
   ]
  },
  {
   "cell_type": "code",
   "execution_count": null,
   "id": "4aa6a978",
   "metadata": {},
   "outputs": [],
   "source": []
  }
 ],
 "metadata": {
  "kernelspec": {
   "display_name": "Python 3 (ipykernel)",
   "language": "python",
   "name": "python3"
  },
  "language_info": {
   "codemirror_mode": {
    "name": "ipython",
    "version": 3
   },
   "file_extension": ".py",
   "mimetype": "text/x-python",
   "name": "python",
   "nbconvert_exporter": "python",
   "pygments_lexer": "ipython3",
   "version": "3.7.16"
  }
 },
 "nbformat": 4,
 "nbformat_minor": 5
}
