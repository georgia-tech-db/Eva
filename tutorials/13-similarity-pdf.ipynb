{
 "cells": [
  {
   "attachments": {},
   "cell_type": "markdown",
   "id": "6fdba594",
   "metadata": {},
   "source": [
    "# Similarity PDF Query Tutorial"
   ]
  },
  {
   "attachments": {},
   "cell_type": "markdown",
   "id": "05999c63",
   "metadata": {},
   "source": [
    "In this tutorial, we demonstrate how to load a PDF and query it."
   ]
  },
  {
   "attachments": {},
   "cell_type": "markdown",
   "id": "40100c9c",
   "metadata": {},
   "source": [
    "<table align=\"left\">\n",
    "  <td>\n",
    "    <a target=\"_blank\" href=\"https://colab.research.google.com/github/georgia-tech-db/eva/blob/master/tutorials/12-query-pdf.ipynb\"><img src=\"https://www.tensorflow.org/images/colab_logo_32px.png\" /> Run on Google Colab</a>\n",
    "  </td>\n",
    "  <td>\n",
    "    <a target=\"_blank\" href=\"https://github.com/georgia-tech-db/eva/blob/master/tutorials/12-query-pdf.ipynb\"><img src=\"https://www.tensorflow.org/images/GitHub-Mark-32px.png\" /> View source on GitHub</a>\n",
    "  </td>\n",
    "  <td>\n",
    "    <a target=\"_blank\" href=\"https://github.com/georgia-tech-db/eva/raw/master/tutorials/12-query-pdf.ipynb\"><img src=\"https://www.tensorflow.org/images/download_logo_32px.png\" /> Download notebook</a>\n",
    "  </td>\n",
    "</table>"
   ]
  },
  {
   "attachments": {},
   "cell_type": "markdown",
   "id": "d53ef889",
   "metadata": {},
   "source": [
    "### Start EVA server\n",
    "\n"
   ]
  },
  {
   "cell_type": "code",
   "execution_count": 1,
   "id": "b6b7f61d",
   "metadata": {
    "execution": {
     "iopub.execute_input": "2023-05-31T06:44:22.766368Z",
     "iopub.status.busy": "2023-05-31T06:44:22.765965Z",
     "iopub.status.idle": "2023-05-31T06:44:42.607986Z",
     "shell.execute_reply": "2023-05-31T06:44:42.606081Z"
    }
   },
   "outputs": [],
   "source": [
    "from eva.interfaces.relational.db import connect\n",
    "conn = connect()\n",
    "cursor = conn.cursor()"
   ]
  },
  {
   "attachments": {},
   "cell_type": "markdown",
   "id": "cfda671a",
   "metadata": {},
   "source": [
    "### Download PDFs"
   ]
  },
  {
   "cell_type": "code",
   "execution_count": 2,
   "id": "1ee8b17b",
   "metadata": {
    "execution": {
     "iopub.execute_input": "2023-05-31T06:44:42.614086Z",
     "iopub.status.busy": "2023-05-31T06:44:42.613608Z",
     "iopub.status.idle": "2023-05-31T06:44:42.743130Z",
     "shell.execute_reply": "2023-05-31T06:44:42.741343Z"
    }
   },
   "outputs": [
    {
     "name": "stdout",
     "output_type": "stream",
     "text": [
      "File ‘pdf_sample1.pdf’ already there; not retrieving.\r\n",
      "\r\n"
     ]
    }
   ],
   "source": [
    "!wget -nc \"https://www.dropbox.com/s/6jdcn33xizdtl9k/layout-parser-paper.pdf\"\n",
    "!wget -nc \"https://www.dropbox.com/s/4q3bvne3m2vsu5g/state_of_the_union.pdf\""
   ]
  },
  {
   "attachments": {},
   "cell_type": "markdown",
   "id": "1d9c44d4",
   "metadata": {},
   "source": [
    "### Load PDFs"
   ]
  },
  {
   "cell_type": "code",
   "execution_count": 2,
   "id": "56913976",
   "metadata": {},
   "outputs": [],
   "source": [
    "drop_pdf = cursor.query(\"DROP TABLE IF  EXISTS MyPDFs\").execute()\n",
    "\n",
    "load_pdf1 = cursor.load(file_regex=\"layout-parser-paper.pdf\", format=\"PDF\", table_name=\"MyPDFs\").execute()\n",
    "\n",
    "load_pdf1 = cursor.load(file_regex=\"state_of_the_union.pdf\", format=\"PDF\", table_name=\"MyPDFs\").execute()"
   ]
  },
  {
   "attachments": {},
   "cell_type": "markdown",
   "id": "972e2b21",
   "metadata": {},
   "source": [
    "### Retrieve Text from Loaded PDFs"
   ]
  },
  {
   "cell_type": "code",
   "execution_count": 3,
   "id": "f2674110",
   "metadata": {
    "execution": {
     "iopub.execute_input": "2023-05-31T06:44:42.904205Z",
     "iopub.status.busy": "2023-05-31T06:44:42.903936Z",
     "iopub.status.idle": "2023-05-31T06:44:43.188100Z",
     "shell.execute_reply": "2023-05-31T06:44:43.187407Z"
    }
   },
   "outputs": [
    {
     "data": {
      "text/html": [
       "<div>\n",
       "<style scoped>\n",
       "    .dataframe tbody tr th:only-of-type {\n",
       "        vertical-align: middle;\n",
       "    }\n",
       "\n",
       "    .dataframe tbody tr th {\n",
       "        vertical-align: top;\n",
       "    }\n",
       "\n",
       "    .dataframe thead th {\n",
       "        text-align: right;\n",
       "    }\n",
       "</style>\n",
       "<table border=\"1\" class=\"dataframe\">\n",
       "  <thead>\n",
       "    <tr style=\"text-align: right;\">\n",
       "      <th></th>\n",
       "      <th>mypdfs._row_id</th>\n",
       "      <th>mypdfs.name</th>\n",
       "      <th>mypdfs.page</th>\n",
       "      <th>mypdfs.paragraph</th>\n",
       "      <th>mypdfs.data</th>\n",
       "    </tr>\n",
       "  </thead>\n",
       "  <tbody>\n",
       "    <tr>\n",
       "      <th>0</th>\n",
       "      <td>1</td>\n",
       "      <td>layout-parser-paper.pdf</td>\n",
       "      <td>1</td>\n",
       "      <td>1</td>\n",
       "      <td>LayoutParser: A Uniﬁed Toolkit for DeepLearnin...</td>\n",
       "    </tr>\n",
       "    <tr>\n",
       "      <th>1</th>\n",
       "      <td>1</td>\n",
       "      <td>layout-parser-paper.pdf</td>\n",
       "      <td>1</td>\n",
       "      <td>2</td>\n",
       "      <td>Zejiang Shen1(�), Ruochen Zhang2, Melissa Dell...</td>\n",
       "    </tr>\n",
       "    <tr>\n",
       "      <th>2</th>\n",
       "      <td>1</td>\n",
       "      <td>layout-parser-paper.pdf</td>\n",
       "      <td>1</td>\n",
       "      <td>3</td>\n",
       "      <td>1 Allen Institute for AIshannons@allenai.org2 ...</td>\n",
       "    </tr>\n",
       "    <tr>\n",
       "      <th>3</th>\n",
       "      <td>1</td>\n",
       "      <td>layout-parser-paper.pdf</td>\n",
       "      <td>1</td>\n",
       "      <td>4</td>\n",
       "      <td>Abstract. Recent advances in document image an...</td>\n",
       "    </tr>\n",
       "    <tr>\n",
       "      <th>4</th>\n",
       "      <td>1</td>\n",
       "      <td>layout-parser-paper.pdf</td>\n",
       "      <td>1</td>\n",
       "      <td>5</td>\n",
       "      <td>Keywords: Document Image Analysis · Deep Learn...</td>\n",
       "    </tr>\n",
       "    <tr>\n",
       "      <th>...</th>\n",
       "      <td>...</td>\n",
       "      <td>...</td>\n",
       "      <td>...</td>\n",
       "      <td>...</td>\n",
       "      <td>...</td>\n",
       "    </tr>\n",
       "    <tr>\n",
       "      <th>512</th>\n",
       "      <td>2</td>\n",
       "      <td>state_of_the_union.pdf</td>\n",
       "      <td>17</td>\n",
       "      <td>19</td>\n",
       "      <td>Now is our moment to meet and overcome the cha...</td>\n",
       "    </tr>\n",
       "    <tr>\n",
       "      <th>513</th>\n",
       "      <td>2</td>\n",
       "      <td>state_of_the_union.pdf</td>\n",
       "      <td>17</td>\n",
       "      <td>20</td>\n",
       "      <td>And we will, as one people.</td>\n",
       "    </tr>\n",
       "    <tr>\n",
       "      <th>514</th>\n",
       "      <td>2</td>\n",
       "      <td>state_of_the_union.pdf</td>\n",
       "      <td>17</td>\n",
       "      <td>21</td>\n",
       "      <td>One America.</td>\n",
       "    </tr>\n",
       "    <tr>\n",
       "      <th>515</th>\n",
       "      <td>2</td>\n",
       "      <td>state_of_the_union.pdf</td>\n",
       "      <td>17</td>\n",
       "      <td>22</td>\n",
       "      <td>The United States of America.</td>\n",
       "    </tr>\n",
       "    <tr>\n",
       "      <th>516</th>\n",
       "      <td>2</td>\n",
       "      <td>state_of_the_union.pdf</td>\n",
       "      <td>17</td>\n",
       "      <td>23</td>\n",
       "      <td>May God bless you all. May God protect our tro...</td>\n",
       "    </tr>\n",
       "  </tbody>\n",
       "</table>\n",
       "<p>517 rows × 5 columns</p>\n",
       "</div>"
      ],
      "text/plain": [
       "     mypdfs._row_id              mypdfs.name  mypdfs.page  mypdfs.paragraph   \n",
       "0                 1  layout-parser-paper.pdf            1                 1  \\\n",
       "1                 1  layout-parser-paper.pdf            1                 2   \n",
       "2                 1  layout-parser-paper.pdf            1                 3   \n",
       "3                 1  layout-parser-paper.pdf            1                 4   \n",
       "4                 1  layout-parser-paper.pdf            1                 5   \n",
       "..              ...                      ...          ...               ...   \n",
       "512               2   state_of_the_union.pdf           17                19   \n",
       "513               2   state_of_the_union.pdf           17                20   \n",
       "514               2   state_of_the_union.pdf           17                21   \n",
       "515               2   state_of_the_union.pdf           17                22   \n",
       "516               2   state_of_the_union.pdf           17                23   \n",
       "\n",
       "                                           mypdfs.data  \n",
       "0    LayoutParser: A Uniﬁed Toolkit for DeepLearnin...  \n",
       "1    Zejiang Shen1(�), Ruochen Zhang2, Melissa Dell...  \n",
       "2    1 Allen Institute for AIshannons@allenai.org2 ...  \n",
       "3    Abstract. Recent advances in document image an...  \n",
       "4    Keywords: Document Image Analysis · Deep Learn...  \n",
       "..                                                 ...  \n",
       "512  Now is our moment to meet and overcome the cha...  \n",
       "513                       And we will, as one people.   \n",
       "514                                      One America.   \n",
       "515                     The United States of America.   \n",
       "516  May God bless you all. May God protect our tro...  \n",
       "\n",
       "[517 rows x 5 columns]"
      ]
     },
     "execution_count": 3,
     "metadata": {},
     "output_type": "execute_result"
    }
   ],
   "source": [
    "cursor.table(\"MyPDFs\").df()"
   ]
  },
  {
   "attachments": {},
   "cell_type": "markdown",
   "id": "f502eddb",
   "metadata": {},
   "source": [
    "### Create vector index for paragraphs of pdf"
   ]
  },
  {
   "cell_type": "code",
   "execution_count": 4,
   "id": "d8b1abe7",
   "metadata": {},
   "outputs": [
    {
     "data": {
      "text/html": [
       "<div>\n",
       "<style scoped>\n",
       "    .dataframe tbody tr th:only-of-type {\n",
       "        vertical-align: middle;\n",
       "    }\n",
       "\n",
       "    .dataframe tbody tr th {\n",
       "        vertical-align: top;\n",
       "    }\n",
       "\n",
       "    .dataframe thead th {\n",
       "        text-align: right;\n",
       "    }\n",
       "</style>\n",
       "<table border=\"1\" class=\"dataframe\">\n",
       "  <thead>\n",
       "    <tr style=\"text-align: right;\">\n",
       "      <th></th>\n",
       "      <th>0</th>\n",
       "    </tr>\n",
       "  </thead>\n",
       "  <tbody>\n",
       "    <tr>\n",
       "      <th>0</th>\n",
       "      <td>Index faiss_index successfully added to the da...</td>\n",
       "    </tr>\n",
       "  </tbody>\n",
       "</table>\n",
       "</div>"
      ],
      "text/plain": [
       "                                                   0\n",
       "0  Index faiss_index successfully added to the da..."
      ]
     },
     "execution_count": 4,
     "metadata": {},
     "output_type": "execute_result"
    }
   ],
   "source": [
    "cursor.create_vector_index(\n",
    "            \"faiss_index\",\n",
    "            table_name=\"PDFss\",\n",
    "            expr=\"SentencTransformerFeatureExtractor(data)\",\n",
    "            using=\"QDRANT\",\n",
    "        ).df()"
   ]
  },
  {
   "attachments": {},
   "cell_type": "markdown",
   "id": "6badd9f6",
   "metadata": {},
   "source": [
    "### Create vector index for paragraphs of pdf"
   ]
  },
  {
   "cell_type": "code",
   "execution_count": 12,
   "id": "95aa83cc",
   "metadata": {},
   "outputs": [
    {
     "ename": "AssertionError",
     "evalue": "UDF file /Users/afaanansari/Desktop/gtech/eva_hugging_face/eva/eva/udfs/ndarray/similarity.py has been modified from the\n                registration. Please create a new UDF using the CREATE UDF command or UPDATE the existing one.",
     "output_type": "error",
     "traceback": [
      "\u001b[0;31m---------------------------------------------------------------------------\u001b[0m",
      "\u001b[0;31mAssertionError\u001b[0m                            Traceback (most recent call last)",
      "Cell \u001b[0;32mIn[12], line 3\u001b[0m\n\u001b[1;32m      1\u001b[0m query \u001b[39m=\u001b[39m (\n\u001b[1;32m      2\u001b[0m             cursor\u001b[39m.\u001b[39;49mtable(\u001b[39m\"\u001b[39;49m\u001b[39mMyPDFs\u001b[39;49m\u001b[39m\"\u001b[39;49m)\n\u001b[0;32m----> 3\u001b[0m             \u001b[39m.\u001b[39;49morder(\n\u001b[1;32m      4\u001b[0m \u001b[39m                \u001b[39;49m\u001b[39m\"\"\"Similarity(\u001b[39;49;00m\n\u001b[1;32m      5\u001b[0m \u001b[39m                    SentencTransformerFeatureExtractor('When was the NATO created?'), SentencTransformerFeatureExtractor(data)\u001b[39;49;00m\n\u001b[1;32m      6\u001b[0m \u001b[39m                ) DESC\"\"\"\u001b[39;49;00m\n\u001b[1;32m      7\u001b[0m             )\n\u001b[1;32m      8\u001b[0m             \u001b[39m.\u001b[39mlimit(\u001b[39m3\u001b[39m)\n\u001b[1;32m      9\u001b[0m             \u001b[39m.\u001b[39mselect(\u001b[39m\"\u001b[39m\u001b[39mdata\u001b[39m\u001b[39m\"\u001b[39m)\n\u001b[1;32m     10\u001b[0m         )\u001b[39m.\u001b[39mdf()\n",
      "File \u001b[0;32m~/Desktop/gtech/eva_hugging_face/eva/eva/interfaces/relational/relation.py:191\u001b[0m, in \u001b[0;36mEVADBQuery.order\u001b[0;34m(self, order_expr)\u001b[0m\n\u001b[1;32m    186\u001b[0m parsed_expr \u001b[39m=\u001b[39m parse_sql_orderby_expr(order_expr)\n\u001b[1;32m    187\u001b[0m \u001b[39mself\u001b[39m\u001b[39m.\u001b[39m_query_node \u001b[39m=\u001b[39m handle_select_clause(\n\u001b[1;32m    188\u001b[0m     \u001b[39mself\u001b[39m\u001b[39m.\u001b[39m_query_node, \u001b[39mself\u001b[39m\u001b[39m.\u001b[39m_alias, \u001b[39m\"\u001b[39m\u001b[39morderby_list\u001b[39m\u001b[39m\"\u001b[39m, parsed_expr\n\u001b[1;32m    189\u001b[0m )\n\u001b[0;32m--> 191\u001b[0m try_binding(\u001b[39mself\u001b[39;49m\u001b[39m.\u001b[39;49m_evadb\u001b[39m.\u001b[39;49mcatalog, \u001b[39mself\u001b[39;49m\u001b[39m.\u001b[39;49m_query_node)\n\u001b[1;32m    193\u001b[0m \u001b[39mreturn\u001b[39;00m \u001b[39mself\u001b[39m\n",
      "File \u001b[0;32m~/Desktop/gtech/eva_hugging_face/eva/eva/interfaces/relational/utils.py:81\u001b[0m, in \u001b[0;36mtry_binding\u001b[0;34m(catalog, stmt)\u001b[0m\n\u001b[1;32m     77\u001b[0m \u001b[39mdef\u001b[39;00m \u001b[39mtry_binding\u001b[39m(catalog: Callable, stmt: AbstractStatement):\n\u001b[1;32m     78\u001b[0m     \u001b[39m# To avoid complications in subsequent binder calls, we attempt to bind a copy of\u001b[39;00m\n\u001b[1;32m     79\u001b[0m     \u001b[39m# the statement since the binder modifies the statement in place and can cause\u001b[39;00m\n\u001b[1;32m     80\u001b[0m     \u001b[39m# issues if statement is partially bound.\u001b[39;00m\n\u001b[0;32m---> 81\u001b[0m     StatementBinder(StatementBinderContext(catalog))\u001b[39m.\u001b[39;49mbind(stmt\u001b[39m.\u001b[39;49mcopy())\n",
      "File \u001b[0;32m/Library/Frameworks/Python.framework/Versions/3.10/lib/python3.10/functools.py:926\u001b[0m, in \u001b[0;36msingledispatchmethod.__get__.<locals>._method\u001b[0;34m(*args, **kwargs)\u001b[0m\n\u001b[1;32m    924\u001b[0m \u001b[39mdef\u001b[39;00m \u001b[39m_method\u001b[39m(\u001b[39m*\u001b[39margs, \u001b[39m*\u001b[39m\u001b[39m*\u001b[39mkwargs):\n\u001b[1;32m    925\u001b[0m     method \u001b[39m=\u001b[39m \u001b[39mself\u001b[39m\u001b[39m.\u001b[39mdispatcher\u001b[39m.\u001b[39mdispatch(args[\u001b[39m0\u001b[39m]\u001b[39m.\u001b[39m\u001b[39m__class__\u001b[39m)\n\u001b[0;32m--> 926\u001b[0m     \u001b[39mreturn\u001b[39;00m method\u001b[39m.\u001b[39;49m\u001b[39m__get__\u001b[39;49m(obj, \u001b[39mcls\u001b[39;49m)(\u001b[39m*\u001b[39;49margs, \u001b[39m*\u001b[39;49m\u001b[39m*\u001b[39;49mkwargs)\n",
      "File \u001b[0;32m~/Desktop/gtech/eva_hugging_face/eva/eva/binder/statement_binder.py:129\u001b[0m, in \u001b[0;36mStatementBinder._bind_select_statement\u001b[0;34m(self, node)\u001b[0m\n\u001b[1;32m    127\u001b[0m \u001b[39mif\u001b[39;00m node\u001b[39m.\u001b[39morderby_list:\n\u001b[1;32m    128\u001b[0m     \u001b[39mfor\u001b[39;00m expr \u001b[39min\u001b[39;00m node\u001b[39m.\u001b[39morderby_list:\n\u001b[0;32m--> 129\u001b[0m         \u001b[39mself\u001b[39;49m\u001b[39m.\u001b[39;49mbind(expr[\u001b[39m0\u001b[39;49m])\n\u001b[1;32m    130\u001b[0m \u001b[39mif\u001b[39;00m node\u001b[39m.\u001b[39munion_link:\n\u001b[1;32m    131\u001b[0m     current_context \u001b[39m=\u001b[39m \u001b[39mself\u001b[39m\u001b[39m.\u001b[39m_binder_context\n",
      "File \u001b[0;32m/Library/Frameworks/Python.framework/Versions/3.10/lib/python3.10/functools.py:926\u001b[0m, in \u001b[0;36msingledispatchmethod.__get__.<locals>._method\u001b[0;34m(*args, **kwargs)\u001b[0m\n\u001b[1;32m    924\u001b[0m \u001b[39mdef\u001b[39;00m \u001b[39m_method\u001b[39m(\u001b[39m*\u001b[39margs, \u001b[39m*\u001b[39m\u001b[39m*\u001b[39mkwargs):\n\u001b[1;32m    925\u001b[0m     method \u001b[39m=\u001b[39m \u001b[39mself\u001b[39m\u001b[39m.\u001b[39mdispatcher\u001b[39m.\u001b[39mdispatch(args[\u001b[39m0\u001b[39m]\u001b[39m.\u001b[39m\u001b[39m__class__\u001b[39m)\n\u001b[0;32m--> 926\u001b[0m     \u001b[39mreturn\u001b[39;00m method\u001b[39m.\u001b[39;49m\u001b[39m__get__\u001b[39;49m(obj, \u001b[39mcls\u001b[39;49m)(\u001b[39m*\u001b[39;49margs, \u001b[39m*\u001b[39;49m\u001b[39m*\u001b[39;49mkwargs)\n",
      "File \u001b[0;32m~/Desktop/gtech/eva_hugging_face/eva/eva/binder/statement_binder.py:322\u001b[0m, in \u001b[0;36mStatementBinder._bind_func_expr\u001b[0;34m(self, node)\u001b[0m\n\u001b[1;32m    314\u001b[0m     udf_obj\u001b[39m.\u001b[39mimpl_file_path \u001b[39m=\u001b[39m (\n\u001b[1;32m    315\u001b[0m         Path(\u001b[39mf\u001b[39m\u001b[39m\"\u001b[39m\u001b[39m{\u001b[39;00mudf_dir\u001b[39m}\u001b[39;00m\u001b[39m/yolo_object_detector.py\u001b[39m\u001b[39m\"\u001b[39m)\u001b[39m.\u001b[39mabsolute()\u001b[39m.\u001b[39mas_posix()\n\u001b[1;32m    316\u001b[0m     )\n\u001b[1;32m    318\u001b[0m \u001b[39m# Verify the consistency of the UDF. If the checksum of the UDF does not\u001b[39;00m\n\u001b[1;32m    319\u001b[0m \u001b[39m# match the one stored in the catalog, an error will be thrown and the user\u001b[39;00m\n\u001b[1;32m    320\u001b[0m \u001b[39m# will be asked to register the UDF again.\u001b[39;00m\n\u001b[1;32m    321\u001b[0m \u001b[39massert\u001b[39;00m (\n\u001b[0;32m--> 322\u001b[0m     get_file_checksum(udf_obj\u001b[39m.\u001b[39mimpl_file_path) \u001b[39m==\u001b[39m udf_obj\u001b[39m.\u001b[39mchecksum\n\u001b[1;32m    323\u001b[0m ), \u001b[39mf\u001b[39m\u001b[39m\"\"\"\u001b[39m\u001b[39mUDF file \u001b[39m\u001b[39m{\u001b[39;00mudf_obj\u001b[39m.\u001b[39mimpl_file_path\u001b[39m}\u001b[39;00m\u001b[39m has been modified from the\u001b[39m\n\u001b[1;32m    324\u001b[0m \u001b[39m    registration. Please create a new UDF using the CREATE UDF command or UPDATE the existing one.\u001b[39m\u001b[39m\"\"\"\u001b[39m\n\u001b[1;32m    326\u001b[0m \u001b[39mtry\u001b[39;00m:\n\u001b[1;32m    327\u001b[0m     udf_class \u001b[39m=\u001b[39m load_udf_class_from_file(\n\u001b[1;32m    328\u001b[0m         udf_obj\u001b[39m.\u001b[39mimpl_file_path,\n\u001b[1;32m    329\u001b[0m         udf_obj\u001b[39m.\u001b[39mname,\n\u001b[1;32m    330\u001b[0m     )\n",
      "\u001b[0;31mAssertionError\u001b[0m: UDF file /Users/afaanansari/Desktop/gtech/eva_hugging_face/eva/eva/udfs/ndarray/similarity.py has been modified from the\n                registration. Please create a new UDF using the CREATE UDF command or UPDATE the existing one."
     ]
    }
   ],
   "source": [
    "query = (\n",
    "            cursor.table(\"MyPDFs\")\n",
    "            .order(\n",
    "                \"\"\"Similarity(\n",
    "                    SentencTransformerFeatureExtractor('When was the NATO created?'), SentencTransformerFeatureExtractor(data)\n",
    "                ) DESC\"\"\"\n",
    "            )\n",
    "            .limit(3)\n",
    "            .select(\"data\")\n",
    "        ).df()"
   ]
  }
 ],
 "metadata": {
  "kernelspec": {
   "display_name": "Python 3 (ipykernel)",
   "language": "python",
   "name": "python3"
  },
  "language_info": {
   "codemirror_mode": {
    "name": "ipython",
    "version": 3
   },
   "file_extension": ".py",
   "mimetype": "text/x-python",
   "name": "python",
   "nbconvert_exporter": "python",
   "pygments_lexer": "ipython3",
   "version": "3.10.9"
  },
  "varInspector": {
   "cols": {
    "lenName": 16,
    "lenType": 16,
    "lenVar": 40
   },
   "kernels_config": {
    "python": {
     "delete_cmd_postfix": "",
     "delete_cmd_prefix": "del ",
     "library": "var_list.py",
     "varRefreshCmd": "print(var_dic_list())"
    },
    "r": {
     "delete_cmd_postfix": ") ",
     "delete_cmd_prefix": "rm(",
     "library": "var_list.r",
     "varRefreshCmd": "cat(var_dic_list()) "
    }
   },
   "types_to_exclude": [
    "module",
    "function",
    "builtin_function_or_method",
    "instance",
    "_Feature"
   ],
   "window_display": false
  },
  "vscode": {
   "interpreter": {
    "hash": "292337e8e9747092192f4a1ef18b0951099c869b0f06eb7241460e1768f24923"
   }
  }
 },
 "nbformat": 4,
 "nbformat_minor": 5
}
