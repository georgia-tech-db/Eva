{
 "cells": [
  {
   "attachments": {},
   "cell_type": "markdown",
   "id": "6fdba594",
   "metadata": {},
   "source": [
    "# Similarity PDF Query Tutorial"
   ]
  },
  {
   "attachments": {},
   "cell_type": "markdown",
   "id": "05999c63",
   "metadata": {},
   "source": [
    "In this tutorial, we demonstrate how to load a PDF and query it."
   ]
  },
  {
   "attachments": {},
   "cell_type": "markdown",
   "id": "40100c9c",
   "metadata": {},
   "source": [
    "<table align=\"left\">\n",
    "  <td>\n",
    "    <a target=\"_blank\" href=\"https://colab.research.google.com/github/georgia-tech-db/eva/blob/master/tutorials/12-query-pdf.ipynb\"><img src=\"https://www.tensorflow.org/images/colab_logo_32px.png\" /> Run on Google Colab</a>\n",
    "  </td>\n",
    "  <td>\n",
    "    <a target=\"_blank\" href=\"https://github.com/georgia-tech-db/eva/blob/master/tutorials/12-query-pdf.ipynb\"><img src=\"https://www.tensorflow.org/images/GitHub-Mark-32px.png\" /> View source on GitHub</a>\n",
    "  </td>\n",
    "  <td>\n",
    "    <a target=\"_blank\" href=\"https://github.com/georgia-tech-db/eva/raw/master/tutorials/12-query-pdf.ipynb\"><img src=\"https://www.tensorflow.org/images/download_logo_32px.png\" /> Download notebook</a>\n",
    "  </td>\n",
    "</table>"
   ]
  },
  {
   "attachments": {},
   "cell_type": "markdown",
   "id": "d53ef889",
   "metadata": {},
   "source": [
    "### Start EVA server\n",
    "\n"
   ]
  },
  {
   "cell_type": "code",
   "execution_count": 1,
   "id": "b6b7f61d",
   "metadata": {
    "execution": {
     "iopub.execute_input": "2023-05-31T06:44:22.766368Z",
     "iopub.status.busy": "2023-05-31T06:44:22.765965Z",
     "iopub.status.idle": "2023-05-31T06:44:42.607986Z",
     "shell.execute_reply": "2023-05-31T06:44:42.606081Z"
    }
   },
   "outputs": [],
   "source": [
    "from eva.interfaces.relational.db import connect\n",
    "conn = connect()\n",
    "cursor = conn.cursor()"
   ]
  },
  {
   "attachments": {},
   "cell_type": "markdown",
   "id": "cfda671a",
   "metadata": {},
   "source": [
    "### Download PDFs"
   ]
  },
  {
   "cell_type": "code",
   "execution_count": 2,
   "id": "1ee8b17b",
   "metadata": {
    "execution": {
     "iopub.execute_input": "2023-05-31T06:44:42.614086Z",
     "iopub.status.busy": "2023-05-31T06:44:42.613608Z",
     "iopub.status.idle": "2023-05-31T06:44:42.743130Z",
     "shell.execute_reply": "2023-05-31T06:44:42.741343Z"
    }
   },
   "outputs": [
    {
     "name": "stdout",
     "output_type": "stream",
     "text": [
      "File ‘pdf_sample1.pdf’ already there; not retrieving.\r\n",
      "\r\n"
     ]
    }
   ],
   "source": [
    "!wget -nc \"https://www.dropbox.com/s/6jdcn33xizdtl9k/layout-parser-paper.pdf\"\n",
    "!wget -nc \"https://www.dropbox.com/s/4q3bvne3m2vsu5g/state_of_the_union.pdf\""
   ]
  },
  {
   "attachments": {},
   "cell_type": "markdown",
   "id": "1d9c44d4",
   "metadata": {},
   "source": [
    "### Load PDFs"
   ]
  },
  {
   "cell_type": "code",
   "execution_count": 2,
   "id": "56913976",
   "metadata": {},
   "outputs": [],
   "source": [
    "drop_pdf = cursor.query(\"DROP TABLE IF  EXISTS MyPDFs\").execute()\n",
    "\n",
    "load_pdf1 = cursor.load(file_regex=\"layout-parser-paper.pdf\", format=\"PDF\", table_name=\"MyPDFs\").execute()\n",
    "\n",
    "load_pdf1 = cursor.load(file_regex=\"state_of_the_union.pdf\", format=\"PDF\", table_name=\"MyPDFs\").execute()"
   ]
  },
  {
   "attachments": {},
   "cell_type": "markdown",
   "id": "972e2b21",
   "metadata": {},
   "source": [
    "### Retrieve Text from Loaded PDFs"
   ]
  },
  {
   "cell_type": "code",
   "execution_count": 3,
   "id": "f2674110",
   "metadata": {
    "execution": {
     "iopub.execute_input": "2023-05-31T06:44:42.904205Z",
     "iopub.status.busy": "2023-05-31T06:44:42.903936Z",
     "iopub.status.idle": "2023-05-31T06:44:43.188100Z",
     "shell.execute_reply": "2023-05-31T06:44:43.187407Z"
    }
   },
   "outputs": [
    {
     "data": {
      "text/html": [
       "<div>\n",
       "<style scoped>\n",
       "    .dataframe tbody tr th:only-of-type {\n",
       "        vertical-align: middle;\n",
       "    }\n",
       "\n",
       "    .dataframe tbody tr th {\n",
       "        vertical-align: top;\n",
       "    }\n",
       "\n",
       "    .dataframe thead th {\n",
       "        text-align: right;\n",
       "    }\n",
       "</style>\n",
       "<table border=\"1\" class=\"dataframe\">\n",
       "  <thead>\n",
       "    <tr style=\"text-align: right;\">\n",
       "      <th></th>\n",
       "      <th>mypdfs._row_id</th>\n",
       "      <th>mypdfs.name</th>\n",
       "      <th>mypdfs.page</th>\n",
       "      <th>mypdfs.paragraph</th>\n",
       "      <th>mypdfs.data</th>\n",
       "    </tr>\n",
       "  </thead>\n",
       "  <tbody>\n",
       "    <tr>\n",
       "      <th>0</th>\n",
       "      <td>1</td>\n",
       "      <td>layout-parser-paper.pdf</td>\n",
       "      <td>1</td>\n",
       "      <td>1</td>\n",
       "      <td>LayoutParser: A Uniﬁed Toolkit for DeepLearnin...</td>\n",
       "    </tr>\n",
       "    <tr>\n",
       "      <th>1</th>\n",
       "      <td>1</td>\n",
       "      <td>layout-parser-paper.pdf</td>\n",
       "      <td>1</td>\n",
       "      <td>2</td>\n",
       "      <td>Zejiang Shen1(�), Ruochen Zhang2, Melissa Dell...</td>\n",
       "    </tr>\n",
       "    <tr>\n",
       "      <th>2</th>\n",
       "      <td>1</td>\n",
       "      <td>layout-parser-paper.pdf</td>\n",
       "      <td>1</td>\n",
       "      <td>3</td>\n",
       "      <td>1 Allen Institute for AIshannons@allenai.org2 ...</td>\n",
       "    </tr>\n",
       "    <tr>\n",
       "      <th>3</th>\n",
       "      <td>1</td>\n",
       "      <td>layout-parser-paper.pdf</td>\n",
       "      <td>1</td>\n",
       "      <td>4</td>\n",
       "      <td>Abstract. Recent advances in document image an...</td>\n",
       "    </tr>\n",
       "    <tr>\n",
       "      <th>4</th>\n",
       "      <td>1</td>\n",
       "      <td>layout-parser-paper.pdf</td>\n",
       "      <td>1</td>\n",
       "      <td>5</td>\n",
       "      <td>Keywords: Document Image Analysis · Deep Learn...</td>\n",
       "    </tr>\n",
       "    <tr>\n",
       "      <th>...</th>\n",
       "      <td>...</td>\n",
       "      <td>...</td>\n",
       "      <td>...</td>\n",
       "      <td>...</td>\n",
       "      <td>...</td>\n",
       "    </tr>\n",
       "    <tr>\n",
       "      <th>512</th>\n",
       "      <td>2</td>\n",
       "      <td>state_of_the_union.pdf</td>\n",
       "      <td>17</td>\n",
       "      <td>19</td>\n",
       "      <td>Now is our moment to meet and overcome the cha...</td>\n",
       "    </tr>\n",
       "    <tr>\n",
       "      <th>513</th>\n",
       "      <td>2</td>\n",
       "      <td>state_of_the_union.pdf</td>\n",
       "      <td>17</td>\n",
       "      <td>20</td>\n",
       "      <td>And we will, as one people.</td>\n",
       "    </tr>\n",
       "    <tr>\n",
       "      <th>514</th>\n",
       "      <td>2</td>\n",
       "      <td>state_of_the_union.pdf</td>\n",
       "      <td>17</td>\n",
       "      <td>21</td>\n",
       "      <td>One America.</td>\n",
       "    </tr>\n",
       "    <tr>\n",
       "      <th>515</th>\n",
       "      <td>2</td>\n",
       "      <td>state_of_the_union.pdf</td>\n",
       "      <td>17</td>\n",
       "      <td>22</td>\n",
       "      <td>The United States of America.</td>\n",
       "    </tr>\n",
       "    <tr>\n",
       "      <th>516</th>\n",
       "      <td>2</td>\n",
       "      <td>state_of_the_union.pdf</td>\n",
       "      <td>17</td>\n",
       "      <td>23</td>\n",
       "      <td>May God bless you all. May God protect our tro...</td>\n",
       "    </tr>\n",
       "  </tbody>\n",
       "</table>\n",
       "<p>517 rows × 5 columns</p>\n",
       "</div>"
      ],
      "text/plain": [
       "     mypdfs._row_id              mypdfs.name  mypdfs.page  mypdfs.paragraph   \n",
       "0                 1  layout-parser-paper.pdf            1                 1  \\\n",
       "1                 1  layout-parser-paper.pdf            1                 2   \n",
       "2                 1  layout-parser-paper.pdf            1                 3   \n",
       "3                 1  layout-parser-paper.pdf            1                 4   \n",
       "4                 1  layout-parser-paper.pdf            1                 5   \n",
       "..              ...                      ...          ...               ...   \n",
       "512               2   state_of_the_union.pdf           17                19   \n",
       "513               2   state_of_the_union.pdf           17                20   \n",
       "514               2   state_of_the_union.pdf           17                21   \n",
       "515               2   state_of_the_union.pdf           17                22   \n",
       "516               2   state_of_the_union.pdf           17                23   \n",
       "\n",
       "                                           mypdfs.data  \n",
       "0    LayoutParser: A Uniﬁed Toolkit for DeepLearnin...  \n",
       "1    Zejiang Shen1(�), Ruochen Zhang2, Melissa Dell...  \n",
       "2    1 Allen Institute for AIshannons@allenai.org2 ...  \n",
       "3    Abstract. Recent advances in document image an...  \n",
       "4    Keywords: Document Image Analysis · Deep Learn...  \n",
       "..                                                 ...  \n",
       "512  Now is our moment to meet and overcome the cha...  \n",
       "513                       And we will, as one people.   \n",
       "514                                      One America.   \n",
       "515                     The United States of America.   \n",
       "516  May God bless you all. May God protect our tro...  \n",
       "\n",
       "[517 rows x 5 columns]"
      ]
     },
     "execution_count": 3,
     "metadata": {},
     "output_type": "execute_result"
    }
   ],
   "source": [
    "cursor.table(\"MyPDFs\").df()"
   ]
  },
  {
   "attachments": {},
   "cell_type": "markdown",
   "id": "f502eddb",
   "metadata": {},
   "source": [
    "### Create vector index for paragraphs of pdf"
   ]
  },
  {
   "cell_type": "code",
   "execution_count": 4,
   "id": "d8b1abe7",
   "metadata": {},
   "outputs": [
    {
     "data": {
      "text/html": [
       "<div>\n",
       "<style scoped>\n",
       "    .dataframe tbody tr th:only-of-type {\n",
       "        vertical-align: middle;\n",
       "    }\n",
       "\n",
       "    .dataframe tbody tr th {\n",
       "        vertical-align: top;\n",
       "    }\n",
       "\n",
       "    .dataframe thead th {\n",
       "        text-align: right;\n",
       "    }\n",
       "</style>\n",
       "<table border=\"1\" class=\"dataframe\">\n",
       "  <thead>\n",
       "    <tr style=\"text-align: right;\">\n",
       "      <th></th>\n",
       "      <th>0</th>\n",
       "    </tr>\n",
       "  </thead>\n",
       "  <tbody>\n",
       "    <tr>\n",
       "      <th>0</th>\n",
       "      <td>Index faiss_index successfully added to the da...</td>\n",
       "    </tr>\n",
       "  </tbody>\n",
       "</table>\n",
       "</div>"
      ],
      "text/plain": [
       "                                                   0\n",
       "0  Index faiss_index successfully added to the da..."
      ]
     },
     "execution_count": 4,
     "metadata": {},
     "output_type": "execute_result"
    }
   ],
   "source": [
    "cursor.create_vector_index(\n",
    "            \"faiss_index\",\n",
    "            table_name=\"PDFss\",\n",
    "            expr=\"SentencTransformerFeatureExtractor(data)\",\n",
    "            using=\"QDRANT\",\n",
    "        ).df()"
   ]
  },
  {
   "cell_type": "code",
   "execution_count": null,
   "id": "66b0bd42",
   "metadata": {},
   "outputs": [],
   "source": [
    "query = (\n",
    "            cursor.table(\"MyPDFs\")\n",
    "            .order(\n",
    "                \"\"\"Similarity(\n",
    "                    SentencTransformerFeatureExtractor('When was the NATO created?'), SentencTransformerFeatureExtractor(data)\n",
    "                ) DESC\"\"\"\n",
    "            )\n",
    "            .limit(3)\n",
    "            .select(\"data\")\n",
    "        ).df()"
   ]
  }
 ],
 "metadata": {
  "kernelspec": {
   "display_name": "Python 3 (ipykernel)",
   "language": "python",
   "name": "python3"
  },
  "language_info": {
   "codemirror_mode": {
    "name": "ipython",
    "version": 3
   },
   "file_extension": ".py",
   "mimetype": "text/x-python",
   "name": "python",
   "nbconvert_exporter": "python",
   "pygments_lexer": "ipython3",
   "version": "3.10.9"
  },
  "varInspector": {
   "cols": {
    "lenName": 16,
    "lenType": 16,
    "lenVar": 40
   },
   "kernels_config": {
    "python": {
     "delete_cmd_postfix": "",
     "delete_cmd_prefix": "del ",
     "library": "var_list.py",
     "varRefreshCmd": "print(var_dic_list())"
    },
    "r": {
     "delete_cmd_postfix": ") ",
     "delete_cmd_prefix": "rm(",
     "library": "var_list.r",
     "varRefreshCmd": "cat(var_dic_list()) "
    }
   },
   "types_to_exclude": [
    "module",
    "function",
    "builtin_function_or_method",
    "instance",
    "_Feature"
   ],
   "window_display": false
  },
  "vscode": {
   "interpreter": {
    "hash": "292337e8e9747092192f4a1ef18b0951099c869b0f06eb7241460e1768f24923"
   }
  }
 },
 "nbformat": 4,
 "nbformat_minor": 5
}
