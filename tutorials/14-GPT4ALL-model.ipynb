{
 "cells": [
  {
   "attachments": {},
   "cell_type": "markdown",
   "id": "6fdba594",
   "metadata": {},
   "source": [
    "# Similarity PDF Query Tutorial"
   ]
  },
  {
   "attachments": {},
   "cell_type": "markdown",
   "id": "05999c63",
   "metadata": {},
   "source": [
    "In this tutorial, we demonstrate how to load a PDF and query it."
   ]
  },
  {
   "attachments": {},
   "cell_type": "markdown",
   "id": "40100c9c",
   "metadata": {},
   "source": [
    "<table align=\"left\">\n",
    "  <td>\n",
    "    <a target=\"_blank\" href=\"#\"><img src=\"https://www.tensorflow.org/images/colab_logo_32px.png\" /> Run on Google Colab</a>\n",
    "  </td>\n",
    "  <td>\n",
    "    <a target=\"_blank\" href=\"#\"><img src=\"https://www.tensorflow.org/images/GitHub-Mark-32px.png\" /> View source on GitHub</a>\n",
    "  </td>\n",
    "  <td>\n",
    "    <a target=\"_blank\" href=\"#\"><img src=\"https://www.tensorflow.org/images/download_logo_32px.png\" /> Download notebook</a>\n",
    "  </td>\n",
    "</table>"
   ]
  },
  {
   "attachments": {},
   "cell_type": "markdown",
   "id": "d53ef889",
   "metadata": {},
   "source": [
    "### Start EVA server\n",
    "\n"
   ]
  },
  {
   "cell_type": "code",
   "execution_count": 1,
   "id": "b6b7f61d",
   "metadata": {
    "execution": {
     "iopub.execute_input": "2023-06-06T03:39:45.711338Z",
     "iopub.status.busy": "2023-06-06T03:39:45.710899Z",
     "iopub.status.idle": "2023-06-06T03:39:49.500681Z",
     "shell.execute_reply": "2023-06-06T03:39:49.499702Z"
    }
   },
   "outputs": [],
   "source": [
    "from evadb.interfaces.relational.db import connect\n",
    "conn = connect()\n",
    "cursor = conn.cursor()"
   ]
  },
  {
   "attachments": {},
   "cell_type": "markdown",
   "id": "cfda671a",
   "metadata": {},
   "source": [
    "### Download PDFs"
   ]
  },
  {
   "cell_type": "code",
   "execution_count": 2,
   "id": "1ee8b17b",
   "metadata": {
    "execution": {
     "iopub.execute_input": "2023-06-06T03:39:49.505723Z",
     "iopub.status.busy": "2023-06-06T03:39:49.505414Z",
     "iopub.status.idle": "2023-06-06T03:39:50.954743Z",
     "shell.execute_reply": "2023-06-06T03:39:50.952931Z"
    }
   },
   "outputs": [
    {
     "name": "stdout",
     "output_type": "stream",
     "text": [
      "File ‘state_of_the_union.pdf’ already there; not retrieving.\n",
      "\n"
     ]
    }
   ],
   "source": [
    "!wget -nc \"https://www.dropbox.com/s/4q3bvne3m2vsu5g/state_of_the_union.pdf\""
   ]
  },
  {
   "attachments": {},
   "cell_type": "markdown",
   "id": "1d9c44d4",
   "metadata": {},
   "source": [
    "### Load PDFs"
   ]
  },
  {
   "cell_type": "code",
   "execution_count": 2,
   "id": "56913976",
   "metadata": {
    "execution": {
     "iopub.execute_input": "2023-06-06T03:39:50.960327Z",
     "iopub.status.busy": "2023-06-06T03:39:50.960021Z",
     "iopub.status.idle": "2023-06-06T03:39:51.129610Z",
     "shell.execute_reply": "2023-06-06T03:39:51.128555Z"
    }
   },
   "outputs": [
    {
     "name": "stderr",
     "output_type": "stream",
     "text": [
      "06-07-2023 19:33:54 WARNING[drop_executor:drop_executor.py:exec:0045] Table: MyPDFs does not exist\n"
     ]
    }
   ],
   "source": [
    "drop_pdf = cursor.query(\"DROP TABLE IF  EXISTS MyPDFs\").execute()\n",
    "load_pdf1 = cursor.load(file_regex=\"state_of_the_union.pdf\", format=\"PDF\", table_name=\"MyPDFs\").execute()"
   ]
  },
  {
   "attachments": {},
   "cell_type": "markdown",
   "id": "972e2b21",
   "metadata": {},
   "source": [
    "### Retrieve Text from Loaded PDFs"
   ]
  },
  {
   "cell_type": "code",
   "execution_count": 3,
   "id": "f2674110",
   "metadata": {
    "execution": {
     "iopub.execute_input": "2023-06-06T03:39:51.134811Z",
     "iopub.status.busy": "2023-06-06T03:39:51.134414Z",
     "iopub.status.idle": "2023-06-06T03:39:55.397743Z",
     "shell.execute_reply": "2023-06-06T03:39:55.396750Z"
    }
   },
   "outputs": [
    {
     "data": {
      "text/html": [
       "<div>\n",
       "<style scoped>\n",
       "    .dataframe tbody tr th:only-of-type {\n",
       "        vertical-align: middle;\n",
       "    }\n",
       "\n",
       "    .dataframe tbody tr th {\n",
       "        vertical-align: top;\n",
       "    }\n",
       "\n",
       "    .dataframe thead th {\n",
       "        text-align: right;\n",
       "    }\n",
       "</style>\n",
       "<table border=\"1\" class=\"dataframe\">\n",
       "  <thead>\n",
       "    <tr style=\"text-align: right;\">\n",
       "      <th></th>\n",
       "      <th>mypdfs._row_id</th>\n",
       "      <th>mypdfs.name</th>\n",
       "      <th>mypdfs.page</th>\n",
       "      <th>mypdfs.paragraph</th>\n",
       "      <th>mypdfs.data</th>\n",
       "    </tr>\n",
       "  </thead>\n",
       "  <tbody>\n",
       "    <tr>\n",
       "      <th>0</th>\n",
       "      <td>1</td>\n",
       "      <td>state_of_the_union.pdf</td>\n",
       "      <td>1</td>\n",
       "      <td>1</td>\n",
       "      <td>Madam Speaker, Madam Vice President, our First...</td>\n",
       "    </tr>\n",
       "    <tr>\n",
       "      <th>1</th>\n",
       "      <td>1</td>\n",
       "      <td>state_of_the_union.pdf</td>\n",
       "      <td>1</td>\n",
       "      <td>2</td>\n",
       "      <td>Last year COVID-19 kept us apart. This year we...</td>\n",
       "    </tr>\n",
       "    <tr>\n",
       "      <th>2</th>\n",
       "      <td>1</td>\n",
       "      <td>state_of_the_union.pdf</td>\n",
       "      <td>1</td>\n",
       "      <td>3</td>\n",
       "      <td>Tonight, we meet as Democrats Republicans and ...</td>\n",
       "    </tr>\n",
       "    <tr>\n",
       "      <th>3</th>\n",
       "      <td>1</td>\n",
       "      <td>state_of_the_union.pdf</td>\n",
       "      <td>1</td>\n",
       "      <td>4</td>\n",
       "      <td>With a duty to one another to the American peo...</td>\n",
       "    </tr>\n",
       "    <tr>\n",
       "      <th>4</th>\n",
       "      <td>1</td>\n",
       "      <td>state_of_the_union.pdf</td>\n",
       "      <td>1</td>\n",
       "      <td>5</td>\n",
       "      <td>And with an unwavering resolve that freedom wi...</td>\n",
       "    </tr>\n",
       "    <tr>\n",
       "      <th>...</th>\n",
       "      <td>...</td>\n",
       "      <td>...</td>\n",
       "      <td>...</td>\n",
       "      <td>...</td>\n",
       "      <td>...</td>\n",
       "    </tr>\n",
       "    <tr>\n",
       "      <th>359</th>\n",
       "      <td>1</td>\n",
       "      <td>state_of_the_union.pdf</td>\n",
       "      <td>17</td>\n",
       "      <td>19</td>\n",
       "      <td>Now is our moment to meet and overcome the cha...</td>\n",
       "    </tr>\n",
       "    <tr>\n",
       "      <th>360</th>\n",
       "      <td>1</td>\n",
       "      <td>state_of_the_union.pdf</td>\n",
       "      <td>17</td>\n",
       "      <td>20</td>\n",
       "      <td>And we will, as one people.</td>\n",
       "    </tr>\n",
       "    <tr>\n",
       "      <th>361</th>\n",
       "      <td>1</td>\n",
       "      <td>state_of_the_union.pdf</td>\n",
       "      <td>17</td>\n",
       "      <td>21</td>\n",
       "      <td>One America.</td>\n",
       "    </tr>\n",
       "    <tr>\n",
       "      <th>362</th>\n",
       "      <td>1</td>\n",
       "      <td>state_of_the_union.pdf</td>\n",
       "      <td>17</td>\n",
       "      <td>22</td>\n",
       "      <td>The United States of America.</td>\n",
       "    </tr>\n",
       "    <tr>\n",
       "      <th>363</th>\n",
       "      <td>1</td>\n",
       "      <td>state_of_the_union.pdf</td>\n",
       "      <td>17</td>\n",
       "      <td>23</td>\n",
       "      <td>May God bless you all. May God protect our tro...</td>\n",
       "    </tr>\n",
       "  </tbody>\n",
       "</table>\n",
       "<p>364 rows × 5 columns</p>\n",
       "</div>"
      ],
      "text/plain": [
       "     mypdfs._row_id             mypdfs.name  mypdfs.page  mypdfs.paragraph  \\\n",
       "0                 1  state_of_the_union.pdf            1                 1   \n",
       "1                 1  state_of_the_union.pdf            1                 2   \n",
       "2                 1  state_of_the_union.pdf            1                 3   \n",
       "3                 1  state_of_the_union.pdf            1                 4   \n",
       "4                 1  state_of_the_union.pdf            1                 5   \n",
       "..              ...                     ...          ...               ...   \n",
       "359               1  state_of_the_union.pdf           17                19   \n",
       "360               1  state_of_the_union.pdf           17                20   \n",
       "361               1  state_of_the_union.pdf           17                21   \n",
       "362               1  state_of_the_union.pdf           17                22   \n",
       "363               1  state_of_the_union.pdf           17                23   \n",
       "\n",
       "                                           mypdfs.data  \n",
       "0    Madam Speaker, Madam Vice President, our First...  \n",
       "1    Last year COVID-19 kept us apart. This year we...  \n",
       "2    Tonight, we meet as Democrats Republicans and ...  \n",
       "3    With a duty to one another to the American peo...  \n",
       "4    And with an unwavering resolve that freedom wi...  \n",
       "..                                                 ...  \n",
       "359  Now is our moment to meet and overcome the cha...  \n",
       "360                       And we will, as one people.   \n",
       "361                                      One America.   \n",
       "362                     The United States of America.   \n",
       "363  May God bless you all. May God protect our tro...  \n",
       "\n",
       "[364 rows x 5 columns]"
      ]
     },
     "execution_count": 3,
     "metadata": {},
     "output_type": "execute_result"
    }
   ],
   "source": [
    "cursor.table(\"MyPDFs\").df()"
   ]
  },
  {
   "attachments": {},
   "cell_type": "markdown",
   "id": "fe2f4b4a",
   "metadata": {},
   "source": [
    "### Create Sentence Transformer Feature Extractor UDF"
   ]
  },
  {
   "cell_type": "code",
   "execution_count": 4,
   "id": "bc57b1ff",
   "metadata": {
    "execution": {
     "iopub.execute_input": "2023-06-06T03:39:55.404054Z",
     "iopub.status.busy": "2023-06-06T03:39:55.403797Z",
     "iopub.status.idle": "2023-06-06T03:39:56.072433Z",
     "shell.execute_reply": "2023-06-06T03:39:56.071615Z"
    }
   },
   "outputs": [
    {
     "name": "stderr",
     "output_type": "stream",
     "text": [
      "06-07-2023 19:33:57 WARNING[drop_udf_executor:drop_udf_executor.py:exec:0039] UDF SentenceTransformerFeatureExtractor does not exist, therefore cannot be dropped.\n"
     ]
    },
    {
     "data": {
      "text/plain": [
       "<evadb.models.storage.batch.Batch at 0x162c621a0>"
      ]
     },
     "execution_count": 4,
     "metadata": {},
     "output_type": "execute_result"
    }
   ],
   "source": [
    "cursor.drop_udf(\"SentenceTransformerFeatureExtractor\", if_exists=True).execute()\n",
    "udf = cursor.create_udf(\n",
    "    \"SentenceTransformerFeatureExtractor\",\n",
    "    True,\n",
    "    \"../evadb/udfs/sentence_transformer_feature_extractor.py\",\n",
    ")\n",
    "udf.execute()\n"
   ]
  },
  {
   "attachments": {},
   "cell_type": "markdown",
   "id": "f502eddb",
   "metadata": {},
   "source": [
    "# creating GPT4AllQaUDF udf"
   ]
  },
  {
   "cell_type": "code",
   "execution_count": 5,
   "id": "d8b1abe7",
   "metadata": {
    "execution": {
     "iopub.execute_input": "2023-06-06T03:39:56.076876Z",
     "iopub.status.busy": "2023-06-06T03:39:56.076607Z",
     "iopub.status.idle": "2023-06-06T03:40:06.143080Z",
     "shell.execute_reply": "2023-06-06T03:40:06.142195Z"
    }
   },
   "outputs": [
    {
     "name": "stderr",
     "output_type": "stream",
     "text": [
      "06-07-2023 19:33:59 WARNING[drop_udf_executor:drop_udf_executor.py:exec:0039] UDF GPT4AllQaUDF does not exist, therefore cannot be dropped.\n"
     ]
    },
    {
     "name": "stdout",
     "output_type": "stream",
     "text": [
      "Found model file at  /Users/afaanansari/Desktop/gtech/eva/data/models/ggml-gpt4all-j-v1.3-groovy.bin\n",
      "gptj_model_load: loading model from '/Users/afaanansari/Desktop/gtech/eva/data/models/ggml-gpt4all-j-v1.3-groovy.bin' - please wait ...\n",
      "gptj_model_load: n_vocab = 50400\n",
      "gptj_model_load: n_ctx   = 2048\n",
      "gptj_model_load: n_embd  = 4096\n",
      "gptj_model_load: n_head  = 16\n",
      "gptj_model_load: n_layer = 28\n",
      "gptj_model_load: n_rot   = 64\n",
      "gptj_model_load: f16     = 2\n",
      "gptj_model_load: ggml ctx size = 5401.45 MB\n",
      "gptj_model_load: kv self size  =  896.00 MB\n",
      "gptj_model_load: ................................... done\n",
      "gptj_model_load: model size =  3609.38 MB / num tensors = 285\n"
     ]
    },
    {
     "data": {
      "text/plain": [
       "<evadb.models.storage.batch.Batch at 0x2add707c0>"
      ]
     },
     "execution_count": 5,
     "metadata": {},
     "output_type": "execute_result"
    }
   ],
   "source": [
    "cursor.drop_udf(\"GPT4AllQaUDF\", if_exists=True).execute()\n",
    "udf = cursor.create_udf(\n",
    "    \"GPT4AllQaUDF\",\n",
    "    True,\n",
    "    \"../evadb/udfs/GPT4ALL.py\",\n",
    ")\n",
    "udf.execute()"
   ]
  },
  {
   "attachments": {},
   "cell_type": "markdown",
   "id": "6492ce0d",
   "metadata": {},
   "source": [
    "### getting answers from GPT4ALL UDF without filtering and returning top 3 answers"
   ]
  },
  {
   "cell_type": "code",
   "execution_count": 6,
   "id": "06fa582a",
   "metadata": {},
   "outputs": [
    {
     "name": "stdout",
     "output_type": "stream",
     "text": [
      "Found model file at  /Users/afaanansari/Desktop/gtech/eva/data/models/ggml-gpt4all-j-v1.3-groovy.bin\n",
      "gptj_model_load: loading model from '/Users/afaanansari/Desktop/gtech/eva/data/models/ggml-gpt4all-j-v1.3-groovy.bin' - please wait ...\n",
      "gptj_model_load: n_vocab = 50400\n",
      "gptj_model_load: n_ctx   = 2048\n",
      "gptj_model_load: n_embd  = 4096\n",
      "gptj_model_load: n_head  = 16\n",
      "gptj_model_load: n_layer = 28\n",
      "gptj_model_load: n_rot   = 64\n",
      "gptj_model_load: f16     = 2\n",
      "gptj_model_load: ggml ctx size = 5401.45 MB\n",
      "gptj_model_load: kv self size  =  896.00 MB\n",
      "gptj_model_load: ................................... done\n",
      "gptj_model_load: model size =  3609.38 MB / num tensors = 285\n",
      " The North Atlantic Treaty Organization (NATO) is an alliance formed on April 4th 1949 to promote peace in Europe by providing military assistance against aggression during Cold War period, and today it has 36 member states that includes Canada , United States of America.\n",
      " The North Atlantic Treaty Organization (NATO) is an alliance formed on April 4th 1949 to promote peace in Europe by providing military assistance against aggression during Cold War period, and today it has 36 member states that includes Canada , United States of America. The question is unclear and requires more context or clarification for a helpful response\n",
      " The question is unclear and requires more context or clarification for a helpful response The North Atlantic Treaty Organization (NATO) is a military alliance that includes countries from across Europe in its membership.[1] It has been\n",
      " The North Atlantic Treaty Organization (NATO) is a military alliance that includes countries from across Europe in its membership.[1] It has been"
     ]
    },
    {
     "data": {
      "text/html": [
       "<div>\n",
       "<style scoped>\n",
       "    .dataframe tbody tr th:only-of-type {\n",
       "        vertical-align: middle;\n",
       "    }\n",
       "\n",
       "    .dataframe tbody tr th {\n",
       "        vertical-align: top;\n",
       "    }\n",
       "\n",
       "    .dataframe thead th {\n",
       "        text-align: right;\n",
       "    }\n",
       "</style>\n",
       "<table border=\"1\" class=\"dataframe\">\n",
       "  <thead>\n",
       "    <tr style=\"text-align: right;\">\n",
       "      <th></th>\n",
       "      <th>mypdfs._row_id</th>\n",
       "      <th>mypdfs.name</th>\n",
       "      <th>mypdfs.page</th>\n",
       "      <th>mypdfs.paragraph</th>\n",
       "      <th>mypdfs.data</th>\n",
       "      <th>objs.answers</th>\n",
       "    </tr>\n",
       "  </thead>\n",
       "  <tbody>\n",
       "    <tr>\n",
       "      <th>0</th>\n",
       "      <td>1</td>\n",
       "      <td>state_of_the_union.pdf</td>\n",
       "      <td>1</td>\n",
       "      <td>1</td>\n",
       "      <td>Madam Speaker, Madam Vice President, our First...</td>\n",
       "      <td>The North Atlantic Treaty Organization (NATO)...</td>\n",
       "    </tr>\n",
       "    <tr>\n",
       "      <th>1</th>\n",
       "      <td>1</td>\n",
       "      <td>state_of_the_union.pdf</td>\n",
       "      <td>1</td>\n",
       "      <td>2</td>\n",
       "      <td>Last year COVID-19 kept us apart. This year we...</td>\n",
       "      <td>The question is unclear and requires more con...</td>\n",
       "    </tr>\n",
       "    <tr>\n",
       "      <th>2</th>\n",
       "      <td>1</td>\n",
       "      <td>state_of_the_union.pdf</td>\n",
       "      <td>1</td>\n",
       "      <td>3</td>\n",
       "      <td>Tonight, we meet as Democrats Republicans and ...</td>\n",
       "      <td>The North Atlantic Treaty Organization (NATO)...</td>\n",
       "    </tr>\n",
       "  </tbody>\n",
       "</table>\n",
       "</div>"
      ],
      "text/plain": [
       "   mypdfs._row_id             mypdfs.name  mypdfs.page  mypdfs.paragraph  \\\n",
       "0               1  state_of_the_union.pdf            1                 1   \n",
       "1               1  state_of_the_union.pdf            1                 2   \n",
       "2               1  state_of_the_union.pdf            1                 3   \n",
       "\n",
       "                                         mypdfs.data  \\\n",
       "0  Madam Speaker, Madam Vice President, our First...   \n",
       "1  Last year COVID-19 kept us apart. This year we...   \n",
       "2  Tonight, we meet as Democrats Republicans and ...   \n",
       "\n",
       "                                        objs.answers  \n",
       "0   The North Atlantic Treaty Organization (NATO)...  \n",
       "1   The question is unclear and requires more con...  \n",
       "2   The North Atlantic Treaty Organization (NATO)...  "
      ]
     },
     "execution_count": 6,
     "metadata": {},
     "output_type": "execute_result"
    }
   ],
   "source": [
    "pdf_table_gpt4all = (\n",
    "    cursor.table(\"MyPDFs\")\n",
    "    .cross_apply(\n",
    "                \"GPT4AllQaUDF(data,'When was the NATO created?')\", \"objs(answers)\"\n",
    "            )\n",
    "    .limit(3)\n",
    ").df()\n",
    "pdf_table_gpt4all"
   ]
  },
  {
   "attachments": {},
   "cell_type": "markdown",
   "id": "c608e520",
   "metadata": {},
   "source": [
    "### getting answers from GPT4ALL UDF with filtering Similarity based on features from SentenceTransformerFeatureExtractor udf and returning top 3 results"
   ]
  },
  {
   "cell_type": "code",
   "execution_count": 7,
   "id": "66b0bd42",
   "metadata": {
    "execution": {
     "iopub.execute_input": "2023-06-06T03:40:06.147769Z",
     "iopub.status.busy": "2023-06-06T03:40:06.147535Z",
     "iopub.status.idle": "2023-06-06T03:40:08.765209Z",
     "shell.execute_reply": "2023-06-06T03:40:08.764379Z"
    }
   },
   "outputs": [
    {
     "name": "stderr",
     "output_type": "stream",
     "text": [
      "06-07-2023 19:35:39 WARNING[batch:batch.py:merge_column_wise:0266] Duplicated column name detected           sentencetransformerfeatureextractor.features  \\\n",
      "0    [[-0.038720004, 0.005207654, -0.07539935, 0.05...   \n",
      "1    [[-0.038720004, 0.005207654, -0.07539935, 0.05...   \n",
      "2    [[-0.038720004, 0.005207654, -0.07539935, 0.05...   \n",
      "3    [[-0.038720004, 0.005207654, -0.07539935, 0.05...   \n",
      "4    [[-0.038720004, 0.005207654, -0.07539935, 0.05...   \n",
      "..                                                 ...   \n",
      "359  [[-0.038720004, 0.005207654, -0.07539935, 0.05...   \n",
      "360  [[-0.038720004, 0.005207654, -0.07539935, 0.05...   \n",
      "361  [[-0.038720004, 0.005207654, -0.07539935, 0.05...   \n",
      "362  [[-0.038720004, 0.005207654, -0.07539935, 0.05...   \n",
      "363  [[-0.038720004, 0.005207654, -0.07539935, 0.05...   \n",
      "\n",
      "          sentencetransformerfeatureextractor.features  \n",
      "0    [[-0.029452354, -0.03953443, 0.02554976, -0.04...  \n",
      "1    [[-0.0666121, 0.0290789, 0.027656456, -0.00346...  \n",
      "2    [[-0.00999561, -0.04046597, -0.034857474, 0.04...  \n",
      "3    [[-0.083663166, 0.034778293, -0.038327992, -0....  \n",
      "4    [[-0.01534493, 0.05412948, 0.023132319, -0.023...  \n",
      "..                                                 ...  \n",
      "359  [[-0.038605932, 0.07134383, 0.04338035, 0.0022...  \n",
      "360  [[-0.090742305, -0.024204938, -0.022035263, -0...  \n",
      "361  [[0.09891721, -0.04107693, -0.032788586, -0.02...  \n",
      "362  [[0.065487765, -0.0073005967, 0.008359991, 0.0...  \n",
      "363  [[-0.000974254, 0.02147576, 0.06017039, -0.061...  \n",
      "\n",
      "[364 rows x 2 columns]\n"
     ]
    },
    {
     "name": "stdout",
     "output_type": "stream",
     "text": [
      "Found model file at  /Users/afaanansari/Desktop/gtech/eva/data/models/ggml-gpt4all-j-v1.3-groovy.bin\n",
      "gptj_model_load: loading model from '/Users/afaanansari/Desktop/gtech/eva/data/models/ggml-gpt4all-j-v1.3-groovy.bin' - please wait ...\n",
      "gptj_model_load: n_vocab = 50400\n",
      "gptj_model_load: n_ctx   = 2048\n",
      "gptj_model_load: n_embd  = 4096\n",
      "gptj_model_load: n_head  = 16\n",
      "gptj_model_load: n_layer = 28\n",
      "gptj_model_load: n_rot   = 64\n",
      "gptj_model_load: f16     = 2\n",
      "gptj_model_load: ggml ctx size = 5401.45 MB\n",
      "gptj_model_load: kv self size  =  896.00 MB\n",
      "gptj_model_load: ................................... done\n",
      "gptj_model_load: model size =  3609.38 MB / num tensors = 285\n",
      " The founding of NATO (North Atlantic Treaty Organization) on April 4th 1949\n",
      " The founding of NATO (North Atlantic Treaty Organization) on April 4th 1949 The North Atlantic Treaty Organization (NATO) is an international military alliance formed in 1949 that includes 29 member states from Europe, Canada, Turkey, United States and Norway.\n",
      " The North Atlantic Treaty Organization (NATO) is an international military alliance formed in 1949 that includes 29 member states from Europe, Canada, Turkey, United States and Norway. It is not specified when exactly Russia's actions prompted it for expansion in 2014, but this happened shortly after Ukraine took control over Crimea that year as a direct result of annexation by then-Russian President Vladimir Putin on March 18th of the same calendar month. \n",
      "\n",
      " It is not specified when exactly Russia's actions prompted it for expansion in 2014, but this happened shortly after Ukraine took control over Crimea that year as a direct result of annexation by then-Russian President Vladimir Putin on March 18th of the same calendar month. \n"
     ]
    },
    {
     "data": {
      "text/html": [
       "<div>\n",
       "<style scoped>\n",
       "    .dataframe tbody tr th:only-of-type {\n",
       "        vertical-align: middle;\n",
       "    }\n",
       "\n",
       "    .dataframe tbody tr th {\n",
       "        vertical-align: top;\n",
       "    }\n",
       "\n",
       "    .dataframe thead th {\n",
       "        text-align: right;\n",
       "    }\n",
       "</style>\n",
       "<table border=\"1\" class=\"dataframe\">\n",
       "  <thead>\n",
       "    <tr style=\"text-align: right;\">\n",
       "      <th></th>\n",
       "      <th>mypdfs._row_id</th>\n",
       "      <th>mypdfs.name</th>\n",
       "      <th>mypdfs.page</th>\n",
       "      <th>mypdfs.paragraph</th>\n",
       "      <th>mypdfs.data</th>\n",
       "      <th>objs.answers</th>\n",
       "    </tr>\n",
       "  </thead>\n",
       "  <tbody>\n",
       "    <tr>\n",
       "      <th>0</th>\n",
       "      <td>1</td>\n",
       "      <td>state_of_the_union.pdf</td>\n",
       "      <td>1</td>\n",
       "      <td>17</td>\n",
       "      <td>That’s why the NATO Alliance was created to se...</td>\n",
       "      <td>The founding of NATO (North Atlantic Treaty O...</td>\n",
       "    </tr>\n",
       "    <tr>\n",
       "      <th>1</th>\n",
       "      <td>1</td>\n",
       "      <td>state_of_the_union.pdf</td>\n",
       "      <td>3</td>\n",
       "      <td>1</td>\n",
       "      <td>For that purpose we’ve mobilized American grou...</td>\n",
       "      <td>The North Atlantic Treaty Organization (NATO)...</td>\n",
       "    </tr>\n",
       "    <tr>\n",
       "      <th>2</th>\n",
       "      <td>1</td>\n",
       "      <td>state_of_the_union.pdf</td>\n",
       "      <td>2</td>\n",
       "      <td>1</td>\n",
       "      <td>We spent months building a coalition of other ...</td>\n",
       "      <td>It is not specified when exactly Russia's act...</td>\n",
       "    </tr>\n",
       "  </tbody>\n",
       "</table>\n",
       "</div>"
      ],
      "text/plain": [
       "   mypdfs._row_id             mypdfs.name  mypdfs.page  mypdfs.paragraph  \\\n",
       "0               1  state_of_the_union.pdf            1                17   \n",
       "1               1  state_of_the_union.pdf            3                 1   \n",
       "2               1  state_of_the_union.pdf            2                 1   \n",
       "\n",
       "                                         mypdfs.data  \\\n",
       "0  That’s why the NATO Alliance was created to se...   \n",
       "1  For that purpose we’ve mobilized American grou...   \n",
       "2  We spent months building a coalition of other ...   \n",
       "\n",
       "                                        objs.answers  \n",
       "0   The founding of NATO (North Atlantic Treaty O...  \n",
       "1   The North Atlantic Treaty Organization (NATO)...  \n",
       "2   It is not specified when exactly Russia's act...  "
      ]
     },
     "execution_count": 7,
     "metadata": {},
     "output_type": "execute_result"
    }
   ],
   "source": [
    "pdf_table_similarity = (\n",
    "    cursor.table(\"MyPDFs\")\n",
    "    .order(\n",
    "        \"\"\"Similarity(\n",
    "                SentenceTransformerFeatureExtractor('When was the NATO created?'), SentenceTransformerFeatureExtractor(data)\n",
    "            )\"\"\"\n",
    "    )\n",
    "    .limit(3)\n",
    ")\n",
    "pdf_table_gpt = (\n",
    "    pdf_table_similarity.cross_apply(\n",
    "        \"GPT4AllQaUDF(data,'When was the NATO created?')\", \"objs(answers)\"\n",
    "    )\n",
    ").df()\n",
    "pdf_table_gpt"
   ]
  }
 ],
 "metadata": {
  "kernelspec": {
   "display_name": "Python 3 (ipykernel)",
   "language": "python",
   "name": "python3"
  },
  "language_info": {
   "codemirror_mode": {
    "name": "ipython",
    "version": 3
   },
   "file_extension": ".py",
   "mimetype": "text/x-python",
   "name": "python",
   "nbconvert_exporter": "python",
   "pygments_lexer": "ipython3",
   "version": "3.10.9"
  },
  "varInspector": {
   "cols": {
    "lenName": 16,
    "lenType": 16,
    "lenVar": 40
   },
   "kernels_config": {
    "python": {
     "delete_cmd_postfix": "",
     "delete_cmd_prefix": "del ",
     "library": "var_list.py",
     "varRefreshCmd": "print(var_dic_list())"
    },
    "r": {
     "delete_cmd_postfix": ") ",
     "delete_cmd_prefix": "rm(",
     "library": "var_list.r",
     "varRefreshCmd": "cat(var_dic_list()) "
    }
   },
   "types_to_exclude": [
    "module",
    "function",
    "builtin_function_or_method",
    "instance",
    "_Feature"
   ],
   "window_display": false
  },
  "vscode": {
   "interpreter": {
    "hash": "292337e8e9747092192f4a1ef18b0951099c869b0f06eb7241460e1768f24923"
   }
  }
 },
 "nbformat": 4,
 "nbformat_minor": 5
}
