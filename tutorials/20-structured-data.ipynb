{
 "cells": [
  {
   "cell_type": "code",
   "execution_count": 2,
   "metadata": {},
   "outputs": [],
   "source": [
    "# Import dependencies\n",
    "import os\n",
    "import json"
   ]
  },
  {
   "cell_type": "code",
   "execution_count": 3,
   "metadata": {},
   "outputs": [
    {
     "name": "stdout",
     "output_type": "stream",
     "text": [
      "Note: you may need to restart the kernel to use updated packages.\n"
     ]
    },
    {
     "name": "stderr",
     "output_type": "stream",
     "text": [
      "/Users/hershdhillon23/projects/evadb/evadb-venv/lib/python3.9/site-packages/urllib3/__init__.py:34: NotOpenSSLWarning: urllib3 v2 only supports OpenSSL 1.1.1+, currently the 'ssl' module is compiled with 'LibreSSL 2.8.3'. See: https://github.com/urllib3/urllib3/issues/3020\n",
      "  warnings.warn(\n",
      "Downloading: \"http://ml.cs.tsinghua.edu.cn/~chenxi/pytorch-models/mnist-b07bb66b.pth\" to /Users/hershdhillon23/.cache/torch/hub/checkpoints/mnist-b07bb66b.pth\n",
      "100%|██████████| 1.03M/1.03M [00:01<00:00, 697kB/s] \n",
      "Downloading: \"https://download.pytorch.org/models/fasterrcnn_resnet50_fpn_coco-258fb6c6.pth\" to /Users/hershdhillon23/.cache/torch/hub/checkpoints/fasterrcnn_resnet50_fpn_coco-258fb6c6.pth\n"
     ]
    }
   ],
   "source": [
    "%pip install --quiet \"evadb[document,notebook]\"\n",
    "import evadb\n",
    "cursor = evadb.connect().cursor()"
   ]
  },
  {
   "cell_type": "code",
   "execution_count": 56,
   "metadata": {},
   "outputs": [],
   "source": [
    "# Set your OpenAI key as an environment variable\n",
    "import os\n",
    "#os.environ['OPENAI_API_KEY'] = ''\n",
    "open_ai_key = os.environ.get(\"OPENAI_API_KEY\", \"\")\n"
   ]
  },
  {
   "cell_type": "code",
   "execution_count": 77,
   "metadata": {},
   "outputs": [
    {
     "data": {
      "text/plain": [
       "<evadb.models.storage.batch.Batch at 0x176ef33d0>"
      ]
     },
     "execution_count": 77,
     "metadata": {},
     "output_type": "execute_result"
    }
   ],
   "source": [
    "# set up the extract columns UDF available at functions/extract_columns.py\n",
    "cursor.query(\"\"\"CREATE FUNCTION IF NOT EXISTS ExtractColumn\n",
    "            IMPL  '../evadb/functions/extract_column.py';\n",
    "                \"\"\").execute()"
   ]
  },
  {
   "cell_type": "code",
   "execution_count": 78,
   "metadata": {},
   "outputs": [
    {
     "name": "stdout",
     "output_type": "stream",
     "text": [
      "Empty DataFrame\n",
      "Columns: []\n",
      "Index: []\n"
     ]
    }
   ],
   "source": [
    "# # delete the table if it already exists\n",
    "cursor.query(\"\"\"DROP TABLE IF EXISTS InputUnstructured\n",
    "                \"\"\").execute()\n",
    "\n",
    "# create the table specifying the type of the prompt column\n",
    "cursor.query(\"\"\"CREATE TABLE IF NOT EXISTS InputUnstructured (\n",
    "             input_rows TEXT)\n",
    "                \"\"\").execute()\n",
    "\n",
    "table = cursor.query(\"SELECT * FROM InputUnstructured;\").df()\n",
    "print(table)"
   ]
  },
  {
   "cell_type": "code",
   "execution_count": 79,
   "metadata": {},
   "outputs": [],
   "source": [
    "input_rows_list = [\"The touch screen on my tablet stopped working for no reason.\",\n",
    "#                   \"Why does my computer take so long to start up? It's been like this for weeks.\",\n",
    "#                   \"My phone battery dies too quickly. I just bought it!\",\n",
    "                    \"My headphones won't connect to my phone anymore, even though they used to work just fine.\",\n",
    "                   \"The software update completely messed up my computer. Now nothing works properly.\"]\n",
    "\n",
    "for input_row in input_rows_list:\n",
    "    cursor.query(f\"\"\"INSERT INTO InputUnstructured (input_rows) VALUES (\"{input_row}\")\"\"\").execute()\n"
   ]
  },
  {
   "cell_type": "code",
   "execution_count": 80,
   "metadata": {},
   "outputs": [
    {
     "name": "stdout",
     "output_type": "stream",
     "text": [
      "   _row_id                                         input_rows\n",
      "0        1  The touch screen on my tablet stopped working ...\n",
      "1        2  My headphones won't connect to my phone anymor...\n",
      "2        3  The software update completely messed up my co...\n"
     ]
    }
   ],
   "source": [
    "table = cursor.query(\"SELECT * FROM InputUnstructured;\").df()\n",
    "print(table)"
   ]
  },
  {
   "cell_type": "code",
   "execution_count": 82,
   "metadata": {},
   "outputs": [
    {
     "name": "stdout",
     "output_type": "stream",
     "text": [
      "\n",
      "            You are given a user query. Your task is to extract the following fields from the query and return the result in string format.\n",
      "            IMPORTANT: RETURN ONLY THE EXTRACTED VALUE (one word or phrase). DO NOT RETURN THE FIELD NAME OR ANY OTHER INFORMATION.\n",
      "        \n",
      "\n",
      "            Extract the following fields from the unstructured text below:\n",
      "            \n",
      "            Format of the field is given in the format\n",
      "            Field Name: Field Description: Field Type\n",
      "            Issue Component: The component that is causing the issue: string less than 2 words\n",
      "\n",
      "            The unstructured text is as follows:\n",
      "        \n",
      "The touch screen on my tablet stopped working for no reason.\n",
      "My headphones won't connect to my phone anymore, even though they used to work just fine.\n",
      "The software update completely messed up my computer. Now nothing works properly.\n",
      "touch screen\n",
      "headphones, connect, phone, work, fine\n",
      "software update\n"
     ]
    }
   ],
   "source": [
    "table = cursor.query(\n",
    "        \"\"\"SELECT ExtractColumn(\"Issue Component\",\"The component that is causing the issue\", \"string less than 2 words\", input_rows) FROM InputUnstructured;\"\"\"\n",
    "    ).df()\n",
    "\n",
    "for _, row in table.iterrows():\n",
    "    print(row['response'])\n",
    "#print(table.iloc[1]['response'])"
   ]
  },
  {
   "cell_type": "code",
   "execution_count": null,
   "metadata": {},
   "outputs": [],
   "source": []
  }
 ],
 "metadata": {
  "kernelspec": {
   "display_name": "env",
   "language": "python",
   "name": "python3"
  },
  "language_info": {
   "codemirror_mode": {
    "name": "ipython",
    "version": 3
   },
   "file_extension": ".py",
   "mimetype": "text/x-python",
   "name": "python",
   "nbconvert_exporter": "python",
   "pygments_lexer": "ipython3",
   "version": "3.9.6"
  }
 },
 "nbformat": 4,
 "nbformat_minor": 2
}
