{
 "cells": [
  {
   "cell_type": "code",
   "execution_count": null,
   "metadata": {},
   "outputs": [],
   "source": [
    "# Import dependencies\n",
    "import os\n",
    "import json"
   ]
  },
  {
   "cell_type": "code",
   "execution_count": null,
   "metadata": {},
   "outputs": [],
   "source": [
    "%pip install --quiet \"evadb[document,notebook]\"\n",
    "import evadb\n",
    "cursor = evadb.connect().cursor()"
   ]
  },
  {
   "cell_type": "code",
   "execution_count": null,
   "metadata": {},
   "outputs": [],
   "source": [
    "# Set your OpenAI key as an environment variable\n",
    "import os\n",
    "#os.environ['OPENAI_API_KEY'] = ''\n",
    "open_ai_key = os.environ.get(\"OPENAI_API_KEY\", \"\")\n"
   ]
  },
  {
   "cell_type": "code",
   "execution_count": null,
   "metadata": {},
   "outputs": [],
   "source": [
    "# set up the extract columns UDF available at functions/extract_columns.py\n",
    "cursor.query(\"\"\"CREATE FUNCTION IF NOT EXISTS ExtractColumn\n",
    "            IMPL  '../evadb/functions/extract_column.py';\n",
    "                \"\"\").execute()"
   ]
  },
  {
   "cell_type": "code",
   "execution_count": null,
   "metadata": {},
   "outputs": [],
   "source": [
    "# # delete the table if it already exists\n",
    "cursor.query(\"\"\"DROP TABLE IF EXISTS InputUnstructured\n",
    "                \"\"\").execute()\n",
    "\n",
    "# create the table specifying the type of the prompt column\n",
    "cursor.query(\"\"\"CREATE TABLE IF NOT EXISTS InputUnstructured (\n",
    "             input_rows TEXT)\n",
    "                \"\"\").execute()"
   ]
  },
  {
   "cell_type": "code",
   "execution_count": null,
   "metadata": {},
   "outputs": [],
   "source": [
    "input_rows_list = [\"The touch screen on my tablet stopped working for no reason.\",\n",
    "                    \"Why does my computer take so long to start up? It's been like this for weeks.\",\n",
    "                    \"My phone battery dies too quickly. I just bought it!\",\n",
    "                    \"My headphones won't connect to my phone anymore, even though they used to work just fine.\",\n",
    "                    \"The software update completely messed up my computer. Now nothing works properly.\"]\n",
    "\n",
    "for input_row in input_rows_list:\n",
    "    cursor.query(f\"\"\"INSERT INTO InputUnstructured (input_rows) VALUES (\"{input_row}\")\"\"\").execute()\n"
   ]
  },
  {
   "cell_type": "code",
   "execution_count": null,
   "metadata": {},
   "outputs": [],
   "source": [
    "table = cursor.query(\"SELECT * FROM InputUnstructured;\").df()"
   ]
  },
  {
   "cell_type": "code",
   "execution_count": null,
   "metadata": {},
   "outputs": [],
   "source": [
    "table = cursor.query(\n",
    "        \"\"\"SELECT ExtractColumn(\"Issue Component\",\"The component that is causing the issue\", \"string less than 2 words\", input_rows) FROM InputUnstructured;\"\"\"\n",
    "    ).df()\n",
    "\n",
    "for _, row in table.iterrows():\n",
    "    print(row['response'])"
   ]
  },
  {
   "cell_type": "code",
   "execution_count": null,
   "metadata": {},
   "outputs": [],
   "source": []
  }
 ],
 "metadata": {
  "kernelspec": {
   "display_name": "env",
   "language": "python",
   "name": "python3"
  },
  "language_info": {
   "codemirror_mode": {
    "name": "ipython",
    "version": 3
   },
   "file_extension": ".py",
   "mimetype": "text/x-python",
   "name": "python",
   "nbconvert_exporter": "python",
   "pygments_lexer": "ipython3",
   "version": "3.9.6"
  }
 },
 "nbformat": 4,
 "nbformat_minor": 2
}
