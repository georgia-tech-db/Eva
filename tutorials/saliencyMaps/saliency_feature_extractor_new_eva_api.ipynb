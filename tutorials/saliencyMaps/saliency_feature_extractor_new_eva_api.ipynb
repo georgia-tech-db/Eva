{
 "cells": [
  {
   "cell_type": "code",
   "execution_count": 1,
   "metadata": {},
   "outputs": [],
   "source": [
    "from unittest.mock import AsyncMock\n",
    "from eva.configuration.constants import EVA_ROOT_DIR\n",
    "from eva.interfaces.relational.db import EVACursor\n",
    "connection = AsyncMock()\n",
    "cursor = EVACursor(connection)"
   ]
  },
  {
   "cell_type": "code",
   "execution_count": 4,
   "metadata": {},
   "outputs": [],
   "source": [
    "# !wget -nc \"https://www.dropbox.com/s/cnsgyitrtw40lgs/model.pth\""
   ]
  },
  {
   "cell_type": "code",
   "execution_count": 2,
   "metadata": {},
   "outputs": [
    {
     "name": "stderr",
     "output_type": "stream",
     "text": [
      "06-01-2023 23:34:43 WARNING[drop_executor:drop_executor.py:exec:0046] Table: SALIENCY does not exist\n"
     ]
    },
    {
     "data": {
      "text/plain": [
       "<eva.models.storage.batch.Batch at 0x7fa3c21cad30>"
      ]
     },
     "execution_count": 2,
     "metadata": {},
     "output_type": "execute_result"
    }
   ],
   "source": [
    "table_check = cursor.query(\"DROP TABLE IF EXISTS SALIENCY;\")\n",
    "table_check.execute()\n",
    "load_pdf1 = cursor.load(file_regex=f'{EVA_ROOT_DIR}/data/saliency/test1.jpeg', format=\"IMAGE\", table_name=\"SALIENCY\")\n",
    "load_pdf1.execute()\n",
    "load_pdf2 = cursor.load(file_regex=f'{EVA_ROOT_DIR}/data/saliency/test2.jpeg', format=\"IMAGE\", table_name=\"SALIENCY\")\n",
    "load_pdf2.execute()"
   ]
  },
  {
   "cell_type": "code",
   "execution_count": 3,
   "metadata": {},
   "outputs": [
    {
     "name": "stderr",
     "output_type": "stream",
     "text": [
      "06-01-2023 23:34:46 WARNING[drop_udf_executor:drop_udf_executor.py:exec:0040] UDF SimilarityFeatureExtractor does not exist, therefore cannot be dropped.\n",
      "/Users/vivekmandal/Desktop/Vivek/Final Eva/eva/test_eva_db/lib/python3.9/site-packages/torchvision/models/_utils.py:208: UserWarning: The parameter 'pretrained' is deprecated since 0.13 and may be removed in the future, please use 'weights' instead.\n",
      "  warnings.warn(\n",
      "/Users/vivekmandal/Desktop/Vivek/Final Eva/eva/test_eva_db/lib/python3.9/site-packages/torchvision/models/_utils.py:223: UserWarning: Arguments other than a weight enum or `None` for 'weights' are deprecated since 0.13 and may be removed in the future. The current behavior is equivalent to passing `weights=ResNet18_Weights.IMAGENET1K_V1`. You can also use `weights=ResNet18_Weights.DEFAULT` to get the most up-to-date weights.\n",
      "  warnings.warn(msg)\n"
     ]
    },
    {
     "data": {
      "text/plain": [
       "<eva.models.storage.batch.Batch at 0x7fa3b0ec1250>"
      ]
     },
     "execution_count": 3,
     "metadata": {},
     "output_type": "execute_result"
    }
   ],
   "source": [
    "udf_check = cursor.query(\"DROP UDF IF  EXISTS SimilarityFeatureExtractor\")\n",
    "udf_check.execute()\n",
    "udf = cursor.query(\n",
    "    f\"\"\"CREATE UDF IF NOT EXISTS SaliencyFeatureExtractor\n",
    "                    IMPL  '{EVA_ROOT_DIR}/eva/udfs/saliency_feature_extractor.py';\n",
    "        \"\"\"\n",
    ")\n",
    "udf.execute()"
   ]
  },
  {
   "cell_type": "code",
   "execution_count": 4,
   "metadata": {},
   "outputs": [
    {
     "name": "stderr",
     "output_type": "stream",
     "text": [
      "/Users/vivekmandal/Desktop/Vivek/Final Eva/eva/test_eva_db/lib/python3.9/site-packages/torchvision/models/_utils.py:208: UserWarning: The parameter 'pretrained' is deprecated since 0.13 and may be removed in the future, please use 'weights' instead.\n",
      "  warnings.warn(\n",
      "/Users/vivekmandal/Desktop/Vivek/Final Eva/eva/test_eva_db/lib/python3.9/site-packages/torchvision/models/_utils.py:223: UserWarning: Arguments other than a weight enum or `None` for 'weights' are deprecated since 0.13 and may be removed in the future. The current behavior is equivalent to passing `weights=ResNet18_Weights.IMAGENET1K_V1`. You can also use `weights=ResNet18_Weights.DEFAULT` to get the most up-to-date weights.\n",
      "  warnings.warn(msg)\n"
     ]
    },
    {
     "data": {
      "text/html": [
       "<div>\n",
       "<style scoped>\n",
       "    .dataframe tbody tr th:only-of-type {\n",
       "        vertical-align: middle;\n",
       "    }\n",
       "\n",
       "    .dataframe tbody tr th {\n",
       "        vertical-align: top;\n",
       "    }\n",
       "\n",
       "    .dataframe thead th {\n",
       "        text-align: right;\n",
       "    }\n",
       "</style>\n",
       "<table border=\"1\" class=\"dataframe\">\n",
       "  <thead>\n",
       "    <tr style=\"text-align: right;\">\n",
       "      <th></th>\n",
       "      <th>saliency._row_id</th>\n",
       "      <th>saliency.name</th>\n",
       "      <th>saliency.data</th>\n",
       "      <th>objs.saliency</th>\n",
       "    </tr>\n",
       "  </thead>\n",
       "  <tbody>\n",
       "    <tr>\n",
       "      <th>0</th>\n",
       "      <td>1</td>\n",
       "      <td>/Users/vivekmandal/Desktop/Vivek/Final Eva/eva...</td>\n",
       "      <td>[[[0, 0, 0], [0, 0, 0], [0, 0, 0], [0, 0, 0], ...</td>\n",
       "      <td>[[[tensor(0.0202), tensor(0.0252), tensor(0.01...</td>\n",
       "    </tr>\n",
       "    <tr>\n",
       "      <th>1</th>\n",
       "      <td>2</td>\n",
       "      <td>/Users/vivekmandal/Desktop/Vivek/Final Eva/eva...</td>\n",
       "      <td>[[[30, 31, 13], [33, 34, 16], [33, 34, 20], [4...</td>\n",
       "      <td>[[[tensor(0.0033), tensor(0.0050), tensor(0.00...</td>\n",
       "    </tr>\n",
       "  </tbody>\n",
       "</table>\n",
       "</div>"
      ],
      "text/plain": [
       "   saliency._row_id                                      saliency.name   \n",
       "0                 1  /Users/vivekmandal/Desktop/Vivek/Final Eva/eva...  \\\n",
       "1                 2  /Users/vivekmandal/Desktop/Vivek/Final Eva/eva...   \n",
       "\n",
       "                                       saliency.data   \n",
       "0  [[[0, 0, 0], [0, 0, 0], [0, 0, 0], [0, 0, 0], ...  \\\n",
       "1  [[[30, 31, 13], [33, 34, 16], [33, 34, 20], [4...   \n",
       "\n",
       "                                       objs.saliency  \n",
       "0  [[[tensor(0.0202), tensor(0.0252), tensor(0.01...  \n",
       "1  [[[tensor(0.0033), tensor(0.0050), tensor(0.00...  "
      ]
     },
     "execution_count": 4,
     "metadata": {},
     "output_type": "execute_result"
    }
   ],
   "source": [
    "table = cursor.table(\"SALIENCY\")\n",
    "table_udf = table.cross_apply(\n",
    "            \"SaliencyFeatureExtractor(data)\", \"objs(saliency)\"\n",
    "        )\n",
    "table_udf.df()"
   ]
  },
  {
   "cell_type": "code",
   "execution_count": null,
   "metadata": {},
   "outputs": [],
   "source": []
  }
 ],
 "metadata": {
  "kernelspec": {
   "display_name": "test_eva_db",
   "language": "python",
   "name": "python3"
  },
  "language_info": {
   "codemirror_mode": {
    "name": "ipython",
    "version": 3
   },
   "file_extension": ".py",
   "mimetype": "text/x-python",
   "name": "python",
   "nbconvert_exporter": "python",
   "pygments_lexer": "ipython3",
   "version": "3.9.12"
  },
  "orig_nbformat": 4
 },
 "nbformat": 4,
 "nbformat_minor": 2
}
