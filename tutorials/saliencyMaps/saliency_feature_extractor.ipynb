{
 "cells": [
  {
   "cell_type": "code",
   "execution_count": 2,
   "metadata": {},
   "outputs": [],
   "source": [
    "from eva.server.db_api import connect\n",
    "import nest_asyncio\n",
    "nest_asyncio.apply()\n",
    "cursor = connect(host=\"127.0.0.1\", port=8803).cursor()"
   ]
  },
  {
   "cell_type": "code",
   "execution_count": 3,
   "metadata": {},
   "outputs": [],
   "source": [
    "# !wget -nc \"https://www.dropbox.com/s/cnsgyitrtw40lgs/model.pth?dl=0\""
   ]
  },
  {
   "cell_type": "code",
   "execution_count": 5,
   "metadata": {},
   "outputs": [
    {
     "name": "stdout",
     "output_type": "stream",
     "text": [
      "@status: ResponseStatus.SUCCESS\n",
      "@batch: \n",
      "                                       0\n",
      "0  Table Successfully dropped: SALIENCY\n",
      "@query_time: 0.05528937500000097\n",
      "@status: ResponseStatus.SUCCESS\n",
      "@batch: \n",
      "                            0\n",
      "0  Number of loaded IMAGE: 1\n",
      "@query_time: 0.08377341599999966\n",
      "@status: ResponseStatus.SUCCESS\n",
      "@batch: \n",
      "                            0\n",
      "0  Number of loaded IMAGE: 1\n",
      "@query_time: 0.02866383300000308\n"
     ]
    }
   ],
   "source": [
    "cursor.execute(\"DROP TABLE IF EXISTS SALIENCY;\")\n",
    "response = cursor.fetch_all()\n",
    "print(response)\n",
    "cursor.execute(\"LOAD IMAGE 'data/saliency/test1.jpeg' INTO SALIENCY;\")\n",
    "response = cursor.fetch_all()\n",
    "print(response)\n",
    "cursor.execute(\"LOAD IMAGE 'data/saliency/test2.jpeg' INTO SALIENCY;\")\n",
    "response = cursor.fetch_all()\n",
    "print(response)"
   ]
  },
  {
   "cell_type": "code",
   "execution_count": 6,
   "metadata": {},
   "outputs": [
    {
     "data": {
      "text/html": [
       "<div>\n",
       "<style scoped>\n",
       "    .dataframe tbody tr th:only-of-type {\n",
       "        vertical-align: middle;\n",
       "    }\n",
       "\n",
       "    .dataframe tbody tr th {\n",
       "        vertical-align: top;\n",
       "    }\n",
       "\n",
       "    .dataframe thead th {\n",
       "        text-align: right;\n",
       "    }\n",
       "</style>\n",
       "<table border=\"1\" class=\"dataframe\">\n",
       "  <thead>\n",
       "    <tr style=\"text-align: right;\">\n",
       "      <th></th>\n",
       "      <th>0</th>\n",
       "    </tr>\n",
       "  </thead>\n",
       "  <tbody>\n",
       "    <tr>\n",
       "      <th>0</th>\n",
       "      <td>UDF SaliencyFeatureExtractor successfully adde...</td>\n",
       "    </tr>\n",
       "  </tbody>\n",
       "</table>\n",
       "</div>"
      ],
      "text/plain": [
       "                                                   0\n",
       "0  UDF SaliencyFeatureExtractor successfully adde..."
      ]
     },
     "execution_count": 6,
     "metadata": {},
     "output_type": "execute_result"
    }
   ],
   "source": [
    "cursor.execute(\"\"\"DROP UDF IF  EXISTS SaliencyFeatureExtractor\n",
    "        \"\"\").fetch_all().as_df()\n",
    "cursor.execute(\"\"\"CREATE UDF IF NOT EXISTS SaliencyFeatureExtractor\n",
    "                    IMPL  'eva/udfs/saliency_feature_extractor.py';\n",
    "        \"\"\").fetch_all().as_df()"
   ]
  },
  {
   "cell_type": "code",
   "execution_count": 7,
   "metadata": {},
   "outputs": [
    {
     "data": {
      "text/html": [
       "<div>\n",
       "<style scoped>\n",
       "    .dataframe tbody tr th:only-of-type {\n",
       "        vertical-align: middle;\n",
       "    }\n",
       "\n",
       "    .dataframe tbody tr th {\n",
       "        vertical-align: top;\n",
       "    }\n",
       "\n",
       "    .dataframe thead th {\n",
       "        text-align: right;\n",
       "    }\n",
       "</style>\n",
       "<table border=\"1\" class=\"dataframe\">\n",
       "  <thead>\n",
       "    <tr style=\"text-align: right;\">\n",
       "      <th></th>\n",
       "      <th>saliency.data</th>\n",
       "      <th>saliencyfeatureextractor.saliency</th>\n",
       "    </tr>\n",
       "  </thead>\n",
       "  <tbody>\n",
       "    <tr>\n",
       "      <th>0</th>\n",
       "      <td>[[[0, 0, 0], [0, 0, 0], [0, 0, 0], [0, 0, 0], ...</td>\n",
       "      <td>[[[tensor(0.0020), tensor(0.0017), tensor(0.00...</td>\n",
       "    </tr>\n",
       "    <tr>\n",
       "      <th>1</th>\n",
       "      <td>[[[30, 31, 13], [33, 34, 16], [33, 34, 20], [4...</td>\n",
       "      <td>[[[tensor(0.0033), tensor(0.0036), tensor(0.00...</td>\n",
       "    </tr>\n",
       "  </tbody>\n",
       "</table>\n",
       "</div>"
      ],
      "text/plain": [
       "                                       saliency.data   \n",
       "0  [[[0, 0, 0], [0, 0, 0], [0, 0, 0], [0, 0, 0], ...  \\\n",
       "1  [[[30, 31, 13], [33, 34, 16], [33, 34, 20], [4...   \n",
       "\n",
       "                   saliencyfeatureextractor.saliency  \n",
       "0  [[[tensor(0.0020), tensor(0.0017), tensor(0.00...  \n",
       "1  [[[tensor(0.0033), tensor(0.0036), tensor(0.00...  "
      ]
     },
     "execution_count": 7,
     "metadata": {},
     "output_type": "execute_result"
    }
   ],
   "source": [
    "cursor.execute(\"\"\"SELECT data, SaliencyFeatureExtractor(data)\n",
    "                  FROM SALIENCY\n",
    "        \"\"\").fetch_all().as_df()"
   ]
  },
  {
   "cell_type": "code",
   "execution_count": 8,
   "metadata": {},
   "outputs": [
    {
     "data": {
      "text/html": [
       "<div>\n",
       "<style scoped>\n",
       "    .dataframe tbody tr th:only-of-type {\n",
       "        vertical-align: middle;\n",
       "    }\n",
       "\n",
       "    .dataframe tbody tr th {\n",
       "        vertical-align: top;\n",
       "    }\n",
       "\n",
       "    .dataframe thead th {\n",
       "        text-align: right;\n",
       "    }\n",
       "</style>\n",
       "<table border=\"1\" class=\"dataframe\">\n",
       "  <thead>\n",
       "    <tr style=\"text-align: right;\">\n",
       "      <th></th>\n",
       "      <th>saliency._row_id</th>\n",
       "      <th>saliency.name</th>\n",
       "      <th>saliency.data</th>\n",
       "    </tr>\n",
       "  </thead>\n",
       "  <tbody>\n",
       "    <tr>\n",
       "      <th>0</th>\n",
       "      <td>1</td>\n",
       "      <td>data/saliency/test1.jpeg</td>\n",
       "      <td>[[[0, 0, 0], [0, 0, 0], [0, 0, 0], [0, 0, 0], ...</td>\n",
       "    </tr>\n",
       "    <tr>\n",
       "      <th>1</th>\n",
       "      <td>2</td>\n",
       "      <td>data/saliency/test2.jpeg</td>\n",
       "      <td>[[[30, 31, 13], [33, 34, 16], [33, 34, 20], [4...</td>\n",
       "    </tr>\n",
       "  </tbody>\n",
       "</table>\n",
       "</div>"
      ],
      "text/plain": [
       "   saliency._row_id             saliency.name   \n",
       "0                 1  data/saliency/test1.jpeg  \\\n",
       "1                 2  data/saliency/test2.jpeg   \n",
       "\n",
       "                                       saliency.data  \n",
       "0  [[[0, 0, 0], [0, 0, 0], [0, 0, 0], [0, 0, 0], ...  \n",
       "1  [[[30, 31, 13], [33, 34, 16], [33, 34, 20], [4...  "
      ]
     },
     "execution_count": 8,
     "metadata": {},
     "output_type": "execute_result"
    }
   ],
   "source": [
    "cursor.execute(\"\"\"SELECT *\n",
    "                  FROM SALIENCY\n",
    "        \"\"\").fetch_all().as_df()"
   ]
  },
  {
   "cell_type": "code",
   "execution_count": null,
   "metadata": {},
   "outputs": [],
   "source": []
  }
 ],
 "metadata": {
  "kernelspec": {
   "display_name": "test_eva_db",
   "language": "python",
   "name": "python3"
  },
  "language_info": {
   "codemirror_mode": {
    "name": "ipython",
    "version": 3
   },
   "file_extension": ".py",
   "mimetype": "text/x-python",
   "name": "python",
   "nbconvert_exporter": "python",
   "pygments_lexer": "ipython3",
   "version": "3.9.12"
  },
  "orig_nbformat": 4
 },
 "nbformat": 4,
 "nbformat_minor": 2
}
