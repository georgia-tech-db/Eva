{
  "cells": [
    {
      "cell_type": "code",
      "execution_count": 12,
      "metadata": {
        "colab": {
          "base_uri": "https://localhost:8080/"
        },
        "id": "xaqSm-DUgN3c",
        "outputId": "0b8fb001-bea9-4070-9bb2-59388c0648cb"
      },
      "outputs": [],
      "source": [
        "# !wget -nc \"https://www.dropbox.com/s/cnsgyitrtw40lgs/model.pth?dl=0\"\n"
      ]
    },
    {
      "cell_type": "code",
      "execution_count": 1,
      "metadata": {},
      "outputs": [],
      "source": [
        "from eva.server.db_api import connect\n",
        "import nest_asyncio\n",
        "nest_asyncio.apply()\n",
        "cursor = connect(host=\"127.0.0.1\", port=8803).cursor()"
      ]
    },
    {
      "cell_type": "code",
      "execution_count": 2,
      "metadata": {
        "colab": {
          "base_uri": "https://localhost:8080/"
        },
        "id": "tL9hLo2ug52e",
        "outputId": "9e01f4be-e5cc-429b-e016-814da5cca05d"
      },
      "outputs": [
        {
          "name": "stdout",
          "output_type": "stream",
          "text": [
            "@status: ResponseStatus.SUCCESS\n",
            "@batch: \n",
            "                                       0\n",
            "0  Table Successfully dropped: SALIENCY\n",
            "@query_time: 0.14173112499999974\n",
            "@status: ResponseStatus.SUCCESS\n",
            "@batch: \n",
            "                            0\n",
            "0  Number of loaded IMAGE: 1\n",
            "@query_time: 3.684535208\n",
            "@status: ResponseStatus.SUCCESS\n",
            "@batch: \n",
            "                            0\n",
            "0  Number of loaded IMAGE: 1\n",
            "@query_time: 0.025982166999998668\n"
          ]
        }
      ],
      "source": [
        "cursor.execute(\"DROP TABLE IF EXISTS SALIENCY;\")\n",
        "response = cursor.fetch_all()\n",
        "print(response)\n",
        "cursor.execute(\"LOAD IMAGE 'data/saliency/test2.jpeg' INTO SALIENCY;\")\n",
        "response = cursor.fetch_all()\n",
        "print(response)\n",
        "cursor.execute(\"LOAD IMAGE 'data/saliency/test1.jpeg' INTO SALIENCY;\")\n",
        "response = cursor.fetch_all()\n",
        "print(response)"
      ]
    },
    {
      "cell_type": "code",
      "execution_count": 3,
      "metadata": {},
      "outputs": [
        {
          "name": "stdout",
          "output_type": "stream",
          "text": [
            "@status: ResponseStatus.SUCCESS\n",
            "@batch: \n",
            "                                        0\n",
            "0  UDF SaliencyMaps successfully dropped\n",
            "@query_time: 0.02921800000000019\n",
            "@status: ResponseStatus.SUCCESS\n",
            "@batch: \n",
            "                                                       0\n",
            "0  UDF SaliencyMaps successfully added to the database.\n",
            "@query_time: 0.6207287910000048\n"
          ]
        }
      ],
      "source": [
        "cursor.execute(\"\"\"DROP UDF IF EXISTS SaliencyMaps;\"\"\")\n",
        "response = cursor.fetch_all()\n",
        "print(response)\n",
        "\n",
        "cursor.execute(\"\"\"\n",
        "CREATE UDF SaliencyMaps\n",
        "IMPL  'eva/udfs/SaliencyMaps.py';\n",
        "\"\"\"\n",
        ")\n",
        "response = cursor.fetch_all()\n",
        "print(response)"
      ]
    },
    {
      "cell_type": "code",
      "execution_count": 4,
      "metadata": {},
      "outputs": [
        {
          "name": "stdout",
          "output_type": "stream",
          "text": [
            "   saliency._row_id             saliency.name   \n",
            "0                 1  data/saliency/test2.jpeg  \\\n",
            "1                 2  data/saliency/test1.jpeg   \n",
            "\n",
            "                                                                                         saliency.data  \n",
            "0  [[[30 31 13]\\n [33 34 16]\\n [33 34 20]\\n [41 42 28]\\n [29 29 17]\\n [32 32 20]\\n [22 22 12]\\n [35...  \n",
            "1  [[[0 0 0]\\n [0 0 0]\\n [0 0 0]\\n [0 0 0]\\n [0 0 0]\\n [0 0 0]\\n [0 0 0]\\n [0 0 0]\\n [0 0 0]\\n [0 0...  \n"
          ]
        }
      ],
      "source": [
        "\n",
        "cursor.execute(\"\"\"SELECT *\n",
        "                  FROM SALIENCY\n",
        "                  \"\"\")\n",
        "response = cursor.fetch_all()\n",
        "print(response.batch)"
      ]
    },
    {
      "cell_type": "code",
      "execution_count": 5,
      "metadata": {},
      "outputs": [
        {
          "name": "stdout",
          "output_type": "stream",
          "text": [
            "None\n"
          ]
        }
      ],
      "source": [
        "\n",
        "cursor.execute(\"\"\"SELECT SaliencyMaps(data)\n",
        "                  FROM SALIENCY\n",
        "                  \"\"\")\n",
        "response = cursor.fetch_all()\n",
        "print(response.batch)"
      ]
    },
    {
      "cell_type": "code",
      "execution_count": 3,
      "metadata": {
        "colab": {
          "base_uri": "https://localhost:8080/"
        },
        "id": "VfWK6vlXhPzd",
        "outputId": "c0d781a4-7613-4015-c615-7c38dc9fe408"
      },
      "outputs": [],
      "source": [
        "cursor.execute(\"\"\"SELECT data, SaliencyMaps(data)\n",
        "                  FROM SALIENCY\n",
        "                  \"\"\")\n",
        "response = cursor.fetch_all()\n",
        "print(response.batch)"
      ]
    }
  ],
  "metadata": {
    "colab": {
      "provenance": []
    },
    "kernelspec": {
      "display_name": "Python 3",
      "language": "python",
      "name": "python3"
    },
    "language_info": {
      "codemirror_mode": {
        "name": "ipython",
        "version": 3
      },
      "file_extension": ".py",
      "mimetype": "text/x-python",
      "name": "python",
      "nbconvert_exporter": "python",
      "pygments_lexer": "ipython3",
      "version": "3.9.12"
    },
    "vscode": {
      "interpreter": {
        "hash": "aee8b7b246df8f9039afb4144a1f6fd8d2ca17a180786b69acc140d282b71a49"
      }
    }
  },
  "nbformat": 4,
  "nbformat_minor": 0
}
