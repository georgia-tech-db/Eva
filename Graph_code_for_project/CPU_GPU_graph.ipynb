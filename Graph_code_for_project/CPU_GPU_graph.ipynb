{
  "nbformat": 4,
  "nbformat_minor": 0,
  "metadata": {
    "colab": {
      "provenance": []
    },
    "kernelspec": {
      "name": "python3",
      "display_name": "Python 3"
    },
    "language_info": {
      "name": "python"
    },
    "accelerator": "GPU",
    "gpuClass": "standard"
  },
  "cells": [
    {
      "cell_type": "markdown",
      "source": [
        "## Default runtime is CPU\n",
        "## Runtime-> Change runtime type to use GPU in colab\n",
        "gpu will improve the query performance, but may hurt the cachetable performance(cache table computing is using cpu(numpy array))\n",
        "\n",
        "replace ua_detrac.mp4 with proper camera trap videos if you want to test this Deep Learning Classification Model(AnimalDetectorPlus)"
      ],
      "metadata": {
        "id": "48iCpsVFxYCc"
      }
    },
    {
      "cell_type": "code",
      "execution_count": null,
      "metadata": {
        "colab": {
          "base_uri": "https://localhost:8080/"
        },
        "id": "GIXTNho-nabB",
        "outputId": "92bb464a-f27f-430e-882c-e92d8958bd31"
      },
      "outputs": [
        {
          "output_type": "stream",
          "name": "stdout",
          "text": [
            "please skip cell 1, because evadb is already installed in this server\n"
          ]
        }
      ],
      "source": [
        "import os.path\n",
        "EVA_PATH = '/content/eva'\n",
        "if os.path.exists(EVA_PATH):\n",
        "  print('please skip cell 1, because evadb is already installed in this server')\n",
        "else:\n",
        "  print('please run cell 1 to install evadb')"
      ]
    },
    {
      "cell_type": "code",
      "source": [
        "!git clone https://github.com/sashiko-345/eva.git\n",
        "%cd eva\n",
        "!pip install --upgrade pip\n",
        "!sudo -E apt install -y openjdk-11-jdk openjdk-11-jre \n",
        "!sh script/antlr4/generate_parser.sh \n",
        "!pip install -e \".[dev]\""
      ],
      "metadata": {
        "colab": {
          "base_uri": "https://localhost:8080/"
        },
        "id": "qdfixvk6nfVN",
        "outputId": "c324c00d-9c18-48d2-ae75-7da9dd527cc5"
      },
      "execution_count": null,
      "outputs": [
        {
          "output_type": "stream",
          "name": "stdout",
          "text": [
            "fatal: destination path 'eva' already exists and is not an empty directory.\n",
            "/content/eva\n",
            "Looking in indexes: https://pypi.org/simple, https://us-python.pkg.dev/colab-wheels/public/simple/\n",
            "Requirement already satisfied: pip in /usr/local/lib/python3.8/dist-packages (22.3.1)\n",
            "\u001b[33mWARNING: Running pip as the 'root' user can result in broken permissions and conflicting behaviour with the system package manager. It is recommended to use a virtual environment instead: https://pip.pypa.io/warnings/venv\u001b[0m\u001b[33m\n",
            "Reading package lists... Done\n",
            "Building dependency tree       \n",
            "Reading state information... Done\n",
            "openjdk-11-jdk is already the newest version (11.0.17+8-1ubuntu2~18.04).\n",
            "openjdk-11-jre is already the newest version (11.0.17+8-1ubuntu2~18.04).\n",
            "The following package was automatically installed and is no longer required:\n",
            "  libnvidia-common-460\n",
            "Use 'sudo apt autoremove' to remove it.\n",
            "0 upgraded, 0 newly installed, 0 to remove and 7 not upgraded.\n",
            "--2022-12-05 02:28:33--  https://www.antlr.org/download/antlr-4.10.1-complete.jar\n",
            "Resolving www.antlr.org (www.antlr.org)... 185.199.108.153, 185.199.109.153, 185.199.110.153, ...\n",
            "Connecting to www.antlr.org (www.antlr.org)|185.199.108.153|:443... connected.\n",
            "HTTP request sent, awaiting response... 200 OK\n",
            "Length: 3466412 (3.3M) [application/java-archive]\n",
            "Saving to: ‘antlr-4.10.1-complete.jar’\n",
            "\n",
            "antlr-4.10.1-comple 100%[===================>]   3.31M  --.-KB/s    in 0.07s   \n",
            "\n",
            "2022-12-05 02:28:33 (45.5 MB/s) - ‘antlr-4.10.1-complete.jar’ saved [3466412/3466412]\n",
            "\n",
            "Looking in indexes: https://pypi.org/simple, https://us-python.pkg.dev/colab-wheels/public/simple/\n",
            "Obtaining file:///content/eva\n",
            "  Installing build dependencies ... \u001b[?25l\u001b[?25hdone\n",
            "  Checking if build backend supports build_editable ... \u001b[?25l\u001b[?25hdone\n",
            "  Getting requirements to build editable ... \u001b[?25l\u001b[?25hdone\n",
            "  Preparing editable metadata (pyproject.toml) ... \u001b[?25l\u001b[?25hdone\n",
            "Requirement already satisfied: torchvision>=0.11.1 in /usr/local/lib/python3.8/dist-packages (from evadb==0.0.12) (0.13.1+cu113)\n",
            "Requirement already satisfied: pandas>=1.1.5 in /usr/local/lib/python3.8/dist-packages (from evadb==0.0.12) (1.3.5)\n",
            "Requirement already satisfied: petastorm==0.12.0 in /usr/local/lib/python3.8/dist-packages (from evadb==0.0.12) (0.12.0)\n",
            "Requirement already satisfied: numpy>=1.19.5 in /usr/local/lib/python3.8/dist-packages (from evadb==0.0.12) (1.21.6)\n",
            "Requirement already satisfied: opencv-python!=4.6.0.66,>=4.5.4.60 in /usr/local/lib/python3.8/dist-packages (from evadb==0.0.12) (4.5.5.64)\n",
            "Requirement already satisfied: lark>=1.0.0 in /usr/local/lib/python3.8/dist-packages (from evadb==0.0.12) (1.1.4)\n",
            "Requirement already satisfied: torch>=1.10.0 in /usr/local/lib/python3.8/dist-packages (from evadb==0.0.12) (1.12.1+cu113)\n",
            "Requirement already satisfied: pyyaml<5.2,>=5.1 in /usr/local/lib/python3.8/dist-packages (from evadb==0.0.12) (5.1.2)\n",
            "Requirement already satisfied: ray>=1.13.0 in /usr/local/lib/python3.8/dist-packages (from evadb==0.0.12) (2.1.0)\n",
            "Requirement already satisfied: Pillow>=8.4.0 in /usr/local/lib/python3.8/dist-packages (from evadb==0.0.12) (9.3.0)\n",
            "Requirement already satisfied: sqlalchemy==1.3.20 in /usr/local/lib/python3.8/dist-packages (from evadb==0.0.12) (1.3.20)\n",
            "Requirement already satisfied: sqlalchemy-utils>=0.36.6 in /usr/local/lib/python3.8/dist-packages (from evadb==0.0.12) (0.38.3)\n",
            "Requirement already satisfied: antlr4-python3-runtime==4.10 in /usr/local/lib/python3.8/dist-packages (from evadb==0.0.12) (4.10)\n",
            "Requirement already satisfied: importlib-metadata<5.0 in /usr/local/lib/python3.8/dist-packages (from evadb==0.0.12) (4.13.0)\n",
            "Requirement already satisfied: facenet-pytorch>=2.5.2 in /usr/local/lib/python3.8/dist-packages (from evadb==0.0.12) (2.5.2)\n",
            "Requirement already satisfied: easyocr>=1.5.0 in /usr/local/lib/python3.8/dist-packages (from evadb==0.0.12) (1.6.2)\n",
            "Requirement already satisfied: nest-asyncio>=1.5.6 in /usr/local/lib/python3.8/dist-packages (from evadb==0.0.12) (1.5.6)\n",
            "Requirement already satisfied: pytest-cov>=2.11.1 in /usr/local/lib/python3.8/dist-packages (from evadb==0.0.12) (4.0.0)\n",
            "Requirement already satisfied: ipywidgets>=7.7.2 in /usr/local/lib/python3.8/dist-packages (from evadb==0.0.12) (8.0.2)\n",
            "Requirement already satisfied: isort>=5.10.1 in /usr/local/lib/python3.8/dist-packages (from evadb==0.0.12) (5.10.1)\n",
            "Requirement already satisfied: coveralls>=3.0.1 in /usr/local/lib/python3.8/dist-packages (from evadb==0.0.12) (3.3.1)\n",
            "Requirement already satisfied: flake8>=3.9.1 in /usr/local/lib/python3.8/dist-packages (from evadb==0.0.12) (6.0.0)\n",
            "Requirement already satisfied: pytest>=6.1.2 in /usr/local/lib/python3.8/dist-packages (from evadb==0.0.12) (7.2.0)\n",
            "Requirement already satisfied: pymysql>=0.10.1 in /usr/local/lib/python3.8/dist-packages (from evadb==0.0.12) (1.0.2)\n",
            "Requirement already satisfied: black>=22.6.0 in /usr/local/lib/python3.8/dist-packages (from evadb==0.0.12) (22.10.0)\n",
            "Requirement already satisfied: nbmake>=1.2.1 in /usr/local/lib/python3.8/dist-packages (from evadb==0.0.12) (1.3.5)\n",
            "Requirement already satisfied: scriv>=0.16.0 in /usr/local/lib/python3.8/dist-packages (from evadb==0.0.12) (1.0.0)\n",
            "Requirement already satisfied: mock>=4.0.3 in /usr/local/lib/python3.8/dist-packages (from evadb==0.0.12) (4.0.3)\n",
            "Requirement already satisfied: matplotlib>=3.3.4 in /usr/local/lib/python3.8/dist-packages (from evadb==0.0.12) (3.6.2)\n",
            "Requirement already satisfied: wheel>=0.37.1 in /usr/local/lib/python3.8/dist-packages (from evadb==0.0.12) (0.38.4)\n",
            "Requirement already satisfied: pytest-virtualenv in /usr/local/lib/python3.8/dist-packages (from evadb==0.0.12) (1.7.0)\n",
            "Requirement already satisfied: fsspec in /usr/local/lib/python3.8/dist-packages (from petastorm==0.12.0->evadb==0.0.12) (2022.11.0)\n",
            "Requirement already satisfied: diskcache>=3.0.0 in /usr/local/lib/python3.8/dist-packages (from petastorm==0.12.0->evadb==0.0.12) (5.4.0)\n",
            "Requirement already satisfied: pyarrow>=0.17.1 in /usr/local/lib/python3.8/dist-packages (from petastorm==0.12.0->evadb==0.0.12) (9.0.0)\n",
            "Requirement already satisfied: six>=1.5.0 in /usr/local/lib/python3.8/dist-packages (from petastorm==0.12.0->evadb==0.0.12) (1.15.0)\n",
            "Requirement already satisfied: psutil>=4.0.0 in /usr/local/lib/python3.8/dist-packages (from petastorm==0.12.0->evadb==0.0.12) (5.4.8)\n",
            "Requirement already satisfied: packaging>=15.0 in /usr/local/lib/python3.8/dist-packages (from petastorm==0.12.0->evadb==0.0.12) (21.3)\n",
            "Requirement already satisfied: future>=0.10.2 in /usr/local/lib/python3.8/dist-packages (from petastorm==0.12.0->evadb==0.0.12) (0.16.0)\n",
            "Requirement already satisfied: pyspark>=2.1.0 in /usr/local/lib/python3.8/dist-packages (from petastorm==0.12.0->evadb==0.0.12) (3.3.1)\n",
            "Requirement already satisfied: pyzmq>=14.0.0 in /usr/local/lib/python3.8/dist-packages (from petastorm==0.12.0->evadb==0.0.12) (23.2.1)\n",
            "Requirement already satisfied: dill>=0.2.1 in /usr/local/lib/python3.8/dist-packages (from petastorm==0.12.0->evadb==0.0.12) (0.3.6)\n",
            "Requirement already satisfied: mypy-extensions>=0.4.3 in /usr/local/lib/python3.8/dist-packages (from black>=22.6.0->evadb==0.0.12) (0.4.3)\n",
            "Requirement already satisfied: pathspec>=0.9.0 in /usr/local/lib/python3.8/dist-packages (from black>=22.6.0->evadb==0.0.12) (0.10.2)\n",
            "Requirement already satisfied: platformdirs>=2 in /usr/local/lib/python3.8/dist-packages (from black>=22.6.0->evadb==0.0.12) (2.5.4)\n",
            "Requirement already satisfied: tomli>=1.1.0 in /usr/local/lib/python3.8/dist-packages (from black>=22.6.0->evadb==0.0.12) (2.0.1)\n",
            "Requirement already satisfied: typing-extensions>=3.10.0.0 in /usr/local/lib/python3.8/dist-packages (from black>=22.6.0->evadb==0.0.12) (4.1.1)\n",
            "Requirement already satisfied: click>=8.0.0 in /usr/local/lib/python3.8/dist-packages (from black>=22.6.0->evadb==0.0.12) (8.0.4)\n",
            "Requirement already satisfied: coverage!=6.0.*,!=6.1,!=6.1.1,<7.0,>=4.1 in /usr/local/lib/python3.8/dist-packages (from coveralls>=3.0.1->evadb==0.0.12) (6.5.0)\n",
            "Requirement already satisfied: requests>=1.0.0 in /usr/local/lib/python3.8/dist-packages (from coveralls>=3.0.1->evadb==0.0.12) (2.23.0)\n",
            "Requirement already satisfied: docopt>=0.6.1 in /usr/local/lib/python3.8/dist-packages (from coveralls>=3.0.1->evadb==0.0.12) (0.6.2)\n",
            "Requirement already satisfied: scipy in /usr/local/lib/python3.8/dist-packages (from easyocr>=1.5.0->evadb==0.0.12) (1.7.3)\n",
            "Requirement already satisfied: pyclipper in /usr/local/lib/python3.8/dist-packages (from easyocr>=1.5.0->evadb==0.0.12) (1.3.0.post4)\n",
            "Requirement already satisfied: ninja in /usr/local/lib/python3.8/dist-packages (from easyocr>=1.5.0->evadb==0.0.12) (1.11.1)\n",
            "Requirement already satisfied: opencv-python-headless<=4.5.4.60 in /usr/local/lib/python3.8/dist-packages (from easyocr>=1.5.0->evadb==0.0.12) (4.5.4.60)\n",
            "Requirement already satisfied: scikit-image in /usr/local/lib/python3.8/dist-packages (from easyocr>=1.5.0->evadb==0.0.12) (0.18.3)\n",
            "Requirement already satisfied: Shapely in /usr/local/lib/python3.8/dist-packages (from easyocr>=1.5.0->evadb==0.0.12) (1.8.5.post1)\n",
            "Requirement already satisfied: python-bidi in /usr/local/lib/python3.8/dist-packages (from easyocr>=1.5.0->evadb==0.0.12) (0.4.2)\n",
            "Requirement already satisfied: pyflakes<3.1.0,>=3.0.0 in /usr/local/lib/python3.8/dist-packages (from flake8>=3.9.1->evadb==0.0.12) (3.0.1)\n",
            "Requirement already satisfied: mccabe<0.8.0,>=0.7.0 in /usr/local/lib/python3.8/dist-packages (from flake8>=3.9.1->evadb==0.0.12) (0.7.0)\n",
            "Requirement already satisfied: pycodestyle<2.11.0,>=2.10.0 in /usr/local/lib/python3.8/dist-packages (from flake8>=3.9.1->evadb==0.0.12) (2.10.0)\n",
            "Requirement already satisfied: zipp>=0.5 in /usr/local/lib/python3.8/dist-packages (from importlib-metadata<5.0->evadb==0.0.12) (3.10.0)\n",
            "Requirement already satisfied: ipykernel>=4.5.1 in /usr/local/lib/python3.8/dist-packages (from ipywidgets>=7.7.2->evadb==0.0.12) (6.17.1)\n",
            "Requirement already satisfied: ipython>=6.1.0 in /usr/local/lib/python3.8/dist-packages (from ipywidgets>=7.7.2->evadb==0.0.12) (8.7.0)\n",
            "Requirement already satisfied: jupyterlab-widgets~=3.0 in /usr/local/lib/python3.8/dist-packages (from ipywidgets>=7.7.2->evadb==0.0.12) (3.0.3)\n",
            "Requirement already satisfied: traitlets>=4.3.1 in /usr/local/lib/python3.8/dist-packages (from ipywidgets>=7.7.2->evadb==0.0.12) (5.6.0)\n",
            "Requirement already satisfied: widgetsnbextension~=4.0 in /usr/local/lib/python3.8/dist-packages (from ipywidgets>=7.7.2->evadb==0.0.12) (4.0.3)\n",
            "Requirement already satisfied: fonttools>=4.22.0 in /usr/local/lib/python3.8/dist-packages (from matplotlib>=3.3.4->evadb==0.0.12) (4.38.0)\n",
            "Requirement already satisfied: cycler>=0.10 in /usr/local/lib/python3.8/dist-packages (from matplotlib>=3.3.4->evadb==0.0.12) (0.11.0)\n",
            "Requirement already satisfied: kiwisolver>=1.0.1 in /usr/local/lib/python3.8/dist-packages (from matplotlib>=3.3.4->evadb==0.0.12) (1.4.4)\n",
            "Requirement already satisfied: pyparsing>=2.2.1 in /usr/local/lib/python3.8/dist-packages (from matplotlib>=3.3.4->evadb==0.0.12) (3.0.9)\n",
            "Requirement already satisfied: python-dateutil>=2.7 in /usr/local/lib/python3.8/dist-packages (from matplotlib>=3.3.4->evadb==0.0.12) (2.8.2)\n",
            "Requirement already satisfied: contourpy>=1.0.1 in /usr/local/lib/python3.8/dist-packages (from matplotlib>=3.3.4->evadb==0.0.12) (1.0.6)\n",
            "Requirement already satisfied: pydantic<2.0.0,>=1.7.2 in /usr/local/lib/python3.8/dist-packages (from nbmake>=1.2.1->evadb==0.0.12) (1.10.2)\n",
            "Requirement already satisfied: nbformat<6.0.0,>=5.0.8 in /usr/local/lib/python3.8/dist-packages (from nbmake>=1.2.1->evadb==0.0.12) (5.7.0)\n",
            "Requirement already satisfied: nbclient<0.7.0,>=0.6.6 in /usr/local/lib/python3.8/dist-packages (from nbmake>=1.2.1->evadb==0.0.12) (0.6.8)\n",
            "Requirement already satisfied: Pygments<3.0.0,>=2.7.3 in /usr/local/lib/python3.8/dist-packages (from nbmake>=1.2.1->evadb==0.0.12) (2.13.0)\n",
            "Requirement already satisfied: pytz>=2017.3 in /usr/local/lib/python3.8/dist-packages (from pandas>=1.1.5->evadb==0.0.12) (2022.6)\n",
            "Requirement already satisfied: attrs>=19.2.0 in /usr/local/lib/python3.8/dist-packages (from pytest>=6.1.2->evadb==0.0.12) (22.1.0)\n",
            "Requirement already satisfied: pluggy<2.0,>=0.12 in /usr/local/lib/python3.8/dist-packages (from pytest>=6.1.2->evadb==0.0.12) (1.0.0)\n",
            "Requirement already satisfied: iniconfig in /usr/local/lib/python3.8/dist-packages (from pytest>=6.1.2->evadb==0.0.12) (1.1.1)\n",
            "Requirement already satisfied: exceptiongroup>=1.0.0rc8 in /usr/local/lib/python3.8/dist-packages (from pytest>=6.1.2->evadb==0.0.12) (1.0.4)\n",
            "Requirement already satisfied: protobuf!=3.19.5,>=3.15.3 in /usr/local/lib/python3.8/dist-packages (from ray>=1.13.0->evadb==0.0.12) (3.19.6)\n",
            "Requirement already satisfied: filelock in /usr/local/lib/python3.8/dist-packages (from ray>=1.13.0->evadb==0.0.12) (3.8.0)\n",
            "Requirement already satisfied: virtualenv>=20.0.24 in /usr/local/lib/python3.8/dist-packages (from ray>=1.13.0->evadb==0.0.12) (20.17.0)\n",
            "Requirement already satisfied: aiosignal in /usr/local/lib/python3.8/dist-packages (from ray>=1.13.0->evadb==0.0.12) (1.3.1)\n",
            "Requirement already satisfied: msgpack<2.0.0,>=1.0.0 in /usr/local/lib/python3.8/dist-packages (from ray>=1.13.0->evadb==0.0.12) (1.0.4)\n",
            "Requirement already satisfied: jsonschema in /usr/local/lib/python3.8/dist-packages (from ray>=1.13.0->evadb==0.0.12) (4.3.3)\n",
            "Requirement already satisfied: frozenlist in /usr/local/lib/python3.8/dist-packages (from ray>=1.13.0->evadb==0.0.12) (1.3.3)\n",
            "Requirement already satisfied: grpcio>=1.32.0 in /usr/local/lib/python3.8/dist-packages (from ray>=1.13.0->evadb==0.0.12) (1.50.0)\n",
            "Requirement already satisfied: jinja2 in /usr/local/lib/python3.8/dist-packages (from scriv>=0.16.0->evadb==0.0.12) (2.11.3)\n",
            "Requirement already satisfied: click-log in /usr/local/lib/python3.8/dist-packages (from scriv>=0.16.0->evadb==0.0.12) (0.4.0)\n",
            "Requirement already satisfied: pytest-fixture-config in /usr/local/lib/python3.8/dist-packages (from pytest-virtualenv->evadb==0.0.12) (1.7.0)\n",
            "Requirement already satisfied: pytest-shutil in /usr/local/lib/python3.8/dist-packages (from pytest-virtualenv->evadb==0.0.12) (1.7.0)\n",
            "Requirement already satisfied: tornado>=6.1 in /usr/local/lib/python3.8/dist-packages (from ipykernel>=4.5.1->ipywidgets>=7.7.2->evadb==0.0.12) (6.2)\n",
            "Requirement already satisfied: matplotlib-inline>=0.1 in /usr/local/lib/python3.8/dist-packages (from ipykernel>=4.5.1->ipywidgets>=7.7.2->evadb==0.0.12) (0.1.6)\n",
            "Requirement already satisfied: jupyter-client>=6.1.12 in /usr/local/lib/python3.8/dist-packages (from ipykernel>=4.5.1->ipywidgets>=7.7.2->evadb==0.0.12) (6.1.12)\n",
            "Requirement already satisfied: debugpy>=1.0 in /usr/local/lib/python3.8/dist-packages (from ipykernel>=4.5.1->ipywidgets>=7.7.2->evadb==0.0.12) (1.0.0)\n",
            "Requirement already satisfied: decorator in /usr/local/lib/python3.8/dist-packages (from ipython>=6.1.0->ipywidgets>=7.7.2->evadb==0.0.12) (4.4.2)\n",
            "Requirement already satisfied: jedi>=0.16 in /usr/local/lib/python3.8/dist-packages (from ipython>=6.1.0->ipywidgets>=7.7.2->evadb==0.0.12) (0.18.2)\n",
            "Requirement already satisfied: stack-data in /usr/local/lib/python3.8/dist-packages (from ipython>=6.1.0->ipywidgets>=7.7.2->evadb==0.0.12) (0.6.2)\n",
            "Requirement already satisfied: pexpect>4.3 in /usr/local/lib/python3.8/dist-packages (from ipython>=6.1.0->ipywidgets>=7.7.2->evadb==0.0.12) (4.8.0)\n",
            "Requirement already satisfied: pickleshare in /usr/local/lib/python3.8/dist-packages (from ipython>=6.1.0->ipywidgets>=7.7.2->evadb==0.0.12) (0.7.5)\n",
            "Requirement already satisfied: backcall in /usr/local/lib/python3.8/dist-packages (from ipython>=6.1.0->ipywidgets>=7.7.2->evadb==0.0.12) (0.2.0)\n",
            "Requirement already satisfied: prompt-toolkit<3.1.0,>=3.0.11 in /usr/local/lib/python3.8/dist-packages (from ipython>=6.1.0->ipywidgets>=7.7.2->evadb==0.0.12) (3.0.33)\n",
            "Requirement already satisfied: jupyter-core in /usr/local/lib/python3.8/dist-packages (from nbformat<6.0.0,>=5.0.8->nbmake>=1.2.1->evadb==0.0.12) (4.11.2)\n",
            "Requirement already satisfied: fastjsonschema in /usr/local/lib/python3.8/dist-packages (from nbformat<6.0.0,>=5.0.8->nbmake>=1.2.1->evadb==0.0.12) (2.16.2)\n",
            "Requirement already satisfied: pyrsistent!=0.17.0,!=0.17.1,!=0.17.2,>=0.14.0 in /usr/local/lib/python3.8/dist-packages (from jsonschema->ray>=1.13.0->evadb==0.0.12) (0.19.2)\n",
            "Requirement already satisfied: importlib-resources>=1.4.0 in /usr/local/lib/python3.8/dist-packages (from jsonschema->ray>=1.13.0->evadb==0.0.12) (5.10.0)\n",
            "Requirement already satisfied: py4j==0.10.9.5 in /usr/local/lib/python3.8/dist-packages (from pyspark>=2.1.0->petastorm==0.12.0->evadb==0.0.12) (0.10.9.5)\n",
            "Requirement already satisfied: idna<3,>=2.5 in /usr/local/lib/python3.8/dist-packages (from requests>=1.0.0->coveralls>=3.0.1->evadb==0.0.12) (2.10)\n",
            "Requirement already satisfied: chardet<4,>=3.0.2 in /usr/local/lib/python3.8/dist-packages (from requests>=1.0.0->coveralls>=3.0.1->evadb==0.0.12) (3.0.4)\n",
            "Requirement already satisfied: certifi>=2017.4.17 in /usr/local/lib/python3.8/dist-packages (from requests>=1.0.0->coveralls>=3.0.1->evadb==0.0.12) (2022.9.24)\n",
            "Requirement already satisfied: urllib3!=1.25.0,!=1.25.1,<1.26,>=1.21.1 in /usr/local/lib/python3.8/dist-packages (from requests>=1.0.0->coveralls>=3.0.1->evadb==0.0.12) (1.24.3)\n",
            "Requirement already satisfied: distlib<1,>=0.3.6 in /usr/local/lib/python3.8/dist-packages (from virtualenv>=20.0.24->ray>=1.13.0->evadb==0.0.12) (0.3.6)\n",
            "Requirement already satisfied: MarkupSafe>=0.23 in /usr/local/lib/python3.8/dist-packages (from jinja2->scriv>=0.16.0->evadb==0.0.12) (2.0.1)\n",
            "Requirement already satisfied: contextlib2 in /usr/local/lib/python3.8/dist-packages (from pytest-shutil->pytest-virtualenv->evadb==0.0.12) (0.5.5)\n",
            "Requirement already satisfied: termcolor in /usr/local/lib/python3.8/dist-packages (from pytest-shutil->pytest-virtualenv->evadb==0.0.12) (2.1.1)\n",
            "Requirement already satisfied: execnet in /usr/local/lib/python3.8/dist-packages (from pytest-shutil->pytest-virtualenv->evadb==0.0.12) (1.9.0)\n",
            "Requirement already satisfied: path.py in /usr/local/lib/python3.8/dist-packages (from pytest-shutil->pytest-virtualenv->evadb==0.0.12) (12.5.0)\n",
            "Requirement already satisfied: tifffile>=2019.7.26 in /usr/local/lib/python3.8/dist-packages (from scikit-image->easyocr>=1.5.0->evadb==0.0.12) (2021.11.2)\n",
            "Requirement already satisfied: networkx>=2.0 in /usr/local/lib/python3.8/dist-packages (from scikit-image->easyocr>=1.5.0->evadb==0.0.12) (2.6.3)\n",
            "Requirement already satisfied: PyWavelets>=1.1.1 in /usr/local/lib/python3.8/dist-packages (from scikit-image->easyocr>=1.5.0->evadb==0.0.12) (1.3.0)\n",
            "Requirement already satisfied: imageio>=2.3.0 in /usr/local/lib/python3.8/dist-packages (from scikit-image->easyocr>=1.5.0->evadb==0.0.12) (2.9.0)\n",
            "Requirement already satisfied: parso<0.9.0,>=0.8.0 in /usr/local/lib/python3.8/dist-packages (from jedi>=0.16->ipython>=6.1.0->ipywidgets>=7.7.2->evadb==0.0.12) (0.8.3)\n",
            "Requirement already satisfied: ptyprocess>=0.5 in /usr/local/lib/python3.8/dist-packages (from pexpect>4.3->ipython>=6.1.0->ipywidgets>=7.7.2->evadb==0.0.12) (0.7.0)\n",
            "Requirement already satisfied: wcwidth in /usr/local/lib/python3.8/dist-packages (from prompt-toolkit<3.1.0,>=3.0.11->ipython>=6.1.0->ipywidgets>=7.7.2->evadb==0.0.12) (0.2.5)\n",
            "Requirement already satisfied: path in /usr/local/lib/python3.8/dist-packages (from path.py->pytest-shutil->pytest-virtualenv->evadb==0.0.12) (16.6.0)\n",
            "Requirement already satisfied: executing>=1.2.0 in /usr/local/lib/python3.8/dist-packages (from stack-data->ipython>=6.1.0->ipywidgets>=7.7.2->evadb==0.0.12) (1.2.0)\n",
            "Requirement already satisfied: asttokens>=2.1.0 in /usr/local/lib/python3.8/dist-packages (from stack-data->ipython>=6.1.0->ipywidgets>=7.7.2->evadb==0.0.12) (2.2.0)\n",
            "Requirement already satisfied: pure-eval in /usr/local/lib/python3.8/dist-packages (from stack-data->ipython>=6.1.0->ipywidgets>=7.7.2->evadb==0.0.12) (0.2.2)\n",
            "Building wheels for collected packages: evadb\n",
            "  Building editable for evadb (pyproject.toml) ... \u001b[?25l\u001b[?25hdone\n",
            "  Created wheel for evadb: filename=evadb-0.0.12-0.editable-py3-none-any.whl size=10067 sha256=efd449af6f2a3b0ea017e43a99a360513b4a16f6aa9fe39e2bcd68e10dd01071\n",
            "  Stored in directory: /tmp/pip-ephem-wheel-cache-rjc1dk5y/wheels/66/0d/d2/3eee87e23097e06f037018f0e1a19c337bf9caf3cddf6575d4\n",
            "Successfully built evadb\n",
            "Installing collected packages: evadb\n",
            "  Attempting uninstall: evadb\n",
            "    Found existing installation: evadb 0.0.12\n",
            "    Uninstalling evadb-0.0.12:\n",
            "      Successfully uninstalled evadb-0.0.12\n",
            "Successfully installed evadb-0.0.12\n",
            "\u001b[33mWARNING: Running pip as the 'root' user can result in broken permissions and conflicting behaviour with the system package manager. It is recommended to use a virtual environment instead: https://pip.pypa.io/warnings/venv\u001b[0m\u001b[33m\n",
            "\u001b[0m"
          ]
        }
      ]
    },
    {
      "cell_type": "code",
      "source": [
        "!wget -nc \"https://raw.githubusercontent.com/georgia-tech-db/eva/master/tutorials/00-start-eva-server.ipynb\"\n",
        "%run 00-start-eva-server.ipynb"
      ],
      "metadata": {
        "colab": {
          "base_uri": "https://localhost:8080/"
        },
        "id": "hjejyCI-o4Ad",
        "outputId": "9d10dfb0-62b5-486e-b768-4593538b7e0c"
      },
      "execution_count": null,
      "outputs": [
        {
          "output_type": "stream",
          "name": "stdout",
          "text": [
            "File ‘00-start-eva-server.ipynb’ already there; not retrieving.\n",
            "\n",
            "[  -z \"$(lsof -ti:5432)\" ] || kill -9 \"$(lsof -ti:5432)\"\n",
            "nohup eva_server > eva.log 2>&1 &\n",
            "\n"
          ]
        }
      ]
    },
    {
      "cell_type": "code",
      "source": [
        "!wget -nc \"https://raw.githubusercontent.com/sashiko-345/eva/master/dog.jpg\"\n",
        "!wget -nc https://www.dropbox.com/s/k00wge9exwkfxz6/ua_detrac.mp4\n",
        "!wget \"https://raw.githubusercontent.com/sashiko-345/eva/master/eva/udfs/camera_trap_animal_detector.py\" \n",
        "!mv 'camera_trap_animal_detector.py' 'downloaded_camera_trap_animal_detector.py'\n",
        "\n",
        "!pip install timm"
      ],
      "metadata": {
        "colab": {
          "base_uri": "https://localhost:8080/"
        },
        "id": "Jrd20Gqco8ZY",
        "outputId": "5be52b10-06e5-4c10-deba-4d72dc0b36aa"
      },
      "execution_count": null,
      "outputs": [
        {
          "output_type": "stream",
          "name": "stdout",
          "text": [
            "File ‘dog.jpg’ already there; not retrieving.\n",
            "\n",
            "File ‘ua_detrac.mp4’ already there; not retrieving.\n",
            "\n",
            "--2022-12-05 02:28:59--  https://raw.githubusercontent.com/sashiko-345/eva/master/eva/udfs/camera_trap_animal_detector.py\n",
            "Resolving raw.githubusercontent.com (raw.githubusercontent.com)... 185.199.108.133, 185.199.109.133, 185.199.110.133, ...\n",
            "Connecting to raw.githubusercontent.com (raw.githubusercontent.com)|185.199.108.133|:443... connected.\n",
            "HTTP request sent, awaiting response... 200 OK\n",
            "Length: 14096 (14K) [text/plain]\n",
            "Saving to: ‘camera_trap_animal_detector.py’\n",
            "\n",
            "camera_trap_animal_ 100%[===================>]  13.77K  --.-KB/s    in 0.001s  \n",
            "\n",
            "2022-12-05 02:28:59 (17.1 MB/s) - ‘camera_trap_animal_detector.py’ saved [14096/14096]\n",
            "\n",
            "Looking in indexes: https://pypi.org/simple, https://us-python.pkg.dev/colab-wheels/public/simple/\n",
            "Requirement already satisfied: timm in /usr/local/lib/python3.8/dist-packages (0.6.12)\n",
            "Requirement already satisfied: pyyaml in /usr/local/lib/python3.8/dist-packages (from timm) (5.1.2)\n",
            "Requirement already satisfied: huggingface-hub in /usr/local/lib/python3.8/dist-packages (from timm) (0.11.1)\n",
            "Requirement already satisfied: torch>=1.7 in /usr/local/lib/python3.8/dist-packages (from timm) (1.12.1+cu113)\n",
            "Requirement already satisfied: torchvision in /usr/local/lib/python3.8/dist-packages (from timm) (0.13.1+cu113)\n",
            "Requirement already satisfied: typing-extensions in /usr/local/lib/python3.8/dist-packages (from torch>=1.7->timm) (4.1.1)\n",
            "Requirement already satisfied: filelock in /usr/local/lib/python3.8/dist-packages (from huggingface-hub->timm) (3.8.0)\n",
            "Requirement already satisfied: tqdm in /usr/local/lib/python3.8/dist-packages (from huggingface-hub->timm) (4.64.1)\n",
            "Requirement already satisfied: requests in /usr/local/lib/python3.8/dist-packages (from huggingface-hub->timm) (2.23.0)\n",
            "Requirement already satisfied: packaging>=20.9 in /usr/local/lib/python3.8/dist-packages (from huggingface-hub->timm) (21.3)\n",
            "Requirement already satisfied: pillow!=8.3.*,>=5.3.0 in /usr/local/lib/python3.8/dist-packages (from torchvision->timm) (9.3.0)\n",
            "Requirement already satisfied: numpy in /usr/local/lib/python3.8/dist-packages (from torchvision->timm) (1.21.6)\n",
            "Requirement already satisfied: pyparsing!=3.0.5,>=2.0.2 in /usr/local/lib/python3.8/dist-packages (from packaging>=20.9->huggingface-hub->timm) (3.0.9)\n",
            "Requirement already satisfied: chardet<4,>=3.0.2 in /usr/local/lib/python3.8/dist-packages (from requests->huggingface-hub->timm) (3.0.4)\n",
            "Requirement already satisfied: certifi>=2017.4.17 in /usr/local/lib/python3.8/dist-packages (from requests->huggingface-hub->timm) (2022.9.24)\n",
            "Requirement already satisfied: urllib3!=1.25.0,!=1.25.1,<1.26,>=1.21.1 in /usr/local/lib/python3.8/dist-packages (from requests->huggingface-hub->timm) (1.24.3)\n",
            "Requirement already satisfied: idna<3,>=2.5 in /usr/local/lib/python3.8/dist-packages (from requests->huggingface-hub->timm) (2.10)\n",
            "\u001b[33mWARNING: Running pip as the 'root' user can result in broken permissions and conflicting behaviour with the system package manager. It is recommended to use a virtual environment instead: https://pip.pypa.io/warnings/venv\u001b[0m\u001b[33m\n",
            "\u001b[0m"
          ]
        }
      ]
    },
    {
      "cell_type": "code",
      "source": [
        "# first run \"eva_server\" in terminal with you python venv(i.e. test_eva_db you just created)\n",
        "\n",
        "# run this ipynb under the same python venv as that of server\n",
        "\n",
        "# connect to server\n",
        "from eva.server.db_api import connect\n",
        "import nest_asyncio\n",
        "nest_asyncio.apply()\n",
        "connection = connect(host = '127.0.0.1', port = 5435)\n",
        "cursor = connection.cursor()"
      ],
      "metadata": {
        "id": "xs-SFwZlpIfP"
      },
      "execution_count": null,
      "outputs": []
    },
    {
      "cell_type": "code",
      "source": [
        "# this car video is not camera trap animal videos\n",
        "# replace it with proper one!\n",
        "cursor.execute('LOAD FILE \"ua_detrac.mp4\" INTO singleVid;')\n",
        "response = cursor.fetch_all()\n",
        "print(response)"
      ],
      "metadata": {
        "colab": {
          "base_uri": "https://localhost:8080/"
        },
        "id": "ne6L1NACpLY0",
        "outputId": "39b1e747-18de-4608-c8fb-da035b784542"
      },
      "execution_count": null,
      "outputs": [
        {
          "output_type": "stream",
          "name": "stdout",
          "text": [
            "@status: 0\n",
            "@batch: Batch Object:\n",
            "@dataframe:                                                    0\n",
            "0  Video successfully added at location: ua_detra...\n",
            "@batch_size: 1\n",
            "@identifier_column: None\n",
            "@query_time: 0.04973934199995256\n"
          ]
        }
      ]
    },
    {
      "cell_type": "code",
      "source": [
        "drop_udf_query = \"\"\"DROP UDF AnimalDetectorPlus;\n",
        "        \"\"\"\n",
        "cursor.execute(drop_udf_query)\n",
        "response = cursor.fetch_all()\n",
        "print(response)\n",
        "\n",
        "udf_path = 'downloaded_camera_trap_animal_detector.py'\n",
        "create_udf_query = f\"\"\"CREATE UDF IF NOT EXISTS AnimalDetectorPlus\n",
        "                  INPUT  (frame NDARRAY UINT8(3, ANYDIM, ANYDIM))\n",
        "                  OUTPUT (labels NDARRAY STR(ANYDIM),\n",
        "                          scores NDARRAY FLOAT32(ANYDIM))\n",
        "                  TYPE  Classification\n",
        "                  IMPL  '{udf_path}';\n",
        "        \"\"\"\n",
        "# load\n",
        "cursor.execute(create_udf_query)\n",
        "response = cursor.fetch_all()\n",
        "print(response)"
      ],
      "metadata": {
        "colab": {
          "base_uri": "https://localhost:8080/"
        },
        "id": "THOdGGAspRLO",
        "outputId": "8d4307b9-0c33-4c00-bd82-19aba5b43f45"
      },
      "execution_count": null,
      "outputs": [
        {
          "output_type": "stream",
          "name": "stdout",
          "text": [
            "@status: 0\n",
            "@batch: Batch Object:\n",
            "@dataframe:                                              0\n",
            "0  UDF AnimalDetectorPlus successfully dropped\n",
            "@batch_size: 1\n",
            "@identifier_column: None\n",
            "@query_time: 0.028343275999986872\n",
            "@status: 0\n",
            "@batch: Batch Object:\n",
            "@dataframe:                                                    0\n",
            "0  UDF AnimalDetectorPlus successfully added to t...\n",
            "@batch_size: 1\n",
            "@identifier_column: None\n",
            "@query_time: 6.017906794000055\n"
          ]
        }
      ]
    },
    {
      "cell_type": "code",
      "source": [
        "!pip install psutil\n",
        "!pip install GPUtil"
      ],
      "metadata": {
        "id": "rv3b3tUcG75D",
        "outputId": "6f7d3e36-4a5b-43e2-98d5-d3b34f6979bd",
        "colab": {
          "base_uri": "https://localhost:8080/"
        }
      },
      "execution_count": null,
      "outputs": [
        {
          "output_type": "stream",
          "name": "stdout",
          "text": [
            "Looking in indexes: https://pypi.org/simple, https://us-python.pkg.dev/colab-wheels/public/simple/\n",
            "Requirement already satisfied: psutil in /usr/local/lib/python3.8/dist-packages (5.4.8)\n",
            "\u001b[33mWARNING: Running pip as the 'root' user can result in broken permissions and conflicting behaviour with the system package manager. It is recommended to use a virtual environment instead: https://pip.pypa.io/warnings/venv\u001b[0m\u001b[33m\n",
            "\u001b[0mLooking in indexes: https://pypi.org/simple, https://us-python.pkg.dev/colab-wheels/public/simple/\n",
            "Requirement already satisfied: GPUtil in /usr/local/lib/python3.8/dist-packages (1.4.0)\n",
            "\u001b[33mWARNING: Running pip as the 'root' user can result in broken permissions and conflicting behaviour with the system package manager. It is recommended to use a virtual environment instead: https://pip.pypa.io/warnings/venv\u001b[0m\u001b[33m\n",
            "\u001b[0m"
          ]
        }
      ]
    },
    {
      "cell_type": "code",
      "source": [
        "import psutil\n",
        "import GPUtil\n",
        "import numpy as np\n",
        "import matplotlib.pyplot as plt\n",
        "import time\n",
        "from matplotlib.animation import FuncAnimation\n",
        "import matplotlib"
      ],
      "metadata": {
        "id": "pREM5iWAG4hW"
      },
      "execution_count": null,
      "outputs": []
    },
    {
      "cell_type": "code",
      "source": [
        "# Creating an almost infinite for loop to monitor the details continuously\n",
        "%matplotlib inline\n",
        "cpu_usage_list = []\n",
        "memory_lsit = []\n",
        "iteration_list = []\n",
        "\n",
        "# set time it to 0\n",
        "iteration = 0\n",
        "for i in range(15):\n",
        "    # Obtaining all the essential details\n",
        "    # time it and store it in a list\n",
        "    iteration_list.append(iteration)\n",
        "    cpu_usage_list.append(psutil.cpu_percent())\n",
        "    memory_lsit.append(psutil.virtual_memory().percent)\n",
        "    \n",
        "    cursor.execute('''SELECT id, AnimalDetectorPlus(data) FROM singleVid WHERE id < 1''')\n",
        "    response = cursor.fetch_all()\n",
        "    iteration += 1\n",
        "# plot the graph\n",
        "plt.plot(iteration_list, cpu_usage_list, label = \"CPU\")\n",
        "plt.plot(iteration_list, memory_lsit, label = \"Memory\")\n",
        "plt.xlabel('Iteration')\n",
        "plt.ylabel('Usage Percentage')\n",
        "plt.title('CPU and Memory Usagefor 1 id with a cache table')\n",
        "plt.legend(loc =\"lower right\")\n",
        "plt.show()"
      ],
      "metadata": {
        "colab": {
          "base_uri": "https://localhost:8080/",
          "height": 472
        },
        "id": "4qELuddXpe_F",
        "outputId": "e0919f33-13df-4de5-e3f6-d5c68d738e7a"
      },
      "execution_count": null,
      "outputs": [
        {
          "output_type": "display_data",
          "data": {
            "text/plain": [
              "<Figure size 640x480 with 1 Axes>"
            ],
            "image/png": "[encoded data removed]"
          },
          "metadata": {}
        }
      ]
    },
    {
      "cell_type": "code",
      "source": [
        "# Creating an almost infinite for loop to monitor the details continuously\n",
        "%matplotlib inline\n",
        "cpu_usage_list = []\n",
        "memory_lsit = []\n",
        "iteration_list = []\n",
        "\n",
        "# set time it to 0\n",
        "iteration = 0\n",
        "for i in range(15):\n",
        "    # Obtaining all the essential details\n",
        "    # time it and store it in a list\n",
        "    iteration_list.append(iteration)\n",
        "    cpu_usage_list.append(psutil.cpu_percent())\n",
        "    memory_lsit.append(psutil.virtual_memory().percent)\n",
        "    \n",
        "    cursor.execute('''SELECT id, AnimalDetectorPlus(data) FROM singleVid WHERE id < 10''')\n",
        "    response = cursor.fetch_all()\n",
        "    iteration += 1\n",
        "# plot the graph\n",
        "plt.plot(iteration_list, cpu_usage_list, label = \"CPU\")\n",
        "plt.plot(iteration_list, memory_lsit, label = \"Memory\")\n",
        "plt.xlabel('Iteration')\n",
        "plt.ylabel('Usage Percentage')\n",
        "plt.title('CPU and Memory Usagefor 10 id with a cache table')\n",
        "plt.legend(loc =\"lower right\")\n",
        "plt.show()"
      ],
      "metadata": {
        "colab": {
          "base_uri": "https://localhost:8080/",
          "height": 472
        },
        "id": "-8AEzbyew3ce",
        "outputId": "1231e512-d63a-4be4-84dc-f28c1f7aba84"
      },
      "execution_count": null,
      "outputs": [
        {
          "output_type": "display_data",
          "data": {
            "text/plain": [
              "<Figure size 640x480 with 1 Axes>"
            ],
            "image/png": "[encoded data removed]"
          },
          "metadata": {}
        }
      ]
    },
    {
      "cell_type": "code",
      "source": [
        "# query dog with animal detector\n",
        "cursor.execute('''SELECT id, AnimalDetectorPlus(data) FROM singleVid WHERE id < 10''')\n",
        "response = cursor.fetch_all()\n",
        "print(response)\n",
        "# where id does not work for uploaded picture, only work for videos"
      ],
      "metadata": {
        "colab": {
          "base_uri": "https://localhost:8080/"
        },
        "id": "noCiu4GDw5ox",
        "outputId": "016ab8de-2870-46a1-e9e2-82c2f27976ff"
      },
      "execution_count": null,
      "outputs": [
        {
          "output_type": "stream",
          "name": "stdout",
          "text": [
            "@status: 0\n",
            "@batch: Batch Object:\n",
            "@dataframe:     singlevid.id  animaldetectorplus.labels     animaldetectorplus.scores\n",
            "0              0                    [blank]          [0.7566820979000001]\n",
            "1              1                    [blank]                [0.7419732213]\n",
            "2              2                    [blank]                 [0.686293602]\n",
            "3              3                    [blank]                [0.6848589182]\n",
            "4              4                         []                            []\n",
            "5              5                         []                            []\n",
            "6              6                         []                            []\n",
            "7              7  [blank, monkey_prosimian]  [0.5148901939, 0.5350939035]\n",
            "8              8                    [blank]          [0.5157492757000001]\n",
            "9              9                    [blank]                [0.5370559096]\n",
            "10             0                    [blank]          [0.7566820979000001]\n",
            "11             1                    [blank]                [0.7419732213]\n",
            "12             2                    [blank]                 [0.686293602]\n",
            "13             3                    [blank]                [0.6848589182]\n",
            "14             4                         []                            []\n",
            "15             5                         []                            []\n",
            "16             6                         []                            []\n",
            "17             7  [blank, monkey_prosimian]  [0.5148901939, 0.5350939035]\n",
            "18             8                    [blank]          [0.5157492757000001]\n",
            "19             9                    [blank]                [0.5370559096]\n",
            "@batch_size: 20\n",
            "@identifier_column: None\n",
            "@query_time: 16.845564130999946\n"
          ]
        }
      ]
    },
    {
      "cell_type": "code",
      "source": [
        "# query dog with animal detector\n",
        "cursor.execute('''SELECT id, AnimalDetectorPlus(data) FROM singleVid WHERE id < 10''')\n",
        "response = cursor.fetch_all()\n",
        "print(response)\n",
        "# where id does not work for uploaded picture, only work for videos"
      ],
      "metadata": {
        "id": "MNV0mvMXic0n",
        "outputId": "b77a9acc-4a62-4e9d-a00f-445a7c72665e",
        "colab": {
          "base_uri": "https://localhost:8080/"
        }
      },
      "execution_count": null,
      "outputs": [
        {
          "output_type": "stream",
          "name": "stdout",
          "text": [
            "@status: 0\n",
            "@batch: Batch Object:\n",
            "@dataframe:     singlevid.id  animaldetectorplus.labels     animaldetectorplus.scores\n",
            "0              0                    [blank]          [0.7566820979000001]\n",
            "1              1                    [blank]                [0.7419732213]\n",
            "2              2                    [blank]                 [0.686293602]\n",
            "3              3                    [blank]                [0.6848589182]\n",
            "4              4                         []                            []\n",
            "5              5                         []                            []\n",
            "6              6                         []                            []\n",
            "7              7  [blank, monkey_prosimian]  [0.5148901939, 0.5350939035]\n",
            "8              8                    [blank]          [0.5157492757000001]\n",
            "9              9                    [blank]                [0.5370559096]\n",
            "10             0                    [blank]          [0.7566820979000001]\n",
            "11             1                    [blank]                [0.7419732213]\n",
            "12             2                    [blank]                 [0.686293602]\n",
            "13             3                    [blank]                [0.6848589182]\n",
            "14             4                         []                            []\n",
            "15             5                         []                            []\n",
            "16             6                         []                            []\n",
            "17             7  [blank, monkey_prosimian]  [0.5148901939, 0.5350939035]\n",
            "18             8                    [blank]          [0.5157492757000001]\n",
            "19             9                    [blank]                [0.5370559096]\n",
            "@batch_size: 20\n",
            "@identifier_column: None\n",
            "@query_time: 17.07998297899985\n"
          ]
        }
      ]
    },
    {
      "cell_type": "code",
      "source": [],
      "metadata": {
        "id": "h_K5os8uKmhX"
      },
      "execution_count": null,
      "outputs": []
    }
  ]
}