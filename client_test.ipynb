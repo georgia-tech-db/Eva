{
 "cells": [
  {
   "cell_type": "markdown",
   "id": "59e94e48",
   "metadata": {},
   "source": [
    "# Before running the following client side program: \n",
    "\n",
    "- first run \"eva_server\" in terminal with you python venv(i.e. test_eva_db you just created). \n",
    "\n",
    "- run this ipynb under the same python venv as that of server"
   ]
  },
  {
   "cell_type": "code",
   "execution_count": 7,
   "id": "cf167789",
   "metadata": {},
   "outputs": [
    {
     "name": "stdout",
     "output_type": "stream",
     "text": [
      "File ‘dog.jpg’ already there; not retrieving.\n",
      "\n",
      "File ‘ua_detrac.mp4’ already there; not retrieving.\n",
      "\n",
      "--2022-11-03 21:27:38--  https://raw.githubusercontent.com/sashiko-345/eva/master/eva/udfs/camera_trap_animal_detector.py\n",
      "Resolving raw.githubusercontent.com (raw.githubusercontent.com)... 185.199.109.133, 185.199.110.133, 185.199.111.133, ...\n",
      "Connecting to raw.githubusercontent.com (raw.githubusercontent.com)|185.199.109.133|:443... connected.\n",
      "HTTP request sent, awaiting response... 200 OK\n",
      "Length: 9935 (9.7K) [text/plain]\n",
      "Saving to: ‘camera_trap_animal_detector.py’\n",
      "\n",
      "camera_trap_animal_ 100%[===================>]   9.70K  --.-KB/s    in 0s      \n",
      "\n",
      "2022-11-03 21:27:38 (25.4 MB/s) - ‘camera_trap_animal_detector.py’ saved [9935/9935]\n",
      "\n",
      "Requirement already satisfied: timm in /Users/dawndawn/opt/anaconda3/envs/trapcls/lib/python3.9/site-packages (0.6.11)\n",
      "Requirement already satisfied: torch>=1.7 in /Users/dawndawn/opt/anaconda3/envs/trapcls/lib/python3.9/site-packages (from timm) (1.11.0)\n",
      "Requirement already satisfied: huggingface-hub in /Users/dawndawn/opt/anaconda3/envs/trapcls/lib/python3.9/site-packages (from timm) (0.10.1)\n",
      "Requirement already satisfied: torchvision in /Users/dawndawn/opt/anaconda3/envs/trapcls/lib/python3.9/site-packages (from timm) (0.12.0)\n",
      "Requirement already satisfied: pyyaml in /Users/dawndawn/opt/anaconda3/envs/trapcls/lib/python3.9/site-packages (from timm) (6.0)\n",
      "Requirement already satisfied: typing-extensions in /Users/dawndawn/opt/anaconda3/envs/trapcls/lib/python3.9/site-packages (from torch>=1.7->timm) (4.4.0)\n",
      "Requirement already satisfied: packaging>=20.9 in /Users/dawndawn/opt/anaconda3/envs/trapcls/lib/python3.9/site-packages (from huggingface-hub->timm) (21.3)\n",
      "Requirement already satisfied: tqdm in /Users/dawndawn/opt/anaconda3/envs/trapcls/lib/python3.9/site-packages (from huggingface-hub->timm) (4.64.1)\n",
      "Requirement already satisfied: requests in /Users/dawndawn/opt/anaconda3/envs/trapcls/lib/python3.9/site-packages (from huggingface-hub->timm) (2.28.1)\n",
      "Requirement already satisfied: filelock in /Users/dawndawn/opt/anaconda3/envs/trapcls/lib/python3.9/site-packages (from huggingface-hub->timm) (3.8.0)\n",
      "Requirement already satisfied: pillow!=8.3.*,>=5.3.0 in /Users/dawndawn/opt/anaconda3/envs/trapcls/lib/python3.9/site-packages (from torchvision->timm) (9.0.1)\n",
      "Requirement already satisfied: numpy in /Users/dawndawn/opt/anaconda3/envs/trapcls/lib/python3.9/site-packages (from torchvision->timm) (1.23.1)\n",
      "Requirement already satisfied: pyparsing!=3.0.5,>=2.0.2 in /Users/dawndawn/opt/anaconda3/envs/trapcls/lib/python3.9/site-packages (from packaging>=20.9->huggingface-hub->timm) (3.0.9)\n",
      "Requirement already satisfied: charset-normalizer<3,>=2 in /Users/dawndawn/opt/anaconda3/envs/trapcls/lib/python3.9/site-packages (from requests->huggingface-hub->timm) (2.1.1)\n",
      "Requirement already satisfied: certifi>=2017.4.17 in /Users/dawndawn/opt/anaconda3/envs/trapcls/lib/python3.9/site-packages (from requests->huggingface-hub->timm) (2022.9.24)\n",
      "Requirement already satisfied: idna<4,>=2.5 in /Users/dawndawn/opt/anaconda3/envs/trapcls/lib/python3.9/site-packages (from requests->huggingface-hub->timm) (3.4)\n",
      "Requirement already satisfied: urllib3<1.27,>=1.21.1 in /Users/dawndawn/opt/anaconda3/envs/trapcls/lib/python3.9/site-packages (from requests->huggingface-hub->timm) (1.26.12)\n"
     ]
    }
   ],
   "source": [
    "!wget -nc \"https://raw.githubusercontent.com/sashiko-345/eva/master/dog.jpg\"\n",
    "!wget -nc https://www.dropbox.com/s/k00wge9exwkfxz6/ua_detrac.mp4\n",
    "!wget \"https://raw.githubusercontent.com/sashiko-345/eva/master/eva/udfs/camera_trap_animal_detector.py\" \n",
    "!mv 'camera_trap_animal_detector.py' 'downloaded_camera_trap_animal_detector.py'\n",
    "\n",
    "!pip install timm\n"
   ]
  },
  {
   "cell_type": "code",
   "execution_count": 2,
   "id": "d5fc72bf",
   "metadata": {},
   "outputs": [],
   "source": [
    "# first run \"eva_server\" in terminal with you python venv(i.e. test_eva_db you just created)\n",
    "\n",
    "# run this ipynb under the same python venv as that of server\n",
    "\n",
    "# connect to server\n",
    "from eva.server.db_api import connect\n",
    "import nest_asyncio\n",
    "nest_asyncio.apply()\n",
    "connection = connect(host = '127.0.0.1', port = 5435)\n",
    "cursor = connection.cursor()"
   ]
  },
  {
   "cell_type": "code",
   "execution_count": 8,
   "id": "76e91852",
   "metadata": {},
   "outputs": [
    {
     "name": "stdout",
     "output_type": "stream",
     "text": [
      "@status: -1\n",
      "@batch: None\n",
      "@error: Failed to find a video file at location: dog.jpg\n"
     ]
    }
   ],
   "source": [
    "# load\n",
    "cursor.execute('LOAD FILE \"dog.jpg\" INTO singlePic;')\n",
    "response = cursor.fetch_all()\n",
    "print(response)"
   ]
  },
  {
   "cell_type": "code",
   "execution_count": null,
   "id": "20e5f32a",
   "metadata": {},
   "outputs": [],
   "source": [
    "# load\n",
    "cursor.execute('LOAD FILE \"ua_detrac.mp4\" INTO singleVid;')\n",
    "response = cursor.fetch_all()\n",
    "print(response)"
   ]
  },
  {
   "cell_type": "code",
   "execution_count": 10,
   "id": "cc0303d5",
   "metadata": {},
   "outputs": [
    {
     "name": "stdout",
     "output_type": "stream",
     "text": [
      "@status: -1\n",
      "@batch: None\n",
      "@error: UDF AnimalDetector does not exist, therefore cannot be dropped.\n"
     ]
    }
   ],
   "source": [
    "drop_udf_query = \"\"\"DROP UDF AnimalDetector;\n",
    "        \"\"\"\n",
    "cursor.execute(drop_udf_query)\n",
    "response = cursor.fetch_all()\n",
    "print(response)"
   ]
  },
  {
   "cell_type": "code",
   "execution_count": 13,
   "id": "5327eceb",
   "metadata": {},
   "outputs": [
    {
     "name": "stdout",
     "output_type": "stream",
     "text": [
      "@status: 0\n",
      "@batch: Batch Object:\n",
      "@dataframe:                                                    0\n",
      "0  UDF AnimalDetector successfully added to the d...\n",
      "@batch_size: 1\n",
      "@identifier_column: None\n",
      "@query_time: 39.601934603999894\n"
     ]
    }
   ],
   "source": [
    "import os\n",
    "udf_path = os.getcwd()\n",
    "udf_path += '/downloaded_camera_trap_animal_detector.py'\n",
    "create_udf_query = f\"\"\"CREATE UDF IF NOT EXISTS AnimalDetector\n",
    "                  INPUT  (frame NDARRAY UINT8(3, ANYDIM, ANYDIM))\n",
    "                  OUTPUT (labels NDARRAY STR(ANYDIM),\n",
    "                          scores NDARRAY FLOAT32(ANYDIM))\n",
    "                  TYPE  Classification\n",
    "                  IMPL  '{udf_path}';\n",
    "        \"\"\"\n",
    "# load\n",
    "cursor.execute(create_udf_query)\n",
    "response = cursor.fetch_all()\n",
    "print(response)"
   ]
  },
  {
   "cell_type": "code",
   "execution_count": 17,
   "id": "5683941c",
   "metadata": {},
   "outputs": [
    {
     "name": "stdout",
     "output_type": "stream",
     "text": [
      "@status: 0\n",
      "@batch: Batch Object:\n",
      "@dataframe:    singlevid.id animaldetector.labels animaldetector.scores\n",
      "0             0           [non_blank]  [0.9883119985000001]\n",
      "1             1           [non_blank]        [0.9384851195]\n",
      "2             2           [non_blank]  [0.9649098702000001]\n",
      "3             3           [non_blank]        [0.9768140875]\n",
      "4             4           [non_blank]  [0.9880527854000001]\n",
      "5             0           [non_blank]        [0.9906347571]\n",
      "6             1           [non_blank]        [0.9416899234]\n",
      "7             2           [non_blank]  [0.9451785050000001]\n",
      "8             3           [non_blank]  [0.9777551666000001]\n",
      "9             4           [non_blank]  [0.9823591486000001]\n",
      "@batch_size: 10\n",
      "@identifier_column: None\n",
      "@query_time: 173.39862757499986\n"
     ]
    }
   ],
   "source": [
    "# query dog with animal detector\n",
    "cursor.execute('''SELECT id, AnimalDetector(data) FROM singleVid WHERE id < 5 AND ['non_blank'] <@ AnimalDetector(data).labels''')\n",
    "response = cursor.fetch_all()\n",
    "print(response)\n",
    "# where id does not work for uploaded picture, only work for videos"
   ]
  },
  {
   "cell_type": "code",
   "execution_count": null,
   "id": "b4577f83",
   "metadata": {},
   "outputs": [],
   "source": [
    "cursor.execute('''SELECT id, AnimalDetector(data) FROM singlePic WHERE id < 1''')\n",
    "response = cursor.fetch_all()\n",
    "print(response)"
   ]
  },
  {
   "cell_type": "code",
   "execution_count": 8,
   "id": "45b166d6",
   "metadata": {},
   "outputs": [
    {
     "name": "stdout",
     "output_type": "stream",
     "text": [
      "@status: -1\n",
      "@batch: None\n",
      "@error: UDF with name AnimalDetector does not exist in the catalog. Please create the UDF using CREATE UDF command.\n"
     ]
    }
   ],
   "source": [
    "cursor.execute('''SELECT id, AnimalDetector(data) FROM singlePic''')\n",
    "response = cursor.fetch_all()\n",
    "print(response)"
   ]
  },
  {
   "cell_type": "code",
   "execution_count": 15,
   "id": "0e694219",
   "metadata": {},
   "outputs": [
    {
     "name": "stdout",
     "output_type": "stream",
     "text": [
      "@status: 0\n",
      "@batch: Batch Object:\n",
      "@dataframe:    singlepic.id animaldetector.labels animaldetector.scores\n",
      "0             0           [non_blank]                 [1.0]\n",
      "@batch_size: 1\n",
      "@identifier_column: None\n",
      "@query_time: 9.642644409000013\n"
     ]
    }
   ],
   "source": [
    "cursor.execute('''SELECT id, AnimalDetector(data) FROM singlePic''')\n",
    "response = cursor.fetch_all()\n",
    "print(response)"
   ]
  },
  {
   "cell_type": "markdown",
   "id": "ab399938",
   "metadata": {},
   "source": []
  }
 ],
 "metadata": {
  "kernelspec": {
   "display_name": "Python 3.9.13 ('trapcls')",
   "language": "python",
   "name": "python3"
  },
  "language_info": {
   "codemirror_mode": {
    "name": "ipython",
    "version": 3
   },
   "file_extension": ".py",
   "mimetype": "text/x-python",
   "name": "python",
   "nbconvert_exporter": "python",
   "pygments_lexer": "ipython3",
   "version": "3.9.13"
  },
  "vscode": {
   "interpreter": {
    "hash": "405c22b8a4853426ea67783fda6139101f1d32aabf0d812321b308f2aa80d6ea"
   }
  }
 },
 "nbformat": 4,
 "nbformat_minor": 5
}
