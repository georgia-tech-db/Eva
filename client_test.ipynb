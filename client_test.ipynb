{
 "cells": [
  {
   "cell_type": "markdown",
   "id": "59e94e48",
   "metadata": {},
   "source": [
    "# Before running the following client side program: \n",
    "\n",
    "- first run \"eva_server\" in terminal with you python venv(i.e. test_eva_db you just created). \n",
    "\n",
    "- run this ipynb under the same python venv as that of server"
   ]
  },
  {
   "cell_type": "code",
   "execution_count": null,
   "id": "cf167789",
   "metadata": {},
   "outputs": [],
   "source": [
    "!wget -nc \"https://raw.githubusercontent.com/sashiko-345/eva/master/dog.jpg\"\n",
    "!wget -nc https://www.dropbox.com/s/k00wge9exwkfxz6/ua_detrac.mp4\n",
    "!wget \"https://raw.githubusercontent.com/sashiko-345/eva/master/eva/udfs/camera_trap_animal_detector.py\" \n",
    "!mv 'camera_trap_animal_detector.py' 'downloaded_camera_trap_animal_detector.py'\n",
    "\n",
    "!pip install timm\n"
   ]
  },
  {
   "cell_type": "code",
   "execution_count": 2,
   "id": "d5fc72bf",
   "metadata": {},
   "outputs": [],
   "source": [
    "# first run \"eva_server\" in terminal with you python venv(i.e. test_eva_db you just created)\n",
    "\n",
    "# run this ipynb under the same python venv as that of server\n",
    "\n",
    "# connect to server\n",
    "from eva.server.db_api import connect\n",
    "import nest_asyncio\n",
    "nest_asyncio.apply()\n",
    "connection = connect(host = '127.0.0.1', port = 5435)\n",
    "cursor = connection.cursor()"
   ]
  },
  {
   "cell_type": "code",
   "execution_count": 8,
   "id": "76e91852",
   "metadata": {},
   "outputs": [
    {
     "name": "stdout",
     "output_type": "stream",
     "text": [
      "@status: -1\n",
      "@batch: None\n",
      "@error: Failed to find a video file at location: dog.jpg\n"
     ]
    }
   ],
   "source": [
    "# load\n",
    "cursor.execute('LOAD FILE \"dog.jpg\" INTO singlePic;')\n",
    "response = cursor.fetch_all()\n",
    "print(response)"
   ]
  },
  {
   "cell_type": "code",
   "execution_count": null,
   "id": "20e5f32a",
   "metadata": {},
   "outputs": [],
   "source": [
    "# load\n",
    "cursor.execute('LOAD FILE \"ua_detrac.mp4\" INTO singleVid;')\n",
    "response = cursor.fetch_all()\n",
    "print(response)"
   ]
  },
  {
   "cell_type": "code",
   "execution_count": 3,
   "id": "cc0303d5",
   "metadata": {},
   "outputs": [
    {
     "name": "stdout",
     "output_type": "stream",
     "text": [
      "@status: 0\n",
      "@batch: Batch Object:\n",
      "@dataframe:                                          0\n",
      "0  UDF AnimalDetector successfully dropped\n",
      "@batch_size: 1\n",
      "@identifier_column: None\n",
      "@query_time: 0.01660633000000189\n"
     ]
    }
   ],
   "source": [
    "drop_udf_query = \"\"\"DROP UDF AnimalDetector;\n",
    "        \"\"\"\n",
    "cursor.execute(drop_udf_query)\n",
    "response = cursor.fetch_all()\n",
    "print(response)"
   ]
  },
  {
   "cell_type": "code",
   "execution_count": null,
   "id": "5327eceb",
   "metadata": {},
   "outputs": [],
   "source": [
    "import os\n",
    "udf_path = os.getcwd()\n",
    "udf_path += '/downloaded_camera_trap_animal_detector.py'\n",
    "create_udf_query = f\"\"\"CREATE UDF IF NOT EXISTS AnimalDetector\n",
    "                  INPUT  (frame NDARRAY UINT8(3, ANYDIM, ANYDIM))\n",
    "                  OUTPUT (labels NDARRAY STR(ANYDIM),\n",
    "                          scores NDARRAY FLOAT32(ANYDIM))\n",
    "                  TYPE  Classification\n",
    "                  IMPL  '{udf_path}';\n",
    "        \"\"\"\n",
    "# load\n",
    "cursor.execute(create_udf_query)\n",
    "response = cursor.fetch_all()\n",
    "print(response)"
   ]
  },
  {
   "cell_type": "code",
   "execution_count": 17,
   "id": "5683941c",
   "metadata": {},
   "outputs": [
    {
     "name": "stdout",
     "output_type": "stream",
     "text": [
      "@status: 0\n",
      "@batch: Batch Object:\n",
      "@dataframe:    singlevid.id animaldetector.labels animaldetector.scores\n",
      "0             0           [non_blank]  [0.9883119985000001]\n",
      "1             1           [non_blank]        [0.9384851195]\n",
      "2             2           [non_blank]  [0.9649098702000001]\n",
      "3             3           [non_blank]        [0.9768140875]\n",
      "4             4           [non_blank]  [0.9880527854000001]\n",
      "5             0           [non_blank]        [0.9906347571]\n",
      "6             1           [non_blank]        [0.9416899234]\n",
      "7             2           [non_blank]  [0.9451785050000001]\n",
      "8             3           [non_blank]  [0.9777551666000001]\n",
      "9             4           [non_blank]  [0.9823591486000001]\n",
      "@batch_size: 10\n",
      "@identifier_column: None\n",
      "@query_time: 173.39862757499986\n"
     ]
    }
   ],
   "source": [
    "# query dog with animal detector\n",
    "cursor.execute('''SELECT id, AnimalDetector(data) FROM singleVid WHERE id < 5 AND ['non_blank'] <@ AnimalDetector(data).labels''')\n",
    "response = cursor.fetch_all()\n",
    "print(response)\n",
    "# where id does not work for uploaded picture, only work for videos"
   ]
  },
  {
   "cell_type": "code",
   "execution_count": null,
   "id": "b4577f83",
   "metadata": {},
   "outputs": [],
   "source": [
    "cursor.execute('''SELECT id, AnimalDetector(data) FROM singleVid WHERE id < 1''')\n",
    "response = cursor.fetch_all()\n",
    "print(response)"
   ]
  },
  {
   "cell_type": "code",
   "execution_count": null,
   "id": "45b166d6",
   "metadata": {},
   "outputs": [],
   "source": []
  },
  {
   "cell_type": "markdown",
   "id": "ab399938",
   "metadata": {},
   "source": []
  }
 ],
 "metadata": {
  "kernelspec": {
   "display_name": "Python 3.9.13 ('trapcls')",
   "language": "python",
   "name": "python3"
  },
  "language_info": {
   "codemirror_mode": {
    "name": "ipython",
    "version": 3
   },
   "file_extension": ".py",
   "mimetype": "text/x-python",
   "name": "python",
   "nbconvert_exporter": "python",
   "pygments_lexer": "ipython3",
   "version": "3.9.13"
  },
  "vscode": {
   "interpreter": {
    "hash": "405c22b8a4853426ea67783fda6139101f1d32aabf0d812321b308f2aa80d6ea"
   }
  }
 },
 "nbformat": 4,
 "nbformat_minor": 5
}
